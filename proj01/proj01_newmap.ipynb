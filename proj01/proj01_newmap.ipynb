{
 "cells": [
  {
   "cell_type": "code",
   "execution_count": null,
   "id": "fcf787d9",
   "metadata": {},
   "outputs": [],
   "source": [
    "import numpy as np\n",
    "import pandas as pd\n",
    "import matplotlib.pyplot as plt\n",
    "import geopandas as gpd\n",
    "\n",
    "import ipywidgets as widgets\n",
    "from ipywidgets import interact, interactive, fixed, interact_manual\n",
    "import plotly.express as px\n",
    "import plotly.graph_objects as go"
   ]
  },
  {
   "cell_type": "code",
   "execution_count": null,
   "id": "0a77d6ce",
   "metadata": {},
   "outputs": [],
   "source": [
    "from urllib.request import urlopen\n",
    "import json\n",
    "with urlopen('https://raw.githubusercontent.com/plotly/datasets/master/geojson-counties-fips.json') as response:\n",
    "    counties = json.load(response)"
   ]
  },
  {
   "cell_type": "code",
   "execution_count": null,
   "id": "4d666f2e",
   "metadata": {},
   "outputs": [],
   "source": [
    "counties"
   ]
  },
  {
   "cell_type": "code",
   "execution_count": null,
   "id": "ce215ab5",
   "metadata": {},
   "outputs": [],
   "source": [
    "# load the data\n",
    "df = pd.read_csv(\"data/rgdp_county_allindustry.csv\")\n",
    "# converting GeoFIPS to string and fill with leading zeros to match the GitHUB data\n",
    "df['GeoFIPS'] = df['GeoFIPS'].astype(str).str.zfill(5) \n",
    "df.head()"
   ]
  },
  {
   "cell_type": "code",
   "execution_count": null,
   "id": "8077145a",
   "metadata": {},
   "outputs": [],
   "source": [
    "# calculate the percentage change\n",
    "df_pct_chg = df.copy()\n",
    "df_pct_chg = df_pct_chg.sort_values(by=['GeoFIPS', 'year']).reset_index(drop=True)\n",
    "df_pct_chg['pct_chg'] = df_pct_chg['value'].pct_change()*100\n",
    "df_pct_chg = df_pct_chg[df_pct_chg[year] != 2001].reset_index(drop=True)\n",
    "df_pct_chg.head()"
   ]
  },
  {
   "cell_type": "code",
   "execution_count": null,
   "id": "2b4defd9",
   "metadata": {},
   "outputs": [],
   "source": [
    "df_pct_chg2019 = df_pct_chg[df_pct_chg['year'] == 2019].reset_index(drop=True)"
   ]
  },
  {
   "cell_type": "code",
   "execution_count": null,
   "id": "e1221430",
   "metadata": {},
   "outputs": [],
   "source": [
    "fig = px.choropleth_mapbox(df_pct_chg2019, geojson=counties, locations='GeoFIPS', color='pct_chg',\n",
    "                           color_continuous_scale=\"RdBu_r\",\n",
    "                           range_color=(0, 12),\n",
    "                           mapbox_style=\"carto-positron\",\n",
    "                           zoom=3, center = {\"lat\": 37.0902, \"lon\": -95.7129},\n",
    "                           opacity=0.5,\n",
    "                           labels={'pct_chg':'change in GDP (%)'}\n",
    "                          )\n",
    "fig.update_layout(margin={\"r\":0,\"t\":0,\"l\":0,\"b\":0})\n",
    "fig.show()"
   ]
  },
  {
   "cell_type": "code",
   "execution_count": null,
   "id": "7da63356",
   "metadata": {},
   "outputs": [],
   "source": [
    "# Create a list of dictionaries, each representing a different year's data\n",
    "data = []\n",
    "for year in df_pct_chg['year'].unique():\n",
    "    data.append(\n",
    "        dict(\n",
    "            args=['visible', [False]*len(df_pct_chg['year'].unique())],\n",
    "            label=str(year),\n",
    "            method='update'\n",
    "        )\n",
    "    )\n",
    "\n",
    "# Update the visibility for each year\n",
    "for i in range(len(data)):\n",
    "    year = data[i]['label']\n",
    "    data[i]['args'][1][i] = True  # Toggle i'th trace to \"visible\"\n",
    "\n",
    "# Create the figure with a dropdown menu\n",
    "fig = go.Figure()\n",
    "\n",
    "for year in df_pct_chg['year'].unique():\n",
    "    fig.add_trace(\n",
    "        go.Choroplethmapbox(\n",
    "            geojson=counties,\n",
    "            locations=df_pct_chg[df_pct_chg['year'] == year]['GeoFIPS'],\n",
    "            z=df_pct_chg[df_pct_chg['year'] == year]['pct_chg'],\n",
    "            colorscale=\"Viridis\",\n",
    "            zmin=0,\n",
    "            zmax=12,\n",
    "            marker_opacity=0.5,\n",
    "            marker_line_width=0,\n",
    "        )\n",
    "    )\n",
    "\n",
    "fig.update_layout(\n",
    "    updatemenus=[\n",
    "        dict(\n",
    "            buttons=list(data),\n",
    "            direction=\"down\",\n",
    "            pad={\"r\": 10, \"t\": 10},\n",
    "            showactive=True,\n",
    "            x=0.1,\n",
    "            xanchor=\"left\",\n",
    "            y=1.1,\n",
    "            yanchor=\"top\"\n",
    "        ),\n",
    "    ]\n",
    ")\n",
    "\n",
    "fig.update_layout(mapbox_style=\"carto-positron\", mapbox_zoom=3, mapbox_center = {\"lat\": 37.0902, \"lon\": -95.7129})\n",
    "fig.update_layout(margin={\"r\":0,\"t\":0,\"l\":0,\"b\":0})\n",
    "fig.show()"
   ]
  },
  {
   "cell_type": "code",
   "execution_count": null,
   "id": "9810cc64",
   "metadata": {},
   "outputs": [],
   "source": [
    "# Create a list of dictionaries, each representing a different year's data\n",
    "MIN = np.nanpercentile(df_pct_chg[\"pct_chg\"], 10)\n",
    "MAX = np.nanpercentile(df_pct_chg[\"pct_chg\"], 90)\n",
    "data = []\n",
    "for i, year in enumerate(df_pct_chg['year'].unique()):\n",
    "    visible = [False]*len(df_pct_chg['year'].unique())\n",
    "    visible[i] = True\n",
    "    data.append(\n",
    "        dict(\n",
    "            args=[{'visible': visible}],\n",
    "            label=str(year),\n",
    "            method='update'\n",
    "        )\n",
    "    )\n",
    "\n",
    "# Create the figure with a dropdown menu\n",
    "fig = go.Figure()\n",
    "\n",
    "for year in df_pct_chg['year'].unique():\n",
    "    fig.add_trace(\n",
    "        go.Choroplethmapbox(\n",
    "            geojson=counties,\n",
    "            locations=df_pct_chg[df_pct_chg['year'] == year]['GeoFIPS'],\n",
    "            z=df_pct_chg[df_pct_chg['year'] == year]['pct_chg'],\n",
    "            colorscale=\"Viridis\",\n",
    "            zmin=MIN,\n",
    "            zmax=MAX,\n",
    "            marker_opacity=0.5,\n",
    "            marker_line_width=0,\n",
    "            visible = True if i == 0 else False\n",
    "        )\n",
    "    )\n",
    "\n",
    "fig.update_layout(\n",
    "    updatemenus=[\n",
    "        dict(\n",
    "            buttons=list(data),\n",
    "            direction=\"down\",\n",
    "            pad={\"r\": 10, \"t\": 10},\n",
    "            showactive=True,\n",
    "            x=0.1,\n",
    "            xanchor=\"right\",\n",
    "            y=1.1,\n",
    "            yanchor=\"top\"\n",
    "        ),\n",
    "    ],\n",
    "    autosize=False,\n",
    "    width=1000,\n",
    "    height=800\n",
    ")\n",
    "\n",
    "fig.update_layout(mapbox_style=\"carto-positron\", mapbox_zoom=3, mapbox_center = {\"lat\": 37.0902, \"lon\": -95.7129})\n",
    "fig.update_layout(margin={\"r\":0,\"t\":0,\"l\":0,\"b\":0})\n",
    "fig.show()"
   ]
  }
 ],
 "metadata": {
  "kernelspec": {
   "display_name": "Python 3 (ipykernel)",
   "language": "python",
   "name": "python3"
  },
  "language_info": {
   "codemirror_mode": {
    "name": "ipython",
    "version": 3
   },
   "file_extension": ".py",
   "mimetype": "text/x-python",
   "name": "python",
   "nbconvert_exporter": "python",
   "pygments_lexer": "ipython3",
   "version": "3.1.0"
  },
  "otter": {
   "OK_FORMAT": true,
   "export_pdf_failure_message": "PDF did not generate, please submit screenshots for questions 2.3, 2.4, 3.1, 7.2, 9.1 and 9.2",
   "require_no_pdf_confirmation": true,
   "tests": {
    "q10": {
     "name": "q10",
     "points": null,
     "suites": [
      {
       "cases": [
        {
         "code": ">>> assert sum([ord(c) for c in codeword]) ^ 966984 == 966771\n",
         "hidden": false,
         "locked": false
        }
       ],
       "scored": true,
       "setup": "",
       "teardown": "",
       "type": "doctest"
      }
     ]
    },
    "q1_1": {
     "name": "q1_1",
     "points": null,
     "suites": [
      {
       "cases": [
        {
         "code": ">>> assert rgdp_raw.shape == (47674, 29)\n",
         "hidden": false,
         "locked": false
        }
       ],
       "scored": true,
       "setup": "",
       "teardown": "",
       "type": "doctest"
      }
     ]
    },
    "q1_2": {
     "name": "q1_2",
     "points": null,
     "suites": [
      {
       "cases": [
        {
         "code": ">>> assert rgdp.shape == (47670, 29)\n",
         "hidden": false,
         "locked": false
        },
        {
         "code": ">>> assert rgdp.iloc[-1]['GeoName'] != np.nan\n",
         "hidden": false,
         "locked": false
        },
        {
         "code": ">>> assert '98000' in rgdp.iloc[-1]['GeoFIPS']\n",
         "hidden": false,
         "locked": false
        }
       ],
       "scored": true,
       "setup": "",
       "teardown": "",
       "type": "doctest"
      }
     ]
    },
    "q2_1": {
     "name": "q2_1",
     "points": null,
     "suites": [
      {
       "cases": [
        {
         "code": ">>> assert isinstance(N_rows, int) and N_rows > 0\n",
         "hidden": false,
         "locked": false,
         "points": 0
        },
        {
         "code": ">>> assert isinstance(N_cols, int) and N_cols > 0\n",
         "hidden": false,
         "locked": false,
         "points": 0
        }
       ],
       "scored": true,
       "setup": "",
       "teardown": "",
       "type": "doctest"
      }
     ]
    },
    "q2_2": {
     "name": "q2_2",
     "points": null,
     "suites": [
      {
       "cases": [
        {
         "code": ">>> assert 100 < N_unique_geofips < 10000\n",
         "hidden": false,
         "locked": false,
         "points": 0
        }
       ],
       "scored": true,
       "setup": "",
       "teardown": "",
       "type": "doctest"
      }
     ]
    },
    "q3_2": {
     "name": "q3_2",
     "points": null,
     "suites": [
      {
       "cases": [
        {
         "code": ">>> assert rgdp_no_nans.shape == (34206, 29)\n",
         "hidden": false,
         "locked": false
        },
        {
         "code": ">>> assert not rgdp_no_nans.isnull().values.any()\n",
         "failure_message": "The dataframe should not contain any NaNs.",
         "hidden": false,
         "locked": false
        },
        {
         "code": ">>> assert not '(D)' in rgdp_no_nans.values\n",
         "failure_message": "The dataframe should not contain any \"(D)\"s.",
         "hidden": false,
         "locked": false
        },
        {
         "code": ">>> assert not '(NA)' in rgdp_no_nans.values\n",
         "failure_message": "The dataframe should not contain any \"(NA)\"s.",
         "hidden": false,
         "locked": false
        }
       ],
       "scored": true,
       "setup": "",
       "teardown": "",
       "type": "doctest"
      }
     ]
    },
    "q4_1": {
     "name": "q4_1",
     "points": null,
     "suites": [
      {
       "cases": [
        {
         "code": ">>> assert np.all([rgdp_clean[str(year)].dtype == 'int64' for year in np.arange(2001, 2022)])\n",
         "hidden": false,
         "locked": false
        }
       ],
       "scored": true,
       "setup": "",
       "teardown": "",
       "type": "doctest"
      }
     ]
    },
    "q4_2": {
     "name": "q4_2",
     "points": null,
     "suites": [
      {
       "cases": [
        {
         "code": ">>> assert no_quotation_marks == 'UC Berkeley is the No.1 university in California.'\n",
         "hidden": false,
         "locked": false
        }
       ],
       "scored": true,
       "setup": "",
       "teardown": "",
       "type": "doctest"
      }
     ]
    },
    "q4_3": {
     "name": "q4_3",
     "points": null,
     "suites": [
      {
       "cases": [
        {
         "code": ">>> assert rgdp_clean['GeoFIPS'].dtypes == 'int64'\n",
         "hidden": false,
         "locked": false
        },
        {
         "code": ">>> assert np.isclose(len(rgdp_clean['GeoFIPS'].unique()), 3166)\n",
         "hidden": false,
         "locked": false
        }
       ],
       "scored": true,
       "setup": "",
       "teardown": "",
       "type": "doctest"
      }
     ]
    },
    "q5_1": {
     "name": "q5_1",
     "points": 3,
     "suites": [
      {
       "cases": [
        {
         "code": ">>> assert rgdp_melted.shape == (718326, 7)\n",
         "hidden": false,
         "locked": false
        },
        {
         "code": ">>> assert np.all(rgdp_melted.columns == ['GeoFIPS', 'GeoName', 'Region', 'LineCode', 'Description', 'year', 'value'])\n",
         "hidden": false,
         "locked": false
        },
        {
         "code": ">>> assert np.isclose(rgdp_melted[(rgdp_melted['year'] == '2001') & (rgdp_melted['GeoFIPS'] == 0) & (rgdp_melted['LineCode'] == 1)]['value'].iloc[0], 13263417000)\n",
         "hidden": false,
         "locked": false
        }
       ],
       "scored": true,
       "setup": "",
       "teardown": "",
       "type": "doctest"
      }
     ]
    },
    "q5_2": {
     "name": "q5_2",
     "points": null,
     "suites": [
      {
       "cases": [
        {
         "code": ">>> assert rgdp_melted['year'].dtype == 'int64'\n",
         "hidden": false,
         "locked": false
        }
       ],
       "scored": true,
       "setup": "",
       "teardown": "",
       "type": "doctest"
      }
     ]
    },
    "q5_3": {
     "name": "q5_3",
     "points": null,
     "suites": [
      {
       "cases": [
        {
         "code": ">>> assert rgdp_county.shape == (699426, 7)\n",
         "hidden": false,
         "locked": false
        },
        {
         "code": ">>> assert np.all(rgdp_county.columns == ['GeoFIPS', 'GeoName', 'Region', 'LineCode', 'Description', 'year', 'value'])\n",
         "hidden": false,
         "locked": false
        },
        {
         "code": ">>> assert np.isclose(rgdp_county[(rgdp_county['year'] == 2020) & (rgdp_county['GeoFIPS'] == 56045)]['value'].iloc[0], 292568)\n",
         "hidden": false,
         "locked": false
        }
       ],
       "scored": true,
       "setup": "",
       "teardown": "",
       "type": "doctest"
      }
     ]
    },
    "q5_4": {
     "name": "q5_4",
     "points": null,
     "suites": [
      {
       "cases": [
        {
         "code": ">>> assert rgdp_county_allindustry.shape == (65226, 6)\n",
         "hidden": false,
         "locked": false
        },
        {
         "code": ">>> assert np.all(rgdp_county_allindustry.columns == ['GeoFIPS', 'GeoName', 'Region', 'LineCode', 'year', 'value'])\n",
         "hidden": false,
         "locked": false
        },
        {
         "code": ">>> assert np.min(rgdp_county_allindustry['LineCode']) == np.max(rgdp_county_allindustry['LineCode'])\n",
         "hidden": false,
         "locked": false
        },
        {
         "code": ">>> assert np.isclose(rgdp_county_allindustry[(rgdp_county_allindustry['year'] == 2020) & (rgdp_county_allindustry['GeoFIPS'] == 56045)]['value'].iloc[0], 292568)\n",
         "hidden": false,
         "locked": false
        }
       ],
       "scored": true,
       "setup": "",
       "teardown": "",
       "type": "doctest"
      }
     ]
    },
    "q6_1": {
     "name": "q6_1",
     "points": null,
     "suites": [
      {
       "cases": [
        {
         "code": ">>> assert rgdp_county_allindustry_mean.shape == (21, 2)\n",
         "hidden": false,
         "locked": false,
         "points": 0
        },
        {
         "code": ">>> assert np.all(rgdp_county_allindustry_mean.columns == ['year', 'value'])\n",
         "hidden": false,
         "locked": false,
         "points": 0
        }
       ],
       "scored": true,
       "setup": "",
       "teardown": "",
       "type": "doctest"
      }
     ]
    },
    "q6_2": {
     "name": "q6_2",
     "points": null,
     "suites": [
      {
       "cases": [
        {
         "code": ">>> assert rgdp_county_allindustry_median.shape == (21, 2)\n",
         "hidden": false,
         "locked": false,
         "points": 0
        },
        {
         "code": ">>> assert np.all(rgdp_county_allindustry_median.columns == ['year', 'value'])\n",
         "hidden": false,
         "locked": false,
         "points": 0
        }
       ],
       "scored": true,
       "setup": "",
       "teardown": "",
       "type": "doctest"
      }
     ]
    },
    "q7_1": {
     "name": "q7_1",
     "points": null,
     "suites": [
      {
       "cases": [
        {
         "code": ">>> assert rgdp_far_west_pct_chg.shape == (20, 2)\n",
         "hidden": false,
         "locked": false
        },
        {
         "code": ">>> assert np.all(~rgdp_far_west_pct_chg['value'].isnull())\n",
         "hidden": false,
         "locked": false
        },
        {
         "code": ">>> assert rgdp_far_west_pct_chg['value'].iloc[0] < 1\n",
         "hidden": false,
         "locked": false,
         "points": 0
        }
       ],
       "scored": true,
       "setup": "",
       "teardown": "",
       "type": "doctest"
      }
     ]
    },
    "q8_1": {
     "name": "q8_1",
     "points": null,
     "suites": [
      {
       "cases": [
        {
         "code": ">>> assert county_geo.shape == (3143, 4)\n",
         "hidden": false,
         "locked": false
        },
        {
         "code": ">>> assert np.all(county_geo.columns == ['county_fips', 'lat', 'lng', 'population'])\n",
         "hidden": false,
         "locked": false
        },
        {
         "code": ">>> assert county_geo[county_geo['county_fips'] == 17031]['lat'].iloc[0] == 41.8401\n",
         "hidden": false,
         "locked": false
        }
       ],
       "scored": true,
       "setup": "",
       "teardown": "",
       "type": "doctest"
      }
     ]
    },
    "q8_2": {
     "name": "q8_2",
     "points": null,
     "suites": [
      {
       "cases": [
        {
         "code": ">>> assert rgdp_county_allindustry_geo.shape == (64722, 10)\n",
         "hidden": false,
         "locked": false
        },
        {
         "code": ">>> assert np.all([c in rgdp_county_allindustry_geo.columns for c in ['GeoFIPS', 'GeoName', 'Region', 'LineCode', 'year', 'value', 'county_fips', 'lat', 'lng', 'population']])\n",
         "hidden": false,
         "locked": false
        }
       ],
       "scored": true,
       "setup": "",
       "teardown": "",
       "type": "doctest"
      }
     ]
    }
   }
  }
 },
 "nbformat": 4,
 "nbformat_minor": 5
}
