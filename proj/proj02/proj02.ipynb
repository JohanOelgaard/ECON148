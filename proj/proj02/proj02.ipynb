{
 "cells": [
  {
   "cell_type": "code",
   "execution_count": 1,
   "metadata": {
    "deletable": false,
    "editable": false
   },
   "outputs": [],
   "source": [
    "# Initialize Otter\n",
    "import otter\n",
    "grader = otter.Notebook(\"proj02.ipynb\")"
   ]
  },
  {
   "cell_type": "code",
   "execution_count": 2,
   "metadata": {},
   "outputs": [
    {
     "name": "stderr",
     "output_type": "stream",
     "text": [
      "/var/folders/xq/jj9f32cx52552gn0slvhzlrm0000gn/T/ipykernel_82422/3121195498.py:6: MatplotlibDeprecationWarning: The seaborn styles shipped by Matplotlib are deprecated since 3.6, as they no longer correspond to the styles shipped by seaborn. However, they will remain available as 'seaborn-v0_8-<style>'. Alternatively, directly use the seaborn API instead.\n",
      "  plt.style.use(\"seaborn-muted\")\n"
     ]
    }
   ],
   "source": [
    "from utils import *\n",
    "import numpy as np\n",
    "import pandas as pd\n",
    "import matplotlib.pyplot as plt\n",
    "%matplotlib inline\n",
    "plt.style.use(\"seaborn-muted\")\n",
    "import statsmodels.api as sm"
   ]
  },
  {
   "cell_type": "markdown",
   "metadata": {},
   "source": [
    "# Project 2: Mariel Boatlift\n",
    "In this project, we attempt to replicate a famous paper *The Impact of the Mariel Boatlift on the Miami Labor Market* by Prof. David Card on the effects of the Mariel Boatlift on the Miami labor market. "
   ]
  },
  {
   "cell_type": "markdown",
   "metadata": {},
   "source": [
    "#### Historical Background\n",
    "Amidst an economic downturn in Cuba, an increasing number of dissident Cubans were looking to leave the country and seek asylum. In response, on April 20, 1980, Cuban President Fidel Castro announced that any Cuban who wished to leave the island could do so, reversing the communist regime’s closed emigration policy. Between April and October 1980, some 1,700 boats, many arranged by Cuban exiles already in the United States, carried Cubans from the port of Mariel (the departure zone designated by the Cuban government) to Florida. \n",
    "\n",
    "In response, President Jimmy Carter declared temporarily a state of emergency in affected areas. On June 20, he established the Cuban-Haitian Entrant Program (CHEP), granting temporary status, access to asylum processing and community assistance for both Cubans and Haitians fleeing to the United States. Hundreds of Cubans arrived in Florida daily. The CHEP coverage window ended after the Carter administration negotiated an end to the boatlifts with the Cuban government in October 1980. ([Source](https://immigrationhistory.org/item/mariel-boatlift/))\n",
    "\n",
    "#### Economic Impact\n",
    "About half of the Mariel immigrants decided to live in Miami permanently, which resulted in \"a 7\\% increase in the labor force of Miami and a 20\\% increase in the number of Cuban workers in Miami\" ([Card (1990)](https://davidcard.berkeley.edu/papers/mariel-impact.pdf)). Aside from the unemployment rate rising from 5.0\\% in April 1980 to 7.1\\% in July, the actual damage to the economy was marginal and followed trends across the United States at the time. When observing data from 1979 to 1985 on the Miami labor market and comparing it with similar data from several other major cities across the United States, focusing on wages, the effects of the boatlift were marginal ([Alejandro and Leif (1989)](https://www.jstor.org/stable/2095716)). \n",
    "\n",
    "#### Research Approach\n",
    "Since immigrants have the freedom to choose their destinations (and will naturally choose those places with strong labor markets), it is normally not enough to simply look at places with more immigrants to determine causal effects on the local labor market. However, Card argued that with the Mariel Boatlift, the arrival of immigrants had very little to do with the local labor market of that place. Here is his argument:\n",
    "\n",
    "> The experiences of the Miami labor market in the aftermath of the Mariel Boatlift form one such \\[\"natural\"\\] experiment. From May to September 1980, some 125,000 Cuban immigrants arrived in Miami on a flotilla of privately chartered boats. Their arrival was the consequence of an unlikely sequence of events culminating in Castro's declaration on April 20, 1980, that Cubans wishing to emigrate to the United States were free to leave from the port of Mariel. Fifty percent of the Mariel immigrants settled permanently in Miami. The result was a 7% increase in the labor force of Miami and a 20% increase in the number of Cuban workers in Miami. (Card, 1990:245-6)\n",
    "\n",
    "Professor David Card received the Nobel Prize in Economics \"for his empirical contributions to labour economics\", including this paper among others. He delivered his [prize-winning lecture](https://youtu.be/wD48p6m8U-8?t=237) (talking about this topic, among others) on 8 December 2021.\n",
    "\n",
    "**Reading:** You should download a copy of the original paper and read at least pages 245-251 and pages 255-257. It is available [here](http://davidcard.berkeley.edu/papers/mariel-impact.pdf)."
   ]
  },
  {
   "cell_type": "markdown",
   "metadata": {},
   "source": [
    "### References\n",
    "\n",
    "This notebook is based on another assignment by [Prof. Josh Goldstein](https://courses.demog.berkeley.edu/goldstein175)."
   ]
  },
  {
   "cell_type": "markdown",
   "metadata": {},
   "source": [
    "**A Note on Grading:**  \n",
    "In Project 2, the autograded questions will have hidden tests, and the text-based free response questions will be graded on correctness. "
   ]
  },
  {
   "cell_type": "markdown",
   "metadata": {
    "tags": [
     "ignore"
    ]
   },
   "source": [
    "---\n",
    "## Part 1: CPS Data\n",
    "\n",
    "First, we will load in data from the Current Population Survey (CPS). The CPS \"outgoing rotation groups\" that we are using for the analysis is the largest sample available for this time period. Still, once we limit ourselves to Miami and the comparison cities, the sample sizes are still small. "
   ]
  },
  {
   "cell_type": "code",
   "execution_count": 3,
   "metadata": {
    "scrolled": true
   },
   "outputs": [
    {
     "data": {
      "text/html": [
       "<div>\n",
       "<style scoped>\n",
       "    .dataframe tbody tr th:only-of-type {\n",
       "        vertical-align: middle;\n",
       "    }\n",
       "\n",
       "    .dataframe tbody tr th {\n",
       "        vertical-align: top;\n",
       "    }\n",
       "\n",
       "    .dataframe thead th {\n",
       "        text-align: right;\n",
       "    }\n",
       "</style>\n",
       "<table border=\"1\" class=\"dataframe\">\n",
       "  <thead>\n",
       "    <tr style=\"text-align: right;\">\n",
       "      <th></th>\n",
       "      <th>.id</th>\n",
       "      <th>age</th>\n",
       "      <th>smsarank</th>\n",
       "      <th>esr</th>\n",
       "      <th>ftpt79</th>\n",
       "      <th>earnhre</th>\n",
       "      <th>educ</th>\n",
       "      <th>ethrace</th>\n",
       "    </tr>\n",
       "  </thead>\n",
       "  <tbody>\n",
       "    <tr>\n",
       "      <th>0</th>\n",
       "      <td>1</td>\n",
       "      <td>71</td>\n",
       "      <td>Los Angeles</td>\n",
       "      <td>Housework</td>\n",
       "      <td>Not In Labor Force</td>\n",
       "      <td>NaN</td>\n",
       "      <td>lessHS</td>\n",
       "      <td>whites</td>\n",
       "    </tr>\n",
       "    <tr>\n",
       "      <th>1</th>\n",
       "      <td>1</td>\n",
       "      <td>71</td>\n",
       "      <td>Los Angeles</td>\n",
       "      <td>Housework</td>\n",
       "      <td>Not In Labor Force</td>\n",
       "      <td>NaN</td>\n",
       "      <td>lessHS</td>\n",
       "      <td>whites</td>\n",
       "    </tr>\n",
       "    <tr>\n",
       "      <th>2</th>\n",
       "      <td>1</td>\n",
       "      <td>73</td>\n",
       "      <td>Los Angeles</td>\n",
       "      <td>Other (Includes Retired)</td>\n",
       "      <td>Not In Labor Force</td>\n",
       "      <td>NaN</td>\n",
       "      <td>HS</td>\n",
       "      <td>whites</td>\n",
       "    </tr>\n",
       "    <tr>\n",
       "      <th>3</th>\n",
       "      <td>1</td>\n",
       "      <td>56</td>\n",
       "      <td>Los Angeles</td>\n",
       "      <td>Employed-At Work</td>\n",
       "      <td>Employed full-time</td>\n",
       "      <td>700.0</td>\n",
       "      <td>HS</td>\n",
       "      <td>whites</td>\n",
       "    </tr>\n",
       "    <tr>\n",
       "      <th>4</th>\n",
       "      <td>1</td>\n",
       "      <td>87</td>\n",
       "      <td>Los Angeles</td>\n",
       "      <td>Other (Includes Retired)</td>\n",
       "      <td>Not In Labor Force</td>\n",
       "      <td>NaN</td>\n",
       "      <td>lessHS</td>\n",
       "      <td>whites</td>\n",
       "    </tr>\n",
       "  </tbody>\n",
       "</table>\n",
       "</div>"
      ],
      "text/plain": [
       "   .id  age     smsarank                       esr              ftpt79  \\\n",
       "0    1   71  Los Angeles                 Housework  Not In Labor Force   \n",
       "1    1   71  Los Angeles                 Housework  Not In Labor Force   \n",
       "2    1   73  Los Angeles  Other (Includes Retired)  Not In Labor Force   \n",
       "3    1   56  Los Angeles          Employed-At Work  Employed full-time   \n",
       "4    1   87  Los Angeles  Other (Includes Retired)  Not In Labor Force   \n",
       "\n",
       "   earnhre    educ ethrace  \n",
       "0      NaN  lessHS  whites  \n",
       "1      NaN  lessHS  whites  \n",
       "2      NaN      HS  whites  \n",
       "3    700.0      HS  whites  \n",
       "4      NaN  lessHS  whites  "
      ]
     },
     "execution_count": 3,
     "metadata": {},
     "output_type": "execute_result"
    }
   ],
   "source": [
    "mariel_raw = pd.read_csv(\"mariel-boatlift.csv\")\n",
    "mariel_raw.head(5)"
   ]
  },
  {
   "cell_type": "markdown",
   "metadata": {
    "tags": [
     "ignore"
    ]
   },
   "source": [
    "The columns of our table have some odd names. We provide descriptions of the variables of interest below."
   ]
  },
  {
   "cell_type": "markdown",
   "metadata": {
    "tags": [
     "ignore"
    ]
   },
   "source": [
    "| Column Name | Description |\n",
    "|-----|-----|\n",
    "| age | Age of individual |\n",
    "| smsarank | City |\n",
    "| esr | Employment status |\n",
    "| ftpt79 | Full-time or part-time |\n",
    "| earnhre | Nominal hourly pay in cents |\n",
    "| educ | Level of education (BA, HS diploma, or < HS) |\n",
    "| ethrace | Race & ethnicity |"
   ]
  },
  {
   "cell_type": "markdown",
   "metadata": {
    "tags": [
     "ignore"
    ]
   },
   "source": [
    "Before moving onto the analysis of the data, there is a tiny bit of data cleaning that needs to be done. The data currently have a `.id` column, which encodes the year. However, these values range from 1 to 7, so to get the actual years, we need to add 1978 to each."
   ]
  },
  {
   "cell_type": "markdown",
   "metadata": {
    "deletable": false,
    "editable": false
   },
   "source": [
    "**Question 1.1:** Add 1978 to each value in the `.id` column of `mariel_raw`. Create a new table `mariel` with the same columns as `mariel_raw` but with a `year` column and no `.id` column.\n",
    "\n",
    "The resulting `mariel` dataframe should look like the following:\n",
    "\n",
    "| age | smsarank | esr | ftpt79 | earnhre | educ | ethrace | year |\n",
    "| ----- | ----- | ----- | ----- | ----- | ----- | ----- | ----- |\n",
    "| 71 | Los Angeles | Housework | Not In Labor Force | NaN | lessHS | whites | 1979 |\n",
    "|  |  |  |  |  |  |  | ... (rows omitted) |"
   ]
  },
  {
   "cell_type": "code",
   "execution_count": 4,
   "metadata": {
    "tags": []
   },
   "outputs": [
    {
     "data": {
      "text/html": [
       "<div>\n",
       "<style scoped>\n",
       "    .dataframe tbody tr th:only-of-type {\n",
       "        vertical-align: middle;\n",
       "    }\n",
       "\n",
       "    .dataframe tbody tr th {\n",
       "        vertical-align: top;\n",
       "    }\n",
       "\n",
       "    .dataframe thead th {\n",
       "        text-align: right;\n",
       "    }\n",
       "</style>\n",
       "<table border=\"1\" class=\"dataframe\">\n",
       "  <thead>\n",
       "    <tr style=\"text-align: right;\">\n",
       "      <th></th>\n",
       "      <th>age</th>\n",
       "      <th>smsarank</th>\n",
       "      <th>esr</th>\n",
       "      <th>ftpt79</th>\n",
       "      <th>earnhre</th>\n",
       "      <th>educ</th>\n",
       "      <th>ethrace</th>\n",
       "      <th>year</th>\n",
       "    </tr>\n",
       "  </thead>\n",
       "  <tbody>\n",
       "    <tr>\n",
       "      <th>0</th>\n",
       "      <td>71</td>\n",
       "      <td>Los Angeles</td>\n",
       "      <td>Housework</td>\n",
       "      <td>Not In Labor Force</td>\n",
       "      <td>NaN</td>\n",
       "      <td>lessHS</td>\n",
       "      <td>whites</td>\n",
       "      <td>1979</td>\n",
       "    </tr>\n",
       "    <tr>\n",
       "      <th>1</th>\n",
       "      <td>71</td>\n",
       "      <td>Los Angeles</td>\n",
       "      <td>Housework</td>\n",
       "      <td>Not In Labor Force</td>\n",
       "      <td>NaN</td>\n",
       "      <td>lessHS</td>\n",
       "      <td>whites</td>\n",
       "      <td>1979</td>\n",
       "    </tr>\n",
       "    <tr>\n",
       "      <th>2</th>\n",
       "      <td>73</td>\n",
       "      <td>Los Angeles</td>\n",
       "      <td>Other (Includes Retired)</td>\n",
       "      <td>Not In Labor Force</td>\n",
       "      <td>NaN</td>\n",
       "      <td>HS</td>\n",
       "      <td>whites</td>\n",
       "      <td>1979</td>\n",
       "    </tr>\n",
       "    <tr>\n",
       "      <th>3</th>\n",
       "      <td>56</td>\n",
       "      <td>Los Angeles</td>\n",
       "      <td>Employed-At Work</td>\n",
       "      <td>Employed full-time</td>\n",
       "      <td>700.0</td>\n",
       "      <td>HS</td>\n",
       "      <td>whites</td>\n",
       "      <td>1979</td>\n",
       "    </tr>\n",
       "    <tr>\n",
       "      <th>4</th>\n",
       "      <td>87</td>\n",
       "      <td>Los Angeles</td>\n",
       "      <td>Other (Includes Retired)</td>\n",
       "      <td>Not In Labor Force</td>\n",
       "      <td>NaN</td>\n",
       "      <td>lessHS</td>\n",
       "      <td>whites</td>\n",
       "      <td>1979</td>\n",
       "    </tr>\n",
       "    <tr>\n",
       "      <th>...</th>\n",
       "      <td>...</td>\n",
       "      <td>...</td>\n",
       "      <td>...</td>\n",
       "      <td>...</td>\n",
       "      <td>...</td>\n",
       "      <td>...</td>\n",
       "      <td>...</td>\n",
       "      <td>...</td>\n",
       "    </tr>\n",
       "    <tr>\n",
       "      <th>121473</th>\n",
       "      <td>23</td>\n",
       "      <td>Atlanta</td>\n",
       "      <td>Housework</td>\n",
       "      <td>Not In Labor Force</td>\n",
       "      <td>NaN</td>\n",
       "      <td>HS</td>\n",
       "      <td>whites</td>\n",
       "      <td>1985</td>\n",
       "    </tr>\n",
       "    <tr>\n",
       "      <th>121474</th>\n",
       "      <td>24</td>\n",
       "      <td>Atlanta</td>\n",
       "      <td>Employed-At Work</td>\n",
       "      <td>Employed full-time</td>\n",
       "      <td>650.0</td>\n",
       "      <td>lessHS</td>\n",
       "      <td>whites</td>\n",
       "      <td>1985</td>\n",
       "    </tr>\n",
       "    <tr>\n",
       "      <th>121475</th>\n",
       "      <td>21</td>\n",
       "      <td>Atlanta</td>\n",
       "      <td>Unemployed-Looking</td>\n",
       "      <td>Unemployed PT</td>\n",
       "      <td>NaN</td>\n",
       "      <td>HS</td>\n",
       "      <td>whites</td>\n",
       "      <td>1985</td>\n",
       "    </tr>\n",
       "    <tr>\n",
       "      <th>121476</th>\n",
       "      <td>42</td>\n",
       "      <td>Atlanta</td>\n",
       "      <td>Employed-At Work</td>\n",
       "      <td>Part-time For Economic Reasons</td>\n",
       "      <td>350.0</td>\n",
       "      <td>lessHS</td>\n",
       "      <td>whites</td>\n",
       "      <td>1985</td>\n",
       "    </tr>\n",
       "    <tr>\n",
       "      <th>121477</th>\n",
       "      <td>17</td>\n",
       "      <td>Atlanta</td>\n",
       "      <td>Employed-At Work</td>\n",
       "      <td>Part-time For Economic Reasons</td>\n",
       "      <td>340.0</td>\n",
       "      <td>HS</td>\n",
       "      <td>whites</td>\n",
       "      <td>1985</td>\n",
       "    </tr>\n",
       "  </tbody>\n",
       "</table>\n",
       "<p>121478 rows × 8 columns</p>\n",
       "</div>"
      ],
      "text/plain": [
       "        age     smsarank                       esr  \\\n",
       "0        71  Los Angeles                 Housework   \n",
       "1        71  Los Angeles                 Housework   \n",
       "2        73  Los Angeles  Other (Includes Retired)   \n",
       "3        56  Los Angeles          Employed-At Work   \n",
       "4        87  Los Angeles  Other (Includes Retired)   \n",
       "...     ...          ...                       ...   \n",
       "121473   23      Atlanta                 Housework   \n",
       "121474   24      Atlanta          Employed-At Work   \n",
       "121475   21      Atlanta        Unemployed-Looking   \n",
       "121476   42      Atlanta          Employed-At Work   \n",
       "121477   17      Atlanta          Employed-At Work   \n",
       "\n",
       "                                ftpt79  earnhre    educ ethrace  year  \n",
       "0                   Not In Labor Force      NaN  lessHS  whites  1979  \n",
       "1                   Not In Labor Force      NaN  lessHS  whites  1979  \n",
       "2                   Not In Labor Force      NaN      HS  whites  1979  \n",
       "3                   Employed full-time    700.0      HS  whites  1979  \n",
       "4                   Not In Labor Force      NaN  lessHS  whites  1979  \n",
       "...                                ...      ...     ...     ...   ...  \n",
       "121473              Not In Labor Force      NaN      HS  whites  1985  \n",
       "121474              Employed full-time    650.0  lessHS  whites  1985  \n",
       "121475                   Unemployed PT      NaN      HS  whites  1985  \n",
       "121476  Part-time For Economic Reasons    350.0  lessHS  whites  1985  \n",
       "121477  Part-time For Economic Reasons    340.0      HS  whites  1985  \n",
       "\n",
       "[121478 rows x 8 columns]"
      ]
     },
     "execution_count": 4,
     "metadata": {},
     "output_type": "execute_result"
    }
   ],
   "source": [
    "mariel = mariel_raw.copy()\n",
    "mariel['year'] = mariel['.id']+1978\n",
    "mariel = mariel.drop(columns=['.id'])\n",
    "mariel"
   ]
  },
  {
   "cell_type": "code",
   "execution_count": 5,
   "metadata": {
    "deletable": false,
    "editable": false
   },
   "outputs": [
    {
     "data": {
      "text/html": [
       "<p><strong><pre style='display: inline;'>q1_1</pre></strong> passed! 🌈</p>"
      ],
      "text/plain": [
       "q1_1 results: All test cases passed!"
      ]
     },
     "execution_count": 5,
     "metadata": {},
     "output_type": "execute_result"
    }
   ],
   "source": [
    "grader.check(\"q1_1\")"
   ]
  },
  {
   "cell_type": "markdown",
   "metadata": {},
   "source": [
    "As we are focusing on certain racial groups in this project, we can remove the rows of `mariel` that are not in the set of ethnicities that we are concerned with."
   ]
  },
  {
   "cell_type": "markdown",
   "metadata": {
    "deletable": false,
    "editable": false,
    "tags": [
     "ignore"
    ]
   },
   "source": [
    "**Question 1.2:** Remove the rows of `mariel` where the `ethrace` variable is `\"others\"`."
   ]
  },
  {
   "cell_type": "code",
   "execution_count": 6,
   "metadata": {
    "tags": []
   },
   "outputs": [
    {
     "data": {
      "text/html": [
       "<div>\n",
       "<style scoped>\n",
       "    .dataframe tbody tr th:only-of-type {\n",
       "        vertical-align: middle;\n",
       "    }\n",
       "\n",
       "    .dataframe tbody tr th {\n",
       "        vertical-align: top;\n",
       "    }\n",
       "\n",
       "    .dataframe thead th {\n",
       "        text-align: right;\n",
       "    }\n",
       "</style>\n",
       "<table border=\"1\" class=\"dataframe\">\n",
       "  <thead>\n",
       "    <tr style=\"text-align: right;\">\n",
       "      <th></th>\n",
       "      <th>age</th>\n",
       "      <th>smsarank</th>\n",
       "      <th>esr</th>\n",
       "      <th>ftpt79</th>\n",
       "      <th>earnhre</th>\n",
       "      <th>educ</th>\n",
       "      <th>ethrace</th>\n",
       "      <th>year</th>\n",
       "    </tr>\n",
       "  </thead>\n",
       "  <tbody>\n",
       "    <tr>\n",
       "      <th>0</th>\n",
       "      <td>71</td>\n",
       "      <td>Los Angeles</td>\n",
       "      <td>Housework</td>\n",
       "      <td>Not In Labor Force</td>\n",
       "      <td>NaN</td>\n",
       "      <td>lessHS</td>\n",
       "      <td>whites</td>\n",
       "      <td>1979</td>\n",
       "    </tr>\n",
       "    <tr>\n",
       "      <th>1</th>\n",
       "      <td>71</td>\n",
       "      <td>Los Angeles</td>\n",
       "      <td>Housework</td>\n",
       "      <td>Not In Labor Force</td>\n",
       "      <td>NaN</td>\n",
       "      <td>lessHS</td>\n",
       "      <td>whites</td>\n",
       "      <td>1979</td>\n",
       "    </tr>\n",
       "    <tr>\n",
       "      <th>2</th>\n",
       "      <td>73</td>\n",
       "      <td>Los Angeles</td>\n",
       "      <td>Other (Includes Retired)</td>\n",
       "      <td>Not In Labor Force</td>\n",
       "      <td>NaN</td>\n",
       "      <td>HS</td>\n",
       "      <td>whites</td>\n",
       "      <td>1979</td>\n",
       "    </tr>\n",
       "    <tr>\n",
       "      <th>3</th>\n",
       "      <td>56</td>\n",
       "      <td>Los Angeles</td>\n",
       "      <td>Employed-At Work</td>\n",
       "      <td>Employed full-time</td>\n",
       "      <td>700.0</td>\n",
       "      <td>HS</td>\n",
       "      <td>whites</td>\n",
       "      <td>1979</td>\n",
       "    </tr>\n",
       "    <tr>\n",
       "      <th>4</th>\n",
       "      <td>87</td>\n",
       "      <td>Los Angeles</td>\n",
       "      <td>Other (Includes Retired)</td>\n",
       "      <td>Not In Labor Force</td>\n",
       "      <td>NaN</td>\n",
       "      <td>lessHS</td>\n",
       "      <td>whites</td>\n",
       "      <td>1979</td>\n",
       "    </tr>\n",
       "    <tr>\n",
       "      <th>...</th>\n",
       "      <td>...</td>\n",
       "      <td>...</td>\n",
       "      <td>...</td>\n",
       "      <td>...</td>\n",
       "      <td>...</td>\n",
       "      <td>...</td>\n",
       "      <td>...</td>\n",
       "      <td>...</td>\n",
       "    </tr>\n",
       "    <tr>\n",
       "      <th>114005</th>\n",
       "      <td>23</td>\n",
       "      <td>Atlanta</td>\n",
       "      <td>Housework</td>\n",
       "      <td>Not In Labor Force</td>\n",
       "      <td>NaN</td>\n",
       "      <td>HS</td>\n",
       "      <td>whites</td>\n",
       "      <td>1985</td>\n",
       "    </tr>\n",
       "    <tr>\n",
       "      <th>114006</th>\n",
       "      <td>24</td>\n",
       "      <td>Atlanta</td>\n",
       "      <td>Employed-At Work</td>\n",
       "      <td>Employed full-time</td>\n",
       "      <td>650.0</td>\n",
       "      <td>lessHS</td>\n",
       "      <td>whites</td>\n",
       "      <td>1985</td>\n",
       "    </tr>\n",
       "    <tr>\n",
       "      <th>114007</th>\n",
       "      <td>21</td>\n",
       "      <td>Atlanta</td>\n",
       "      <td>Unemployed-Looking</td>\n",
       "      <td>Unemployed PT</td>\n",
       "      <td>NaN</td>\n",
       "      <td>HS</td>\n",
       "      <td>whites</td>\n",
       "      <td>1985</td>\n",
       "    </tr>\n",
       "    <tr>\n",
       "      <th>114008</th>\n",
       "      <td>42</td>\n",
       "      <td>Atlanta</td>\n",
       "      <td>Employed-At Work</td>\n",
       "      <td>Part-time For Economic Reasons</td>\n",
       "      <td>350.0</td>\n",
       "      <td>lessHS</td>\n",
       "      <td>whites</td>\n",
       "      <td>1985</td>\n",
       "    </tr>\n",
       "    <tr>\n",
       "      <th>114009</th>\n",
       "      <td>17</td>\n",
       "      <td>Atlanta</td>\n",
       "      <td>Employed-At Work</td>\n",
       "      <td>Part-time For Economic Reasons</td>\n",
       "      <td>340.0</td>\n",
       "      <td>HS</td>\n",
       "      <td>whites</td>\n",
       "      <td>1985</td>\n",
       "    </tr>\n",
       "  </tbody>\n",
       "</table>\n",
       "<p>114010 rows × 8 columns</p>\n",
       "</div>"
      ],
      "text/plain": [
       "        age     smsarank                       esr  \\\n",
       "0        71  Los Angeles                 Housework   \n",
       "1        71  Los Angeles                 Housework   \n",
       "2        73  Los Angeles  Other (Includes Retired)   \n",
       "3        56  Los Angeles          Employed-At Work   \n",
       "4        87  Los Angeles  Other (Includes Retired)   \n",
       "...     ...          ...                       ...   \n",
       "114005   23      Atlanta                 Housework   \n",
       "114006   24      Atlanta          Employed-At Work   \n",
       "114007   21      Atlanta        Unemployed-Looking   \n",
       "114008   42      Atlanta          Employed-At Work   \n",
       "114009   17      Atlanta          Employed-At Work   \n",
       "\n",
       "                                ftpt79  earnhre    educ ethrace  year  \n",
       "0                   Not In Labor Force      NaN  lessHS  whites  1979  \n",
       "1                   Not In Labor Force      NaN  lessHS  whites  1979  \n",
       "2                   Not In Labor Force      NaN      HS  whites  1979  \n",
       "3                   Employed full-time    700.0      HS  whites  1979  \n",
       "4                   Not In Labor Force      NaN  lessHS  whites  1979  \n",
       "...                                ...      ...     ...     ...   ...  \n",
       "114005              Not In Labor Force      NaN      HS  whites  1985  \n",
       "114006              Employed full-time    650.0  lessHS  whites  1985  \n",
       "114007                   Unemployed PT      NaN      HS  whites  1985  \n",
       "114008  Part-time For Economic Reasons    350.0  lessHS  whites  1985  \n",
       "114009  Part-time For Economic Reasons    340.0      HS  whites  1985  \n",
       "\n",
       "[114010 rows x 8 columns]"
      ]
     },
     "execution_count": 6,
     "metadata": {},
     "output_type": "execute_result"
    }
   ],
   "source": [
    "mariel = mariel[mariel['ethrace'] != 'others'].reset_index(drop=True)\n",
    "mariel"
   ]
  },
  {
   "cell_type": "code",
   "execution_count": 7,
   "metadata": {
    "deletable": false,
    "editable": false
   },
   "outputs": [
    {
     "data": {
      "text/html": [
       "<p><strong><pre style='display: inline;'>q1_2</pre></strong> passed! 🚀</p>"
      ],
      "text/plain": [
       "q1_2 results: All test cases passed!"
      ]
     },
     "execution_count": 7,
     "metadata": {},
     "output_type": "execute_result"
    }
   ],
   "source": [
    "grader.check(\"q1_2\")"
   ]
  },
  {
   "cell_type": "markdown",
   "metadata": {
    "deletable": false,
    "editable": false,
    "tags": [
     "ignore"
    ]
   },
   "source": [
    "**Question 1.3:** What categories are there in the `ethrace` variable (now)?\n",
    "\n",
    "1. White and Black\n",
    "2. White and Black and Cuban\n",
    "3. White, Black, Cuban, and Hispanic\n",
    "4. Cuban, Hispanic, non-Hispanic\n",
    "\n",
    "Assign the number corresponding to your answer to `q1_3` below."
   ]
  },
  {
   "cell_type": "code",
   "execution_count": 8,
   "metadata": {},
   "outputs": [
    {
     "data": {
      "text/plain": [
       "array(['whites', 'hispanics', 'blacks', 'cubans'], dtype=object)"
      ]
     },
     "execution_count": 8,
     "metadata": {},
     "output_type": "execute_result"
    }
   ],
   "source": [
    "mariel['ethrace'].unique()"
   ]
  },
  {
   "cell_type": "code",
   "execution_count": 9,
   "metadata": {
    "tags": []
   },
   "outputs": [],
   "source": [
    "q1_3 = 3"
   ]
  },
  {
   "cell_type": "code",
   "execution_count": 10,
   "metadata": {
    "deletable": false,
    "editable": false
   },
   "outputs": [
    {
     "data": {
      "text/html": [
       "<p><strong><pre style='display: inline;'>q1_3</pre></strong> passed! 🙌</p>"
      ],
      "text/plain": [
       "q1_3 results: All test cases passed!"
      ]
     },
     "execution_count": 10,
     "metadata": {},
     "output_type": "execute_result"
    }
   ],
   "source": [
    "grader.check(\"q1_3\")"
   ]
  },
  {
   "cell_type": "markdown",
   "metadata": {
    "deletable": false,
    "editable": false,
    "tags": [
     "ignore"
    ]
   },
   "source": [
    "**Question 1.4:** What are the units of the `earnhre` variable? Read the relevant CPS data [documentation](https://data.nber.org/morg/docs/cpsx.pdf).   \n",
    "\n",
    "1. Cents per hour\n",
    "2. Dollars per hour\n",
    "3. Cents per day\n",
    "4. Dollars per day\n",
    "5. Cents per week\n",
    "6. Dollars per week\n",
    "\n",
    "Assign the number corresponding to your answer to `q1_4` below."
   ]
  },
  {
   "cell_type": "code",
   "execution_count": 11,
   "metadata": {
    "tags": []
   },
   "outputs": [],
   "source": [
    "q1_4 = 1"
   ]
  },
  {
   "cell_type": "code",
   "execution_count": 12,
   "metadata": {
    "deletable": false,
    "editable": false
   },
   "outputs": [
    {
     "data": {
      "text/html": [
       "<p><strong><pre style='display: inline;'>q1_4</pre></strong> passed! 💯</p>"
      ],
      "text/plain": [
       "q1_4 results: All test cases passed!"
      ]
     },
     "execution_count": 12,
     "metadata": {},
     "output_type": "execute_result"
    }
   ],
   "source": [
    "grader.check(\"q1_4\")"
   ]
  },
  {
   "cell_type": "markdown",
   "metadata": {
    "deletable": false,
    "editable": false,
    "tags": [
     "ignore"
    ]
   },
   "source": [
    "**Question 1.5:** Which cities can make up the ideal comparison group in this study?\n",
    "\n",
    "1. All U.S. cities except Miami\n",
    "2. All Florida cities except Miami\n",
    "3. Cities nearby that are subject to the same macroeconomic influences as Miami but didn't receive many Cuban immigrants.\n",
    "4. Cities nearby that are subject to the same macroeconomic influences as Miami but received many other immigrants.\n",
    "\n",
    "Assign the number corresponding to your answer to `q1_5` below."
   ]
  },
  {
   "cell_type": "code",
   "execution_count": 13,
   "metadata": {
    "tags": []
   },
   "outputs": [],
   "source": [
    "q1_5 = 3"
   ]
  },
  {
   "cell_type": "code",
   "execution_count": 14,
   "metadata": {
    "deletable": false,
    "editable": false
   },
   "outputs": [
    {
     "data": {
      "text/html": [
       "<p><strong><pre style='display: inline;'>q1_5</pre></strong> passed! 💯</p>"
      ],
      "text/plain": [
       "q1_5 results: All test cases passed!"
      ]
     },
     "execution_count": 14,
     "metadata": {},
     "output_type": "execute_result"
    }
   ],
   "source": [
    "grader.check(\"q1_5\")"
   ]
  },
  {
   "cell_type": "markdown",
   "metadata": {
    "tags": [
     "ignore"
    ]
   },
   "source": [
    "---\n",
    "## Part 2: Unemployment \n",
    "\n",
    "We're going to begin by trying to replicate Card's results for unemployment in his Table 4. (We'll do wages in Table 3 later)."
   ]
  },
  {
   "cell_type": "markdown",
   "metadata": {
    "tags": [
     "ignore"
    ]
   },
   "source": [
    "In the cell below, we define a function `get_ue` that takes in an array/series values from the `esr` column and returns the proportion of people who are unemployed (the unemployment rate)."
   ]
  },
  {
   "cell_type": "code",
   "execution_count": 15,
   "metadata": {
    "tags": [
     "ignore"
    ]
   },
   "outputs": [],
   "source": [
    "def get_ue(esr):\n",
    "    unemployed_looking = sum(esr == \"Unemployed-Looking\")\n",
    "    others = sum(np.isin(esr, np.array([\"Unemployed-Looking\",  \"Employed-At Work\", \"Employed-Absent\"])))\n",
    "    return unemployed_looking / others"
   ]
  },
  {
   "cell_type": "markdown",
   "metadata": {
    "tags": [
     "ignore"
    ]
   },
   "source": [
    "When considering the effect on the unemployment rate of the boatlift, we want to first separate Miami from the comparison cities and select for the desired age group (16 to 61). After we have the desired rows, we want to create a table where the rows represent a year in the data, the columns represent the unique values of the `ethrace` variable, and the cells contain the unemployment rate.\n",
    "\n"
   ]
  },
  {
   "cell_type": "code",
   "execution_count": 16,
   "metadata": {},
   "outputs": [],
   "source": [
    "miami_ue = mariel[(mariel[\"smsarank\"] == \"Miami\") & \\\n",
    "                  (mariel[\"age\"] >= 16) & \\\n",
    "                  (mariel[\"age\"] <= 61)]"
   ]
  },
  {
   "cell_type": "markdown",
   "metadata": {
    "deletable": false,
    "editable": false
   },
   "source": [
    "**Question 2.1:** Using `miami_ue`, create a lineplot that shows the unemployment rate for Miami from 1979 to 1985. Label your plot properly (both axes and title). \n",
    "Hint: You may want to use `groupby` with `get_ue` (defined above) as the aggregation function. "
   ]
  },
  {
   "cell_type": "code",
   "execution_count": 17,
   "metadata": {
    "tags": []
   },
   "outputs": [
    {
     "data": {
      "image/png": "[encoded data removed]",
      "text/plain": [
       "<Figure size 640x480 with 1 Axes>"
      ]
     },
     "metadata": {},
     "output_type": "display_data"
    }
   ],
   "source": [
    "def plot_miami_ue():\n",
    "    miami_ue_by_year = miami_ue[['year', 'esr']]\n",
    "    miami_ue_by_year = miami_ue_by_year.groupby(\"year\").agg(get_ue).reset_index()\n",
    "    plt.vlines(1980, 0, 0.2, color=\"grey\", linestyle=\"--\", linewidth=2)\n",
    "    plt.plot(miami_ue_by_year[\"year\"], miami_ue_by_year[\"esr\"], color=\"black\", linewidth=2, marker=\"o\", markersize=5) # feel free to also change the style like color, linewidth, etc\n",
    "    plt.xlabel(\"Year\")\n",
    "    plt.ylabel(\"Unemployment Rate\")\n",
    "    plt.title(\"Unemployment Rate in Miami\")\n",
    "    return miami_ue_by_year\n",
    "miami_ue_by_year = plot_miami_ue()"
   ]
  },
  {
   "cell_type": "code",
   "execution_count": 18,
   "metadata": {
    "deletable": false,
    "editable": false
   },
   "outputs": [
    {
     "data": {
      "text/html": [
       "<p><strong><pre style='display: inline;'>q2_1</pre></strong> passed! 🎉</p>"
      ],
      "text/plain": [
       "q2_1 results: All test cases passed!"
      ]
     },
     "execution_count": 18,
     "metadata": {},
     "output_type": "execute_result"
    }
   ],
   "source": [
    "grader.check(\"q2_1\")"
   ]
  },
  {
   "cell_type": "markdown",
   "metadata": {},
   "source": [
    "Now we want to explore unemployment statistics by ethnicity. This can be accomplished by creating a pivot table. The `.pivot_table()` method can also take as an argument (`aggfunc`) an aggregator function which determines how to calculate the values in the output. In this case, it will take the array of `esr` values that correspond to each `year`-`ethrace` pair to the function we pass and apply the `get_ue` function on it. \n",
    "\n",
    "The end result is that we will have a table where each column is an `ethrace` value, each row is a year, and the values are the unemployment rate for that `ethrace` value. All of this is done for you in the cell below, and the results are stored as `miami_ue_ethrace`."
   ]
  },
  {
   "cell_type": "code",
   "execution_count": 19,
   "metadata": {},
   "outputs": [
    {
     "data": {
      "text/html": [
       "<div>\n",
       "<style scoped>\n",
       "    .dataframe tbody tr th:only-of-type {\n",
       "        vertical-align: middle;\n",
       "    }\n",
       "\n",
       "    .dataframe tbody tr th {\n",
       "        vertical-align: top;\n",
       "    }\n",
       "\n",
       "    .dataframe thead th {\n",
       "        text-align: right;\n",
       "    }\n",
       "</style>\n",
       "<table border=\"1\" class=\"dataframe\">\n",
       "  <thead>\n",
       "    <tr style=\"text-align: right;\">\n",
       "      <th>ethrace</th>\n",
       "      <th>blacks</th>\n",
       "      <th>cubans</th>\n",
       "      <th>hispanics</th>\n",
       "      <th>whites</th>\n",
       "    </tr>\n",
       "    <tr>\n",
       "      <th>year</th>\n",
       "      <th></th>\n",
       "      <th></th>\n",
       "      <th></th>\n",
       "      <th></th>\n",
       "    </tr>\n",
       "  </thead>\n",
       "  <tbody>\n",
       "    <tr>\n",
       "      <th>1979</th>\n",
       "      <td>0.087121</td>\n",
       "      <td>0.053412</td>\n",
       "      <td>0.056075</td>\n",
       "      <td>0.049875</td>\n",
       "    </tr>\n",
       "    <tr>\n",
       "      <th>1980</th>\n",
       "      <td>0.050847</td>\n",
       "      <td>0.072386</td>\n",
       "      <td>0.079710</td>\n",
       "      <td>0.028061</td>\n",
       "    </tr>\n",
       "    <tr>\n",
       "      <th>1981</th>\n",
       "      <td>0.092937</td>\n",
       "      <td>0.102804</td>\n",
       "      <td>0.097345</td>\n",
       "      <td>0.041262</td>\n",
       "    </tr>\n",
       "    <tr>\n",
       "      <th>1982</th>\n",
       "      <td>0.163424</td>\n",
       "      <td>0.112500</td>\n",
       "      <td>0.088000</td>\n",
       "      <td>0.052897</td>\n",
       "    </tr>\n",
       "    <tr>\n",
       "      <th>1983</th>\n",
       "      <td>0.192308</td>\n",
       "      <td>0.131579</td>\n",
       "      <td>0.077419</td>\n",
       "      <td>0.071274</td>\n",
       "    </tr>\n",
       "    <tr>\n",
       "      <th>1984</th>\n",
       "      <td>0.144681</td>\n",
       "      <td>0.074935</td>\n",
       "      <td>0.123596</td>\n",
       "      <td>0.036446</td>\n",
       "    </tr>\n",
       "    <tr>\n",
       "      <th>1985</th>\n",
       "      <td>0.075188</td>\n",
       "      <td>0.055556</td>\n",
       "      <td>0.044444</td>\n",
       "      <td>0.050000</td>\n",
       "    </tr>\n",
       "  </tbody>\n",
       "</table>\n",
       "</div>"
      ],
      "text/plain": [
       "ethrace    blacks    cubans  hispanics    whites\n",
       "year                                            \n",
       "1979     0.087121  0.053412   0.056075  0.049875\n",
       "1980     0.050847  0.072386   0.079710  0.028061\n",
       "1981     0.092937  0.102804   0.097345  0.041262\n",
       "1982     0.163424  0.112500   0.088000  0.052897\n",
       "1983     0.192308  0.131579   0.077419  0.071274\n",
       "1984     0.144681  0.074935   0.123596  0.036446\n",
       "1985     0.075188  0.055556   0.044444  0.050000"
      ]
     },
     "execution_count": 19,
     "metadata": {},
     "output_type": "execute_result"
    }
   ],
   "source": [
    "miami_ue_ethrace = pd.pivot_table(miami_ue, values='esr', index=['year'], columns=['ethrace'], aggfunc=get_ue)\n",
    "miami_ue_ethrace"
   ]
  },
  {
   "cell_type": "markdown",
   "metadata": {
    "deletable": false,
    "editable": false,
    "tags": [
     "ignore"
    ]
   },
   "source": [
    "**Question 2.2:** Create the same pivot table below (include the same age restriction), but for the comparison cities (that is, all cities _except for Miami_). As we are looking at comparison cities, we must exclude Cubans from this pivot table. Store the pivot table as `not_miami_ue_ethrace`."
   ]
  },
  {
   "cell_type": "code",
   "execution_count": 20,
   "metadata": {
    "tags": [
     "gradable"
    ]
   },
   "outputs": [
    {
     "data": {
      "text/html": [
       "<div>\n",
       "<style scoped>\n",
       "    .dataframe tbody tr th:only-of-type {\n",
       "        vertical-align: middle;\n",
       "    }\n",
       "\n",
       "    .dataframe tbody tr th {\n",
       "        vertical-align: top;\n",
       "    }\n",
       "\n",
       "    .dataframe thead th {\n",
       "        text-align: right;\n",
       "    }\n",
       "</style>\n",
       "<table border=\"1\" class=\"dataframe\">\n",
       "  <thead>\n",
       "    <tr style=\"text-align: right;\">\n",
       "      <th>ethrace</th>\n",
       "      <th>blacks</th>\n",
       "      <th>hispanics</th>\n",
       "      <th>whites</th>\n",
       "    </tr>\n",
       "    <tr>\n",
       "      <th>year</th>\n",
       "      <th></th>\n",
       "      <th></th>\n",
       "      <th></th>\n",
       "    </tr>\n",
       "  </thead>\n",
       "  <tbody>\n",
       "    <tr>\n",
       "      <th>1979</th>\n",
       "      <td>0.107919</td>\n",
       "      <td>0.065920</td>\n",
       "      <td>0.045333</td>\n",
       "    </tr>\n",
       "    <tr>\n",
       "      <th>1980</th>\n",
       "      <td>0.135095</td>\n",
       "      <td>0.090656</td>\n",
       "      <td>0.045255</td>\n",
       "    </tr>\n",
       "    <tr>\n",
       "      <th>1981</th>\n",
       "      <td>0.125889</td>\n",
       "      <td>0.088068</td>\n",
       "      <td>0.043226</td>\n",
       "    </tr>\n",
       "    <tr>\n",
       "      <th>1982</th>\n",
       "      <td>0.125614</td>\n",
       "      <td>0.119714</td>\n",
       "      <td>0.069431</td>\n",
       "    </tr>\n",
       "    <tr>\n",
       "      <th>1983</th>\n",
       "      <td>0.182296</td>\n",
       "      <td>0.127942</td>\n",
       "      <td>0.070855</td>\n",
       "    </tr>\n",
       "    <tr>\n",
       "      <th>1984</th>\n",
       "      <td>0.124093</td>\n",
       "      <td>0.105373</td>\n",
       "      <td>0.055590</td>\n",
       "    </tr>\n",
       "    <tr>\n",
       "      <th>1985</th>\n",
       "      <td>0.128988</td>\n",
       "      <td>0.099552</td>\n",
       "      <td>0.051900</td>\n",
       "    </tr>\n",
       "  </tbody>\n",
       "</table>\n",
       "</div>"
      ],
      "text/plain": [
       "ethrace    blacks  hispanics    whites\n",
       "year                                  \n",
       "1979     0.107919   0.065920  0.045333\n",
       "1980     0.135095   0.090656  0.045255\n",
       "1981     0.125889   0.088068  0.043226\n",
       "1982     0.125614   0.119714  0.069431\n",
       "1983     0.182296   0.127942  0.070855\n",
       "1984     0.124093   0.105373  0.055590\n",
       "1985     0.128988   0.099552  0.051900"
      ]
     },
     "execution_count": 20,
     "metadata": {},
     "output_type": "execute_result"
    }
   ],
   "source": [
    "not_miami_ue = mariel[(mariel[\"smsarank\"] != \"Miami\") \n",
    "                      & (mariel[\"age\"] >= 16) \n",
    "                      & (mariel[\"age\"] <= 61) \n",
    "                      & (mariel['ethrace'] != 'cubans')\n",
    "                      ]\n",
    "not_miami_ue_ethrace = pd.pivot_table(not_miami_ue, values='esr', index=['year'], columns=['ethrace'], aggfunc=get_ue)\n",
    "not_miami_ue_ethrace"
   ]
  },
  {
   "cell_type": "code",
   "execution_count": 21,
   "metadata": {
    "deletable": false,
    "editable": false
   },
   "outputs": [
    {
     "data": {
      "text/html": [
       "<p><strong><pre style='display: inline;'>q2_2</pre></strong> passed! 🚀</p>"
      ],
      "text/plain": [
       "q2_2 results: All test cases passed!"
      ]
     },
     "execution_count": 21,
     "metadata": {},
     "output_type": "execute_result"
    }
   ],
   "source": [
    "grader.check(\"q2_2\")"
   ]
  },
  {
   "cell_type": "markdown",
   "metadata": {
    "deletable": false,
    "editable": false,
    "tags": [
     "ignore"
    ]
   },
   "source": [
    "<!-- BEGIN QUESTION -->\n",
    "\n",
    "**Question 2.3:** Why did we drop the Cubans for comparison cities in question 2.2? Explain in the context of the study. "
   ]
  },
  {
   "cell_type": "markdown",
   "metadata": {},
   "source": [
    "_Type your answer here, replacing this text._"
   ]
  },
  {
   "cell_type": "markdown",
   "metadata": {
    "deletable": false,
    "editable": false,
    "tags": [
     "ignore"
    ]
   },
   "source": [
    "<!-- END QUESTION -->\n",
    "\n",
    "In the cell below, we plot the unemployment rates for Miami and the comparison cities for each `ethrace` value. The dashed vertical line in 1980 indicates the Mariel boatlift's occurance. (The function `plot_ue_by_ethrace`, along with the other plotting functions in this notebook, are defined in the `utils.py` file if you want to look at them. They're hidden because the code is very verbose.)"
   ]
  },
  {
   "cell_type": "code",
   "execution_count": 22,
   "metadata": {
    "tags": [
     "ignore"
    ]
   },
   "outputs": [
    {
     "data": {
      "image/png": "[encoded data removed]",
      "text/plain": [
       "<Figure size 1400x1200 with 4 Axes>"
      ]
     },
     "metadata": {},
     "output_type": "display_data"
    }
   ],
   "source": [
    "plot_ue_by_ethrace(miami_ue_ethrace, not_miami_ue_ethrace)"
   ]
  },
  {
   "cell_type": "markdown",
   "metadata": {
    "deletable": false,
    "editable": false,
    "tags": [
     "ignore"
    ]
   },
   "source": [
    "<!-- BEGIN QUESTION -->\n",
    "\n",
    "**Question 2.4:** Unemployment after the Mariel boatlift goes up for all groups, rising from 5.0% in April 1980 to 7.1% in July. Why does Card argue that \"there is no evidence that the Mariel influx adversely affected the unemployment rate of either whites or blacks\" (p. 250)?"
   ]
  },
  {
   "cell_type": "markdown",
   "metadata": {},
   "source": [
    "The US officially entered into a recession in the third quater of 1981 and as seen from the comparison cities the unemployment is increasing across the board.\n",
    "Card therefore argues that it  seems  likely, that \"this downturn reflects an unusually severe cyclical effect associated with the 1982-83 recession\" and not a result of the Mariel influx."
   ]
  },
  {
   "cell_type": "markdown",
   "metadata": {
    "deletable": false,
    "editable": false,
    "tags": [
     "ignore"
    ]
   },
   "source": [
    "<!-- END QUESTION -->\n",
    "\n",
    "**Question 2.5:** How much attention should we pay to the ups and downs in these graphs? Are these chance fluctuations from the sample survey (\"noise\"), or are they important information that we should pay attention to (\"signal\")?\n",
    "\n",
    "1. The fluctuations doesn't seem arbitrary, so they are signal\n",
    "2. The trend reverses very quickly and very suddenly, so they are just noises\n",
    "3. We can’t tell just by looking, but one could in theory (and with the help of a statistics course) quantify the magnitude of fluctuations that we would expect from random sampling.\n",
    "\n",
    "Assign the number corresponding to your answer to `q2_4` below."
   ]
  },
  {
   "cell_type": "code",
   "execution_count": 61,
   "metadata": {
    "tags": []
   },
   "outputs": [],
   "source": [
    "q2_5 = 3"
   ]
  },
  {
   "cell_type": "code",
   "execution_count": 62,
   "metadata": {
    "deletable": false,
    "editable": false
   },
   "outputs": [
    {
     "data": {
      "text/html": [
       "<p><strong><pre style='display: inline;'>q2_5</pre></strong> passed! ✨</p>"
      ],
      "text/plain": [
       "q2_5 results: All test cases passed!"
      ]
     },
     "execution_count": 62,
     "metadata": {},
     "output_type": "execute_result"
    }
   ],
   "source": [
    "grader.check(\"q2_5\")"
   ]
  },
  {
   "cell_type": "markdown",
   "metadata": {
    "tags": [
     "ignore"
    ]
   },
   "source": [
    "---\n",
    "## Part 3: Wages\n",
    "\n",
    "Now we will try to replicate Card's findings that the Mariel boatlift also had little or no effect on non-immigrants' wages. For simplicity, we will not deflate the wages (like we should) but we will instead consider the nominal wages."
   ]
  },
  {
   "cell_type": "markdown",
   "metadata": {
    "tags": [
     "ignore"
    ]
   },
   "source": [
    "As some of the values in the `earnhre` column are missing, for the sake of simplicity we remove these problematic rows below. Once again, this is not the best approach in real life and is only being done here for the sake of simplicity. **Throughout part 3, make sure you use `mariel_ehre` instead of `mariel`, or else your calculations may error.**"
   ]
  },
  {
   "cell_type": "code",
   "execution_count": 24,
   "metadata": {},
   "outputs": [],
   "source": [
    "mariel_ehre = mariel[~np.isnan(mariel[\"earnhre\"])].copy()"
   ]
  },
  {
   "cell_type": "markdown",
   "metadata": {
    "tags": [
     "ignore"
    ]
   },
   "source": [
    "In order to make the wages more linear and to put them on an easier-to-understand scale, we take the natural log of each value in the `earnhre` column and store this as `log_w` (why do we divide by 100?)."
   ]
  },
  {
   "cell_type": "code",
   "execution_count": 25,
   "metadata": {},
   "outputs": [
    {
     "data": {
      "text/html": [
       "<div>\n",
       "<style scoped>\n",
       "    .dataframe tbody tr th:only-of-type {\n",
       "        vertical-align: middle;\n",
       "    }\n",
       "\n",
       "    .dataframe tbody tr th {\n",
       "        vertical-align: top;\n",
       "    }\n",
       "\n",
       "    .dataframe thead th {\n",
       "        text-align: right;\n",
       "    }\n",
       "</style>\n",
       "<table border=\"1\" class=\"dataframe\">\n",
       "  <thead>\n",
       "    <tr style=\"text-align: right;\">\n",
       "      <th></th>\n",
       "      <th>age</th>\n",
       "      <th>smsarank</th>\n",
       "      <th>esr</th>\n",
       "      <th>ftpt79</th>\n",
       "      <th>earnhre</th>\n",
       "      <th>educ</th>\n",
       "      <th>ethrace</th>\n",
       "      <th>year</th>\n",
       "      <th>log_w</th>\n",
       "    </tr>\n",
       "  </thead>\n",
       "  <tbody>\n",
       "    <tr>\n",
       "      <th>3</th>\n",
       "      <td>56</td>\n",
       "      <td>Los Angeles</td>\n",
       "      <td>Employed-At Work</td>\n",
       "      <td>Employed full-time</td>\n",
       "      <td>700.0</td>\n",
       "      <td>HS</td>\n",
       "      <td>whites</td>\n",
       "      <td>1979</td>\n",
       "      <td>1.945910</td>\n",
       "    </tr>\n",
       "    <tr>\n",
       "      <th>6</th>\n",
       "      <td>23</td>\n",
       "      <td>Los Angeles</td>\n",
       "      <td>Employed-At Work</td>\n",
       "      <td>Employed full-time</td>\n",
       "      <td>1002.0</td>\n",
       "      <td>HS</td>\n",
       "      <td>whites</td>\n",
       "      <td>1979</td>\n",
       "      <td>2.304583</td>\n",
       "    </tr>\n",
       "    <tr>\n",
       "      <th>15</th>\n",
       "      <td>65</td>\n",
       "      <td>Los Angeles</td>\n",
       "      <td>Employed-At Work</td>\n",
       "      <td>Employed full-time</td>\n",
       "      <td>895.0</td>\n",
       "      <td>HS</td>\n",
       "      <td>whites</td>\n",
       "      <td>1979</td>\n",
       "      <td>2.191654</td>\n",
       "    </tr>\n",
       "    <tr>\n",
       "      <th>31</th>\n",
       "      <td>61</td>\n",
       "      <td>Los Angeles</td>\n",
       "      <td>Employed-At Work</td>\n",
       "      <td>Employed PT</td>\n",
       "      <td>500.0</td>\n",
       "      <td>HS</td>\n",
       "      <td>whites</td>\n",
       "      <td>1979</td>\n",
       "      <td>1.609438</td>\n",
       "    </tr>\n",
       "    <tr>\n",
       "      <th>34</th>\n",
       "      <td>41</td>\n",
       "      <td>Los Angeles</td>\n",
       "      <td>Employed-At Work</td>\n",
       "      <td>Employed full-time</td>\n",
       "      <td>400.0</td>\n",
       "      <td>lessHS</td>\n",
       "      <td>whites</td>\n",
       "      <td>1979</td>\n",
       "      <td>1.386294</td>\n",
       "    </tr>\n",
       "  </tbody>\n",
       "</table>\n",
       "</div>"
      ],
      "text/plain": [
       "    age     smsarank               esr              ftpt79  earnhre    educ  \\\n",
       "3    56  Los Angeles  Employed-At Work  Employed full-time    700.0      HS   \n",
       "6    23  Los Angeles  Employed-At Work  Employed full-time   1002.0      HS   \n",
       "15   65  Los Angeles  Employed-At Work  Employed full-time    895.0      HS   \n",
       "31   61  Los Angeles  Employed-At Work         Employed PT    500.0      HS   \n",
       "34   41  Los Angeles  Employed-At Work  Employed full-time    400.0  lessHS   \n",
       "\n",
       "   ethrace  year     log_w  \n",
       "3   whites  1979  1.945910  \n",
       "6   whites  1979  2.304583  \n",
       "15  whites  1979  2.191654  \n",
       "31  whites  1979  1.609438  \n",
       "34  whites  1979  1.386294  "
      ]
     },
     "execution_count": 25,
     "metadata": {},
     "output_type": "execute_result"
    }
   ],
   "source": [
    "log_w = np.log(mariel_ehre[\"earnhre\"]/100)\n",
    "mariel_ehre[\"log_w\"] = log_w\n",
    "mariel_ehre.head(5)"
   ]
  },
  {
   "cell_type": "markdown",
   "metadata": {
    "tags": [
     "ignore"
    ]
   },
   "source": [
    "We want to create a similar pivot table as in part 2, except we want the values in this table to be the mean of the log of wages. We create this table for Miami below, making sure to also filter `merial_ehre` for rows where the individual is employed full-time."
   ]
  },
  {
   "cell_type": "code",
   "execution_count": 26,
   "metadata": {},
   "outputs": [
    {
     "data": {
      "text/html": [
       "<div>\n",
       "<style scoped>\n",
       "    .dataframe tbody tr th:only-of-type {\n",
       "        vertical-align: middle;\n",
       "    }\n",
       "\n",
       "    .dataframe tbody tr th {\n",
       "        vertical-align: top;\n",
       "    }\n",
       "\n",
       "    .dataframe thead th {\n",
       "        text-align: right;\n",
       "    }\n",
       "</style>\n",
       "<table border=\"1\" class=\"dataframe\">\n",
       "  <thead>\n",
       "    <tr style=\"text-align: right;\">\n",
       "      <th>ethrace</th>\n",
       "      <th>blacks</th>\n",
       "      <th>cubans</th>\n",
       "      <th>hispanics</th>\n",
       "      <th>whites</th>\n",
       "    </tr>\n",
       "    <tr>\n",
       "      <th>year</th>\n",
       "      <th></th>\n",
       "      <th></th>\n",
       "      <th></th>\n",
       "      <th></th>\n",
       "    </tr>\n",
       "  </thead>\n",
       "  <tbody>\n",
       "    <tr>\n",
       "      <th>1979</th>\n",
       "      <td>1.433196</td>\n",
       "      <td>1.435591</td>\n",
       "      <td>1.342982</td>\n",
       "      <td>1.664646</td>\n",
       "    </tr>\n",
       "    <tr>\n",
       "      <th>1980</th>\n",
       "      <td>1.559940</td>\n",
       "      <td>1.455480</td>\n",
       "      <td>1.424821</td>\n",
       "      <td>1.740305</td>\n",
       "    </tr>\n",
       "    <tr>\n",
       "      <th>1981</th>\n",
       "      <td>1.719957</td>\n",
       "      <td>1.579118</td>\n",
       "      <td>1.550045</td>\n",
       "      <td>1.818311</td>\n",
       "    </tr>\n",
       "    <tr>\n",
       "      <th>1982</th>\n",
       "      <td>1.666419</td>\n",
       "      <td>1.606005</td>\n",
       "      <td>1.675179</td>\n",
       "      <td>1.879977</td>\n",
       "    </tr>\n",
       "    <tr>\n",
       "      <th>1983</th>\n",
       "      <td>1.678183</td>\n",
       "      <td>1.618799</td>\n",
       "      <td>1.638360</td>\n",
       "      <td>1.911506</td>\n",
       "    </tr>\n",
       "    <tr>\n",
       "      <th>1984</th>\n",
       "      <td>1.782611</td>\n",
       "      <td>1.687249</td>\n",
       "      <td>1.750424</td>\n",
       "      <td>1.924276</td>\n",
       "    </tr>\n",
       "    <tr>\n",
       "      <th>1985</th>\n",
       "      <td>1.860924</td>\n",
       "      <td>1.612961</td>\n",
       "      <td>1.808548</td>\n",
       "      <td>1.869408</td>\n",
       "    </tr>\n",
       "  </tbody>\n",
       "</table>\n",
       "</div>"
      ],
      "text/plain": [
       "ethrace    blacks    cubans  hispanics    whites\n",
       "year                                            \n",
       "1979     1.433196  1.435591   1.342982  1.664646\n",
       "1980     1.559940  1.455480   1.424821  1.740305\n",
       "1981     1.719957  1.579118   1.550045  1.818311\n",
       "1982     1.666419  1.606005   1.675179  1.879977\n",
       "1983     1.678183  1.618799   1.638360  1.911506\n",
       "1984     1.782611  1.687249   1.750424  1.924276\n",
       "1985     1.860924  1.612961   1.808548  1.869408"
      ]
     },
     "execution_count": 26,
     "metadata": {},
     "output_type": "execute_result"
    }
   ],
   "source": [
    "miami_wages = mariel_ehre[(mariel_ehre[\"age\"] >= 16) &\n",
    "                          (mariel_ehre[\"age\"] <= 61) &\n",
    "                          (mariel_ehre[\"smsarank\"] == \"Miami\") &\n",
    "                          (mariel_ehre[\"ftpt79\"] == \"Employed full-time\")]\n",
    "miami_wages_ethrace = pd.pivot_table(miami_wages, values=\"log_w\", index=[\"year\"], columns=[\"ethrace\"], aggfunc=np.mean)\n",
    "miami_wages_ethrace"
   ]
  },
  {
   "cell_type": "markdown",
   "metadata": {
    "deletable": false,
    "editable": false,
    "tags": [
     "gradable",
     "ignore"
    ]
   },
   "source": [
    "**Question 3.1:** Create a similar pivot table below, except not including the cubans and using data from comparison cities (that is, all cities _except for Miami_). Store the pivot table as `not_miami_wages_ethrace`."
   ]
  },
  {
   "cell_type": "code",
   "execution_count": 58,
   "metadata": {
    "tags": [
     "gradable"
    ]
   },
   "outputs": [
    {
     "data": {
      "text/html": [
       "<div>\n",
       "<style scoped>\n",
       "    .dataframe tbody tr th:only-of-type {\n",
       "        vertical-align: middle;\n",
       "    }\n",
       "\n",
       "    .dataframe tbody tr th {\n",
       "        vertical-align: top;\n",
       "    }\n",
       "\n",
       "    .dataframe thead th {\n",
       "        text-align: right;\n",
       "    }\n",
       "</style>\n",
       "<table border=\"1\" class=\"dataframe\">\n",
       "  <thead>\n",
       "    <tr style=\"text-align: right;\">\n",
       "      <th>ethrace</th>\n",
       "      <th>blacks</th>\n",
       "      <th>hispanics</th>\n",
       "      <th>whites</th>\n",
       "    </tr>\n",
       "    <tr>\n",
       "      <th>year</th>\n",
       "      <th></th>\n",
       "      <th></th>\n",
       "      <th></th>\n",
       "    </tr>\n",
       "  </thead>\n",
       "  <tbody>\n",
       "    <tr>\n",
       "      <th>1979</th>\n",
       "      <td>1.590354</td>\n",
       "      <td>1.528109</td>\n",
       "      <td>1.723509</td>\n",
       "    </tr>\n",
       "    <tr>\n",
       "      <th>1980</th>\n",
       "      <td>1.695692</td>\n",
       "      <td>1.612716</td>\n",
       "      <td>1.815481</td>\n",
       "    </tr>\n",
       "    <tr>\n",
       "      <th>1981</th>\n",
       "      <td>1.763279</td>\n",
       "      <td>1.705438</td>\n",
       "      <td>1.891075</td>\n",
       "    </tr>\n",
       "    <tr>\n",
       "      <th>1982</th>\n",
       "      <td>1.857684</td>\n",
       "      <td>1.742029</td>\n",
       "      <td>1.965920</td>\n",
       "    </tr>\n",
       "    <tr>\n",
       "      <th>1983</th>\n",
       "      <td>1.893868</td>\n",
       "      <td>1.771680</td>\n",
       "      <td>1.975914</td>\n",
       "    </tr>\n",
       "    <tr>\n",
       "      <th>1984</th>\n",
       "      <td>1.883949</td>\n",
       "      <td>1.826412</td>\n",
       "      <td>2.010343</td>\n",
       "    </tr>\n",
       "    <tr>\n",
       "      <th>1985</th>\n",
       "      <td>1.892658</td>\n",
       "      <td>1.831231</td>\n",
       "      <td>2.062001</td>\n",
       "    </tr>\n",
       "  </tbody>\n",
       "</table>\n",
       "</div>"
      ],
      "text/plain": [
       "ethrace    blacks  hispanics    whites\n",
       "year                                  \n",
       "1979     1.590354   1.528109  1.723509\n",
       "1980     1.695692   1.612716  1.815481\n",
       "1981     1.763279   1.705438  1.891075\n",
       "1982     1.857684   1.742029  1.965920\n",
       "1983     1.893868   1.771680  1.975914\n",
       "1984     1.883949   1.826412  2.010343\n",
       "1985     1.892658   1.831231  2.062001"
      ]
     },
     "execution_count": 58,
     "metadata": {},
     "output_type": "execute_result"
    }
   ],
   "source": [
    "not_miami_wages = mariel_ehre[(mariel_ehre[\"age\"] >= 16) \n",
    "                          & (mariel_ehre[\"age\"] <= 61)\n",
    "                          & (mariel_ehre[\"smsarank\"] != \"Miami\")\n",
    "                          & (mariel_ehre[\"ftpt79\"] == \"Employed full-time\")\n",
    "                          & (mariel_ehre['ethrace'] != 'cubans')\n",
    "                          ]\n",
    "not_miami_wages_ethrace = pd.pivot_table(not_miami_wages, values=\"log_w\", index=[\"year\"], columns=[\"ethrace\"], aggfunc=np.mean)\n",
    "not_miami_wages_ethrace"
   ]
  },
  {
   "cell_type": "code",
   "execution_count": 59,
   "metadata": {
    "deletable": false,
    "editable": false
   },
   "outputs": [
    {
     "data": {
      "text/html": [
       "<p><strong><pre style='display: inline;'>q3_1</pre></strong> passed! 🎉</p>"
      ],
      "text/plain": [
       "q3_1 results: All test cases passed!"
      ]
     },
     "execution_count": 59,
     "metadata": {},
     "output_type": "execute_result"
    }
   ],
   "source": [
    "grader.check(\"q3_1\")"
   ]
  },
  {
   "cell_type": "markdown",
   "metadata": {
    "tags": [
     "ignore"
    ]
   },
   "source": [
    "In the cell below, we plot the wages for Miami and the comparison cities for each `ethrace` value."
   ]
  },
  {
   "cell_type": "code",
   "execution_count": 42,
   "metadata": {
    "tags": [
     "ignore"
    ]
   },
   "outputs": [
    {
     "data": {
      "image/png": "[encoded data removed]",
      "text/plain": [
       "<Figure size 1400x1200 with 4 Axes>"
      ]
     },
     "metadata": {},
     "output_type": "display_data"
    }
   ],
   "source": [
    "plot_wages_by_ethrace(miami_wages_ethrace, not_miami_wages_ethrace)"
   ]
  },
  {
   "cell_type": "markdown",
   "metadata": {
    "tags": [
     "ignore"
    ]
   },
   "source": [
    "Our numbers differ from Card's Table 4 because we are not accounting for inflation. In order to make inferences about the effect of the boatlift on wages easier, let's plot the differences between Miami and the Comparison Cities. (The difference being plotted here is log wages for Miami *minus* log wages for comparison cities)"
   ]
  },
  {
   "cell_type": "code",
   "execution_count": 43,
   "metadata": {
    "tags": [
     "ignore"
    ]
   },
   "outputs": [
    {
     "data": {
      "image/png": "[encoded data removed]",
      "text/plain": [
       "<Figure size 1400x1200 with 4 Axes>"
      ]
     },
     "metadata": {},
     "output_type": "display_data"
    }
   ],
   "source": [
    "plot_wage_diffs_by_ethrace(miami_wages_ethrace, not_miami_wages_ethrace)"
   ]
  },
  {
   "cell_type": "markdown",
   "metadata": {
    "deletable": false,
    "editable": false,
    "tags": [
     "ignore"
    ]
   },
   "source": [
    "**Question 3.2:** If wages were hurt by the influx of migrants, we would expect this graph to show\n",
    "\n",
    "1. A decrease after 1980, as Miami wages went down relative to other cities\n",
    "2. Values below 0 for all periods, because Miami would always have lower wages\n",
    "3. An uptick after 1980, because we are working with logarithms.\n",
    "4. An increase after 1980, as Miami wages went down relative to other cities\n",
    "\n",
    "Assign the number corresponding to your answer to `q3_2` below.\n",
    "\n",
    "_Hint:_ $\\log A  - \\log B = \\log \\frac{A}{B}$"
   ]
  },
  {
   "cell_type": "code",
   "execution_count": 1,
   "metadata": {
    "tags": []
   },
   "outputs": [],
   "source": [
    "q3_2 = 1"
   ]
  },
  {
   "cell_type": "code",
   "execution_count": null,
   "metadata": {
    "deletable": false,
    "editable": false
   },
   "outputs": [],
   "source": [
    "grader.check(\"q3_2\")"
   ]
  },
  {
   "cell_type": "markdown",
   "metadata": {
    "tags": [
     "ignore"
    ]
   },
   "source": [
    "So it seems that indeed our analysis is consistent with Card's conclusion that \"the Mariel immigration had virtually no effect on wages or unemployment outcomes of non-Cuban workers in the Miami labor market\" (p. 255)."
   ]
  },
  {
   "cell_type": "markdown",
   "metadata": {
    "tags": [
     "ignore"
    ]
   },
   "source": [
    "---\n",
    "## Part 4: Education\n",
    "\n",
    "We would expect any negative effect of the influx of immigrants to be strongest on the group that they most resemble. Because most of the Cuban immigrants in the boatlift were unskilled, we would expect the strongest effect on non-immigrants with the least education, with perhaps the clearest comparison group being Hispanics with the least education.\n",
    "\n",
    "Card used a different approach, looking at the effects for low-skilled workers by predicting wages based on education and years of experience. Here we do something a bit simpler, using education only."
   ]
  },
  {
   "cell_type": "markdown",
   "metadata": {
    "deletable": false,
    "editable": false
   },
   "source": [
    "<!-- BEGIN QUESTION -->\n",
    "\n",
    "**Question 4.1:** If the boatlift had a negative effect on the employment of unskilled workers, what would we expect to see in the unemployment for each of categories of education in both Miami and the comparison cities? \n",
    "\n",
    "_Note:_ The possible values of `educ` are `BA`, `HS`, or `lessHS`."
   ]
  },
  {
   "cell_type": "code",
   "execution_count": 60,
   "metadata": {},
   "outputs": [
    {
     "data": {
      "text/plain": [
       "array(['lessHS', 'HS', 'BA'], dtype=object)"
      ]
     },
     "execution_count": 60,
     "metadata": {},
     "output_type": "execute_result"
    }
   ],
   "source": [
    "mariel['educ'].unique()"
   ]
  },
  {
   "cell_type": "markdown",
   "metadata": {},
   "source": [
    "_Type your answer here, replacing this text._"
   ]
  },
  {
   "cell_type": "markdown",
   "metadata": {
    "deletable": false,
    "editable": false,
    "tags": [
     "ignore"
    ]
   },
   "source": [
    "<!-- END QUESTION -->\n",
    "\n",
    "We want to create a similar pivot table as in parts 2 and 3, except we want the values in this table to be the mean of the unemployment rate partitioned by _education_, not `ethrace`. We create this table for Miami below."
   ]
  },
  {
   "cell_type": "code",
   "execution_count": 23,
   "metadata": {},
   "outputs": [
    {
     "data": {
      "text/html": [
       "<div>\n",
       "<style scoped>\n",
       "    .dataframe tbody tr th:only-of-type {\n",
       "        vertical-align: middle;\n",
       "    }\n",
       "\n",
       "    .dataframe tbody tr th {\n",
       "        vertical-align: top;\n",
       "    }\n",
       "\n",
       "    .dataframe thead th {\n",
       "        text-align: right;\n",
       "    }\n",
       "</style>\n",
       "<table border=\"1\" class=\"dataframe\">\n",
       "  <thead>\n",
       "    <tr style=\"text-align: right;\">\n",
       "      <th>educ</th>\n",
       "      <th>BA</th>\n",
       "      <th>HS</th>\n",
       "      <th>lessHS</th>\n",
       "    </tr>\n",
       "    <tr>\n",
       "      <th>year</th>\n",
       "      <th></th>\n",
       "      <th></th>\n",
       "      <th></th>\n",
       "    </tr>\n",
       "  </thead>\n",
       "  <tbody>\n",
       "    <tr>\n",
       "      <th>1979</th>\n",
       "      <td>0.036842</td>\n",
       "      <td>0.048986</td>\n",
       "      <td>0.094801</td>\n",
       "    </tr>\n",
       "    <tr>\n",
       "      <th>1980</th>\n",
       "      <td>0.038674</td>\n",
       "      <td>0.038580</td>\n",
       "      <td>0.086721</td>\n",
       "    </tr>\n",
       "    <tr>\n",
       "      <th>1981</th>\n",
       "      <td>0.027027</td>\n",
       "      <td>0.067278</td>\n",
       "      <td>0.125326</td>\n",
       "    </tr>\n",
       "    <tr>\n",
       "      <th>1982</th>\n",
       "      <td>0.031915</td>\n",
       "      <td>0.083601</td>\n",
       "      <td>0.165312</td>\n",
       "    </tr>\n",
       "    <tr>\n",
       "      <th>1983</th>\n",
       "      <td>0.026432</td>\n",
       "      <td>0.107829</td>\n",
       "      <td>0.180328</td>\n",
       "    </tr>\n",
       "    <tr>\n",
       "      <th>1984</th>\n",
       "      <td>0.024096</td>\n",
       "      <td>0.080960</td>\n",
       "      <td>0.126935</td>\n",
       "    </tr>\n",
       "    <tr>\n",
       "      <th>1985</th>\n",
       "      <td>0.013986</td>\n",
       "      <td>0.063063</td>\n",
       "      <td>0.077844</td>\n",
       "    </tr>\n",
       "  </tbody>\n",
       "</table>\n",
       "</div>"
      ],
      "text/plain": [
       "educ        BA        HS    lessHS\n",
       "year                              \n",
       "1979  0.036842  0.048986  0.094801\n",
       "1980  0.038674  0.038580  0.086721\n",
       "1981  0.027027  0.067278  0.125326\n",
       "1982  0.031915  0.083601  0.165312\n",
       "1983  0.026432  0.107829  0.180328\n",
       "1984  0.024096  0.080960  0.126935\n",
       "1985  0.013986  0.063063  0.077844"
      ]
     },
     "execution_count": 23,
     "metadata": {},
     "output_type": "execute_result"
    }
   ],
   "source": [
    "miami_educ_ue = mariel[(mariel[\"age\"] >= 16) & \\\n",
    "                       (mariel[\"age\"] <= 61) & \\\n",
    "                       (mariel[\"smsarank\"] == \"Miami\")]\n",
    "miami_educ_ue = pd.pivot_table(miami_educ_ue, values=\"esr\", index=[\"year\"], \\\n",
    "                               columns=[\"educ\"], aggfunc=get_ue)\n",
    "miami_educ_ue"
   ]
  },
  {
   "cell_type": "markdown",
   "metadata": {
    "deletable": false,
    "editable": false,
    "tags": [
     "gradable"
    ]
   },
   "source": [
    "<!-- BEGIN QUESTION -->\n",
    "\n",
    "**Question 4.2:** What happens to the unemployment rates of those with a college education (BA) between 1980 and 1982, when the effects of the Mariel boatlift should have been felt? What happens to those with the least education? (\"lessHS\"). Is this consistent with a large effect of immigration on the least educated that is hypothesized above?"
   ]
  },
  {
   "cell_type": "markdown",
   "metadata": {},
   "source": [
    "_Type your answer here, replacing this text._"
   ]
  },
  {
   "cell_type": "markdown",
   "metadata": {
    "deletable": false,
    "editable": false,
    "tags": [
     "gradable",
     "ignore"
    ]
   },
   "source": [
    "<!-- END QUESTION -->\n",
    "\n",
    "**Question 4.3:** Create the same pivot table below, except for the comparison cities (that is, all cities _except for Miami_). Store the pivot table as `not_miami_educ_ue`."
   ]
  },
  {
   "cell_type": "code",
   "execution_count": 56,
   "metadata": {
    "tags": [
     "gradable"
    ]
   },
   "outputs": [
    {
     "data": {
      "text/html": [
       "<div>\n",
       "<style scoped>\n",
       "    .dataframe tbody tr th:only-of-type {\n",
       "        vertical-align: middle;\n",
       "    }\n",
       "\n",
       "    .dataframe tbody tr th {\n",
       "        vertical-align: top;\n",
       "    }\n",
       "\n",
       "    .dataframe thead th {\n",
       "        text-align: right;\n",
       "    }\n",
       "</style>\n",
       "<table border=\"1\" class=\"dataframe\">\n",
       "  <thead>\n",
       "    <tr style=\"text-align: right;\">\n",
       "      <th>educ</th>\n",
       "      <th>BA</th>\n",
       "      <th>HS</th>\n",
       "      <th>lessHS</th>\n",
       "    </tr>\n",
       "    <tr>\n",
       "      <th>year</th>\n",
       "      <th></th>\n",
       "      <th></th>\n",
       "      <th></th>\n",
       "    </tr>\n",
       "  </thead>\n",
       "  <tbody>\n",
       "    <tr>\n",
       "      <th>1979</th>\n",
       "      <td>0.037037</td>\n",
       "      <td>0.050183</td>\n",
       "      <td>0.091659</td>\n",
       "    </tr>\n",
       "    <tr>\n",
       "      <th>1980</th>\n",
       "      <td>0.030181</td>\n",
       "      <td>0.059263</td>\n",
       "      <td>0.115025</td>\n",
       "    </tr>\n",
       "    <tr>\n",
       "      <th>1981</th>\n",
       "      <td>0.028841</td>\n",
       "      <td>0.055288</td>\n",
       "      <td>0.116598</td>\n",
       "    </tr>\n",
       "    <tr>\n",
       "      <th>1982</th>\n",
       "      <td>0.041056</td>\n",
       "      <td>0.079636</td>\n",
       "      <td>0.150665</td>\n",
       "    </tr>\n",
       "    <tr>\n",
       "      <th>1983</th>\n",
       "      <td>0.040887</td>\n",
       "      <td>0.087858</td>\n",
       "      <td>0.179265</td>\n",
       "    </tr>\n",
       "    <tr>\n",
       "      <th>1984</th>\n",
       "      <td>0.040208</td>\n",
       "      <td>0.070013</td>\n",
       "      <td>0.130964</td>\n",
       "    </tr>\n",
       "    <tr>\n",
       "      <th>1985</th>\n",
       "      <td>0.036661</td>\n",
       "      <td>0.065138</td>\n",
       "      <td>0.133809</td>\n",
       "    </tr>\n",
       "  </tbody>\n",
       "</table>\n",
       "</div>"
      ],
      "text/plain": [
       "educ        BA        HS    lessHS\n",
       "year                              \n",
       "1979  0.037037  0.050183  0.091659\n",
       "1980  0.030181  0.059263  0.115025\n",
       "1981  0.028841  0.055288  0.116598\n",
       "1982  0.041056  0.079636  0.150665\n",
       "1983  0.040887  0.087858  0.179265\n",
       "1984  0.040208  0.070013  0.130964\n",
       "1985  0.036661  0.065138  0.133809"
      ]
     },
     "execution_count": 56,
     "metadata": {},
     "output_type": "execute_result"
    }
   ],
   "source": [
    "# I specifically note here that we are NOT asked to exclude cubans from the not_miami_educ_ue table and thus they are still included\n",
    "not_miami_educ_ue = mariel[(mariel[\"age\"] >= 16) \n",
    "                           & (mariel[\"age\"] <= 61) \n",
    "                           & (mariel[\"smsarank\"] != \"Miami\") \n",
    "                           ]\n",
    "not_miami_educ_ue = pd.pivot_table(not_miami_educ_ue, values=\"esr\", index=[\"year\"], \\\n",
    "                               columns=[\"educ\"], aggfunc=get_ue)\n",
    "not_miami_educ_ue"
   ]
  },
  {
   "cell_type": "code",
   "execution_count": 45,
   "metadata": {
    "deletable": false,
    "editable": false
   },
   "outputs": [
    {
     "data": {
      "text/html": [
       "<p><strong><pre style='display: inline;'>q4_3</pre></strong> passed! 💯</p>"
      ],
      "text/plain": [
       "q4_3 results: All test cases passed!"
      ]
     },
     "execution_count": 45,
     "metadata": {},
     "output_type": "execute_result"
    }
   ],
   "source": [
    "grader.check(\"q4_3\")"
   ]
  },
  {
   "cell_type": "markdown",
   "metadata": {
    "tags": [
     "ignore"
    ]
   },
   "source": [
    "In the cell below, we plot the unemployment rates for Miami and the comparison cities for each `educ` value."
   ]
  },
  {
   "cell_type": "code",
   "execution_count": 46,
   "metadata": {
    "tags": [
     "ignore"
    ]
   },
   "outputs": [
    {
     "data": {
      "image/png": "[encoded data removed]",
      "text/plain": [
       "<Figure size 1400x1200 with 3 Axes>"
      ]
     },
     "metadata": {},
     "output_type": "display_data"
    }
   ],
   "source": [
    "plot_ue_by_educ(miami_educ_ue, not_miami_educ_ue)"
   ]
  },
  {
   "cell_type": "markdown",
   "metadata": {
    "deletable": false,
    "editable": false,
    "tags": [
     "gradable"
    ]
   },
   "source": [
    "<!-- BEGIN QUESTION -->\n",
    "\n",
    "**Question 4.4:** Like Card's study, many empirical papers find very small or no impact of immigration on local workers' wages and employment. Several studies even found a positive impact of skilled immigration on wages and employment. What are 2 possible reasons why having immigrants could benefit non-immigrant workers?"
   ]
  },
  {
   "cell_type": "markdown",
   "metadata": {},
   "source": [
    "_Type your answer here, replacing this text._"
   ]
  },
  {
   "cell_type": "markdown",
   "metadata": {
    "deletable": false,
    "editable": false
   },
   "source": [
    "<!-- END QUESTION -->\n",
    "\n",
    "---\n",
    "## Part 5: What Determines Wages?\n",
    "Now we want to use the data and expand on the above analysis by asking what variables are related to wages. We will use the basic OLS regression to quantitatively determine the association. This is also part of the analysis Card used to produce Table 7 in his paper. "
   ]
  },
  {
   "cell_type": "markdown",
   "metadata": {
    "deletable": false,
    "editable": false
   },
   "source": [
    "**Question 5.1:** Filter `mariel_ehre` for individuals that are being employed full-time. Assign the result to `mariel_full_time`. "
   ]
  },
  {
   "cell_type": "code",
   "execution_count": 54,
   "metadata": {
    "tags": []
   },
   "outputs": [
    {
     "data": {
      "text/html": [
       "<div>\n",
       "<style scoped>\n",
       "    .dataframe tbody tr th:only-of-type {\n",
       "        vertical-align: middle;\n",
       "    }\n",
       "\n",
       "    .dataframe tbody tr th {\n",
       "        vertical-align: top;\n",
       "    }\n",
       "\n",
       "    .dataframe thead th {\n",
       "        text-align: right;\n",
       "    }\n",
       "</style>\n",
       "<table border=\"1\" class=\"dataframe\">\n",
       "  <thead>\n",
       "    <tr style=\"text-align: right;\">\n",
       "      <th></th>\n",
       "      <th>age</th>\n",
       "      <th>smsarank</th>\n",
       "      <th>esr</th>\n",
       "      <th>ftpt79</th>\n",
       "      <th>earnhre</th>\n",
       "      <th>educ</th>\n",
       "      <th>ethrace</th>\n",
       "      <th>year</th>\n",
       "      <th>log_w</th>\n",
       "    </tr>\n",
       "  </thead>\n",
       "  <tbody>\n",
       "    <tr>\n",
       "      <th>0</th>\n",
       "      <td>56</td>\n",
       "      <td>Los Angeles</td>\n",
       "      <td>Employed-At Work</td>\n",
       "      <td>Employed full-time</td>\n",
       "      <td>700.0</td>\n",
       "      <td>HS</td>\n",
       "      <td>whites</td>\n",
       "      <td>1979</td>\n",
       "      <td>1.945910</td>\n",
       "    </tr>\n",
       "    <tr>\n",
       "      <th>1</th>\n",
       "      <td>23</td>\n",
       "      <td>Los Angeles</td>\n",
       "      <td>Employed-At Work</td>\n",
       "      <td>Employed full-time</td>\n",
       "      <td>1002.0</td>\n",
       "      <td>HS</td>\n",
       "      <td>whites</td>\n",
       "      <td>1979</td>\n",
       "      <td>2.304583</td>\n",
       "    </tr>\n",
       "    <tr>\n",
       "      <th>2</th>\n",
       "      <td>65</td>\n",
       "      <td>Los Angeles</td>\n",
       "      <td>Employed-At Work</td>\n",
       "      <td>Employed full-time</td>\n",
       "      <td>895.0</td>\n",
       "      <td>HS</td>\n",
       "      <td>whites</td>\n",
       "      <td>1979</td>\n",
       "      <td>2.191654</td>\n",
       "    </tr>\n",
       "    <tr>\n",
       "      <th>3</th>\n",
       "      <td>41</td>\n",
       "      <td>Los Angeles</td>\n",
       "      <td>Employed-At Work</td>\n",
       "      <td>Employed full-time</td>\n",
       "      <td>400.0</td>\n",
       "      <td>lessHS</td>\n",
       "      <td>whites</td>\n",
       "      <td>1979</td>\n",
       "      <td>1.386294</td>\n",
       "    </tr>\n",
       "    <tr>\n",
       "      <th>4</th>\n",
       "      <td>53</td>\n",
       "      <td>Los Angeles</td>\n",
       "      <td>Employed-At Work</td>\n",
       "      <td>Employed full-time</td>\n",
       "      <td>700.0</td>\n",
       "      <td>lessHS</td>\n",
       "      <td>whites</td>\n",
       "      <td>1979</td>\n",
       "      <td>1.945910</td>\n",
       "    </tr>\n",
       "    <tr>\n",
       "      <th>...</th>\n",
       "      <td>...</td>\n",
       "      <td>...</td>\n",
       "      <td>...</td>\n",
       "      <td>...</td>\n",
       "      <td>...</td>\n",
       "      <td>...</td>\n",
       "      <td>...</td>\n",
       "      <td>...</td>\n",
       "      <td>...</td>\n",
       "    </tr>\n",
       "    <tr>\n",
       "      <th>26419</th>\n",
       "      <td>33</td>\n",
       "      <td>Atlanta</td>\n",
       "      <td>Employed-At Work</td>\n",
       "      <td>Employed full-time</td>\n",
       "      <td>500.0</td>\n",
       "      <td>HS</td>\n",
       "      <td>whites</td>\n",
       "      <td>1985</td>\n",
       "      <td>1.609438</td>\n",
       "    </tr>\n",
       "    <tr>\n",
       "      <th>26420</th>\n",
       "      <td>41</td>\n",
       "      <td>Atlanta</td>\n",
       "      <td>Employed-At Work</td>\n",
       "      <td>Employed full-time</td>\n",
       "      <td>1100.0</td>\n",
       "      <td>lessHS</td>\n",
       "      <td>whites</td>\n",
       "      <td>1985</td>\n",
       "      <td>2.397895</td>\n",
       "    </tr>\n",
       "    <tr>\n",
       "      <th>26421</th>\n",
       "      <td>36</td>\n",
       "      <td>Atlanta</td>\n",
       "      <td>Employed-At Work</td>\n",
       "      <td>Employed full-time</td>\n",
       "      <td>650.0</td>\n",
       "      <td>HS</td>\n",
       "      <td>whites</td>\n",
       "      <td>1985</td>\n",
       "      <td>1.871802</td>\n",
       "    </tr>\n",
       "    <tr>\n",
       "      <th>26422</th>\n",
       "      <td>25</td>\n",
       "      <td>Atlanta</td>\n",
       "      <td>Employed-At Work</td>\n",
       "      <td>Employed full-time</td>\n",
       "      <td>775.0</td>\n",
       "      <td>HS</td>\n",
       "      <td>whites</td>\n",
       "      <td>1985</td>\n",
       "      <td>2.047693</td>\n",
       "    </tr>\n",
       "    <tr>\n",
       "      <th>26423</th>\n",
       "      <td>24</td>\n",
       "      <td>Atlanta</td>\n",
       "      <td>Employed-At Work</td>\n",
       "      <td>Employed full-time</td>\n",
       "      <td>650.0</td>\n",
       "      <td>lessHS</td>\n",
       "      <td>whites</td>\n",
       "      <td>1985</td>\n",
       "      <td>1.871802</td>\n",
       "    </tr>\n",
       "  </tbody>\n",
       "</table>\n",
       "<p>26424 rows × 9 columns</p>\n",
       "</div>"
      ],
      "text/plain": [
       "       age     smsarank               esr              ftpt79  earnhre  \\\n",
       "0       56  Los Angeles  Employed-At Work  Employed full-time    700.0   \n",
       "1       23  Los Angeles  Employed-At Work  Employed full-time   1002.0   \n",
       "2       65  Los Angeles  Employed-At Work  Employed full-time    895.0   \n",
       "3       41  Los Angeles  Employed-At Work  Employed full-time    400.0   \n",
       "4       53  Los Angeles  Employed-At Work  Employed full-time    700.0   \n",
       "...    ...          ...               ...                 ...      ...   \n",
       "26419   33      Atlanta  Employed-At Work  Employed full-time    500.0   \n",
       "26420   41      Atlanta  Employed-At Work  Employed full-time   1100.0   \n",
       "26421   36      Atlanta  Employed-At Work  Employed full-time    650.0   \n",
       "26422   25      Atlanta  Employed-At Work  Employed full-time    775.0   \n",
       "26423   24      Atlanta  Employed-At Work  Employed full-time    650.0   \n",
       "\n",
       "         educ ethrace  year     log_w  \n",
       "0          HS  whites  1979  1.945910  \n",
       "1          HS  whites  1979  2.304583  \n",
       "2          HS  whites  1979  2.191654  \n",
       "3      lessHS  whites  1979  1.386294  \n",
       "4      lessHS  whites  1979  1.945910  \n",
       "...       ...     ...   ...       ...  \n",
       "26419      HS  whites  1985  1.609438  \n",
       "26420  lessHS  whites  1985  2.397895  \n",
       "26421      HS  whites  1985  1.871802  \n",
       "26422      HS  whites  1985  2.047693  \n",
       "26423  lessHS  whites  1985  1.871802  \n",
       "\n",
       "[26424 rows x 9 columns]"
      ]
     },
     "execution_count": 54,
     "metadata": {},
     "output_type": "execute_result"
    }
   ],
   "source": [
    "mariel_full_time = mariel_ehre[mariel_ehre['ftpt79']=='Employed full-time'].reset_index(drop=True)\n",
    "mariel_full_time"
   ]
  },
  {
   "cell_type": "code",
   "execution_count": 55,
   "metadata": {
    "deletable": false,
    "editable": false
   },
   "outputs": [
    {
     "data": {
      "text/html": [
       "<p><strong><pre style='display: inline;'>q5_1</pre></strong> passed! 🚀</p>"
      ],
      "text/plain": [
       "q5_1 results: All test cases passed!"
      ]
     },
     "execution_count": 55,
     "metadata": {},
     "output_type": "execute_result"
    }
   ],
   "source": [
    "grader.check(\"q5_1\")"
   ]
  },
  {
   "cell_type": "markdown",
   "metadata": {},
   "source": [
    "What variables in our dataframe are related to wages? It seems like `educ`, `ethrace`, `year`, and `smsarank` can have an influence on individuals' income. \n",
    "\n",
    "But note that these columns are strings, and we cannot run regression on string-values columns. To get around this, we will create some dummy variables (this process is often called \"one-hot encoding\"). "
   ]
  },
  {
   "cell_type": "markdown",
   "metadata": {},
   "source": [
    "For example, let's create some dummies for `educ` using `pd.get_dummies`. "
   ]
  },
  {
   "cell_type": "code",
   "execution_count": 63,
   "metadata": {},
   "outputs": [
    {
     "data": {
      "text/html": [
       "<div>\n",
       "<style scoped>\n",
       "    .dataframe tbody tr th:only-of-type {\n",
       "        vertical-align: middle;\n",
       "    }\n",
       "\n",
       "    .dataframe tbody tr th {\n",
       "        vertical-align: top;\n",
       "    }\n",
       "\n",
       "    .dataframe thead th {\n",
       "        text-align: right;\n",
       "    }\n",
       "</style>\n",
       "<table border=\"1\" class=\"dataframe\">\n",
       "  <thead>\n",
       "    <tr style=\"text-align: right;\">\n",
       "      <th></th>\n",
       "      <th>BA</th>\n",
       "      <th>HS</th>\n",
       "      <th>lessHS</th>\n",
       "    </tr>\n",
       "  </thead>\n",
       "  <tbody>\n",
       "    <tr>\n",
       "      <th>0</th>\n",
       "      <td>0.0</td>\n",
       "      <td>1.0</td>\n",
       "      <td>0.0</td>\n",
       "    </tr>\n",
       "    <tr>\n",
       "      <th>1</th>\n",
       "      <td>0.0</td>\n",
       "      <td>1.0</td>\n",
       "      <td>0.0</td>\n",
       "    </tr>\n",
       "    <tr>\n",
       "      <th>2</th>\n",
       "      <td>0.0</td>\n",
       "      <td>1.0</td>\n",
       "      <td>0.0</td>\n",
       "    </tr>\n",
       "    <tr>\n",
       "      <th>3</th>\n",
       "      <td>0.0</td>\n",
       "      <td>0.0</td>\n",
       "      <td>1.0</td>\n",
       "    </tr>\n",
       "    <tr>\n",
       "      <th>4</th>\n",
       "      <td>0.0</td>\n",
       "      <td>0.0</td>\n",
       "      <td>1.0</td>\n",
       "    </tr>\n",
       "    <tr>\n",
       "      <th>...</th>\n",
       "      <td>...</td>\n",
       "      <td>...</td>\n",
       "      <td>...</td>\n",
       "    </tr>\n",
       "    <tr>\n",
       "      <th>26419</th>\n",
       "      <td>0.0</td>\n",
       "      <td>1.0</td>\n",
       "      <td>0.0</td>\n",
       "    </tr>\n",
       "    <tr>\n",
       "      <th>26420</th>\n",
       "      <td>0.0</td>\n",
       "      <td>0.0</td>\n",
       "      <td>1.0</td>\n",
       "    </tr>\n",
       "    <tr>\n",
       "      <th>26421</th>\n",
       "      <td>0.0</td>\n",
       "      <td>1.0</td>\n",
       "      <td>0.0</td>\n",
       "    </tr>\n",
       "    <tr>\n",
       "      <th>26422</th>\n",
       "      <td>0.0</td>\n",
       "      <td>1.0</td>\n",
       "      <td>0.0</td>\n",
       "    </tr>\n",
       "    <tr>\n",
       "      <th>26423</th>\n",
       "      <td>0.0</td>\n",
       "      <td>0.0</td>\n",
       "      <td>1.0</td>\n",
       "    </tr>\n",
       "  </tbody>\n",
       "</table>\n",
       "<p>26424 rows × 3 columns</p>\n",
       "</div>"
      ],
      "text/plain": [
       "        BA   HS  lessHS\n",
       "0      0.0  1.0     0.0\n",
       "1      0.0  1.0     0.0\n",
       "2      0.0  1.0     0.0\n",
       "3      0.0  0.0     1.0\n",
       "4      0.0  0.0     1.0\n",
       "...    ...  ...     ...\n",
       "26419  0.0  1.0     0.0\n",
       "26420  0.0  0.0     1.0\n",
       "26421  0.0  1.0     0.0\n",
       "26422  0.0  1.0     0.0\n",
       "26423  0.0  0.0     1.0\n",
       "\n",
       "[26424 rows x 3 columns]"
      ]
     },
     "execution_count": 63,
     "metadata": {},
     "output_type": "execute_result"
    }
   ],
   "source": [
    "educ_dummies = pd.get_dummies(mariel_full_time[\"educ\"], dtype=float)\n",
    "educ_dummies"
   ]
  },
  {
   "cell_type": "markdown",
   "metadata": {},
   "source": [
    "And we can add them back to a dataframe using `join`. But note that we should not include all the dummy columns, otherwise we will run into issues with linear dependence. This is called the \"dummy variable trap\". "
   ]
  },
  {
   "cell_type": "code",
   "execution_count": 108,
   "metadata": {},
   "outputs": [
    {
     "data": {
      "text/html": [
       "<div>\n",
       "<style scoped>\n",
       "    .dataframe tbody tr th:only-of-type {\n",
       "        vertical-align: middle;\n",
       "    }\n",
       "\n",
       "    .dataframe tbody tr th {\n",
       "        vertical-align: top;\n",
       "    }\n",
       "\n",
       "    .dataframe thead th {\n",
       "        text-align: right;\n",
       "    }\n",
       "</style>\n",
       "<table border=\"1\" class=\"dataframe\">\n",
       "  <thead>\n",
       "    <tr style=\"text-align: right;\">\n",
       "      <th></th>\n",
       "      <th>age</th>\n",
       "      <th>smsarank</th>\n",
       "      <th>esr</th>\n",
       "      <th>ftpt79</th>\n",
       "      <th>earnhre</th>\n",
       "      <th>ethrace</th>\n",
       "      <th>year</th>\n",
       "      <th>log_w</th>\n",
       "      <th>BA</th>\n",
       "      <th>HS</th>\n",
       "    </tr>\n",
       "  </thead>\n",
       "  <tbody>\n",
       "    <tr>\n",
       "      <th>0</th>\n",
       "      <td>56</td>\n",
       "      <td>Los Angeles</td>\n",
       "      <td>Employed-At Work</td>\n",
       "      <td>Employed full-time</td>\n",
       "      <td>700.0</td>\n",
       "      <td>whites</td>\n",
       "      <td>1979</td>\n",
       "      <td>1.945910</td>\n",
       "      <td>0.0</td>\n",
       "      <td>1.0</td>\n",
       "    </tr>\n",
       "    <tr>\n",
       "      <th>1</th>\n",
       "      <td>23</td>\n",
       "      <td>Los Angeles</td>\n",
       "      <td>Employed-At Work</td>\n",
       "      <td>Employed full-time</td>\n",
       "      <td>1002.0</td>\n",
       "      <td>whites</td>\n",
       "      <td>1979</td>\n",
       "      <td>2.304583</td>\n",
       "      <td>0.0</td>\n",
       "      <td>1.0</td>\n",
       "    </tr>\n",
       "    <tr>\n",
       "      <th>2</th>\n",
       "      <td>65</td>\n",
       "      <td>Los Angeles</td>\n",
       "      <td>Employed-At Work</td>\n",
       "      <td>Employed full-time</td>\n",
       "      <td>895.0</td>\n",
       "      <td>whites</td>\n",
       "      <td>1979</td>\n",
       "      <td>2.191654</td>\n",
       "      <td>0.0</td>\n",
       "      <td>1.0</td>\n",
       "    </tr>\n",
       "    <tr>\n",
       "      <th>3</th>\n",
       "      <td>41</td>\n",
       "      <td>Los Angeles</td>\n",
       "      <td>Employed-At Work</td>\n",
       "      <td>Employed full-time</td>\n",
       "      <td>400.0</td>\n",
       "      <td>whites</td>\n",
       "      <td>1979</td>\n",
       "      <td>1.386294</td>\n",
       "      <td>0.0</td>\n",
       "      <td>0.0</td>\n",
       "    </tr>\n",
       "    <tr>\n",
       "      <th>4</th>\n",
       "      <td>53</td>\n",
       "      <td>Los Angeles</td>\n",
       "      <td>Employed-At Work</td>\n",
       "      <td>Employed full-time</td>\n",
       "      <td>700.0</td>\n",
       "      <td>whites</td>\n",
       "      <td>1979</td>\n",
       "      <td>1.945910</td>\n",
       "      <td>0.0</td>\n",
       "      <td>0.0</td>\n",
       "    </tr>\n",
       "    <tr>\n",
       "      <th>...</th>\n",
       "      <td>...</td>\n",
       "      <td>...</td>\n",
       "      <td>...</td>\n",
       "      <td>...</td>\n",
       "      <td>...</td>\n",
       "      <td>...</td>\n",
       "      <td>...</td>\n",
       "      <td>...</td>\n",
       "      <td>...</td>\n",
       "      <td>...</td>\n",
       "    </tr>\n",
       "    <tr>\n",
       "      <th>26419</th>\n",
       "      <td>33</td>\n",
       "      <td>Atlanta</td>\n",
       "      <td>Employed-At Work</td>\n",
       "      <td>Employed full-time</td>\n",
       "      <td>500.0</td>\n",
       "      <td>whites</td>\n",
       "      <td>1985</td>\n",
       "      <td>1.609438</td>\n",
       "      <td>0.0</td>\n",
       "      <td>1.0</td>\n",
       "    </tr>\n",
       "    <tr>\n",
       "      <th>26420</th>\n",
       "      <td>41</td>\n",
       "      <td>Atlanta</td>\n",
       "      <td>Employed-At Work</td>\n",
       "      <td>Employed full-time</td>\n",
       "      <td>1100.0</td>\n",
       "      <td>whites</td>\n",
       "      <td>1985</td>\n",
       "      <td>2.397895</td>\n",
       "      <td>0.0</td>\n",
       "      <td>0.0</td>\n",
       "    </tr>\n",
       "    <tr>\n",
       "      <th>26421</th>\n",
       "      <td>36</td>\n",
       "      <td>Atlanta</td>\n",
       "      <td>Employed-At Work</td>\n",
       "      <td>Employed full-time</td>\n",
       "      <td>650.0</td>\n",
       "      <td>whites</td>\n",
       "      <td>1985</td>\n",
       "      <td>1.871802</td>\n",
       "      <td>0.0</td>\n",
       "      <td>1.0</td>\n",
       "    </tr>\n",
       "    <tr>\n",
       "      <th>26422</th>\n",
       "      <td>25</td>\n",
       "      <td>Atlanta</td>\n",
       "      <td>Employed-At Work</td>\n",
       "      <td>Employed full-time</td>\n",
       "      <td>775.0</td>\n",
       "      <td>whites</td>\n",
       "      <td>1985</td>\n",
       "      <td>2.047693</td>\n",
       "      <td>0.0</td>\n",
       "      <td>1.0</td>\n",
       "    </tr>\n",
       "    <tr>\n",
       "      <th>26423</th>\n",
       "      <td>24</td>\n",
       "      <td>Atlanta</td>\n",
       "      <td>Employed-At Work</td>\n",
       "      <td>Employed full-time</td>\n",
       "      <td>650.0</td>\n",
       "      <td>whites</td>\n",
       "      <td>1985</td>\n",
       "      <td>1.871802</td>\n",
       "      <td>0.0</td>\n",
       "      <td>0.0</td>\n",
       "    </tr>\n",
       "  </tbody>\n",
       "</table>\n",
       "<p>26424 rows × 10 columns</p>\n",
       "</div>"
      ],
      "text/plain": [
       "       age     smsarank               esr              ftpt79  earnhre  \\\n",
       "0       56  Los Angeles  Employed-At Work  Employed full-time    700.0   \n",
       "1       23  Los Angeles  Employed-At Work  Employed full-time   1002.0   \n",
       "2       65  Los Angeles  Employed-At Work  Employed full-time    895.0   \n",
       "3       41  Los Angeles  Employed-At Work  Employed full-time    400.0   \n",
       "4       53  Los Angeles  Employed-At Work  Employed full-time    700.0   \n",
       "...    ...          ...               ...                 ...      ...   \n",
       "26419   33      Atlanta  Employed-At Work  Employed full-time    500.0   \n",
       "26420   41      Atlanta  Employed-At Work  Employed full-time   1100.0   \n",
       "26421   36      Atlanta  Employed-At Work  Employed full-time    650.0   \n",
       "26422   25      Atlanta  Employed-At Work  Employed full-time    775.0   \n",
       "26423   24      Atlanta  Employed-At Work  Employed full-time    650.0   \n",
       "\n",
       "      ethrace  year     log_w   BA   HS  \n",
       "0      whites  1979  1.945910  0.0  1.0  \n",
       "1      whites  1979  2.304583  0.0  1.0  \n",
       "2      whites  1979  2.191654  0.0  1.0  \n",
       "3      whites  1979  1.386294  0.0  0.0  \n",
       "4      whites  1979  1.945910  0.0  0.0  \n",
       "...       ...   ...       ...  ...  ...  \n",
       "26419  whites  1985  1.609438  0.0  1.0  \n",
       "26420  whites  1985  2.397895  0.0  0.0  \n",
       "26421  whites  1985  1.871802  0.0  1.0  \n",
       "26422  whites  1985  2.047693  0.0  1.0  \n",
       "26423  whites  1985  1.871802  0.0  0.0  \n",
       "\n",
       "[26424 rows x 10 columns]"
      ]
     },
     "execution_count": 108,
     "metadata": {},
     "output_type": "execute_result"
    }
   ],
   "source": [
    "# Let's do everything all at once\n",
    "mariel_regression = mariel_full_time.copy() # copy the dataframe\n",
    "educ_dummies = pd.get_dummies(mariel_full_time[\"educ\"], dtype=float) # create dummies for educ\n",
    "educ_dummies = educ_dummies.iloc[:, :-1] # exclude the last column\n",
    "mariel_regression = mariel_regression.join(educ_dummies) # add the dummy vars to dataframe\n",
    "mariel_regression = mariel_regression.drop([\"educ\"], axis=1) # drop the original column\n",
    "mariel_regression"
   ]
  },
  {
   "cell_type": "markdown",
   "metadata": {},
   "source": [
    "#### How to interpret the dummy variables for education?\n",
    "\n",
    "We notice that there are two dummy variable columns for education: `BA` and `HS`. When `BA` is 1, it means the individual in this row has a Bachelor's degree. When `HS` is 1, it means the individual in this row has a high school degree (but not a Bachelor's degree). When both `BA` and `HS` are 0, that implies `lessHS` should be 1, and it means the individual in this row has less education than a high school degree. \n",
    "\n",
    "Therefore when `BA` and `HS` show up in a regression, we can interpret their coefficients as the following:\n",
    "- Coefficient for `BA`: the average amount of wages an individual with a Bachelor's degree earns *minus* the average amount of wages an individual with less than a high school degree earns. In other words, if the coefficient is 1, then we can say that on average an individual with a Bachelor's degree earns 1 unit (what's the unit?) more than an individual with less than a high school degree. \n",
    "- Coefficient for `HS`: the average amount of wages an individual with a high school degree earns *minus* the average amount of wages an individual with less than a high school degree earns. \n",
    "\n",
    "So in short, the coefficients for education (`BA` and `HS`) represent the additional wages earned compared to the base case scenario (which is the column that we excluded, and in this case `lessHS`). Let's try running the regression."
   ]
  },
  {
   "cell_type": "code",
   "execution_count": 109,
   "metadata": {},
   "outputs": [
    {
     "data": {
      "text/html": [
       "<table class=\"simpletable\">\n",
       "<caption>OLS Regression Results</caption>\n",
       "<tr>\n",
       "  <th>Dep. Variable:</th>         <td>earnhre</td>     <th>  R-squared:         </th>  <td>   0.055</td>  \n",
       "</tr>\n",
       "<tr>\n",
       "  <th>Model:</th>                   <td>OLS</td>       <th>  Adj. R-squared:    </th>  <td>   0.055</td>  \n",
       "</tr>\n",
       "<tr>\n",
       "  <th>Method:</th>             <td>Least Squares</td>  <th>  F-statistic:       </th>  <td>   765.6</td>  \n",
       "</tr>\n",
       "<tr>\n",
       "  <th>Date:</th>             <td>Mon, 26 Feb 2024</td> <th>  Prob (F-statistic):</th>  <td>4.94e-324</td> \n",
       "</tr>\n",
       "<tr>\n",
       "  <th>Time:</th>                 <td>21:59:32</td>     <th>  Log-Likelihood:    </th> <td>-1.9399e+05</td>\n",
       "</tr>\n",
       "<tr>\n",
       "  <th>No. Observations:</th>      <td> 26424</td>      <th>  AIC:               </th>  <td>3.880e+05</td> \n",
       "</tr>\n",
       "<tr>\n",
       "  <th>Df Residuals:</th>          <td> 26421</td>      <th>  BIC:               </th>  <td>3.880e+05</td> \n",
       "</tr>\n",
       "<tr>\n",
       "  <th>Df Model:</th>              <td>     2</td>      <th>                     </th>      <td> </td>     \n",
       "</tr>\n",
       "<tr>\n",
       "  <th>Covariance Type:</th>      <td>nonrobust</td>    <th>                     </th>      <td> </td>     \n",
       "</tr>\n",
       "</table>\n",
       "<table class=\"simpletable\">\n",
       "<tr>\n",
       "    <td></td>       <th>coef</th>     <th>std err</th>      <th>t</th>      <th>P>|t|</th>  <th>[0.025</th>    <th>0.975]</th>  \n",
       "</tr>\n",
       "<tr>\n",
       "  <th>const</th> <td>  575.3880</td> <td>    4.102</td> <td>  140.264</td> <td> 0.000</td> <td>  567.348</td> <td>  583.429</td>\n",
       "</tr>\n",
       "<tr>\n",
       "  <th>BA</th>    <td>  329.9094</td> <td>    9.190</td> <td>   35.898</td> <td> 0.000</td> <td>  311.896</td> <td>  347.922</td>\n",
       "</tr>\n",
       "<tr>\n",
       "  <th>HS</th>    <td>  139.0138</td> <td>    5.049</td> <td>   27.531</td> <td> 0.000</td> <td>  129.117</td> <td>  148.911</td>\n",
       "</tr>\n",
       "</table>\n",
       "<table class=\"simpletable\">\n",
       "<tr>\n",
       "  <th>Omnibus:</th>       <td>29813.832</td> <th>  Durbin-Watson:     </th>  <td>   1.719</td>  \n",
       "</tr>\n",
       "<tr>\n",
       "  <th>Prob(Omnibus):</th>  <td> 0.000</td>   <th>  Jarque-Bera (JB):  </th> <td>9794441.328</td>\n",
       "</tr>\n",
       "<tr>\n",
       "  <th>Skew:</th>           <td> 5.384</td>   <th>  Prob(JB):          </th>  <td>    0.00</td>  \n",
       "</tr>\n",
       "<tr>\n",
       "  <th>Kurtosis:</th>       <td>96.702</td>   <th>  Cond. No.          </th>  <td>    5.09</td>  \n",
       "</tr>\n",
       "</table><br/><br/>Notes:<br/>[1] Standard Errors assume that the covariance matrix of the errors is correctly specified."
      ],
      "text/latex": [
       "\\begin{center}\n",
       "\\begin{tabular}{lclc}\n",
       "\\toprule\n",
       "\\textbf{Dep. Variable:}    &     earnhre      & \\textbf{  R-squared:         } &      0.055   \\\\\n",
       "\\textbf{Model:}            &       OLS        & \\textbf{  Adj. R-squared:    } &      0.055   \\\\\n",
       "\\textbf{Method:}           &  Least Squares   & \\textbf{  F-statistic:       } &      765.6   \\\\\n",
       "\\textbf{Date:}             & Mon, 26 Feb 2024 & \\textbf{  Prob (F-statistic):} &  4.94e-324   \\\\\n",
       "\\textbf{Time:}             &     21:59:32     & \\textbf{  Log-Likelihood:    } & -1.9399e+05  \\\\\n",
       "\\textbf{No. Observations:} &       26424      & \\textbf{  AIC:               } &  3.880e+05   \\\\\n",
       "\\textbf{Df Residuals:}     &       26421      & \\textbf{  BIC:               } &  3.880e+05   \\\\\n",
       "\\textbf{Df Model:}         &           2      & \\textbf{                     } &              \\\\\n",
       "\\textbf{Covariance Type:}  &    nonrobust     & \\textbf{                     } &              \\\\\n",
       "\\bottomrule\n",
       "\\end{tabular}\n",
       "\\begin{tabular}{lcccccc}\n",
       "               & \\textbf{coef} & \\textbf{std err} & \\textbf{t} & \\textbf{P$> |$t$|$} & \\textbf{[0.025} & \\textbf{0.975]}  \\\\\n",
       "\\midrule\n",
       "\\textbf{const} &     575.3880  &        4.102     &   140.264  &         0.000        &      567.348    &      583.429     \\\\\n",
       "\\textbf{BA}    &     329.9094  &        9.190     &    35.898  &         0.000        &      311.896    &      347.922     \\\\\n",
       "\\textbf{HS}    &     139.0138  &        5.049     &    27.531  &         0.000        &      129.117    &      148.911     \\\\\n",
       "\\bottomrule\n",
       "\\end{tabular}\n",
       "\\begin{tabular}{lclc}\n",
       "\\textbf{Omnibus:}       & 29813.832 & \\textbf{  Durbin-Watson:     } &      1.719   \\\\\n",
       "\\textbf{Prob(Omnibus):} &    0.000  & \\textbf{  Jarque-Bera (JB):  } & 9794441.328  \\\\\n",
       "\\textbf{Skew:}          &    5.384  & \\textbf{  Prob(JB):          } &       0.00   \\\\\n",
       "\\textbf{Kurtosis:}      &   96.702  & \\textbf{  Cond. No.          } &       5.09   \\\\\n",
       "\\bottomrule\n",
       "\\end{tabular}\n",
       "%\\caption{OLS Regression Results}\n",
       "\\end{center}\n",
       "\n",
       "Notes: \\newline\n",
       " [1] Standard Errors assume that the covariance matrix of the errors is correctly specified."
      ],
      "text/plain": [
       "<class 'statsmodels.iolib.summary.Summary'>\n",
       "\"\"\"\n",
       "                            OLS Regression Results                            \n",
       "==============================================================================\n",
       "Dep. Variable:                earnhre   R-squared:                       0.055\n",
       "Model:                            OLS   Adj. R-squared:                  0.055\n",
       "Method:                 Least Squares   F-statistic:                     765.6\n",
       "Date:                Mon, 26 Feb 2024   Prob (F-statistic):          4.94e-324\n",
       "Time:                        21:59:32   Log-Likelihood:            -1.9399e+05\n",
       "No. Observations:               26424   AIC:                         3.880e+05\n",
       "Df Residuals:                   26421   BIC:                         3.880e+05\n",
       "Df Model:                           2                                         \n",
       "Covariance Type:            nonrobust                                         \n",
       "==============================================================================\n",
       "                 coef    std err          t      P>|t|      [0.025      0.975]\n",
       "------------------------------------------------------------------------------\n",
       "const        575.3880      4.102    140.264      0.000     567.348     583.429\n",
       "BA           329.9094      9.190     35.898      0.000     311.896     347.922\n",
       "HS           139.0138      5.049     27.531      0.000     129.117     148.911\n",
       "==============================================================================\n",
       "Omnibus:                    29813.832   Durbin-Watson:                   1.719\n",
       "Prob(Omnibus):                  0.000   Jarque-Bera (JB):          9794441.328\n",
       "Skew:                           5.384   Prob(JB):                         0.00\n",
       "Kurtosis:                      96.702   Cond. No.                         5.09\n",
       "==============================================================================\n",
       "\n",
       "Notes:\n",
       "[1] Standard Errors assume that the covariance matrix of the errors is correctly specified.\n",
       "\"\"\""
      ]
     },
     "execution_count": 109,
     "metadata": {},
     "output_type": "execute_result"
    }
   ],
   "source": [
    "X = mariel_regression.iloc[:, -2:] # BA and HS\n",
    "X = sm.add_constant(X) # add a constant term\n",
    "y = mariel_regression[\"earnhre\"]\n",
    "model_1 = sm.OLS(y, X).fit()\n",
    "model_1.summary()"
   ]
  },
  {
   "cell_type": "code",
   "execution_count": 66,
   "metadata": {},
   "outputs": [],
   "source": [
    "# sanity check: \n",
    "# the coefficient for constant should be 575.3880\n",
    "assert np.isclose(model_1.params[\"const\"], 575.3880)"
   ]
  },
  {
   "cell_type": "markdown",
   "metadata": {},
   "source": [
    "**What is the interpretation of this regression result?**\n",
    "\n",
    "The results show that on average individuals with less than high school degree education earns 575.39 (unit omitted; you should include it!); on average individuals with high school degree earns 714.4018 (575.3880 + 139.0138); and finally individuals with Bachelor's degree earns 905.2974 (575.3880 + 329.9094) on average. And the result is highly significant given the t-stat and p-values. So in our data, education plays an important role in determining wages. "
   ]
  },
  {
   "cell_type": "markdown",
   "metadata": {},
   "source": [
    "Now we will add the remaining variables `ethrace`, `year`, and `smsarank` to our regression. First, generate dummy variables for all of them. Let's start afresh! "
   ]
  },
  {
   "cell_type": "markdown",
   "metadata": {
    "deletable": false,
    "editable": false
   },
   "source": [
    "**Question 5.2:** Generate dummy variables for `educ`, `ethrace`, `year`, and `smsarank`. Add those dummy variables to `mariel_regression` and then drop the original column. Be sure to exclude the last dummies for each variable to avoid the 'dummy variable trap'!"
   ]
  },
  {
   "cell_type": "code",
   "execution_count": 71,
   "metadata": {
    "tags": []
   },
   "outputs": [
    {
     "data": {
      "text/html": [
       "<div>\n",
       "<style scoped>\n",
       "    .dataframe tbody tr th:only-of-type {\n",
       "        vertical-align: middle;\n",
       "    }\n",
       "\n",
       "    .dataframe tbody tr th {\n",
       "        vertical-align: top;\n",
       "    }\n",
       "\n",
       "    .dataframe thead th {\n",
       "        text-align: right;\n",
       "    }\n",
       "</style>\n",
       "<table border=\"1\" class=\"dataframe\">\n",
       "  <thead>\n",
       "    <tr style=\"text-align: right;\">\n",
       "      <th></th>\n",
       "      <th>age</th>\n",
       "      <th>esr</th>\n",
       "      <th>ftpt79</th>\n",
       "      <th>earnhre</th>\n",
       "      <th>log_w</th>\n",
       "      <th>BA</th>\n",
       "      <th>HS</th>\n",
       "      <th>blacks</th>\n",
       "      <th>cubans</th>\n",
       "      <th>hispanics</th>\n",
       "      <th>1979</th>\n",
       "      <th>1980</th>\n",
       "      <th>1981</th>\n",
       "      <th>1982</th>\n",
       "      <th>1983</th>\n",
       "      <th>1984</th>\n",
       "      <th>Atlanta</th>\n",
       "      <th>Houston</th>\n",
       "      <th>Los Angeles</th>\n",
       "      <th>Miami</th>\n",
       "    </tr>\n",
       "  </thead>\n",
       "  <tbody>\n",
       "    <tr>\n",
       "      <th>0</th>\n",
       "      <td>56</td>\n",
       "      <td>Employed-At Work</td>\n",
       "      <td>Employed full-time</td>\n",
       "      <td>700.0</td>\n",
       "      <td>1.945910</td>\n",
       "      <td>0.0</td>\n",
       "      <td>1.0</td>\n",
       "      <td>0.0</td>\n",
       "      <td>0.0</td>\n",
       "      <td>0.0</td>\n",
       "      <td>1.0</td>\n",
       "      <td>0.0</td>\n",
       "      <td>0.0</td>\n",
       "      <td>0.0</td>\n",
       "      <td>0.0</td>\n",
       "      <td>0.0</td>\n",
       "      <td>0.0</td>\n",
       "      <td>0.0</td>\n",
       "      <td>1.0</td>\n",
       "      <td>0.0</td>\n",
       "    </tr>\n",
       "    <tr>\n",
       "      <th>1</th>\n",
       "      <td>23</td>\n",
       "      <td>Employed-At Work</td>\n",
       "      <td>Employed full-time</td>\n",
       "      <td>1002.0</td>\n",
       "      <td>2.304583</td>\n",
       "      <td>0.0</td>\n",
       "      <td>1.0</td>\n",
       "      <td>0.0</td>\n",
       "      <td>0.0</td>\n",
       "      <td>0.0</td>\n",
       "      <td>1.0</td>\n",
       "      <td>0.0</td>\n",
       "      <td>0.0</td>\n",
       "      <td>0.0</td>\n",
       "      <td>0.0</td>\n",
       "      <td>0.0</td>\n",
       "      <td>0.0</td>\n",
       "      <td>0.0</td>\n",
       "      <td>1.0</td>\n",
       "      <td>0.0</td>\n",
       "    </tr>\n",
       "    <tr>\n",
       "      <th>2</th>\n",
       "      <td>65</td>\n",
       "      <td>Employed-At Work</td>\n",
       "      <td>Employed full-time</td>\n",
       "      <td>895.0</td>\n",
       "      <td>2.191654</td>\n",
       "      <td>0.0</td>\n",
       "      <td>1.0</td>\n",
       "      <td>0.0</td>\n",
       "      <td>0.0</td>\n",
       "      <td>0.0</td>\n",
       "      <td>1.0</td>\n",
       "      <td>0.0</td>\n",
       "      <td>0.0</td>\n",
       "      <td>0.0</td>\n",
       "      <td>0.0</td>\n",
       "      <td>0.0</td>\n",
       "      <td>0.0</td>\n",
       "      <td>0.0</td>\n",
       "      <td>1.0</td>\n",
       "      <td>0.0</td>\n",
       "    </tr>\n",
       "    <tr>\n",
       "      <th>3</th>\n",
       "      <td>41</td>\n",
       "      <td>Employed-At Work</td>\n",
       "      <td>Employed full-time</td>\n",
       "      <td>400.0</td>\n",
       "      <td>1.386294</td>\n",
       "      <td>0.0</td>\n",
       "      <td>0.0</td>\n",
       "      <td>0.0</td>\n",
       "      <td>0.0</td>\n",
       "      <td>0.0</td>\n",
       "      <td>1.0</td>\n",
       "      <td>0.0</td>\n",
       "      <td>0.0</td>\n",
       "      <td>0.0</td>\n",
       "      <td>0.0</td>\n",
       "      <td>0.0</td>\n",
       "      <td>0.0</td>\n",
       "      <td>0.0</td>\n",
       "      <td>1.0</td>\n",
       "      <td>0.0</td>\n",
       "    </tr>\n",
       "    <tr>\n",
       "      <th>4</th>\n",
       "      <td>53</td>\n",
       "      <td>Employed-At Work</td>\n",
       "      <td>Employed full-time</td>\n",
       "      <td>700.0</td>\n",
       "      <td>1.945910</td>\n",
       "      <td>0.0</td>\n",
       "      <td>0.0</td>\n",
       "      <td>0.0</td>\n",
       "      <td>0.0</td>\n",
       "      <td>0.0</td>\n",
       "      <td>1.0</td>\n",
       "      <td>0.0</td>\n",
       "      <td>0.0</td>\n",
       "      <td>0.0</td>\n",
       "      <td>0.0</td>\n",
       "      <td>0.0</td>\n",
       "      <td>0.0</td>\n",
       "      <td>0.0</td>\n",
       "      <td>1.0</td>\n",
       "      <td>0.0</td>\n",
       "    </tr>\n",
       "    <tr>\n",
       "      <th>...</th>\n",
       "      <td>...</td>\n",
       "      <td>...</td>\n",
       "      <td>...</td>\n",
       "      <td>...</td>\n",
       "      <td>...</td>\n",
       "      <td>...</td>\n",
       "      <td>...</td>\n",
       "      <td>...</td>\n",
       "      <td>...</td>\n",
       "      <td>...</td>\n",
       "      <td>...</td>\n",
       "      <td>...</td>\n",
       "      <td>...</td>\n",
       "      <td>...</td>\n",
       "      <td>...</td>\n",
       "      <td>...</td>\n",
       "      <td>...</td>\n",
       "      <td>...</td>\n",
       "      <td>...</td>\n",
       "      <td>...</td>\n",
       "    </tr>\n",
       "    <tr>\n",
       "      <th>26419</th>\n",
       "      <td>33</td>\n",
       "      <td>Employed-At Work</td>\n",
       "      <td>Employed full-time</td>\n",
       "      <td>500.0</td>\n",
       "      <td>1.609438</td>\n",
       "      <td>0.0</td>\n",
       "      <td>1.0</td>\n",
       "      <td>0.0</td>\n",
       "      <td>0.0</td>\n",
       "      <td>0.0</td>\n",
       "      <td>0.0</td>\n",
       "      <td>0.0</td>\n",
       "      <td>0.0</td>\n",
       "      <td>0.0</td>\n",
       "      <td>0.0</td>\n",
       "      <td>0.0</td>\n",
       "      <td>1.0</td>\n",
       "      <td>0.0</td>\n",
       "      <td>0.0</td>\n",
       "      <td>0.0</td>\n",
       "    </tr>\n",
       "    <tr>\n",
       "      <th>26420</th>\n",
       "      <td>41</td>\n",
       "      <td>Employed-At Work</td>\n",
       "      <td>Employed full-time</td>\n",
       "      <td>1100.0</td>\n",
       "      <td>2.397895</td>\n",
       "      <td>0.0</td>\n",
       "      <td>0.0</td>\n",
       "      <td>0.0</td>\n",
       "      <td>0.0</td>\n",
       "      <td>0.0</td>\n",
       "      <td>0.0</td>\n",
       "      <td>0.0</td>\n",
       "      <td>0.0</td>\n",
       "      <td>0.0</td>\n",
       "      <td>0.0</td>\n",
       "      <td>0.0</td>\n",
       "      <td>1.0</td>\n",
       "      <td>0.0</td>\n",
       "      <td>0.0</td>\n",
       "      <td>0.0</td>\n",
       "    </tr>\n",
       "    <tr>\n",
       "      <th>26421</th>\n",
       "      <td>36</td>\n",
       "      <td>Employed-At Work</td>\n",
       "      <td>Employed full-time</td>\n",
       "      <td>650.0</td>\n",
       "      <td>1.871802</td>\n",
       "      <td>0.0</td>\n",
       "      <td>1.0</td>\n",
       "      <td>0.0</td>\n",
       "      <td>0.0</td>\n",
       "      <td>0.0</td>\n",
       "      <td>0.0</td>\n",
       "      <td>0.0</td>\n",
       "      <td>0.0</td>\n",
       "      <td>0.0</td>\n",
       "      <td>0.0</td>\n",
       "      <td>0.0</td>\n",
       "      <td>1.0</td>\n",
       "      <td>0.0</td>\n",
       "      <td>0.0</td>\n",
       "      <td>0.0</td>\n",
       "    </tr>\n",
       "    <tr>\n",
       "      <th>26422</th>\n",
       "      <td>25</td>\n",
       "      <td>Employed-At Work</td>\n",
       "      <td>Employed full-time</td>\n",
       "      <td>775.0</td>\n",
       "      <td>2.047693</td>\n",
       "      <td>0.0</td>\n",
       "      <td>1.0</td>\n",
       "      <td>0.0</td>\n",
       "      <td>0.0</td>\n",
       "      <td>0.0</td>\n",
       "      <td>0.0</td>\n",
       "      <td>0.0</td>\n",
       "      <td>0.0</td>\n",
       "      <td>0.0</td>\n",
       "      <td>0.0</td>\n",
       "      <td>0.0</td>\n",
       "      <td>1.0</td>\n",
       "      <td>0.0</td>\n",
       "      <td>0.0</td>\n",
       "      <td>0.0</td>\n",
       "    </tr>\n",
       "    <tr>\n",
       "      <th>26423</th>\n",
       "      <td>24</td>\n",
       "      <td>Employed-At Work</td>\n",
       "      <td>Employed full-time</td>\n",
       "      <td>650.0</td>\n",
       "      <td>1.871802</td>\n",
       "      <td>0.0</td>\n",
       "      <td>0.0</td>\n",
       "      <td>0.0</td>\n",
       "      <td>0.0</td>\n",
       "      <td>0.0</td>\n",
       "      <td>0.0</td>\n",
       "      <td>0.0</td>\n",
       "      <td>0.0</td>\n",
       "      <td>0.0</td>\n",
       "      <td>0.0</td>\n",
       "      <td>0.0</td>\n",
       "      <td>1.0</td>\n",
       "      <td>0.0</td>\n",
       "      <td>0.0</td>\n",
       "      <td>0.0</td>\n",
       "    </tr>\n",
       "  </tbody>\n",
       "</table>\n",
       "<p>26424 rows × 20 columns</p>\n",
       "</div>"
      ],
      "text/plain": [
       "       age               esr              ftpt79  earnhre     log_w   BA   HS  \\\n",
       "0       56  Employed-At Work  Employed full-time    700.0  1.945910  0.0  1.0   \n",
       "1       23  Employed-At Work  Employed full-time   1002.0  2.304583  0.0  1.0   \n",
       "2       65  Employed-At Work  Employed full-time    895.0  2.191654  0.0  1.0   \n",
       "3       41  Employed-At Work  Employed full-time    400.0  1.386294  0.0  0.0   \n",
       "4       53  Employed-At Work  Employed full-time    700.0  1.945910  0.0  0.0   \n",
       "...    ...               ...                 ...      ...       ...  ...  ...   \n",
       "26419   33  Employed-At Work  Employed full-time    500.0  1.609438  0.0  1.0   \n",
       "26420   41  Employed-At Work  Employed full-time   1100.0  2.397895  0.0  0.0   \n",
       "26421   36  Employed-At Work  Employed full-time    650.0  1.871802  0.0  1.0   \n",
       "26422   25  Employed-At Work  Employed full-time    775.0  2.047693  0.0  1.0   \n",
       "26423   24  Employed-At Work  Employed full-time    650.0  1.871802  0.0  0.0   \n",
       "\n",
       "       blacks  cubans  hispanics  1979  1980  1981  1982  1983  1984  Atlanta  \\\n",
       "0         0.0     0.0        0.0   1.0   0.0   0.0   0.0   0.0   0.0      0.0   \n",
       "1         0.0     0.0        0.0   1.0   0.0   0.0   0.0   0.0   0.0      0.0   \n",
       "2         0.0     0.0        0.0   1.0   0.0   0.0   0.0   0.0   0.0      0.0   \n",
       "3         0.0     0.0        0.0   1.0   0.0   0.0   0.0   0.0   0.0      0.0   \n",
       "4         0.0     0.0        0.0   1.0   0.0   0.0   0.0   0.0   0.0      0.0   \n",
       "...       ...     ...        ...   ...   ...   ...   ...   ...   ...      ...   \n",
       "26419     0.0     0.0        0.0   0.0   0.0   0.0   0.0   0.0   0.0      1.0   \n",
       "26420     0.0     0.0        0.0   0.0   0.0   0.0   0.0   0.0   0.0      1.0   \n",
       "26421     0.0     0.0        0.0   0.0   0.0   0.0   0.0   0.0   0.0      1.0   \n",
       "26422     0.0     0.0        0.0   0.0   0.0   0.0   0.0   0.0   0.0      1.0   \n",
       "26423     0.0     0.0        0.0   0.0   0.0   0.0   0.0   0.0   0.0      1.0   \n",
       "\n",
       "       Houston  Los Angeles  Miami  \n",
       "0          0.0          1.0    0.0  \n",
       "1          0.0          1.0    0.0  \n",
       "2          0.0          1.0    0.0  \n",
       "3          0.0          1.0    0.0  \n",
       "4          0.0          1.0    0.0  \n",
       "...        ...          ...    ...  \n",
       "26419      0.0          0.0    0.0  \n",
       "26420      0.0          0.0    0.0  \n",
       "26421      0.0          0.0    0.0  \n",
       "26422      0.0          0.0    0.0  \n",
       "26423      0.0          0.0    0.0  \n",
       "\n",
       "[26424 rows x 20 columns]"
      ]
     },
     "execution_count": 71,
     "metadata": {},
     "output_type": "execute_result"
    }
   ],
   "source": [
    "mariel_regression = mariel_full_time.copy()\n",
    "vars = ['educ', 'ethrace', 'year', 'smsarank']\n",
    "for var in vars:\n",
    "    dummy = pd.get_dummies(mariel_regression[var], dtype=float)\n",
    "    dummy = dummy.iloc[:,:-1]\n",
    "    mariel_regression = mariel_regression.join(dummy)\n",
    "    mariel_regression = mariel_regression.drop([var],axis=1)\n",
    "mariel_regression"
   ]
  },
  {
   "cell_type": "code",
   "execution_count": 72,
   "metadata": {
    "deletable": false,
    "editable": false
   },
   "outputs": [
    {
     "data": {
      "text/html": [
       "<p><strong><pre style='display: inline;'>q5_2</pre></strong> passed! ✨</p>"
      ],
      "text/plain": [
       "q5_2 results: All test cases passed!"
      ]
     },
     "execution_count": 72,
     "metadata": {},
     "output_type": "execute_result"
    }
   ],
   "source": [
    "grader.check(\"q5_2\")"
   ]
  },
  {
   "cell_type": "markdown",
   "metadata": {},
   "source": [
    "Great job! Now we have our dataframe is ready for regression!\n",
    "\n",
    "First, let's run an OLS regression using only `educ` and `ethrace`, so that we can get a sense of how these two variables influenced wages (use `earnhre` for now) during the sample period. "
   ]
  },
  {
   "cell_type": "markdown",
   "metadata": {
    "deletable": false,
    "editable": false
   },
   "source": [
    "**Question 5.3:** Run a regression with `earnhre` as the explained variable (y) and the dummies for `educ` and `ethrace` as the explanatory variables (X). Include a constant term in your regression. Assign your OLS model to `model_2`. "
   ]
  },
  {
   "cell_type": "code",
   "execution_count": 80,
   "metadata": {
    "tags": []
   },
   "outputs": [
    {
     "data": {
      "text/html": [
       "<table class=\"simpletable\">\n",
       "<caption>OLS Regression Results</caption>\n",
       "<tr>\n",
       "  <th>Dep. Variable:</th>         <td>earnhre</td>     <th>  R-squared:         </th>  <td>   0.073</td>  \n",
       "</tr>\n",
       "<tr>\n",
       "  <th>Model:</th>                   <td>OLS</td>       <th>  Adj. R-squared:    </th>  <td>   0.073</td>  \n",
       "</tr>\n",
       "<tr>\n",
       "  <th>Method:</th>             <td>Least Squares</td>  <th>  F-statistic:       </th>  <td>   416.7</td>  \n",
       "</tr>\n",
       "<tr>\n",
       "  <th>Date:</th>             <td>Mon, 26 Feb 2024</td> <th>  Prob (F-statistic):</th>   <td>  0.00</td>   \n",
       "</tr>\n",
       "<tr>\n",
       "  <th>Time:</th>                 <td>19:47:20</td>     <th>  Log-Likelihood:    </th> <td>-1.9373e+05</td>\n",
       "</tr>\n",
       "<tr>\n",
       "  <th>No. Observations:</th>      <td> 26424</td>      <th>  AIC:               </th>  <td>3.875e+05</td> \n",
       "</tr>\n",
       "<tr>\n",
       "  <th>Df Residuals:</th>          <td> 26418</td>      <th>  BIC:               </th>  <td>3.875e+05</td> \n",
       "</tr>\n",
       "<tr>\n",
       "  <th>Df Model:</th>              <td>     5</td>      <th>                     </th>      <td> </td>     \n",
       "</tr>\n",
       "<tr>\n",
       "  <th>Covariance Type:</th>      <td>nonrobust</td>    <th>                     </th>      <td> </td>     \n",
       "</tr>\n",
       "</table>\n",
       "<table class=\"simpletable\">\n",
       "<tr>\n",
       "      <td></td>         <th>coef</th>     <th>std err</th>      <th>t</th>      <th>P>|t|</th>  <th>[0.025</th>    <th>0.975]</th>  \n",
       "</tr>\n",
       "<tr>\n",
       "  <th>const</th>     <td>  644.0090</td> <td>    5.322</td> <td>  121.002</td> <td> 0.000</td> <td>  633.577</td> <td>  654.441</td>\n",
       "</tr>\n",
       "<tr>\n",
       "  <th>BA</th>        <td>  291.1217</td> <td>    9.395</td> <td>   30.986</td> <td> 0.000</td> <td>  272.706</td> <td>  309.537</td>\n",
       "</tr>\n",
       "<tr>\n",
       "  <th>HS</th>        <td>  109.9968</td> <td>    5.342</td> <td>   20.590</td> <td> 0.000</td> <td>   99.525</td> <td>  120.468</td>\n",
       "</tr>\n",
       "<tr>\n",
       "  <th>blacks</th>    <td>  -99.5198</td> <td>    6.243</td> <td>  -15.940</td> <td> 0.000</td> <td> -111.757</td> <td>  -87.283</td>\n",
       "</tr>\n",
       "<tr>\n",
       "  <th>cubans</th>    <td> -183.1562</td> <td>   11.081</td> <td>  -16.529</td> <td> 0.000</td> <td> -204.876</td> <td> -161.437</td>\n",
       "</tr>\n",
       "<tr>\n",
       "  <th>hispanics</th> <td>  -86.1181</td> <td>    5.923</td> <td>  -14.539</td> <td> 0.000</td> <td>  -97.728</td> <td>  -74.508</td>\n",
       "</tr>\n",
       "</table>\n",
       "<table class=\"simpletable\">\n",
       "<tr>\n",
       "  <th>Omnibus:</th>       <td>30056.983</td> <th>  Durbin-Watson:     </th>   <td>   1.740</td>  \n",
       "</tr>\n",
       "<tr>\n",
       "  <th>Prob(Omnibus):</th>  <td> 0.000</td>   <th>  Jarque-Bera (JB):  </th> <td>10386647.276</td>\n",
       "</tr>\n",
       "<tr>\n",
       "  <th>Skew:</th>           <td> 5.449</td>   <th>  Prob(JB):          </th>   <td>    0.00</td>  \n",
       "</tr>\n",
       "<tr>\n",
       "  <th>Kurtosis:</th>       <td>99.515</td>   <th>  Cond. No.          </th>   <td>    6.52</td>  \n",
       "</tr>\n",
       "</table><br/><br/>Notes:<br/>[1] Standard Errors assume that the covariance matrix of the errors is correctly specified."
      ],
      "text/latex": [
       "\\begin{center}\n",
       "\\begin{tabular}{lclc}\n",
       "\\toprule\n",
       "\\textbf{Dep. Variable:}    &     earnhre      & \\textbf{  R-squared:         } &      0.073    \\\\\n",
       "\\textbf{Model:}            &       OLS        & \\textbf{  Adj. R-squared:    } &      0.073    \\\\\n",
       "\\textbf{Method:}           &  Least Squares   & \\textbf{  F-statistic:       } &      416.7    \\\\\n",
       "\\textbf{Date:}             & Mon, 26 Feb 2024 & \\textbf{  Prob (F-statistic):} &      0.00     \\\\\n",
       "\\textbf{Time:}             &     19:47:20     & \\textbf{  Log-Likelihood:    } & -1.9373e+05   \\\\\n",
       "\\textbf{No. Observations:} &       26424      & \\textbf{  AIC:               } &  3.875e+05    \\\\\n",
       "\\textbf{Df Residuals:}     &       26418      & \\textbf{  BIC:               } &  3.875e+05    \\\\\n",
       "\\textbf{Df Model:}         &           5      & \\textbf{                     } &               \\\\\n",
       "\\textbf{Covariance Type:}  &    nonrobust     & \\textbf{                     } &               \\\\\n",
       "\\bottomrule\n",
       "\\end{tabular}\n",
       "\\begin{tabular}{lcccccc}\n",
       "                   & \\textbf{coef} & \\textbf{std err} & \\textbf{t} & \\textbf{P$> |$t$|$} & \\textbf{[0.025} & \\textbf{0.975]}  \\\\\n",
       "\\midrule\n",
       "\\textbf{const}     &     644.0090  &        5.322     &   121.002  &         0.000        &      633.577    &      654.441     \\\\\n",
       "\\textbf{BA}        &     291.1217  &        9.395     &    30.986  &         0.000        &      272.706    &      309.537     \\\\\n",
       "\\textbf{HS}        &     109.9968  &        5.342     &    20.590  &         0.000        &       99.525    &      120.468     \\\\\n",
       "\\textbf{blacks}    &     -99.5198  &        6.243     &   -15.940  &         0.000        &     -111.757    &      -87.283     \\\\\n",
       "\\textbf{cubans}    &    -183.1562  &       11.081     &   -16.529  &         0.000        &     -204.876    &     -161.437     \\\\\n",
       "\\textbf{hispanics} &     -86.1181  &        5.923     &   -14.539  &         0.000        &      -97.728    &      -74.508     \\\\\n",
       "\\bottomrule\n",
       "\\end{tabular}\n",
       "\\begin{tabular}{lclc}\n",
       "\\textbf{Omnibus:}       & 30056.983 & \\textbf{  Durbin-Watson:     } &      1.740    \\\\\n",
       "\\textbf{Prob(Omnibus):} &    0.000  & \\textbf{  Jarque-Bera (JB):  } & 10386647.276  \\\\\n",
       "\\textbf{Skew:}          &    5.449  & \\textbf{  Prob(JB):          } &       0.00    \\\\\n",
       "\\textbf{Kurtosis:}      &   99.515  & \\textbf{  Cond. No.          } &       6.52    \\\\\n",
       "\\bottomrule\n",
       "\\end{tabular}\n",
       "%\\caption{OLS Regression Results}\n",
       "\\end{center}\n",
       "\n",
       "Notes: \\newline\n",
       " [1] Standard Errors assume that the covariance matrix of the errors is correctly specified."
      ],
      "text/plain": [
       "<class 'statsmodels.iolib.summary.Summary'>\n",
       "\"\"\"\n",
       "                            OLS Regression Results                            \n",
       "==============================================================================\n",
       "Dep. Variable:                earnhre   R-squared:                       0.073\n",
       "Model:                            OLS   Adj. R-squared:                  0.073\n",
       "Method:                 Least Squares   F-statistic:                     416.7\n",
       "Date:                Mon, 26 Feb 2024   Prob (F-statistic):               0.00\n",
       "Time:                        19:47:20   Log-Likelihood:            -1.9373e+05\n",
       "No. Observations:               26424   AIC:                         3.875e+05\n",
       "Df Residuals:                   26418   BIC:                         3.875e+05\n",
       "Df Model:                           5                                         \n",
       "Covariance Type:            nonrobust                                         \n",
       "==============================================================================\n",
       "                 coef    std err          t      P>|t|      [0.025      0.975]\n",
       "------------------------------------------------------------------------------\n",
       "const        644.0090      5.322    121.002      0.000     633.577     654.441\n",
       "BA           291.1217      9.395     30.986      0.000     272.706     309.537\n",
       "HS           109.9968      5.342     20.590      0.000      99.525     120.468\n",
       "blacks       -99.5198      6.243    -15.940      0.000    -111.757     -87.283\n",
       "cubans      -183.1562     11.081    -16.529      0.000    -204.876    -161.437\n",
       "hispanics    -86.1181      5.923    -14.539      0.000     -97.728     -74.508\n",
       "==============================================================================\n",
       "Omnibus:                    30056.983   Durbin-Watson:                   1.740\n",
       "Prob(Omnibus):                  0.000   Jarque-Bera (JB):         10386647.276\n",
       "Skew:                           5.449   Prob(JB):                         0.00\n",
       "Kurtosis:                      99.515   Cond. No.                         6.52\n",
       "==============================================================================\n",
       "\n",
       "Notes:\n",
       "[1] Standard Errors assume that the covariance matrix of the errors is correctly specified.\n",
       "\"\"\""
      ]
     },
     "execution_count": 80,
     "metadata": {},
     "output_type": "execute_result"
    }
   ],
   "source": [
    "X = mariel_regression.iloc[:, 5:10]  # BA, HS, blacks, cubans and hispanics\n",
    "X = sm.add_constant(X) # add a constant term\n",
    "y = mariel_regression[\"earnhre\"]\n",
    "model_2 = sm.OLS(y, X).fit()\n",
    "model_2.summary()"
   ]
  },
  {
   "cell_type": "code",
   "execution_count": 81,
   "metadata": {
    "deletable": false,
    "editable": false
   },
   "outputs": [
    {
     "data": {
      "text/html": [
       "<p><strong><pre style='display: inline;'>q5_3</pre></strong> passed! ✨</p>"
      ],
      "text/plain": [
       "q5_3 results: All test cases passed!"
      ]
     },
     "execution_count": 81,
     "metadata": {},
     "output_type": "execute_result"
    }
   ],
   "source": [
    "grader.check(\"q5_3\")"
   ]
  },
  {
   "cell_type": "markdown",
   "metadata": {
    "deletable": false,
    "editable": false
   },
   "source": [
    "**Question 5.4:** According to the regression output, how much **more** on average does a Cuban individual with a high school degree earn than another Cuban individual with less than a high school education? Assign the number corresponding to your answer to `q5_4` below. Make sure you assign the exact number rather than an estimate."
   ]
  },
  {
   "cell_type": "code",
   "execution_count": 90,
   "metadata": {
    "tags": []
   },
   "outputs": [
    {
     "data": {
      "text/plain": [
       "109.99677983953063"
      ]
     },
     "execution_count": 90,
     "metadata": {},
     "output_type": "execute_result"
    }
   ],
   "source": [
    "q5_4 = model_2.params[\"HS\"]\n",
    "q5_4"
   ]
  },
  {
   "cell_type": "code",
   "execution_count": 91,
   "metadata": {
    "deletable": false,
    "editable": false
   },
   "outputs": [
    {
     "data": {
      "text/html": [
       "<p><strong><pre style='display: inline;'>q5_4</pre></strong> passed! 🌈</p>"
      ],
      "text/plain": [
       "q5_4 results: All test cases passed!"
      ]
     },
     "execution_count": 91,
     "metadata": {},
     "output_type": "execute_result"
    }
   ],
   "source": [
    "grader.check(\"q5_4\")"
   ]
  },
  {
   "cell_type": "markdown",
   "metadata": {
    "deletable": false,
    "editable": false
   },
   "source": [
    "**Question 5.5:** According to the regression output, how much **more** on average does a Cuban individual with a high school degree earn than another white individual with a high school degree? If you think the Cuban individual earns less, put a negative number. Assign the number corresponding to your answer to `q5_5` below. Again, make sure you assign the exact number rather than an estimate."
   ]
  },
  {
   "cell_type": "code",
   "execution_count": 92,
   "metadata": {
    "tags": []
   },
   "outputs": [
    {
     "data": {
      "text/plain": [
       "-183.1561910136412"
      ]
     },
     "execution_count": 92,
     "metadata": {},
     "output_type": "execute_result"
    }
   ],
   "source": [
    "q5_5 = model_2.params[\"cubans\"]\n",
    "q5_5"
   ]
  },
  {
   "cell_type": "code",
   "execution_count": 93,
   "metadata": {
    "deletable": false,
    "editable": false
   },
   "outputs": [
    {
     "data": {
      "text/html": [
       "<p><strong><pre style='display: inline;'>q5_5</pre></strong> passed! 💯</p>"
      ],
      "text/plain": [
       "q5_5 results: All test cases passed!"
      ]
     },
     "execution_count": 93,
     "metadata": {},
     "output_type": "execute_result"
    }
   ],
   "source": [
    "grader.check(\"q5_5\")"
   ]
  },
  {
   "cell_type": "markdown",
   "metadata": {
    "deletable": false,
    "editable": false
   },
   "source": [
    "**Question 5.6:** According to the regression output, how much does a Cuban individual with a high school degree earn on average? Assign the number corresponding to your answer to `q5_6` below. Again, make sure you calculate and assign the exact number rather than an estimate."
   ]
  },
  {
   "cell_type": "code",
   "execution_count": 95,
   "metadata": {
    "tags": []
   },
   "outputs": [
    {
     "data": {
      "text/plain": [
       "570.8496246954924"
      ]
     },
     "execution_count": 95,
     "metadata": {},
     "output_type": "execute_result"
    }
   ],
   "source": [
    "q5_6 = model_2.params[\"const\"]+model_2.params[\"HS\"]+model_2.params[\"cubans\"]\n",
    "q5_6"
   ]
  },
  {
   "cell_type": "code",
   "execution_count": 96,
   "metadata": {
    "deletable": false,
    "editable": false
   },
   "outputs": [
    {
     "data": {
      "text/html": [
       "<p><strong><pre style='display: inline;'>q5_6</pre></strong> passed! 🌈</p>"
      ],
      "text/plain": [
       "q5_6 results: All test cases passed!"
      ]
     },
     "execution_count": 96,
     "metadata": {},
     "output_type": "execute_result"
    }
   ],
   "source": [
    "grader.check(\"q5_6\")"
   ]
  },
  {
   "cell_type": "markdown",
   "metadata": {},
   "source": [
    "Now, let's run an OLS regression using all the variables that we have. "
   ]
  },
  {
   "cell_type": "markdown",
   "metadata": {
    "deletable": false,
    "editable": false
   },
   "source": [
    "**Question 5.7:** Run a regression with `earnhre` as the explained variable (y) and the dummies for `educ`, `ethrace`, `year` and `smsarank` as the explanatory variables (X). Include a constant term in your regression. Assign your OLS model to `model_3`. "
   ]
  },
  {
   "cell_type": "code",
   "execution_count": 97,
   "metadata": {
    "tags": []
   },
   "outputs": [
    {
     "data": {
      "text/html": [
       "<table class=\"simpletable\">\n",
       "<caption>OLS Regression Results</caption>\n",
       "<tr>\n",
       "  <th>Dep. Variable:</th>         <td>earnhre</td>     <th>  R-squared:         </th>  <td>   0.132</td>  \n",
       "</tr>\n",
       "<tr>\n",
       "  <th>Model:</th>                   <td>OLS</td>       <th>  Adj. R-squared:    </th>  <td>   0.132</td>  \n",
       "</tr>\n",
       "<tr>\n",
       "  <th>Method:</th>             <td>Least Squares</td>  <th>  F-statistic:       </th>  <td>   268.7</td>  \n",
       "</tr>\n",
       "<tr>\n",
       "  <th>Date:</th>             <td>Mon, 26 Feb 2024</td> <th>  Prob (F-statistic):</th>   <td>  0.00</td>   \n",
       "</tr>\n",
       "<tr>\n",
       "  <th>Time:</th>                 <td>19:54:55</td>     <th>  Log-Likelihood:    </th> <td>-1.9286e+05</td>\n",
       "</tr>\n",
       "<tr>\n",
       "  <th>No. Observations:</th>      <td> 26424</td>      <th>  AIC:               </th>  <td>3.857e+05</td> \n",
       "</tr>\n",
       "<tr>\n",
       "  <th>Df Residuals:</th>          <td> 26408</td>      <th>  BIC:               </th>  <td>3.859e+05</td> \n",
       "</tr>\n",
       "<tr>\n",
       "  <th>Df Model:</th>              <td>    15</td>      <th>                     </th>      <td> </td>     \n",
       "</tr>\n",
       "<tr>\n",
       "  <th>Covariance Type:</th>      <td>nonrobust</td>    <th>                     </th>      <td> </td>     \n",
       "</tr>\n",
       "</table>\n",
       "<table class=\"simpletable\">\n",
       "<tr>\n",
       "       <td></td>          <th>coef</th>     <th>std err</th>      <th>t</th>      <th>P>|t|</th>  <th>[0.025</th>    <th>0.975]</th>  \n",
       "</tr>\n",
       "<tr>\n",
       "  <th>const</th>       <td>  600.6579</td> <td>   11.132</td> <td>   53.959</td> <td> 0.000</td> <td>  578.839</td> <td>  622.477</td>\n",
       "</tr>\n",
       "<tr>\n",
       "  <th>BA</th>          <td>  269.5419</td> <td>    9.117</td> <td>   29.564</td> <td> 0.000</td> <td>  251.671</td> <td>  287.412</td>\n",
       "</tr>\n",
       "<tr>\n",
       "  <th>HS</th>          <td>   99.8565</td> <td>    5.187</td> <td>   19.252</td> <td> 0.000</td> <td>   89.690</td> <td>  110.023</td>\n",
       "</tr>\n",
       "<tr>\n",
       "  <th>blacks</th>      <td>  -93.9887</td> <td>    6.146</td> <td>  -15.292</td> <td> 0.000</td> <td> -106.036</td> <td>  -81.942</td>\n",
       "</tr>\n",
       "<tr>\n",
       "  <th>cubans</th>      <td> -137.6395</td> <td>   12.559</td> <td>  -10.959</td> <td> 0.000</td> <td> -162.256</td> <td> -113.023</td>\n",
       "</tr>\n",
       "<tr>\n",
       "  <th>hispanics</th>   <td> -131.9317</td> <td>    6.000</td> <td>  -21.987</td> <td> 0.000</td> <td> -143.693</td> <td> -120.171</td>\n",
       "</tr>\n",
       "<tr>\n",
       "  <th>1979</th>        <td> -210.7470</td> <td>    9.377</td> <td>  -22.476</td> <td> 0.000</td> <td> -229.126</td> <td> -192.368</td>\n",
       "</tr>\n",
       "<tr>\n",
       "  <th>1980</th>        <td> -162.1437</td> <td>    9.359</td> <td>  -17.324</td> <td> 0.000</td> <td> -180.489</td> <td> -143.799</td>\n",
       "</tr>\n",
       "<tr>\n",
       "  <th>1981</th>        <td> -107.6637</td> <td>    9.401</td> <td>  -11.452</td> <td> 0.000</td> <td> -126.091</td> <td>  -89.237</td>\n",
       "</tr>\n",
       "<tr>\n",
       "  <th>1982</th>        <td>  -55.8124</td> <td>    9.534</td> <td>   -5.854</td> <td> 0.000</td> <td>  -74.499</td> <td>  -37.126</td>\n",
       "</tr>\n",
       "<tr>\n",
       "  <th>1983</th>        <td>  -44.2020</td> <td>    9.534</td> <td>   -4.636</td> <td> 0.000</td> <td>  -62.889</td> <td>  -25.515</td>\n",
       "</tr>\n",
       "<tr>\n",
       "  <th>1984</th>        <td>  -14.4158</td> <td>    9.405</td> <td>   -1.533</td> <td> 0.125</td> <td>  -32.851</td> <td>    4.019</td>\n",
       "</tr>\n",
       "<tr>\n",
       "  <th>Atlanta</th>     <td>   90.2081</td> <td>   10.121</td> <td>    8.913</td> <td> 0.000</td> <td>   70.371</td> <td>  110.046</td>\n",
       "</tr>\n",
       "<tr>\n",
       "  <th>Houston</th>     <td>  191.8446</td> <td>    8.853</td> <td>   21.671</td> <td> 0.000</td> <td>  174.493</td> <td>  209.196</td>\n",
       "</tr>\n",
       "<tr>\n",
       "  <th>Los Angeles</th> <td>  192.4943</td> <td>    8.063</td> <td>   23.875</td> <td> 0.000</td> <td>  176.691</td> <td>  208.297</td>\n",
       "</tr>\n",
       "<tr>\n",
       "  <th>Miami</th>       <td>   87.1905</td> <td>   10.594</td> <td>    8.231</td> <td> 0.000</td> <td>   66.427</td> <td>  107.954</td>\n",
       "</tr>\n",
       "</table>\n",
       "<table class=\"simpletable\">\n",
       "<tr>\n",
       "  <th>Omnibus:</th>       <td>31507.616</td> <th>  Durbin-Watson:     </th>   <td>   1.859</td>  \n",
       "</tr>\n",
       "<tr>\n",
       "  <th>Prob(Omnibus):</th>  <td> 0.000</td>   <th>  Jarque-Bera (JB):  </th> <td>13674477.777</td>\n",
       "</tr>\n",
       "<tr>\n",
       "  <th>Skew:</th>           <td> 5.878</td>   <th>  Prob(JB):          </th>   <td>    0.00</td>  \n",
       "</tr>\n",
       "<tr>\n",
       "  <th>Kurtosis:</th>       <td>113.823</td>  <th>  Cond. No.          </th>   <td>    13.6</td>  \n",
       "</tr>\n",
       "</table><br/><br/>Notes:<br/>[1] Standard Errors assume that the covariance matrix of the errors is correctly specified."
      ],
      "text/latex": [
       "\\begin{center}\n",
       "\\begin{tabular}{lclc}\n",
       "\\toprule\n",
       "\\textbf{Dep. Variable:}    &     earnhre      & \\textbf{  R-squared:         } &      0.132    \\\\\n",
       "\\textbf{Model:}            &       OLS        & \\textbf{  Adj. R-squared:    } &      0.132    \\\\\n",
       "\\textbf{Method:}           &  Least Squares   & \\textbf{  F-statistic:       } &      268.7    \\\\\n",
       "\\textbf{Date:}             & Mon, 26 Feb 2024 & \\textbf{  Prob (F-statistic):} &      0.00     \\\\\n",
       "\\textbf{Time:}             &     19:54:55     & \\textbf{  Log-Likelihood:    } & -1.9286e+05   \\\\\n",
       "\\textbf{No. Observations:} &       26424      & \\textbf{  AIC:               } &  3.857e+05    \\\\\n",
       "\\textbf{Df Residuals:}     &       26408      & \\textbf{  BIC:               } &  3.859e+05    \\\\\n",
       "\\textbf{Df Model:}         &          15      & \\textbf{                     } &               \\\\\n",
       "\\textbf{Covariance Type:}  &    nonrobust     & \\textbf{                     } &               \\\\\n",
       "\\bottomrule\n",
       "\\end{tabular}\n",
       "\\begin{tabular}{lcccccc}\n",
       "                     & \\textbf{coef} & \\textbf{std err} & \\textbf{t} & \\textbf{P$> |$t$|$} & \\textbf{[0.025} & \\textbf{0.975]}  \\\\\n",
       "\\midrule\n",
       "\\textbf{const}       &     600.6579  &       11.132     &    53.959  &         0.000        &      578.839    &      622.477     \\\\\n",
       "\\textbf{BA}          &     269.5419  &        9.117     &    29.564  &         0.000        &      251.671    &      287.412     \\\\\n",
       "\\textbf{HS}          &      99.8565  &        5.187     &    19.252  &         0.000        &       89.690    &      110.023     \\\\\n",
       "\\textbf{blacks}      &     -93.9887  &        6.146     &   -15.292  &         0.000        &     -106.036    &      -81.942     \\\\\n",
       "\\textbf{cubans}      &    -137.6395  &       12.559     &   -10.959  &         0.000        &     -162.256    &     -113.023     \\\\\n",
       "\\textbf{hispanics}   &    -131.9317  &        6.000     &   -21.987  &         0.000        &     -143.693    &     -120.171     \\\\\n",
       "\\textbf{1979}        &    -210.7470  &        9.377     &   -22.476  &         0.000        &     -229.126    &     -192.368     \\\\\n",
       "\\textbf{1980}        &    -162.1437  &        9.359     &   -17.324  &         0.000        &     -180.489    &     -143.799     \\\\\n",
       "\\textbf{1981}        &    -107.6637  &        9.401     &   -11.452  &         0.000        &     -126.091    &      -89.237     \\\\\n",
       "\\textbf{1982}        &     -55.8124  &        9.534     &    -5.854  &         0.000        &      -74.499    &      -37.126     \\\\\n",
       "\\textbf{1983}        &     -44.2020  &        9.534     &    -4.636  &         0.000        &      -62.889    &      -25.515     \\\\\n",
       "\\textbf{1984}        &     -14.4158  &        9.405     &    -1.533  &         0.125        &      -32.851    &        4.019     \\\\\n",
       "\\textbf{Atlanta}     &      90.2081  &       10.121     &     8.913  &         0.000        &       70.371    &      110.046     \\\\\n",
       "\\textbf{Houston}     &     191.8446  &        8.853     &    21.671  &         0.000        &      174.493    &      209.196     \\\\\n",
       "\\textbf{Los Angeles} &     192.4943  &        8.063     &    23.875  &         0.000        &      176.691    &      208.297     \\\\\n",
       "\\textbf{Miami}       &      87.1905  &       10.594     &     8.231  &         0.000        &       66.427    &      107.954     \\\\\n",
       "\\bottomrule\n",
       "\\end{tabular}\n",
       "\\begin{tabular}{lclc}\n",
       "\\textbf{Omnibus:}       & 31507.616 & \\textbf{  Durbin-Watson:     } &      1.859    \\\\\n",
       "\\textbf{Prob(Omnibus):} &    0.000  & \\textbf{  Jarque-Bera (JB):  } & 13674477.777  \\\\\n",
       "\\textbf{Skew:}          &    5.878  & \\textbf{  Prob(JB):          } &       0.00    \\\\\n",
       "\\textbf{Kurtosis:}      &  113.823  & \\textbf{  Cond. No.          } &       13.6    \\\\\n",
       "\\bottomrule\n",
       "\\end{tabular}\n",
       "%\\caption{OLS Regression Results}\n",
       "\\end{center}\n",
       "\n",
       "Notes: \\newline\n",
       " [1] Standard Errors assume that the covariance matrix of the errors is correctly specified."
      ],
      "text/plain": [
       "<class 'statsmodels.iolib.summary.Summary'>\n",
       "\"\"\"\n",
       "                            OLS Regression Results                            \n",
       "==============================================================================\n",
       "Dep. Variable:                earnhre   R-squared:                       0.132\n",
       "Model:                            OLS   Adj. R-squared:                  0.132\n",
       "Method:                 Least Squares   F-statistic:                     268.7\n",
       "Date:                Mon, 26 Feb 2024   Prob (F-statistic):               0.00\n",
       "Time:                        19:54:55   Log-Likelihood:            -1.9286e+05\n",
       "No. Observations:               26424   AIC:                         3.857e+05\n",
       "Df Residuals:                   26408   BIC:                         3.859e+05\n",
       "Df Model:                          15                                         \n",
       "Covariance Type:            nonrobust                                         \n",
       "===============================================================================\n",
       "                  coef    std err          t      P>|t|      [0.025      0.975]\n",
       "-------------------------------------------------------------------------------\n",
       "const         600.6579     11.132     53.959      0.000     578.839     622.477\n",
       "BA            269.5419      9.117     29.564      0.000     251.671     287.412\n",
       "HS             99.8565      5.187     19.252      0.000      89.690     110.023\n",
       "blacks        -93.9887      6.146    -15.292      0.000    -106.036     -81.942\n",
       "cubans       -137.6395     12.559    -10.959      0.000    -162.256    -113.023\n",
       "hispanics    -131.9317      6.000    -21.987      0.000    -143.693    -120.171\n",
       "1979         -210.7470      9.377    -22.476      0.000    -229.126    -192.368\n",
       "1980         -162.1437      9.359    -17.324      0.000    -180.489    -143.799\n",
       "1981         -107.6637      9.401    -11.452      0.000    -126.091     -89.237\n",
       "1982          -55.8124      9.534     -5.854      0.000     -74.499     -37.126\n",
       "1983          -44.2020      9.534     -4.636      0.000     -62.889     -25.515\n",
       "1984          -14.4158      9.405     -1.533      0.125     -32.851       4.019\n",
       "Atlanta        90.2081     10.121      8.913      0.000      70.371     110.046\n",
       "Houston       191.8446      8.853     21.671      0.000     174.493     209.196\n",
       "Los Angeles   192.4943      8.063     23.875      0.000     176.691     208.297\n",
       "Miami          87.1905     10.594      8.231      0.000      66.427     107.954\n",
       "==============================================================================\n",
       "Omnibus:                    31507.616   Durbin-Watson:                   1.859\n",
       "Prob(Omnibus):                  0.000   Jarque-Bera (JB):         13674477.777\n",
       "Skew:                           5.878   Prob(JB):                         0.00\n",
       "Kurtosis:                     113.823   Cond. No.                         13.6\n",
       "==============================================================================\n",
       "\n",
       "Notes:\n",
       "[1] Standard Errors assume that the covariance matrix of the errors is correctly specified.\n",
       "\"\"\""
      ]
     },
     "execution_count": 97,
     "metadata": {},
     "output_type": "execute_result"
    }
   ],
   "source": [
    "X = mariel_regression.iloc[:, 5:]  # all dummy columns\n",
    "X = sm.add_constant(X) # add a constant term\n",
    "y = mariel_regression[\"earnhre\"]\n",
    "model_3 = sm.OLS(y, X).fit()\n",
    "model_3.summary()"
   ]
  },
  {
   "cell_type": "code",
   "execution_count": 98,
   "metadata": {
    "deletable": false,
    "editable": false
   },
   "outputs": [
    {
     "data": {
      "text/html": [
       "<p><strong><pre style='display: inline;'>q5_7</pre></strong> passed! 🍀</p>"
      ],
      "text/plain": [
       "q5_7 results: All test cases passed!"
      ]
     },
     "execution_count": 98,
     "metadata": {},
     "output_type": "execute_result"
    }
   ],
   "source": [
    "grader.check(\"q5_7\")"
   ]
  },
  {
   "cell_type": "markdown",
   "metadata": {
    "deletable": false,
    "editable": false
   },
   "source": [
    "**Question 5.8:** According to the regression output, does the nominal wage (`earnhre`) increase over time in the sample period? Assign the either `True` or `False` to `q5_8` below."
   ]
  },
  {
   "cell_type": "code",
   "execution_count": 99,
   "metadata": {
    "tags": []
   },
   "outputs": [],
   "source": [
    "q5_8 = True"
   ]
  },
  {
   "cell_type": "code",
   "execution_count": 100,
   "metadata": {
    "deletable": false,
    "editable": false
   },
   "outputs": [
    {
     "data": {
      "text/html": [
       "<p><strong><pre style='display: inline;'>q5_8</pre></strong> passed! 💯</p>"
      ],
      "text/plain": [
       "q5_8 results: All test cases passed!"
      ]
     },
     "execution_count": 100,
     "metadata": {},
     "output_type": "execute_result"
    }
   ],
   "source": [
    "grader.check(\"q5_8\")"
   ]
  },
  {
   "cell_type": "markdown",
   "metadata": {
    "deletable": false,
    "editable": false
   },
   "source": [
    "**Question 5.9:** According to the regression output, which city in the data had the lowest wages on average assume all other variables equal? Assign the `smsarank` of that city to `q5_9` below."
   ]
  },
  {
   "cell_type": "code",
   "execution_count": 102,
   "metadata": {
    "tags": []
   },
   "outputs": [],
   "source": [
    "q5_9 = 'Tampa-St. Petersburg'"
   ]
  },
  {
   "cell_type": "code",
   "execution_count": 103,
   "metadata": {
    "deletable": false,
    "editable": false
   },
   "outputs": [
    {
     "data": {
      "text/html": [
       "<p><strong><pre style='display: inline;'>q5_9</pre></strong> passed! 🚀</p>"
      ],
      "text/plain": [
       "q5_9 results: All test cases passed!"
      ]
     },
     "execution_count": 103,
     "metadata": {},
     "output_type": "execute_result"
    }
   ],
   "source": [
    "grader.check(\"q5_9\")"
   ]
  },
  {
   "cell_type": "markdown",
   "metadata": {
    "tags": [
     "ignore"
    ]
   },
   "source": [
    "## Conclusions\n",
    "\n",
    "In this project, we saw that the Mariel boatlift had little effect on unemployment among ethnic groups in Miami, as the cities that were not receiving \\(many\\) immigrants were afflicted by the same trends in unemployment. We also saw that the same is true of education-level groups. In fact, many studies find that influxes of immigrants benefit the native-born workers in a region; that they act as complements rather than supplements to the native workforce."
   ]
  },
  {
   "cell_type": "markdown",
   "metadata": {},
   "source": [
    "**Congratulations!** You're done with Project 2!"
   ]
  },
  {
   "cell_type": "markdown",
   "metadata": {},
   "source": [
    "---\n",
    "## Feedback"
   ]
  },
  {
   "cell_type": "markdown",
   "metadata": {
    "deletable": false,
    "editable": false
   },
   "source": [
    "**Question 6:** Please fill out this short [feedback form](https://forms.gle/MFUgdGZyXhrZcWwj9) to let us know your thoughts about this lab! We really appreciate your opinions and feedback! At the end of the Google form, you should see a codeword. Assign the codeword to the variable `codeword` below. "
   ]
  },
  {
   "cell_type": "code",
   "execution_count": 104,
   "metadata": {
    "tags": []
   },
   "outputs": [],
   "source": [
    "codeword = 'boatlift'"
   ]
  },
  {
   "cell_type": "code",
   "execution_count": 105,
   "metadata": {
    "deletable": false,
    "editable": false
   },
   "outputs": [
    {
     "data": {
      "text/html": [
       "<p><strong><pre style='display: inline;'>q6</pre></strong> passed! 🌟</p>"
      ],
      "text/plain": [
       "q6 results: All test cases passed!"
      ]
     },
     "execution_count": 105,
     "metadata": {},
     "output_type": "execute_result"
    }
   ],
   "source": [
    "grader.check(\"q6\")"
   ]
  },
  {
   "cell_type": "markdown",
   "metadata": {
    "tags": [
     "ignore"
    ]
   },
   "source": [
    " "
   ]
  },
  {
   "cell_type": "markdown",
   "metadata": {
    "deletable": false,
    "editable": false
   },
   "source": [
    "## Submission\n",
    "\n",
    "Make sure you have run all cells in your notebook in order before running the cell below, so that all images/graphs appear in the output. The cell below will generate a zip file for you to submit. **Please save before exporting!**"
   ]
  },
  {
   "cell_type": "code",
   "execution_count": null,
   "metadata": {
    "deletable": false,
    "editable": false
   },
   "outputs": [],
   "source": [
    "# Save your notebook first, then run this cell to export your submission.\n",
    "grader.export(run_tests=True)"
   ]
  },
  {
   "cell_type": "markdown",
   "metadata": {},
   "source": [
    " "
   ]
  }
 ],
 "metadata": {
  "@webio": {
   "lastCommId": null,
   "lastKernelId": null
  },
  "kernelspec": {
   "display_name": "Python 3 (ipykernel)",
   "language": "python",
   "name": "python3"
  },
  "language_info": {
   "codemirror_mode": {
    "name": "ipython",
    "version": 3
   },
   "file_extension": ".py",
   "mimetype": "text/x-python",
   "name": "python",
   "nbconvert_exporter": "python",
   "pygments_lexer": "ipython3",
   "version": "3.1.0"
  },
  "otter": {
   "OK_FORMAT": true,
   "export_pdf_failure_message": "PDF did not generate, please submit screenshots for questions 2.3, 2.4, 4.1, 4.2 and 4.4.",
   "require_no_pdf_confirmation": true,
   "tests": {
    "q1_1": {
     "name": "q1_1",
     "points": null,
     "suites": [
      {
       "cases": [
        {
         "code": ">>> assert '.id' not in mariel.columns\n",
         "hidden": false,
         "locked": false
        },
        {
         "code": ">>> assert 'year' in mariel.columns\n",
         "hidden": false,
         "locked": false
        },
        {
         "code": ">>> assert np.array_equal(np.unique(mariel['year']), np.array([1979, 1980, 1981, 1982, 1983, 1984, 1985]))\n",
         "hidden": false,
         "locked": false
        }
       ],
       "scored": true,
       "setup": "",
       "teardown": "",
       "type": "doctest"
      }
     ]
    },
    "q1_2": {
     "name": "q1_2",
     "points": null,
     "suites": [
      {
       "cases": [
        {
         "code": ">>> assert 'ethrace' in mariel.columns\n",
         "hidden": false,
         "locked": false,
         "points": 0
        },
        {
         "code": ">>> assert len(np.unique(mariel['ethrace'])) < 5\n",
         "hidden": false,
         "locked": false
        }
       ],
       "scored": true,
       "setup": "",
       "teardown": "",
       "type": "doctest"
      }
     ]
    },
    "q1_3": {
     "name": "q1_3",
     "points": null,
     "suites": [
      {
       "cases": [
        {
         "code": ">>> assert isinstance(q1_3, int)\n",
         "hidden": false,
         "locked": false,
         "points": 0
        }
       ],
       "scored": true,
       "setup": "",
       "teardown": "",
       "type": "doctest"
      }
     ]
    },
    "q1_4": {
     "name": "q1_4",
     "points": null,
     "suites": [
      {
       "cases": [
        {
         "code": ">>> assert isinstance(q1_4, int)\n",
         "hidden": false,
         "locked": false,
         "points": 0
        }
       ],
       "scored": true,
       "setup": "",
       "teardown": "",
       "type": "doctest"
      }
     ]
    },
    "q1_5": {
     "name": "q1_5",
     "points": null,
     "suites": [
      {
       "cases": [
        {
         "code": ">>> assert isinstance(q1_5, int)\n",
         "hidden": false,
         "locked": false,
         "points": 0
        }
       ],
       "scored": true,
       "setup": "",
       "teardown": "",
       "type": "doctest"
      }
     ]
    },
    "q2_1": {
     "name": "q2_1",
     "points": 2,
     "suites": [
      {
       "cases": [
        {
         "code": ">>> assert miami_ue_by_year.shape == (7, 2) or miami_ue_by_year.shape == (7, 1)\n",
         "hidden": false,
         "locked": false,
         "points": 0.5
        }
       ],
       "scored": true,
       "setup": "",
       "teardown": "",
       "type": "doctest"
      }
     ]
    },
    "q2_2": {
     "name": "q2_2",
     "points": null,
     "suites": [
      {
       "cases": [
        {
         "code": ">>> assert not_miami_ue_ethrace.shape[1] <= 4\n",
         "hidden": false,
         "locked": false,
         "points": 0
        }
       ],
       "scored": true,
       "setup": "",
       "teardown": "",
       "type": "doctest"
      }
     ]
    },
    "q2_5": {
     "name": "q2_5",
     "points": null,
     "suites": [
      {
       "cases": [
        {
         "code": ">>> assert isinstance(q2_5, int)\n",
         "hidden": false,
         "locked": false,
         "points": 0
        }
       ],
       "scored": true,
       "setup": "",
       "teardown": "",
       "type": "doctest"
      }
     ]
    },
    "q3_1": {
     "name": "q3_1",
     "points": null,
     "suites": [
      {
       "cases": [
        {
         "code": ">>> assert not_miami_wages_ethrace.shape[1] <= 4\n",
         "hidden": false,
         "locked": false,
         "points": 0
        }
       ],
       "scored": true,
       "setup": "",
       "teardown": "",
       "type": "doctest"
      }
     ]
    },
    "q3_2": {
     "name": "q3_2",
     "points": null,
     "suites": [
      {
       "cases": [
        {
         "code": ">>> assert isinstance(q3_2, int)\n",
         "hidden": false,
         "locked": false,
         "points": 0
        }
       ],
       "scored": true,
       "setup": "",
       "teardown": "",
       "type": "doctest"
      }
     ]
    },
    "q4_3": {
     "name": "q4_3",
     "points": null,
     "suites": [
      {
       "cases": [
        {
         "code": ">>> assert not_miami_educ_ue.shape[1] == 3\n",
         "hidden": false,
         "locked": false,
         "points": 0
        }
       ],
       "scored": true,
       "setup": "",
       "teardown": "",
       "type": "doctest"
      }
     ]
    },
    "q5_1": {
     "name": "q5_1",
     "points": null,
     "suites": [
      {
       "cases": [
        {
         "code": ">>> assert mariel_full_time.shape == (26424, 9)\n",
         "hidden": false,
         "locked": false,
         "points": 0
        }
       ],
       "scored": true,
       "setup": "",
       "teardown": "",
       "type": "doctest"
      }
     ]
    },
    "q5_2": {
     "name": "q5_2",
     "points": 2,
     "suites": [
      {
       "cases": [
        {
         "code": ">>> d_cols = ['age', 'esr', 'ftpt79', 'earnhre', 'log_w', 'BA', 'HS', 'blacks', 'cubans', 'hispanics', 1979, 1980, 1981, 1982, 1983, 1984, 'Atlanta', 'Houston', 'Los Angeles', 'Miami']\n>>> assert np.all([c in d_cols for c in mariel_regression.columns]) and mariel_regression.shape[1] == 20\n",
         "hidden": false,
         "locked": false,
         "points": 0.5
        }
       ],
       "scored": true,
       "setup": "",
       "teardown": "",
       "type": "doctest"
      }
     ]
    },
    "q5_3": {
     "name": "q5_3",
     "points": 2,
     "suites": [
      {
       "cases": [
        {
         "code": ">>> assert len(model_2.params) == 6\n",
         "hidden": false,
         "locked": false,
         "points": 0
        },
        {
         "code": ">>> params_idx = ['const', 'BA', 'HS', 'blacks', 'cubans', 'hispanics']\n>>> assert np.all([c in params_idx for c in model_2.params.index])\n",
         "hidden": false,
         "locked": false,
         "points": 0.5
        }
       ],
       "scored": true,
       "setup": "",
       "teardown": "",
       "type": "doctest"
      }
     ]
    },
    "q5_4": {
     "name": "q5_4",
     "points": 0.5,
     "suites": [
      {
       "cases": [
        {
         "code": ">>> assert isinstance(q5_4, float)\n",
         "hidden": false,
         "locked": false,
         "points": 0
        }
       ],
       "scored": true,
       "setup": "",
       "teardown": "",
       "type": "doctest"
      }
     ]
    },
    "q5_5": {
     "name": "q5_5",
     "points": 0.5,
     "suites": [
      {
       "cases": [
        {
         "code": ">>> assert isinstance(q5_5, float)\n",
         "hidden": false,
         "locked": false,
         "points": 0
        }
       ],
       "scored": true,
       "setup": "",
       "teardown": "",
       "type": "doctest"
      }
     ]
    },
    "q5_6": {
     "name": "q5_6",
     "points": null,
     "suites": [
      {
       "cases": [
        {
         "code": ">>> assert isinstance(q5_6, float)\n",
         "hidden": false,
         "locked": false,
         "points": 0
        }
       ],
       "scored": true,
       "setup": "",
       "teardown": "",
       "type": "doctest"
      }
     ]
    },
    "q5_7": {
     "name": "q5_7",
     "points": 2,
     "suites": [
      {
       "cases": [
        {
         "code": ">>> assert len(model_3.params) > 10\n",
         "hidden": false,
         "locked": false,
         "points": 0
        },
        {
         "code": ">>> params_idx = ['const', 'BA', 'HS', 'blacks', 'cubans', 'hispanics', 1979, 1980, 1981, 1982, 1983, 1984, 'Atlanta', 'Houston', 'Los Angeles', 'Miami']\n>>> assert np.all([c in params_idx for c in model_3.params.index])\n",
         "hidden": false,
         "locked": false,
         "points": 0.5
        }
       ],
       "scored": true,
       "setup": "",
       "teardown": "",
       "type": "doctest"
      }
     ]
    },
    "q5_8": {
     "name": "q5_8",
     "points": null,
     "suites": [
      {
       "cases": [
        {
         "code": ">>> assert isinstance(q5_8, bool)\n",
         "hidden": false,
         "locked": false,
         "points": 0
        }
       ],
       "scored": true,
       "setup": "",
       "teardown": "",
       "type": "doctest"
      }
     ]
    },
    "q5_9": {
     "name": "q5_9",
     "points": null,
     "suites": [
      {
       "cases": [
        {
         "code": ">>> assert len(q5_9) > 1\n",
         "hidden": false,
         "locked": false,
         "points": 0
        }
       ],
       "scored": true,
       "setup": "",
       "teardown": "",
       "type": "doctest"
      }
     ]
    },
    "q6": {
     "name": "q6",
     "points": null,
     "suites": [
      {
       "cases": [
        {
         "code": ">>> assert sum([ord(c) for c in codeword]) ^ 966984 == 967197\n",
         "hidden": false,
         "locked": false
        }
       ],
       "scored": true,
       "setup": "",
       "teardown": "",
       "type": "doctest"
      }
     ]
    }
   }
  },
  "varInspector": {
   "cols": {
    "lenName": 16,
    "lenType": 16,
    "lenVar": 40
   },
   "kernels_config": {
    "python": {
     "delete_cmd_postfix": "",
     "delete_cmd_prefix": "del ",
     "library": "var_list.py",
     "varRefreshCmd": "print(var_dic_list())"
    },
    "r": {
     "delete_cmd_postfix": ") ",
     "delete_cmd_prefix": "rm(",
     "library": "var_list.r",
     "varRefreshCmd": "cat(var_dic_list()) "
    }
   },
   "types_to_exclude": [
    "module",
    "function",
    "builtin_function_or_method",
    "instance",
    "_Feature"
   ],
   "window_display": false
  }
 },
 "nbformat": 4,
 "nbformat_minor": 4
}
