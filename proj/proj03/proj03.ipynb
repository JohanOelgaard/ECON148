{
 "cells": [
  {
   "cell_type": "code",
   "execution_count": 1,
   "metadata": {},
   "outputs": [],
   "source": [
    "# import of packages\n",
    "from proj03 import *\n",
    "import pandas as pd\n",
    "import numpy as np\n",
    "import matplotlib.pyplot as plt\n",
    "from statsmodels.stats.weightstats import ttest_ind\n",
    "\n",
    "# autoreload for easier debugging\n",
    "%load_ext autoreload\n",
    "%autoreload 2"
   ]
  },
  {
   "cell_type": "code",
   "execution_count": 6,
   "metadata": {},
   "outputs": [],
   "source": [
    "# import data\n",
    "baseline = pd.read_stata('data/baseline.dta')\n",
    "BOK_inflation = pd.read_stata('data/BOK_inflation.dta')\n",
    "cleanPriceData_Y1Y2 = pd.read_stata('data/cleanPriceData_Y1Y2.dta')\n",
    "intensity_obs_short = pd.read_stata('data/intensity_obs_short.dta')\n",
    "LRFU_select_dataset = pd.read_stata('data/LRFU_select_dataset.dta')\n",
    "MS1MS2_pooled = pd.read_stata('data/MS1MS2_pooled.dta')\n",
    "repayment_dataY1 = pd.read_stata('data/repayment_dataY1.dta')"
   ]
  },
  {
   "cell_type": "code",
   "execution_count": 11,
   "metadata": {},
   "outputs": [
    {
     "name": "stdout",
     "output_type": "stream",
     "text": [
      "['oafid', 's2_4_homemadeof', 's2_5_home_roof', 's2_6_dwelling_floor', 'num_rooms', 'num_children', 's3_2_13_av_sell_01', 's3_2_13_av_sell_02', 's3_2_13_av_sell_03', 's3_2_13_av_sell_04', 's3_2_13_av_sell_05', 's3_2_13_av_sell_06', 's3_2_13_av_sell_07', 's3_2_13_av_sell_08', 's3_2_13_av_sell_09', 's3_2_13_av_sell_10', 's3_2_13_av_sell_11', 's3_2_13_av_sell_12', 's3_2_13_av_purch01', 's3_2_13_av_purch02', 's3_2_13_av_purch03', 's3_2_13_av_purch04', 's3_2_13_av_purch05', 's3_2_13_av_purch06', 's3_2_13_av_purch07', 's3_2_13_av_purch08', 's3_2_13_av_purch09', 's3_2_13_av_purch10', 's3_2_13_av_purch11', 's3_2_13_av_purch12', 's3_2_13_av_01', 's3_2_13_av_02', 's3_2_13_av_03', 's3_2_13_av_04', 's3_2_13_av_05', 's3_2_13_av_06', 's3_2_13_av_07', 's3_2_13_av_08', 's3_2_13_av_09', 's3_2_13_av_10', 's3_2_13_av_11', 's3_2_13_av_12', 'digit_recall', 'site', 'treatment', 'tags', 'lockbox', 'loantakeup_roster', 'baselined', 'gender', 'num_adults', 'finished_primary', 'finished_secondary', 'num_schoolchildren', 'schoolfees', 'harvest2011', 'pctmaizesoldearly2011', 'maizesalesprice2011', 'netsales2011', 'netseller2011', 'autarkic2011', 'netrevenue2011', 'maizelostpct2011', 'pctsoldbroker2011', 'OAFDAPacre2012', 'OAFCANacre2012', 'nonOAFDAPacre2012', 'nonOAFCANacre2012', 'harvest2012', 'price_avg_diff_pct', 'price_avg_purdiff_pct', 'price_expect_diff_pct', 'delta_base', 'totmaize', 'totfoodcons_base', 'totcons_base', 'logtotcons_base', 'logadults', 'logkids', 'hhsize', 'percapcons_base', 'logpercapcons_base', 'logpercapfoodcons_base', 'cropland', 'maizegift_give', 'maizeloan_give', 'moneygift_give', 'moneyloan_give', 'maizegift_receive', 'maizeloan_receive', 'moneygift_receive', 'maizegift_diff', 'maizegiver', 'has_savings_acct', 'total_cash_savings_base', 'totalsavingspct', 'total_cash_savings_trimmed', 'taken_bank_loan', 'amt_bank_loan', 'taken_moneylender_loan', 'taken_friend_loan', 'taken_informal_loan', 'assetval', 'livestockval', 'liquidWealth', 'janfeb_expend', 'correct_interest', 'liar', 'male', 'wagepay', 'businessprofitmonth_base', 'maizetransfer_base', 'happy_base', 'improve_life_base', 'groupnum_baseline', 'hi', '_merge']\n"
     ]
    }
   ],
   "source": [
    "print(list(baseline.columns))"
   ]
  },
  {
   "cell_type": "code",
   "execution_count": 3,
   "metadata": {},
   "outputs": [
    {
     "name": "stdout",
     "output_type": "stream",
     "text": [
      "2993\n",
      "1019\n"
     ]
    }
   ],
   "source": [
    "# Load dataset\n",
    "ms1ms2_pooled = pd.read_stata('data/MS1MS2_pooled.dta')\n",
    "\n",
    "# Filter rows where MS != 2\n",
    "ms1ms2_pooled = ms1ms2_pooled[ms1ms2_pooled['MS'] == 2]\n",
    "\n",
    "# Keep specific columns\n",
    "ms1ms2_pooled = ms1ms2_pooled[['oafid', 'treatMS1MS2']]\n",
    "\n",
    "# Count rows\n",
    "print(ms1ms2_pooled.shape[0])\n",
    "\n",
    "# Collapse/aggregation\n",
    "ms1ms2_pooled = ms1ms2_pooled.groupby('oafid', as_index=False).sum()\n",
    "\n",
    "# Count rows after collapse\n",
    "print(ms1ms2_pooled.shape[0])\n",
    "\n",
    "# Rename column\n",
    "ms1ms2_pooled.rename(columns={'treatMS1MS2': 'treat13'}, inplace=True)\n",
    "\n"
   ]
  },
  {
   "cell_type": "code",
   "execution_count": 5,
   "metadata": {},
   "outputs": [
    {
     "ename": "KeyError",
     "evalue": "'delta'",
     "output_type": "error",
     "traceback": [
      "\u001b[0;31m---------------------------------------------------------------------------\u001b[0m",
      "\u001b[0;31mKeyError\u001b[0m                                  Traceback (most recent call last)",
      "File \u001b[0;32m/opt/anaconda3/lib/python3.11/site-packages/pandas/core/indexes/base.py:3791\u001b[0m, in \u001b[0;36mIndex.get_loc\u001b[0;34m(self, key)\u001b[0m\n\u001b[1;32m   3790\u001b[0m \u001b[38;5;28;01mtry\u001b[39;00m:\n\u001b[0;32m-> 3791\u001b[0m     \u001b[38;5;28;01mreturn\u001b[39;00m \u001b[38;5;28mself\u001b[39m\u001b[38;5;241m.\u001b[39m_engine\u001b[38;5;241m.\u001b[39mget_loc(casted_key)\n\u001b[1;32m   3792\u001b[0m \u001b[38;5;28;01mexcept\u001b[39;00m \u001b[38;5;167;01mKeyError\u001b[39;00m \u001b[38;5;28;01mas\u001b[39;00m err:\n",
      "File \u001b[0;32mindex.pyx:152\u001b[0m, in \u001b[0;36mpandas._libs.index.IndexEngine.get_loc\u001b[0;34m()\u001b[0m\n",
      "File \u001b[0;32mindex.pyx:181\u001b[0m, in \u001b[0;36mpandas._libs.index.IndexEngine.get_loc\u001b[0;34m()\u001b[0m\n",
      "File \u001b[0;32mpandas/_libs/hashtable_class_helper.pxi:7080\u001b[0m, in \u001b[0;36mpandas._libs.hashtable.PyObjectHashTable.get_item\u001b[0;34m()\u001b[0m\n",
      "File \u001b[0;32mpandas/_libs/hashtable_class_helper.pxi:7088\u001b[0m, in \u001b[0;36mpandas._libs.hashtable.PyObjectHashTable.get_item\u001b[0;34m()\u001b[0m\n",
      "\u001b[0;31mKeyError\u001b[0m: 'delta'",
      "\nThe above exception was the direct cause of the following exception:\n",
      "\u001b[0;31mKeyError\u001b[0m                                  Traceback (most recent call last)",
      "Cell \u001b[0;32mIn[5], line 5\u001b[0m\n\u001b[1;32m      2\u001b[0m baseline \u001b[38;5;241m=\u001b[39m pd\u001b[38;5;241m.\u001b[39mread_stata(\u001b[38;5;124m'\u001b[39m\u001b[38;5;124mdata/baseline.dta\u001b[39m\u001b[38;5;124m'\u001b[39m)\n\u001b[1;32m      4\u001b[0m \u001b[38;5;66;03m# Modify 'delta' column\u001b[39;00m\n\u001b[0;32m----> 5\u001b[0m baseline[\u001b[38;5;124m'\u001b[39m\u001b[38;5;124mdelta\u001b[39m\u001b[38;5;124m'\u001b[39m] \u001b[38;5;241m=\u001b[39m \u001b[38;5;241m1\u001b[39m \u001b[38;5;241m-\u001b[39m baseline[\u001b[38;5;124m'\u001b[39m\u001b[38;5;124mdelta\u001b[39m\u001b[38;5;124m'\u001b[39m]\n\u001b[1;32m      7\u001b[0m \u001b[38;5;66;03m# Keep specific columns\u001b[39;00m\n\u001b[1;32m      8\u001b[0m columns_to_keep \u001b[38;5;241m=\u001b[39m [\u001b[38;5;124m'\u001b[39m\u001b[38;5;124moafid\u001b[39m\u001b[38;5;124m'\u001b[39m, \u001b[38;5;124m'\u001b[39m\u001b[38;5;124mlogtotcons_base\u001b[39m\u001b[38;5;124m'\u001b[39m, \u001b[38;5;124m'\u001b[39m\u001b[38;5;124mmale\u001b[39m\u001b[38;5;124m'\u001b[39m, \u001b[38;5;124m'\u001b[39m\u001b[38;5;124mnum_adults\u001b[39m\u001b[38;5;124m'\u001b[39m, \u001b[38;5;124m'\u001b[39m\u001b[38;5;124mnum_schoolchildren\u001b[39m\u001b[38;5;124m'\u001b[39m, \u001b[38;5;124m'\u001b[39m\u001b[38;5;124mfinished_primary\u001b[39m\u001b[38;5;124m'\u001b[39m,\n\u001b[1;32m      9\u001b[0m                    \u001b[38;5;124m'\u001b[39m\u001b[38;5;124mfinished_secondary\u001b[39m\u001b[38;5;124m'\u001b[39m, \u001b[38;5;124m'\u001b[39m\u001b[38;5;124mcropland\u001b[39m\u001b[38;5;124m'\u001b[39m, \u001b[38;5;124m'\u001b[39m\u001b[38;5;124mnum_rooms\u001b[39m\u001b[38;5;124m'\u001b[39m, \u001b[38;5;124m'\u001b[39m\u001b[38;5;124mschoolfees\u001b[39m\u001b[38;5;124m'\u001b[39m, \u001b[38;5;124m'\u001b[39m\u001b[38;5;124mtotcons_base\u001b[39m\u001b[38;5;124m'\u001b[39m, \u001b[38;5;124m'\u001b[39m\u001b[38;5;124mlogpercapcons_base\u001b[39m\u001b[38;5;124m'\u001b[39m,\n\u001b[1;32m     10\u001b[0m                    \u001b[38;5;124m'\u001b[39m\u001b[38;5;124mtotal_cash_savings_base\u001b[39m\u001b[38;5;124m'\u001b[39m, \u001b[38;5;124m'\u001b[39m\u001b[38;5;124mtotal_cash_savings_trimmed\u001b[39m\u001b[38;5;124m'\u001b[39m, \u001b[38;5;124m'\u001b[39m\u001b[38;5;124mhas_savings_acct\u001b[39m\u001b[38;5;124m'\u001b[39m, \u001b[38;5;124m'\u001b[39m\u001b[38;5;124mtaken_bank_loan\u001b[39m\u001b[38;5;124m'\u001b[39m,\n\u001b[1;32m     11\u001b[0m                    \u001b[38;5;124m'\u001b[39m\u001b[38;5;124mtaken_informal_loan\u001b[39m\u001b[38;5;124m'\u001b[39m, \u001b[38;5;124m'\u001b[39m\u001b[38;5;124mliquidWealth\u001b[39m\u001b[38;5;124m'\u001b[39m, \u001b[38;5;124m'\u001b[39m\u001b[38;5;124mwagepay\u001b[39m\u001b[38;5;124m'\u001b[39m, \u001b[38;5;124m'\u001b[39m\u001b[38;5;124mbusinessprofitmonth\u001b[39m\u001b[38;5;124m'\u001b[39m, \u001b[38;5;124m'\u001b[39m\u001b[38;5;124mprice_avg_diff_pct\u001b[39m\u001b[38;5;124m'\u001b[39m,\n\u001b[1;32m     12\u001b[0m                    \u001b[38;5;124m'\u001b[39m\u001b[38;5;124mprice_expect_diff_pct\u001b[39m\u001b[38;5;124m'\u001b[39m, \u001b[38;5;124m'\u001b[39m\u001b[38;5;124mharvest2011\u001b[39m\u001b[38;5;124m'\u001b[39m, \u001b[38;5;124m'\u001b[39m\u001b[38;5;124mnetrevenue2011\u001b[39m\u001b[38;5;124m'\u001b[39m, \u001b[38;5;124m'\u001b[39m\u001b[38;5;124mnetseller2011\u001b[39m\u001b[38;5;124m'\u001b[39m, \u001b[38;5;124m'\u001b[39m\u001b[38;5;124mautarkic2011\u001b[39m\u001b[38;5;124m'\u001b[39m,\n\u001b[1;32m     13\u001b[0m                    \u001b[38;5;124m'\u001b[39m\u001b[38;5;124mmaizelostpct2011\u001b[39m\u001b[38;5;124m'\u001b[39m, \u001b[38;5;124m'\u001b[39m\u001b[38;5;124mharvest2012\u001b[39m\u001b[38;5;124m'\u001b[39m, \u001b[38;5;124m'\u001b[39m\u001b[38;5;124mcorrect_interest\u001b[39m\u001b[38;5;124m'\u001b[39m, \u001b[38;5;124m'\u001b[39m\u001b[38;5;124mdigit_recall\u001b[39m\u001b[38;5;124m'\u001b[39m, \u001b[38;5;124m'\u001b[39m\u001b[38;5;124mmaizegiver\u001b[39m\u001b[38;5;124m'\u001b[39m, \u001b[38;5;124m'\u001b[39m\u001b[38;5;124mdelta\u001b[39m\u001b[38;5;124m'\u001b[39m, \u001b[38;5;124m'\u001b[39m\u001b[38;5;124mtreatment\u001b[39m\u001b[38;5;124m'\u001b[39m]\n",
      "File \u001b[0;32m/opt/anaconda3/lib/python3.11/site-packages/pandas/core/frame.py:3893\u001b[0m, in \u001b[0;36mDataFrame.__getitem__\u001b[0;34m(self, key)\u001b[0m\n\u001b[1;32m   3891\u001b[0m \u001b[38;5;28;01mif\u001b[39;00m \u001b[38;5;28mself\u001b[39m\u001b[38;5;241m.\u001b[39mcolumns\u001b[38;5;241m.\u001b[39mnlevels \u001b[38;5;241m>\u001b[39m \u001b[38;5;241m1\u001b[39m:\n\u001b[1;32m   3892\u001b[0m     \u001b[38;5;28;01mreturn\u001b[39;00m \u001b[38;5;28mself\u001b[39m\u001b[38;5;241m.\u001b[39m_getitem_multilevel(key)\n\u001b[0;32m-> 3893\u001b[0m indexer \u001b[38;5;241m=\u001b[39m \u001b[38;5;28mself\u001b[39m\u001b[38;5;241m.\u001b[39mcolumns\u001b[38;5;241m.\u001b[39mget_loc(key)\n\u001b[1;32m   3894\u001b[0m \u001b[38;5;28;01mif\u001b[39;00m is_integer(indexer):\n\u001b[1;32m   3895\u001b[0m     indexer \u001b[38;5;241m=\u001b[39m [indexer]\n",
      "File \u001b[0;32m/opt/anaconda3/lib/python3.11/site-packages/pandas/core/indexes/base.py:3798\u001b[0m, in \u001b[0;36mIndex.get_loc\u001b[0;34m(self, key)\u001b[0m\n\u001b[1;32m   3793\u001b[0m     \u001b[38;5;28;01mif\u001b[39;00m \u001b[38;5;28misinstance\u001b[39m(casted_key, \u001b[38;5;28mslice\u001b[39m) \u001b[38;5;129;01mor\u001b[39;00m (\n\u001b[1;32m   3794\u001b[0m         \u001b[38;5;28misinstance\u001b[39m(casted_key, abc\u001b[38;5;241m.\u001b[39mIterable)\n\u001b[1;32m   3795\u001b[0m         \u001b[38;5;129;01mand\u001b[39;00m \u001b[38;5;28many\u001b[39m(\u001b[38;5;28misinstance\u001b[39m(x, \u001b[38;5;28mslice\u001b[39m) \u001b[38;5;28;01mfor\u001b[39;00m x \u001b[38;5;129;01min\u001b[39;00m casted_key)\n\u001b[1;32m   3796\u001b[0m     ):\n\u001b[1;32m   3797\u001b[0m         \u001b[38;5;28;01mraise\u001b[39;00m InvalidIndexError(key)\n\u001b[0;32m-> 3798\u001b[0m     \u001b[38;5;28;01mraise\u001b[39;00m \u001b[38;5;167;01mKeyError\u001b[39;00m(key) \u001b[38;5;28;01mfrom\u001b[39;00m \u001b[38;5;21;01merr\u001b[39;00m\n\u001b[1;32m   3799\u001b[0m \u001b[38;5;28;01mexcept\u001b[39;00m \u001b[38;5;167;01mTypeError\u001b[39;00m:\n\u001b[1;32m   3800\u001b[0m     \u001b[38;5;66;03m# If we have a listlike key, _check_indexing_error will raise\u001b[39;00m\n\u001b[1;32m   3801\u001b[0m     \u001b[38;5;66;03m#  InvalidIndexError. Otherwise we fall through and re-raise\u001b[39;00m\n\u001b[1;32m   3802\u001b[0m     \u001b[38;5;66;03m#  the TypeError.\u001b[39;00m\n\u001b[1;32m   3803\u001b[0m     \u001b[38;5;28mself\u001b[39m\u001b[38;5;241m.\u001b[39m_check_indexing_error(key)\n",
      "\u001b[0;31mKeyError\u001b[0m: 'delta'"
     ]
    }
   ],
   "source": [
    "# Load another dataset\n",
    "baseline = pd.read_stata('data/baseline.dta')\n",
    "\n",
    "# Modify 'delta' column\n",
    "baseline['delta'] = 1 - baseline['delta']\n",
    "\n",
    "# Keep specific columns\n",
    "columns_to_keep = ['oafid', 'logtotcons_base', 'male', 'num_adults', 'num_schoolchildren', 'finished_primary',\n",
    "                   'finished_secondary', 'cropland', 'num_rooms', 'schoolfees', 'totcons_base', 'logpercapcons_base',\n",
    "                   'total_cash_savings_base', 'total_cash_savings_trimmed', 'has_savings_acct', 'taken_bank_loan',\n",
    "                   'taken_informal_loan', 'liquidWealth', 'wagepay', 'businessprofitmonth', 'price_avg_diff_pct',\n",
    "                   'price_expect_diff_pct', 'harvest2011', 'netrevenue2011', 'netseller2011', 'autarkic2011',\n",
    "                   'maizelostpct2011', 'harvest2012', 'correct_interest', 'digit_recall', 'maizegiver', 'delta', 'treatment']\n",
    "baseline = baseline[columns_to_keep]\n",
    "\n",
    "# Rename columns\n",
    "baseline.columns = [col + '_base' if col != 'oafid' and col != 'treatment' else col for col in baseline.columns]\n",
    "baseline.rename(columns={'oafid_base': 'oafid', 'treatment_base': 'treatment2012'}, inplace=True)\n",
    "\n",
    "# Generate new column based on condition\n",
    "baseline['treat12'] = baseline['treatment2012'].apply(lambda x: x in ['T1', 'T2'])\n",
    "\n",
    "# Replace treat12 with NaN where treatment2012 is empty\n",
    "baseline['treat12'] = baseline['treat12'].where(baseline['treatment2012'] != '', other=pd.NA)\n",
    "\n",
    "# Merge with the previous dataset\n",
    "merged_data = pd.merge(baseline, ms1ms2_pooled, on='oafid', how='left', indicator=True)\n",
    "\n",
    "# Further processing based on merge results\n",
    "merged_data['in_sample_Y2'] = merged_data['_merge'] == 'both'\n",
    "merged_data['newin13'] = merged_data['_merge'] == 'right_only'\n",
    "merged_data['attrit13'] = merged_data['_merge'] == 'left_only'\n",
    "\n",
    "# Drop rows based on merge results\n",
    "merged_data = merged_data[merged_data['_merge'] != 'right_only']\n"
   ]
  },
  {
   "cell_type": "code",
   "execution_count": null,
   "metadata": {},
   "outputs": [],
   "source": [
    "import pandas as pd\n",
    "from statsmodels.stats.weightstats import ttest_ind\n",
    "\n",
    "# Assuming 'merged_data' is your DataFrame after all previous steps\n",
    "\n",
    "# Define the variables list for which you want to perform t-tests\n",
    "vars = ['male_base', 'num_adults_base', 'num_schoolchildren_base', 'finished_primary_base', \n",
    "        'finished_secondary_base', 'cropland_base', 'num_rooms_base', 'schoolfees_base', \n",
    "        'totcons_base', 'logpercapcons_base', 'total_cash_savings_base', 'total_cash_savings_trimmed_base',\n",
    "        'has_savings_acct_base', 'taken_bank_loan_base', 'taken_informal_loan_base', 'liquidWealth_base', \n",
    "        'wagepay_base', 'businessprofitmonth_base', 'price_avg_diff_pct_base', 'price_expect_diff_pct_base',\n",
    "        'harvest2011_base', 'netrevenue2011_base', 'netseller2011_base', 'autarkic2011_base', \n",
    "        'maizelostpct2011_base', 'harvest2012_base', 'correct_interest_base', 'digit_recall_base', 'maizegiver_base', 'delta_base']\n",
    "\n",
    "# Create an empty DataFrame to store test results\n",
    "test_results = pd.DataFrame(columns=['Variable', 'Mean_Group1', 'Mean_Group2', 'Observations', 'T-Statistic', 'P-Value'])\n",
    "\n",
    "for var in vars:\n",
    "    group1 = merged_data[merged_data['in_sample_Y2']][var].dropna()\n",
    "    group2 = merged_data[~merged_data['in_sample_Y2']][var].dropna()\n",
    "    \n",
    "    if not group1.empty and not group2.empty:\n",
    "        t_stat, p_value, df = ttest_ind(group1, group2, usevar='unequal')\n",
    "        test_results = test_results.append({'Variable': var, 'Mean_Group1': group1.mean(), 'Mean_Group2': group2.mean(),\n",
    "                                            'Observations': len(group1) + len(group2), 'T-Statistic': t_stat, 'P-Value': p_value},\n",
    "                                           ignore_index=True)\n",
    "\n",
    "# Convert the DataFrame to LaTeX\n",
    "latex_table = test_results.to_latex(index=False, float_format=\"%.2f\")\n",
    "\n",
    "print(latex_table)\n"
   ]
  }
 ],
 "metadata": {
  "kernelspec": {
   "display_name": "base",
   "language": "python",
   "name": "python3"
  },
  "language_info": {
   "codemirror_mode": {
    "name": "ipython",
    "version": 3
   },
   "file_extension": ".py",
   "mimetype": "text/x-python",
   "name": "python",
   "nbconvert_exporter": "python",
   "pygments_lexer": "ipython3",
   "version": "3.11.8"
  }
 },
 "nbformat": 4,
 "nbformat_minor": 2
}
