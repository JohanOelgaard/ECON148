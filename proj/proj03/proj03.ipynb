{
 "cells": [
  {
   "cell_type": "code",
   "execution_count": 45,
   "metadata": {},
   "outputs": [
    {
     "name": "stdout",
     "output_type": "stream",
     "text": [
      "The autoreload extension is already loaded. To reload it, use:\n",
      "  %reload_ext autoreload\n"
     ]
    }
   ],
   "source": [
    "# import of packages\n",
    "from proj03 import *\n",
    "import pandas as pd\n",
    "import numpy as np\n",
    "import matplotlib.pyplot as plt\n",
    "from statsmodels.stats.weightstats import ttest_ind\n",
    "from scipy import stats\n",
    "\n",
    "# autoreload for easier debugging\n",
    "%load_ext autoreload\n",
    "%autoreload 2"
   ]
  },
  {
   "cell_type": "code",
   "execution_count": 46,
   "metadata": {},
   "outputs": [],
   "source": [
    "# import data\n",
    "baseline = pd.read_stata('data/baseline.dta')\n",
    "bok_inflation = pd.read_stata('data/BOK_inflation.dta')\n",
    "cleanpricedata_y1y2 = pd.read_stata('data/cleanPriceData_Y1Y2.dta')\n",
    "intensity_obs_short = pd.read_stata('data/intensity_obs_short.dta')\n",
    "lrfu_select_dataset = pd.read_stata('data/LRFU_select_dataset.dta')\n",
    "ms1ms2_pooled = pd.read_stata('data/MS1MS2_pooled.dta')\n",
    "repayment_datay1 = pd.read_stata('data/repayment_dataY1.dta')"
   ]
  },
  {
   "cell_type": "code",
   "execution_count": 47,
   "metadata": {},
   "outputs": [
    {
     "name": "stdout",
     "output_type": "stream",
     "text": [
      "1019\n",
      "1019\n"
     ]
    }
   ],
   "source": [
    "# clean ms1ms2_pooled (drop if MS !=2, keep columns oafid and treatMS1MS2, group by oafid and take mean and rename) \n",
    "ms1ms2_pooled_clean = ms1ms2_pooled[ms1ms2_pooled['MS']==2]\n",
    "ms1ms2_pooled_clean = ms1ms2_pooled_clean[['oafid', 'treatMS1MS2']]\n",
    "ms1ms2_pooled_clean = ms1ms2_pooled_clean.groupby('oafid', as_index=False).mean()\n",
    "ms1ms2_pooled_clean.rename(columns={'treatMS1MS2': 'treat13'}, inplace=True)\n",
    "print(ms1ms2_pooled_clean.shape[0])\n",
    "print(ms1ms2_pooled_clean.shape[0])\n"
   ]
  },
  {
   "cell_type": "code",
   "execution_count": 48,
   "metadata": {},
   "outputs": [
    {
     "data": {
      "text/plain": [
       "0       0.042857\n",
       "1       0.214286\n",
       "2       0.142857\n",
       "3       0.428571\n",
       "4       0.357143\n",
       "          ...   \n",
       "1811    0.142857\n",
       "1812    0.171429\n",
       "1813    0.142857\n",
       "1814    0.000000\n",
       "1815    0.485714\n",
       "Name: delta_base, Length: 1816, dtype: float32"
      ]
     },
     "execution_count": 48,
     "metadata": {},
     "output_type": "execute_result"
    }
   ],
   "source": [
    "# clean baseline data (we assume they have mad an)\n",
    "baseline['delta_base'] # is this already 1 - delta_base or why is it not named 'delta' but 'delta_base'??"
   ]
  },
  {
   "cell_type": "code",
   "execution_count": 59,
   "metadata": {},
   "outputs": [
    {
     "name": "stderr",
     "output_type": "stream",
     "text": [
      "/var/folders/yw/jsw5n53s1cb1s2q6tt0msrm00000gn/T/ipykernel_38633/704993587.py:20: FutureWarning: Setting an item of incompatible dtype is deprecated and will raise in a future error of pandas. Value 'nan' has dtype incompatible with bool, please explicitly cast to a compatible dtype first.\n",
      "  baseline_clean.loc[baseline_clean['treatment2012'] == '', 'treat12'] = np.nan\n"
     ]
    }
   ],
   "source": [
    "# clean baseline data (the stata code indicates that the variables columns 'businessprofitmonth' and 'delta' should be kept, however they have already been renamed to 'businessprofitmonth_base' and 'delta_base')\n",
    "base_cols = ['oafid', 'logtotcons_base', 'male', 'num_adults', 'num_schoolchildren', 'finished_primary',\n",
    "                   'finished_secondary', 'cropland', 'num_rooms', 'schoolfees', 'totcons_base', 'logpercapcons_base',\n",
    "                   'total_cash_savings_base', 'total_cash_savings_trimmed', 'has_savings_acct', 'taken_bank_loan',\n",
    "                   'taken_informal_loan', 'liquidWealth', 'wagepay', 'businessprofitmonth_base', 'price_avg_diff_pct',\n",
    "                   'price_expect_diff_pct', 'harvest2011', 'netrevenue2011', 'netseller2011', 'autarkic2011',\n",
    "                   'maizelostpct2011', 'harvest2012', 'correct_interest', 'digit_recall', 'maizegiver', 'delta_base', 'treatment']\n",
    "baseline_clean = baseline[base_cols].copy()\n",
    "\n",
    "\"\"\" WE SURE ABOUT THIS? \"\"\"\n",
    "# we assume that the variable 'delta_base' does not already have the correct value thus the following is not commented out\n",
    "baseline['delta_base'] = 1 - baseline['delta_base']\n",
    "\n",
    "# rename columns\n",
    "baseline_clean.columns = [col + '_base' if not col.endswith('_base') and col != 'oafid' and col != 'treatment' else col for col in baseline_clean.columns]\n",
    "baseline_clean.rename(columns={'treatment': 'treatment2012'}, inplace=True)\n",
    "\n",
    "# generate treat12 as bool for treatment and control in 2012\n",
    "baseline_clean['treat12'] = baseline_clean['treatment2012'].apply(lambda x: x in ['T1', 'T2'])\n",
    "baseline_clean.loc[baseline_clean['treatment2012'] == '', 'treat12'] = np.nan\n"
   ]
  },
  {
   "cell_type": "code",
   "execution_count": 60,
   "metadata": {},
   "outputs": [],
   "source": [
    "# merge baseline_clean and ms1ms2_pooled_clean on oafid\n",
    "base_ms1ms2_pool = pd.merge(baseline_clean, ms1ms2_pooled_clean, on='oafid', how='outer', indicator=True)\n",
    "\n",
    "# Drop rows that are only in the using dataset (equivalent to 'merge_base == 2' in Stata)\n",
    "base_ms1ms2_pool = base_ms1ms2_pool[base_ms1ms2_pool['_merge'] != 'right_only']\n",
    "\n",
    "# Generate bool in_sample_Y2\n",
    "base_ms1ms2_pool['in_sample_Y2'] = (base_ms1ms2_pool['_merge'] == 'both')\n",
    "\n",
    "\"\"\" WHY DO THIS – RIGHT_ONLY IS REMOVED SO NO DATA??? \"\"\"\n",
    "# Generate bool newin13\n",
    "base_ms1ms2_pool['newin13'] = (base_ms1ms2_pool['_merge'] == 'right_only')\n",
    "\n",
    "# Generate bool attrit13\n",
    "base_ms1ms2_pool['attrit13'] = (base_ms1ms2_pool['_merge'] == 'left_only')\n",
    "\n",
    "base_ms1ms2_pool.drop(columns=['_merge'], inplace=True)\n"
   ]
  },
  {
   "cell_type": "code",
   "execution_count": 61,
   "metadata": {},
   "outputs": [
    {
     "name": "stdout",
     "output_type": "stream",
     "text": [
      "\\begin{tabular}{lrrrrr}\n",
      "\\toprule\n",
      "Variable & Treat Mean & Control Mean & Observations & Std Diff & P-value \\\\\n",
      "\\midrule\n",
      "male_base & 0.296 & 0.334 & 1589 & -0.083 & 0.109 \\\\\n",
      "num_adults_base & 3.004 & 3.196 & 1510 & -0.099 & 0.067 \\\\\n",
      "num_schoolchildren_base & 2.998 & 3.072 & 1589 & -0.038 & 0.454 \\\\\n",
      "finished_primary_base & 0.718 & 0.772 & 1490 & -0.122 & 0.019 \\\\\n",
      "finished_secondary_base & 0.253 & 0.270 & 1490 & -0.039 & 0.460 \\\\\n",
      "cropland_base & 2.441 & 2.398 & 1512 & 0.014 & 0.796 \\\\\n",
      "num_rooms_base & 3.073 & 3.252 & 1511 & -0.072 & 0.219 \\\\\n",
      "schoolfees_base & 27239.693 & 29813.631 & 1589 & -0.068 & 0.191 \\\\\n",
      "totcons_base & 14970.862 & 15371.378 & 1437 & -0.032 & 0.550 \\\\\n",
      "logpercapcons_base & 7.975 & 7.963 & 1434 & 0.019 & 0.721 \\\\\n",
      "total_cash_savings_base & 5157.396 & 8021.499 & 1572 & -0.128 & 0.028 \\\\\n",
      "total_cash_savings_trimmed_base & 4731.623 & 5389.836 & 1572 & -0.050 & 0.343 \\\\\n",
      "has_savings_acct_base & 0.419 & 0.425 & 1589 & -0.012 & 0.815 \\\\\n",
      "taken_bank_loan_base & 0.079 & 0.083 & 1589 & -0.018 & 0.730 \\\\\n",
      "taken_informal_loan_base & 0.244 & 0.249 & 1589 & -0.011 & 0.836 \\\\\n",
      "liquidWealth_base & 93878.938 & 97280.922 & 1491 & -0.032 & 0.547 \\\\\n",
      "wagepay_base & 3916.817 & 3797.480 & 1589 & 0.010 & 0.854 \\\\\n",
      "businessprofitmonth_base & 2302.588 & 1801.685 & 1589 & 0.051 & 0.265 \\\\\n",
      "price_avg_diff_pct_base & 133.495 & 133.178 & 1504 & 0.004 & 0.939 \\\\\n",
      "price_expect_diff_pct_base & 124.680 & 117.255 & 1510 & 0.075 & 0.103 \\\\\n",
      "harvest2011_base & 9.364 & 9.025 & 1511 & 0.022 & 0.670 \\\\\n",
      "netrevenue2011_base & -3303.691 & -4088.622 & 1428 & 0.017 & 0.716 \\\\\n",
      "netseller2011_base & 0.324 & 0.303 & 1428 & 0.046 & 0.393 \\\\\n",
      "autarkic2011_base & 0.068 & 0.060 & 1589 & 0.034 & 0.506 \\\\\n",
      "maizelostpct2011_base & 0.016 & 0.013 & 1428 & 0.030 & 0.563 \\\\\n",
      "harvest2012_base & 11.181 & 11.030 & 1484 & 0.018 & 0.733 \\\\\n",
      "correct_interest_base & 0.715 & 0.730 & 1580 & -0.034 & 0.502 \\\\\n",
      "digit_recall_base & 4.568 & 4.576 & 1504 & -0.007 & 0.890 \\\\\n",
      "maizegiver_base & 0.261 & 0.261 & 1589 & -0.001 & 0.985 \\\\\n",
      "\\bottomrule\n",
      "\\end{tabular}\n",
      "\n"
     ]
    }
   ],
   "source": [
    "base_ms1ms2_pool['schoolfees_base'] = base_ms1ms2_pool['schoolfees_base']*1000\n",
    "\n",
    "\n",
    "# Variables list\n",
    "vars_list = [\n",
    "    \"male_base\", \"num_adults_base\", \"num_schoolchildren_base\", \"finished_primary_base\",\n",
    "    \"finished_secondary_base\", \"cropland_base\", \"num_rooms_base\", \"schoolfees_base\",\n",
    "    \"totcons_base\", \"logpercapcons_base\", \"total_cash_savings_base\",\n",
    "    \"total_cash_savings_trimmed_base\", \"has_savings_acct_base\", \"taken_bank_loan_base\",\n",
    "    \"taken_informal_loan_base\", \"liquidWealth_base\", \"wagepay_base\",\n",
    "    \"businessprofitmonth_base\", \"price_avg_diff_pct_base\",\n",
    "    \"price_expect_diff_pct_base\", \"harvest2011_base\", \"netrevenue2011_base\",\n",
    "    \"netseller2011_base\", \"autarkic2011_base\", \"maizelostpct2011_base\",\n",
    "    \"harvest2012_base\", \"correct_interest_base\", \"digit_recall_base\",\n",
    "    \"maizegiver_base\"\n",
    "]\n",
    "\n",
    "\"\"\" AGAIN SHOULD NOT BE NEEDED AS RIGHT_ONLY IS REMOVED \"\"\"\n",
    "# Filter the DataFrame\n",
    "df_filtered = base_ms1ms2_pool[base_ms1ms2_pool['newin13'] != 1]\n",
    "\n",
    "# Function to perform t-tests\n",
    "def t_test_by_group(df, var, group_var='treat12'):\n",
    "    group1 = df[df[group_var] == 0][var].dropna()\n",
    "    group2 = df[df[group_var] == 1][var].dropna()\n",
    "    t_stat, p_val = stats.ttest_ind(group1, group2, equal_var=False)\n",
    "    return group1.mean(), group2.mean(), len(group1) + len(group2), t_stat, p_val\n",
    "\n",
    "# Applying t-tests and collecting results\n",
    "results = []\n",
    "for var in vars_list:\n",
    "    try:\n",
    "        control_mean, treat_mean, obs, t_stat, p_val = t_test_by_group(df_filtered, var)\n",
    "        std_diff = (treat_mean - control_mean) / np.sqrt(((len(df_filtered[df_filtered['treat12'] == 0][var].dropna()) - 1) * np.std(df_filtered[df_filtered['treat12'] == 0][var].dropna(), ddof=1) ** 2 + (len(df_filtered[df_filtered['treat12'] == 1][var].dropna()) - 1) * np.std(df_filtered[df_filtered['treat12'] == 1][var].dropna(), ddof=1) ** 2) / (len(df_filtered[df_filtered['treat12'] == 0][var].dropna()) + len(df_filtered[df_filtered['treat12'] == 1][var].dropna()) - 2))\n",
    "        results.append([var, treat_mean, control_mean, obs, std_diff, p_val])\n",
    "    except:\n",
    "        results.append([var, np.nan, np.nan, np.nan, np.nan, np.nan])\n",
    "\n",
    "# Convert results to DataFrame for easier LaTeX conversion\n",
    "results_df = pd.DataFrame(results, columns=['Variable', 'Treat Mean', 'Control Mean', 'Observations', 'Std Diff', 'P-value'])\n",
    "\n",
    "# Convert schoolfees_base back to original scale\n",
    "base_ms1ms2_pool['schoolfees_base'] = base_ms1ms2_pool['schoolfees_base']/1000\n",
    "\n",
    "latex_output = results_df.to_latex(index=False, float_format=\"%.3f\")\n",
    "print(latex_output)\n",
    "\n"
   ]
  },
  {
   "cell_type": "code",
   "execution_count": 57,
   "metadata": {},
   "outputs": [
    {
     "data": {
      "text/plain": [
       "0        9429.213867\n",
       "1        5113.437500\n",
       "2       36049.988281\n",
       "3        3791.185547\n",
       "4       12032.489258\n",
       "            ...     \n",
       "1811             NaN\n",
       "1812    26982.691406\n",
       "1813    13421.428711\n",
       "1814    13213.939453\n",
       "1815    22471.937500\n",
       "Name: totcons_base_base, Length: 1816, dtype: float32"
      ]
     },
     "execution_count": 57,
     "metadata": {},
     "output_type": "execute_result"
    }
   ],
   "source": [
    "baseline_clean['totcons_base_base']"
   ]
  }
 ],
 "metadata": {
  "kernelspec": {
   "display_name": "base",
   "language": "python",
   "name": "python3"
  },
  "language_info": {
   "codemirror_mode": {
    "name": "ipython",
    "version": 3
   },
   "file_extension": ".py",
   "mimetype": "text/x-python",
   "name": "python",
   "nbconvert_exporter": "python",
   "pygments_lexer": "ipython3",
   "version": "3.11.8"
  }
 },
 "nbformat": 4,
 "nbformat_minor": 2
}
