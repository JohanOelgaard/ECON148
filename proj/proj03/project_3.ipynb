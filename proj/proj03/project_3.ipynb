{
  "cells": [
    {
      "cell_type": "markdown",
      "metadata": {
        "id": "_0oyPnEQIxpq"
      },
      "source": [
        "# Import Packages"
      ]
    },
    {
      "cell_type": "code",
      "execution_count": 1,
      "metadata": {
        "id": "nE0qteMlufaZ"
      },
      "outputs": [],
      "source": [
        "import pandas as pd\n",
        "import numpy as np\n",
        "import sklearn.linear_model as lm\n",
        "from statsmodels.stats.weightstats import ttest_ind\n",
        "from scipy import stats\n",
        "import statsmodels.api as sm\n",
        "import statsmodels.formula.api as smf\n",
        "from datetime import datetime\n",
        "from sklearn.utils import resample\n",
        "from random import choices\n",
        "from statsmodels.stats.multitest import multipletests"
      ]
    },
    {
      "cell_type": "code",
      "execution_count": 2,
      "metadata": {
        "colab": {
          "base_uri": "https://localhost:8080/"
        },
        "id": "rwtx6H3aAHvv",
        "outputId": "d807dc77-f5f1-4672-d325-17ff5ed669e8"
      },
      "outputs": [],
      "source": [
        "try:\n",
        "  from stargazer.stargazer import Stargazer\n",
        "except ImportError:\n",
        "  %pip install stargazer\n",
        "  from stargazer.stargazer import Stargazer"
      ]
    },
    {
      "cell_type": "markdown",
      "metadata": {
        "id": "pgzJ03RhI4Go"
      },
      "source": [
        "# Import data"
      ]
    },
    {
      "cell_type": "code",
      "execution_count": 3,
      "metadata": {
        "colab": {
          "base_uri": "https://localhost:8080/"
        },
        "id": "GtyS2XfKKJKd",
        "outputId": "87946a65-6548-4a57-ff18-e9086fb3063e"
      },
      "outputs": [],
      "source": [
        "# import data\n",
        "baseline = pd.read_stata('data/baseline.dta')\n",
        "cleanpricedata_y1y2 = pd.read_stata('data/cleanPriceData_Y1Y2.dta')\n",
        "ms1ms2_pooled = pd.read_stata('data/MS1MS2_pooled.dta')\n",
        "\n",
        "# this data is not needed for our analysis\n",
        "# bok_inflation = pd.read_stata('data/BOK_inflation.dta')\n",
        "# intensity_obs_short = pd.read_stata('data/intensity_obs_short.dta')\n",
        "# lrfu_select_dataset = pd.read_stata('data/LRFU_select_dataset.dta')\n",
        "# repayment_datay1 = pd.read_stata('data/repayment_dataY1.dta')"
      ]
    },
    {
      "cell_type": "markdown",
      "metadata": {
        "id": "Ufa1dpjdPM4N"
      },
      "source": [
        "# Recreating the tables from the paper"
      ]
    },
    {
      "cell_type": "markdown",
      "metadata": {
        "id": "NLR-EsZmPhnZ"
      },
      "source": [
        "## Table 1"
      ]
    },
    {
      "cell_type": "markdown",
      "metadata": {
        "id": "ZDod8jI8PmcV"
      },
      "source": [
        "We start by cleaning the data"
      ]
    },
    {
      "cell_type": "code",
      "execution_count": 4,
      "metadata": {
        "colab": {
          "base_uri": "https://localhost:8080/"
        },
        "id": "27C6MkYfPjWZ",
        "outputId": "be660654-5f0b-4bc5-e9a6-9cd83ea3455b"
      },
      "outputs": [
        {
          "name": "stdout",
          "output_type": "stream",
          "text": [
            "1019\n"
          ]
        }
      ],
      "source": [
        "# clean ms1ms2_pooled (drop if MS !=2, keep columns oafid and treatMS1MS2, group by oafid and take mean and rename)\n",
        "ms1ms2_pooled_tab1 = ms1ms2_pooled[ms1ms2_pooled['MS']==2]\n",
        "ms1ms2_pooled_tab1 = ms1ms2_pooled_tab1[['oafid', 'treatMS1MS2']]\n",
        "ms1ms2_pooled_tab1 = ms1ms2_pooled_tab1.groupby('oafid', as_index=False).mean()\n",
        "ms1ms2_pooled_tab1.rename(columns={'treatMS1MS2': 'treat13'}, inplace=True)\n",
        "print(ms1ms2_pooled_tab1.shape[0]) # checking we have the right number of observations as described in the original article"
      ]
    },
    {
      "cell_type": "code",
      "execution_count": 5,
      "metadata": {
        "id": "NDAHBMLAPxQM"
      },
      "outputs": [
        {
          "name": "stderr",
          "output_type": "stream",
          "text": [
            "/var/folders/yw/jsw5n53s1cb1s2q6tt0msrm00000gn/T/ipykernel_54757/2284489521.py:16: FutureWarning: Setting an item of incompatible dtype is deprecated and will raise in a future error of pandas. Value 'nan' has dtype incompatible with bool, please explicitly cast to a compatible dtype first.\n",
            "  baseline_clean.loc[baseline_clean['treatment2012'] == '', 'treat12'] = np.nan\n"
          ]
        }
      ],
      "source": [
        "# clean baseline data (the stata code indicates that the variables columns 'businessprofitmonth' and 'delta' should be kept, however they have already been renamed to 'businessprofitmonth_base' and 'delta_base')\n",
        "base_cols = ['oafid', 'logtotcons_base', 'male', 'num_adults', 'num_schoolchildren', 'finished_primary',\n",
        "                   'finished_secondary', 'cropland', 'num_rooms', 'schoolfees', 'totcons_base', 'logpercapcons_base',\n",
        "                   'total_cash_savings_base', 'total_cash_savings_trimmed', 'has_savings_acct', 'taken_bank_loan',\n",
        "                   'taken_informal_loan', 'liquidWealth', 'wagepay', 'businessprofitmonth_base', 'price_avg_diff_pct',\n",
        "                   'price_expect_diff_pct', 'harvest2011', 'netrevenue2011', 'netseller2011', 'autarkic2011',\n",
        "                   'maizelostpct2011', 'harvest2012', 'correct_interest', 'digit_recall', 'maizegiver', 'delta_base', 'treatment']\n",
        "baseline_clean = baseline[base_cols].copy()\n",
        "\n",
        "# rename columns\n",
        "baseline_clean.columns = [col + '_base' if not col.endswith('_base') and col != 'oafid' and col != 'treatment' else col for col in baseline_clean.columns]\n",
        "baseline_clean.rename(columns={'treatment': 'treatment2012'}, inplace=True)\n",
        "\n",
        "# generate treat12 as bool for treatment and control in 2012\n",
        "baseline_clean['treat12'] = baseline_clean['treatment2012'].apply(lambda x: x in ['T1', 'T2'])\n",
        "baseline_clean.loc[baseline_clean['treatment2012'] == '', 'treat12'] = np.nan"
      ]
    },
    {
      "cell_type": "code",
      "execution_count": 6,
      "metadata": {
        "id": "NLEtoCbkPzAN"
      },
      "outputs": [],
      "source": [
        "# merge baseline_clean and ms1ms2_pooled_clean on oafid\n",
        "base_ms1ms2_pool = pd.merge(baseline_clean, ms1ms2_pooled_tab1, on='oafid', how='left')"
      ]
    },
    {
      "cell_type": "code",
      "execution_count": 7,
      "metadata": {
        "colab": {
          "base_uri": "https://localhost:8080/",
          "height": 831
        },
        "id": "69_xFPsuQTmG",
        "outputId": "279489ba-6e05-4d96-caca-5214d7b4ab53"
      },
      "outputs": [
        {
          "name": "stdout",
          "output_type": "stream",
          "text": [
            "\\begin{tabular}{lrrrrr}\n",
            "\\toprule\n",
            "Baseline characteristic & Treat & Control & Obs & Std diff & P-val \\\\\n",
            "\\midrule\n",
            "Male & 0.296 & 0.334 & 1589 & -0.083 & 0.109 \\\\\n",
            "Number of adults & 3.004 & 3.196 & 1510 & -0.099 & 0.067 \\\\\n",
            "Children in school & 2.998 & 3.072 & 1589 & -0.038 & 0.454 \\\\\n",
            "Finished primary school & 0.718 & 0.772 & 1490 & -0.122 & 0.019 \\\\\n",
            "Finished secondary school & 0.253 & 0.270 & 1490 & -0.039 & 0.460 \\\\\n",
            "Total cropland (acres) & 2.441 & 2.398 & 1512 & 0.014 & 0.796 \\\\\n",
            "Number of rooms in household & 3.073 & 3.252 & 1511 & -0.072 & 0.219 \\\\\n",
            "Total school fees & 27239.693 & 29813.631 & 1589 & -0.068 & 0.191 \\\\\n",
            "Average monthly consumption (Ksh) & 14970.862 & 15371.378 & 1437 & -0.032 & 0.550 \\\\\n",
            "Average monthly consumption/capita (log) & 7.975 & 7.963 & 1434 & 0.019 & 0.721 \\\\\n",
            "Total cash savings (Ksh) & 5157.396 & 8021.499 & 1572 & -0.128 & 0.028 \\\\\n",
            "Total cash savings (trim) & 4731.623 & 5389.836 & 1572 & -0.050 & 0.343 \\\\\n",
            "Has bank savings acct & 0.419 & 0.425 & 1589 & -0.012 & 0.815 \\\\\n",
            "Taken bank loan & 0.079 & 0.083 & 1589 & -0.018 & 0.730 \\\\\n",
            "Taken informal loan & 0.244 & 0.249 & 1589 & -0.011 & 0.836 \\\\\n",
            "Liquid wealth (Ksh) & 93878.938 & 97280.922 & 1491 & -0.032 & 0.547 \\\\\n",
            "Off-farm wages (Ksh) & 3916.817 & 3797.480 & 1589 & 0.010 & 0.854 \\\\\n",
            "Business profit (Ksh) & 2302.588 & 1801.685 & 1589 & 0.051 & 0.265 \\\\\n",
            "Avg $\\%\\Delta$ price Sep-Jun & 133.495 & 133.178 & 1504 & 0.004 & 0.939 \\\\\n",
            "Expect $\\%\\Delta$ price Sep12-Jun13 & 124.680 & 117.255 & 1510 & 0.075 & 0.103 \\\\\n",
            "2011 LR harvest (bags) & 9.364 & 9.025 & 1511 & 0.022 & 0.670 \\\\\n",
            "Net revenue 2011 (Ksh) & -3303.691 & -4088.622 & 1428 & 0.017 & 0.716 \\\\\n",
            "Net seller 2011 & 0.324 & 0.303 & 1428 & 0.046 & 0.393 \\\\\n",
            "Autarkic 2011 & 0.068 & 0.060 & 1589 & 0.034 & 0.506 \\\\\n",
            "\\% maize lost 2011 & 0.016 & 0.013 & 1428 & 0.030 & 0.563 \\\\\n",
            "2012 LR harvest (bags) & 11.181 & 11.030 & 1484 & 0.018 & 0.733 \\\\\n",
            "Calculated interest correctly & 0.715 & 0.730 & 1580 & -0.034 & 0.502 \\\\\n",
            "Digit span recall & 4.568 & 4.576 & 1504 & -0.007 & 0.890 \\\\\n",
            "Maize giver & 0.261 & 0.261 & 1589 & -0.001 & 0.985 \\\\\n",
            "\\bottomrule\n",
            "\\end{tabular}\n",
            "\n"
          ]
        }
      ],
      "source": [
        "# create table 1\n",
        "# copy in case we need this later\n",
        "df_tab1 = base_ms1ms2_pool.copy()\n",
        "df_tab1['schoolfees_base'] = df_tab1['schoolfees_base']*1000\n",
        "\n",
        "# var list for table 1\n",
        "vars_list = [\n",
        "    \"male_base\", \"num_adults_base\", \"num_schoolchildren_base\", \"finished_primary_base\",\n",
        "    \"finished_secondary_base\", \"cropland_base\", \"num_rooms_base\", \"schoolfees_base\",\n",
        "    \"totcons_base\", \"logpercapcons_base\", \"total_cash_savings_base\",\n",
        "    \"total_cash_savings_trimmed_base\", \"has_savings_acct_base\", \"taken_bank_loan_base\",\n",
        "    \"taken_informal_loan_base\", \"liquidWealth_base\", \"wagepay_base\",\n",
        "    \"businessprofitmonth_base\", \"price_avg_diff_pct_base\",\n",
        "    \"price_expect_diff_pct_base\", \"harvest2011_base\", \"netrevenue2011_base\",\n",
        "    \"netseller2011_base\", \"autarkic2011_base\", \"maizelostpct2011_base\",\n",
        "    \"harvest2012_base\", \"correct_interest_base\", \"digit_recall_base\",\n",
        "    \"maizegiver_base\"\n",
        "]\n",
        "\n",
        "renaming = {\n",
        "    \"male_base\": \"Male\",\n",
        "    \"num_adults_base\": \"Number of adults\",\n",
        "    \"num_schoolchildren_base\": \"Children in school\",\n",
        "    \"finished_primary_base\": \"Finished primary school\",\n",
        "    \"finished_secondary_base\": \"Finished secondary school\",\n",
        "    \"cropland_base\": \"Total cropland (acres)\",\n",
        "    \"num_rooms_base\": \"Number of rooms in household\",\n",
        "    \"schoolfees_base\": \"Total school fees\",\n",
        "    \"totcons_base\": \"Average monthly consumption (Ksh)\",\n",
        "    \"logpercapcons_base\": \"Average monthly consumption/capita (log)\",\n",
        "    \"total_cash_savings_base\": \"Total cash savings (Ksh)\",\n",
        "    \"total_cash_savings_trimmed_base\": \"Total cash savings (trim)\",\n",
        "    \"has_savings_acct_base\": \"Has bank savings acct\",\n",
        "    \"taken_bank_loan_base\": \"Taken bank loan\",\n",
        "    \"taken_informal_loan_base\": \"Taken informal loan\",\n",
        "    \"liquidWealth_base\": \"Liquid wealth (Ksh)\",\n",
        "    \"wagepay_base\": \"Off-farm wages (Ksh)\",\n",
        "    \"businessprofitmonth_base\": \"Business profit (Ksh)\",\n",
        "    \"price_avg_diff_pct_base\": \"Avg $\\%\\Delta$ price Sep-Jun\",\n",
        "    \"price_expect_diff_pct_base\": \"Expect $\\%\\Delta$ price Sep12-Jun13\",\n",
        "    \"harvest2011_base\": \"2011 LR harvest (bags)\",\n",
        "    \"netrevenue2011_base\": \"Net revenue 2011 (Ksh)\",\n",
        "    \"netseller2011_base\": \"Net seller 2011\",\n",
        "    \"autarkic2011_base\": \"Autarkic 2011\",\n",
        "    \"maizelostpct2011_base\": \"\\% maize lost 2011\",\n",
        "    \"harvest2012_base\": \"2012 LR harvest (bags)\",\n",
        "    \"correct_interest_base\": \"Calculated interest correctly\",\n",
        "    \"digit_recall_base\": \"Digit span recall\",\n",
        "    \"maizegiver_base\": \"Maize giver\"\n",
        "}\n",
        "\n",
        "# function to perform t-tests\n",
        "def t_test_by_group(df, var, group_var='treat12'):\n",
        "    group1 = df[df[group_var] == 0][var].dropna()\n",
        "    group2 = df[df[group_var] == 1][var].dropna()\n",
        "    t_stat, p_val = stats.ttest_ind(group1, group2, equal_var=False)\n",
        "    return group1.mean(), group2.mean(), len(group1) + len(group2), t_stat, p_val\n",
        "\n",
        "# applying t-tests and collecting results\n",
        "results = []\n",
        "for var in vars_list:\n",
        "    control_mean, treat_mean, obs, t_stat, p_val = t_test_by_group(df_tab1, var)\n",
        "    std_diff = (treat_mean - control_mean) / np.sqrt(((len(df_tab1[df_tab1['treat12'] == 0][var]) - 1) * np.std(df_tab1[df_tab1['treat12'] == 0][var], ddof=1) ** 2 + (len(df_tab1[df_tab1['treat12'] == 1][var]) - 1) * np.std(df_tab1[df_tab1['treat12'] == 1][var], ddof=1) ** 2) / (len(df_tab1[df_tab1['treat12'] == 0][var]) + len(df_tab1[df_tab1['treat12'] == 1][var]) - 2))\n",
        "    results.append([var, treat_mean, control_mean, obs, std_diff, p_val])\n",
        "\n",
        "# convert results to a df to use pandas output to latex\n",
        "results_df = pd.DataFrame(results, columns=['Variable', 'Treat Mean', 'Control Mean', 'Observations', 'Std Diff', 'P-value'])\n",
        "results_df['Variable'] = results_df['Variable'].map(renaming)\n",
        "results_df = results_df.rename(columns={\n",
        "    'Variable':'Baseline characteristic', \n",
        "    'Treat Mean':'Treat', \n",
        "    'Control Mean':'Control', \n",
        "    'Observations':'Obs', \n",
        "    'Std Diff':'Std diff', \n",
        "    'P-value':'P-val'})\n",
        "\n",
        "latex_table1 = results_df.to_latex(index=False, float_format=\"%.3f\")\n",
        "print(latex_table1)"
      ]
    },
    {
      "cell_type": "markdown",
      "metadata": {},
      "source": [
        "## Running the model for tables 2 through 4"
      ]
    },
    {
      "cell_type": "code",
      "execution_count": 8,
      "metadata": {},
      "outputs": [],
      "source": [
        "treatments = ['treat12', 'treat13', 'treatMS1MS2']\n",
        "dependent_vars = ['inventory_trim', 'netrevenue_trim','logtotcons_trim']\n",
        "\n",
        "mean_df = pd.DataFrame()\n",
        "std_df = pd.DataFrame()\n",
        "\n",
        "results = {'netsales': {'overall': None, 'by_round':None}}\n",
        "\n",
        "for dv in dependent_vars:\n",
        "    for treat in treatments:\n",
        "        # create df for each treatment\n",
        "        if treat == 'treatMS1MS2':\n",
        "            df1 = ms1ms2_pooled.loc[:, [dv,'treat12', 'Y1round1', 'Y1round2', 'Y1round3', 'treatMS1MS2', 'interviewdate', 'groupnum', 'strata_group']].copy(deep=True).dropna()\n",
        "            df2 = ms1ms2_pooled.loc[:, [dv,'treat13', 'Y2round1', 'Y2round2', 'Y2round3', 'treatMS1MS2', 'interviewdate', 'groupnum', 'strata_group']].copy(deep=True).dropna()\n",
        "            df1['inter_R1'] = df1['Y1round1'] * df1[f'treat12']\n",
        "            df1['inter_R2'] = df1['Y1round2'] * df1[f'treat12']\n",
        "            df1['inter_R3'] = df1['Y1round3'] * df1[f'treat12']\n",
        "            df2['inter_R1'] = df2['Y2round1'] * df2[f'treat13']\n",
        "            df2['inter_R2'] = df2['Y2round2'] * df2[f'treat13']\n",
        "            df2['inter_R3'] = df2['Y2round3'] * df2[f'treat13']\n",
        "            df = pd.concat([df1, df2], ignore_index=True).fillna(0)\n",
        "\n",
        "            # model specification by round\n",
        "            formula_by_round = f'{dv} ~ inter_R1 + inter_R2 + inter_R3 + interviewdate + C(Y1round1) + C(Y1round2) + C(Y1round3) + C(Y2round1) + C(Y2round2) + C(Y2round3) + C(strata_group)'\n",
        "        else:\n",
        "            if treat == 'treat12':\n",
        "                year = 1\n",
        "            else:\n",
        "                year = 2\n",
        "            df = ms1ms2_pooled.loc[:, [dv,treat, f'Y{year}round1', f'Y{year}round2', f'Y{year}round3', 'treatMS1MS2', 'interviewdate', 'groupnum', 'strata_group']].copy(deep=True).dropna()\n",
        "            df['inter_R1'] = df[f'Y{year}round1'] * df[f'{treat}']\n",
        "            df['inter_R2'] = df[f'Y{year}round2'] * df[f'{treat}']\n",
        "            df['inter_R3'] = df[f'Y{year}round3'] * df[f'{treat}']\n",
        "\n",
        "\n",
        "            # model specification by round\n",
        "            formula_by_round = f'{dv} ~ inter_R1 + inter_R2 + inter_R3 + interviewdate + C(Y{year}round1) + C(Y{year}round2) + C(Y{year}round3) + C(strata_group)'\n",
        "        \n",
        "        df['z'] = df[treat]\n",
        "\n",
        "        # specify overall model\n",
        "        formula_overall = f'{dv} ~ z + interviewdate + C(strata_group)'\n",
        "\n",
        "        # fit models\n",
        "        model_overall = smf.ols(formula_overall, data=df).fit(cov_type='cluster', cov_kwds={'groups': df['groupnum']})\n",
        "        model_by_round = smf.ols(formula_by_round, data=df).fit(cov_type='cluster', cov_kwds={'groups': df['groupnum']})\n",
        "\n",
        "        # store models in dictionary\n",
        "        results[f'{treat}_{dv}'] = {f'overall': model_overall, f'by_round': model_by_round}\n",
        "\n",
        "        # extract necessary statistics\n",
        "        mean_df.loc[dv, treat] = df[dv].mean()\n",
        "        std_df.loc[dv, treat] = df[dv].std()\n"
      ]
    },
    {
      "cell_type": "markdown",
      "metadata": {},
      "source": [
        "## Adding table 5"
      ]
    },
    {
      "cell_type": "markdown",
      "metadata": {},
      "source": [
        "### Clean the data"
      ]
    },
    {
      "cell_type": "code",
      "execution_count": 9,
      "metadata": {},
      "outputs": [],
      "source": [
        "ms1ms2_pooled_tab5 = ms1ms2_pooled.copy(deep=True)\n",
        "max_strata_group = ms1ms2_pooled_tab5['strata_group'].max()\n",
        "ms1ms2_pooled_tab5.loc[ms1ms2_pooled_tab5['MS'] == 2, 'strata_group'] = ms1ms2_pooled_tab5['groupstrata'] + max_strata_group\n",
        "\n",
        "ms1ms2_pooled_tab5.loc[ms1ms2_pooled_tab5['MS'] == 2, 'oafid'] = ms1ms2_pooled_tab5['fr_id']\n",
        "\n",
        "ms1ms2_pooled_tab5['purchasequant2'] = ms1ms2_pooled_tab5['purchasequant']\n",
        "ms1ms2_pooled_tab5.loc[(ms1ms2_pooled_tab5['purchaseval']==0)&(ms1ms2_pooled_tab5['purchasequant'].isna()),'purchasequant2'] = 0\n",
        "ms1ms2_pooled_tab5['netsales'] = ms1ms2_pooled_tab5['salesquant'] - ms1ms2_pooled_tab5['purchasequant2']\n",
        "\n",
        "ms1ms2_pooled_tab5.drop(columns=['netsales_trim','purchaseval_trim','salesval_trim'], inplace=True)"
      ]
    },
    {
      "cell_type": "code",
      "execution_count": 10,
      "metadata": {},
      "outputs": [],
      "source": [
        "# trim outliers\n",
        "for x in ['purchaseval', 'salesval', 'purchasequant', 'salesquant']:\n",
        "    quantile = np.quantile(ms1ms2_pooled_tab5[ms1ms2_pooled_tab5[x].notna()][x],[0.99],method='closest_observation')\n",
        "    ms1ms2_pooled_tab5[f'{x}_trim'] = ms1ms2_pooled_tab5[x]\n",
        "    ms1ms2_pooled_tab5.loc[ms1ms2_pooled_tab5[f'{x}_trim'] > quantile[0],f'{x}_trim'] = np.nan\n",
        "\n",
        "quantile = np.quantile(ms1ms2_pooled_tab5[ms1ms2_pooled_tab5['netsales'].notna()]['netsales'],[0.005, 0.995],method='closest_observation')\n",
        "ms1ms2_pooled_tab5['netsales_trim'] = ms1ms2_pooled_tab5['netsales']\n",
        "ms1ms2_pooled_tab5.loc[(ms1ms2_pooled_tab5['netsales_trim'] <= quantile[0]) | (ms1ms2_pooled_tab5['netsales_trim'] > quantile[1]) , 'netsales_trim'] = np.nan\n",
        "\n",
        "# create id\n",
        "ms1ms2_pooled_tab5['id'] = ms1ms2_pooled_tab5['oafid'].fillna(ms1ms2_pooled_tab5['fr_id'])\n",
        "\n",
        "# create effective prices\n",
        "trim_vars = ['salesquant_trim', 'purchasequant_trim', 'salesval_trim', 'purchaseval_trim']\n",
        "for var in trim_vars:\n",
        "    ms1ms2_pooled_tab5[f'tot_{var}'] = ms1ms2_pooled_tab5.groupby(['id', 'MS'])[var].transform('sum')\n",
        "\n",
        "for x in ['purchase', 'sales']:\n",
        "    ms1ms2_pooled_tab5[f'effective_{x}_price'] = ms1ms2_pooled_tab5[f'tot_{x}val_trim'] / ms1ms2_pooled_tab5[f'tot_{x}quant_trim']\n",
        "    ms1ms2_pooled_tab5.loc[ms1ms2_pooled_tab5[f'tot_{x}quant_trim']== 0,f'effective_{x}_price'] = np.nan"
      ]
    },
    {
      "cell_type": "markdown",
      "metadata": {},
      "source": [
        "### Net sales"
      ]
    },
    {
      "cell_type": "code",
      "execution_count": 11,
      "metadata": {},
      "outputs": [],
      "source": [
        "# define variable\n",
        "dv = 'netsales_trim'\n",
        "independent_vars = ['z', 'treatMS1MS2_1 + treatMS1MS2_2 + treatMS1MS2_3']\n",
        "\n",
        "for i, var in enumerate(independent_vars):\n",
        "    df = ms1ms2_pooled_tab5.copy(deep=True)\n",
        "    df['z'] = df['treatMS1MS2']\n",
        "    if var == 'z':\n",
        "        df.dropna(subset=[dv,'z','interviewdate','Y1round2','Y1round3','Y2round1','Y2round2','Y2round3','strata_group','groupnum'], inplace=True)\n",
        "    else:\n",
        "        df.dropna(subset=[dv,'treatMS1MS2_1','treatMS1MS2_2','treatMS1MS2_3','interviewdate','Y1round2','Y1round3','Y2round1','Y2round2','Y2round3','strata_group','groupnum'], inplace=True)\n",
        "    df.reset_index(drop=True, inplace=True)\n",
        "    formula = f'{dv} ~ {var} + interviewdate + Y1round2 + Y1round3 + Y2round1 + Y2round2 + Y2round3 + C(strata_group)'\n",
        "    model = smf.ols(formula, df).fit(cov_type='cluster', cov_kwds={'groups': df['groupnum']})\n",
        "    if i == 0:\n",
        "        results['netsales']['overall'] = model\n",
        "    else:\n",
        "        results['netsales']['by_round'] = model\n",
        "    \n",
        "    mean_df.loc[dv, treat] = df.loc[df['treatMS1MS2'] == 0, dv].mean()\n",
        "    std_df.loc[dv, treat] = df.loc[df['treatMS1MS2'] == 0, dv].std()\n"
      ]
    },
    {
      "cell_type": "markdown",
      "metadata": {},
      "source": [
        "### Effective Price"
      ]
    },
    {
      "cell_type": "code",
      "execution_count": 12,
      "metadata": {},
      "outputs": [],
      "source": [
        "\n",
        "for dv in ['purchase', 'sales']:\n",
        "    for i, treat in enumerate(['treat12', 'treat13', 'treatMS1MS2']):\n",
        "        df = ms1ms2_pooled_tab5.copy(deep=True)\n",
        "        df['z'] = df[treat]\n",
        "        df = df.drop_duplicates(subset=['id', 'MS'], keep='first')\n",
        "        df.dropna(subset=[f'effective_{dv}_price','z','groupnum'], inplace=True)\n",
        "        if treat == 'treatMS1MS2':\n",
        "            formula = f'effective_{dv}_price ~ z + C(strata_group)'\n",
        "        else:\n",
        "            df = df[df['MS'] == i+1]\n",
        "            formula = f'effective_{dv}_price ~ z + C(strata_group)'\n",
        "        model = smf.ols(formula, data=df).fit(cov_type='cluster', cov_kwds={'groups': df['groupnum']})\n",
        "        results[f'{treat}_{dv}'] = {'overall':model}\n",
        "        \n",
        "        mean_df.loc[dv, treat] = df.loc[df['z'] == 0, f'effective_{dv}_price'].mean()\n",
        "        std_df.loc[dv, treat] = df.loc[df['z'] == 0, f'effective_{dv}_price'].std()"
      ]
    },
    {
      "cell_type": "code",
      "execution_count": 13,
      "metadata": {},
      "outputs": [
        {
          "data": {
            "text/html": [
              "<div>\n",
              "<style scoped>\n",
              "    .dataframe tbody tr th:only-of-type {\n",
              "        vertical-align: middle;\n",
              "    }\n",
              "\n",
              "    .dataframe tbody tr th {\n",
              "        vertical-align: top;\n",
              "    }\n",
              "\n",
              "    .dataframe thead th {\n",
              "        text-align: right;\n",
              "    }\n",
              "</style>\n",
              "<table border=\"1\" class=\"dataframe\">\n",
              "  <thead>\n",
              "    <tr style=\"text-align: right;\">\n",
              "      <th></th>\n",
              "      <th>treat12</th>\n",
              "      <th>treat13</th>\n",
              "      <th>treatMS1MS2</th>\n",
              "    </tr>\n",
              "  </thead>\n",
              "  <tbody>\n",
              "    <tr>\n",
              "      <th>inventory_trim</th>\n",
              "      <td>3.021060</td>\n",
              "      <td>1.959206</td>\n",
              "      <td>2.559983</td>\n",
              "    </tr>\n",
              "    <tr>\n",
              "      <th>netrevenue_trim</th>\n",
              "      <td>485.811951</td>\n",
              "      <td>-2997.861572</td>\n",
              "      <td>-1033.442383</td>\n",
              "    </tr>\n",
              "    <tr>\n",
              "      <th>logtotcons_trim</th>\n",
              "      <td>9.476815</td>\n",
              "      <td>9.652856</td>\n",
              "      <td>9.553755</td>\n",
              "    </tr>\n",
              "    <tr>\n",
              "      <th>netsales_trim</th>\n",
              "      <td>NaN</td>\n",
              "      <td>NaN</td>\n",
              "      <td>-0.420827</td>\n",
              "    </tr>\n",
              "    <tr>\n",
              "      <th>purchase</th>\n",
              "      <td>2913.780762</td>\n",
              "      <td>3221.890625</td>\n",
              "      <td>3085.372070</td>\n",
              "    </tr>\n",
              "    <tr>\n",
              "      <th>sales</th>\n",
              "      <td>2774.760984</td>\n",
              "      <td>2858.969741</td>\n",
              "      <td>2809.763419</td>\n",
              "    </tr>\n",
              "  </tbody>\n",
              "</table>\n",
              "</div>"
            ],
            "text/plain": [
              "                     treat12      treat13  treatMS1MS2\n",
              "inventory_trim      3.021060     1.959206     2.559983\n",
              "netrevenue_trim   485.811951 -2997.861572 -1033.442383\n",
              "logtotcons_trim     9.476815     9.652856     9.553755\n",
              "netsales_trim            NaN          NaN    -0.420827\n",
              "purchase         2913.780762  3221.890625  3085.372070\n",
              "sales            2774.760984  2858.969741  2809.763419"
            ]
          },
          "execution_count": 13,
          "metadata": {},
          "output_type": "execute_result"
        }
      ],
      "source": [
        "mean_df"
      ]
    },
    {
      "cell_type": "code",
      "execution_count": 14,
      "metadata": {},
      "outputs": [
        {
          "data": {
            "text/html": [
              "<div>\n",
              "<style scoped>\n",
              "    .dataframe tbody tr th:only-of-type {\n",
              "        vertical-align: middle;\n",
              "    }\n",
              "\n",
              "    .dataframe tbody tr th {\n",
              "        vertical-align: top;\n",
              "    }\n",
              "\n",
              "    .dataframe thead th {\n",
              "        text-align: right;\n",
              "    }\n",
              "</style>\n",
              "<table border=\"1\" class=\"dataframe\">\n",
              "  <thead>\n",
              "    <tr style=\"text-align: right;\">\n",
              "      <th></th>\n",
              "      <th>treat12</th>\n",
              "      <th>treat13</th>\n",
              "      <th>treatMS1MS2</th>\n",
              "    </tr>\n",
              "  </thead>\n",
              "  <tbody>\n",
              "    <tr>\n",
              "      <th>inventory_trim</th>\n",
              "      <td>3.725840</td>\n",
              "      <td>3.089480</td>\n",
              "      <td>3.503475</td>\n",
              "    </tr>\n",
              "    <tr>\n",
              "      <th>netrevenue_trim</th>\n",
              "      <td>6212.781250</td>\n",
              "      <td>6545.625977</td>\n",
              "      <td>6590.086426</td>\n",
              "    </tr>\n",
              "    <tr>\n",
              "      <th>logtotcons_trim</th>\n",
              "      <td>0.620554</td>\n",
              "      <td>0.651713</td>\n",
              "      <td>0.640296</td>\n",
              "    </tr>\n",
              "    <tr>\n",
              "      <th>netsales_trim</th>\n",
              "      <td>NaN</td>\n",
              "      <td>NaN</td>\n",
              "      <td>2.038441</td>\n",
              "    </tr>\n",
              "    <tr>\n",
              "      <th>purchase</th>\n",
              "      <td>481.983246</td>\n",
              "      <td>535.381042</td>\n",
              "      <td>534.511292</td>\n",
              "    </tr>\n",
              "    <tr>\n",
              "      <th>sales</th>\n",
              "      <td>503.057065</td>\n",
              "      <td>504.403012</td>\n",
              "      <td>504.821819</td>\n",
              "    </tr>\n",
              "  </tbody>\n",
              "</table>\n",
              "</div>"
            ],
            "text/plain": [
              "                     treat12      treat13  treatMS1MS2\n",
              "inventory_trim      3.725840     3.089480     3.503475\n",
              "netrevenue_trim  6212.781250  6545.625977  6590.086426\n",
              "logtotcons_trim     0.620554     0.651713     0.640296\n",
              "netsales_trim            NaN          NaN     2.038441\n",
              "purchase          481.983246   535.381042   534.511292\n",
              "sales             503.057065   504.403012   504.821819"
            ]
          },
          "execution_count": 14,
          "metadata": {},
          "output_type": "execute_result"
        }
      ],
      "source": [
        "std_df"
      ]
    },
    {
      "cell_type": "markdown",
      "metadata": {},
      "source": [
        "## Calculating FWER and pvals"
      ]
    },
    {
      "cell_type": "code",
      "execution_count": 15,
      "metadata": {},
      "outputs": [],
      "source": [
        "pval_df = pd.DataFrame()\n",
        "\n",
        "for treat in ['treat12', 'treat13', 'treatMS1MS2']:\n",
        "    for dv in ['purchase', 'sales', 'inventory_trim', 'netrevenue_trim', 'logtotcons_trim']:\n",
        "        pval = results[f'{treat}_{dv}']['overall'].pvalues['z']\n",
        "        # store p-values in dataframe\n",
        "        pval_df.loc[dv, treat] = pval\n",
        "        \n",
        "    fwer_pvals = multipletests(pval_df[treat], alpha=0.05, method='fdr_bh')[1]\n",
        "    for i, dv in enumerate(['purchase', 'sales', 'inventory_trim', 'netrevenue_trim', 'logtotcons_trim']):\n",
        "        pval_df.loc[dv, f'{treat}_fwer'] = fwer_pvals[i]\n"
      ]
    },
    {
      "cell_type": "code",
      "execution_count": 16,
      "metadata": {},
      "outputs": [],
      "source": [
        "# index = pd.MultiIndex.from_product([['inventory_trim', 'netrevenue_trim', 'logtotcons_trim'], ['inter_R1', 'inter_R2', 'inter_R3']], names=['dv', 'var'])\n",
        "pval_rd_df = pd.DataFrame()\n",
        "\n",
        "for treat in ['treat12', 'treat13', 'treatMS1MS2']:\n",
        "    for var in ['inter_R1', 'inter_R2', 'inter_R3']:\n",
        "        for dv in ['inventory_trim', 'netrevenue_trim', 'logtotcons_trim']:\n",
        "            pval = results[f'{treat}_{dv}']['by_round'].pvalues[var]\n",
        "            # store p-values in dataframe\n",
        "            pval_rd_df.loc[f'{dv}_{var}', f'{treat}_rd'] = pval\n",
        "\n",
        "    fwer_pvals = multipletests(pval_rd_df[f'{treat}_rd'], alpha=0.05, method='fdr_bh')[1]\n",
        "    for i, indx in enumerate(pval_rd_df.index):\n",
        "        pval_rd_df.loc[indx, f'{treat}_fwer_rd'] = fwer_pvals[i]"
      ]
    },
    {
      "cell_type": "code",
      "execution_count": 17,
      "metadata": {},
      "outputs": [],
      "source": [
        "# combine the p-values and split into two dfs\n",
        "pvals = pd.concat([pval_df, pval_rd_df], axis=0)\n",
        "pvals = pvals.map(lambda x: '<0.001' if x < 0.0005 else np.round(x,3))\n",
        "pval_fwer = pvals[['treat12_fwer','treat12_fwer_rd','treat13_fwer','treat13_fwer_rd','treatMS1MS2_fwer','treatMS1MS2_fwer_rd']]\n",
        "pval = pvals[['treat12','treat12_rd','treat13','treat13_rd','treatMS1MS2','treatMS1MS2_rd']]"
      ]
    },
    {
      "cell_type": "markdown",
      "metadata": {},
      "source": [
        "## Outputting the tables"
      ]
    },
    {
      "cell_type": "markdown",
      "metadata": {},
      "source": [
        "Creating stagazar for table 2-4"
      ]
    },
    {
      "cell_type": "code",
      "execution_count": 18,
      "metadata": {},
      "outputs": [
        {
          "name": "stderr",
          "output_type": "stream",
          "text": [
            "/opt/anaconda3/lib/python3.11/site-packages/statsmodels/base/model.py:1888: ValueWarning: covariance of constraints does not have full rank. The number of constraints is 37, but rank is 36\n",
            "  warnings.warn('covariance of constraints does not have full '\n",
            "/opt/anaconda3/lib/python3.11/site-packages/statsmodels/base/model.py:1888: ValueWarning: covariance of constraints does not have full rank. The number of constraints is 37, but rank is 36\n",
            "  warnings.warn('covariance of constraints does not have full '\n",
            "/opt/anaconda3/lib/python3.11/site-packages/statsmodels/base/model.py:1888: ValueWarning: covariance of constraints does not have full rank. The number of constraints is 63, but rank is 62\n",
            "  warnings.warn('covariance of constraints does not have full '\n",
            "/opt/anaconda3/lib/python3.11/site-packages/statsmodels/base/model.py:1888: ValueWarning: covariance of constraints does not have full rank. The number of constraints is 71, but rank is 68\n",
            "  warnings.warn('covariance of constraints does not have full '\n",
            "/opt/anaconda3/lib/python3.11/site-packages/statsmodels/base/model.py:1888: ValueWarning: covariance of constraints does not have full rank. The number of constraints is 37, but rank is 36\n",
            "  warnings.warn('covariance of constraints does not have full '\n",
            "/opt/anaconda3/lib/python3.11/site-packages/statsmodels/base/model.py:1888: ValueWarning: covariance of constraints does not have full rank. The number of constraints is 37, but rank is 36\n",
            "  warnings.warn('covariance of constraints does not have full '\n",
            "/opt/anaconda3/lib/python3.11/site-packages/statsmodels/base/model.py:1888: ValueWarning: covariance of constraints does not have full rank. The number of constraints is 63, but rank is 62\n",
            "  warnings.warn('covariance of constraints does not have full '\n",
            "/opt/anaconda3/lib/python3.11/site-packages/statsmodels/base/model.py:1888: ValueWarning: covariance of constraints does not have full rank. The number of constraints is 71, but rank is 68\n",
            "  warnings.warn('covariance of constraints does not have full '\n",
            "/opt/anaconda3/lib/python3.11/site-packages/statsmodels/base/model.py:1888: ValueWarning: covariance of constraints does not have full rank. The number of constraints is 37, but rank is 36\n",
            "  warnings.warn('covariance of constraints does not have full '\n",
            "/opt/anaconda3/lib/python3.11/site-packages/statsmodels/base/model.py:1888: ValueWarning: covariance of constraints does not have full rank. The number of constraints is 37, but rank is 36\n",
            "  warnings.warn('covariance of constraints does not have full '\n",
            "/opt/anaconda3/lib/python3.11/site-packages/statsmodels/base/model.py:1888: ValueWarning: covariance of constraints does not have full rank. The number of constraints is 63, but rank is 62\n",
            "  warnings.warn('covariance of constraints does not have full '\n",
            "/opt/anaconda3/lib/python3.11/site-packages/statsmodels/base/model.py:1888: ValueWarning: covariance of constraints does not have full rank. The number of constraints is 71, but rank is 68\n",
            "  warnings.warn('covariance of constraints does not have full '\n"
          ]
        }
      ],
      "source": [
        "latex_tables = []\n",
        "for i, dv in enumerate(['inventory_trim', 'netrevenue_trim', 'logtotcons_trim']):\n",
        "    tables = []\n",
        "    for treat in ['treat12', 'treat13', 'treatMS1MS2']:\n",
        "        overall = results[f'{treat}_{dv}']['overall']\n",
        "        by_rd = results[f'{treat}_{dv}']['by_round']\n",
        "        tables.append(overall)\n",
        "        tables.append(by_rd)\n",
        "    stargazer = Stargazer(tables)\n",
        "    stargazer.custom_columns(['Y1', 'Y2','Pooled'], [2,2,2])\n",
        "    stargazer.significant_digits(3)\n",
        "    stargazer.rename_covariates({'z': 'Treat', 'inter_R1': 'Treat - R1', 'inter_R2': 'Treat - R2', 'inter_R3': 'Treat - R3'})\n",
        "    stargazer.covariate_order(['z', 'inter_R1', 'inter_R2', 'inter_R3'])\n",
        "    \n",
        "    # adding p-values\n",
        "    stargazer.add_line('P-Val Treat', pval.loc[dv].tolist())\n",
        "    stargazer.add_line('P-Val Treat FWER', pval_fwer.loc[dv].tolist())\n",
        "    stargazer.add_line('P-Val Treat - R1', pval.loc[f'{dv}_inter_R1'].tolist())\n",
        "    stargazer.add_line('P-Val Treat - R1 FWER', pval_fwer.loc[f'{dv}_inter_R1'].tolist())\n",
        "    stargazer.add_line('P-Val Treat - R2', pval.loc[f'{dv}_inter_R2'].tolist())\n",
        "    stargazer.add_line('P-Val Treat - R2 FWER', pval_fwer.loc[f'{dv}_inter_R2'].tolist())\n",
        "    stargazer.add_line('P-Val Treat - R3', pval.loc[f'{dv}_inter_R3'].tolist())\n",
        "    stargazer.add_line('P-Val Treat - R3 FWER', pval_fwer.loc[f'{dv}_inter_R3'].tolist())\n",
        "    \n",
        "    latex_table = stargazer.render_latex()\n",
        "\n",
        "    # general formatting\n",
        "    latex_table = latex_table.replace(\"Adjusted $R^2$\", \"% Adjusted $R^2$\")\n",
        "    latex_table = latex_table.replace(\"Residual Std. Error\", \"% Residual Std. Error\")\n",
        "    latex_table = latex_table.replace(\"F Statistic\", \"% F Statistic\")\n",
        "    latex_table = latex_table.replace(\"\\\\textit{Note\",\"% \\\\textit{Note\")\n",
        "    latex_table = latex_table.replace(\"nan\",\"\")\n",
        "    latex_table = latex_table.replace(\"\\\\begin{table}[!htbp] \\\\centering\", \"\")\n",
        "    latex_table = latex_table.replace(\"\\\\end{table}\", \"\")\n",
        "\n",
        "    # renaming variables\n",
        "    latex_table = latex_table.replace(\"\\\\[-1.8ex] & (1) & (2) & (3) & (4) & (5) & (6) \\\\\",\n",
        "                                \"\\\\[-1.8ex] & (1) & (2) & (3) & (4) & (5) & (6) \\n \\\\\\ & Overall & By rd & Overall & By rd & Overall & By rd \\\\\")\n",
        "    latex_table = latex_table.replace(\"netsales_trim\",\"Net Sales Trim\")\n",
        "    latex_table = latex_table.replace(\"inventory_trim\",\"Inventory Trim\")\n",
        "    latex_table = latex_table.replace(\"logtotcons_trim\",\"Log Total HH Consumption Trim\")\n",
        "\n",
        "    latex_tables.append(latex_table)"
      ]
    },
    {
      "cell_type": "markdown",
      "metadata": {},
      "source": [
        "### Table 2"
      ]
    },
    {
      "cell_type": "code",
      "execution_count": 19,
      "metadata": {},
      "outputs": [
        {
          "name": "stdout",
          "output_type": "stream",
          "text": [
            "\n",
            "\\begin{tabular}{@{\\extracolsep{5pt}}lcccccc}\n",
            "\\\\[-1.8ex]\\hline\n",
            "\\hline \\\\[-1.8ex]\n",
            "& \\multicolumn{6}{c}{\\textit{Dependent variable: Inventory Trim}} \\\n",
            "\\cr \\cline{2-7}\n",
            "\\\\[-1.8ex] & \\multicolumn{2}{c}{Y1} & \\multicolumn{2}{c}{Y2} & \\multicolumn{2}{c}{Pooled}  \\\\\n",
            "\\\\[-1.8ex] & (1) & (2) & (3) & (4) & (5) & (6) \n",
            " \\\\ & Overall & By rd & Overall & By rd & Overall & By rd \\\\\n",
            "\\hline \\\\[-1.8ex]\n",
            " Treat & 0.574$^{***}$ & & 0.546$^{***}$ & & 0.565$^{***}$ & \\\\\n",
            "& (0.140) & & (0.129) & & (0.097) & \\\\\n",
            " Treat - R1 & & 0.872$^{***}$ & & 1.242$^{***}$ & & 1.050$^{***}$ \\\\\n",
            "& & (0.276) & & (0.235) & & (0.184) \\\\\n",
            " Treat - R2 & & 0.753$^{***}$ & & 0.304$^{*}$ & & 0.546$^{***}$ \\\\\n",
            "& & (0.171) & & (0.166) & & (0.120) \\\\\n",
            " Treat - R3 & & 0.111$^{}$ & & 0.082$^{}$ & & 0.094$^{}$ \\\\\n",
            "& & (0.083) & & (0.344) & & (0.162) \\\\\n",
            " P-Val Treat & <0.001 &  & <0.001 &  & <0.001 &  \\\\\n",
            " P-Val Treat FWER & <0.001 &  & <0.001 &  & <0.001 &  \\\\\n",
            " P-Val Treat - R1 &  & 0.002 &  & <0.001 &  & <0.001 \\\\\n",
            " P-Val Treat - R1 FWER &  & 0.004 &  & <0.001 &  & <0.001 \\\\\n",
            " P-Val Treat - R2 &  & <0.001 &  & 0.066 &  & <0.001 \\\\\n",
            " P-Val Treat - R2 FWER &  & <0.001 &  & 0.169 &  & <0.001 \\\\\n",
            " P-Val Treat - R3 &  & 0.182 &  & 0.812 &  & 0.561 \\\\\n",
            " P-Val Treat - R3 FWER &  & 0.328 &  & 0.913 &  & 0.631 \\\\\n",
            "\\hline \\\\[-1.8ex]\n",
            " Observations & 3836 & 3836 & 2944 & 2944 & 6780 & 6780 \\\\\n",
            " $R^2$ & 0.365 & 0.368 & 0.098 & 0.215 & 0.144 & 0.329 \\\\\n",
            " % Adjusted $R^2$ & 0.360 & 0.362 & 0.088 & 0.205 & 0.136 & 0.322 \\\\\n",
            " % Residual Std. Error & 2.982 (df=3803) & 2.975 (df=3799) & 2.950 (df=2911) & 2.754 (df=2907) & 3.256 (df=6716) & 2.884 (df=6710) \\\\\n",
            " % F Statistic & 69.431$^{***}$ (df=32; 3803) & 84.886$^{***}$ (df=36; 3799) & 64.996$^{***}$ (df=32; 2911) & 57.574$^{***}$ (df=36; 2907) & 52.508$^{***}$ (df=63; 6716) & 56.147$^{***}$ (df=69; 6710) \\\\\n",
            "\\hline\n",
            "\\hline \\\\[-1.8ex]\n",
            "% \\textit{Note:} & \\multicolumn{6}{r}{$^{*}$p$<$0.1; $^{**}$p$<$0.05; $^{***}$p$<$0.01} \\\\\n",
            "\\end{tabular}\n",
            "\n"
          ]
        }
      ],
      "source": [
        "print(latex_tables[0])"
      ]
    },
    {
      "cell_type": "markdown",
      "metadata": {},
      "source": [
        "### Table 3"
      ]
    },
    {
      "cell_type": "code",
      "execution_count": 20,
      "metadata": {},
      "outputs": [
        {
          "name": "stdout",
          "output_type": "stream",
          "text": [
            "\n",
            "\\begin{tabular}{@{\\extracolsep{5pt}}lcccccc}\n",
            "\\\\[-1.8ex]\\hline\n",
            "\\hline \\\\[-1.8ex]\n",
            "& \\multicolumn{6}{c}{\\textit{Dependent variable: netrevenue_trim}} \\\n",
            "\\cr \\cline{2-7}\n",
            "\\\\[-1.8ex] & \\multicolumn{2}{c}{Y1} & \\multicolumn{2}{c}{Y2} & \\multicolumn{2}{c}{Pooled}  \\\\\n",
            "\\\\[-1.8ex] & (1) & (2) & (3) & (4) & (5) & (6) \n",
            " \\\\ & Overall & By rd & Overall & By rd & Overall & By rd \\\\\n",
            "\\hline \\\\[-1.8ex]\n",
            " Treat & 263.790$^{}$ & & 854.114$^{***}$ & & 531.358$^{***}$ & \\\\\n",
            "& (255.661) & & (303.802) & & (196.315) & \\\\\n",
            " Treat - R1 & & -1164.574$^{***}$ & & 16.478$^{}$ & & -613.581$^{**}$ \\\\\n",
            "& & (322.956) & & (444.957) & & (271.653) \\\\\n",
            " Treat - R2 & & 509.851$^{}$ & & 1994.923$^{***}$ & & 1187.967$^{***}$ \\\\\n",
            "& & (446.928) & & (503.696) & & (337.460) \\\\\n",
            " Treat - R3 & & 1370.344$^{***}$ & & 565.438$^{}$ & & 998.665$^{***}$ \\\\\n",
            "& & (412.602) & & (403.307) & & (291.103) \\\\\n",
            " P-Val Treat & 0.302 &  & 0.005 &  & 0.007 &  \\\\\n",
            " P-Val Treat FWER & 0.378 &  & 0.009 &  & 0.011 &  \\\\\n",
            " P-Val Treat - R1 &  & <0.001 &  & 0.97 &  & 0.024 \\\\\n",
            " P-Val Treat - R1 FWER &  & 0.001 &  & 0.97 &  & 0.043 \\\\\n",
            " P-Val Treat - R2 &  & 0.254 &  & <0.001 &  & <0.001 \\\\\n",
            " P-Val Treat - R2 FWER &  & 0.381 &  & <0.001 &  & 0.001 \\\\\n",
            " P-Val Treat - R3 &  & 0.001 &  & 0.161 &  & 0.001 \\\\\n",
            " P-Val Treat - R3 FWER &  & 0.003 &  & 0.256 &  & 0.001 \\\\\n",
            "\\hline \\\\[-1.8ex]\n",
            " Observations & 3795 & 3795 & 2935 & 2935 & 6730 & 6730 \\\\\n",
            " $R^2$ & 0.025 & 0.038 & 0.074 & 0.079 & 0.107 & 0.119 \\\\\n",
            " % Adjusted $R^2$ & 0.017 & 0.029 & 0.064 & 0.067 & 0.099 & 0.110 \\\\\n",
            " % Residual Std. Error & 6160.285 (df=3762) & 6123.381 (df=3758) & 6332.926 (df=2902) & 6321.436 (df=2898) & 6257.097 (df=6666) & 6218.002 (df=6660) \\\\\n",
            " % F Statistic & 4.652$^{***}$ (df=32; 3762) & 5.786$^{***}$ (df=36; 3758) & 30.217$^{***}$ (df=32; 2902) & 29.094$^{***}$ (df=36; 2898) & 27.156$^{***}$ (df=63; 6666) & 10478661843.432$^{***}$ (df=69; 6660) \\\\\n",
            "\\hline\n",
            "\\hline \\\\[-1.8ex]\n",
            "% \\textit{Note:} & \\multicolumn{6}{r}{$^{*}$p$<$0.1; $^{**}$p$<$0.05; $^{***}$p$<$0.01} \\\\\n",
            "\\end{tabular}\n",
            "\n"
          ]
        }
      ],
      "source": [
        "print(latex_tables[1])"
      ]
    },
    {
      "cell_type": "markdown",
      "metadata": {},
      "source": [
        "### Table 4"
      ]
    },
    {
      "cell_type": "code",
      "execution_count": 21,
      "metadata": {},
      "outputs": [
        {
          "name": "stdout",
          "output_type": "stream",
          "text": [
            "\n",
            "\\begin{tabular}{@{\\extracolsep{5pt}}lcccccc}\n",
            "\\\\[-1.8ex]\\hline\n",
            "\\hline \\\\[-1.8ex]\n",
            "& \\multicolumn{6}{c}{\\textit{Dependent variable: Log Total HH Consumption Trim}} \\\n",
            "\\cr \\cline{2-7}\n",
            "\\\\[-1.8ex] & \\multicolumn{2}{c}{Y1} & \\multicolumn{2}{c}{Y2} & \\multicolumn{2}{c}{Pooled}  \\\\\n",
            "\\\\[-1.8ex] & (1) & (2) & (3) & (4) & (5) & (6) \n",
            " \\\\ & Overall & By rd & Overall & By rd & Overall & By rd \\\\\n",
            "\\hline \\\\[-1.8ex]\n",
            " Treat & 0.012$^{}$ & & 0.064$^{*}$ & & 0.036$^{}$ & \\\\\n",
            "& (0.030) & & (0.036) & & (0.023) & \\\\\n",
            " Treat - R1 & & -0.033$^{}$ & & 0.064$^{}$ & & 0.013$^{}$ \\\\\n",
            "& & (0.047) & & (0.047) & & (0.033) \\\\\n",
            " Treat - R2 & & 0.028$^{}$ & & 0.076$^{*}$ & & 0.049$^{*}$ \\\\\n",
            "& & (0.039) & & (0.043) & & (0.029) \\\\\n",
            " Treat - R3 & & 0.038$^{}$ & & 0.052$^{}$ & & 0.044$^{}$ \\\\\n",
            "& & (0.042) & & (0.047) & & (0.031) \\\\\n",
            " P-Val Treat & 0.683 &  & 0.08 &  & 0.126 &  \\\\\n",
            " P-Val Treat FWER & 0.683 &  & 0.1 &  & 0.126 &  \\\\\n",
            " P-Val Treat - R1 &  & 0.486 &  & 0.171 &  & 0.687 \\\\\n",
            " P-Val Treat - R1 FWER &  & 0.486 &  & 0.256 &  & 0.687 \\\\\n",
            " P-Val Treat - R2 &  & 0.481 &  & 0.075 &  & 0.088 \\\\\n",
            " P-Val Treat - R2 FWER &  & 0.486 &  & 0.169 &  & 0.132 \\\\\n",
            " P-Val Treat - R3 &  & 0.364 &  & 0.27 &  & 0.164 \\\\\n",
            " P-Val Treat - R3 FWER &  & 0.468 &  & 0.347 &  & 0.21 \\\\\n",
            "\\hline \\\\[-1.8ex]\n",
            " Observations & 3792 & 3792 & 2944 & 2944 & 6736 & 6736 \\\\\n",
            " $R^2$ & 0.026 & 0.027 & 0.051 & 0.053 & 0.055 & 0.056 \\\\\n",
            " % Adjusted $R^2$ & 0.018 & 0.018 & 0.041 & 0.041 & 0.046 & 0.046 \\\\\n",
            " % Residual Std. Error & 0.615 (df=3759) & 0.615 (df=3755) & 0.638 (df=2911) & 0.638 (df=2907) & 0.625 (df=6672) & 0.625 (df=6666) \\\\\n",
            " % F Statistic & 21.960$^{***}$ (df=32; 3759) & 21.858$^{***}$ (df=36; 3755) & 250.735$^{***}$ (df=32; 2911) & 65.033$^{***}$ (df=36; 2907) & 23.128$^{***}$ (df=63; 6672) & 21.830$^{***}$ (df=69; 6666) \\\\\n",
            "\\hline\n",
            "\\hline \\\\[-1.8ex]\n",
            "% \\textit{Note:} & \\multicolumn{6}{r}{$^{*}$p$<$0.1; $^{**}$p$<$0.05; $^{***}$p$<$0.01} \\\\\n",
            "\\end{tabular}\n",
            "\n"
          ]
        }
      ],
      "source": [
        "print(latex_tables[2])"
      ]
    },
    {
      "cell_type": "markdown",
      "metadata": {},
      "source": [
        "### Table 5"
      ]
    },
    {
      "cell_type": "code",
      "execution_count": 22,
      "metadata": {},
      "outputs": [
        {
          "name": "stdout",
          "output_type": "stream",
          "text": [
            "\n",
            "\\begin{tabular}{@{\\extracolsep{5pt}}lcccc}\n",
            "\\\\[-1.8ex]\\hline\n",
            "\\hline \\\\[-1.8ex]\n",
            "\\\\[-1.8ex] & \\multicolumn{2}{c}{Net Sales} & \\multicolumn{2}{c}{Effective Price}  \\\\\n",
            "\\\\[-1.8ex] & (1) & (2) & (3) & (4) \n",
            " \\\\ & Overall & By rd & Purchase & Sales \\\\\n",
            "\\hline \\\\[-1.8ex]\n",
            " Treat & 0.186$^{***}$ & & -57.449$^{**}$ & 145.509$^{***}$ \\\\\n",
            "& (0.063) & & (27.156) & (41.767) \\\\\n",
            " Treat - R1 & & -0.205$^{**}$ & & \\\\\n",
            "& & (0.096) & & \\\\\n",
            " Treat - R2 & & 0.384$^{***}$ & & \\\\\n",
            "& & (0.104) & & \\\\\n",
            " Treat - R3 & & 0.369$^{***}$ & & \\\\\n",
            "& & (0.092) & & \\\\\n",
            " P-Val Treat &  &  & 0.034 & <0.001 \\\\\n",
            " P-Val Treat FWER &  &  & 0.043 & 0.001 \\\\\n",
            "\\hline \\\\[-1.8ex]\n",
            " Observations & 6740 & 6740 & 2014 & 1428 \\\\\n",
            " $R^2$ & 0.098 & 0.102 & 0.089 & 0.066 \\\\\n",
            " % Adjusted $R^2$ & 0.089 & 0.093 & 0.060 & 0.024 \\\\\n",
            " % Residual Std. Error & 2.020 (df=6672) & 2.016 (df=6670) & 639.432 (df=1951) & 789.099 (df=1365) \\\\\n",
            " % F Statistic & 20.619$^{***}$ (df=67; 6672) & 370.686$^{***}$ (df=69; 6670) & 34.249$^{***}$ (df=62; 1951) & 13.002$^{***}$ (df=62; 1365) \\\\\n",
            "\\hline\n",
            "\\hline \\\\[-1.8ex]\n",
            "% \\textit{Note:} & \\multicolumn{4}{r}{$^{*}$p$<$0.1; $^{**}$p$<$0.05; $^{***}$p$<$0.01} \\\\\n",
            "\\end{tabular}\n",
            "\n"
          ]
        },
        {
          "name": "stderr",
          "output_type": "stream",
          "text": [
            "/opt/anaconda3/lib/python3.11/site-packages/statsmodels/base/model.py:1888: ValueWarning: covariance of constraints does not have full rank. The number of constraints is 68, but rank is 66\n",
            "  warnings.warn('covariance of constraints does not have full '\n",
            "/opt/anaconda3/lib/python3.11/site-packages/statsmodels/base/model.py:1888: ValueWarning: covariance of constraints does not have full rank. The number of constraints is 70, but rank is 68\n",
            "  warnings.warn('covariance of constraints does not have full '\n",
            "/opt/anaconda3/lib/python3.11/site-packages/statsmodels/base/model.py:1888: ValueWarning: covariance of constraints does not have full rank. The number of constraints is 62, but rank is 61\n",
            "  warnings.warn('covariance of constraints does not have full '\n",
            "/opt/anaconda3/lib/python3.11/site-packages/statsmodels/base/model.py:1888: ValueWarning: covariance of constraints does not have full rank. The number of constraints is 62, but rank is 61\n",
            "  warnings.warn('covariance of constraints does not have full '\n"
          ]
        }
      ],
      "source": [
        "tables = [results['netsales']['overall'], results['netsales']['by_round'],results['treatMS1MS2_purchase']['overall'], results['treatMS1MS2_sales']['overall']]\n",
        "\n",
        "stargazer = Stargazer(tables)\n",
        "stargazer.custom_columns(['Net Sales', 'Effective Price'], [2, 2])\n",
        "stargazer.rename_covariates({'z': 'Treat','treatMS1MS2_1':'Treat - R1', 'treatMS1MS2_2':'Treat - R2', 'treatMS1MS2_3':'Treat - R3'})\n",
        "stargazer.significant_digits(3)\n",
        "stargazer.covariate_order(['z', 'treatMS1MS2_1', 'treatMS1MS2_2', 'treatMS1MS2_3'])\n",
        "\n",
        "# adding p-values\n",
        "eff_p_val = ['','']+pval.loc[['purchase','sales'],'treatMS1MS2'].tolist()\n",
        "eff_p_val_fwer = ['','']+pval_fwer.loc[['purchase','sales'],'treatMS1MS2_fwer'].tolist()\n",
        "\n",
        "stargazer.add_line('P-Val Treat', ['','']+pval.loc[['purchase','sales'],'treatMS1MS2'].tolist())\n",
        "stargazer.add_line('P-Val Treat FWER', ['','']+pval_fwer.loc[['purchase','sales'],'treatMS1MS2_fwer'].tolist())\n",
        "\n",
        "latex_table5 = stargazer.render_latex()\n",
        "\n",
        "# general formatting\n",
        "latex_table5 = latex_table5.replace(\"Adjusted $R^2$\", \"% Adjusted $R^2$\")\n",
        "latex_table5 = latex_table5.replace(\"Residual Std. Error\", \"% Residual Std. Error\")\n",
        "latex_table5 = latex_table5.replace(\"F Statistic\", \"% F Statistic\")\n",
        "latex_table5 = latex_table5.replace(\"\\\\textit{Note\",\"% \\\\textit{Note\")\n",
        "latex_table5 = latex_table5.replace(\"nan\",\"\")\n",
        "latex_table5 = latex_table5.replace(\"\\\\begin{table}[!htbp] \\\\centering\", \"\")\n",
        "latex_table5 = latex_table5.replace(\"\\\\end{table}\", \"\")\n",
        "\n",
        "# renaming variables\n",
        "latex_table5 = latex_table5.replace(\"\\\\[-1.8ex] & (1) & (2) & (3) & (4) \\\\\",\n",
        "                                \"\\\\[-1.8ex] & (1) & (2) & (3) & (4) \\n \\\\\\ & Overall & By rd & Purchase & Sales \\\\\")\n",
        "\n",
        "\n",
        "print(latex_table5)"
      ]
    },
    {
      "cell_type": "markdown",
      "metadata": {
        "id": "BA65rIF8J8Bc"
      },
      "source": [
        "## Table 6"
      ]
    },
    {
      "cell_type": "code",
      "execution_count": 23,
      "metadata": {
        "id": "bxbZzoqaJ373"
      },
      "outputs": [],
      "source": [
        "cleanpricedata_y1y2_tab6 = cleanpricedata_y1y2.copy(deep=True)\n",
        "cleanpricedata_y1y2_tab6 = cleanpricedata_y1y2_tab6[['salesPrice_trim','hi_1km_wt','hi_3km_wt','hi_5km_wt','monthnum','subloc_1km_wt_grp','subloc_3km_wt_grp','subloc_5km_wt_grp', 'in_sample','MS','lean']]\n",
        "cleanpricedata_y1y2_tab6['hi'] = pd.NA\n",
        "cleanpricedata_y1y2_tab6['interact'] = pd.NA\n",
        "cleanpricedata_y1y2_tab6['interact_lean'] = pd.NA"
      ]
    },
    {
      "cell_type": "code",
      "execution_count": 24,
      "metadata": {
        "id": "l2T6HDAFA_Ji"
      },
      "outputs": [],
      "source": [
        "results = {}\n",
        "for dist in ['1km_wt', '3km_wt', '5km_wt']:\n",
        "    df = cleanpricedata_y1y2_tab6.copy(deep=True)\n",
        "    df.dropna(subset=[f'hi_{dist}','salesPrice_trim','monthnum'], inplace=True)\n",
        "    mean_price = df[(df['monthnum'] == 0) & (df[f'hi_{dist}'] == 0)]['salesPrice_trim'].mean()\n",
        "    norm = 100 / mean_price\n",
        "\n",
        "    # normalize price\n",
        "    df['salesPrice_trim_norm'] = df['salesPrice_trim'] * norm\n",
        "\n",
        "    # create hi variable\n",
        "    df['hi'] = df[f'hi_{dist}']\n",
        "    df['interact'] = df['monthnum'] * df['hi']\n",
        "\n",
        "    # regression\n",
        "    formula = 'salesPrice_trim_norm ~ hi + monthnum + interact'\n",
        "\n",
        "    for ms in [1,2,3]: # 3 is pooled\n",
        "        if ms == 3:\n",
        "            df_filt = df[(df['in_sample'] == 1)]\n",
        "        else:\n",
        "            df_filt = df[(df['MS'] == ms) & (df['in_sample'] == 1)]\n",
        "        model = smf.ols(formula=formula, data=df_filt).fit(cov_type='cluster', cov_kwds={'groups': df_filt[f'subloc_{dist}_grp']})\n",
        "        results[(dist, ms)] = model"
      ]
    },
    {
      "cell_type": "code",
      "execution_count": 25,
      "metadata": {
        "id": "vSZoETpyBBMy"
      },
      "outputs": [],
      "source": [
        "pvals = pd.DataFrame()\n",
        "# storeing pval in a df\n",
        "for dv in ['hi', 'monthnum', 'interact']:\n",
        "    val = {(k[0], k[1]): np.round(v.pvalues[dv],3) for k, v in results.items()}\n",
        "    pvals[dv] = pd.Series(val)\n",
        "\n",
        "# keep only columns 3km_wt and 3rd column in 1km_wt and 5km_wt\n",
        "pvals = pvals.T\n",
        "pvals = pvals[[('3km_wt', 1), ('3km_wt', 2), ('3km_wt', 3), ('1km_wt', 3), ('5km_wt', 3)]]"
      ]
    },
    {
      "cell_type": "code",
      "execution_count": null,
      "metadata": {},
      "outputs": [],
      "source": [
        "def cgmwildboot(data, formula, n_bootstraps, cluster, bootcluster)\n",
        "    "
      ]
    },
    {
      "cell_type": "code",
      "execution_count": 26,
      "metadata": {
        "id": "S5ZMLa8PBDSp"
      },
      "outputs": [],
      "source": [
        "def wild_bootstrap(data, model, n_bootstraps, dv, clust_var):\n",
        "    \"\"\"\n",
        "    Wild Cluster Bootstrap-t with random signs within clusters\n",
        "    \"\"\"\n",
        "    cluster_var = data[clust_var]\n",
        "    unique_clusters = cluster_var.unique()\n",
        "    boot_results = []\n",
        "\n",
        "    for _ in range(n_bootstraps):\n",
        "        boot_data = data.copy()\n",
        "        # resample residuals within each cluster\n",
        "        for cluster in unique_clusters:\n",
        "            cluster_indices = data[cluster_var == cluster].index\n",
        "\n",
        "            # multiply residuals by random signs, either -1 or 1, (radmacher weights)\n",
        "            signs = np.random.choice([-1, 1], size=len(cluster_indices))\n",
        "            boot_data.loc[cluster_indices, dv] = model.predict(data.loc[cluster_indices]) + signs * model.resid.loc[cluster_indices]\n",
        "\n",
        "        # Refit model on bootstrapped data\n",
        "        boot_model = smf.ols(model.model.formula, data=boot_data).fit()\n",
        "        boot_results.append(boot_model.params)\n",
        "\n",
        "    return np.array(boot_results)[:,1:4]\n"
      ]
    },
    {
      "cell_type": "code",
      "execution_count": 27,
      "metadata": {
        "id": "JQQIwPu2BFpk"
      },
      "outputs": [],
      "source": [
        "bootstrap_res = {}\n",
        "bootstrap_pvals = pd.DataFrame(index=pd.MultiIndex.from_product([['1km_wt', '3km_wt', '5km_wt'], [1, 2, 3]], names=['dist', 'ms']), columns=['hi', 'monthnum', 'interact'])\n",
        "n_bootstraps = 9\n",
        "\n",
        "for dist  in ['1km_wt', '3km_wt', '5km_wt']:\n",
        "    df = cleanpricedata_y1y2_tab6.copy(deep=True)\n",
        "    df.dropna(subset=[f'hi_{dist}','salesPrice_trim','monthnum'], inplace=True)\n",
        "    mean_price = df[(df['monthnum'] == 0) & (df[f'hi_{dist}'] == 0)]['salesPrice_trim'].mean()\n",
        "    norm = 100 / mean_price\n",
        "\n",
        "    # normalize price\n",
        "    df['salesPrice_trim_norm'] = df['salesPrice_trim'] * norm\n",
        "    df['salesPrice_trim_norm'] = df['salesPrice_trim_norm'].astype(float)\n",
        "\n",
        "    # create hi variable\n",
        "    df['hi'] = df[f'hi_{dist}']\n",
        "    df['interact'] = df['monthnum'] * df['hi']\n",
        "\n",
        "    # regression\n",
        "    formula = 'salesPrice_trim_norm ~ hi + monthnum + interact'\n",
        "\n",
        "\n",
        "    for ms in [1,2,3]: # 3 is pooled\n",
        "        if ms == 3:\n",
        "            df_filt = df[(df['in_sample'] == 1)]\n",
        "        else:\n",
        "            df_filt = df[(df['MS'] == ms) & (df['in_sample'] == 1)]\n",
        "        res = wild_bootstrap(df_filt, results[(dist, ms)], n_bootstraps, 'salesPrice_trim_norm', f'subloc_{dist}_grp')\n",
        "        bootstrap_res[(dist,ms)] = res\n",
        "\n",
        "        model = results[(dist, ms)]\n",
        "\n",
        "        for i, var in enumerate(['hi', 'monthnum', 'interact']):\n",
        "            observed_coef = model.params[var]\n",
        "            # calculating p-values as proportion of bootstrap coefs where abs(boot_coef) >= abs(obs_coef)\n",
        "            p_value = np.round(np.mean(np.abs(bootstrap_res[(dist,ms)][:,i]) >= np.abs(observed_coef)),3)\n",
        "\n",
        "            # store p-value in df\n",
        "            bootstrap_pvals.loc[(dist,ms),var] = p_value\n"
      ]
    },
    {
      "cell_type": "code",
      "execution_count": 28,
      "metadata": {
        "id": "PUQzZYEiBI4h"
      },
      "outputs": [],
      "source": [
        "bootstrap_pvals = bootstrap_pvals.T\n",
        "bootstrap_pvals = bootstrap_pvals[[('3km_wt', 1), ('3km_wt', 2), ('3km_wt', 3), ('1km_wt', 3), ('5km_wt', 3)]]"
      ]
    },
    {
      "cell_type": "code",
      "execution_count": 29,
      "metadata": {
        "colab": {
          "base_uri": "https://localhost:8080/"
        },
        "id": "Fv9ZnKRtBNWU",
        "outputId": "ebb52c56-42a9-4730-e51a-d6659f6b1520"
      },
      "outputs": [
        {
          "name": "stdout",
          "output_type": "stream",
          "text": [
            "\n",
            "\\begin{tabular}{@{\\extracolsep{5pt}}lccccc}\n",
            "\\\\[-1.8ex]\\hline\n",
            "\\hline \\\\[-1.8ex]\n",
            "& \\multicolumn{5}{c}{\\textit{Dependent variable: Trimmed Sales Price}} \\\n",
            "\\cr \\cline{2-6}\n",
            "\\\\[-1.8ex] & \\multicolumn{3}{c}{Main Specification (3km)} & \\multicolumn{2}{c}{Robustness (Pooled)}  \\\\\n",
            "\\\\[-1.8ex] & (1) & (2) & (3) & (4) & (5) \n",
            " \\\\ & Y1 & Y2 & Pooled & 1km & 5km \\\\\n",
            "\\hline \\\\[-1.8ex]\n",
            " High & 4.410$^{**}$ & 2.855$^{}$ & 3.970$^{**}$ & 2.787$^{}$ & 3.766$^{**}$ \\\\\n",
            "& (2.091) & (1.992) & (1.817) & (1.719) & (1.822) \\\\\n",
            " Month & 1.189$^{***}$ & 1.224$^{***}$ & 1.364$^{***}$ & 1.327$^{***}$ & 1.537$^{***}$ \\\\\n",
            "& (0.363) & (0.377) & (0.350) & (0.339) & (0.291) \\\\\n",
            " High x Month & -0.574$^{}$ & -0.476$^{}$ & -0.573$^{}$ & -0.520$^{}$ & -0.835$^{**}$ \\\\\n",
            "& (0.422) & (0.459) & (0.386) & (0.390) & (0.366) \\\\\n",
            " P-value High & 0.035 & 0.152 & 0.029 & 0.105 & 0.039 \\\\\n",
            " P-value Treat Bootstrap & 0.667 & 0.444 & 0.444 & 0.556 & 0.333 \\\\\n",
            " P-value Month & 0.001 & 0.001 & 0.0 & 0.0 & 0.0 \\\\\n",
            " P-value High Bootstrap & 0.556 & 0.444 & 0.556 & 0.222 & 0.667 \\\\\n",
            " P-value High x Month & 0.173 & 0.3 & 0.138 & 0.182 & 0.023 \\\\\n",
            " P-value Treat x High Bootstrap & 0.667 & 0.556 & 0.333 & 0.444 & 0.556 \\\\\n",
            "\\hline \\\\[-1.8ex]\n",
            " Observations & 491 & 381 & 872 & 872 & 872 \\\\\n",
            " $R^2$ & 0.077 & 0.031 & 0.058 & 0.055 & 0.060 \\\\\n",
            " % Adjusted $R^2$ & 0.071 & 0.023 & 0.055 & 0.052 & 0.056 \\\\\n",
            " % Residual Std. Error & 10.071 & 14.651 & 12.700 & 12.726 & 12.685 \\\\\n",
            " % F Statistic & 6.401$^{***}$ & 7.496$^{***}$ & 13.411$^{***}$ & 10.971$^{***}$ & 16.730$^{***}$ \\\\\n",
            "\\hline\n",
            "\\hline \\\\[-1.8ex]\n",
            "% \\textit{Note:} & \\multicolumn{5}{r}{$^{*}$p$<$0.1; $^{**}$p$<$0.05; $^{***}$p$<$0.01} \\\\\n",
            "\\end{tabular}\n",
            "\n"
          ]
        }
      ],
      "source": [
        "# use stargazer to create a table\n",
        "result_list = [results[('3km_wt', 1)], results[('3km_wt', 2)], results[('3km_wt', 3)], results[('1km_wt', 3)], results[('5km_wt', 3)]]\n",
        "stargazer = Stargazer(result_list)\n",
        "\n",
        "# configure Stargazer object for output\n",
        "stargazer.custom_columns(['Main Specification (3km)', 'Robustness (Pooled)'], [3, 2])\n",
        "stargazer.rename_covariates({'hi': 'High', 'monthnum': 'Month', 'interact': 'High x Month'})\n",
        "stargazer.show_degrees_of_freedom(False)\n",
        "stargazer.significant_digits(3)\n",
        "stargazer.covariate_order(['hi', 'monthnum', 'interact'])\n",
        "# add p-values as a rows\n",
        "stargazer.add_line('P-value High', pvals.loc['hi'].values.tolist())\n",
        "stargazer.add_line('P-value Treat Bootstrap', bootstrap_pvals.loc['hi'].values.tolist())\n",
        "stargazer.add_line('P-value Month', pvals.loc['monthnum'].values.tolist())\n",
        "stargazer.add_line('P-value High Bootstrap', bootstrap_pvals.loc['monthnum'].values.tolist())\n",
        "stargazer.add_line('P-value High x Month', pvals.loc['interact'].values.tolist())\n",
        "stargazer.add_line('P-value Treat x High Bootstrap', bootstrap_pvals.loc['interact'].values.tolist())\n",
        "\n",
        "\n",
        "latex_table6 = stargazer.render_latex()\n",
        "\n",
        "# edit the latex tables\n",
        "latex_table6 = latex_table6.replace(\"\\\\[-1.8ex] & (1) & (2) & (3) & (4) & (5) \\\\\",\n",
        "                                \"\\\\[-1.8ex] & (1) & (2) & (3) & (4) & (5) \\n \\\\\\ & Y1 & Y2 & Pooled & 1km & 5km \\\\\")\n",
        "latex_table6 = latex_table6.replace(\"Adjusted $R^2$\", \"% Adjusted $R^2$\")\n",
        "latex_table6 = latex_table6.replace(\"Residual Std. Error\", \"% Residual Std. Error\")\n",
        "latex_table6 = latex_table6.replace(\"F Statistic\", \"% F Statistic\")\n",
        "latex_table6 = latex_table6.replace(\"\\\\textit{Note\",\"% \\\\textit{Note\")\n",
        "latex_table6 = latex_table6.replace(\"salesPrice_trim_norm\",\"Trimmed Sales Price\")\n",
        "latex_table6 = latex_table6.replace(\"\\\\begin{table}[!htbp] \\\\centering\", \"\")\n",
        "latex_table6 = latex_table6.replace(\"\\\\end{table}\", \"\")\n",
        "\n",
        "print(latex_table6)"
      ]
    },
    {
      "cell_type": "markdown",
      "metadata": {
        "id": "eXsVtSIyyW_w"
      },
      "source": [
        "## Table 7"
      ]
    },
    {
      "cell_type": "code",
      "execution_count": 30,
      "metadata": {
        "id": "hRr_Mp-DyYTi"
      },
      "outputs": [],
      "source": [
        "# copy the raw data and create columns for treatment and interaction variable\n",
        "ms1ms2_pooled_tab7 = ms1ms2_pooled.copy(deep=True)\n",
        "# filter relevant columns\n",
        "ms1ms2_pooled_tab7 = ms1ms2_pooled_tab7[['oafid', # id\n",
        "                                         'treat12', 'treat13', 'treatMS1MS2', # treatment variables\n",
        "                                         'inventory_trim', 'netrevenue_trim', 'logtotcons_trim', # outcome variables\n",
        "                                         'Y1round2', 'Y1round3', 'Y2round1', 'Y2round2', 'Y2round3','hi','subloc','interviewdate']] # independent variables\n",
        "\n",
        "ms1ms2_pooled_tab7.sort_index(inplace=True)\n",
        "ms1ms2_pooled_tab7['z'] = pd.NA\n",
        "ms1ms2_pooled_tab7['z_hi'] = pd.NA"
      ]
    },
    {
      "cell_type": "markdown",
      "metadata": {
        "id": "4EjJ8Mj1g3ND"
      },
      "source": [
        "### Running the first set of regressions"
      ]
    },
    {
      "cell_type": "code",
      "execution_count": 31,
      "metadata": {
        "colab": {
          "base_uri": "https://localhost:8080/"
        },
        "id": "tb7xZ1W4yiA9",
        "outputId": "eabe3d8f-7a16-48be-a95b-c3f29b145855"
      },
      "outputs": [],
      "source": [
        "# list of treaments\n",
        "treatments = ['treat12', 'treat13', 'treatMS1MS2']\n",
        "\n",
        "# list of dependent variables\n",
        "dependent_vars = ['inventory_trim', 'netrevenue_trim', 'logtotcons_trim']\n",
        "\n",
        "# list of changeing independent variables depending on the treatment\n",
        "independent_vars = {\n",
        "    'treat12': 'Y1round2 + Y1round3',\n",
        "    'treat13': 'Y2round2 + Y2round3',\n",
        "    'treatMS1MS2': 'Y1round2 + Y1round3 + Y2round1 + Y2round2 + Y2round3'\n",
        "    }\n",
        "\n",
        "# empty dictionary to store results\n",
        "results = {}\n",
        "pvals = {var: [] for var in ['z', 'hi', 'z_hi','z+z_hi']}\n",
        "\n",
        "# Simulating the loop to replace variables and run regressions\n",
        "for dv in dependent_vars:\n",
        "    for treat in treatments:\n",
        "        # Stata automatically omits the missing values in the regression – here we have to do it manually so we copy the data and drop variables\n",
        "        df = ms1ms2_pooled_tab7.copy(deep=True)\n",
        "        df = df.dropna(subset=[dv, treat, 'hi', 'subloc','interviewdate'])\n",
        "        # setting treament variable\n",
        "        df['z'] = df[treat] # setting z to the treatment variable\n",
        "\n",
        "        # setting interaction variable\n",
        "        df['z_hi'] = df[treat]*df['hi'] # setting z_hi to the interaction of the treatment hi saturation\n",
        "\n",
        "        # setting the formula to run the regression\n",
        "        formula = f'{dv} ~ z + hi + z_hi + interviewdate + {independent_vars[treat]}'\n",
        "\n",
        "        # Run the regression\n",
        "        model_key = f'model_{dependent_vars.index(dv)*len(treatments) + treatments.index(treat)}'\n",
        "        results[model_key] = smf.ols(formula, data=df).fit(cov_type='cluster', cov_kwds={'groups': df['subloc']})\n",
        "\n",
        "        # test the hypothesis that z + z_hi = 0\n",
        "        hypothesis = 'z + z_hi = 0'\n",
        "        t_test = results[model_key].t_test(hypothesis)\n",
        "\n",
        "        # store p-value round to 3 decimals\n",
        "        pvals['z+z_hi'].append(np.round(t_test.pvalue,3))\n",
        "        pvals['z'].append(np.round(results[model_key].pvalues['z'],3))\n",
        "        pvals['hi'].append(np.round(results[model_key].pvalues['hi'],3))\n",
        "        pvals['z_hi'].append(np.round(results[model_key].pvalues['z_hi'],3))"
      ]
    },
    {
      "cell_type": "markdown",
      "metadata": {
        "id": "dOjQSC-NhbD7"
      },
      "source": [
        "### Running boostrap regressions"
      ]
    },
    {
      "cell_type": "code",
      "execution_count": 32,
      "metadata": {
        "id": "rtNR18qGhgM5"
      },
      "outputs": [],
      "source": [
        "n_bootstraps = 999  # reported data is based on 999 iterations\n",
        "bootstrap_res = {}\n",
        "bootstrap_pvals = {var: [] for var in ['z', 'hi', 'z_hi']}\n",
        "\n",
        "for dv in dependent_vars:\n",
        "    for treat in treatments:\n",
        "        df = ms1ms2_pooled_tab7.copy(deep=True)\n",
        "        df = df.dropna(subset=[dv, treat, 'hi', 'subloc', 'interviewdate'])\n",
        "        df['z'] = df[treat]\n",
        "        df['z_hi'] = df[treat] * df['hi']\n",
        "        df[dv] = df[dv].astype(float)\n",
        "\n",
        "        formula = f'{dv} ~ z + hi + z_hi + interviewdate + {independent_vars[treat]}'\n",
        "        model_key = f'model_{dependent_vars.index(dv)*len(treatments) + treatments.index(treat)}'\n",
        "        model = results[model_key]\n",
        "\n",
        "        # Wild bootstrap\n",
        "        res = wild_bootstrap(df, model, n_bootstraps, dv,'subloc')\n",
        "        bootstrap_res[model_key] = res\n",
        "\n",
        "        for i, var in enumerate(['z', 'hi', 'z_hi']):\n",
        "            observed_coef = model.params[var]\n",
        "            # calculating p-values as proportion of bootstrap coefs where abs(boot_coef) >= abs(obs_coef)\n",
        "            p_value = np.round(np.mean(np.abs(bootstrap_res[model_key][:,i]) >= np.abs(observed_coef)),3)\n",
        "            bootstrap_pvals[var].append(p_value)"
      ]
    },
    {
      "cell_type": "markdown",
      "metadata": {
        "id": "-UdXeJZAhhEo"
      },
      "source": [
        "### Output to LaTeX"
      ]
    },
    {
      "cell_type": "code",
      "execution_count": 33,
      "metadata": {
        "id": "DOQVwnBvwMBm"
      },
      "outputs": [
        {
          "name": "stdout",
          "output_type": "stream",
          "text": [
            "\n",
            "\\begin{tabular}{@{\\extracolsep{5pt}}lccccccccc}\n",
            "\\\\[-1.8ex]\\hline\n",
            "\\hline \\\\[-1.8ex]\n",
            "\\\\[-1.8ex] & \\multicolumn{3}{c}{Inventory} & \\multicolumn{3}{c}{Net Revenues} & \\multicolumn{3}{c}{Consumption}  \\\\\n",
            "\\\\[-1.8ex] & (1) & (2) & (3) & (4) & (5) & (6) & (7) & (8) & (9) \n",
            " \\\\ & Y1 & Y2 & Pooled & Y1 & Y2 & Pooled & Y1 & Y2 & Pooled \\\\\n",
            "\\hline \\\\[-1.8ex]\n",
            " Treat & 0.759$^{***}$ & 0.546$^{***}$ & 0.740$^{***}$ & 1059.602$^{**}$ & 1193.768$^{*}$ & 1101.389$^{**}$ & 0.012$^{}$ & -0.051$^{}$ & -0.011$^{}$ \\\\\n",
            "& (0.189) & (0.185) & (0.155) & (437.732) & (685.048) & (430.091) & (0.040) & (0.040) & (0.023) \\\\\n",
            " High & 0.124$^{}$ & -0.028$^{}$ & 0.017$^{}$ & 533.903$^{}$ & -152.603$^{}$ & 164.936$^{}$ & -0.003$^{}$ & -0.084$^{}$ & -0.047$^{}$ \\\\\n",
            "& (0.355) & (0.219) & (0.241) & (551.179) & (558.948) & (479.685) & (0.051) & (0.053) & (0.043) \\\\\n",
            " Treat x High & -0.333$^{}$ & -0.065$^{}$ & -0.291$^{}$ & -1114.628$^{**}$ & -555.215$^{}$ & -816.770$^{}$ & -0.013$^{}$ & 0.174$^{***}$ & 0.067$^{*}$ \\\\\n",
            "& (0.229) & (0.255) & (0.192) & (535.594) & (804.864) & (520.036) & (0.052) & (0.055) & (0.037) \\\\\n",
            " P-value T + TH = 0 & 0.002 & 0.006 & 0.002 & 0.861 & 0.125 & 0.396 & 0.969 & 0.001 & 0.063 \\\\\n",
            " P-value Treat & 0.0 & 0.003 & 0.0 & 0.015 & 0.081 & 0.01 & 0.764 & 0.209 & 0.621 \\\\\n",
            " P-value Treat Bootstrap & 0.508 & 0.495 & 0.506 & 0.503 & 0.492 & 0.506 & 0.773 & 0.51 & 0.721 \\\\\n",
            " P-value High & 0.726 & 0.899 & 0.944 & 0.333 & 0.785 & 0.731 & 0.961 & 0.115 & 0.279 \\\\\n",
            " P-value High Bootstrap & 0.591 & 0.836 & 0.88 & 0.526 & 0.7 & 0.618 & 0.952 & 0.502 & 0.483 \\\\\n",
            " P-value Treat*High & 0.146 & 0.799 & 0.13 & 0.037 & 0.49 & 0.116 & 0.798 & 0.002 & 0.072 \\\\\n",
            " P-value Treat*High Bootstrap & 0.513 & 0.783 & 0.493 & 0.514 & 0.521 & 0.496 & 0.781 & 0.513 & 0.488 \\\\\n",
            "\\hline \\\\[-1.8ex]\n",
            " Observations & 3836 & 2944 & 6780 & 3795 & 2935 & 6730 & 3792 & 2944 & 6736 \\\\\n",
            " $R^2$ & 0.346 & 0.184 & 0.293 & 0.009 & 0.043 & 0.091 & 0.002 & 0.017 & 0.025 \\\\\n",
            " % Adjusted $R^2$ & 0.345 & 0.182 & 0.292 & 0.008 & 0.041 & 0.090 & 0.000 & 0.015 & 0.024 \\\\\n",
            " % Residual Std. Error & 3.015 & 2.793 & 2.947 & 6188.647 & 6410.741 & 6286.767 & 0.621 & 0.647 & 0.633 \\\\\n",
            " % F Statistic & 369.556$^{***}$ & 93.029$^{***}$ & 364.779$^{***}$ & 2.004$^{*}$ & 19.627$^{***}$ & 119.335$^{***}$ & 0.616$^{}$ & 4.496$^{***}$ & 16.477$^{***}$ \\\\\n",
            "\\hline\n",
            "\\hline \\\\[-1.8ex]\n",
            "% \\textit{Note:} & \\multicolumn{9}{r}{$^{*}$p$<$0.1; $^{**}$p$<$0.05; $^{***}$p$<$0.01} \\\\\n",
            "\\end{tabular}\n",
            "\n"
          ]
        }
      ],
      "source": [
        "# use stargazer to create a table\n",
        "result_list = list(results.values())\n",
        "stargazer = Stargazer(result_list)\n",
        "\n",
        "# configure Stargazer object for output\n",
        "stargazer.custom_columns(['Inventory', 'Net Revenues', 'Consumption'], [3, 3, 3])\n",
        "stargazer.rename_covariates({'z': 'Treat', 'hi': 'High', 'z_hi': 'Treat x High'})\n",
        "stargazer.show_degrees_of_freedom(False)\n",
        "stargazer.significant_digits(3)\n",
        "stargazer.covariate_order(['z', 'hi', 'z_hi'])\n",
        "# add p-values as a rows\n",
        "stargazer.add_line('P-value T + TH = 0', pvals['z+z_hi'])\n",
        "stargazer.add_line('P-value Treat', pvals['z'])\n",
        "stargazer.add_line('P-value Treat Bootstrap', bootstrap_pvals['z'])\n",
        "stargazer.add_line('P-value High', pvals['hi'])\n",
        "stargazer.add_line('P-value High Bootstrap', bootstrap_pvals['hi'])\n",
        "stargazer.add_line('P-value Treat*High', pvals['z_hi'])\n",
        "stargazer.add_line('P-value Treat*High Bootstrap', bootstrap_pvals['z_hi'])\n",
        "\n",
        "\n",
        "latex_table7 = stargazer.render_latex()\n",
        "\n",
        "# edit the latex table to add row for telling if Y1 Y2 or Pooled after \\\\[-1.8ex] & (1) & (2) & (3) & (4) & (5) & (6) & (7) & (8) & (9) \\\\\n",
        "latex_table7 = latex_table7.replace(\"\\\\[-1.8ex] & (1) & (2) & (3) & (4) & (5) & (6) & (7) & (8) & (9) \\\\\",\n",
        "                                \"\\\\[-1.8ex] & (1) & (2) & (3) & (4) & (5) & (6) & (7) & (8) & (9) \\n \\\\\\ & Y1 & Y2 & Pooled & Y1 & Y2 & Pooled & Y1 & Y2 & Pooled \\\\\")\n",
        "latex_table7 = latex_table7.replace(\"Adjusted $R^2$\", \"% Adjusted $R^2$\")\n",
        "latex_table7 = latex_table7.replace(\"Residual Std. Error\", \"% Residual Std. Error\")\n",
        "latex_table7 = latex_table7.replace(\"F Statistic\", \"% F Statistic\")\n",
        "latex_table7 = latex_table7.replace(\"\\\\textit{\",\"% \\\\textit{\")\n",
        "latex_table7 = latex_table7.replace(\"\\\\begin{table}[!htbp] \\\\centering\", \"\")\n",
        "latex_table7 = latex_table7.replace(\"\\\\end{table}\", \"\")\n",
        "\n",
        "print(latex_table7)"
      ]
    },
    {
      "cell_type": "markdown",
      "metadata": {
        "id": "F11Z5SCUQyO_"
      },
      "source": [
        "## Table 8"
      ]
    },
    {
      "cell_type": "code",
      "execution_count": 34,
      "metadata": {
        "id": "hE0tG6KRQ0xg"
      },
      "outputs": [],
      "source": [
        "tab8_dt = ms1ms2_pooled.loc[:, ['treatMS1MS2', 'hi', 'treatMS1MS2hi', 'interviewdate', 'netrevenue_trim', 'strata_group', 'groupnum', 'subloc', 'Y1round1', 'Y1round2', 'Y1round3', 'Y2round1', 'Y2round2', 'Y2round3']].dropna()\n",
        "tab8_dt['net_revenue_3'] = tab8_dt['netrevenue_trim'] * 3\n",
        "model = smf.ols('net_revenue_3 ~ treatMS1MS2 + hi + treatMS1MS2hi + interviewdate + Y1round1 + Y1round2 + Y1round3 + Y2round1 + Y2round2 + Y2round3', data=tab8_dt)\n",
        "results_t8 = model.fit(cov_type='cluster', cov_kwds={'groups': tab8_dt['subloc']})\n",
        "model_params_t8 = results_t8.params"
      ]
    },
    {
      "cell_type": "code",
      "execution_count": 35,
      "metadata": {
        "colab": {
          "base_uri": "https://localhost:8080/"
        },
        "id": "7ocrbGi-hmfA",
        "outputId": "ef6091c5-aada-4e72-da7a-5d91243def0c"
      },
      "outputs": [
        {
          "name": "stdout",
          "output_type": "stream",
          "text": [
            "\\begin{tabular}{lrr}\n",
            "\\toprule\n",
            " & Low Saturation & High Saturation \\\\\n",
            "\\midrule\n",
            "1. Direct gains/HH (Ksh) & 3304.166 & 853.856 \\\\\n",
            "2. Indirect gains/HH (Ksh) & 0.000 & 494.807 \\\\\n",
            "3. Ratio of indirect to direct gains & 0.000 & 0.579 \\\\\n",
            "4. Direct beneficiary population (HH) & 247.000 & 495.000 \\\\\n",
            "5. Total local population (HH) & 3553.000 & 3553.000 \\\\\n",
            "6. Total direct gains (Ksh) & 816128.985 & 422658.745 \\\\\n",
            "7. Total indirect gains (Ksh) & 0.000 & 1758050.851 \\\\\n",
            "8. Total gains (direct + indirect; Ksh) & 816128.985 & 2180709.596 \\\\\n",
            "9. Fraction of gains direct & 1.000 & 0.194 \\\\\n",
            "10. Fraction of gains indirect & 0.000 & 0.806 \\\\\n",
            "\\bottomrule\n",
            "\\end{tabular}\n",
            "\n"
          ]
        }
      ],
      "source": [
        "# Annualized coefficients\n",
        "treat_coef = model_params_t8['treatMS1MS2']\n",
        "treat_hi_coef = (model_params_t8['treatMS1MS2'] + model_params_t8['treatMS1MS2hi'])\n",
        "hi_coef = model_params_t8['hi']\n",
        "\n",
        "# Direct beneficiary population\n",
        "direct_beneficiary_pop_low = 247.0\n",
        "direct_beneficiary_pop_high = 495.0\n",
        "\n",
        "# Total direct gains\n",
        "total_direct_gains_low = treat_coef * direct_beneficiary_pop_low\n",
        "total_direct_gains_high = treat_hi_coef * direct_beneficiary_pop_high\n",
        "\n",
        "# Total indirect gains (only applicable to high saturation areas)\n",
        "total_indirect_gains_high = hi_coef * 3553.0\n",
        "\n",
        "# Total gains\n",
        "total_gains_low = total_direct_gains_low\n",
        "total_gains_high = total_direct_gains_high + total_indirect_gains_high\n",
        "\n",
        "# Fraction of gains direct\n",
        "fraction_gains_direct_low = 1  # All gains are direct in low saturation\n",
        "fraction_gains_direct_high = total_direct_gains_high / total_gains_high\n",
        "\n",
        "# Fraction of gains indirect (only applicable to high saturation areas)\n",
        "fraction_gains_indirect_high = total_indirect_gains_high / total_gains_high\n",
        "\n",
        "table_8 = {\n",
        "    \"1. Direct gains/HH (Ksh)\": [treat_coef, treat_hi_coef],\n",
        "    \"2. Indirect gains/HH (Ksh)\": [0, hi_coef],\n",
        "    \"3. Ratio of indirect to direct gains\": [0, hi_coef / treat_hi_coef],\n",
        "    \"4. Direct beneficiary population (HH)\": [direct_beneficiary_pop_low, direct_beneficiary_pop_high],\n",
        "    \"5. Total local population (HH)\": [3553.0, 3553.0],\n",
        "    \"6. Total direct gains (Ksh)\": [total_direct_gains_low, total_direct_gains_high],\n",
        "    \"7. Total indirect gains (Ksh)\": [0, total_indirect_gains_high],\n",
        "    \"8. Total gains (direct + indirect; Ksh)\": [total_gains_low, total_gains_high],\n",
        "    \"9. Fraction of gains direct\": [fraction_gains_direct_low, fraction_gains_direct_high],\n",
        "    \"10. Fraction of gains indirect\": [0, fraction_gains_indirect_high],\n",
        "}\n",
        "\n",
        "# Convert the calculations to DataFrame and transpose it\n",
        "table_8_df = pd.DataFrame(table_8, index=[\"Low Saturation\", \"High Saturation\"]).T\n",
        "\n",
        "# Now you can print table_8_df to see the recreated table\n",
        "table_8_df\n",
        "\n",
        "latex_table8 = table_8_df.to_latex(index=True, float_format=\"%.3f\")\n",
        "print(latex_table8)"
      ]
    }
  ],
  "metadata": {
    "colab": {
      "collapsed_sections": [
        "NLR-EsZmPhnZ",
        "J2Kt7J_ve0Jr",
        "MapKqTx56PLs",
        "EFcatyv4Dk08",
        "iFWCk0Ja1NUj",
        "eXsVtSIyyW_w"
      ],
      "provenance": []
    },
    "kernelspec": {
      "display_name": "Python 3",
      "name": "python3"
    },
    "language_info": {
      "codemirror_mode": {
        "name": "ipython",
        "version": 3
      },
      "file_extension": ".py",
      "mimetype": "text/x-python",
      "name": "python",
      "nbconvert_exporter": "python",
      "pygments_lexer": "ipython3",
      "version": "3.11.8"
    }
  },
  "nbformat": 4,
  "nbformat_minor": 0
}
