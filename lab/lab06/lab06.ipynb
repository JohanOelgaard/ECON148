{
 "cells": [
  {
   "cell_type": "code",
   "execution_count": 1,
   "id": "d77bbc8f",
   "metadata": {
    "deletable": false,
    "editable": false
   },
   "outputs": [],
   "source": [
    "# Initialize Otter\n",
    "import otter\n",
    "grader = otter.Notebook(\"lab06.ipynb\")"
   ]
  },
  {
   "cell_type": "code",
   "execution_count": 2,
   "id": "05a0e228",
   "metadata": {},
   "outputs": [],
   "source": [
    "import numpy as np\n",
    "import pandas as pd\n",
    "\n",
    "import matplotlib.pyplot as plt\n",
    "import seaborn as sns\n",
    "import plotly.express as px\n",
    "from IPython.display import display, Latex, Markdown\n",
    "import ipywidgets as widgets\n",
    "from ipywidgets import interact, interactive, fixed, interact_manual\n",
    "%matplotlib inline\n",
    "\n",
    "import geopandas\n",
    "import pycountry\n",
    "import geopy\n",
    "\n",
    "import re"
   ]
  },
  {
   "cell_type": "markdown",
   "id": "a3855c35-d7a5-4353-a650-b80c6e897b8f",
   "metadata": {},
   "source": [
    "# Lab 6: Geospatial Visualizations"
   ]
  },
  {
   "cell_type": "markdown",
   "id": "d9416ac3-69a9-43d8-b6e2-d29fdfcc5783",
   "metadata": {},
   "source": [
    "In this lab, you will generate a 3D map visualizing data from [this paper](https://gabriel-zucman.eu/who-owns-offshore-real-estate/). The paper looks at the ownership of offshore real estate in Dubai (where Rohan grew up).  We would like to thank Professor Zucman for making his data freely available and accessible. Professor Zucman is one of the foremost experts in economic inequality; take [Econ 133](https://gabriel-zucman.eu/econ133/) to learn about it from him!\n",
    "\n",
    "In order to generate the map, we will first import a cleaned version of the dataset from the paper. Then, we will do some essential data cleaning steps so the data can be interpreted by plotting packages. Then, we will generate a sample plot. Finally, we will use widgets to easily toggle between multiple plots."
   ]
  },
  {
   "cell_type": "markdown",
   "id": "874a2bce",
   "metadata": {},
   "source": [
    "### Learning Objectives:\n",
    "- Revisits some data cleaning techniques\n",
    "- Generates geospatial visualizations in 2D and 3D"
   ]
  },
  {
   "cell_type": "markdown",
   "id": "8343927d-f471-40fa-919c-dc2686d40ef4",
   "metadata": {},
   "source": [
    "First, let's load in the dataset."
   ]
  },
  {
   "cell_type": "code",
   "execution_count": 3,
   "id": "707d57d3-a0ce-4b89-a1cf-276715632b6b",
   "metadata": {},
   "outputs": [
    {
     "data": {
      "text/html": [
       "<div>\n",
       "<style scoped>\n",
       "    .dataframe tbody tr th:only-of-type {\n",
       "        vertical-align: middle;\n",
       "    }\n",
       "\n",
       "    .dataframe tbody tr th {\n",
       "        vertical-align: top;\n",
       "    }\n",
       "\n",
       "    .dataframe thead th {\n",
       "        text-align: right;\n",
       "    }\n",
       "</style>\n",
       "<table border=\"1\" class=\"dataframe\">\n",
       "  <thead>\n",
       "    <tr style=\"text-align: right;\">\n",
       "      <th></th>\n",
       "      <th>Country</th>\n",
       "      <th>Unique Owners</th>\n",
       "      <th>Unique Properties</th>\n",
       "      <th>Total Property Values</th>\n",
       "      <th>GDP (current USD, 2018 or latest available - for coverage)</th>\n",
       "      <th>Total Property Value / GDP</th>\n",
       "      <th>Mean Property value</th>\n",
       "      <th>Median Property Value</th>\n",
       "      <th>Number of firms</th>\n",
       "      <th>Mean Age</th>\n",
       "      <th>...</th>\n",
       "      <th>Properties in Dubai Marina</th>\n",
       "      <th>Properties in Palm Jumeirah</th>\n",
       "      <th>Number of villas</th>\n",
       "      <th>Number of buildings</th>\n",
       "      <th>Share of total values owned by top 10% owners</th>\n",
       "      <th>Share of total values owned by top 10% persons</th>\n",
       "      <th>Share of total values owned by top 10% firms</th>\n",
       "      <th>Share of total values owned by top 1% owners</th>\n",
       "      <th>Share of total values owned by top 1% persons</th>\n",
       "      <th>Share of total values owned by top 1% firms</th>\n",
       "    </tr>\n",
       "  </thead>\n",
       "  <tbody>\n",
       "    <tr>\n",
       "      <th>0</th>\n",
       "      <td>World</td>\n",
       "      <td>273871.0000</td>\n",
       "      <td>883268.0</td>\n",
       "      <td>USD 532,564,964,318</td>\n",
       "      <td>8.630000e+13</td>\n",
       "      <td>0.62%</td>\n",
       "      <td>USD 603,015</td>\n",
       "      <td>USD 212,081</td>\n",
       "      <td>8017.0</td>\n",
       "      <td>49.7</td>\n",
       "      <td>...</td>\n",
       "      <td>41685.0000</td>\n",
       "      <td>17186.0000</td>\n",
       "      <td>58913.0000</td>\n",
       "      <td>4114.0</td>\n",
       "      <td>80%</td>\n",
       "      <td>26%</td>\n",
       "      <td>51%</td>\n",
       "      <td>63%</td>\n",
       "      <td>13%</td>\n",
       "      <td>38%</td>\n",
       "    </tr>\n",
       "    <tr>\n",
       "      <th>1</th>\n",
       "      <td>Afghanistan</td>\n",
       "      <td>1134.0000</td>\n",
       "      <td>3220.0</td>\n",
       "      <td>USD 1,410,029,024</td>\n",
       "      <td>1.810000e+10</td>\n",
       "      <td>7.81%</td>\n",
       "      <td>USD 437,897</td>\n",
       "      <td>USD 252,006</td>\n",
       "      <td>0.0</td>\n",
       "      <td>45.4</td>\n",
       "      <td>...</td>\n",
       "      <td>98.0000</td>\n",
       "      <td>199.0000</td>\n",
       "      <td>352.0000</td>\n",
       "      <td>16.0</td>\n",
       "      <td>66%</td>\n",
       "      <td>66%</td>\n",
       "      <td>NaN</td>\n",
       "      <td>38%</td>\n",
       "      <td>38%</td>\n",
       "      <td>NaN</td>\n",
       "    </tr>\n",
       "    <tr>\n",
       "      <th>2</th>\n",
       "      <td>Albania</td>\n",
       "      <td>17.0000</td>\n",
       "      <td>19.0</td>\n",
       "      <td>USD 6,762,555</td>\n",
       "      <td>1.520000e+10</td>\n",
       "      <td>0.04%</td>\n",
       "      <td>USD 355,924</td>\n",
       "      <td>USD 325,745</td>\n",
       "      <td>0.0</td>\n",
       "      <td>40.4</td>\n",
       "      <td>...</td>\n",
       "      <td>4.9998</td>\n",
       "      <td>4.9998</td>\n",
       "      <td>4.9998</td>\n",
       "      <td>0.0</td>\n",
       "      <td>79%</td>\n",
       "      <td>79%</td>\n",
       "      <td>NaN</td>\n",
       "      <td>56%</td>\n",
       "      <td>56%</td>\n",
       "      <td>NaN</td>\n",
       "    </tr>\n",
       "    <tr>\n",
       "      <th>3</th>\n",
       "      <td>Algeria</td>\n",
       "      <td>790.0000</td>\n",
       "      <td>1539.0</td>\n",
       "      <td>USD 450,011,530</td>\n",
       "      <td>1.750000e+11</td>\n",
       "      <td>0.26%</td>\n",
       "      <td>USD 292,405</td>\n",
       "      <td>USD 196,108</td>\n",
       "      <td>0.0</td>\n",
       "      <td>48.8</td>\n",
       "      <td>...</td>\n",
       "      <td>173.0000</td>\n",
       "      <td>27.0000</td>\n",
       "      <td>131.0000</td>\n",
       "      <td>0.0</td>\n",
       "      <td>54%</td>\n",
       "      <td>54%</td>\n",
       "      <td>NaN</td>\n",
       "      <td>25%</td>\n",
       "      <td>25%</td>\n",
       "      <td>NaN</td>\n",
       "    </tr>\n",
       "    <tr>\n",
       "      <th>4</th>\n",
       "      <td>American Samoa</td>\n",
       "      <td>4.9998</td>\n",
       "      <td>9.0</td>\n",
       "      <td>USD 10,082,724</td>\n",
       "      <td>6.390000e+08</td>\n",
       "      <td>1.58%</td>\n",
       "      <td>USD 1,120,303</td>\n",
       "      <td>USD 844,572</td>\n",
       "      <td>0.0</td>\n",
       "      <td>57.5</td>\n",
       "      <td>...</td>\n",
       "      <td>0.0000</td>\n",
       "      <td>0.0000</td>\n",
       "      <td>0.0000</td>\n",
       "      <td>0.0</td>\n",
       "      <td>93%</td>\n",
       "      <td>93%</td>\n",
       "      <td>NaN</td>\n",
       "      <td>93%</td>\n",
       "      <td>93%</td>\n",
       "      <td>NaN</td>\n",
       "    </tr>\n",
       "  </tbody>\n",
       "</table>\n",
       "<p>5 rows × 27 columns</p>\n",
       "</div>"
      ],
      "text/plain": [
       "          Country  Unique Owners  Unique Properties Total Property Values  \\\n",
       "0           World    273871.0000           883268.0   USD 532,564,964,318   \n",
       "1     Afghanistan      1134.0000             3220.0     USD 1,410,029,024   \n",
       "2         Albania        17.0000               19.0         USD 6,762,555   \n",
       "3         Algeria       790.0000             1539.0       USD 450,011,530   \n",
       "4  American Samoa         4.9998                9.0        USD 10,082,724   \n",
       "\n",
       "   GDP (current USD, 2018 or latest available - for coverage)  \\\n",
       "0                                       8.630000e+13            \n",
       "1                                       1.810000e+10            \n",
       "2                                       1.520000e+10            \n",
       "3                                       1.750000e+11            \n",
       "4                                       6.390000e+08            \n",
       "\n",
       "  Total Property Value / GDP Mean Property value Median Property Value  \\\n",
       "0                      0.62%         USD 603,015           USD 212,081   \n",
       "1                      7.81%         USD 437,897           USD 252,006   \n",
       "2                      0.04%         USD 355,924           USD 325,745   \n",
       "3                      0.26%         USD 292,405           USD 196,108   \n",
       "4                      1.58%       USD 1,120,303           USD 844,572   \n",
       "\n",
       "   Number of firms  Mean Age  ...  Properties in Dubai Marina  \\\n",
       "0           8017.0      49.7  ...                  41685.0000   \n",
       "1              0.0      45.4  ...                     98.0000   \n",
       "2              0.0      40.4  ...                      4.9998   \n",
       "3              0.0      48.8  ...                    173.0000   \n",
       "4              0.0      57.5  ...                      0.0000   \n",
       "\n",
       "   Properties in Palm Jumeirah  Number of villas  Number of buildings  \\\n",
       "0                   17186.0000        58913.0000               4114.0   \n",
       "1                     199.0000          352.0000                 16.0   \n",
       "2                       4.9998            4.9998                  0.0   \n",
       "3                      27.0000          131.0000                  0.0   \n",
       "4                       0.0000            0.0000                  0.0   \n",
       "\n",
       "  Share of total values owned by top 10% owners  \\\n",
       "0                                           80%   \n",
       "1                                           66%   \n",
       "2                                           79%   \n",
       "3                                           54%   \n",
       "4                                           93%   \n",
       "\n",
       "   Share of total values owned by top 10% persons  \\\n",
       "0                                             26%   \n",
       "1                                             66%   \n",
       "2                                             79%   \n",
       "3                                             54%   \n",
       "4                                             93%   \n",
       "\n",
       "   Share of total values owned by top 10% firms  \\\n",
       "0                                           51%   \n",
       "1                                           NaN   \n",
       "2                                           NaN   \n",
       "3                                           NaN   \n",
       "4                                           NaN   \n",
       "\n",
       "   Share of total values owned by top 1% owners  \\\n",
       "0                                           63%   \n",
       "1                                           38%   \n",
       "2                                           56%   \n",
       "3                                           25%   \n",
       "4                                           93%   \n",
       "\n",
       "   Share of total values owned by top 1% persons  \\\n",
       "0                                            13%   \n",
       "1                                            38%   \n",
       "2                                            56%   \n",
       "3                                            25%   \n",
       "4                                            93%   \n",
       "\n",
       "   Share of total values owned by top 1% firms  \n",
       "0                                          38%  \n",
       "1                                          NaN  \n",
       "2                                          NaN  \n",
       "3                                          NaN  \n",
       "4                                          NaN  \n",
       "\n",
       "[5 rows x 27 columns]"
      ]
     },
     "execution_count": 3,
     "metadata": {},
     "output_type": "execute_result"
    }
   ],
   "source": [
    "data = pd.read_csv('APZO2022Data-cleaned.csv')\n",
    "data.head()"
   ]
  },
  {
   "cell_type": "markdown",
   "id": "e5dd4f59-6f06-4637-b364-55aba04a610a",
   "metadata": {},
   "source": [
    "---\n",
    "## Part 1: Cleaning Data"
   ]
  },
  {
   "cell_type": "markdown",
   "id": "f5c4dc56-be41-478a-9f46-6b7e728f9912",
   "metadata": {},
   "source": [
    "In this part, you will follow the steps for cleaning the data as described in each individual subpart. If you do not follow the steps exactly, the plots will not be generated in subsequent parts."
   ]
  },
  {
   "cell_type": "markdown",
   "id": "947d7deb-1b69-4136-b398-d6554642379e",
   "metadata": {
    "deletable": false,
    "editable": false
   },
   "source": [
    "**Question 1.1:** Set the `Country` column as the table index and delete the first row (the one for the entire World) from the data."
   ]
  },
  {
   "cell_type": "code",
   "execution_count": 4,
   "id": "db6a2b5a-92ec-4b4c-a5f6-32f47047db2a",
   "metadata": {
    "tags": []
   },
   "outputs": [
    {
     "data": {
      "text/html": [
       "<div>\n",
       "<style scoped>\n",
       "    .dataframe tbody tr th:only-of-type {\n",
       "        vertical-align: middle;\n",
       "    }\n",
       "\n",
       "    .dataframe tbody tr th {\n",
       "        vertical-align: top;\n",
       "    }\n",
       "\n",
       "    .dataframe thead th {\n",
       "        text-align: right;\n",
       "    }\n",
       "</style>\n",
       "<table border=\"1\" class=\"dataframe\">\n",
       "  <thead>\n",
       "    <tr style=\"text-align: right;\">\n",
       "      <th></th>\n",
       "      <th>Unique Owners</th>\n",
       "      <th>Unique Properties</th>\n",
       "      <th>Total Property Values</th>\n",
       "      <th>GDP (current USD, 2018 or latest available - for coverage)</th>\n",
       "      <th>Total Property Value / GDP</th>\n",
       "      <th>Mean Property value</th>\n",
       "      <th>Median Property Value</th>\n",
       "      <th>Number of firms</th>\n",
       "      <th>Mean Age</th>\n",
       "      <th>Number with age variable</th>\n",
       "      <th>...</th>\n",
       "      <th>Properties in Dubai Marina</th>\n",
       "      <th>Properties in Palm Jumeirah</th>\n",
       "      <th>Number of villas</th>\n",
       "      <th>Number of buildings</th>\n",
       "      <th>Share of total values owned by top 10% owners</th>\n",
       "      <th>Share of total values owned by top 10% persons</th>\n",
       "      <th>Share of total values owned by top 10% firms</th>\n",
       "      <th>Share of total values owned by top 1% owners</th>\n",
       "      <th>Share of total values owned by top 1% persons</th>\n",
       "      <th>Share of total values owned by top 1% firms</th>\n",
       "    </tr>\n",
       "    <tr>\n",
       "      <th>Country</th>\n",
       "      <th></th>\n",
       "      <th></th>\n",
       "      <th></th>\n",
       "      <th></th>\n",
       "      <th></th>\n",
       "      <th></th>\n",
       "      <th></th>\n",
       "      <th></th>\n",
       "      <th></th>\n",
       "      <th></th>\n",
       "      <th></th>\n",
       "      <th></th>\n",
       "      <th></th>\n",
       "      <th></th>\n",
       "      <th></th>\n",
       "      <th></th>\n",
       "      <th></th>\n",
       "      <th></th>\n",
       "      <th></th>\n",
       "      <th></th>\n",
       "      <th></th>\n",
       "    </tr>\n",
       "  </thead>\n",
       "  <tbody>\n",
       "    <tr>\n",
       "      <th>Afghanistan</th>\n",
       "      <td>1134.0000</td>\n",
       "      <td>3220.0000</td>\n",
       "      <td>USD 1,410,029,024</td>\n",
       "      <td>1.810000e+10</td>\n",
       "      <td>7.81%</td>\n",
       "      <td>USD 437,897</td>\n",
       "      <td>USD 252,006</td>\n",
       "      <td>0.0</td>\n",
       "      <td>45.4</td>\n",
       "      <td>1123.0000</td>\n",
       "      <td>...</td>\n",
       "      <td>98.0000</td>\n",
       "      <td>199.0000</td>\n",
       "      <td>352.0000</td>\n",
       "      <td>16.0</td>\n",
       "      <td>66%</td>\n",
       "      <td>66%</td>\n",
       "      <td>NaN</td>\n",
       "      <td>38%</td>\n",
       "      <td>38%</td>\n",
       "      <td>NaN</td>\n",
       "    </tr>\n",
       "    <tr>\n",
       "      <th>Albania</th>\n",
       "      <td>17.0000</td>\n",
       "      <td>19.0000</td>\n",
       "      <td>USD 6,762,555</td>\n",
       "      <td>1.520000e+10</td>\n",
       "      <td>0.04%</td>\n",
       "      <td>USD 355,924</td>\n",
       "      <td>USD 325,745</td>\n",
       "      <td>0.0</td>\n",
       "      <td>40.4</td>\n",
       "      <td>16.0000</td>\n",
       "      <td>...</td>\n",
       "      <td>4.9998</td>\n",
       "      <td>4.9998</td>\n",
       "      <td>4.9998</td>\n",
       "      <td>0.0</td>\n",
       "      <td>79%</td>\n",
       "      <td>79%</td>\n",
       "      <td>NaN</td>\n",
       "      <td>56%</td>\n",
       "      <td>56%</td>\n",
       "      <td>NaN</td>\n",
       "    </tr>\n",
       "    <tr>\n",
       "      <th>Algeria</th>\n",
       "      <td>790.0000</td>\n",
       "      <td>1539.0000</td>\n",
       "      <td>USD 450,011,530</td>\n",
       "      <td>1.750000e+11</td>\n",
       "      <td>0.26%</td>\n",
       "      <td>USD 292,405</td>\n",
       "      <td>USD 196,108</td>\n",
       "      <td>0.0</td>\n",
       "      <td>48.8</td>\n",
       "      <td>787.0000</td>\n",
       "      <td>...</td>\n",
       "      <td>173.0000</td>\n",
       "      <td>27.0000</td>\n",
       "      <td>131.0000</td>\n",
       "      <td>0.0</td>\n",
       "      <td>54%</td>\n",
       "      <td>54%</td>\n",
       "      <td>NaN</td>\n",
       "      <td>25%</td>\n",
       "      <td>25%</td>\n",
       "      <td>NaN</td>\n",
       "    </tr>\n",
       "    <tr>\n",
       "      <th>American Samoa</th>\n",
       "      <td>4.9998</td>\n",
       "      <td>9.0000</td>\n",
       "      <td>USD 10,082,724</td>\n",
       "      <td>6.390000e+08</td>\n",
       "      <td>1.58%</td>\n",
       "      <td>USD 1,120,303</td>\n",
       "      <td>USD 844,572</td>\n",
       "      <td>0.0</td>\n",
       "      <td>57.5</td>\n",
       "      <td>4.9998</td>\n",
       "      <td>...</td>\n",
       "      <td>0.0000</td>\n",
       "      <td>0.0000</td>\n",
       "      <td>0.0000</td>\n",
       "      <td>0.0</td>\n",
       "      <td>93%</td>\n",
       "      <td>93%</td>\n",
       "      <td>NaN</td>\n",
       "      <td>93%</td>\n",
       "      <td>93%</td>\n",
       "      <td>NaN</td>\n",
       "    </tr>\n",
       "    <tr>\n",
       "      <th>Andorra</th>\n",
       "      <td>4.9998</td>\n",
       "      <td>4.9998</td>\n",
       "      <td>USD 243,222</td>\n",
       "      <td>3.220000e+09</td>\n",
       "      <td>0.01%</td>\n",
       "      <td>NaN</td>\n",
       "      <td>NaN</td>\n",
       "      <td>0.0</td>\n",
       "      <td>54.0</td>\n",
       "      <td>4.9998</td>\n",
       "      <td>...</td>\n",
       "      <td>4.9998</td>\n",
       "      <td>0.0000</td>\n",
       "      <td>0.0000</td>\n",
       "      <td>0.0</td>\n",
       "      <td>100%</td>\n",
       "      <td>100%</td>\n",
       "      <td>NaN</td>\n",
       "      <td>100%</td>\n",
       "      <td>100%</td>\n",
       "      <td>NaN</td>\n",
       "    </tr>\n",
       "  </tbody>\n",
       "</table>\n",
       "<p>5 rows × 26 columns</p>\n",
       "</div>"
      ],
      "text/plain": [
       "                Unique Owners  Unique Properties Total Property Values  \\\n",
       "Country                                                                  \n",
       "Afghanistan         1134.0000          3220.0000     USD 1,410,029,024   \n",
       "Albania               17.0000            19.0000         USD 6,762,555   \n",
       "Algeria              790.0000          1539.0000       USD 450,011,530   \n",
       "American Samoa         4.9998             9.0000        USD 10,082,724   \n",
       "Andorra                4.9998             4.9998           USD 243,222   \n",
       "\n",
       "                GDP (current USD, 2018 or latest available - for coverage)  \\\n",
       "Country                                                                      \n",
       "Afghanistan                                          1.810000e+10            \n",
       "Albania                                              1.520000e+10            \n",
       "Algeria                                              1.750000e+11            \n",
       "American Samoa                                       6.390000e+08            \n",
       "Andorra                                              3.220000e+09            \n",
       "\n",
       "               Total Property Value / GDP Mean Property value  \\\n",
       "Country                                                         \n",
       "Afghanistan                         7.81%         USD 437,897   \n",
       "Albania                             0.04%         USD 355,924   \n",
       "Algeria                             0.26%         USD 292,405   \n",
       "American Samoa                      1.58%       USD 1,120,303   \n",
       "Andorra                             0.01%                 NaN   \n",
       "\n",
       "               Median Property Value  Number of firms  Mean Age  \\\n",
       "Country                                                           \n",
       "Afghanistan              USD 252,006              0.0      45.4   \n",
       "Albania                  USD 325,745              0.0      40.4   \n",
       "Algeria                  USD 196,108              0.0      48.8   \n",
       "American Samoa           USD 844,572              0.0      57.5   \n",
       "Andorra                          NaN              0.0      54.0   \n",
       "\n",
       "                Number with age variable  ...  Properties in Dubai Marina  \\\n",
       "Country                                   ...                               \n",
       "Afghanistan                    1123.0000  ...                     98.0000   \n",
       "Albania                          16.0000  ...                      4.9998   \n",
       "Algeria                         787.0000  ...                    173.0000   \n",
       "American Samoa                    4.9998  ...                      0.0000   \n",
       "Andorra                           4.9998  ...                      4.9998   \n",
       "\n",
       "                Properties in Palm Jumeirah  Number of villas  \\\n",
       "Country                                                         \n",
       "Afghanistan                        199.0000          352.0000   \n",
       "Albania                              4.9998            4.9998   \n",
       "Algeria                             27.0000          131.0000   \n",
       "American Samoa                       0.0000            0.0000   \n",
       "Andorra                              0.0000            0.0000   \n",
       "\n",
       "               Number of buildings  \\\n",
       "Country                              \n",
       "Afghanistan                   16.0   \n",
       "Albania                        0.0   \n",
       "Algeria                        0.0   \n",
       "American Samoa                 0.0   \n",
       "Andorra                        0.0   \n",
       "\n",
       "                Share of total values owned by top 10% owners  \\\n",
       "Country                                                         \n",
       "Afghanistan                                               66%   \n",
       "Albania                                                   79%   \n",
       "Algeria                                                   54%   \n",
       "American Samoa                                            93%   \n",
       "Andorra                                                  100%   \n",
       "\n",
       "                Share of total values owned by top 10% persons  \\\n",
       "Country                                                          \n",
       "Afghanistan                                                66%   \n",
       "Albania                                                    79%   \n",
       "Algeria                                                    54%   \n",
       "American Samoa                                             93%   \n",
       "Andorra                                                   100%   \n",
       "\n",
       "                Share of total values owned by top 10% firms  \\\n",
       "Country                                                        \n",
       "Afghanistan                                              NaN   \n",
       "Albania                                                  NaN   \n",
       "Algeria                                                  NaN   \n",
       "American Samoa                                           NaN   \n",
       "Andorra                                                  NaN   \n",
       "\n",
       "                Share of total values owned by top 1% owners  \\\n",
       "Country                                                        \n",
       "Afghanistan                                              38%   \n",
       "Albania                                                  56%   \n",
       "Algeria                                                  25%   \n",
       "American Samoa                                           93%   \n",
       "Andorra                                                 100%   \n",
       "\n",
       "                Share of total values owned by top 1% persons  \\\n",
       "Country                                                         \n",
       "Afghanistan                                               38%   \n",
       "Albania                                                   56%   \n",
       "Algeria                                                   25%   \n",
       "American Samoa                                            93%   \n",
       "Andorra                                                  100%   \n",
       "\n",
       "                Share of total values owned by top 1% firms  \n",
       "Country                                                      \n",
       "Afghanistan                                             NaN  \n",
       "Albania                                                 NaN  \n",
       "Algeria                                                 NaN  \n",
       "American Samoa                                          NaN  \n",
       "Andorra                                                 NaN  \n",
       "\n",
       "[5 rows x 26 columns]"
      ]
     },
     "execution_count": 4,
     "metadata": {},
     "output_type": "execute_result"
    }
   ],
   "source": [
    "data = data.set_index('Country') # set index\n",
    "data = data.iloc[1:] # delete the first row\n",
    "data.head()"
   ]
  },
  {
   "cell_type": "code",
   "execution_count": 5,
   "id": "9dad8252",
   "metadata": {
    "deletable": false,
    "editable": false
   },
   "outputs": [
    {
     "data": {
      "text/html": [
       "<p><strong><pre style='display: inline;'>q1_1</pre></strong> passed! ✨</p>"
      ],
      "text/plain": [
       "q1_1 results: All test cases passed!"
      ]
     },
     "execution_count": 5,
     "metadata": {},
     "output_type": "execute_result"
    }
   ],
   "source": [
    "grader.check(\"q1_1\")"
   ]
  },
  {
   "cell_type": "markdown",
   "id": "af11cef6-7ee1-4d3f-bce5-dc7e4292be96",
   "metadata": {},
   "source": [
    "Now, let's take a look at the following columns:"
   ]
  },
  {
   "cell_type": "code",
   "execution_count": 6,
   "id": "2bd714ff-2371-4943-a6e2-4cc7ea4783d0",
   "metadata": {},
   "outputs": [
    {
     "data": {
      "text/html": [
       "<div>\n",
       "<style scoped>\n",
       "    .dataframe tbody tr th:only-of-type {\n",
       "        vertical-align: middle;\n",
       "    }\n",
       "\n",
       "    .dataframe tbody tr th {\n",
       "        vertical-align: top;\n",
       "    }\n",
       "\n",
       "    .dataframe thead th {\n",
       "        text-align: right;\n",
       "    }\n",
       "</style>\n",
       "<table border=\"1\" class=\"dataframe\">\n",
       "  <thead>\n",
       "    <tr style=\"text-align: right;\">\n",
       "      <th></th>\n",
       "      <th>Total Property Value / GDP</th>\n",
       "      <th>Female share</th>\n",
       "      <th>Share of total values owned by top 10% owners</th>\n",
       "      <th>Share of total values owned by top 10% persons</th>\n",
       "      <th>Share of total values owned by top 10% firms</th>\n",
       "      <th>Share of total values owned by top 1% owners</th>\n",
       "      <th>Share of total values owned by top 1% persons</th>\n",
       "      <th>Share of total values owned by top 1% firms</th>\n",
       "    </tr>\n",
       "    <tr>\n",
       "      <th>Country</th>\n",
       "      <th></th>\n",
       "      <th></th>\n",
       "      <th></th>\n",
       "      <th></th>\n",
       "      <th></th>\n",
       "      <th></th>\n",
       "      <th></th>\n",
       "      <th></th>\n",
       "    </tr>\n",
       "  </thead>\n",
       "  <tbody>\n",
       "    <tr>\n",
       "      <th>Afghanistan</th>\n",
       "      <td>7.81%</td>\n",
       "      <td>17%</td>\n",
       "      <td>66%</td>\n",
       "      <td>66%</td>\n",
       "      <td>NaN</td>\n",
       "      <td>38%</td>\n",
       "      <td>38%</td>\n",
       "      <td>NaN</td>\n",
       "    </tr>\n",
       "    <tr>\n",
       "      <th>Albania</th>\n",
       "      <td>0.04%</td>\n",
       "      <td>56%</td>\n",
       "      <td>79%</td>\n",
       "      <td>79%</td>\n",
       "      <td>NaN</td>\n",
       "      <td>56%</td>\n",
       "      <td>56%</td>\n",
       "      <td>NaN</td>\n",
       "    </tr>\n",
       "    <tr>\n",
       "      <th>Algeria</th>\n",
       "      <td>0.26%</td>\n",
       "      <td>29%</td>\n",
       "      <td>54%</td>\n",
       "      <td>54%</td>\n",
       "      <td>NaN</td>\n",
       "      <td>25%</td>\n",
       "      <td>25%</td>\n",
       "      <td>NaN</td>\n",
       "    </tr>\n",
       "    <tr>\n",
       "      <th>American Samoa</th>\n",
       "      <td>1.58%</td>\n",
       "      <td>NaN</td>\n",
       "      <td>93%</td>\n",
       "      <td>93%</td>\n",
       "      <td>NaN</td>\n",
       "      <td>93%</td>\n",
       "      <td>93%</td>\n",
       "      <td>NaN</td>\n",
       "    </tr>\n",
       "    <tr>\n",
       "      <th>Andorra</th>\n",
       "      <td>0.01%</td>\n",
       "      <td>NaN</td>\n",
       "      <td>100%</td>\n",
       "      <td>100%</td>\n",
       "      <td>NaN</td>\n",
       "      <td>100%</td>\n",
       "      <td>100%</td>\n",
       "      <td>NaN</td>\n",
       "    </tr>\n",
       "    <tr>\n",
       "      <th>...</th>\n",
       "      <td>...</td>\n",
       "      <td>...</td>\n",
       "      <td>...</td>\n",
       "      <td>...</td>\n",
       "      <td>...</td>\n",
       "      <td>...</td>\n",
       "      <td>...</td>\n",
       "      <td>...</td>\n",
       "    </tr>\n",
       "    <tr>\n",
       "      <th>Venezuela</th>\n",
       "      <td>0.01%</td>\n",
       "      <td>29%</td>\n",
       "      <td>45%</td>\n",
       "      <td>45%</td>\n",
       "      <td>NaN</td>\n",
       "      <td>9%</td>\n",
       "      <td>9%</td>\n",
       "      <td>NaN</td>\n",
       "    </tr>\n",
       "    <tr>\n",
       "      <th>Vietnam</th>\n",
       "      <td>0.00%</td>\n",
       "      <td>68%</td>\n",
       "      <td>31%</td>\n",
       "      <td>31%</td>\n",
       "      <td>NaN</td>\n",
       "      <td>13%</td>\n",
       "      <td>13%</td>\n",
       "      <td>NaN</td>\n",
       "    </tr>\n",
       "    <tr>\n",
       "      <th>Yemen</th>\n",
       "      <td>4.83%</td>\n",
       "      <td>25%</td>\n",
       "      <td>67%</td>\n",
       "      <td>67%</td>\n",
       "      <td>NaN</td>\n",
       "      <td>34%</td>\n",
       "      <td>34%</td>\n",
       "      <td>NaN</td>\n",
       "    </tr>\n",
       "    <tr>\n",
       "      <th>Zambia</th>\n",
       "      <td>0.08%</td>\n",
       "      <td>29%</td>\n",
       "      <td>39%</td>\n",
       "      <td>39%</td>\n",
       "      <td>NaN</td>\n",
       "      <td>12%</td>\n",
       "      <td>12%</td>\n",
       "      <td>NaN</td>\n",
       "    </tr>\n",
       "    <tr>\n",
       "      <th>Zimbabwe</th>\n",
       "      <td>0.21%</td>\n",
       "      <td>24%</td>\n",
       "      <td>45%</td>\n",
       "      <td>45%</td>\n",
       "      <td>NaN</td>\n",
       "      <td>9%</td>\n",
       "      <td>9%</td>\n",
       "      <td>NaN</td>\n",
       "    </tr>\n",
       "  </tbody>\n",
       "</table>\n",
       "<p>197 rows × 8 columns</p>\n",
       "</div>"
      ],
      "text/plain": [
       "               Total Property Value / GDP Female share  \\\n",
       "Country                                                  \n",
       "Afghanistan                         7.81%          17%   \n",
       "Albania                             0.04%          56%   \n",
       "Algeria                             0.26%          29%   \n",
       "American Samoa                      1.58%          NaN   \n",
       "Andorra                             0.01%          NaN   \n",
       "...                                   ...          ...   \n",
       "Venezuela                           0.01%          29%   \n",
       "Vietnam                             0.00%          68%   \n",
       "Yemen                               4.83%          25%   \n",
       "Zambia                              0.08%          29%   \n",
       "Zimbabwe                            0.21%          24%   \n",
       "\n",
       "               Share of total values owned by top 10% owners  \\\n",
       "Country                                                        \n",
       "Afghanistan                                              66%   \n",
       "Albania                                                  79%   \n",
       "Algeria                                                  54%   \n",
       "American Samoa                                           93%   \n",
       "Andorra                                                 100%   \n",
       "...                                                      ...   \n",
       "Venezuela                                                45%   \n",
       "Vietnam                                                  31%   \n",
       "Yemen                                                    67%   \n",
       "Zambia                                                   39%   \n",
       "Zimbabwe                                                 45%   \n",
       "\n",
       "               Share of total values owned by top 10% persons  \\\n",
       "Country                                                         \n",
       "Afghanistan                                               66%   \n",
       "Albania                                                   79%   \n",
       "Algeria                                                   54%   \n",
       "American Samoa                                            93%   \n",
       "Andorra                                                  100%   \n",
       "...                                                       ...   \n",
       "Venezuela                                                 45%   \n",
       "Vietnam                                                   31%   \n",
       "Yemen                                                     67%   \n",
       "Zambia                                                    39%   \n",
       "Zimbabwe                                                  45%   \n",
       "\n",
       "               Share of total values owned by top 10% firms  \\\n",
       "Country                                                       \n",
       "Afghanistan                                             NaN   \n",
       "Albania                                                 NaN   \n",
       "Algeria                                                 NaN   \n",
       "American Samoa                                          NaN   \n",
       "Andorra                                                 NaN   \n",
       "...                                                     ...   \n",
       "Venezuela                                               NaN   \n",
       "Vietnam                                                 NaN   \n",
       "Yemen                                                   NaN   \n",
       "Zambia                                                  NaN   \n",
       "Zimbabwe                                                NaN   \n",
       "\n",
       "               Share of total values owned by top 1% owners  \\\n",
       "Country                                                       \n",
       "Afghanistan                                             38%   \n",
       "Albania                                                 56%   \n",
       "Algeria                                                 25%   \n",
       "American Samoa                                          93%   \n",
       "Andorra                                                100%   \n",
       "...                                                     ...   \n",
       "Venezuela                                                9%   \n",
       "Vietnam                                                 13%   \n",
       "Yemen                                                   34%   \n",
       "Zambia                                                  12%   \n",
       "Zimbabwe                                                 9%   \n",
       "\n",
       "               Share of total values owned by top 1% persons  \\\n",
       "Country                                                        \n",
       "Afghanistan                                              38%   \n",
       "Albania                                                  56%   \n",
       "Algeria                                                  25%   \n",
       "American Samoa                                           93%   \n",
       "Andorra                                                 100%   \n",
       "...                                                      ...   \n",
       "Venezuela                                                 9%   \n",
       "Vietnam                                                  13%   \n",
       "Yemen                                                    34%   \n",
       "Zambia                                                   12%   \n",
       "Zimbabwe                                                  9%   \n",
       "\n",
       "               Share of total values owned by top 1% firms  \n",
       "Country                                                     \n",
       "Afghanistan                                            NaN  \n",
       "Albania                                                NaN  \n",
       "Algeria                                                NaN  \n",
       "American Samoa                                         NaN  \n",
       "Andorra                                                NaN  \n",
       "...                                                    ...  \n",
       "Venezuela                                              NaN  \n",
       "Vietnam                                                NaN  \n",
       "Yemen                                                  NaN  \n",
       "Zambia                                                 NaN  \n",
       "Zimbabwe                                               NaN  \n",
       "\n",
       "[197 rows x 8 columns]"
      ]
     },
     "execution_count": 6,
     "metadata": {},
     "output_type": "execute_result"
    }
   ],
   "source": [
    "data[['Total Property Value / GDP', 'Female share', 'Share of total values owned by top 10% owners', \n",
    "            'Share of total values owned by top 10% persons','Share of total values owned by top 10% firms',\n",
    "           'Share of total values owned by top 1% owners', 'Share of total values owned by top 1% persons',\n",
    "           'Share of total values owned by top 1% firms']]"
   ]
  },
  {
   "cell_type": "markdown",
   "id": "246c3a97-106b-4c22-baeb-bb4e6fdd002b",
   "metadata": {},
   "source": [
    "As you can see, the data is written in percents. Since the software can only plot numbers, the percentages will need to be converted to a number out of 100. A similar problem can also be seen below:"
   ]
  },
  {
   "cell_type": "code",
   "execution_count": 7,
   "id": "66697699-94ef-40ff-aed6-ade1712d00ed",
   "metadata": {},
   "outputs": [
    {
     "data": {
      "text/html": [
       "<div>\n",
       "<style scoped>\n",
       "    .dataframe tbody tr th:only-of-type {\n",
       "        vertical-align: middle;\n",
       "    }\n",
       "\n",
       "    .dataframe tbody tr th {\n",
       "        vertical-align: top;\n",
       "    }\n",
       "\n",
       "    .dataframe thead th {\n",
       "        text-align: right;\n",
       "    }\n",
       "</style>\n",
       "<table border=\"1\" class=\"dataframe\">\n",
       "  <thead>\n",
       "    <tr style=\"text-align: right;\">\n",
       "      <th></th>\n",
       "      <th>Total Property Values</th>\n",
       "      <th>Mean Property value</th>\n",
       "      <th>Median Property Value</th>\n",
       "    </tr>\n",
       "    <tr>\n",
       "      <th>Country</th>\n",
       "      <th></th>\n",
       "      <th></th>\n",
       "      <th></th>\n",
       "    </tr>\n",
       "  </thead>\n",
       "  <tbody>\n",
       "    <tr>\n",
       "      <th>Afghanistan</th>\n",
       "      <td>USD 1,410,029,024</td>\n",
       "      <td>USD 437,897</td>\n",
       "      <td>USD 252,006</td>\n",
       "    </tr>\n",
       "    <tr>\n",
       "      <th>Albania</th>\n",
       "      <td>USD 6,762,555</td>\n",
       "      <td>USD 355,924</td>\n",
       "      <td>USD 325,745</td>\n",
       "    </tr>\n",
       "    <tr>\n",
       "      <th>Algeria</th>\n",
       "      <td>USD 450,011,530</td>\n",
       "      <td>USD 292,405</td>\n",
       "      <td>USD 196,108</td>\n",
       "    </tr>\n",
       "    <tr>\n",
       "      <th>American Samoa</th>\n",
       "      <td>USD 10,082,724</td>\n",
       "      <td>USD 1,120,303</td>\n",
       "      <td>USD 844,572</td>\n",
       "    </tr>\n",
       "    <tr>\n",
       "      <th>Andorra</th>\n",
       "      <td>USD 243,222</td>\n",
       "      <td>NaN</td>\n",
       "      <td>NaN</td>\n",
       "    </tr>\n",
       "    <tr>\n",
       "      <th>...</th>\n",
       "      <td>...</td>\n",
       "      <td>...</td>\n",
       "      <td>...</td>\n",
       "    </tr>\n",
       "    <tr>\n",
       "      <th>Venezuela</th>\n",
       "      <td>USD 45,244,832</td>\n",
       "      <td>USD 435,046</td>\n",
       "      <td>USD 267,746</td>\n",
       "    </tr>\n",
       "    <tr>\n",
       "      <th>Vietnam</th>\n",
       "      <td>USD 7,910,712</td>\n",
       "      <td>USD 316,429</td>\n",
       "      <td>USD 320,063</td>\n",
       "    </tr>\n",
       "    <tr>\n",
       "      <th>Yemen</th>\n",
       "      <td>USD 1,043,509,028</td>\n",
       "      <td>USD 287,468</td>\n",
       "      <td>USD 162,415</td>\n",
       "    </tr>\n",
       "    <tr>\n",
       "      <th>Zambia</th>\n",
       "      <td>USD 19,746,787</td>\n",
       "      <td>USD 207,861</td>\n",
       "      <td>USD 168,948</td>\n",
       "    </tr>\n",
       "    <tr>\n",
       "      <th>Zimbabwe</th>\n",
       "      <td>USD 38,475,874</td>\n",
       "      <td>USD 302,960</td>\n",
       "      <td>USD 162,415</td>\n",
       "    </tr>\n",
       "  </tbody>\n",
       "</table>\n",
       "<p>197 rows × 3 columns</p>\n",
       "</div>"
      ],
      "text/plain": [
       "               Total Property Values Mean Property value Median Property Value\n",
       "Country                                                                       \n",
       "Afghanistan        USD 1,410,029,024         USD 437,897           USD 252,006\n",
       "Albania                USD 6,762,555         USD 355,924           USD 325,745\n",
       "Algeria              USD 450,011,530         USD 292,405           USD 196,108\n",
       "American Samoa        USD 10,082,724       USD 1,120,303           USD 844,572\n",
       "Andorra                  USD 243,222                 NaN                   NaN\n",
       "...                              ...                 ...                   ...\n",
       "Venezuela             USD 45,244,832         USD 435,046           USD 267,746\n",
       "Vietnam                USD 7,910,712         USD 316,429           USD 320,063\n",
       "Yemen              USD 1,043,509,028         USD 287,468           USD 162,415\n",
       "Zambia                USD 19,746,787         USD 207,861           USD 168,948\n",
       "Zimbabwe              USD 38,475,874         USD 302,960           USD 162,415\n",
       "\n",
       "[197 rows x 3 columns]"
      ]
     },
     "execution_count": 7,
     "metadata": {},
     "output_type": "execute_result"
    }
   ],
   "source": [
    "data[['Total Property Values', 'Mean Property value', 'Median Property Value']]"
   ]
  },
  {
   "cell_type": "markdown",
   "id": "b75fe43a-cd2e-4c76-894e-5e23c34e04f3",
   "metadata": {},
   "source": [
    "In this case, the letters 'USD', commas and spaces will need to be removed from the above rows so the data can be read as numbers."
   ]
  },
  {
   "cell_type": "markdown",
   "id": "b47390b5-5777-4726-bdfb-c742381855aa",
   "metadata": {
    "deletable": false,
    "editable": false
   },
   "source": [
    "**Question 1.2:** Fix the issues described above by converting the given columns to numbers. Once you have converted the columns to numbers, change the datatype of all the columns to be `float64`.\n",
    "\n",
    "For example, we want to convert \"7.81%\" to \"7.81\", \"USD 1,410,029,024\" to \"1410029024\". \n",
    "\n",
    "*Hint 1:* Consider using string methods like we did in project 1.   \n",
    "*Hint 2:* You can get part of a string by slicing a string like we did in Lab 5. We can do this on a column in a dataframe using the string method. This [tutorial](https://note.nkmk.me/en/python-pandas-str-slice/) may be helpful. "
   ]
  },
  {
   "cell_type": "code",
   "execution_count": 8,
   "id": "81303763-d113-4421-82b7-d59e6d2fd2ca",
   "metadata": {
    "tags": []
   },
   "outputs": [
    {
     "data": {
      "text/html": [
       "<div>\n",
       "<style scoped>\n",
       "    .dataframe tbody tr th:only-of-type {\n",
       "        vertical-align: middle;\n",
       "    }\n",
       "\n",
       "    .dataframe tbody tr th {\n",
       "        vertical-align: top;\n",
       "    }\n",
       "\n",
       "    .dataframe thead th {\n",
       "        text-align: right;\n",
       "    }\n",
       "</style>\n",
       "<table border=\"1\" class=\"dataframe\">\n",
       "  <thead>\n",
       "    <tr style=\"text-align: right;\">\n",
       "      <th></th>\n",
       "      <th>Unique Owners</th>\n",
       "      <th>Unique Properties</th>\n",
       "      <th>Total Property Values</th>\n",
       "      <th>GDP (current USD, 2018 or latest available - for coverage)</th>\n",
       "      <th>Total Property Value / GDP</th>\n",
       "      <th>Mean Property value</th>\n",
       "      <th>Median Property Value</th>\n",
       "      <th>Number of firms</th>\n",
       "      <th>Mean Age</th>\n",
       "      <th>Number with age variable</th>\n",
       "      <th>...</th>\n",
       "      <th>Properties in Dubai Marina</th>\n",
       "      <th>Properties in Palm Jumeirah</th>\n",
       "      <th>Number of villas</th>\n",
       "      <th>Number of buildings</th>\n",
       "      <th>Share of total values owned by top 10% owners</th>\n",
       "      <th>Share of total values owned by top 10% persons</th>\n",
       "      <th>Share of total values owned by top 10% firms</th>\n",
       "      <th>Share of total values owned by top 1% owners</th>\n",
       "      <th>Share of total values owned by top 1% persons</th>\n",
       "      <th>Share of total values owned by top 1% firms</th>\n",
       "    </tr>\n",
       "    <tr>\n",
       "      <th>Country</th>\n",
       "      <th></th>\n",
       "      <th></th>\n",
       "      <th></th>\n",
       "      <th></th>\n",
       "      <th></th>\n",
       "      <th></th>\n",
       "      <th></th>\n",
       "      <th></th>\n",
       "      <th></th>\n",
       "      <th></th>\n",
       "      <th></th>\n",
       "      <th></th>\n",
       "      <th></th>\n",
       "      <th></th>\n",
       "      <th></th>\n",
       "      <th></th>\n",
       "      <th></th>\n",
       "      <th></th>\n",
       "      <th></th>\n",
       "      <th></th>\n",
       "      <th></th>\n",
       "    </tr>\n",
       "  </thead>\n",
       "  <tbody>\n",
       "    <tr>\n",
       "      <th>Afghanistan</th>\n",
       "      <td>1134.0000</td>\n",
       "      <td>3220.0000</td>\n",
       "      <td>1.410029e+09</td>\n",
       "      <td>1.810000e+10</td>\n",
       "      <td>7.81</td>\n",
       "      <td>437897.0</td>\n",
       "      <td>252006.0</td>\n",
       "      <td>0.0</td>\n",
       "      <td>45.4</td>\n",
       "      <td>1123.0000</td>\n",
       "      <td>...</td>\n",
       "      <td>98.0000</td>\n",
       "      <td>199.0000</td>\n",
       "      <td>352.0000</td>\n",
       "      <td>16.0</td>\n",
       "      <td>66.0</td>\n",
       "      <td>66.0</td>\n",
       "      <td>NaN</td>\n",
       "      <td>38.0</td>\n",
       "      <td>38.0</td>\n",
       "      <td>NaN</td>\n",
       "    </tr>\n",
       "    <tr>\n",
       "      <th>Albania</th>\n",
       "      <td>17.0000</td>\n",
       "      <td>19.0000</td>\n",
       "      <td>6.762555e+06</td>\n",
       "      <td>1.520000e+10</td>\n",
       "      <td>0.04</td>\n",
       "      <td>355924.0</td>\n",
       "      <td>325745.0</td>\n",
       "      <td>0.0</td>\n",
       "      <td>40.4</td>\n",
       "      <td>16.0000</td>\n",
       "      <td>...</td>\n",
       "      <td>4.9998</td>\n",
       "      <td>4.9998</td>\n",
       "      <td>4.9998</td>\n",
       "      <td>0.0</td>\n",
       "      <td>79.0</td>\n",
       "      <td>79.0</td>\n",
       "      <td>NaN</td>\n",
       "      <td>56.0</td>\n",
       "      <td>56.0</td>\n",
       "      <td>NaN</td>\n",
       "    </tr>\n",
       "    <tr>\n",
       "      <th>Algeria</th>\n",
       "      <td>790.0000</td>\n",
       "      <td>1539.0000</td>\n",
       "      <td>4.500115e+08</td>\n",
       "      <td>1.750000e+11</td>\n",
       "      <td>0.26</td>\n",
       "      <td>292405.0</td>\n",
       "      <td>196108.0</td>\n",
       "      <td>0.0</td>\n",
       "      <td>48.8</td>\n",
       "      <td>787.0000</td>\n",
       "      <td>...</td>\n",
       "      <td>173.0000</td>\n",
       "      <td>27.0000</td>\n",
       "      <td>131.0000</td>\n",
       "      <td>0.0</td>\n",
       "      <td>54.0</td>\n",
       "      <td>54.0</td>\n",
       "      <td>NaN</td>\n",
       "      <td>25.0</td>\n",
       "      <td>25.0</td>\n",
       "      <td>NaN</td>\n",
       "    </tr>\n",
       "    <tr>\n",
       "      <th>American Samoa</th>\n",
       "      <td>4.9998</td>\n",
       "      <td>9.0000</td>\n",
       "      <td>1.008272e+07</td>\n",
       "      <td>6.390000e+08</td>\n",
       "      <td>1.58</td>\n",
       "      <td>1120303.0</td>\n",
       "      <td>844572.0</td>\n",
       "      <td>0.0</td>\n",
       "      <td>57.5</td>\n",
       "      <td>4.9998</td>\n",
       "      <td>...</td>\n",
       "      <td>0.0000</td>\n",
       "      <td>0.0000</td>\n",
       "      <td>0.0000</td>\n",
       "      <td>0.0</td>\n",
       "      <td>93.0</td>\n",
       "      <td>93.0</td>\n",
       "      <td>NaN</td>\n",
       "      <td>93.0</td>\n",
       "      <td>93.0</td>\n",
       "      <td>NaN</td>\n",
       "    </tr>\n",
       "    <tr>\n",
       "      <th>Andorra</th>\n",
       "      <td>4.9998</td>\n",
       "      <td>4.9998</td>\n",
       "      <td>2.432220e+05</td>\n",
       "      <td>3.220000e+09</td>\n",
       "      <td>0.01</td>\n",
       "      <td>NaN</td>\n",
       "      <td>NaN</td>\n",
       "      <td>0.0</td>\n",
       "      <td>54.0</td>\n",
       "      <td>4.9998</td>\n",
       "      <td>...</td>\n",
       "      <td>4.9998</td>\n",
       "      <td>0.0000</td>\n",
       "      <td>0.0000</td>\n",
       "      <td>0.0</td>\n",
       "      <td>100.0</td>\n",
       "      <td>100.0</td>\n",
       "      <td>NaN</td>\n",
       "      <td>100.0</td>\n",
       "      <td>100.0</td>\n",
       "      <td>NaN</td>\n",
       "    </tr>\n",
       "    <tr>\n",
       "      <th>...</th>\n",
       "      <td>...</td>\n",
       "      <td>...</td>\n",
       "      <td>...</td>\n",
       "      <td>...</td>\n",
       "      <td>...</td>\n",
       "      <td>...</td>\n",
       "      <td>...</td>\n",
       "      <td>...</td>\n",
       "      <td>...</td>\n",
       "      <td>...</td>\n",
       "      <td>...</td>\n",
       "      <td>...</td>\n",
       "      <td>...</td>\n",
       "      <td>...</td>\n",
       "      <td>...</td>\n",
       "      <td>...</td>\n",
       "      <td>...</td>\n",
       "      <td>...</td>\n",
       "      <td>...</td>\n",
       "      <td>...</td>\n",
       "      <td>...</td>\n",
       "    </tr>\n",
       "    <tr>\n",
       "      <th>Venezuela</th>\n",
       "      <td>77.0000</td>\n",
       "      <td>104.0000</td>\n",
       "      <td>4.524483e+07</td>\n",
       "      <td>4.820000e+11</td>\n",
       "      <td>0.01</td>\n",
       "      <td>435046.0</td>\n",
       "      <td>267746.0</td>\n",
       "      <td>0.0</td>\n",
       "      <td>45.4</td>\n",
       "      <td>77.0000</td>\n",
       "      <td>...</td>\n",
       "      <td>9.0000</td>\n",
       "      <td>0.0000</td>\n",
       "      <td>14.0000</td>\n",
       "      <td>0.0</td>\n",
       "      <td>45.0</td>\n",
       "      <td>45.0</td>\n",
       "      <td>NaN</td>\n",
       "      <td>9.0</td>\n",
       "      <td>9.0</td>\n",
       "      <td>NaN</td>\n",
       "    </tr>\n",
       "    <tr>\n",
       "      <th>Vietnam</th>\n",
       "      <td>22.0000</td>\n",
       "      <td>25.0000</td>\n",
       "      <td>7.910712e+06</td>\n",
       "      <td>2.450000e+11</td>\n",
       "      <td>0.00</td>\n",
       "      <td>316429.0</td>\n",
       "      <td>320063.0</td>\n",
       "      <td>0.0</td>\n",
       "      <td>42.7</td>\n",
       "      <td>22.0000</td>\n",
       "      <td>...</td>\n",
       "      <td>7.0000</td>\n",
       "      <td>4.9998</td>\n",
       "      <td>4.9998</td>\n",
       "      <td>0.0</td>\n",
       "      <td>31.0</td>\n",
       "      <td>31.0</td>\n",
       "      <td>NaN</td>\n",
       "      <td>13.0</td>\n",
       "      <td>13.0</td>\n",
       "      <td>NaN</td>\n",
       "    </tr>\n",
       "    <tr>\n",
       "      <th>Yemen</th>\n",
       "      <td>965.0000</td>\n",
       "      <td>3630.0000</td>\n",
       "      <td>1.043509e+09</td>\n",
       "      <td>2.160000e+10</td>\n",
       "      <td>4.83</td>\n",
       "      <td>287468.0</td>\n",
       "      <td>162415.0</td>\n",
       "      <td>0.0</td>\n",
       "      <td>49.4</td>\n",
       "      <td>962.0000</td>\n",
       "      <td>...</td>\n",
       "      <td>133.0000</td>\n",
       "      <td>45.0000</td>\n",
       "      <td>259.0000</td>\n",
       "      <td>12.0</td>\n",
       "      <td>67.0</td>\n",
       "      <td>67.0</td>\n",
       "      <td>NaN</td>\n",
       "      <td>34.0</td>\n",
       "      <td>34.0</td>\n",
       "      <td>NaN</td>\n",
       "    </tr>\n",
       "    <tr>\n",
       "      <th>Zambia</th>\n",
       "      <td>65.0000</td>\n",
       "      <td>95.0000</td>\n",
       "      <td>1.974679e+07</td>\n",
       "      <td>2.630000e+10</td>\n",
       "      <td>0.08</td>\n",
       "      <td>207861.0</td>\n",
       "      <td>168948.0</td>\n",
       "      <td>0.0</td>\n",
       "      <td>52.4</td>\n",
       "      <td>65.0000</td>\n",
       "      <td>...</td>\n",
       "      <td>4.9998</td>\n",
       "      <td>0.0000</td>\n",
       "      <td>5.0000</td>\n",
       "      <td>0.0</td>\n",
       "      <td>39.0</td>\n",
       "      <td>39.0</td>\n",
       "      <td>NaN</td>\n",
       "      <td>12.0</td>\n",
       "      <td>12.0</td>\n",
       "      <td>NaN</td>\n",
       "    </tr>\n",
       "    <tr>\n",
       "      <th>Zimbabwe</th>\n",
       "      <td>83.0000</td>\n",
       "      <td>127.0000</td>\n",
       "      <td>3.847587e+07</td>\n",
       "      <td>1.810000e+10</td>\n",
       "      <td>0.21</td>\n",
       "      <td>302960.0</td>\n",
       "      <td>162415.0</td>\n",
       "      <td>0.0</td>\n",
       "      <td>48.6</td>\n",
       "      <td>83.0000</td>\n",
       "      <td>...</td>\n",
       "      <td>5.0000</td>\n",
       "      <td>4.9998</td>\n",
       "      <td>19.0000</td>\n",
       "      <td>0.0</td>\n",
       "      <td>45.0</td>\n",
       "      <td>45.0</td>\n",
       "      <td>NaN</td>\n",
       "      <td>9.0</td>\n",
       "      <td>9.0</td>\n",
       "      <td>NaN</td>\n",
       "    </tr>\n",
       "  </tbody>\n",
       "</table>\n",
       "<p>197 rows × 26 columns</p>\n",
       "</div>"
      ],
      "text/plain": [
       "                Unique Owners  Unique Properties  Total Property Values  \\\n",
       "Country                                                                   \n",
       "Afghanistan         1134.0000          3220.0000           1.410029e+09   \n",
       "Albania               17.0000            19.0000           6.762555e+06   \n",
       "Algeria              790.0000          1539.0000           4.500115e+08   \n",
       "American Samoa         4.9998             9.0000           1.008272e+07   \n",
       "Andorra                4.9998             4.9998           2.432220e+05   \n",
       "...                       ...                ...                    ...   \n",
       "Venezuela             77.0000           104.0000           4.524483e+07   \n",
       "Vietnam               22.0000            25.0000           7.910712e+06   \n",
       "Yemen                965.0000          3630.0000           1.043509e+09   \n",
       "Zambia                65.0000            95.0000           1.974679e+07   \n",
       "Zimbabwe              83.0000           127.0000           3.847587e+07   \n",
       "\n",
       "                GDP (current USD, 2018 or latest available - for coverage)  \\\n",
       "Country                                                                      \n",
       "Afghanistan                                          1.810000e+10            \n",
       "Albania                                              1.520000e+10            \n",
       "Algeria                                              1.750000e+11            \n",
       "American Samoa                                       6.390000e+08            \n",
       "Andorra                                              3.220000e+09            \n",
       "...                                                           ...            \n",
       "Venezuela                                            4.820000e+11            \n",
       "Vietnam                                              2.450000e+11            \n",
       "Yemen                                                2.160000e+10            \n",
       "Zambia                                               2.630000e+10            \n",
       "Zimbabwe                                             1.810000e+10            \n",
       "\n",
       "                Total Property Value / GDP  Mean Property value  \\\n",
       "Country                                                           \n",
       "Afghanistan                           7.81             437897.0   \n",
       "Albania                               0.04             355924.0   \n",
       "Algeria                               0.26             292405.0   \n",
       "American Samoa                        1.58            1120303.0   \n",
       "Andorra                               0.01                  NaN   \n",
       "...                                    ...                  ...   \n",
       "Venezuela                             0.01             435046.0   \n",
       "Vietnam                               0.00             316429.0   \n",
       "Yemen                                 4.83             287468.0   \n",
       "Zambia                                0.08             207861.0   \n",
       "Zimbabwe                              0.21             302960.0   \n",
       "\n",
       "                Median Property Value  Number of firms  Mean Age  \\\n",
       "Country                                                            \n",
       "Afghanistan                  252006.0              0.0      45.4   \n",
       "Albania                      325745.0              0.0      40.4   \n",
       "Algeria                      196108.0              0.0      48.8   \n",
       "American Samoa               844572.0              0.0      57.5   \n",
       "Andorra                           NaN              0.0      54.0   \n",
       "...                               ...              ...       ...   \n",
       "Venezuela                    267746.0              0.0      45.4   \n",
       "Vietnam                      320063.0              0.0      42.7   \n",
       "Yemen                        162415.0              0.0      49.4   \n",
       "Zambia                       168948.0              0.0      52.4   \n",
       "Zimbabwe                     162415.0              0.0      48.6   \n",
       "\n",
       "                Number with age variable  ...  Properties in Dubai Marina  \\\n",
       "Country                                   ...                               \n",
       "Afghanistan                    1123.0000  ...                     98.0000   \n",
       "Albania                          16.0000  ...                      4.9998   \n",
       "Algeria                         787.0000  ...                    173.0000   \n",
       "American Samoa                    4.9998  ...                      0.0000   \n",
       "Andorra                           4.9998  ...                      4.9998   \n",
       "...                                  ...  ...                         ...   \n",
       "Venezuela                        77.0000  ...                      9.0000   \n",
       "Vietnam                          22.0000  ...                      7.0000   \n",
       "Yemen                           962.0000  ...                    133.0000   \n",
       "Zambia                           65.0000  ...                      4.9998   \n",
       "Zimbabwe                         83.0000  ...                      5.0000   \n",
       "\n",
       "                Properties in Palm Jumeirah  Number of villas  \\\n",
       "Country                                                         \n",
       "Afghanistan                        199.0000          352.0000   \n",
       "Albania                              4.9998            4.9998   \n",
       "Algeria                             27.0000          131.0000   \n",
       "American Samoa                       0.0000            0.0000   \n",
       "Andorra                              0.0000            0.0000   \n",
       "...                                     ...               ...   \n",
       "Venezuela                            0.0000           14.0000   \n",
       "Vietnam                              4.9998            4.9998   \n",
       "Yemen                               45.0000          259.0000   \n",
       "Zambia                               0.0000            5.0000   \n",
       "Zimbabwe                             4.9998           19.0000   \n",
       "\n",
       "                Number of buildings  \\\n",
       "Country                               \n",
       "Afghanistan                    16.0   \n",
       "Albania                         0.0   \n",
       "Algeria                         0.0   \n",
       "American Samoa                  0.0   \n",
       "Andorra                         0.0   \n",
       "...                             ...   \n",
       "Venezuela                       0.0   \n",
       "Vietnam                         0.0   \n",
       "Yemen                          12.0   \n",
       "Zambia                          0.0   \n",
       "Zimbabwe                        0.0   \n",
       "\n",
       "                Share of total values owned by top 10% owners  \\\n",
       "Country                                                         \n",
       "Afghanistan                                              66.0   \n",
       "Albania                                                  79.0   \n",
       "Algeria                                                  54.0   \n",
       "American Samoa                                           93.0   \n",
       "Andorra                                                 100.0   \n",
       "...                                                       ...   \n",
       "Venezuela                                                45.0   \n",
       "Vietnam                                                  31.0   \n",
       "Yemen                                                    67.0   \n",
       "Zambia                                                   39.0   \n",
       "Zimbabwe                                                 45.0   \n",
       "\n",
       "                Share of total values owned by top 10% persons  \\\n",
       "Country                                                          \n",
       "Afghanistan                                               66.0   \n",
       "Albania                                                   79.0   \n",
       "Algeria                                                   54.0   \n",
       "American Samoa                                            93.0   \n",
       "Andorra                                                  100.0   \n",
       "...                                                        ...   \n",
       "Venezuela                                                 45.0   \n",
       "Vietnam                                                   31.0   \n",
       "Yemen                                                     67.0   \n",
       "Zambia                                                    39.0   \n",
       "Zimbabwe                                                  45.0   \n",
       "\n",
       "                Share of total values owned by top 10% firms  \\\n",
       "Country                                                        \n",
       "Afghanistan                                              NaN   \n",
       "Albania                                                  NaN   \n",
       "Algeria                                                  NaN   \n",
       "American Samoa                                           NaN   \n",
       "Andorra                                                  NaN   \n",
       "...                                                      ...   \n",
       "Venezuela                                                NaN   \n",
       "Vietnam                                                  NaN   \n",
       "Yemen                                                    NaN   \n",
       "Zambia                                                   NaN   \n",
       "Zimbabwe                                                 NaN   \n",
       "\n",
       "                Share of total values owned by top 1% owners  \\\n",
       "Country                                                        \n",
       "Afghanistan                                             38.0   \n",
       "Albania                                                 56.0   \n",
       "Algeria                                                 25.0   \n",
       "American Samoa                                          93.0   \n",
       "Andorra                                                100.0   \n",
       "...                                                      ...   \n",
       "Venezuela                                                9.0   \n",
       "Vietnam                                                 13.0   \n",
       "Yemen                                                   34.0   \n",
       "Zambia                                                  12.0   \n",
       "Zimbabwe                                                 9.0   \n",
       "\n",
       "                Share of total values owned by top 1% persons  \\\n",
       "Country                                                         \n",
       "Afghanistan                                              38.0   \n",
       "Albania                                                  56.0   \n",
       "Algeria                                                  25.0   \n",
       "American Samoa                                           93.0   \n",
       "Andorra                                                 100.0   \n",
       "...                                                       ...   \n",
       "Venezuela                                                 9.0   \n",
       "Vietnam                                                  13.0   \n",
       "Yemen                                                    34.0   \n",
       "Zambia                                                   12.0   \n",
       "Zimbabwe                                                  9.0   \n",
       "\n",
       "                Share of total values owned by top 1% firms  \n",
       "Country                                                      \n",
       "Afghanistan                                             NaN  \n",
       "Albania                                                 NaN  \n",
       "Algeria                                                 NaN  \n",
       "American Samoa                                          NaN  \n",
       "Andorra                                                 NaN  \n",
       "...                                                     ...  \n",
       "Venezuela                                               NaN  \n",
       "Vietnam                                                 NaN  \n",
       "Yemen                                                   NaN  \n",
       "Zambia                                                  NaN  \n",
       "Zimbabwe                                                NaN  \n",
       "\n",
       "[197 rows x 26 columns]"
      ]
     },
     "execution_count": 8,
     "metadata": {},
     "output_type": "execute_result"
    }
   ],
   "source": [
    "for col in ['Total Property Values', 'Mean Property value', 'Median Property Value']:\n",
    "    # get rid of 'USD' and commas\n",
    "    data[col] = data[col].str.replace('USD', '').str.replace(',', '')\n",
    "\n",
    "for col in ['Total Property Value / GDP', 'Female share', 'Share of total values owned by top 10% owners', \n",
    "            'Share of total values owned by top 10% persons','Share of total values owned by top 10% firms',\n",
    "           'Share of total values owned by top 1% owners', 'Share of total values owned by top 1% persons',\n",
    "           'Share of total values owned by top 1% firms']:\n",
    "    data[col] = data[col].str.replace('%','') # get rid of '%'\n",
    "\n",
    "# convert all the columns to float64\n",
    "for col in data.columns:\n",
    "    data[col] = data[col].astype('float64')\n",
    "data"
   ]
  },
  {
   "cell_type": "code",
   "execution_count": 9,
   "id": "3fbe3acd",
   "metadata": {
    "deletable": false,
    "editable": false
   },
   "outputs": [
    {
     "data": {
      "text/html": [
       "<p><strong><pre style='display: inline;'>q1_2</pre></strong> passed! 🚀</p>"
      ],
      "text/plain": [
       "q1_2 results: All test cases passed!"
      ]
     },
     "execution_count": 9,
     "metadata": {},
     "output_type": "execute_result"
    }
   ],
   "source": [
    "grader.check(\"q1_2\")"
   ]
  },
  {
   "cell_type": "markdown",
   "id": "4215ee4f-28ee-4582-aae7-f742afdf6465",
   "metadata": {},
   "source": [
    "Now that all of our data is stored as floats, we must deal with ambiguity in country names. For example, United States, United States of America and USA all refer to the same country. It's hard for a package to keep track of all the different names for a country, so instead packages like to refer to the standardized, 3-letter [country \n",
    "codes](https://www.iban.com/country-codes). The following function takes in a country name and attempts to find the 3 digit country code associated with the country."
   ]
  },
  {
   "cell_type": "code",
   "execution_count": 10,
   "id": "f829c9f2-70ff-42cc-8304-2f7c2a6aeb4d",
   "metadata": {},
   "outputs": [
    {
     "data": {
      "text/plain": [
       "'ALB'"
      ]
     },
     "execution_count": 10,
     "metadata": {},
     "output_type": "execute_result"
    }
   ],
   "source": [
    "import pycountry\n",
    "pycountry.countries.get(name='Albania').alpha_3\n",
    "                                    # .alpha_3 refers to the 3-letter country code \n",
    "                                    # .alpha_2 refers to the 2-letter country code"
   ]
  },
  {
   "cell_type": "markdown",
   "id": "dcb9736d-8535-4937-9b48-ca8df59d373e",
   "metadata": {
    "deletable": false,
    "editable": false
   },
   "source": [
    "**Question 1.3:** Use the provided function to try and find the associated country code for all the countries in your data. Write a function `get_alpha3code` that get the 3-letter country code given the country name, and then apply this function to the index of our dataframe. There will be cases where the function fails as it cannot find the associated country code - consider using a try-except block to deal with these cases."
   ]
  },
  {
   "cell_type": "code",
   "execution_count": 11,
   "id": "620c479f-6c4e-4781-80c5-4c7c59b1e56a",
   "metadata": {
    "tags": []
   },
   "outputs": [
    {
     "data": {
      "text/html": [
       "<div>\n",
       "<style scoped>\n",
       "    .dataframe tbody tr th:only-of-type {\n",
       "        vertical-align: middle;\n",
       "    }\n",
       "\n",
       "    .dataframe tbody tr th {\n",
       "        vertical-align: top;\n",
       "    }\n",
       "\n",
       "    .dataframe thead th {\n",
       "        text-align: right;\n",
       "    }\n",
       "</style>\n",
       "<table border=\"1\" class=\"dataframe\">\n",
       "  <thead>\n",
       "    <tr style=\"text-align: right;\">\n",
       "      <th></th>\n",
       "      <th>Unique Owners</th>\n",
       "      <th>Unique Properties</th>\n",
       "      <th>Total Property Values</th>\n",
       "      <th>GDP (current USD, 2018 or latest available - for coverage)</th>\n",
       "      <th>Total Property Value / GDP</th>\n",
       "      <th>Mean Property value</th>\n",
       "      <th>Median Property Value</th>\n",
       "      <th>Number of firms</th>\n",
       "      <th>Mean Age</th>\n",
       "      <th>Number with age variable</th>\n",
       "      <th>...</th>\n",
       "      <th>Properties in Palm Jumeirah</th>\n",
       "      <th>Number of villas</th>\n",
       "      <th>Number of buildings</th>\n",
       "      <th>Share of total values owned by top 10% owners</th>\n",
       "      <th>Share of total values owned by top 10% persons</th>\n",
       "      <th>Share of total values owned by top 10% firms</th>\n",
       "      <th>Share of total values owned by top 1% owners</th>\n",
       "      <th>Share of total values owned by top 1% persons</th>\n",
       "      <th>Share of total values owned by top 1% firms</th>\n",
       "      <th>Code</th>\n",
       "    </tr>\n",
       "    <tr>\n",
       "      <th>Country</th>\n",
       "      <th></th>\n",
       "      <th></th>\n",
       "      <th></th>\n",
       "      <th></th>\n",
       "      <th></th>\n",
       "      <th></th>\n",
       "      <th></th>\n",
       "      <th></th>\n",
       "      <th></th>\n",
       "      <th></th>\n",
       "      <th></th>\n",
       "      <th></th>\n",
       "      <th></th>\n",
       "      <th></th>\n",
       "      <th></th>\n",
       "      <th></th>\n",
       "      <th></th>\n",
       "      <th></th>\n",
       "      <th></th>\n",
       "      <th></th>\n",
       "      <th></th>\n",
       "    </tr>\n",
       "  </thead>\n",
       "  <tbody>\n",
       "    <tr>\n",
       "      <th>Afghanistan</th>\n",
       "      <td>1134.0000</td>\n",
       "      <td>3220.0000</td>\n",
       "      <td>1.410029e+09</td>\n",
       "      <td>1.810000e+10</td>\n",
       "      <td>7.81</td>\n",
       "      <td>437897.0</td>\n",
       "      <td>252006.0</td>\n",
       "      <td>0.0</td>\n",
       "      <td>45.4</td>\n",
       "      <td>1123.0000</td>\n",
       "      <td>...</td>\n",
       "      <td>199.0000</td>\n",
       "      <td>352.0000</td>\n",
       "      <td>16.0</td>\n",
       "      <td>66.0</td>\n",
       "      <td>66.0</td>\n",
       "      <td>NaN</td>\n",
       "      <td>38.0</td>\n",
       "      <td>38.0</td>\n",
       "      <td>NaN</td>\n",
       "      <td>AFG</td>\n",
       "    </tr>\n",
       "    <tr>\n",
       "      <th>Albania</th>\n",
       "      <td>17.0000</td>\n",
       "      <td>19.0000</td>\n",
       "      <td>6.762555e+06</td>\n",
       "      <td>1.520000e+10</td>\n",
       "      <td>0.04</td>\n",
       "      <td>355924.0</td>\n",
       "      <td>325745.0</td>\n",
       "      <td>0.0</td>\n",
       "      <td>40.4</td>\n",
       "      <td>16.0000</td>\n",
       "      <td>...</td>\n",
       "      <td>4.9998</td>\n",
       "      <td>4.9998</td>\n",
       "      <td>0.0</td>\n",
       "      <td>79.0</td>\n",
       "      <td>79.0</td>\n",
       "      <td>NaN</td>\n",
       "      <td>56.0</td>\n",
       "      <td>56.0</td>\n",
       "      <td>NaN</td>\n",
       "      <td>ALB</td>\n",
       "    </tr>\n",
       "    <tr>\n",
       "      <th>Algeria</th>\n",
       "      <td>790.0000</td>\n",
       "      <td>1539.0000</td>\n",
       "      <td>4.500115e+08</td>\n",
       "      <td>1.750000e+11</td>\n",
       "      <td>0.26</td>\n",
       "      <td>292405.0</td>\n",
       "      <td>196108.0</td>\n",
       "      <td>0.0</td>\n",
       "      <td>48.8</td>\n",
       "      <td>787.0000</td>\n",
       "      <td>...</td>\n",
       "      <td>27.0000</td>\n",
       "      <td>131.0000</td>\n",
       "      <td>0.0</td>\n",
       "      <td>54.0</td>\n",
       "      <td>54.0</td>\n",
       "      <td>NaN</td>\n",
       "      <td>25.0</td>\n",
       "      <td>25.0</td>\n",
       "      <td>NaN</td>\n",
       "      <td>DZA</td>\n",
       "    </tr>\n",
       "    <tr>\n",
       "      <th>American Samoa</th>\n",
       "      <td>4.9998</td>\n",
       "      <td>9.0000</td>\n",
       "      <td>1.008272e+07</td>\n",
       "      <td>6.390000e+08</td>\n",
       "      <td>1.58</td>\n",
       "      <td>1120303.0</td>\n",
       "      <td>844572.0</td>\n",
       "      <td>0.0</td>\n",
       "      <td>57.5</td>\n",
       "      <td>4.9998</td>\n",
       "      <td>...</td>\n",
       "      <td>0.0000</td>\n",
       "      <td>0.0000</td>\n",
       "      <td>0.0</td>\n",
       "      <td>93.0</td>\n",
       "      <td>93.0</td>\n",
       "      <td>NaN</td>\n",
       "      <td>93.0</td>\n",
       "      <td>93.0</td>\n",
       "      <td>NaN</td>\n",
       "      <td>ASM</td>\n",
       "    </tr>\n",
       "    <tr>\n",
       "      <th>Andorra</th>\n",
       "      <td>4.9998</td>\n",
       "      <td>4.9998</td>\n",
       "      <td>2.432220e+05</td>\n",
       "      <td>3.220000e+09</td>\n",
       "      <td>0.01</td>\n",
       "      <td>NaN</td>\n",
       "      <td>NaN</td>\n",
       "      <td>0.0</td>\n",
       "      <td>54.0</td>\n",
       "      <td>4.9998</td>\n",
       "      <td>...</td>\n",
       "      <td>0.0000</td>\n",
       "      <td>0.0000</td>\n",
       "      <td>0.0</td>\n",
       "      <td>100.0</td>\n",
       "      <td>100.0</td>\n",
       "      <td>NaN</td>\n",
       "      <td>100.0</td>\n",
       "      <td>100.0</td>\n",
       "      <td>NaN</td>\n",
       "      <td>AND</td>\n",
       "    </tr>\n",
       "  </tbody>\n",
       "</table>\n",
       "<p>5 rows × 27 columns</p>\n",
       "</div>"
      ],
      "text/plain": [
       "                Unique Owners  Unique Properties  Total Property Values  \\\n",
       "Country                                                                   \n",
       "Afghanistan         1134.0000          3220.0000           1.410029e+09   \n",
       "Albania               17.0000            19.0000           6.762555e+06   \n",
       "Algeria              790.0000          1539.0000           4.500115e+08   \n",
       "American Samoa         4.9998             9.0000           1.008272e+07   \n",
       "Andorra                4.9998             4.9998           2.432220e+05   \n",
       "\n",
       "                GDP (current USD, 2018 or latest available - for coverage)  \\\n",
       "Country                                                                      \n",
       "Afghanistan                                          1.810000e+10            \n",
       "Albania                                              1.520000e+10            \n",
       "Algeria                                              1.750000e+11            \n",
       "American Samoa                                       6.390000e+08            \n",
       "Andorra                                              3.220000e+09            \n",
       "\n",
       "                Total Property Value / GDP  Mean Property value  \\\n",
       "Country                                                           \n",
       "Afghanistan                           7.81             437897.0   \n",
       "Albania                               0.04             355924.0   \n",
       "Algeria                               0.26             292405.0   \n",
       "American Samoa                        1.58            1120303.0   \n",
       "Andorra                               0.01                  NaN   \n",
       "\n",
       "                Median Property Value  Number of firms  Mean Age  \\\n",
       "Country                                                            \n",
       "Afghanistan                  252006.0              0.0      45.4   \n",
       "Albania                      325745.0              0.0      40.4   \n",
       "Algeria                      196108.0              0.0      48.8   \n",
       "American Samoa               844572.0              0.0      57.5   \n",
       "Andorra                           NaN              0.0      54.0   \n",
       "\n",
       "                Number with age variable  ...  Properties in Palm Jumeirah  \\\n",
       "Country                                   ...                                \n",
       "Afghanistan                    1123.0000  ...                     199.0000   \n",
       "Albania                          16.0000  ...                       4.9998   \n",
       "Algeria                         787.0000  ...                      27.0000   \n",
       "American Samoa                    4.9998  ...                       0.0000   \n",
       "Andorra                           4.9998  ...                       0.0000   \n",
       "\n",
       "                Number of villas  Number of buildings  \\\n",
       "Country                                                 \n",
       "Afghanistan             352.0000                 16.0   \n",
       "Albania                   4.9998                  0.0   \n",
       "Algeria                 131.0000                  0.0   \n",
       "American Samoa            0.0000                  0.0   \n",
       "Andorra                   0.0000                  0.0   \n",
       "\n",
       "                Share of total values owned by top 10% owners  \\\n",
       "Country                                                         \n",
       "Afghanistan                                              66.0   \n",
       "Albania                                                  79.0   \n",
       "Algeria                                                  54.0   \n",
       "American Samoa                                           93.0   \n",
       "Andorra                                                 100.0   \n",
       "\n",
       "                Share of total values owned by top 10% persons  \\\n",
       "Country                                                          \n",
       "Afghanistan                                               66.0   \n",
       "Albania                                                   79.0   \n",
       "Algeria                                                   54.0   \n",
       "American Samoa                                            93.0   \n",
       "Andorra                                                  100.0   \n",
       "\n",
       "                Share of total values owned by top 10% firms  \\\n",
       "Country                                                        \n",
       "Afghanistan                                              NaN   \n",
       "Albania                                                  NaN   \n",
       "Algeria                                                  NaN   \n",
       "American Samoa                                           NaN   \n",
       "Andorra                                                  NaN   \n",
       "\n",
       "                Share of total values owned by top 1% owners  \\\n",
       "Country                                                        \n",
       "Afghanistan                                             38.0   \n",
       "Albania                                                 56.0   \n",
       "Algeria                                                 25.0   \n",
       "American Samoa                                          93.0   \n",
       "Andorra                                                100.0   \n",
       "\n",
       "                Share of total values owned by top 1% persons  \\\n",
       "Country                                                         \n",
       "Afghanistan                                              38.0   \n",
       "Albania                                                  56.0   \n",
       "Algeria                                                  25.0   \n",
       "American Samoa                                           93.0   \n",
       "Andorra                                                 100.0   \n",
       "\n",
       "                Share of total values owned by top 1% firms  Code  \n",
       "Country                                                            \n",
       "Afghanistan                                             NaN   AFG  \n",
       "Albania                                                 NaN   ALB  \n",
       "Algeria                                                 NaN   DZA  \n",
       "American Samoa                                          NaN   ASM  \n",
       "Andorra                                                 NaN   AND  \n",
       "\n",
       "[5 rows x 27 columns]"
      ]
     },
     "execution_count": 11,
     "metadata": {},
     "output_type": "execute_result"
    }
   ],
   "source": [
    "def get_alpha3code(country_name):\n",
    "    try:\n",
    "        code = pycountry.countries.get(name=country_name).alpha_3\n",
    "    except: # if it cannot find the associated country code\n",
    "        code = 'None'\n",
    "    return code\n",
    "data['Code'] = data.index.map(get_alpha3code)\n",
    "data.head()"
   ]
  },
  {
   "cell_type": "code",
   "execution_count": 12,
   "id": "667ad897",
   "metadata": {
    "deletable": false,
    "editable": false
   },
   "outputs": [
    {
     "data": {
      "text/html": [
       "<p><strong><pre style='display: inline;'>q1_3</pre></strong> passed! 🌟</p>"
      ],
      "text/plain": [
       "q1_3 results: All test cases passed!"
      ]
     },
     "execution_count": 12,
     "metadata": {},
     "output_type": "execute_result"
    }
   ],
   "source": [
    "grader.check(\"q1_3\")"
   ]
  },
  {
   "cell_type": "markdown",
   "id": "0744d63a-ec55-4674-9342-ebcf9ea66d6c",
   "metadata": {},
   "source": [
    "Let us quickly see the cases where the function fails."
   ]
  },
  {
   "cell_type": "code",
   "execution_count": 13,
   "id": "0452410c",
   "metadata": {},
   "outputs": [
    {
     "data": {
      "text/html": [
       "<div>\n",
       "<style scoped>\n",
       "    .dataframe tbody tr th:only-of-type {\n",
       "        vertical-align: middle;\n",
       "    }\n",
       "\n",
       "    .dataframe tbody tr th {\n",
       "        vertical-align: top;\n",
       "    }\n",
       "\n",
       "    .dataframe thead th {\n",
       "        text-align: right;\n",
       "    }\n",
       "</style>\n",
       "<table border=\"1\" class=\"dataframe\">\n",
       "  <thead>\n",
       "    <tr style=\"text-align: right;\">\n",
       "      <th></th>\n",
       "      <th>Unique Owners</th>\n",
       "      <th>Unique Properties</th>\n",
       "      <th>Total Property Values</th>\n",
       "      <th>GDP (current USD, 2018 or latest available - for coverage)</th>\n",
       "      <th>Total Property Value / GDP</th>\n",
       "      <th>Mean Property value</th>\n",
       "      <th>Median Property Value</th>\n",
       "      <th>Number of firms</th>\n",
       "      <th>Mean Age</th>\n",
       "      <th>Number with age variable</th>\n",
       "      <th>...</th>\n",
       "      <th>Properties in Palm Jumeirah</th>\n",
       "      <th>Number of villas</th>\n",
       "      <th>Number of buildings</th>\n",
       "      <th>Share of total values owned by top 10% owners</th>\n",
       "      <th>Share of total values owned by top 10% persons</th>\n",
       "      <th>Share of total values owned by top 10% firms</th>\n",
       "      <th>Share of total values owned by top 1% owners</th>\n",
       "      <th>Share of total values owned by top 1% persons</th>\n",
       "      <th>Share of total values owned by top 1% firms</th>\n",
       "      <th>Code</th>\n",
       "    </tr>\n",
       "    <tr>\n",
       "      <th>Country</th>\n",
       "      <th></th>\n",
       "      <th></th>\n",
       "      <th></th>\n",
       "      <th></th>\n",
       "      <th></th>\n",
       "      <th></th>\n",
       "      <th></th>\n",
       "      <th></th>\n",
       "      <th></th>\n",
       "      <th></th>\n",
       "      <th></th>\n",
       "      <th></th>\n",
       "      <th></th>\n",
       "      <th></th>\n",
       "      <th></th>\n",
       "      <th></th>\n",
       "      <th></th>\n",
       "      <th></th>\n",
       "      <th></th>\n",
       "      <th></th>\n",
       "      <th></th>\n",
       "    </tr>\n",
       "  </thead>\n",
       "  <tbody>\n",
       "    <tr>\n",
       "      <th>Antigua &amp; Barbuda</th>\n",
       "      <td>14.0000</td>\n",
       "      <td>35.0000</td>\n",
       "      <td>1.254624e+08</td>\n",
       "      <td>1.610000e+09</td>\n",
       "      <td>7.81</td>\n",
       "      <td>3584639.0</td>\n",
       "      <td>573702.0</td>\n",
       "      <td>0.0000</td>\n",
       "      <td>52.1</td>\n",
       "      <td>13.0000</td>\n",
       "      <td>...</td>\n",
       "      <td>0.0000</td>\n",
       "      <td>9.0000</td>\n",
       "      <td>0.0000</td>\n",
       "      <td>86.0</td>\n",
       "      <td>86.0</td>\n",
       "      <td>NaN</td>\n",
       "      <td>80.0</td>\n",
       "      <td>80.0</td>\n",
       "      <td>NaN</td>\n",
       "      <td>None</td>\n",
       "    </tr>\n",
       "    <tr>\n",
       "      <th>Bolivia</th>\n",
       "      <td>5.0000</td>\n",
       "      <td>5.0000</td>\n",
       "      <td>1.033388e+06</td>\n",
       "      <td>4.030000e+10</td>\n",
       "      <td>0.00</td>\n",
       "      <td>206678.0</td>\n",
       "      <td>98122.0</td>\n",
       "      <td>0.0000</td>\n",
       "      <td>47.8</td>\n",
       "      <td>5.0000</td>\n",
       "      <td>...</td>\n",
       "      <td>0.0000</td>\n",
       "      <td>4.9998</td>\n",
       "      <td>0.0000</td>\n",
       "      <td>70.0</td>\n",
       "      <td>70.0</td>\n",
       "      <td>NaN</td>\n",
       "      <td>70.0</td>\n",
       "      <td>70.0</td>\n",
       "      <td>NaN</td>\n",
       "      <td>None</td>\n",
       "    </tr>\n",
       "    <tr>\n",
       "      <th>British Virgin Islands</th>\n",
       "      <td>45.0000</td>\n",
       "      <td>912.0000</td>\n",
       "      <td>3.835627e+08</td>\n",
       "      <td>1.000000e+09</td>\n",
       "      <td>38.36</td>\n",
       "      <td>420573.0</td>\n",
       "      <td>246430.0</td>\n",
       "      <td>44.0000</td>\n",
       "      <td>47.0</td>\n",
       "      <td>4.9998</td>\n",
       "      <td>...</td>\n",
       "      <td>7.0000</td>\n",
       "      <td>5.0000</td>\n",
       "      <td>5.0000</td>\n",
       "      <td>80.0</td>\n",
       "      <td>0.0</td>\n",
       "      <td>80.0</td>\n",
       "      <td>49.0</td>\n",
       "      <td>0.0</td>\n",
       "      <td>49.0</td>\n",
       "      <td>None</td>\n",
       "    </tr>\n",
       "    <tr>\n",
       "      <th>Brunei</th>\n",
       "      <td>13.0000</td>\n",
       "      <td>17.0000</td>\n",
       "      <td>3.756692e+06</td>\n",
       "      <td>1.360000e+10</td>\n",
       "      <td>0.03</td>\n",
       "      <td>220982.0</td>\n",
       "      <td>211154.0</td>\n",
       "      <td>0.0000</td>\n",
       "      <td>47.7</td>\n",
       "      <td>13.0000</td>\n",
       "      <td>...</td>\n",
       "      <td>0.0000</td>\n",
       "      <td>0.0000</td>\n",
       "      <td>0.0000</td>\n",
       "      <td>39.0</td>\n",
       "      <td>39.0</td>\n",
       "      <td>NaN</td>\n",
       "      <td>29.0</td>\n",
       "      <td>29.0</td>\n",
       "      <td>NaN</td>\n",
       "      <td>None</td>\n",
       "    </tr>\n",
       "    <tr>\n",
       "      <th>Comoros Islands</th>\n",
       "      <td>166.0000</td>\n",
       "      <td>253.0000</td>\n",
       "      <td>9.600374e+07</td>\n",
       "      <td>1.190000e+09</td>\n",
       "      <td>8.07</td>\n",
       "      <td>379461.0</td>\n",
       "      <td>199552.0</td>\n",
       "      <td>0.0000</td>\n",
       "      <td>42.6</td>\n",
       "      <td>166.0000</td>\n",
       "      <td>...</td>\n",
       "      <td>4.9998</td>\n",
       "      <td>31.0000</td>\n",
       "      <td>0.0000</td>\n",
       "      <td>55.0</td>\n",
       "      <td>55.0</td>\n",
       "      <td>NaN</td>\n",
       "      <td>20.0</td>\n",
       "      <td>20.0</td>\n",
       "      <td>NaN</td>\n",
       "      <td>None</td>\n",
       "    </tr>\n",
       "    <tr>\n",
       "      <th>Congo, Republic Of</th>\n",
       "      <td>17.0000</td>\n",
       "      <td>30.0000</td>\n",
       "      <td>1.295719e+07</td>\n",
       "      <td>1.370000e+10</td>\n",
       "      <td>0.09</td>\n",
       "      <td>431906.0</td>\n",
       "      <td>221947.0</td>\n",
       "      <td>0.0000</td>\n",
       "      <td>50.3</td>\n",
       "      <td>17.0000</td>\n",
       "      <td>...</td>\n",
       "      <td>0.0000</td>\n",
       "      <td>6.0000</td>\n",
       "      <td>0.0000</td>\n",
       "      <td>35.0</td>\n",
       "      <td>35.0</td>\n",
       "      <td>NaN</td>\n",
       "      <td>18.0</td>\n",
       "      <td>18.0</td>\n",
       "      <td>NaN</td>\n",
       "      <td>None</td>\n",
       "    </tr>\n",
       "    <tr>\n",
       "      <th>Czech Republic</th>\n",
       "      <td>158.0000</td>\n",
       "      <td>224.0000</td>\n",
       "      <td>8.928884e+07</td>\n",
       "      <td>2.490000e+11</td>\n",
       "      <td>0.04</td>\n",
       "      <td>398611.0</td>\n",
       "      <td>279865.0</td>\n",
       "      <td>5.0000</td>\n",
       "      <td>46.5</td>\n",
       "      <td>146.0000</td>\n",
       "      <td>...</td>\n",
       "      <td>37.0000</td>\n",
       "      <td>22.0000</td>\n",
       "      <td>0.0000</td>\n",
       "      <td>44.0</td>\n",
       "      <td>44.0</td>\n",
       "      <td>1.0</td>\n",
       "      <td>17.0</td>\n",
       "      <td>17.0</td>\n",
       "      <td>1.0</td>\n",
       "      <td>None</td>\n",
       "    </tr>\n",
       "    <tr>\n",
       "      <th>Democratic Rep, Of Congo</th>\n",
       "      <td>4.9998</td>\n",
       "      <td>4.9998</td>\n",
       "      <td>2.906772e+06</td>\n",
       "      <td>4.720000e+10</td>\n",
       "      <td>0.01</td>\n",
       "      <td>NaN</td>\n",
       "      <td>NaN</td>\n",
       "      <td>0.0000</td>\n",
       "      <td>45.0</td>\n",
       "      <td>4.9998</td>\n",
       "      <td>...</td>\n",
       "      <td>0.0000</td>\n",
       "      <td>4.9998</td>\n",
       "      <td>0.0000</td>\n",
       "      <td>96.0</td>\n",
       "      <td>96.0</td>\n",
       "      <td>NaN</td>\n",
       "      <td>96.0</td>\n",
       "      <td>96.0</td>\n",
       "      <td>NaN</td>\n",
       "      <td>None</td>\n",
       "    </tr>\n",
       "    <tr>\n",
       "      <th>Foreign Governmental Organisation</th>\n",
       "      <td>8.0000</td>\n",
       "      <td>16.0000</td>\n",
       "      <td>3.491826e+07</td>\n",
       "      <td>NaN</td>\n",
       "      <td>NaN</td>\n",
       "      <td>2182392.0</td>\n",
       "      <td>1395278.0</td>\n",
       "      <td>4.9998</td>\n",
       "      <td>NaN</td>\n",
       "      <td>0.0000</td>\n",
       "      <td>...</td>\n",
       "      <td>0.0000</td>\n",
       "      <td>4.9998</td>\n",
       "      <td>0.0000</td>\n",
       "      <td>32.0</td>\n",
       "      <td>32.0</td>\n",
       "      <td>4.0</td>\n",
       "      <td>32.0</td>\n",
       "      <td>32.0</td>\n",
       "      <td>4.0</td>\n",
       "      <td>None</td>\n",
       "    </tr>\n",
       "    <tr>\n",
       "      <th>Iran</th>\n",
       "      <td>8669.0000</td>\n",
       "      <td>16703.0000</td>\n",
       "      <td>7.028738e+09</td>\n",
       "      <td>2.940000e+11</td>\n",
       "      <td>2.39</td>\n",
       "      <td>420807.0</td>\n",
       "      <td>222273.0</td>\n",
       "      <td>7.0000</td>\n",
       "      <td>52.7</td>\n",
       "      <td>8201.0000</td>\n",
       "      <td>...</td>\n",
       "      <td>360.0000</td>\n",
       "      <td>1766.0000</td>\n",
       "      <td>25.0000</td>\n",
       "      <td>64.0</td>\n",
       "      <td>62.0</td>\n",
       "      <td>1.0</td>\n",
       "      <td>31.0</td>\n",
       "      <td>29.0</td>\n",
       "      <td>1.0</td>\n",
       "      <td>None</td>\n",
       "    </tr>\n",
       "    <tr>\n",
       "      <th>Ivory Coast</th>\n",
       "      <td>21.0000</td>\n",
       "      <td>34.0000</td>\n",
       "      <td>8.593277e+06</td>\n",
       "      <td>5.800000e+10</td>\n",
       "      <td>0.01</td>\n",
       "      <td>252743.0</td>\n",
       "      <td>151226.0</td>\n",
       "      <td>0.0000</td>\n",
       "      <td>52.4</td>\n",
       "      <td>20.0000</td>\n",
       "      <td>...</td>\n",
       "      <td>0.0000</td>\n",
       "      <td>4.9998</td>\n",
       "      <td>0.0000</td>\n",
       "      <td>46.0</td>\n",
       "      <td>46.0</td>\n",
       "      <td>NaN</td>\n",
       "      <td>19.0</td>\n",
       "      <td>19.0</td>\n",
       "      <td>NaN</td>\n",
       "      <td>None</td>\n",
       "    </tr>\n",
       "    <tr>\n",
       "      <th>Kosovo</th>\n",
       "      <td>4.9998</td>\n",
       "      <td>4.9998</td>\n",
       "      <td>1.066098e+06</td>\n",
       "      <td>7.880000e+09</td>\n",
       "      <td>0.01</td>\n",
       "      <td>NaN</td>\n",
       "      <td>NaN</td>\n",
       "      <td>0.0000</td>\n",
       "      <td>53.3</td>\n",
       "      <td>4.9998</td>\n",
       "      <td>...</td>\n",
       "      <td>0.0000</td>\n",
       "      <td>0.0000</td>\n",
       "      <td>0.0000</td>\n",
       "      <td>59.0</td>\n",
       "      <td>59.0</td>\n",
       "      <td>NaN</td>\n",
       "      <td>59.0</td>\n",
       "      <td>59.0</td>\n",
       "      <td>NaN</td>\n",
       "      <td>None</td>\n",
       "    </tr>\n",
       "    <tr>\n",
       "      <th>Kyrgistan</th>\n",
       "      <td>106.0000</td>\n",
       "      <td>236.0000</td>\n",
       "      <td>1.022073e+08</td>\n",
       "      <td>8.270000e+09</td>\n",
       "      <td>1.24</td>\n",
       "      <td>433082.0</td>\n",
       "      <td>275105.0</td>\n",
       "      <td>0.0000</td>\n",
       "      <td>44.0</td>\n",
       "      <td>103.0000</td>\n",
       "      <td>...</td>\n",
       "      <td>10.0000</td>\n",
       "      <td>6.0000</td>\n",
       "      <td>0.0000</td>\n",
       "      <td>70.0</td>\n",
       "      <td>70.0</td>\n",
       "      <td>NaN</td>\n",
       "      <td>30.0</td>\n",
       "      <td>30.0</td>\n",
       "      <td>NaN</td>\n",
       "      <td>None</td>\n",
       "    </tr>\n",
       "    <tr>\n",
       "      <th>Macedonia</th>\n",
       "      <td>45.0000</td>\n",
       "      <td>55.0000</td>\n",
       "      <td>1.420616e+07</td>\n",
       "      <td>1.270000e+10</td>\n",
       "      <td>0.11</td>\n",
       "      <td>258294.0</td>\n",
       "      <td>195301.0</td>\n",
       "      <td>0.0000</td>\n",
       "      <td>45.9</td>\n",
       "      <td>44.0000</td>\n",
       "      <td>...</td>\n",
       "      <td>4.9998</td>\n",
       "      <td>4.9998</td>\n",
       "      <td>0.0000</td>\n",
       "      <td>36.0</td>\n",
       "      <td>36.0</td>\n",
       "      <td>NaN</td>\n",
       "      <td>19.0</td>\n",
       "      <td>19.0</td>\n",
       "      <td>NaN</td>\n",
       "      <td>None</td>\n",
       "    </tr>\n",
       "    <tr>\n",
       "      <th>Moldova</th>\n",
       "      <td>39.0000</td>\n",
       "      <td>55.0000</td>\n",
       "      <td>1.447626e+07</td>\n",
       "      <td>1.150000e+10</td>\n",
       "      <td>0.13</td>\n",
       "      <td>263205.0</td>\n",
       "      <td>191224.0</td>\n",
       "      <td>0.0000</td>\n",
       "      <td>41.2</td>\n",
       "      <td>38.0000</td>\n",
       "      <td>...</td>\n",
       "      <td>4.9998</td>\n",
       "      <td>4.9998</td>\n",
       "      <td>0.0000</td>\n",
       "      <td>41.0</td>\n",
       "      <td>41.0</td>\n",
       "      <td>NaN</td>\n",
       "      <td>19.0</td>\n",
       "      <td>19.0</td>\n",
       "      <td>NaN</td>\n",
       "      <td>None</td>\n",
       "    </tr>\n",
       "    <tr>\n",
       "      <th>North Korea</th>\n",
       "      <td>24.0000</td>\n",
       "      <td>30.0000</td>\n",
       "      <td>1.374193e+07</td>\n",
       "      <td>4.000000e+10</td>\n",
       "      <td>0.03</td>\n",
       "      <td>458064.0</td>\n",
       "      <td>401826.0</td>\n",
       "      <td>0.0000</td>\n",
       "      <td>55.3</td>\n",
       "      <td>21.0000</td>\n",
       "      <td>...</td>\n",
       "      <td>4.9998</td>\n",
       "      <td>4.9998</td>\n",
       "      <td>0.0000</td>\n",
       "      <td>48.0</td>\n",
       "      <td>48.0</td>\n",
       "      <td>NaN</td>\n",
       "      <td>30.0</td>\n",
       "      <td>30.0</td>\n",
       "      <td>NaN</td>\n",
       "      <td>None</td>\n",
       "    </tr>\n",
       "    <tr>\n",
       "      <th>Palestine</th>\n",
       "      <td>1252.0000</td>\n",
       "      <td>2788.0000</td>\n",
       "      <td>8.875218e+08</td>\n",
       "      <td>1.630000e+10</td>\n",
       "      <td>5.45</td>\n",
       "      <td>318336.0</td>\n",
       "      <td>163682.0</td>\n",
       "      <td>0.0000</td>\n",
       "      <td>48.3</td>\n",
       "      <td>1241.0000</td>\n",
       "      <td>...</td>\n",
       "      <td>11.0000</td>\n",
       "      <td>250.0000</td>\n",
       "      <td>16.0000</td>\n",
       "      <td>60.0</td>\n",
       "      <td>60.0</td>\n",
       "      <td>NaN</td>\n",
       "      <td>25.0</td>\n",
       "      <td>25.0</td>\n",
       "      <td>NaN</td>\n",
       "      <td>None</td>\n",
       "    </tr>\n",
       "    <tr>\n",
       "      <th>Russia</th>\n",
       "      <td>5381.0000</td>\n",
       "      <td>9755.0000</td>\n",
       "      <td>3.344038e+09</td>\n",
       "      <td>1.660000e+12</td>\n",
       "      <td>0.20</td>\n",
       "      <td>342802.0</td>\n",
       "      <td>213468.0</td>\n",
       "      <td>27.0000</td>\n",
       "      <td>49.2</td>\n",
       "      <td>5052.0000</td>\n",
       "      <td>...</td>\n",
       "      <td>944.0000</td>\n",
       "      <td>354.0000</td>\n",
       "      <td>4.9998</td>\n",
       "      <td>54.0</td>\n",
       "      <td>52.0</td>\n",
       "      <td>1.0</td>\n",
       "      <td>19.0</td>\n",
       "      <td>18.0</td>\n",
       "      <td>1.0</td>\n",
       "      <td>None</td>\n",
       "    </tr>\n",
       "    <tr>\n",
       "      <th>Saint Vincent &amp; The Grenadines</th>\n",
       "      <td>4.9998</td>\n",
       "      <td>4.9998</td>\n",
       "      <td>2.232975e+06</td>\n",
       "      <td>8.110000e+08</td>\n",
       "      <td>0.28</td>\n",
       "      <td>NaN</td>\n",
       "      <td>NaN</td>\n",
       "      <td>0.0000</td>\n",
       "      <td>57.5</td>\n",
       "      <td>4.9998</td>\n",
       "      <td>...</td>\n",
       "      <td>0.0000</td>\n",
       "      <td>4.9998</td>\n",
       "      <td>0.0000</td>\n",
       "      <td>66.0</td>\n",
       "      <td>66.0</td>\n",
       "      <td>NaN</td>\n",
       "      <td>66.0</td>\n",
       "      <td>66.0</td>\n",
       "      <td>NaN</td>\n",
       "      <td>None</td>\n",
       "    </tr>\n",
       "    <tr>\n",
       "      <th>South Korea</th>\n",
       "      <td>323.0000</td>\n",
       "      <td>473.0000</td>\n",
       "      <td>1.924934e+08</td>\n",
       "      <td>1.730000e+12</td>\n",
       "      <td>0.01</td>\n",
       "      <td>406963.0</td>\n",
       "      <td>329300.0</td>\n",
       "      <td>4.9998</td>\n",
       "      <td>48.3</td>\n",
       "      <td>305.0000</td>\n",
       "      <td>...</td>\n",
       "      <td>9.0000</td>\n",
       "      <td>47.0000</td>\n",
       "      <td>0.0000</td>\n",
       "      <td>45.0</td>\n",
       "      <td>45.0</td>\n",
       "      <td>1.0</td>\n",
       "      <td>16.0</td>\n",
       "      <td>16.0</td>\n",
       "      <td>1.0</td>\n",
       "      <td>None</td>\n",
       "    </tr>\n",
       "    <tr>\n",
       "      <th>Southern Sudan</th>\n",
       "      <td>8.0000</td>\n",
       "      <td>20.0000</td>\n",
       "      <td>9.043319e+06</td>\n",
       "      <td>1.200000e+10</td>\n",
       "      <td>0.08</td>\n",
       "      <td>452166.0</td>\n",
       "      <td>454346.0</td>\n",
       "      <td>0.0000</td>\n",
       "      <td>51.6</td>\n",
       "      <td>8.0000</td>\n",
       "      <td>...</td>\n",
       "      <td>0.0000</td>\n",
       "      <td>4.9998</td>\n",
       "      <td>0.0000</td>\n",
       "      <td>43.0</td>\n",
       "      <td>43.0</td>\n",
       "      <td>NaN</td>\n",
       "      <td>43.0</td>\n",
       "      <td>43.0</td>\n",
       "      <td>NaN</td>\n",
       "      <td>None</td>\n",
       "    </tr>\n",
       "    <tr>\n",
       "      <th>Syria</th>\n",
       "      <td>4484.0000</td>\n",
       "      <td>9573.0000</td>\n",
       "      <td>2.976197e+09</td>\n",
       "      <td>4.040000e+10</td>\n",
       "      <td>7.37</td>\n",
       "      <td>310895.0</td>\n",
       "      <td>167268.0</td>\n",
       "      <td>0.0000</td>\n",
       "      <td>47.7</td>\n",
       "      <td>4470.0000</td>\n",
       "      <td>...</td>\n",
       "      <td>72.0000</td>\n",
       "      <td>642.0000</td>\n",
       "      <td>27.0000</td>\n",
       "      <td>61.0</td>\n",
       "      <td>60.0</td>\n",
       "      <td>1.0</td>\n",
       "      <td>32.0</td>\n",
       "      <td>32.0</td>\n",
       "      <td>1.0</td>\n",
       "      <td>None</td>\n",
       "    </tr>\n",
       "    <tr>\n",
       "      <th>Taiwan</th>\n",
       "      <td>31.0000</td>\n",
       "      <td>74.0000</td>\n",
       "      <td>4.671070e+07</td>\n",
       "      <td>5.900000e+11</td>\n",
       "      <td>0.01</td>\n",
       "      <td>631226.0</td>\n",
       "      <td>545746.0</td>\n",
       "      <td>4.9998</td>\n",
       "      <td>44.4</td>\n",
       "      <td>28.0000</td>\n",
       "      <td>...</td>\n",
       "      <td>26.0000</td>\n",
       "      <td>4.9998</td>\n",
       "      <td>0.0000</td>\n",
       "      <td>80.0</td>\n",
       "      <td>7.0</td>\n",
       "      <td>58.0</td>\n",
       "      <td>58.0</td>\n",
       "      <td>3.0</td>\n",
       "      <td>58.0</td>\n",
       "      <td>None</td>\n",
       "    </tr>\n",
       "    <tr>\n",
       "      <th>Tanzania</th>\n",
       "      <td>407.0000</td>\n",
       "      <td>805.0000</td>\n",
       "      <td>2.371172e+08</td>\n",
       "      <td>5.700000e+10</td>\n",
       "      <td>0.42</td>\n",
       "      <td>294556.0</td>\n",
       "      <td>186251.0</td>\n",
       "      <td>0.0000</td>\n",
       "      <td>51.9</td>\n",
       "      <td>406.0000</td>\n",
       "      <td>...</td>\n",
       "      <td>7.0000</td>\n",
       "      <td>84.0000</td>\n",
       "      <td>0.0000</td>\n",
       "      <td>51.0</td>\n",
       "      <td>51.0</td>\n",
       "      <td>NaN</td>\n",
       "      <td>14.0</td>\n",
       "      <td>14.0</td>\n",
       "      <td>NaN</td>\n",
       "      <td>None</td>\n",
       "    </tr>\n",
       "    <tr>\n",
       "      <th>Trinidad &amp; Tobago</th>\n",
       "      <td>14.0000</td>\n",
       "      <td>15.0000</td>\n",
       "      <td>5.524217e+06</td>\n",
       "      <td>2.370000e+10</td>\n",
       "      <td>0.02</td>\n",
       "      <td>368281.0</td>\n",
       "      <td>238159.0</td>\n",
       "      <td>0.0000</td>\n",
       "      <td>46.2</td>\n",
       "      <td>13.0000</td>\n",
       "      <td>...</td>\n",
       "      <td>0.0000</td>\n",
       "      <td>4.9998</td>\n",
       "      <td>0.0000</td>\n",
       "      <td>31.0</td>\n",
       "      <td>31.0</td>\n",
       "      <td>NaN</td>\n",
       "      <td>18.0</td>\n",
       "      <td>18.0</td>\n",
       "      <td>NaN</td>\n",
       "      <td>None</td>\n",
       "    </tr>\n",
       "    <tr>\n",
       "      <th>Turkey</th>\n",
       "      <td>974.0000</td>\n",
       "      <td>1589.0000</td>\n",
       "      <td>7.202502e+08</td>\n",
       "      <td>7.790000e+11</td>\n",
       "      <td>0.09</td>\n",
       "      <td>453273.0</td>\n",
       "      <td>262428.0</td>\n",
       "      <td>4.9998</td>\n",
       "      <td>45.0</td>\n",
       "      <td>944.0000</td>\n",
       "      <td>...</td>\n",
       "      <td>77.0000</td>\n",
       "      <td>248.0000</td>\n",
       "      <td>4.9998</td>\n",
       "      <td>53.0</td>\n",
       "      <td>53.0</td>\n",
       "      <td>0.0</td>\n",
       "      <td>21.0</td>\n",
       "      <td>21.0</td>\n",
       "      <td>0.0</td>\n",
       "      <td>None</td>\n",
       "    </tr>\n",
       "    <tr>\n",
       "      <th>USA</th>\n",
       "      <td>5085.0000</td>\n",
       "      <td>8808.0000</td>\n",
       "      <td>3.020718e+09</td>\n",
       "      <td>2.060000e+13</td>\n",
       "      <td>0.01</td>\n",
       "      <td>342952.0</td>\n",
       "      <td>209824.0</td>\n",
       "      <td>15.0000</td>\n",
       "      <td>52.6</td>\n",
       "      <td>4925.0000</td>\n",
       "      <td>...</td>\n",
       "      <td>253.0000</td>\n",
       "      <td>968.0000</td>\n",
       "      <td>8.0000</td>\n",
       "      <td>49.0</td>\n",
       "      <td>46.0</td>\n",
       "      <td>2.0</td>\n",
       "      <td>16.0</td>\n",
       "      <td>14.0</td>\n",
       "      <td>2.0</td>\n",
       "      <td>None</td>\n",
       "    </tr>\n",
       "    <tr>\n",
       "      <th>Unknown Background (Firm)</th>\n",
       "      <td>5438.0000</td>\n",
       "      <td>61289.0000</td>\n",
       "      <td>9.231558e+10</td>\n",
       "      <td>NaN</td>\n",
       "      <td>NaN</td>\n",
       "      <td>1506234.0</td>\n",
       "      <td>285122.0</td>\n",
       "      <td>5335.0000</td>\n",
       "      <td>NaN</td>\n",
       "      <td>0.0000</td>\n",
       "      <td>...</td>\n",
       "      <td>1175.0000</td>\n",
       "      <td>3321.0000</td>\n",
       "      <td>894.0000</td>\n",
       "      <td>94.0</td>\n",
       "      <td>NaN</td>\n",
       "      <td>94.0</td>\n",
       "      <td>73.0</td>\n",
       "      <td>NaN</td>\n",
       "      <td>73.0</td>\n",
       "      <td>None</td>\n",
       "    </tr>\n",
       "    <tr>\n",
       "      <th>Unknown Background (Person)</th>\n",
       "      <td>14403.0000</td>\n",
       "      <td>19965.0000</td>\n",
       "      <td>6.829583e+09</td>\n",
       "      <td>NaN</td>\n",
       "      <td>NaN</td>\n",
       "      <td>342078.0</td>\n",
       "      <td>190274.0</td>\n",
       "      <td>0.0000</td>\n",
       "      <td>53.2</td>\n",
       "      <td>4631.0000</td>\n",
       "      <td>...</td>\n",
       "      <td>439.0000</td>\n",
       "      <td>867.0000</td>\n",
       "      <td>27.0000</td>\n",
       "      <td>59.0</td>\n",
       "      <td>59.0</td>\n",
       "      <td>NaN</td>\n",
       "      <td>32.0</td>\n",
       "      <td>32.0</td>\n",
       "      <td>NaN</td>\n",
       "      <td>None</td>\n",
       "    </tr>\n",
       "    <tr>\n",
       "      <th>Venezuela</th>\n",
       "      <td>77.0000</td>\n",
       "      <td>104.0000</td>\n",
       "      <td>4.524483e+07</td>\n",
       "      <td>4.820000e+11</td>\n",
       "      <td>0.01</td>\n",
       "      <td>435046.0</td>\n",
       "      <td>267746.0</td>\n",
       "      <td>0.0000</td>\n",
       "      <td>45.4</td>\n",
       "      <td>77.0000</td>\n",
       "      <td>...</td>\n",
       "      <td>0.0000</td>\n",
       "      <td>14.0000</td>\n",
       "      <td>0.0000</td>\n",
       "      <td>45.0</td>\n",
       "      <td>45.0</td>\n",
       "      <td>NaN</td>\n",
       "      <td>9.0</td>\n",
       "      <td>9.0</td>\n",
       "      <td>NaN</td>\n",
       "      <td>None</td>\n",
       "    </tr>\n",
       "    <tr>\n",
       "      <th>Vietnam</th>\n",
       "      <td>22.0000</td>\n",
       "      <td>25.0000</td>\n",
       "      <td>7.910712e+06</td>\n",
       "      <td>2.450000e+11</td>\n",
       "      <td>0.00</td>\n",
       "      <td>316429.0</td>\n",
       "      <td>320063.0</td>\n",
       "      <td>0.0000</td>\n",
       "      <td>42.7</td>\n",
       "      <td>22.0000</td>\n",
       "      <td>...</td>\n",
       "      <td>4.9998</td>\n",
       "      <td>4.9998</td>\n",
       "      <td>0.0000</td>\n",
       "      <td>31.0</td>\n",
       "      <td>31.0</td>\n",
       "      <td>NaN</td>\n",
       "      <td>13.0</td>\n",
       "      <td>13.0</td>\n",
       "      <td>NaN</td>\n",
       "      <td>None</td>\n",
       "    </tr>\n",
       "  </tbody>\n",
       "</table>\n",
       "<p>31 rows × 27 columns</p>\n",
       "</div>"
      ],
      "text/plain": [
       "                                   Unique Owners  Unique Properties  \\\n",
       "Country                                                               \n",
       "Antigua & Barbuda                        14.0000            35.0000   \n",
       "Bolivia                                   5.0000             5.0000   \n",
       "British Virgin Islands                   45.0000           912.0000   \n",
       "Brunei                                   13.0000            17.0000   \n",
       "Comoros Islands                         166.0000           253.0000   \n",
       "Congo, Republic Of                       17.0000            30.0000   \n",
       "Czech Republic                          158.0000           224.0000   \n",
       "Democratic Rep, Of Congo                  4.9998             4.9998   \n",
       "Foreign Governmental Organisation         8.0000            16.0000   \n",
       "Iran                                   8669.0000         16703.0000   \n",
       "Ivory Coast                              21.0000            34.0000   \n",
       "Kosovo                                    4.9998             4.9998   \n",
       "Kyrgistan                               106.0000           236.0000   \n",
       "Macedonia                                45.0000            55.0000   \n",
       "Moldova                                  39.0000            55.0000   \n",
       "North Korea                              24.0000            30.0000   \n",
       "Palestine                              1252.0000          2788.0000   \n",
       "Russia                                 5381.0000          9755.0000   \n",
       "Saint Vincent & The Grenadines            4.9998             4.9998   \n",
       "South Korea                             323.0000           473.0000   \n",
       "Southern Sudan                            8.0000            20.0000   \n",
       "Syria                                  4484.0000          9573.0000   \n",
       "Taiwan                                   31.0000            74.0000   \n",
       "Tanzania                                407.0000           805.0000   \n",
       "Trinidad & Tobago                        14.0000            15.0000   \n",
       "Turkey                                  974.0000          1589.0000   \n",
       "USA                                    5085.0000          8808.0000   \n",
       "Unknown Background (Firm)              5438.0000         61289.0000   \n",
       "Unknown Background (Person)           14403.0000         19965.0000   \n",
       "Venezuela                                77.0000           104.0000   \n",
       "Vietnam                                  22.0000            25.0000   \n",
       "\n",
       "                                   Total Property Values  \\\n",
       "Country                                                    \n",
       "Antigua & Barbuda                           1.254624e+08   \n",
       "Bolivia                                     1.033388e+06   \n",
       "British Virgin Islands                      3.835627e+08   \n",
       "Brunei                                      3.756692e+06   \n",
       "Comoros Islands                             9.600374e+07   \n",
       "Congo, Republic Of                          1.295719e+07   \n",
       "Czech Republic                              8.928884e+07   \n",
       "Democratic Rep, Of Congo                    2.906772e+06   \n",
       "Foreign Governmental Organisation           3.491826e+07   \n",
       "Iran                                        7.028738e+09   \n",
       "Ivory Coast                                 8.593277e+06   \n",
       "Kosovo                                      1.066098e+06   \n",
       "Kyrgistan                                   1.022073e+08   \n",
       "Macedonia                                   1.420616e+07   \n",
       "Moldova                                     1.447626e+07   \n",
       "North Korea                                 1.374193e+07   \n",
       "Palestine                                   8.875218e+08   \n",
       "Russia                                      3.344038e+09   \n",
       "Saint Vincent & The Grenadines              2.232975e+06   \n",
       "South Korea                                 1.924934e+08   \n",
       "Southern Sudan                              9.043319e+06   \n",
       "Syria                                       2.976197e+09   \n",
       "Taiwan                                      4.671070e+07   \n",
       "Tanzania                                    2.371172e+08   \n",
       "Trinidad & Tobago                           5.524217e+06   \n",
       "Turkey                                      7.202502e+08   \n",
       "USA                                         3.020718e+09   \n",
       "Unknown Background (Firm)                   9.231558e+10   \n",
       "Unknown Background (Person)                 6.829583e+09   \n",
       "Venezuela                                   4.524483e+07   \n",
       "Vietnam                                     7.910712e+06   \n",
       "\n",
       "                                   GDP (current USD, 2018 or latest available - for coverage)  \\\n",
       "Country                                                                                         \n",
       "Antigua & Barbuda                                                       1.610000e+09            \n",
       "Bolivia                                                                 4.030000e+10            \n",
       "British Virgin Islands                                                  1.000000e+09            \n",
       "Brunei                                                                  1.360000e+10            \n",
       "Comoros Islands                                                         1.190000e+09            \n",
       "Congo, Republic Of                                                      1.370000e+10            \n",
       "Czech Republic                                                          2.490000e+11            \n",
       "Democratic Rep, Of Congo                                                4.720000e+10            \n",
       "Foreign Governmental Organisation                                                NaN            \n",
       "Iran                                                                    2.940000e+11            \n",
       "Ivory Coast                                                             5.800000e+10            \n",
       "Kosovo                                                                  7.880000e+09            \n",
       "Kyrgistan                                                               8.270000e+09            \n",
       "Macedonia                                                               1.270000e+10            \n",
       "Moldova                                                                 1.150000e+10            \n",
       "North Korea                                                             4.000000e+10            \n",
       "Palestine                                                               1.630000e+10            \n",
       "Russia                                                                  1.660000e+12            \n",
       "Saint Vincent & The Grenadines                                          8.110000e+08            \n",
       "South Korea                                                             1.730000e+12            \n",
       "Southern Sudan                                                          1.200000e+10            \n",
       "Syria                                                                   4.040000e+10            \n",
       "Taiwan                                                                  5.900000e+11            \n",
       "Tanzania                                                                5.700000e+10            \n",
       "Trinidad & Tobago                                                       2.370000e+10            \n",
       "Turkey                                                                  7.790000e+11            \n",
       "USA                                                                     2.060000e+13            \n",
       "Unknown Background (Firm)                                                        NaN            \n",
       "Unknown Background (Person)                                                      NaN            \n",
       "Venezuela                                                               4.820000e+11            \n",
       "Vietnam                                                                 2.450000e+11            \n",
       "\n",
       "                                   Total Property Value / GDP  \\\n",
       "Country                                                         \n",
       "Antigua & Barbuda                                        7.81   \n",
       "Bolivia                                                  0.00   \n",
       "British Virgin Islands                                  38.36   \n",
       "Brunei                                                   0.03   \n",
       "Comoros Islands                                          8.07   \n",
       "Congo, Republic Of                                       0.09   \n",
       "Czech Republic                                           0.04   \n",
       "Democratic Rep, Of Congo                                 0.01   \n",
       "Foreign Governmental Organisation                         NaN   \n",
       "Iran                                                     2.39   \n",
       "Ivory Coast                                              0.01   \n",
       "Kosovo                                                   0.01   \n",
       "Kyrgistan                                                1.24   \n",
       "Macedonia                                                0.11   \n",
       "Moldova                                                  0.13   \n",
       "North Korea                                              0.03   \n",
       "Palestine                                                5.45   \n",
       "Russia                                                   0.20   \n",
       "Saint Vincent & The Grenadines                           0.28   \n",
       "South Korea                                              0.01   \n",
       "Southern Sudan                                           0.08   \n",
       "Syria                                                    7.37   \n",
       "Taiwan                                                   0.01   \n",
       "Tanzania                                                 0.42   \n",
       "Trinidad & Tobago                                        0.02   \n",
       "Turkey                                                   0.09   \n",
       "USA                                                      0.01   \n",
       "Unknown Background (Firm)                                 NaN   \n",
       "Unknown Background (Person)                               NaN   \n",
       "Venezuela                                                0.01   \n",
       "Vietnam                                                  0.00   \n",
       "\n",
       "                                   Mean Property value  Median Property Value  \\\n",
       "Country                                                                         \n",
       "Antigua & Barbuda                            3584639.0               573702.0   \n",
       "Bolivia                                       206678.0                98122.0   \n",
       "British Virgin Islands                        420573.0               246430.0   \n",
       "Brunei                                        220982.0               211154.0   \n",
       "Comoros Islands                               379461.0               199552.0   \n",
       "Congo, Republic Of                            431906.0               221947.0   \n",
       "Czech Republic                                398611.0               279865.0   \n",
       "Democratic Rep, Of Congo                           NaN                    NaN   \n",
       "Foreign Governmental Organisation            2182392.0              1395278.0   \n",
       "Iran                                          420807.0               222273.0   \n",
       "Ivory Coast                                   252743.0               151226.0   \n",
       "Kosovo                                             NaN                    NaN   \n",
       "Kyrgistan                                     433082.0               275105.0   \n",
       "Macedonia                                     258294.0               195301.0   \n",
       "Moldova                                       263205.0               191224.0   \n",
       "North Korea                                   458064.0               401826.0   \n",
       "Palestine                                     318336.0               163682.0   \n",
       "Russia                                        342802.0               213468.0   \n",
       "Saint Vincent & The Grenadines                     NaN                    NaN   \n",
       "South Korea                                   406963.0               329300.0   \n",
       "Southern Sudan                                452166.0               454346.0   \n",
       "Syria                                         310895.0               167268.0   \n",
       "Taiwan                                        631226.0               545746.0   \n",
       "Tanzania                                      294556.0               186251.0   \n",
       "Trinidad & Tobago                             368281.0               238159.0   \n",
       "Turkey                                        453273.0               262428.0   \n",
       "USA                                           342952.0               209824.0   \n",
       "Unknown Background (Firm)                    1506234.0               285122.0   \n",
       "Unknown Background (Person)                   342078.0               190274.0   \n",
       "Venezuela                                     435046.0               267746.0   \n",
       "Vietnam                                       316429.0               320063.0   \n",
       "\n",
       "                                   Number of firms  Mean Age  \\\n",
       "Country                                                        \n",
       "Antigua & Barbuda                           0.0000      52.1   \n",
       "Bolivia                                     0.0000      47.8   \n",
       "British Virgin Islands                     44.0000      47.0   \n",
       "Brunei                                      0.0000      47.7   \n",
       "Comoros Islands                             0.0000      42.6   \n",
       "Congo, Republic Of                          0.0000      50.3   \n",
       "Czech Republic                              5.0000      46.5   \n",
       "Democratic Rep, Of Congo                    0.0000      45.0   \n",
       "Foreign Governmental Organisation           4.9998       NaN   \n",
       "Iran                                        7.0000      52.7   \n",
       "Ivory Coast                                 0.0000      52.4   \n",
       "Kosovo                                      0.0000      53.3   \n",
       "Kyrgistan                                   0.0000      44.0   \n",
       "Macedonia                                   0.0000      45.9   \n",
       "Moldova                                     0.0000      41.2   \n",
       "North Korea                                 0.0000      55.3   \n",
       "Palestine                                   0.0000      48.3   \n",
       "Russia                                     27.0000      49.2   \n",
       "Saint Vincent & The Grenadines              0.0000      57.5   \n",
       "South Korea                                 4.9998      48.3   \n",
       "Southern Sudan                              0.0000      51.6   \n",
       "Syria                                       0.0000      47.7   \n",
       "Taiwan                                      4.9998      44.4   \n",
       "Tanzania                                    0.0000      51.9   \n",
       "Trinidad & Tobago                           0.0000      46.2   \n",
       "Turkey                                      4.9998      45.0   \n",
       "USA                                        15.0000      52.6   \n",
       "Unknown Background (Firm)                5335.0000       NaN   \n",
       "Unknown Background (Person)                 0.0000      53.2   \n",
       "Venezuela                                   0.0000      45.4   \n",
       "Vietnam                                     0.0000      42.7   \n",
       "\n",
       "                                   Number with age variable  ...  \\\n",
       "Country                                                      ...   \n",
       "Antigua & Barbuda                                   13.0000  ...   \n",
       "Bolivia                                              5.0000  ...   \n",
       "British Virgin Islands                               4.9998  ...   \n",
       "Brunei                                              13.0000  ...   \n",
       "Comoros Islands                                    166.0000  ...   \n",
       "Congo, Republic Of                                  17.0000  ...   \n",
       "Czech Republic                                     146.0000  ...   \n",
       "Democratic Rep, Of Congo                             4.9998  ...   \n",
       "Foreign Governmental Organisation                    0.0000  ...   \n",
       "Iran                                              8201.0000  ...   \n",
       "Ivory Coast                                         20.0000  ...   \n",
       "Kosovo                                               4.9998  ...   \n",
       "Kyrgistan                                          103.0000  ...   \n",
       "Macedonia                                           44.0000  ...   \n",
       "Moldova                                             38.0000  ...   \n",
       "North Korea                                         21.0000  ...   \n",
       "Palestine                                         1241.0000  ...   \n",
       "Russia                                            5052.0000  ...   \n",
       "Saint Vincent & The Grenadines                       4.9998  ...   \n",
       "South Korea                                        305.0000  ...   \n",
       "Southern Sudan                                       8.0000  ...   \n",
       "Syria                                             4470.0000  ...   \n",
       "Taiwan                                              28.0000  ...   \n",
       "Tanzania                                           406.0000  ...   \n",
       "Trinidad & Tobago                                   13.0000  ...   \n",
       "Turkey                                             944.0000  ...   \n",
       "USA                                               4925.0000  ...   \n",
       "Unknown Background (Firm)                            0.0000  ...   \n",
       "Unknown Background (Person)                       4631.0000  ...   \n",
       "Venezuela                                           77.0000  ...   \n",
       "Vietnam                                             22.0000  ...   \n",
       "\n",
       "                                   Properties in Palm Jumeirah  \\\n",
       "Country                                                          \n",
       "Antigua & Barbuda                                       0.0000   \n",
       "Bolivia                                                 0.0000   \n",
       "British Virgin Islands                                  7.0000   \n",
       "Brunei                                                  0.0000   \n",
       "Comoros Islands                                         4.9998   \n",
       "Congo, Republic Of                                      0.0000   \n",
       "Czech Republic                                         37.0000   \n",
       "Democratic Rep, Of Congo                                0.0000   \n",
       "Foreign Governmental Organisation                       0.0000   \n",
       "Iran                                                  360.0000   \n",
       "Ivory Coast                                             0.0000   \n",
       "Kosovo                                                  0.0000   \n",
       "Kyrgistan                                              10.0000   \n",
       "Macedonia                                               4.9998   \n",
       "Moldova                                                 4.9998   \n",
       "North Korea                                             4.9998   \n",
       "Palestine                                              11.0000   \n",
       "Russia                                                944.0000   \n",
       "Saint Vincent & The Grenadines                          0.0000   \n",
       "South Korea                                             9.0000   \n",
       "Southern Sudan                                          0.0000   \n",
       "Syria                                                  72.0000   \n",
       "Taiwan                                                 26.0000   \n",
       "Tanzania                                                7.0000   \n",
       "Trinidad & Tobago                                       0.0000   \n",
       "Turkey                                                 77.0000   \n",
       "USA                                                   253.0000   \n",
       "Unknown Background (Firm)                            1175.0000   \n",
       "Unknown Background (Person)                           439.0000   \n",
       "Venezuela                                               0.0000   \n",
       "Vietnam                                                 4.9998   \n",
       "\n",
       "                                   Number of villas  Number of buildings  \\\n",
       "Country                                                                    \n",
       "Antigua & Barbuda                            9.0000               0.0000   \n",
       "Bolivia                                      4.9998               0.0000   \n",
       "British Virgin Islands                       5.0000               5.0000   \n",
       "Brunei                                       0.0000               0.0000   \n",
       "Comoros Islands                             31.0000               0.0000   \n",
       "Congo, Republic Of                           6.0000               0.0000   \n",
       "Czech Republic                              22.0000               0.0000   \n",
       "Democratic Rep, Of Congo                     4.9998               0.0000   \n",
       "Foreign Governmental Organisation            4.9998               0.0000   \n",
       "Iran                                      1766.0000              25.0000   \n",
       "Ivory Coast                                  4.9998               0.0000   \n",
       "Kosovo                                       0.0000               0.0000   \n",
       "Kyrgistan                                    6.0000               0.0000   \n",
       "Macedonia                                    4.9998               0.0000   \n",
       "Moldova                                      4.9998               0.0000   \n",
       "North Korea                                  4.9998               0.0000   \n",
       "Palestine                                  250.0000              16.0000   \n",
       "Russia                                     354.0000               4.9998   \n",
       "Saint Vincent & The Grenadines               4.9998               0.0000   \n",
       "South Korea                                 47.0000               0.0000   \n",
       "Southern Sudan                               4.9998               0.0000   \n",
       "Syria                                      642.0000              27.0000   \n",
       "Taiwan                                       4.9998               0.0000   \n",
       "Tanzania                                    84.0000               0.0000   \n",
       "Trinidad & Tobago                            4.9998               0.0000   \n",
       "Turkey                                     248.0000               4.9998   \n",
       "USA                                        968.0000               8.0000   \n",
       "Unknown Background (Firm)                 3321.0000             894.0000   \n",
       "Unknown Background (Person)                867.0000              27.0000   \n",
       "Venezuela                                   14.0000               0.0000   \n",
       "Vietnam                                      4.9998               0.0000   \n",
       "\n",
       "                                   Share of total values owned by top 10% owners  \\\n",
       "Country                                                                            \n",
       "Antigua & Barbuda                                                           86.0   \n",
       "Bolivia                                                                     70.0   \n",
       "British Virgin Islands                                                      80.0   \n",
       "Brunei                                                                      39.0   \n",
       "Comoros Islands                                                             55.0   \n",
       "Congo, Republic Of                                                          35.0   \n",
       "Czech Republic                                                              44.0   \n",
       "Democratic Rep, Of Congo                                                    96.0   \n",
       "Foreign Governmental Organisation                                           32.0   \n",
       "Iran                                                                        64.0   \n",
       "Ivory Coast                                                                 46.0   \n",
       "Kosovo                                                                      59.0   \n",
       "Kyrgistan                                                                   70.0   \n",
       "Macedonia                                                                   36.0   \n",
       "Moldova                                                                     41.0   \n",
       "North Korea                                                                 48.0   \n",
       "Palestine                                                                   60.0   \n",
       "Russia                                                                      54.0   \n",
       "Saint Vincent & The Grenadines                                              66.0   \n",
       "South Korea                                                                 45.0   \n",
       "Southern Sudan                                                              43.0   \n",
       "Syria                                                                       61.0   \n",
       "Taiwan                                                                      80.0   \n",
       "Tanzania                                                                    51.0   \n",
       "Trinidad & Tobago                                                           31.0   \n",
       "Turkey                                                                      53.0   \n",
       "USA                                                                         49.0   \n",
       "Unknown Background (Firm)                                                   94.0   \n",
       "Unknown Background (Person)                                                 59.0   \n",
       "Venezuela                                                                   45.0   \n",
       "Vietnam                                                                     31.0   \n",
       "\n",
       "                                   Share of total values owned by top 10% persons  \\\n",
       "Country                                                                             \n",
       "Antigua & Barbuda                                                            86.0   \n",
       "Bolivia                                                                      70.0   \n",
       "British Virgin Islands                                                        0.0   \n",
       "Brunei                                                                       39.0   \n",
       "Comoros Islands                                                              55.0   \n",
       "Congo, Republic Of                                                           35.0   \n",
       "Czech Republic                                                               44.0   \n",
       "Democratic Rep, Of Congo                                                     96.0   \n",
       "Foreign Governmental Organisation                                            32.0   \n",
       "Iran                                                                         62.0   \n",
       "Ivory Coast                                                                  46.0   \n",
       "Kosovo                                                                       59.0   \n",
       "Kyrgistan                                                                    70.0   \n",
       "Macedonia                                                                    36.0   \n",
       "Moldova                                                                      41.0   \n",
       "North Korea                                                                  48.0   \n",
       "Palestine                                                                    60.0   \n",
       "Russia                                                                       52.0   \n",
       "Saint Vincent & The Grenadines                                               66.0   \n",
       "South Korea                                                                  45.0   \n",
       "Southern Sudan                                                               43.0   \n",
       "Syria                                                                        60.0   \n",
       "Taiwan                                                                        7.0   \n",
       "Tanzania                                                                     51.0   \n",
       "Trinidad & Tobago                                                            31.0   \n",
       "Turkey                                                                       53.0   \n",
       "USA                                                                          46.0   \n",
       "Unknown Background (Firm)                                                     NaN   \n",
       "Unknown Background (Person)                                                  59.0   \n",
       "Venezuela                                                                    45.0   \n",
       "Vietnam                                                                      31.0   \n",
       "\n",
       "                                   Share of total values owned by top 10% firms  \\\n",
       "Country                                                                           \n",
       "Antigua & Barbuda                                                           NaN   \n",
       "Bolivia                                                                     NaN   \n",
       "British Virgin Islands                                                     80.0   \n",
       "Brunei                                                                      NaN   \n",
       "Comoros Islands                                                             NaN   \n",
       "Congo, Republic Of                                                          NaN   \n",
       "Czech Republic                                                              1.0   \n",
       "Democratic Rep, Of Congo                                                    NaN   \n",
       "Foreign Governmental Organisation                                           4.0   \n",
       "Iran                                                                        1.0   \n",
       "Ivory Coast                                                                 NaN   \n",
       "Kosovo                                                                      NaN   \n",
       "Kyrgistan                                                                   NaN   \n",
       "Macedonia                                                                   NaN   \n",
       "Moldova                                                                     NaN   \n",
       "North Korea                                                                 NaN   \n",
       "Palestine                                                                   NaN   \n",
       "Russia                                                                      1.0   \n",
       "Saint Vincent & The Grenadines                                              NaN   \n",
       "South Korea                                                                 1.0   \n",
       "Southern Sudan                                                              NaN   \n",
       "Syria                                                                       1.0   \n",
       "Taiwan                                                                     58.0   \n",
       "Tanzania                                                                    NaN   \n",
       "Trinidad & Tobago                                                           NaN   \n",
       "Turkey                                                                      0.0   \n",
       "USA                                                                         2.0   \n",
       "Unknown Background (Firm)                                                  94.0   \n",
       "Unknown Background (Person)                                                 NaN   \n",
       "Venezuela                                                                   NaN   \n",
       "Vietnam                                                                     NaN   \n",
       "\n",
       "                                   Share of total values owned by top 1% owners  \\\n",
       "Country                                                                           \n",
       "Antigua & Barbuda                                                          80.0   \n",
       "Bolivia                                                                    70.0   \n",
       "British Virgin Islands                                                     49.0   \n",
       "Brunei                                                                     29.0   \n",
       "Comoros Islands                                                            20.0   \n",
       "Congo, Republic Of                                                         18.0   \n",
       "Czech Republic                                                             17.0   \n",
       "Democratic Rep, Of Congo                                                   96.0   \n",
       "Foreign Governmental Organisation                                          32.0   \n",
       "Iran                                                                       31.0   \n",
       "Ivory Coast                                                                19.0   \n",
       "Kosovo                                                                     59.0   \n",
       "Kyrgistan                                                                  30.0   \n",
       "Macedonia                                                                  19.0   \n",
       "Moldova                                                                    19.0   \n",
       "North Korea                                                                30.0   \n",
       "Palestine                                                                  25.0   \n",
       "Russia                                                                     19.0   \n",
       "Saint Vincent & The Grenadines                                             66.0   \n",
       "South Korea                                                                16.0   \n",
       "Southern Sudan                                                             43.0   \n",
       "Syria                                                                      32.0   \n",
       "Taiwan                                                                     58.0   \n",
       "Tanzania                                                                   14.0   \n",
       "Trinidad & Tobago                                                          18.0   \n",
       "Turkey                                                                     21.0   \n",
       "USA                                                                        16.0   \n",
       "Unknown Background (Firm)                                                  73.0   \n",
       "Unknown Background (Person)                                                32.0   \n",
       "Venezuela                                                                   9.0   \n",
       "Vietnam                                                                    13.0   \n",
       "\n",
       "                                   Share of total values owned by top 1% persons  \\\n",
       "Country                                                                            \n",
       "Antigua & Barbuda                                                           80.0   \n",
       "Bolivia                                                                     70.0   \n",
       "British Virgin Islands                                                       0.0   \n",
       "Brunei                                                                      29.0   \n",
       "Comoros Islands                                                             20.0   \n",
       "Congo, Republic Of                                                          18.0   \n",
       "Czech Republic                                                              17.0   \n",
       "Democratic Rep, Of Congo                                                    96.0   \n",
       "Foreign Governmental Organisation                                           32.0   \n",
       "Iran                                                                        29.0   \n",
       "Ivory Coast                                                                 19.0   \n",
       "Kosovo                                                                      59.0   \n",
       "Kyrgistan                                                                   30.0   \n",
       "Macedonia                                                                   19.0   \n",
       "Moldova                                                                     19.0   \n",
       "North Korea                                                                 30.0   \n",
       "Palestine                                                                   25.0   \n",
       "Russia                                                                      18.0   \n",
       "Saint Vincent & The Grenadines                                              66.0   \n",
       "South Korea                                                                 16.0   \n",
       "Southern Sudan                                                              43.0   \n",
       "Syria                                                                       32.0   \n",
       "Taiwan                                                                       3.0   \n",
       "Tanzania                                                                    14.0   \n",
       "Trinidad & Tobago                                                           18.0   \n",
       "Turkey                                                                      21.0   \n",
       "USA                                                                         14.0   \n",
       "Unknown Background (Firm)                                                    NaN   \n",
       "Unknown Background (Person)                                                 32.0   \n",
       "Venezuela                                                                    9.0   \n",
       "Vietnam                                                                     13.0   \n",
       "\n",
       "                                   Share of total values owned by top 1% firms  \\\n",
       "Country                                                                          \n",
       "Antigua & Barbuda                                                          NaN   \n",
       "Bolivia                                                                    NaN   \n",
       "British Virgin Islands                                                    49.0   \n",
       "Brunei                                                                     NaN   \n",
       "Comoros Islands                                                            NaN   \n",
       "Congo, Republic Of                                                         NaN   \n",
       "Czech Republic                                                             1.0   \n",
       "Democratic Rep, Of Congo                                                   NaN   \n",
       "Foreign Governmental Organisation                                          4.0   \n",
       "Iran                                                                       1.0   \n",
       "Ivory Coast                                                                NaN   \n",
       "Kosovo                                                                     NaN   \n",
       "Kyrgistan                                                                  NaN   \n",
       "Macedonia                                                                  NaN   \n",
       "Moldova                                                                    NaN   \n",
       "North Korea                                                                NaN   \n",
       "Palestine                                                                  NaN   \n",
       "Russia                                                                     1.0   \n",
       "Saint Vincent & The Grenadines                                             NaN   \n",
       "South Korea                                                                1.0   \n",
       "Southern Sudan                                                             NaN   \n",
       "Syria                                                                      1.0   \n",
       "Taiwan                                                                    58.0   \n",
       "Tanzania                                                                   NaN   \n",
       "Trinidad & Tobago                                                          NaN   \n",
       "Turkey                                                                     0.0   \n",
       "USA                                                                        2.0   \n",
       "Unknown Background (Firm)                                                 73.0   \n",
       "Unknown Background (Person)                                                NaN   \n",
       "Venezuela                                                                  NaN   \n",
       "Vietnam                                                                    NaN   \n",
       "\n",
       "                                   Code  \n",
       "Country                                  \n",
       "Antigua & Barbuda                  None  \n",
       "Bolivia                            None  \n",
       "British Virgin Islands             None  \n",
       "Brunei                             None  \n",
       "Comoros Islands                    None  \n",
       "Congo, Republic Of                 None  \n",
       "Czech Republic                     None  \n",
       "Democratic Rep, Of Congo           None  \n",
       "Foreign Governmental Organisation  None  \n",
       "Iran                               None  \n",
       "Ivory Coast                        None  \n",
       "Kosovo                             None  \n",
       "Kyrgistan                          None  \n",
       "Macedonia                          None  \n",
       "Moldova                            None  \n",
       "North Korea                        None  \n",
       "Palestine                          None  \n",
       "Russia                             None  \n",
       "Saint Vincent & The Grenadines     None  \n",
       "South Korea                        None  \n",
       "Southern Sudan                     None  \n",
       "Syria                              None  \n",
       "Taiwan                             None  \n",
       "Tanzania                           None  \n",
       "Trinidad & Tobago                  None  \n",
       "Turkey                             None  \n",
       "USA                                None  \n",
       "Unknown Background (Firm)          None  \n",
       "Unknown Background (Person)        None  \n",
       "Venezuela                          None  \n",
       "Vietnam                            None  \n",
       "\n",
       "[31 rows x 27 columns]"
      ]
     },
     "execution_count": 13,
     "metadata": {},
     "output_type": "execute_result"
    }
   ],
   "source": [
    "data[data[\"Code\"] == \"None\"]"
   ]
  },
  {
   "cell_type": "markdown",
   "id": "9d2c6403-e9a9-4e2d-9642-a51001cedb23",
   "metadata": {
    "deletable": false,
    "editable": false
   },
   "source": [
    "**Question 1.4:** We can see that the function fails in a small portion of cases. We have provided a list of all the cases where the function fails; you have to manually correct these cases by manually referencing the [website](https://www.iban.com/country-codes). This might seem tedious, but that is the point - data cleaning must done with careful attention to detail."
   ]
  },
  {
   "cell_type": "code",
   "execution_count": 14,
   "id": "a9ccb1e9",
   "metadata": {
    "tags": []
   },
   "outputs": [],
   "source": [
    "data.loc['Antigua & Barbuda','Code'] = 'ATG'\n",
    "data.loc['Brunei','Code'] = 'BRN'\n",
    "data.loc['Congo, Republic Of','Code'] = 'COG'\n",
    "data.loc['Czech Republic','Code'] = 'CZE'\n",
    "data.loc['Iran','Code'] = 'IRN'\n",
    "data.loc['Ivory Coast','Code'] = 'CIV'\n",
    "data.loc['Kyrgistan','Code'] = 'KGZ'\n",
    "data.loc['Macedonia','Code'] = 'MKD'\n",
    "data.loc['Moldova','Code'] = 'MDA'\n",
    "data.loc['North Korea','Code'] = 'PRK'\n",
    "data.loc['Palestine','Code'] = 'PSE'\n",
    "data.loc['Russia','Code'] = 'RUS'\n",
    "data.loc['Saint Vincent & The Grenadines','Code'] = 'VCT'\n",
    "data.loc['South Korea','Code'] = 'KOR'\n",
    "data.loc['Southern Sudan','Code'] = 'SSD'\n",
    "data.loc['Syria','Code'] = 'SYR'\n",
    "data.loc['Taiwan','Code'] = 'TWN'\n",
    "data.loc['Tanzania','Code'] = 'TZA'\n",
    "data.loc['Trinidad & Tobago','Code'] = 'TTO'\n",
    "data.loc['USA','Code'] = 'USA'\n",
    "data.loc['Venezuela','Code'] = 'VEN'\n",
    "data.loc['Vietnam','Code'] = 'VNM'\n",
    "data.loc['Bolivia','Code'] = 'BOL'\n",
    "data.loc['Democratic Rep, Of Congo','Code'] = 'COD'\n",
    "data.loc['Turkey','Code'] = 'TUR'\n",
    "data.loc['Comoros Islands','Code'] = 'COM'\n",
    "data.loc['British Virgin Islands','Code'] = 'VGB'"
   ]
  },
  {
   "cell_type": "code",
   "execution_count": 15,
   "id": "1ad6f2a3",
   "metadata": {
    "deletable": false,
    "editable": false
   },
   "outputs": [
    {
     "data": {
      "text/html": [
       "<p><strong><pre style='display: inline;'>q1_4</pre></strong> passed! ✨</p>"
      ],
      "text/plain": [
       "q1_4 results: All test cases passed!"
      ]
     },
     "execution_count": 15,
     "metadata": {},
     "output_type": "execute_result"
    }
   ],
   "source": [
    "grader.check(\"q1_4\")"
   ]
  },
  {
   "cell_type": "markdown",
   "id": "aaf1b332-4b97-4dfb-9b40-4621e96920c2",
   "metadata": {},
   "source": [
    "Let us now look at the cases where the `Code` column is still 'None'."
   ]
  },
  {
   "cell_type": "code",
   "execution_count": 16,
   "id": "a25f0ed3",
   "metadata": {},
   "outputs": [
    {
     "data": {
      "text/html": [
       "<div>\n",
       "<style scoped>\n",
       "    .dataframe tbody tr th:only-of-type {\n",
       "        vertical-align: middle;\n",
       "    }\n",
       "\n",
       "    .dataframe tbody tr th {\n",
       "        vertical-align: top;\n",
       "    }\n",
       "\n",
       "    .dataframe thead th {\n",
       "        text-align: right;\n",
       "    }\n",
       "</style>\n",
       "<table border=\"1\" class=\"dataframe\">\n",
       "  <thead>\n",
       "    <tr style=\"text-align: right;\">\n",
       "      <th></th>\n",
       "      <th>Unique Owners</th>\n",
       "      <th>Unique Properties</th>\n",
       "      <th>Total Property Values</th>\n",
       "      <th>GDP (current USD, 2018 or latest available - for coverage)</th>\n",
       "      <th>Total Property Value / GDP</th>\n",
       "      <th>Mean Property value</th>\n",
       "      <th>Median Property Value</th>\n",
       "      <th>Number of firms</th>\n",
       "      <th>Mean Age</th>\n",
       "      <th>Number with age variable</th>\n",
       "      <th>...</th>\n",
       "      <th>Properties in Palm Jumeirah</th>\n",
       "      <th>Number of villas</th>\n",
       "      <th>Number of buildings</th>\n",
       "      <th>Share of total values owned by top 10% owners</th>\n",
       "      <th>Share of total values owned by top 10% persons</th>\n",
       "      <th>Share of total values owned by top 10% firms</th>\n",
       "      <th>Share of total values owned by top 1% owners</th>\n",
       "      <th>Share of total values owned by top 1% persons</th>\n",
       "      <th>Share of total values owned by top 1% firms</th>\n",
       "      <th>Code</th>\n",
       "    </tr>\n",
       "    <tr>\n",
       "      <th>Country</th>\n",
       "      <th></th>\n",
       "      <th></th>\n",
       "      <th></th>\n",
       "      <th></th>\n",
       "      <th></th>\n",
       "      <th></th>\n",
       "      <th></th>\n",
       "      <th></th>\n",
       "      <th></th>\n",
       "      <th></th>\n",
       "      <th></th>\n",
       "      <th></th>\n",
       "      <th></th>\n",
       "      <th></th>\n",
       "      <th></th>\n",
       "      <th></th>\n",
       "      <th></th>\n",
       "      <th></th>\n",
       "      <th></th>\n",
       "      <th></th>\n",
       "      <th></th>\n",
       "    </tr>\n",
       "  </thead>\n",
       "  <tbody>\n",
       "    <tr>\n",
       "      <th>Foreign Governmental Organisation</th>\n",
       "      <td>8.0000</td>\n",
       "      <td>16.0000</td>\n",
       "      <td>3.491826e+07</td>\n",
       "      <td>NaN</td>\n",
       "      <td>NaN</td>\n",
       "      <td>2182392.0</td>\n",
       "      <td>1395278.0</td>\n",
       "      <td>4.9998</td>\n",
       "      <td>NaN</td>\n",
       "      <td>0.0000</td>\n",
       "      <td>...</td>\n",
       "      <td>0.0</td>\n",
       "      <td>4.9998</td>\n",
       "      <td>0.0</td>\n",
       "      <td>32.0</td>\n",
       "      <td>32.0</td>\n",
       "      <td>4.0</td>\n",
       "      <td>32.0</td>\n",
       "      <td>32.0</td>\n",
       "      <td>4.0</td>\n",
       "      <td>None</td>\n",
       "    </tr>\n",
       "    <tr>\n",
       "      <th>Kosovo</th>\n",
       "      <td>4.9998</td>\n",
       "      <td>4.9998</td>\n",
       "      <td>1.066098e+06</td>\n",
       "      <td>7.880000e+09</td>\n",
       "      <td>0.01</td>\n",
       "      <td>NaN</td>\n",
       "      <td>NaN</td>\n",
       "      <td>0.0000</td>\n",
       "      <td>53.3</td>\n",
       "      <td>4.9998</td>\n",
       "      <td>...</td>\n",
       "      <td>0.0</td>\n",
       "      <td>0.0000</td>\n",
       "      <td>0.0</td>\n",
       "      <td>59.0</td>\n",
       "      <td>59.0</td>\n",
       "      <td>NaN</td>\n",
       "      <td>59.0</td>\n",
       "      <td>59.0</td>\n",
       "      <td>NaN</td>\n",
       "      <td>None</td>\n",
       "    </tr>\n",
       "    <tr>\n",
       "      <th>Unknown Background (Firm)</th>\n",
       "      <td>5438.0000</td>\n",
       "      <td>61289.0000</td>\n",
       "      <td>9.231558e+10</td>\n",
       "      <td>NaN</td>\n",
       "      <td>NaN</td>\n",
       "      <td>1506234.0</td>\n",
       "      <td>285122.0</td>\n",
       "      <td>5335.0000</td>\n",
       "      <td>NaN</td>\n",
       "      <td>0.0000</td>\n",
       "      <td>...</td>\n",
       "      <td>1175.0</td>\n",
       "      <td>3321.0000</td>\n",
       "      <td>894.0</td>\n",
       "      <td>94.0</td>\n",
       "      <td>NaN</td>\n",
       "      <td>94.0</td>\n",
       "      <td>73.0</td>\n",
       "      <td>NaN</td>\n",
       "      <td>73.0</td>\n",
       "      <td>None</td>\n",
       "    </tr>\n",
       "    <tr>\n",
       "      <th>Unknown Background (Person)</th>\n",
       "      <td>14403.0000</td>\n",
       "      <td>19965.0000</td>\n",
       "      <td>6.829583e+09</td>\n",
       "      <td>NaN</td>\n",
       "      <td>NaN</td>\n",
       "      <td>342078.0</td>\n",
       "      <td>190274.0</td>\n",
       "      <td>0.0000</td>\n",
       "      <td>53.2</td>\n",
       "      <td>4631.0000</td>\n",
       "      <td>...</td>\n",
       "      <td>439.0</td>\n",
       "      <td>867.0000</td>\n",
       "      <td>27.0</td>\n",
       "      <td>59.0</td>\n",
       "      <td>59.0</td>\n",
       "      <td>NaN</td>\n",
       "      <td>32.0</td>\n",
       "      <td>32.0</td>\n",
       "      <td>NaN</td>\n",
       "      <td>None</td>\n",
       "    </tr>\n",
       "  </tbody>\n",
       "</table>\n",
       "<p>4 rows × 27 columns</p>\n",
       "</div>"
      ],
      "text/plain": [
       "                                   Unique Owners  Unique Properties  \\\n",
       "Country                                                               \n",
       "Foreign Governmental Organisation         8.0000            16.0000   \n",
       "Kosovo                                    4.9998             4.9998   \n",
       "Unknown Background (Firm)              5438.0000         61289.0000   \n",
       "Unknown Background (Person)           14403.0000         19965.0000   \n",
       "\n",
       "                                   Total Property Values  \\\n",
       "Country                                                    \n",
       "Foreign Governmental Organisation           3.491826e+07   \n",
       "Kosovo                                      1.066098e+06   \n",
       "Unknown Background (Firm)                   9.231558e+10   \n",
       "Unknown Background (Person)                 6.829583e+09   \n",
       "\n",
       "                                   GDP (current USD, 2018 or latest available - for coverage)  \\\n",
       "Country                                                                                         \n",
       "Foreign Governmental Organisation                                                NaN            \n",
       "Kosovo                                                                  7.880000e+09            \n",
       "Unknown Background (Firm)                                                        NaN            \n",
       "Unknown Background (Person)                                                      NaN            \n",
       "\n",
       "                                   Total Property Value / GDP  \\\n",
       "Country                                                         \n",
       "Foreign Governmental Organisation                         NaN   \n",
       "Kosovo                                                   0.01   \n",
       "Unknown Background (Firm)                                 NaN   \n",
       "Unknown Background (Person)                               NaN   \n",
       "\n",
       "                                   Mean Property value  Median Property Value  \\\n",
       "Country                                                                         \n",
       "Foreign Governmental Organisation            2182392.0              1395278.0   \n",
       "Kosovo                                             NaN                    NaN   \n",
       "Unknown Background (Firm)                    1506234.0               285122.0   \n",
       "Unknown Background (Person)                   342078.0               190274.0   \n",
       "\n",
       "                                   Number of firms  Mean Age  \\\n",
       "Country                                                        \n",
       "Foreign Governmental Organisation           4.9998       NaN   \n",
       "Kosovo                                      0.0000      53.3   \n",
       "Unknown Background (Firm)                5335.0000       NaN   \n",
       "Unknown Background (Person)                 0.0000      53.2   \n",
       "\n",
       "                                   Number with age variable  ...  \\\n",
       "Country                                                      ...   \n",
       "Foreign Governmental Organisation                    0.0000  ...   \n",
       "Kosovo                                               4.9998  ...   \n",
       "Unknown Background (Firm)                            0.0000  ...   \n",
       "Unknown Background (Person)                       4631.0000  ...   \n",
       "\n",
       "                                   Properties in Palm Jumeirah  \\\n",
       "Country                                                          \n",
       "Foreign Governmental Organisation                          0.0   \n",
       "Kosovo                                                     0.0   \n",
       "Unknown Background (Firm)                               1175.0   \n",
       "Unknown Background (Person)                              439.0   \n",
       "\n",
       "                                   Number of villas  Number of buildings  \\\n",
       "Country                                                                    \n",
       "Foreign Governmental Organisation            4.9998                  0.0   \n",
       "Kosovo                                       0.0000                  0.0   \n",
       "Unknown Background (Firm)                 3321.0000                894.0   \n",
       "Unknown Background (Person)                867.0000                 27.0   \n",
       "\n",
       "                                   Share of total values owned by top 10% owners  \\\n",
       "Country                                                                            \n",
       "Foreign Governmental Organisation                                           32.0   \n",
       "Kosovo                                                                      59.0   \n",
       "Unknown Background (Firm)                                                   94.0   \n",
       "Unknown Background (Person)                                                 59.0   \n",
       "\n",
       "                                   Share of total values owned by top 10% persons  \\\n",
       "Country                                                                             \n",
       "Foreign Governmental Organisation                                            32.0   \n",
       "Kosovo                                                                       59.0   \n",
       "Unknown Background (Firm)                                                     NaN   \n",
       "Unknown Background (Person)                                                  59.0   \n",
       "\n",
       "                                   Share of total values owned by top 10% firms  \\\n",
       "Country                                                                           \n",
       "Foreign Governmental Organisation                                           4.0   \n",
       "Kosovo                                                                      NaN   \n",
       "Unknown Background (Firm)                                                  94.0   \n",
       "Unknown Background (Person)                                                 NaN   \n",
       "\n",
       "                                   Share of total values owned by top 1% owners  \\\n",
       "Country                                                                           \n",
       "Foreign Governmental Organisation                                          32.0   \n",
       "Kosovo                                                                     59.0   \n",
       "Unknown Background (Firm)                                                  73.0   \n",
       "Unknown Background (Person)                                                32.0   \n",
       "\n",
       "                                   Share of total values owned by top 1% persons  \\\n",
       "Country                                                                            \n",
       "Foreign Governmental Organisation                                           32.0   \n",
       "Kosovo                                                                      59.0   \n",
       "Unknown Background (Firm)                                                    NaN   \n",
       "Unknown Background (Person)                                                 32.0   \n",
       "\n",
       "                                   Share of total values owned by top 1% firms  \\\n",
       "Country                                                                          \n",
       "Foreign Governmental Organisation                                          4.0   \n",
       "Kosovo                                                                     NaN   \n",
       "Unknown Background (Firm)                                                 73.0   \n",
       "Unknown Background (Person)                                                NaN   \n",
       "\n",
       "                                   Code  \n",
       "Country                                  \n",
       "Foreign Governmental Organisation  None  \n",
       "Kosovo                             None  \n",
       "Unknown Background (Firm)          None  \n",
       "Unknown Background (Person)        None  \n",
       "\n",
       "[4 rows x 27 columns]"
      ]
     },
     "execution_count": 16,
     "metadata": {},
     "output_type": "execute_result"
    }
   ],
   "source": [
    "data[data[\"Code\"] == \"None\"]"
   ]
  },
  {
   "cell_type": "markdown",
   "id": "a76e35b0-e910-43ba-a1d7-eca901a3bd4d",
   "metadata": {},
   "source": [
    "We can see none of these countries/organizations have a 3-letter country code associated with them, so we can drop these rows."
   ]
  },
  {
   "cell_type": "code",
   "execution_count": 17,
   "id": "ced3d11a-dd29-4c42-8380-5c00278ee708",
   "metadata": {},
   "outputs": [
    {
     "data": {
      "text/html": [
       "<div>\n",
       "<style scoped>\n",
       "    .dataframe tbody tr th:only-of-type {\n",
       "        vertical-align: middle;\n",
       "    }\n",
       "\n",
       "    .dataframe tbody tr th {\n",
       "        vertical-align: top;\n",
       "    }\n",
       "\n",
       "    .dataframe thead th {\n",
       "        text-align: right;\n",
       "    }\n",
       "</style>\n",
       "<table border=\"1\" class=\"dataframe\">\n",
       "  <thead>\n",
       "    <tr style=\"text-align: right;\">\n",
       "      <th></th>\n",
       "      <th>Unique Owners</th>\n",
       "      <th>Unique Properties</th>\n",
       "      <th>Total Property Values</th>\n",
       "      <th>GDP (current USD, 2018 or latest available - for coverage)</th>\n",
       "      <th>Total Property Value / GDP</th>\n",
       "      <th>Mean Property value</th>\n",
       "      <th>Median Property Value</th>\n",
       "      <th>Number of firms</th>\n",
       "      <th>Mean Age</th>\n",
       "      <th>Number with age variable</th>\n",
       "      <th>...</th>\n",
       "      <th>Properties in Palm Jumeirah</th>\n",
       "      <th>Number of villas</th>\n",
       "      <th>Number of buildings</th>\n",
       "      <th>Share of total values owned by top 10% owners</th>\n",
       "      <th>Share of total values owned by top 10% persons</th>\n",
       "      <th>Share of total values owned by top 10% firms</th>\n",
       "      <th>Share of total values owned by top 1% owners</th>\n",
       "      <th>Share of total values owned by top 1% persons</th>\n",
       "      <th>Share of total values owned by top 1% firms</th>\n",
       "      <th>Code</th>\n",
       "    </tr>\n",
       "    <tr>\n",
       "      <th>Country</th>\n",
       "      <th></th>\n",
       "      <th></th>\n",
       "      <th></th>\n",
       "      <th></th>\n",
       "      <th></th>\n",
       "      <th></th>\n",
       "      <th></th>\n",
       "      <th></th>\n",
       "      <th></th>\n",
       "      <th></th>\n",
       "      <th></th>\n",
       "      <th></th>\n",
       "      <th></th>\n",
       "      <th></th>\n",
       "      <th></th>\n",
       "      <th></th>\n",
       "      <th></th>\n",
       "      <th></th>\n",
       "      <th></th>\n",
       "      <th></th>\n",
       "      <th></th>\n",
       "    </tr>\n",
       "  </thead>\n",
       "  <tbody>\n",
       "    <tr>\n",
       "      <th>Afghanistan</th>\n",
       "      <td>1134.0000</td>\n",
       "      <td>3220.0000</td>\n",
       "      <td>1.410029e+09</td>\n",
       "      <td>1.810000e+10</td>\n",
       "      <td>7.81</td>\n",
       "      <td>437897.0</td>\n",
       "      <td>252006.0</td>\n",
       "      <td>0.0</td>\n",
       "      <td>45.4</td>\n",
       "      <td>1123.0000</td>\n",
       "      <td>...</td>\n",
       "      <td>199.0000</td>\n",
       "      <td>352.0000</td>\n",
       "      <td>16.0</td>\n",
       "      <td>66.0</td>\n",
       "      <td>66.0</td>\n",
       "      <td>NaN</td>\n",
       "      <td>38.0</td>\n",
       "      <td>38.0</td>\n",
       "      <td>NaN</td>\n",
       "      <td>AFG</td>\n",
       "    </tr>\n",
       "    <tr>\n",
       "      <th>Albania</th>\n",
       "      <td>17.0000</td>\n",
       "      <td>19.0000</td>\n",
       "      <td>6.762555e+06</td>\n",
       "      <td>1.520000e+10</td>\n",
       "      <td>0.04</td>\n",
       "      <td>355924.0</td>\n",
       "      <td>325745.0</td>\n",
       "      <td>0.0</td>\n",
       "      <td>40.4</td>\n",
       "      <td>16.0000</td>\n",
       "      <td>...</td>\n",
       "      <td>4.9998</td>\n",
       "      <td>4.9998</td>\n",
       "      <td>0.0</td>\n",
       "      <td>79.0</td>\n",
       "      <td>79.0</td>\n",
       "      <td>NaN</td>\n",
       "      <td>56.0</td>\n",
       "      <td>56.0</td>\n",
       "      <td>NaN</td>\n",
       "      <td>ALB</td>\n",
       "    </tr>\n",
       "    <tr>\n",
       "      <th>Algeria</th>\n",
       "      <td>790.0000</td>\n",
       "      <td>1539.0000</td>\n",
       "      <td>4.500115e+08</td>\n",
       "      <td>1.750000e+11</td>\n",
       "      <td>0.26</td>\n",
       "      <td>292405.0</td>\n",
       "      <td>196108.0</td>\n",
       "      <td>0.0</td>\n",
       "      <td>48.8</td>\n",
       "      <td>787.0000</td>\n",
       "      <td>...</td>\n",
       "      <td>27.0000</td>\n",
       "      <td>131.0000</td>\n",
       "      <td>0.0</td>\n",
       "      <td>54.0</td>\n",
       "      <td>54.0</td>\n",
       "      <td>NaN</td>\n",
       "      <td>25.0</td>\n",
       "      <td>25.0</td>\n",
       "      <td>NaN</td>\n",
       "      <td>DZA</td>\n",
       "    </tr>\n",
       "    <tr>\n",
       "      <th>American Samoa</th>\n",
       "      <td>4.9998</td>\n",
       "      <td>9.0000</td>\n",
       "      <td>1.008272e+07</td>\n",
       "      <td>6.390000e+08</td>\n",
       "      <td>1.58</td>\n",
       "      <td>1120303.0</td>\n",
       "      <td>844572.0</td>\n",
       "      <td>0.0</td>\n",
       "      <td>57.5</td>\n",
       "      <td>4.9998</td>\n",
       "      <td>...</td>\n",
       "      <td>0.0000</td>\n",
       "      <td>0.0000</td>\n",
       "      <td>0.0</td>\n",
       "      <td>93.0</td>\n",
       "      <td>93.0</td>\n",
       "      <td>NaN</td>\n",
       "      <td>93.0</td>\n",
       "      <td>93.0</td>\n",
       "      <td>NaN</td>\n",
       "      <td>ASM</td>\n",
       "    </tr>\n",
       "    <tr>\n",
       "      <th>Andorra</th>\n",
       "      <td>4.9998</td>\n",
       "      <td>4.9998</td>\n",
       "      <td>2.432220e+05</td>\n",
       "      <td>3.220000e+09</td>\n",
       "      <td>0.01</td>\n",
       "      <td>NaN</td>\n",
       "      <td>NaN</td>\n",
       "      <td>0.0</td>\n",
       "      <td>54.0</td>\n",
       "      <td>4.9998</td>\n",
       "      <td>...</td>\n",
       "      <td>0.0000</td>\n",
       "      <td>0.0000</td>\n",
       "      <td>0.0</td>\n",
       "      <td>100.0</td>\n",
       "      <td>100.0</td>\n",
       "      <td>NaN</td>\n",
       "      <td>100.0</td>\n",
       "      <td>100.0</td>\n",
       "      <td>NaN</td>\n",
       "      <td>AND</td>\n",
       "    </tr>\n",
       "  </tbody>\n",
       "</table>\n",
       "<p>5 rows × 27 columns</p>\n",
       "</div>"
      ],
      "text/plain": [
       "                Unique Owners  Unique Properties  Total Property Values  \\\n",
       "Country                                                                   \n",
       "Afghanistan         1134.0000          3220.0000           1.410029e+09   \n",
       "Albania               17.0000            19.0000           6.762555e+06   \n",
       "Algeria              790.0000          1539.0000           4.500115e+08   \n",
       "American Samoa         4.9998             9.0000           1.008272e+07   \n",
       "Andorra                4.9998             4.9998           2.432220e+05   \n",
       "\n",
       "                GDP (current USD, 2018 or latest available - for coverage)  \\\n",
       "Country                                                                      \n",
       "Afghanistan                                          1.810000e+10            \n",
       "Albania                                              1.520000e+10            \n",
       "Algeria                                              1.750000e+11            \n",
       "American Samoa                                       6.390000e+08            \n",
       "Andorra                                              3.220000e+09            \n",
       "\n",
       "                Total Property Value / GDP  Mean Property value  \\\n",
       "Country                                                           \n",
       "Afghanistan                           7.81             437897.0   \n",
       "Albania                               0.04             355924.0   \n",
       "Algeria                               0.26             292405.0   \n",
       "American Samoa                        1.58            1120303.0   \n",
       "Andorra                               0.01                  NaN   \n",
       "\n",
       "                Median Property Value  Number of firms  Mean Age  \\\n",
       "Country                                                            \n",
       "Afghanistan                  252006.0              0.0      45.4   \n",
       "Albania                      325745.0              0.0      40.4   \n",
       "Algeria                      196108.0              0.0      48.8   \n",
       "American Samoa               844572.0              0.0      57.5   \n",
       "Andorra                           NaN              0.0      54.0   \n",
       "\n",
       "                Number with age variable  ...  Properties in Palm Jumeirah  \\\n",
       "Country                                   ...                                \n",
       "Afghanistan                    1123.0000  ...                     199.0000   \n",
       "Albania                          16.0000  ...                       4.9998   \n",
       "Algeria                         787.0000  ...                      27.0000   \n",
       "American Samoa                    4.9998  ...                       0.0000   \n",
       "Andorra                           4.9998  ...                       0.0000   \n",
       "\n",
       "                Number of villas  Number of buildings  \\\n",
       "Country                                                 \n",
       "Afghanistan             352.0000                 16.0   \n",
       "Albania                   4.9998                  0.0   \n",
       "Algeria                 131.0000                  0.0   \n",
       "American Samoa            0.0000                  0.0   \n",
       "Andorra                   0.0000                  0.0   \n",
       "\n",
       "                Share of total values owned by top 10% owners  \\\n",
       "Country                                                         \n",
       "Afghanistan                                              66.0   \n",
       "Albania                                                  79.0   \n",
       "Algeria                                                  54.0   \n",
       "American Samoa                                           93.0   \n",
       "Andorra                                                 100.0   \n",
       "\n",
       "                Share of total values owned by top 10% persons  \\\n",
       "Country                                                          \n",
       "Afghanistan                                               66.0   \n",
       "Albania                                                   79.0   \n",
       "Algeria                                                   54.0   \n",
       "American Samoa                                            93.0   \n",
       "Andorra                                                  100.0   \n",
       "\n",
       "                Share of total values owned by top 10% firms  \\\n",
       "Country                                                        \n",
       "Afghanistan                                              NaN   \n",
       "Albania                                                  NaN   \n",
       "Algeria                                                  NaN   \n",
       "American Samoa                                           NaN   \n",
       "Andorra                                                  NaN   \n",
       "\n",
       "                Share of total values owned by top 1% owners  \\\n",
       "Country                                                        \n",
       "Afghanistan                                             38.0   \n",
       "Albania                                                 56.0   \n",
       "Algeria                                                 25.0   \n",
       "American Samoa                                          93.0   \n",
       "Andorra                                                100.0   \n",
       "\n",
       "                Share of total values owned by top 1% persons  \\\n",
       "Country                                                         \n",
       "Afghanistan                                              38.0   \n",
       "Albania                                                  56.0   \n",
       "Algeria                                                  25.0   \n",
       "American Samoa                                           93.0   \n",
       "Andorra                                                 100.0   \n",
       "\n",
       "                Share of total values owned by top 1% firms  Code  \n",
       "Country                                                            \n",
       "Afghanistan                                             NaN   AFG  \n",
       "Albania                                                 NaN   ALB  \n",
       "Algeria                                                 NaN   DZA  \n",
       "American Samoa                                          NaN   ASM  \n",
       "Andorra                                                 NaN   AND  \n",
       "\n",
       "[5 rows x 27 columns]"
      ]
     },
     "execution_count": 17,
     "metadata": {},
     "output_type": "execute_result"
    }
   ],
   "source": [
    "data = data[data[\"Code\"] != \"None\"]\n",
    "data.head()"
   ]
  },
  {
   "cell_type": "markdown",
   "id": "be0fe0e4-5432-4d69-9d77-c07f0d060535",
   "metadata": {},
   "source": [
    "## Part 2: Generating a Sample Map"
   ]
  },
  {
   "cell_type": "markdown",
   "id": "f121dcf8-fc3a-494d-ad57-758a7ad5d018",
   "metadata": {},
   "source": [
    "In this part, you will use your data to generate a sample plot visualizing the `Total Property Value / GDP` column."
   ]
  },
  {
   "cell_type": "markdown",
   "id": "0dc157b7-4dd9-45b2-95e3-ef65b01db251",
   "metadata": {},
   "source": [
    "When we hover over a country in the generated plot, we would like to be able to see it's name, the total property value owned and how it compares to the amount of property owned by other countries. In order to do this, we must first rank all the countries by total property value owned."
   ]
  },
  {
   "cell_type": "markdown",
   "id": "bb783053-d34f-4d14-b1b3-280ce1a233dd",
   "metadata": {
    "deletable": false,
    "editable": false
   },
   "source": [
    "**Question 2.1:** First, sort all the values in the table by `Total Property Value / GDP` in ascending order (this sorting is important for when we generate the colors in the plot later). Then, rank all the countries by `Total Property Value / GDP`, in descending order. Store all the ranks in a column in the data named 'Rank'. \n",
    "\n",
    "*Hint:* [`pandas.Series.rank`](https://pandas.pydata.org/docs/reference/api/pandas.Series.rank.html) may be useful."
   ]
  },
  {
   "cell_type": "code",
   "execution_count": 18,
   "id": "7018cd53-a6a0-436e-9695-5c189d4de1ee",
   "metadata": {
    "tags": []
   },
   "outputs": [
    {
     "data": {
      "text/html": [
       "<div>\n",
       "<style scoped>\n",
       "    .dataframe tbody tr th:only-of-type {\n",
       "        vertical-align: middle;\n",
       "    }\n",
       "\n",
       "    .dataframe tbody tr th {\n",
       "        vertical-align: top;\n",
       "    }\n",
       "\n",
       "    .dataframe thead th {\n",
       "        text-align: right;\n",
       "    }\n",
       "</style>\n",
       "<table border=\"1\" class=\"dataframe\">\n",
       "  <thead>\n",
       "    <tr style=\"text-align: right;\">\n",
       "      <th></th>\n",
       "      <th>Unique Owners</th>\n",
       "      <th>Unique Properties</th>\n",
       "      <th>Total Property Values</th>\n",
       "      <th>GDP (current USD, 2018 or latest available - for coverage)</th>\n",
       "      <th>Total Property Value / GDP</th>\n",
       "      <th>Mean Property value</th>\n",
       "      <th>Median Property Value</th>\n",
       "      <th>Number of firms</th>\n",
       "      <th>Mean Age</th>\n",
       "      <th>Number with age variable</th>\n",
       "      <th>...</th>\n",
       "      <th>Number of villas</th>\n",
       "      <th>Number of buildings</th>\n",
       "      <th>Share of total values owned by top 10% owners</th>\n",
       "      <th>Share of total values owned by top 10% persons</th>\n",
       "      <th>Share of total values owned by top 10% firms</th>\n",
       "      <th>Share of total values owned by top 1% owners</th>\n",
       "      <th>Share of total values owned by top 1% persons</th>\n",
       "      <th>Share of total values owned by top 1% firms</th>\n",
       "      <th>Code</th>\n",
       "      <th>Rank</th>\n",
       "    </tr>\n",
       "    <tr>\n",
       "      <th>Country</th>\n",
       "      <th></th>\n",
       "      <th></th>\n",
       "      <th></th>\n",
       "      <th></th>\n",
       "      <th></th>\n",
       "      <th></th>\n",
       "      <th></th>\n",
       "      <th></th>\n",
       "      <th></th>\n",
       "      <th></th>\n",
       "      <th></th>\n",
       "      <th></th>\n",
       "      <th></th>\n",
       "      <th></th>\n",
       "      <th></th>\n",
       "      <th></th>\n",
       "      <th></th>\n",
       "      <th></th>\n",
       "      <th></th>\n",
       "      <th></th>\n",
       "      <th></th>\n",
       "    </tr>\n",
       "  </thead>\n",
       "  <tbody>\n",
       "    <tr>\n",
       "      <th>Cuba</th>\n",
       "      <td>4.9998</td>\n",
       "      <td>4.9998</td>\n",
       "      <td>6.135230e+05</td>\n",
       "      <td>1.000000e+11</td>\n",
       "      <td>0.00</td>\n",
       "      <td>NaN</td>\n",
       "      <td>NaN</td>\n",
       "      <td>0.0</td>\n",
       "      <td>40.0</td>\n",
       "      <td>4.9998</td>\n",
       "      <td>...</td>\n",
       "      <td>0.0000</td>\n",
       "      <td>0.0000</td>\n",
       "      <td>88.0</td>\n",
       "      <td>88.0</td>\n",
       "      <td>NaN</td>\n",
       "      <td>88.0</td>\n",
       "      <td>88.0</td>\n",
       "      <td>NaN</td>\n",
       "      <td>CUB</td>\n",
       "      <td>7.5</td>\n",
       "    </tr>\n",
       "    <tr>\n",
       "      <th>Guatemala</th>\n",
       "      <td>4.9998</td>\n",
       "      <td>4.9998</td>\n",
       "      <td>7.172760e+05</td>\n",
       "      <td>7.320000e+10</td>\n",
       "      <td>0.00</td>\n",
       "      <td>NaN</td>\n",
       "      <td>NaN</td>\n",
       "      <td>0.0</td>\n",
       "      <td>35.5</td>\n",
       "      <td>4.9998</td>\n",
       "      <td>...</td>\n",
       "      <td>4.9998</td>\n",
       "      <td>0.0000</td>\n",
       "      <td>77.0</td>\n",
       "      <td>77.0</td>\n",
       "      <td>NaN</td>\n",
       "      <td>77.0</td>\n",
       "      <td>77.0</td>\n",
       "      <td>NaN</td>\n",
       "      <td>GTM</td>\n",
       "      <td>7.5</td>\n",
       "    </tr>\n",
       "    <tr>\n",
       "      <th>Bolivia</th>\n",
       "      <td>5.0000</td>\n",
       "      <td>5.0000</td>\n",
       "      <td>1.033388e+06</td>\n",
       "      <td>4.030000e+10</td>\n",
       "      <td>0.00</td>\n",
       "      <td>206678.0</td>\n",
       "      <td>98122.0</td>\n",
       "      <td>0.0</td>\n",
       "      <td>47.8</td>\n",
       "      <td>5.0000</td>\n",
       "      <td>...</td>\n",
       "      <td>4.9998</td>\n",
       "      <td>0.0000</td>\n",
       "      <td>70.0</td>\n",
       "      <td>70.0</td>\n",
       "      <td>NaN</td>\n",
       "      <td>70.0</td>\n",
       "      <td>70.0</td>\n",
       "      <td>NaN</td>\n",
       "      <td>BOL</td>\n",
       "      <td>7.5</td>\n",
       "    </tr>\n",
       "    <tr>\n",
       "      <th>Vietnam</th>\n",
       "      <td>22.0000</td>\n",
       "      <td>25.0000</td>\n",
       "      <td>7.910712e+06</td>\n",
       "      <td>2.450000e+11</td>\n",
       "      <td>0.00</td>\n",
       "      <td>316429.0</td>\n",
       "      <td>320063.0</td>\n",
       "      <td>0.0</td>\n",
       "      <td>42.7</td>\n",
       "      <td>22.0000</td>\n",
       "      <td>...</td>\n",
       "      <td>4.9998</td>\n",
       "      <td>0.0000</td>\n",
       "      <td>31.0</td>\n",
       "      <td>31.0</td>\n",
       "      <td>NaN</td>\n",
       "      <td>13.0</td>\n",
       "      <td>13.0</td>\n",
       "      <td>NaN</td>\n",
       "      <td>VNM</td>\n",
       "      <td>7.5</td>\n",
       "    </tr>\n",
       "    <tr>\n",
       "      <th>Faroe Islands</th>\n",
       "      <td>4.9998</td>\n",
       "      <td>4.9998</td>\n",
       "      <td>1.472440e+05</td>\n",
       "      <td>3.050000e+09</td>\n",
       "      <td>0.00</td>\n",
       "      <td>NaN</td>\n",
       "      <td>NaN</td>\n",
       "      <td>0.0</td>\n",
       "      <td>53.0</td>\n",
       "      <td>4.9998</td>\n",
       "      <td>...</td>\n",
       "      <td>0.0000</td>\n",
       "      <td>0.0000</td>\n",
       "      <td>100.0</td>\n",
       "      <td>100.0</td>\n",
       "      <td>NaN</td>\n",
       "      <td>100.0</td>\n",
       "      <td>100.0</td>\n",
       "      <td>NaN</td>\n",
       "      <td>FRO</td>\n",
       "      <td>7.5</td>\n",
       "    </tr>\n",
       "    <tr>\n",
       "      <th>...</th>\n",
       "      <td>...</td>\n",
       "      <td>...</td>\n",
       "      <td>...</td>\n",
       "      <td>...</td>\n",
       "      <td>...</td>\n",
       "      <td>...</td>\n",
       "      <td>...</td>\n",
       "      <td>...</td>\n",
       "      <td>...</td>\n",
       "      <td>...</td>\n",
       "      <td>...</td>\n",
       "      <td>...</td>\n",
       "      <td>...</td>\n",
       "      <td>...</td>\n",
       "      <td>...</td>\n",
       "      <td>...</td>\n",
       "      <td>...</td>\n",
       "      <td>...</td>\n",
       "      <td>...</td>\n",
       "      <td>...</td>\n",
       "      <td>...</td>\n",
       "    </tr>\n",
       "    <tr>\n",
       "      <th>Dominica</th>\n",
       "      <td>58.0000</td>\n",
       "      <td>196.0000</td>\n",
       "      <td>1.008556e+08</td>\n",
       "      <td>5.510000e+08</td>\n",
       "      <td>18.32</td>\n",
       "      <td>514569.0</td>\n",
       "      <td>320047.0</td>\n",
       "      <td>0.0</td>\n",
       "      <td>48.5</td>\n",
       "      <td>54.0000</td>\n",
       "      <td>...</td>\n",
       "      <td>27.0000</td>\n",
       "      <td>0.0000</td>\n",
       "      <td>54.0</td>\n",
       "      <td>54.0</td>\n",
       "      <td>NaN</td>\n",
       "      <td>18.0</td>\n",
       "      <td>18.0</td>\n",
       "      <td>NaN</td>\n",
       "      <td>DMA</td>\n",
       "      <td>189.0</td>\n",
       "    </tr>\n",
       "    <tr>\n",
       "      <th>Seychelles</th>\n",
       "      <td>66.0000</td>\n",
       "      <td>353.0000</td>\n",
       "      <td>2.932545e+08</td>\n",
       "      <td>1.550000e+09</td>\n",
       "      <td>18.94</td>\n",
       "      <td>830749.0</td>\n",
       "      <td>618288.0</td>\n",
       "      <td>17.0</td>\n",
       "      <td>48.4</td>\n",
       "      <td>49.0000</td>\n",
       "      <td>...</td>\n",
       "      <td>118.0000</td>\n",
       "      <td>0.0000</td>\n",
       "      <td>83.0</td>\n",
       "      <td>42.0</td>\n",
       "      <td>39.0</td>\n",
       "      <td>37.0</td>\n",
       "      <td>37.0</td>\n",
       "      <td>36.0</td>\n",
       "      <td>SYC</td>\n",
       "      <td>190.0</td>\n",
       "    </tr>\n",
       "    <tr>\n",
       "      <th>British Virgin Islands</th>\n",
       "      <td>45.0000</td>\n",
       "      <td>912.0000</td>\n",
       "      <td>3.835627e+08</td>\n",
       "      <td>1.000000e+09</td>\n",
       "      <td>38.36</td>\n",
       "      <td>420573.0</td>\n",
       "      <td>246430.0</td>\n",
       "      <td>44.0</td>\n",
       "      <td>47.0</td>\n",
       "      <td>4.9998</td>\n",
       "      <td>...</td>\n",
       "      <td>5.0000</td>\n",
       "      <td>5.0000</td>\n",
       "      <td>80.0</td>\n",
       "      <td>0.0</td>\n",
       "      <td>80.0</td>\n",
       "      <td>49.0</td>\n",
       "      <td>0.0</td>\n",
       "      <td>49.0</td>\n",
       "      <td>VGB</td>\n",
       "      <td>191.0</td>\n",
       "    </tr>\n",
       "    <tr>\n",
       "      <th>United Arab Emirates</th>\n",
       "      <td>63438.0000</td>\n",
       "      <td>427538.0000</td>\n",
       "      <td>2.872459e+11</td>\n",
       "      <td>4.220000e+11</td>\n",
       "      <td>68.04</td>\n",
       "      <td>671861.0</td>\n",
       "      <td>211542.0</td>\n",
       "      <td>1966.0</td>\n",
       "      <td>49.9</td>\n",
       "      <td>58069.0000</td>\n",
       "      <td>...</td>\n",
       "      <td>14301.0000</td>\n",
       "      <td>2495.0000</td>\n",
       "      <td>85.0</td>\n",
       "      <td>19.0</td>\n",
       "      <td>62.0</td>\n",
       "      <td>73.0</td>\n",
       "      <td>10.0</td>\n",
       "      <td>37.0</td>\n",
       "      <td>ARE</td>\n",
       "      <td>192.0</td>\n",
       "    </tr>\n",
       "    <tr>\n",
       "      <th>Saint Kitts And Nevis</th>\n",
       "      <td>441.0000</td>\n",
       "      <td>2060.0000</td>\n",
       "      <td>1.519188e+09</td>\n",
       "      <td>1.080000e+09</td>\n",
       "      <td>140.80</td>\n",
       "      <td>737470.0</td>\n",
       "      <td>279549.0</td>\n",
       "      <td>35.0</td>\n",
       "      <td>49.1</td>\n",
       "      <td>404.0000</td>\n",
       "      <td>...</td>\n",
       "      <td>192.0000</td>\n",
       "      <td>4.9998</td>\n",
       "      <td>64.0</td>\n",
       "      <td>60.0</td>\n",
       "      <td>4.0</td>\n",
       "      <td>31.0</td>\n",
       "      <td>31.0</td>\n",
       "      <td>2.0</td>\n",
       "      <td>KNA</td>\n",
       "      <td>193.0</td>\n",
       "    </tr>\n",
       "  </tbody>\n",
       "</table>\n",
       "<p>193 rows × 28 columns</p>\n",
       "</div>"
      ],
      "text/plain": [
       "                        Unique Owners  Unique Properties  \\\n",
       "Country                                                    \n",
       "Cuba                           4.9998             4.9998   \n",
       "Guatemala                      4.9998             4.9998   \n",
       "Bolivia                        5.0000             5.0000   \n",
       "Vietnam                       22.0000            25.0000   \n",
       "Faroe Islands                  4.9998             4.9998   \n",
       "...                               ...                ...   \n",
       "Dominica                      58.0000           196.0000   \n",
       "Seychelles                    66.0000           353.0000   \n",
       "British Virgin Islands        45.0000           912.0000   \n",
       "United Arab Emirates       63438.0000        427538.0000   \n",
       "Saint Kitts And Nevis        441.0000          2060.0000   \n",
       "\n",
       "                        Total Property Values  \\\n",
       "Country                                         \n",
       "Cuba                             6.135230e+05   \n",
       "Guatemala                        7.172760e+05   \n",
       "Bolivia                          1.033388e+06   \n",
       "Vietnam                          7.910712e+06   \n",
       "Faroe Islands                    1.472440e+05   \n",
       "...                                       ...   \n",
       "Dominica                         1.008556e+08   \n",
       "Seychelles                       2.932545e+08   \n",
       "British Virgin Islands           3.835627e+08   \n",
       "United Arab Emirates             2.872459e+11   \n",
       "Saint Kitts And Nevis            1.519188e+09   \n",
       "\n",
       "                        GDP (current USD, 2018 or latest available - for coverage)  \\\n",
       "Country                                                                              \n",
       "Cuba                                                         1.000000e+11            \n",
       "Guatemala                                                    7.320000e+10            \n",
       "Bolivia                                                      4.030000e+10            \n",
       "Vietnam                                                      2.450000e+11            \n",
       "Faroe Islands                                                3.050000e+09            \n",
       "...                                                                   ...            \n",
       "Dominica                                                     5.510000e+08            \n",
       "Seychelles                                                   1.550000e+09            \n",
       "British Virgin Islands                                       1.000000e+09            \n",
       "United Arab Emirates                                         4.220000e+11            \n",
       "Saint Kitts And Nevis                                        1.080000e+09            \n",
       "\n",
       "                        Total Property Value / GDP  Mean Property value  \\\n",
       "Country                                                                   \n",
       "Cuba                                          0.00                  NaN   \n",
       "Guatemala                                     0.00                  NaN   \n",
       "Bolivia                                       0.00             206678.0   \n",
       "Vietnam                                       0.00             316429.0   \n",
       "Faroe Islands                                 0.00                  NaN   \n",
       "...                                            ...                  ...   \n",
       "Dominica                                     18.32             514569.0   \n",
       "Seychelles                                   18.94             830749.0   \n",
       "British Virgin Islands                       38.36             420573.0   \n",
       "United Arab Emirates                         68.04             671861.0   \n",
       "Saint Kitts And Nevis                       140.80             737470.0   \n",
       "\n",
       "                        Median Property Value  Number of firms  Mean Age  \\\n",
       "Country                                                                    \n",
       "Cuba                                      NaN              0.0      40.0   \n",
       "Guatemala                                 NaN              0.0      35.5   \n",
       "Bolivia                               98122.0              0.0      47.8   \n",
       "Vietnam                              320063.0              0.0      42.7   \n",
       "Faroe Islands                             NaN              0.0      53.0   \n",
       "...                                       ...              ...       ...   \n",
       "Dominica                             320047.0              0.0      48.5   \n",
       "Seychelles                           618288.0             17.0      48.4   \n",
       "British Virgin Islands               246430.0             44.0      47.0   \n",
       "United Arab Emirates                 211542.0           1966.0      49.9   \n",
       "Saint Kitts And Nevis                279549.0             35.0      49.1   \n",
       "\n",
       "                        Number with age variable  ...  Number of villas  \\\n",
       "Country                                           ...                     \n",
       "Cuba                                      4.9998  ...            0.0000   \n",
       "Guatemala                                 4.9998  ...            4.9998   \n",
       "Bolivia                                   5.0000  ...            4.9998   \n",
       "Vietnam                                  22.0000  ...            4.9998   \n",
       "Faroe Islands                             4.9998  ...            0.0000   \n",
       "...                                          ...  ...               ...   \n",
       "Dominica                                 54.0000  ...           27.0000   \n",
       "Seychelles                               49.0000  ...          118.0000   \n",
       "British Virgin Islands                    4.9998  ...            5.0000   \n",
       "United Arab Emirates                  58069.0000  ...        14301.0000   \n",
       "Saint Kitts And Nevis                   404.0000  ...          192.0000   \n",
       "\n",
       "                        Number of buildings  \\\n",
       "Country                                       \n",
       "Cuba                                 0.0000   \n",
       "Guatemala                            0.0000   \n",
       "Bolivia                              0.0000   \n",
       "Vietnam                              0.0000   \n",
       "Faroe Islands                        0.0000   \n",
       "...                                     ...   \n",
       "Dominica                             0.0000   \n",
       "Seychelles                           0.0000   \n",
       "British Virgin Islands               5.0000   \n",
       "United Arab Emirates              2495.0000   \n",
       "Saint Kitts And Nevis                4.9998   \n",
       "\n",
       "                        Share of total values owned by top 10% owners  \\\n",
       "Country                                                                 \n",
       "Cuba                                                             88.0   \n",
       "Guatemala                                                        77.0   \n",
       "Bolivia                                                          70.0   \n",
       "Vietnam                                                          31.0   \n",
       "Faroe Islands                                                   100.0   \n",
       "...                                                               ...   \n",
       "Dominica                                                         54.0   \n",
       "Seychelles                                                       83.0   \n",
       "British Virgin Islands                                           80.0   \n",
       "United Arab Emirates                                             85.0   \n",
       "Saint Kitts And Nevis                                            64.0   \n",
       "\n",
       "                        Share of total values owned by top 10% persons  \\\n",
       "Country                                                                  \n",
       "Cuba                                                              88.0   \n",
       "Guatemala                                                         77.0   \n",
       "Bolivia                                                           70.0   \n",
       "Vietnam                                                           31.0   \n",
       "Faroe Islands                                                    100.0   \n",
       "...                                                                ...   \n",
       "Dominica                                                          54.0   \n",
       "Seychelles                                                        42.0   \n",
       "British Virgin Islands                                             0.0   \n",
       "United Arab Emirates                                              19.0   \n",
       "Saint Kitts And Nevis                                             60.0   \n",
       "\n",
       "                        Share of total values owned by top 10% firms  \\\n",
       "Country                                                                \n",
       "Cuba                                                             NaN   \n",
       "Guatemala                                                        NaN   \n",
       "Bolivia                                                          NaN   \n",
       "Vietnam                                                          NaN   \n",
       "Faroe Islands                                                    NaN   \n",
       "...                                                              ...   \n",
       "Dominica                                                         NaN   \n",
       "Seychelles                                                      39.0   \n",
       "British Virgin Islands                                          80.0   \n",
       "United Arab Emirates                                            62.0   \n",
       "Saint Kitts And Nevis                                            4.0   \n",
       "\n",
       "                        Share of total values owned by top 1% owners  \\\n",
       "Country                                                                \n",
       "Cuba                                                            88.0   \n",
       "Guatemala                                                       77.0   \n",
       "Bolivia                                                         70.0   \n",
       "Vietnam                                                         13.0   \n",
       "Faroe Islands                                                  100.0   \n",
       "...                                                              ...   \n",
       "Dominica                                                        18.0   \n",
       "Seychelles                                                      37.0   \n",
       "British Virgin Islands                                          49.0   \n",
       "United Arab Emirates                                            73.0   \n",
       "Saint Kitts And Nevis                                           31.0   \n",
       "\n",
       "                        Share of total values owned by top 1% persons  \\\n",
       "Country                                                                 \n",
       "Cuba                                                             88.0   \n",
       "Guatemala                                                        77.0   \n",
       "Bolivia                                                          70.0   \n",
       "Vietnam                                                          13.0   \n",
       "Faroe Islands                                                   100.0   \n",
       "...                                                               ...   \n",
       "Dominica                                                         18.0   \n",
       "Seychelles                                                       37.0   \n",
       "British Virgin Islands                                            0.0   \n",
       "United Arab Emirates                                             10.0   \n",
       "Saint Kitts And Nevis                                            31.0   \n",
       "\n",
       "                        Share of total values owned by top 1% firms  Code  \\\n",
       "Country                                                                     \n",
       "Cuba                                                            NaN   CUB   \n",
       "Guatemala                                                       NaN   GTM   \n",
       "Bolivia                                                         NaN   BOL   \n",
       "Vietnam                                                         NaN   VNM   \n",
       "Faroe Islands                                                   NaN   FRO   \n",
       "...                                                             ...   ...   \n",
       "Dominica                                                        NaN   DMA   \n",
       "Seychelles                                                     36.0   SYC   \n",
       "British Virgin Islands                                         49.0   VGB   \n",
       "United Arab Emirates                                           37.0   ARE   \n",
       "Saint Kitts And Nevis                                           2.0   KNA   \n",
       "\n",
       "                         Rank  \n",
       "Country                        \n",
       "Cuba                      7.5  \n",
       "Guatemala                 7.5  \n",
       "Bolivia                   7.5  \n",
       "Vietnam                   7.5  \n",
       "Faroe Islands             7.5  \n",
       "...                       ...  \n",
       "Dominica                189.0  \n",
       "Seychelles              190.0  \n",
       "British Virgin Islands  191.0  \n",
       "United Arab Emirates    192.0  \n",
       "Saint Kitts And Nevis   193.0  \n",
       "\n",
       "[193 rows x 28 columns]"
      ]
     },
     "execution_count": 18,
     "metadata": {},
     "output_type": "execute_result"
    }
   ],
   "source": [
    "data = data.sort_values('Total Property Value / GDP')\n",
    "data['Rank'] = data['Total Property Value / GDP'].rank()\n",
    "data"
   ]
  },
  {
   "cell_type": "code",
   "execution_count": 19,
   "id": "0e84d2fa",
   "metadata": {
    "deletable": false,
    "editable": false
   },
   "outputs": [
    {
     "data": {
      "text/html": [
       "<p><strong><pre style='display: inline;'>q2_1</pre></strong> passed! 🚀</p>"
      ],
      "text/plain": [
       "q2_1 results: All test cases passed!"
      ]
     },
     "execution_count": 19,
     "metadata": {},
     "output_type": "execute_result"
    }
   ],
   "source": [
    "grader.check(\"q2_1\")"
   ]
  },
  {
   "cell_type": "markdown",
   "id": "1406cebd-b579-41ca-9672-5bac78d7a32b",
   "metadata": {},
   "source": [
    "Now, we must think about how we want the colors in the plot to look like. For the sake of simplicity, let's say we want to bin the colors. So, we will need to group the countries into bins depending on their value of `Total Property Value / GDP`, and then assign a color to each bin. Let's take a look at the values in the column.\n"
   ]
  },
  {
   "cell_type": "code",
   "execution_count": 20,
   "id": "a142b70b-a363-4acb-a90f-3f6c847250da",
   "metadata": {},
   "outputs": [
    {
     "data": {
      "text/plain": [
       "count    193.000000\n",
       "mean       2.203264\n",
       "std       11.726847\n",
       "min        0.000000\n",
       "25%        0.030000\n",
       "50%        0.110000\n",
       "75%        0.460000\n",
       "max      140.800000\n",
       "Name: Total Property Value / GDP, dtype: float64"
      ]
     },
     "execution_count": 20,
     "metadata": {},
     "output_type": "execute_result"
    }
   ],
   "source": [
    "data['Total Property Value / GDP'].describe()"
   ]
  },
  {
   "cell_type": "markdown",
   "id": "0b45609d-0220-4b33-ae22-35d580dabcec",
   "metadata": {},
   "source": [
    "As we can see, there are some clear outliers in the data. If we were to only consider the minimum and the maximum of the data, we could assign bins like ${[0,30),  [30,60),  [60,90),  [90,120),  [120,150)}$. This would leave most countries in the bottom most bin, and not provide an accurate color representation of the data. Ultimately, the bins you choose are a personal choice, but it is important to consider how those bins affect the final plot. We have provided sample bins for this part, but please feel free to mess around with these bins if you like."
   ]
  },
  {
   "cell_type": "markdown",
   "id": "926e9ac4-b4de-403d-834d-0fd384cec0dd",
   "metadata": {
    "deletable": false,
    "editable": false
   },
   "source": [
    "<!-- BEGIN QUESTION -->\n",
    "\n",
    "**Question 2.2:** Fill in the provided code below to generate your sample plot for Total Property Value / GDP!"
   ]
  },
  {
   "cell_type": "code",
   "execution_count": 21,
   "id": "180a2184-408e-4010-92f8-6a8587d3d47d",
   "metadata": {
    "tags": []
   },
   "outputs": [
    {
     "data": {
      "application/vnd.plotly.v1+json": {
       "config": {
        "plotlyServerURL": "https://plot.ly"
       },
       "data": [
        {
         "colorscale": [
          [
           0,
           "rgb(247,252,253)"
          ],
          [
           1,
           "rgb(247,252,253)"
          ]
         ],
         "customdata": [
          [
           0,
           7.5
          ],
          [
           0,
           7.5
          ],
          [
           0,
           7.5
          ],
          [
           0,
           7.5
          ],
          [
           0,
           7.5
          ],
          [
           0,
           7.5
          ],
          [
           0,
           7.5
          ],
          [
           0,
           7.5
          ],
          [
           0,
           7.5
          ],
          [
           0,
           7.5
          ],
          [
           0,
           7.5
          ],
          [
           0,
           7.5
          ],
          [
           0,
           7.5
          ],
          [
           0,
           7.5
          ],
          [
           140.8,
           193
          ]
         ],
         "geo": "geo",
         "hovertemplate": "<b>%{hovertext}</b><br><br>color=nan<br>Code=%{location}<br>Total Property Value / GDP=%{customdata[0]:.1f}<br>Rank=%{customdata[1]:}<extra></extra>",
         "hovertext": [
          "Cuba",
          "Guatemala",
          "Bolivia",
          "Vietnam",
          "Faroe Islands",
          "El Salvador",
          "Honduras",
          "Ecuador",
          "Macao",
          "Japan",
          "Cambodia",
          "Peru",
          "Costa Rica",
          "Paraguay",
          "Saint Kitts And Nevis"
         ],
         "locations": [
          "CUB",
          "GTM",
          "BOL",
          "VNM",
          "FRO",
          "SLV",
          "HND",
          "ECU",
          "MAC",
          "JPN",
          "KHM",
          "PER",
          "CRI",
          "PRY",
          "KNA"
         ],
         "name": "nan",
         "showlegend": true,
         "showscale": false,
         "type": "choropleth",
         "z": [
          1,
          1,
          1,
          1,
          1,
          1,
          1,
          1,
          1,
          1,
          1,
          1,
          1,
          1,
          1
         ]
        },
        {
         "colorscale": [
          [
           0,
           "rgb(224,236,244)"
          ],
          [
           1,
           "rgb(224,236,244)"
          ]
         ],
         "customdata": [
          [
           0.01,
           24.5
          ],
          [
           0.01,
           24.5
          ],
          [
           0.01,
           24.5
          ],
          [
           0.01,
           24.5
          ],
          [
           0.01,
           24.5
          ],
          [
           0.01,
           24.5
          ],
          [
           0.01,
           24.5
          ],
          [
           0.01,
           24.5
          ],
          [
           0.01,
           24.5
          ],
          [
           0.01,
           24.5
          ],
          [
           0.01,
           24.5
          ],
          [
           0.01,
           24.5
          ],
          [
           0.01,
           24.5
          ],
          [
           0.01,
           24.5
          ],
          [
           0.01,
           24.5
          ],
          [
           0.01,
           24.5
          ],
          [
           0.01,
           24.5
          ],
          [
           0.01,
           24.5
          ],
          [
           0.01,
           24.5
          ],
          [
           0.01,
           24.5
          ]
         ],
         "geo": "geo",
         "hovertemplate": "<b>%{hovertext}</b><br><br>color=(0.0, 0.015]<br>Code=%{location}<br>Total Property Value / GDP=%{customdata[0]:.1f}<br>Rank=%{customdata[1]:}<extra></extra>",
         "hovertext": [
          "Chile",
          "Colombia",
          "USA",
          "Indonesia",
          "Burkina Faso",
          "Papua New Guinea",
          "Democratic Rep, Of Congo",
          "South Korea",
          "Nicaragua",
          "Myanmar",
          "Brazil",
          "Togo",
          "Venezuela",
          "Argentina",
          "Ivory Coast",
          "Andorra",
          "Uruguay",
          "Mexico",
          "Mongolia",
          "Taiwan"
         ],
         "locations": [
          "CHL",
          "COL",
          "USA",
          "IDN",
          "BFA",
          "PNG",
          "COD",
          "KOR",
          "NIC",
          "MMR",
          "BRA",
          "TGO",
          "VEN",
          "ARG",
          "CIV",
          "AND",
          "URY",
          "MEX",
          "MNG",
          "TWN"
         ],
         "name": "(0.0, 0.015]",
         "showlegend": true,
         "showscale": false,
         "type": "choropleth",
         "z": [
          1,
          1,
          1,
          1,
          1,
          1,
          1,
          1,
          1,
          1,
          1,
          1,
          1,
          1,
          1,
          1,
          1,
          1,
          1,
          1
         ]
        },
        {
         "colorscale": [
          [
           0,
           "rgb(191,211,230)"
          ],
          [
           1,
           "rgb(191,211,230)"
          ]
         ],
         "customdata": [
          [
           0.02,
           40
          ],
          [
           0.02,
           40
          ],
          [
           0.02,
           40
          ],
          [
           0.02,
           40
          ],
          [
           0.02,
           40
          ],
          [
           0.02,
           40
          ],
          [
           0.02,
           40
          ],
          [
           0.02,
           40
          ],
          [
           0.02,
           40
          ],
          [
           0.02,
           40
          ],
          [
           0.02,
           40
          ],
          [
           0.03,
           50
          ],
          [
           0.03,
           50
          ],
          [
           0.03,
           50
          ],
          [
           0.03,
           50
          ],
          [
           0.03,
           50
          ],
          [
           0.03,
           50
          ],
          [
           0.03,
           50
          ],
          [
           0.03,
           50
          ],
          [
           0.03,
           50
          ],
          [
           0.04,
           58.5
          ],
          [
           0.04,
           58.5
          ],
          [
           0.04,
           58.5
          ],
          [
           0.04,
           58.5
          ],
          [
           0.04,
           58.5
          ],
          [
           0.04,
           58.5
          ],
          [
           0.04,
           58.5
          ],
          [
           0.04,
           58.5
          ],
          [
           0.05,
           64.5
          ],
          [
           0.05,
           64.5
          ],
          [
           0.05,
           64.5
          ],
          [
           0.05,
           64.5
          ]
         ],
         "geo": "geo",
         "hovertemplate": "<b>%{hovertext}</b><br><br>color=(0.015, 0.05]<br>Code=%{location}<br>Total Property Value / GDP=%{customdata[0]:.1f}<br>Rank=%{customdata[1]:}<extra></extra>",
         "hovertext": [
          "Hong Kong",
          "Spain",
          "Panama",
          "Iceland",
          "Finland",
          "Namibia",
          "Saint Lucia",
          "China",
          "Isle Of Man",
          "Monaco",
          "Trinidad & Tobago",
          "Angola",
          "Thailand",
          "Benin",
          "Norway",
          "Puerto Rico",
          "North Korea",
          "Jamaica",
          "Poland",
          "Brunei",
          "Albania",
          "Guyana",
          "Estonia",
          "Czech Republic",
          "Central African Republic",
          "Cameroon",
          "Philippines",
          "Luxembourg",
          "Slovenia",
          "Madagascar",
          "Germany",
          "Italy"
         ],
         "locations": [
          "HKG",
          "ESP",
          "PAN",
          "ISL",
          "FIN",
          "NAM",
          "LCA",
          "CHN",
          "IMN",
          "MCO",
          "TTO",
          "AGO",
          "THA",
          "BEN",
          "NOR",
          "PRI",
          "PRK",
          "JAM",
          "POL",
          "BRN",
          "ALB",
          "GUY",
          "EST",
          "CZE",
          "CAF",
          "CMR",
          "PHL",
          "LUX",
          "SVN",
          "MDG",
          "DEU",
          "ITA"
         ],
         "name": "(0.015, 0.05]",
         "showlegend": true,
         "showscale": false,
         "type": "choropleth",
         "z": [
          1,
          1,
          1,
          1,
          1,
          1,
          1,
          1,
          1,
          1,
          1,
          1,
          1,
          1,
          1,
          1,
          1,
          1,
          1,
          1,
          1,
          1,
          1,
          1,
          1,
          1,
          1,
          1,
          1,
          1,
          1,
          1
         ]
        },
        {
         "colorscale": [
          [
           0,
           "rgb(158,188,218)"
          ],
          [
           1,
           "rgb(158,188,218)"
          ]
         ],
         "customdata": [
          [
           0.06,
           69.5
          ],
          [
           0.06,
           69.5
          ],
          [
           0.06,
           69.5
          ],
          [
           0.06,
           69.5
          ],
          [
           0.06,
           69.5
          ],
          [
           0.06,
           69.5
          ],
          [
           0.07,
           75.5
          ],
          [
           0.07,
           75.5
          ],
          [
           0.07,
           75.5
          ],
          [
           0.07,
           75.5
          ],
          [
           0.07,
           75.5
          ],
          [
           0.07,
           75.5
          ],
          [
           0.08,
           82.5
          ],
          [
           0.08,
           82.5
          ],
          [
           0.08,
           82.5
          ],
          [
           0.08,
           82.5
          ],
          [
           0.08,
           82.5
          ],
          [
           0.08,
           82.5
          ],
          [
           0.08,
           82.5
          ],
          [
           0.08,
           82.5
          ],
          [
           0.09,
           89
          ],
          [
           0.09,
           89
          ],
          [
           0.09,
           89
          ],
          [
           0.09,
           89
          ],
          [
           0.09,
           89
          ],
          [
           0.1,
           92.5
          ],
          [
           0.1,
           92.5
          ]
         ],
         "geo": "geo",
         "hovertemplate": "<b>%{hovertext}</b><br><br>color=(0.05, 0.1]<br>Code=%{location}<br>Total Property Value / GDP=%{customdata[0]:.1f}<br>Rank=%{customdata[1]:}<extra></extra>",
         "hovertext": [
          "Hungary",
          "Liechtenstein",
          "Liberia",
          "Malaysia",
          "Fiji",
          "Mali",
          "Gabon",
          "France",
          "Lithuania",
          "Switzerland",
          "Croatia",
          "Botswana",
          "Georgia",
          "Australia",
          "San Marino",
          "Lesotho",
          "Zambia",
          "Ghana",
          "Southern Sudan",
          "Netherlands",
          "Congo, Republic Of",
          "Romania",
          "Turkey",
          "Austria",
          "Denmark",
          "Vanuatu",
          "Portugal"
         ],
         "locations": [
          "HUN",
          "LIE",
          "LBR",
          "MYS",
          "FJI",
          "MLI",
          "GAB",
          "FRA",
          "LTU",
          "CHE",
          "HRV",
          "BWA",
          "GEO",
          "AUS",
          "SMR",
          "LSO",
          "ZMB",
          "GHA",
          "SSD",
          "NLD",
          "COG",
          "ROU",
          "TUR",
          "AUT",
          "DNK",
          "VUT",
          "PRT"
         ],
         "name": "(0.05, 0.1]",
         "showlegend": true,
         "showscale": false,
         "type": "choropleth",
         "z": [
          1,
          1,
          1,
          1,
          1,
          1,
          1,
          1,
          1,
          1,
          1,
          1,
          1,
          1,
          1,
          1,
          1,
          1,
          1,
          1,
          1,
          1,
          1,
          1,
          1,
          1,
          1
         ]
        },
        {
         "colorscale": [
          [
           0,
           "rgb(140,150,198)"
          ],
          [
           1,
           "rgb(140,150,198)"
          ]
         ],
         "customdata": [
          [
           0.11,
           97
          ],
          [
           0.11,
           97
          ],
          [
           0.11,
           97
          ],
          [
           0.11,
           97
          ],
          [
           0.11,
           97
          ],
          [
           0.11,
           97
          ],
          [
           0.11,
           97
          ],
          [
           0.12,
           101.5
          ],
          [
           0.12,
           101.5
          ],
          [
           0.13,
           105
          ],
          [
           0.13,
           105
          ],
          [
           0.13,
           105
          ],
          [
           0.13,
           105
          ],
          [
           0.13,
           105
          ],
          [
           0.14,
           108.5
          ],
          [
           0.14,
           108.5
          ],
          [
           0.15,
           111
          ],
          [
           0.15,
           111
          ],
          [
           0.15,
           111
          ],
          [
           0.16,
           113
          ],
          [
           0.17,
           114.5
          ],
          [
           0.17,
           114.5
          ],
          [
           0.18,
           117
          ],
          [
           0.18,
           117
          ],
          [
           0.18,
           117
          ],
          [
           0.19,
           120
          ],
          [
           0.19,
           120
          ],
          [
           0.19,
           120
          ],
          [
           0.2,
           122
          ]
         ],
         "geo": "geo",
         "hovertemplate": "<b>%{hovertext}</b><br><br>color=(0.1, 0.2]<br>Code=%{location}<br>Total Property Value / GDP=%{customdata[0]:.1f}<br>Rank=%{customdata[1]:}<extra></extra>",
         "hovertext": [
          "Bangladesh",
          "Sweden",
          "Belarus",
          "Belgium",
          "Uganda",
          "Macedonia",
          "Guinea",
          "New Zealand",
          "Mauritania",
          "Bosnia And Herzegovina",
          "Moldova",
          "Cook Islands",
          "Chad",
          "Ethiopia",
          "Nigeria",
          "Montenegro",
          "Serbia",
          "Singapore",
          "Greece",
          "Niger",
          "Senegal",
          "Guinea-Bissau",
          "Malawi",
          "Barbados",
          "South Africa",
          "Bhutan",
          "Dominican Republic",
          "Latvia",
          "Russia"
         ],
         "locations": [
          "BGD",
          "SWE",
          "BLR",
          "BEL",
          "UGA",
          "MKD",
          "GIN",
          "NZL",
          "MRT",
          "BIH",
          "MDA",
          "COK",
          "TCD",
          "ETH",
          "NGA",
          "MNE",
          "SRB",
          "SGP",
          "GRC",
          "NER",
          "SEN",
          "GNB",
          "MWI",
          "BRB",
          "ZAF",
          "BTN",
          "DOM",
          "LVA",
          "RUS"
         ],
         "name": "(0.1, 0.2]",
         "showlegend": true,
         "showscale": false,
         "type": "choropleth",
         "z": [
          1,
          1,
          1,
          1,
          1,
          1,
          1,
          1,
          1,
          1,
          1,
          1,
          1,
          1,
          1,
          1,
          1,
          1,
          1,
          1,
          1,
          1,
          1,
          1,
          1,
          1,
          1,
          1,
          1
         ]
        },
        {
         "colorscale": [
          [
           0,
           "rgb(140,107,177)"
          ],
          [
           1,
           "rgb(140,107,177)"
          ]
         ],
         "customdata": [
          [
           0.21,
           123
          ],
          [
           0.22,
           124.5
          ],
          [
           0.22,
           124.5
          ],
          [
           0.23,
           127.5
          ],
          [
           0.23,
           127.5
          ],
          [
           0.23,
           127.5
          ],
          [
           0.23,
           127.5
          ],
          [
           0.24,
           130
          ],
          [
           0.25,
           131.5
          ],
          [
           0.25,
           131.5
          ],
          [
           0.26,
           133
          ],
          [
           0.27,
           134.5
          ],
          [
           0.27,
           134.5
          ],
          [
           0.28,
           136
          ],
          [
           0.3,
           137.5
          ],
          [
           0.3,
           137.5
          ],
          [
           0.31,
           139
          ],
          [
           0.33,
           140
          ],
          [
           0.34,
           141
          ],
          [
           0.42,
           142
          ],
          [
           0.43,
           143
          ],
          [
           0.44,
           144
          ],
          [
           0.46,
           145
          ],
          [
           0.51,
           146
          ],
          [
           0.53,
           147.5
          ],
          [
           0.53,
           147.5
          ],
          [
           0.56,
           149
          ],
          [
           0.57,
           150
          ],
          [
           0.58,
           151
          ],
          [
           0.64,
           152
          ],
          [
           0.67,
           153
          ],
          [
           0.72,
           154
          ]
         ],
         "geo": "geo",
         "hovertemplate": "<b>%{hovertext}</b><br><br>color=(0.2, 1.0]<br>Code=%{location}<br>Total Property Value / GDP=%{customdata[0]:.1f}<br>Rank=%{customdata[1]:}<extra></extra>",
         "hovertext": [
          "Zimbabwe",
          "Somalia",
          "Bulgaria",
          "Sri Lanka",
          "Gambia",
          "Ireland",
          "Maldives",
          "Rwanda",
          "Ukraine",
          "Burundi",
          "Algeria",
          "Bermuda",
          "Turks And Caicos Islands",
          "Saint Vincent & The Grenadines",
          "Canada",
          "Guernsey",
          "Turkmenistan",
          "Mauritius",
          "Jersey",
          "Tanzania",
          "Kenya",
          "Morocco",
          "Slovakia",
          "United Kingdom",
          "Tunisia",
          "Mozambique",
          "Eswatini",
          "Kazakhstan",
          "Uzbekistan",
          "Sierra Leone",
          "Nepal",
          "Djibouti"
         ],
         "locations": [
          "ZWE",
          "SOM",
          "BGR",
          "LKA",
          "GMB",
          "IRL",
          "MDV",
          "RWA",
          "UKR",
          "BDI",
          "DZA",
          "BMU",
          "TCA",
          "VCT",
          "CAN",
          "GGY",
          "TKM",
          "MUS",
          "JEY",
          "TZA",
          "KEN",
          "MAR",
          "SVK",
          "GBR",
          "TUN",
          "MOZ",
          "SWZ",
          "KAZ",
          "UZB",
          "SLE",
          "NPL",
          "DJI"
         ],
         "name": "(0.2, 1.0]",
         "showlegend": true,
         "showscale": false,
         "type": "choropleth",
         "z": [
          1,
          1,
          1,
          1,
          1,
          1,
          1,
          1,
          1,
          1,
          1,
          1,
          1,
          1,
          1,
          1,
          1,
          1,
          1,
          1,
          1,
          1,
          1,
          1,
          1,
          1,
          1,
          1,
          1,
          1,
          1,
          1
         ]
        },
        {
         "colorscale": [
          [
           0,
           "rgb(136,65,157)"
          ],
          [
           1,
           "rgb(136,65,157)"
          ]
         ],
         "customdata": [
          [
           1.03,
           155
          ],
          [
           1.1,
           156
          ],
          [
           1.14,
           157
          ],
          [
           1.16,
           158
          ],
          [
           1.24,
           159.5
          ],
          [
           1.24,
           159.5
          ],
          [
           1.32,
           161
          ],
          [
           1.37,
           162
          ],
          [
           1.38,
           163
          ],
          [
           1.57,
           164.5
          ],
          [
           1.57,
           164.5
          ],
          [
           1.58,
           166
          ],
          [
           1.6,
           167
          ],
          [
           1.67,
           168
          ],
          [
           1.7,
           169
          ],
          [
           1.91,
           170
          ],
          [
           2.37,
           171.5
          ],
          [
           2.37,
           171.5
          ],
          [
           2.39,
           173
          ],
          [
           2.75,
           174
          ],
          [
           3.04,
           175
          ],
          [
           3.38,
           176
          ],
          [
           3.77,
           177
          ],
          [
           4.24,
           178
          ],
          [
           4.53,
           179
          ],
          [
           4.83,
           180
          ],
          [
           5.45,
           181
          ],
          [
           6.15,
           182
          ],
          [
           7.37,
           183
          ],
          [
           7.81,
           184.5
          ],
          [
           7.81,
           184.5
          ],
          [
           8.07,
           186
          ],
          [
           10.24,
           187
          ],
          [
           12.11,
           188
          ],
          [
           18.32,
           189
          ],
          [
           18.94,
           190
          ],
          [
           38.36,
           191
          ],
          [
           68.04,
           192
          ]
         ],
         "geo": "geo",
         "hovertemplate": "<b>%{hovertext}</b><br><br>color=(1.0, 140.0]<br>Code=%{location}<br>Total Property Value / GDP=%{customdata[0]:.1f}<br>Rank=%{customdata[1]:}<extra></extra>",
         "hovertext": [
          "Libya",
          "India",
          "Iraq",
          "Qatar",
          "Kyrgistan",
          "Saudi Arabia",
          "Belize",
          "Cyprus",
          "Egypt",
          "Azerbaijan",
          "Tajikistan",
          "American Samoa",
          "Grenada",
          "Armenia",
          "Malta",
          "Samoa",
          "Oman",
          "Bahamas",
          "Iran",
          "Kuwait",
          "Sudan",
          "Pakistan",
          "Bahrain",
          "Gibraltar",
          "Eritrea",
          "Yemen",
          "Palestine",
          "Lebanon",
          "Syria",
          "Antigua & Barbuda",
          "Afghanistan",
          "Comoros Islands",
          "Cayman Islands",
          "Jordan",
          "Dominica",
          "Seychelles",
          "British Virgin Islands",
          "United Arab Emirates"
         ],
         "locations": [
          "LBY",
          "IND",
          "IRQ",
          "QAT",
          "KGZ",
          "SAU",
          "BLZ",
          "CYP",
          "EGY",
          "AZE",
          "TJK",
          "ASM",
          "GRD",
          "ARM",
          "MLT",
          "WSM",
          "OMN",
          "BHS",
          "IRN",
          "KWT",
          "SDN",
          "PAK",
          "BHR",
          "GIB",
          "ERI",
          "YEM",
          "PSE",
          "LBN",
          "SYR",
          "ATG",
          "AFG",
          "COM",
          "CYM",
          "JOR",
          "DMA",
          "SYC",
          "VGB",
          "ARE"
         ],
         "name": "(1.0, 140.0]",
         "showlegend": true,
         "showscale": false,
         "type": "choropleth",
         "z": [
          1,
          1,
          1,
          1,
          1,
          1,
          1,
          1,
          1,
          1,
          1,
          1,
          1,
          1,
          1,
          1,
          1,
          1,
          1,
          1,
          1,
          1,
          1,
          1,
          1,
          1,
          1,
          1,
          1,
          1,
          1,
          1,
          1,
          1,
          1,
          1,
          1,
          1
         ]
        }
       ],
       "layout": {
        "geo": {
         "center": {},
         "domain": {
          "x": [
           0,
           1
          ],
          "y": [
           0,
           1
          ]
         },
         "projection": {
          "type": "mercator"
         },
         "showcoastlines": false,
         "showframe": false
        },
        "height": 900,
        "legend": {
         "title": {
          "text": "color"
         },
         "tracegroupgap": 0
        },
        "margin": {
         "b": 50,
         "l": 50,
         "r": 50,
         "t": 50
        },
        "template": {
         "data": {
          "bar": [
           {
            "error_x": {
             "color": "#2a3f5f"
            },
            "error_y": {
             "color": "#2a3f5f"
            },
            "marker": {
             "line": {
              "color": "#E5ECF6",
              "width": 0.5
             },
             "pattern": {
              "fillmode": "overlay",
              "size": 10,
              "solidity": 0.2
             }
            },
            "type": "bar"
           }
          ],
          "barpolar": [
           {
            "marker": {
             "line": {
              "color": "#E5ECF6",
              "width": 0.5
             },
             "pattern": {
              "fillmode": "overlay",
              "size": 10,
              "solidity": 0.2
             }
            },
            "type": "barpolar"
           }
          ],
          "carpet": [
           {
            "aaxis": {
             "endlinecolor": "#2a3f5f",
             "gridcolor": "white",
             "linecolor": "white",
             "minorgridcolor": "white",
             "startlinecolor": "#2a3f5f"
            },
            "baxis": {
             "endlinecolor": "#2a3f5f",
             "gridcolor": "white",
             "linecolor": "white",
             "minorgridcolor": "white",
             "startlinecolor": "#2a3f5f"
            },
            "type": "carpet"
           }
          ],
          "choropleth": [
           {
            "colorbar": {
             "outlinewidth": 0,
             "ticks": ""
            },
            "type": "choropleth"
           }
          ],
          "contour": [
           {
            "colorbar": {
             "outlinewidth": 0,
             "ticks": ""
            },
            "colorscale": [
             [
              0,
              "#0d0887"
             ],
             [
              0.1111111111111111,
              "#46039f"
             ],
             [
              0.2222222222222222,
              "#7201a8"
             ],
             [
              0.3333333333333333,
              "#9c179e"
             ],
             [
              0.4444444444444444,
              "#bd3786"
             ],
             [
              0.5555555555555556,
              "#d8576b"
             ],
             [
              0.6666666666666666,
              "#ed7953"
             ],
             [
              0.7777777777777778,
              "#fb9f3a"
             ],
             [
              0.8888888888888888,
              "#fdca26"
             ],
             [
              1,
              "#f0f921"
             ]
            ],
            "type": "contour"
           }
          ],
          "contourcarpet": [
           {
            "colorbar": {
             "outlinewidth": 0,
             "ticks": ""
            },
            "type": "contourcarpet"
           }
          ],
          "heatmap": [
           {
            "colorbar": {
             "outlinewidth": 0,
             "ticks": ""
            },
            "colorscale": [
             [
              0,
              "#0d0887"
             ],
             [
              0.1111111111111111,
              "#46039f"
             ],
             [
              0.2222222222222222,
              "#7201a8"
             ],
             [
              0.3333333333333333,
              "#9c179e"
             ],
             [
              0.4444444444444444,
              "#bd3786"
             ],
             [
              0.5555555555555556,
              "#d8576b"
             ],
             [
              0.6666666666666666,
              "#ed7953"
             ],
             [
              0.7777777777777778,
              "#fb9f3a"
             ],
             [
              0.8888888888888888,
              "#fdca26"
             ],
             [
              1,
              "#f0f921"
             ]
            ],
            "type": "heatmap"
           }
          ],
          "heatmapgl": [
           {
            "colorbar": {
             "outlinewidth": 0,
             "ticks": ""
            },
            "colorscale": [
             [
              0,
              "#0d0887"
             ],
             [
              0.1111111111111111,
              "#46039f"
             ],
             [
              0.2222222222222222,
              "#7201a8"
             ],
             [
              0.3333333333333333,
              "#9c179e"
             ],
             [
              0.4444444444444444,
              "#bd3786"
             ],
             [
              0.5555555555555556,
              "#d8576b"
             ],
             [
              0.6666666666666666,
              "#ed7953"
             ],
             [
              0.7777777777777778,
              "#fb9f3a"
             ],
             [
              0.8888888888888888,
              "#fdca26"
             ],
             [
              1,
              "#f0f921"
             ]
            ],
            "type": "heatmapgl"
           }
          ],
          "histogram": [
           {
            "marker": {
             "pattern": {
              "fillmode": "overlay",
              "size": 10,
              "solidity": 0.2
             }
            },
            "type": "histogram"
           }
          ],
          "histogram2d": [
           {
            "colorbar": {
             "outlinewidth": 0,
             "ticks": ""
            },
            "colorscale": [
             [
              0,
              "#0d0887"
             ],
             [
              0.1111111111111111,
              "#46039f"
             ],
             [
              0.2222222222222222,
              "#7201a8"
             ],
             [
              0.3333333333333333,
              "#9c179e"
             ],
             [
              0.4444444444444444,
              "#bd3786"
             ],
             [
              0.5555555555555556,
              "#d8576b"
             ],
             [
              0.6666666666666666,
              "#ed7953"
             ],
             [
              0.7777777777777778,
              "#fb9f3a"
             ],
             [
              0.8888888888888888,
              "#fdca26"
             ],
             [
              1,
              "#f0f921"
             ]
            ],
            "type": "histogram2d"
           }
          ],
          "histogram2dcontour": [
           {
            "colorbar": {
             "outlinewidth": 0,
             "ticks": ""
            },
            "colorscale": [
             [
              0,
              "#0d0887"
             ],
             [
              0.1111111111111111,
              "#46039f"
             ],
             [
              0.2222222222222222,
              "#7201a8"
             ],
             [
              0.3333333333333333,
              "#9c179e"
             ],
             [
              0.4444444444444444,
              "#bd3786"
             ],
             [
              0.5555555555555556,
              "#d8576b"
             ],
             [
              0.6666666666666666,
              "#ed7953"
             ],
             [
              0.7777777777777778,
              "#fb9f3a"
             ],
             [
              0.8888888888888888,
              "#fdca26"
             ],
             [
              1,
              "#f0f921"
             ]
            ],
            "type": "histogram2dcontour"
           }
          ],
          "mesh3d": [
           {
            "colorbar": {
             "outlinewidth": 0,
             "ticks": ""
            },
            "type": "mesh3d"
           }
          ],
          "parcoords": [
           {
            "line": {
             "colorbar": {
              "outlinewidth": 0,
              "ticks": ""
             }
            },
            "type": "parcoords"
           }
          ],
          "pie": [
           {
            "automargin": true,
            "type": "pie"
           }
          ],
          "scatter": [
           {
            "fillpattern": {
             "fillmode": "overlay",
             "size": 10,
             "solidity": 0.2
            },
            "type": "scatter"
           }
          ],
          "scatter3d": [
           {
            "line": {
             "colorbar": {
              "outlinewidth": 0,
              "ticks": ""
             }
            },
            "marker": {
             "colorbar": {
              "outlinewidth": 0,
              "ticks": ""
             }
            },
            "type": "scatter3d"
           }
          ],
          "scattercarpet": [
           {
            "marker": {
             "colorbar": {
              "outlinewidth": 0,
              "ticks": ""
             }
            },
            "type": "scattercarpet"
           }
          ],
          "scattergeo": [
           {
            "marker": {
             "colorbar": {
              "outlinewidth": 0,
              "ticks": ""
             }
            },
            "type": "scattergeo"
           }
          ],
          "scattergl": [
           {
            "marker": {
             "colorbar": {
              "outlinewidth": 0,
              "ticks": ""
             }
            },
            "type": "scattergl"
           }
          ],
          "scattermapbox": [
           {
            "marker": {
             "colorbar": {
              "outlinewidth": 0,
              "ticks": ""
             }
            },
            "type": "scattermapbox"
           }
          ],
          "scatterpolar": [
           {
            "marker": {
             "colorbar": {
              "outlinewidth": 0,
              "ticks": ""
             }
            },
            "type": "scatterpolar"
           }
          ],
          "scatterpolargl": [
           {
            "marker": {
             "colorbar": {
              "outlinewidth": 0,
              "ticks": ""
             }
            },
            "type": "scatterpolargl"
           }
          ],
          "scatterternary": [
           {
            "marker": {
             "colorbar": {
              "outlinewidth": 0,
              "ticks": ""
             }
            },
            "type": "scatterternary"
           }
          ],
          "surface": [
           {
            "colorbar": {
             "outlinewidth": 0,
             "ticks": ""
            },
            "colorscale": [
             [
              0,
              "#0d0887"
             ],
             [
              0.1111111111111111,
              "#46039f"
             ],
             [
              0.2222222222222222,
              "#7201a8"
             ],
             [
              0.3333333333333333,
              "#9c179e"
             ],
             [
              0.4444444444444444,
              "#bd3786"
             ],
             [
              0.5555555555555556,
              "#d8576b"
             ],
             [
              0.6666666666666666,
              "#ed7953"
             ],
             [
              0.7777777777777778,
              "#fb9f3a"
             ],
             [
              0.8888888888888888,
              "#fdca26"
             ],
             [
              1,
              "#f0f921"
             ]
            ],
            "type": "surface"
           }
          ],
          "table": [
           {
            "cells": {
             "fill": {
              "color": "#EBF0F8"
             },
             "line": {
              "color": "white"
             }
            },
            "header": {
             "fill": {
              "color": "#C8D4E3"
             },
             "line": {
              "color": "white"
             }
            },
            "type": "table"
           }
          ]
         },
         "layout": {
          "annotationdefaults": {
           "arrowcolor": "#2a3f5f",
           "arrowhead": 0,
           "arrowwidth": 1
          },
          "autotypenumbers": "strict",
          "coloraxis": {
           "colorbar": {
            "outlinewidth": 0,
            "ticks": ""
           }
          },
          "colorscale": {
           "diverging": [
            [
             0,
             "#8e0152"
            ],
            [
             0.1,
             "#c51b7d"
            ],
            [
             0.2,
             "#de77ae"
            ],
            [
             0.3,
             "#f1b6da"
            ],
            [
             0.4,
             "#fde0ef"
            ],
            [
             0.5,
             "#f7f7f7"
            ],
            [
             0.6,
             "#e6f5d0"
            ],
            [
             0.7,
             "#b8e186"
            ],
            [
             0.8,
             "#7fbc41"
            ],
            [
             0.9,
             "#4d9221"
            ],
            [
             1,
             "#276419"
            ]
           ],
           "sequential": [
            [
             0,
             "#0d0887"
            ],
            [
             0.1111111111111111,
             "#46039f"
            ],
            [
             0.2222222222222222,
             "#7201a8"
            ],
            [
             0.3333333333333333,
             "#9c179e"
            ],
            [
             0.4444444444444444,
             "#bd3786"
            ],
            [
             0.5555555555555556,
             "#d8576b"
            ],
            [
             0.6666666666666666,
             "#ed7953"
            ],
            [
             0.7777777777777778,
             "#fb9f3a"
            ],
            [
             0.8888888888888888,
             "#fdca26"
            ],
            [
             1,
             "#f0f921"
            ]
           ],
           "sequentialminus": [
            [
             0,
             "#0d0887"
            ],
            [
             0.1111111111111111,
             "#46039f"
            ],
            [
             0.2222222222222222,
             "#7201a8"
            ],
            [
             0.3333333333333333,
             "#9c179e"
            ],
            [
             0.4444444444444444,
             "#bd3786"
            ],
            [
             0.5555555555555556,
             "#d8576b"
            ],
            [
             0.6666666666666666,
             "#ed7953"
            ],
            [
             0.7777777777777778,
             "#fb9f3a"
            ],
            [
             0.8888888888888888,
             "#fdca26"
            ],
            [
             1,
             "#f0f921"
            ]
           ]
          },
          "colorway": [
           "#636efa",
           "#EF553B",
           "#00cc96",
           "#ab63fa",
           "#FFA15A",
           "#19d3f3",
           "#FF6692",
           "#B6E880",
           "#FF97FF",
           "#FECB52"
          ],
          "font": {
           "color": "#2a3f5f"
          },
          "geo": {
           "bgcolor": "white",
           "lakecolor": "white",
           "landcolor": "#E5ECF6",
           "showlakes": true,
           "showland": true,
           "subunitcolor": "white"
          },
          "hoverlabel": {
           "align": "left"
          },
          "hovermode": "closest",
          "mapbox": {
           "style": "light"
          },
          "paper_bgcolor": "white",
          "plot_bgcolor": "#E5ECF6",
          "polar": {
           "angularaxis": {
            "gridcolor": "white",
            "linecolor": "white",
            "ticks": ""
           },
           "bgcolor": "#E5ECF6",
           "radialaxis": {
            "gridcolor": "white",
            "linecolor": "white",
            "ticks": ""
           }
          },
          "scene": {
           "xaxis": {
            "backgroundcolor": "#E5ECF6",
            "gridcolor": "white",
            "gridwidth": 2,
            "linecolor": "white",
            "showbackground": true,
            "ticks": "",
            "zerolinecolor": "white"
           },
           "yaxis": {
            "backgroundcolor": "#E5ECF6",
            "gridcolor": "white",
            "gridwidth": 2,
            "linecolor": "white",
            "showbackground": true,
            "ticks": "",
            "zerolinecolor": "white"
           },
           "zaxis": {
            "backgroundcolor": "#E5ECF6",
            "gridcolor": "white",
            "gridwidth": 2,
            "linecolor": "white",
            "showbackground": true,
            "ticks": "",
            "zerolinecolor": "white"
           }
          },
          "shapedefaults": {
           "line": {
            "color": "#2a3f5f"
           }
          },
          "ternary": {
           "aaxis": {
            "gridcolor": "white",
            "linecolor": "white",
            "ticks": ""
           },
           "baxis": {
            "gridcolor": "white",
            "linecolor": "white",
            "ticks": ""
           },
           "bgcolor": "#E5ECF6",
           "caxis": {
            "gridcolor": "white",
            "linecolor": "white",
            "ticks": ""
           }
          },
          "title": {
           "x": 0.05
          },
          "xaxis": {
           "automargin": true,
           "gridcolor": "white",
           "linecolor": "white",
           "ticks": "",
           "title": {
            "standoff": 15
           },
           "zerolinecolor": "white",
           "zerolinewidth": 2
          },
          "yaxis": {
           "automargin": true,
           "gridcolor": "white",
           "linecolor": "white",
           "ticks": "",
           "title": {
            "standoff": 15
           },
           "zerolinecolor": "white",
           "zerolinewidth": 2
          }
         }
        },
        "title": {
         "text": "Total Property Value/GDP by Country"
        }
       }
      }
     },
     "metadata": {},
     "output_type": "display_data"
    }
   ],
   "source": [
    "fig = px.choropleth(data, # This is the name of your dataset\n",
    "                    locations='Code', # Which column are the country codes stored in?\n",
    "                    color=pd.cut(data['Total Property Value / GDP'], \n",
    "                                bins=[0, 0.015,0.05,0.1,0.2,1,140]).astype(str).fillna('No Data'),\n",
    "                                #These are our sample bins, feel free to mess around with them\n",
    "                    hover_name = data.index, # Which column are the country names stored in?\n",
    "                    hover_data={\"Total Property Value / GDP\":\":.1f\", \"Rank\":\":\"},\n",
    "                    # Change the above line so we can see the ratio of property value to GDP to 2 decimal places\n",
    "                    color_discrete_sequence=px.colors.sequential.BuPu,\n",
    "                    #Feel free to mess around with colors if you're interested\n",
    "                    title = 'Total Property Value/GDP by Country', # Write an appropriate title\n",
    "                    height = 900\n",
    "                   )\n",
    "fig.update_layout(\n",
    "    geo=dict(\n",
    "        showframe=False,\n",
    "        showcoastlines=False,\n",
    "        projection_type='mercator'\n",
    "    ),\n",
    "    margin=dict(l=50, r=50, t=50, b=50),\n",
    ")\n",
    "fig.show()"
   ]
  },
  {
   "cell_type": "markdown",
   "id": "14b7e13b-8c5e-4af6-b431-a1027db98029",
   "metadata": {
    "deletable": false,
    "editable": false
   },
   "source": [
    "<!-- END QUESTION -->\n",
    "\n",
    "<!-- BEGIN QUESTION -->\n",
    "\n",
    "**Question 2.3:** Using the code above, generate a similar plot for `Total Property Values`.  Make sure the color bins and title are appropriate. However, make this plot 3D.\n",
    "\n",
    "*Hint:* which line of code above references a 2D projection of the Earth? Here's a [list of supported projections](https://plotly.com/python/map-configuration/#map-projections). "
   ]
  },
  {
   "cell_type": "code",
   "execution_count": 22,
   "id": "55d37a49-2bd8-487a-8e63-87ba89299002",
   "metadata": {
    "tags": []
   },
   "outputs": [
    {
     "data": {
      "application/vnd.plotly.v1+json": {
       "config": {
        "plotlyServerURL": "https://plot.ly"
       },
       "data": [
        {
         "colorscale": [
          [
           0,
           "rgb(247,252,253)"
          ],
          [
           1,
           "rgb(247,252,253)"
          ]
         ],
         "customdata": [
          [
           613523,
           7
          ],
          [
           717276,
           10
          ],
          [
           147244,
           2
          ],
          [
           778544,
           12
          ],
          [
           302629,
           4
          ],
          [
           37506,
           1
          ],
          [
           758305,
           11
          ],
          [
           788407,
           13
          ],
          [
           569992,
           6
          ],
          [
           243222,
           3
          ],
          [
           683138,
           9
          ],
          [
           401218,
           5
          ],
          [
           826585,
           14
          ],
          [
           910394,
           15
          ],
          [
           678340,
           8
          ]
         ],
         "geo": "geo",
         "hovertemplate": "<b>%{hovertext}</b><br><br>color=(0.0, 1000000.0]<br>Code=%{location}<br>Total Property Values=%{customdata[0]:.1f}<br>Rank=%{customdata[1]:}<extra></extra>",
         "hovertext": [
          "Cuba",
          "Guatemala",
          "Faroe Islands",
          "Honduras",
          "Macao",
          "Cambodia",
          "Costa Rica",
          "Nicaragua",
          "Togo",
          "Andorra",
          "Mongolia",
          "Saint Lucia",
          "Central African Republic",
          "Vanuatu",
          "Cook Islands"
         ],
         "locations": [
          "CUB",
          "GTM",
          "FRO",
          "HND",
          "MAC",
          "KHM",
          "CRI",
          "NIC",
          "TGO",
          "AND",
          "MNG",
          "LCA",
          "CAF",
          "VUT",
          "COK"
         ],
         "name": "(0.0, 1000000.0]",
         "showlegend": true,
         "showscale": false,
         "type": "choropleth",
         "z": [
          1,
          1,
          1,
          1,
          1,
          1,
          1,
          1,
          1,
          1,
          1,
          1,
          1,
          1,
          1
         ]
        },
        {
         "colorscale": [
          [
           0,
           "rgb(224,236,244)"
          ],
          [
           1,
           "rgb(224,236,244)"
          ]
         ],
         "customdata": [
          [
           1033388,
           16
          ],
          [
           7910712,
           49
          ],
          [
           1226562,
           18
          ],
          [
           5359401,
           42
          ],
          [
           5726711,
           44
          ],
          [
           1113534,
           17
          ],
          [
           2189583,
           27
          ],
          [
           2158496,
           26
          ],
          [
           2906772,
           30
          ],
          [
           4327004,
           37
          ],
          [
           8593277,
           50
          ],
          [
           4375482,
           38
          ],
          [
           4034326,
           36
          ],
          [
           2129521,
           25
          ],
          [
           1371224,
           19
          ],
          [
           1573848,
           21
          ],
          [
           5524217,
           43
          ],
          [
           4822471,
           40
          ],
          [
           4848632,
           41
          ],
          [
           3756692,
           33
          ],
          [
           6762555,
           46
          ],
          [
           2053722,
           23
          ],
          [
           7174898,
           47
          ],
          [
           3826395,
           34
          ],
          [
           1898511,
           22
          ],
          [
           3164918,
           32
          ],
          [
           1402703,
           20
          ],
          [
           2087349,
           24
          ],
          [
           9043319,
           51
          ],
          [
           9176369,
           52
          ],
          [
           7470339,
           48
          ],
          [
           2536204,
           29
          ],
          [
           9314867,
           53
          ],
          [
           4583258,
           39
          ],
          [
           3887921,
           35
          ],
          [
           6590232,
           45
          ],
          [
           2993694,
           31
          ],
          [
           2232975,
           28
          ]
         ],
         "geo": "geo",
         "hovertemplate": "<b>%{hovertext}</b><br><br>color=(1000000.0, 10000000.0]<br>Code=%{location}<br>Total Property Values=%{customdata[0]:.1f}<br>Rank=%{customdata[1]:}<extra></extra>",
         "hovertext": [
          "Bolivia",
          "Vietnam",
          "El Salvador",
          "Ecuador",
          "Peru",
          "Paraguay",
          "Burkina Faso",
          "Papua New Guinea",
          "Democratic Rep, Of Congo",
          "Myanmar",
          "Ivory Coast",
          "Uruguay",
          "Iceland",
          "Namibia",
          "Isle Of Man",
          "Monaco",
          "Trinidad & Tobago",
          "Benin",
          "Jamaica",
          "Brunei",
          "Albania",
          "Guyana",
          "Madagascar",
          "Liechtenstein",
          "Liberia",
          "Fiji",
          "San Marino",
          "Lesotho",
          "Southern Sudan",
          "Mauritania",
          "Montenegro",
          "Guinea-Bissau",
          "Barbados",
          "Bhutan",
          "Gambia",
          "Burundi",
          "Turks And Caicos Islands",
          "Saint Vincent & The Grenadines"
         ],
         "locations": [
          "BOL",
          "VNM",
          "SLV",
          "ECU",
          "PER",
          "PRY",
          "BFA",
          "PNG",
          "COD",
          "MMR",
          "CIV",
          "URY",
          "ISL",
          "NAM",
          "IMN",
          "MCO",
          "TTO",
          "BEN",
          "JAM",
          "BRN",
          "ALB",
          "GUY",
          "MDG",
          "LIE",
          "LBR",
          "FJI",
          "SMR",
          "LSO",
          "SSD",
          "MRT",
          "MNE",
          "GNB",
          "BRB",
          "BTN",
          "GMB",
          "BDI",
          "TCA",
          "VCT"
         ],
         "name": "(1000000.0, 10000000.0]",
         "showlegend": true,
         "showscale": false,
         "type": "choropleth",
         "z": [
          1,
          1,
          1,
          1,
          1,
          1,
          1,
          1,
          1,
          1,
          1,
          1,
          1,
          1,
          1,
          1,
          1,
          1,
          1,
          1,
          1,
          1,
          1,
          1,
          1,
          1,
          1,
          1,
          1,
          1,
          1,
          1,
          1,
          1,
          1,
          1,
          1,
          1
         ]
        },
        {
         "colorscale": [
          [
           0,
           "rgb(191,211,230)"
          ],
          [
           1,
           "rgb(191,211,230)"
          ]
         ],
         "customdata": [
          [
           136625164,
           122
          ],
          [
           192493396,
           127
          ],
          [
           137597331,
           123
          ],
          [
           274338500,
           138
          ],
          [
           130243044,
           121
          ],
          [
           121500170,
           115
          ],
          [
           154368306,
           125
          ],
          [
           129296296,
           120
          ],
          [
           218386105,
           130
          ],
          [
           218712527,
           131
          ],
          [
           401901466,
           149
          ],
          [
           326927142,
           145
          ],
          [
           238247363,
           135
          ],
          [
           314783309,
           142
          ],
          [
           260075153,
           137
          ],
          [
           109563946,
           114
          ],
          [
           326764517,
           144
          ],
          [
           163924498,
           126
          ],
          [
           143361443,
           124
          ],
          [
           205468830,
           128
          ],
          [
           323839242,
           143
          ],
          [
           450011530,
           150
          ],
          [
           124595200,
           117
          ],
          [
           237117227,
           134
          ],
          [
           399089160,
           148
          ],
          [
           487528904,
           151
          ],
          [
           224459515,
           133
          ],
          [
           306814520,
           141
          ],
          [
           222973199,
           132
          ],
          [
           102207266,
           113
          ],
          [
           349310867,
           146
          ],
          [
           122053250,
           116
          ],
          [
           207650157,
           129
          ],
          [
           252911034,
           136
          ],
          [
           304883058,
           140
          ],
          [
           127170093,
           119
          ],
          [
           125462366,
           118
          ],
          [
           100855582,
           112
          ],
          [
           293254533,
           139
          ],
          [
           383562679,
           147
          ]
         ],
         "geo": "geo",
         "hovertemplate": "<b>%{hovertext}</b><br><br>color=(100000000.0, 500000000.0]<br>Code=%{location}<br>Total Property Values=%{customdata[0]:.1f}<br>Rank=%{customdata[1]:}<extra></extra>",
         "hovertext": [
          "Japan",
          "South Korea",
          "Brazil",
          "Spain",
          "Thailand",
          "Norway",
          "Poland",
          "Philippines",
          "Malaysia",
          "Romania",
          "Austria",
          "Denmark",
          "Portugal",
          "Bangladesh",
          "New Zealand",
          "Ethiopia",
          "Greece",
          "Dominican Republic",
          "Bulgaria",
          "Sri Lanka",
          "Ukraine",
          "Algeria",
          "Turkmenistan",
          "Tanzania",
          "Kenya",
          "Slovakia",
          "Tunisia",
          "Uzbekistan",
          "Nepal",
          "Kyrgistan",
          "Cyprus",
          "Tajikistan",
          "Armenia",
          "Malta",
          "Bahamas",
          "Gibraltar",
          "Antigua & Barbuda",
          "Dominica",
          "Seychelles",
          "British Virgin Islands"
         ],
         "locations": [
          "JPN",
          "KOR",
          "BRA",
          "ESP",
          "THA",
          "NOR",
          "POL",
          "PHL",
          "MYS",
          "ROU",
          "AUT",
          "DNK",
          "PRT",
          "BGD",
          "NZL",
          "ETH",
          "GRC",
          "DOM",
          "BGR",
          "LKA",
          "UKR",
          "DZA",
          "TKM",
          "TZA",
          "KEN",
          "SVK",
          "TUN",
          "UZB",
          "NPL",
          "KGZ",
          "CYP",
          "TJK",
          "ARM",
          "MLT",
          "BHS",
          "GIB",
          "ATG",
          "DMA",
          "SYC",
          "VGB"
         ],
         "name": "(100000000.0, 500000000.0]",
         "showlegend": true,
         "showscale": false,
         "type": "choropleth",
         "z": [
          1,
          1,
          1,
          1,
          1,
          1,
          1,
          1,
          1,
          1,
          1,
          1,
          1,
          1,
          1,
          1,
          1,
          1,
          1,
          1,
          1,
          1,
          1,
          1,
          1,
          1,
          1,
          1,
          1,
          1,
          1,
          1,
          1,
          1,
          1,
          1,
          1,
          1,
          1,
          1
         ]
        },
        {
         "colorscale": [
          [
           0,
           "rgb(158,188,218)"
          ],
          [
           1,
           "rgb(158,188,218)"
          ]
         ],
         "customdata": [
          [
           23466863,
           80
          ],
          [
           35970570,
           89
          ],
          [
           85158491,
           107
          ],
          [
           45244832,
           95
          ],
          [
           51256316,
           99
          ],
          [
           66885500,
           104
          ],
          [
           46710702,
           97
          ],
          [
           64696102,
           101
          ],
          [
           13085666,
           63
          ],
          [
           65093106,
           102
          ],
          [
           27196278,
           86
          ],
          [
           31532535,
           88
          ],
          [
           13741927,
           66
          ],
          [
           11300435,
           56
          ],
          [
           89288837,
           109
          ],
          [
           17194543,
           71
          ],
          [
           27803885,
           87
          ],
          [
           26386351,
           84
          ],
          [
           89142007,
           108
          ],
          [
           10318570,
           55
          ],
          [
           11403159,
           57
          ],
          [
           36493973,
           90
          ],
          [
           43025924,
           94
          ],
          [
           12404647,
           60
          ],
          [
           13610854,
           65
          ],
          [
           19746787,
           75
          ],
          [
           50991657,
           98
          ],
          [
           12957190,
           62
          ],
          [
           64661099,
           100
          ],
          [
           37455516,
           91
          ],
          [
           14206156,
           68
          ],
          [
           13340972,
           64
          ],
          [
           26798262,
           85
          ],
          [
           14476265,
           69
          ],
          [
           14101518,
           67
          ],
          [
           74145316,
           105
          ],
          [
           20313746,
           77
          ],
          [
           39705766,
           93
          ],
          [
           18259680,
           72
          ],
          [
           65526530,
           103
          ],
          [
           38475874,
           92
          ],
          [
           12705948,
           61
          ],
          [
           12127150,
           59
          ],
          [
           23135392,
           79
          ],
          [
           19832311,
           76
          ],
          [
           12116270,
           58
          ],
          [
           46262530,
           96
          ],
          [
           18769999,
           74
          ],
          [
           78444944,
           106
          ],
          [
           26142868,
           83
          ],
          [
           26020787,
           82
          ],
          [
           21837406,
           78
          ],
          [
           25280495,
           81
          ],
          [
           10082724,
           54
          ],
          [
           18664657,
           73
          ],
          [
           15692140,
           70
          ],
          [
           93537128,
           110
          ],
          [
           96003744,
           111
          ]
         ],
         "geo": "geo",
         "hovertemplate": "<b>%{hovertext}</b><br><br>color=(10000000.0, 100000000.0]<br>Code=%{location}<br>Total Property Values=%{customdata[0]:.1f}<br>Rank=%{customdata[1]:}<extra></extra>",
         "hovertext": [
          "Chile",
          "Colombia",
          "Indonesia",
          "Venezuela",
          "Argentina",
          "Mexico",
          "Taiwan",
          "Hong Kong",
          "Panama",
          "Finland",
          "Angola",
          "Puerto Rico",
          "North Korea",
          "Estonia",
          "Czech Republic",
          "Cameroon",
          "Luxembourg",
          "Slovenia",
          "Hungary",
          "Mali",
          "Gabon",
          "Lithuania",
          "Croatia",
          "Botswana",
          "Georgia",
          "Zambia",
          "Ghana",
          "Congo, Republic Of",
          "Belarus",
          "Uganda",
          "Macedonia",
          "Guinea",
          "Bosnia And Herzegovina",
          "Moldova",
          "Chad",
          "Serbia",
          "Niger",
          "Senegal",
          "Malawi",
          "Latvia",
          "Zimbabwe",
          "Somalia",
          "Maldives",
          "Rwanda",
          "Bermuda",
          "Guernsey",
          "Mauritius",
          "Jersey",
          "Mozambique",
          "Eswatini",
          "Sierra Leone",
          "Djibouti",
          "Belize",
          "American Samoa",
          "Grenada",
          "Samoa",
          "Eritrea",
          "Comoros Islands"
         ],
         "locations": [
          "CHL",
          "COL",
          "IDN",
          "VEN",
          "ARG",
          "MEX",
          "TWN",
          "HKG",
          "PAN",
          "FIN",
          "AGO",
          "PRI",
          "PRK",
          "EST",
          "CZE",
          "CMR",
          "LUX",
          "SVN",
          "HUN",
          "MLI",
          "GAB",
          "LTU",
          "HRV",
          "BWA",
          "GEO",
          "ZMB",
          "GHA",
          "COG",
          "BLR",
          "UGA",
          "MKD",
          "GIN",
          "BIH",
          "MDA",
          "TCD",
          "SRB",
          "NER",
          "SEN",
          "MWI",
          "LVA",
          "ZWE",
          "SOM",
          "MDV",
          "RWA",
          "BMU",
          "GGY",
          "MUS",
          "JEY",
          "MOZ",
          "SWZ",
          "SLE",
          "DJI",
          "BLZ",
          "ASM",
          "GRD",
          "WSM",
          "ERI",
          "COM"
         ],
         "name": "(10000000.0, 100000000.0]",
         "showlegend": true,
         "showscale": false,
         "type": "choropleth",
         "z": [
          1,
          1,
          1,
          1,
          1,
          1,
          1,
          1,
          1,
          1,
          1,
          1,
          1,
          1,
          1,
          1,
          1,
          1,
          1,
          1,
          1,
          1,
          1,
          1,
          1,
          1,
          1,
          1,
          1,
          1,
          1,
          1,
          1,
          1,
          1,
          1,
          1,
          1,
          1,
          1,
          1,
          1,
          1,
          1,
          1,
          1,
          1,
          1,
          1,
          1,
          1,
          1,
          1,
          1,
          1,
          1,
          1,
          1
         ]
        },
        {
         "colorscale": [
          [
           0,
           "rgb(140,150,198)"
          ],
          [
           1,
           "rgb(140,150,198)"
          ]
         ],
         "customdata": [
          [
           3020718453,
           181
          ],
          [
           3344037747,
           182
          ],
          [
           5150218144,
           186
          ],
          [
           14673449357,
           191
          ],
          [
           29825884638,
           192
          ],
          [
           9782216629,
           189
          ],
          [
           3442276051,
           184
          ],
          [
           7028738307,
           188
          ],
          [
           3795781625,
           185
          ],
          [
           10631637135,
           190
          ],
          [
           3398556621,
           183
          ],
          [
           5197686169,
           187
          ],
          [
           287245899176,
           193
          ]
         ],
         "geo": "geo",
         "hovertemplate": "<b>%{hovertext}</b><br><br>color=(3000000000.0, 300000000000.0]<br>Code=%{location}<br>Total Property Values=%{customdata[0]:.1f}<br>Rank=%{customdata[1]:}<extra></extra>",
         "hovertext": [
          "USA",
          "Russia",
          "Canada",
          "United Kingdom",
          "India",
          "Saudi Arabia",
          "Egypt",
          "Iran",
          "Kuwait",
          "Pakistan",
          "Lebanon",
          "Jordan",
          "United Arab Emirates"
         ],
         "locations": [
          "USA",
          "RUS",
          "CAN",
          "GBR",
          "IND",
          "SAU",
          "EGY",
          "IRN",
          "KWT",
          "PAK",
          "LBN",
          "JOR",
          "ARE"
         ],
         "name": "(3000000000.0, 300000000000.0]",
         "showlegend": true,
         "showscale": false,
         "type": "choropleth",
         "z": [
          1,
          1,
          1,
          1,
          1,
          1,
          1,
          1,
          1,
          1,
          1,
          1,
          1
         ]
        },
        {
         "colorscale": [
          [
           0,
           "rgb(140,107,177)"
          ],
          [
           1,
           "rgb(140,107,177)"
          ]
         ],
         "customdata": [
          [
           2735116465,
           179
          ],
          [
           1801164073,
           174
          ],
          [
           1130245242,
           169
          ],
          [
           1959122490,
           175
          ],
          [
           518819921,
           152
          ],
          [
           1197513851,
           170
          ],
          [
           765740942,
           163
          ],
          [
           720250167,
           160
          ],
          [
           628300486,
           159
          ],
          [
           593019034,
           158
          ],
          [
           568370283,
           157
          ],
          [
           560047951,
           155
          ],
          [
           739180760,
           161
          ],
          [
           881663879,
           164
          ],
          [
           521248903,
           153
          ],
          [
           1018303303,
           167
          ],
          [
           540849099,
           154
          ],
          [
           2593462500,
           178
          ],
          [
           2134427100,
           176
          ],
          [
           741250431,
           162
          ],
          [
           2168604777,
           177
          ],
          [
           941521903,
           166
          ],
          [
           1426457684,
           172
          ],
          [
           1043509028,
           168
          ],
          [
           887521793,
           165
          ],
          [
           2976197188,
           180
          ],
          [
           1410029024,
           171
          ],
          [
           565389111,
           156
          ],
          [
           1519188387,
           173
          ]
         ],
         "geo": "geo",
         "hovertemplate": "<b>%{hovertext}</b><br><br>color=(500000000.0, 3000000000.0]<br>Code=%{location}<br>Total Property Values=%{customdata[0]:.1f}<br>Rank=%{customdata[1]:}<extra></extra>",
         "hovertext": [
          "China",
          "Germany",
          "Italy",
          "France",
          "Switzerland",
          "Australia",
          "Netherlands",
          "Turkey",
          "Sweden",
          "Belgium",
          "Nigeria",
          "Singapore",
          "South Africa",
          "Ireland",
          "Morocco",
          "Kazakhstan",
          "Libya",
          "Iraq",
          "Qatar",
          "Azerbaijan",
          "Oman",
          "Sudan",
          "Bahrain",
          "Yemen",
          "Palestine",
          "Syria",
          "Afghanistan",
          "Cayman Islands",
          "Saint Kitts And Nevis"
         ],
         "locations": [
          "CHN",
          "DEU",
          "ITA",
          "FRA",
          "CHE",
          "AUS",
          "NLD",
          "TUR",
          "SWE",
          "BEL",
          "NGA",
          "SGP",
          "ZAF",
          "IRL",
          "MAR",
          "KAZ",
          "LBY",
          "IRQ",
          "QAT",
          "AZE",
          "OMN",
          "SDN",
          "BHR",
          "YEM",
          "PSE",
          "SYR",
          "AFG",
          "CYM",
          "KNA"
         ],
         "name": "(500000000.0, 3000000000.0]",
         "showlegend": true,
         "showscale": false,
         "type": "choropleth",
         "z": [
          1,
          1,
          1,
          1,
          1,
          1,
          1,
          1,
          1,
          1,
          1,
          1,
          1,
          1,
          1,
          1,
          1,
          1,
          1,
          1,
          1,
          1,
          1,
          1,
          1,
          1,
          1,
          1,
          1
         ]
        }
       ],
       "layout": {
        "geo": {
         "center": {},
         "domain": {
          "x": [
           0,
           1
          ],
          "y": [
           0,
           1
          ]
         },
         "projection": {
          "type": "orthographic"
         },
         "showcoastlines": false,
         "showframe": false
        },
        "height": 900,
        "legend": {
         "title": {
          "text": "color"
         },
         "tracegroupgap": 0
        },
        "margin": {
         "b": 50,
         "l": 50,
         "r": 50,
         "t": 50
        },
        "template": {
         "data": {
          "bar": [
           {
            "error_x": {
             "color": "#2a3f5f"
            },
            "error_y": {
             "color": "#2a3f5f"
            },
            "marker": {
             "line": {
              "color": "#E5ECF6",
              "width": 0.5
             },
             "pattern": {
              "fillmode": "overlay",
              "size": 10,
              "solidity": 0.2
             }
            },
            "type": "bar"
           }
          ],
          "barpolar": [
           {
            "marker": {
             "line": {
              "color": "#E5ECF6",
              "width": 0.5
             },
             "pattern": {
              "fillmode": "overlay",
              "size": 10,
              "solidity": 0.2
             }
            },
            "type": "barpolar"
           }
          ],
          "carpet": [
           {
            "aaxis": {
             "endlinecolor": "#2a3f5f",
             "gridcolor": "white",
             "linecolor": "white",
             "minorgridcolor": "white",
             "startlinecolor": "#2a3f5f"
            },
            "baxis": {
             "endlinecolor": "#2a3f5f",
             "gridcolor": "white",
             "linecolor": "white",
             "minorgridcolor": "white",
             "startlinecolor": "#2a3f5f"
            },
            "type": "carpet"
           }
          ],
          "choropleth": [
           {
            "colorbar": {
             "outlinewidth": 0,
             "ticks": ""
            },
            "type": "choropleth"
           }
          ],
          "contour": [
           {
            "colorbar": {
             "outlinewidth": 0,
             "ticks": ""
            },
            "colorscale": [
             [
              0,
              "#0d0887"
             ],
             [
              0.1111111111111111,
              "#46039f"
             ],
             [
              0.2222222222222222,
              "#7201a8"
             ],
             [
              0.3333333333333333,
              "#9c179e"
             ],
             [
              0.4444444444444444,
              "#bd3786"
             ],
             [
              0.5555555555555556,
              "#d8576b"
             ],
             [
              0.6666666666666666,
              "#ed7953"
             ],
             [
              0.7777777777777778,
              "#fb9f3a"
             ],
             [
              0.8888888888888888,
              "#fdca26"
             ],
             [
              1,
              "#f0f921"
             ]
            ],
            "type": "contour"
           }
          ],
          "contourcarpet": [
           {
            "colorbar": {
             "outlinewidth": 0,
             "ticks": ""
            },
            "type": "contourcarpet"
           }
          ],
          "heatmap": [
           {
            "colorbar": {
             "outlinewidth": 0,
             "ticks": ""
            },
            "colorscale": [
             [
              0,
              "#0d0887"
             ],
             [
              0.1111111111111111,
              "#46039f"
             ],
             [
              0.2222222222222222,
              "#7201a8"
             ],
             [
              0.3333333333333333,
              "#9c179e"
             ],
             [
              0.4444444444444444,
              "#bd3786"
             ],
             [
              0.5555555555555556,
              "#d8576b"
             ],
             [
              0.6666666666666666,
              "#ed7953"
             ],
             [
              0.7777777777777778,
              "#fb9f3a"
             ],
             [
              0.8888888888888888,
              "#fdca26"
             ],
             [
              1,
              "#f0f921"
             ]
            ],
            "type": "heatmap"
           }
          ],
          "heatmapgl": [
           {
            "colorbar": {
             "outlinewidth": 0,
             "ticks": ""
            },
            "colorscale": [
             [
              0,
              "#0d0887"
             ],
             [
              0.1111111111111111,
              "#46039f"
             ],
             [
              0.2222222222222222,
              "#7201a8"
             ],
             [
              0.3333333333333333,
              "#9c179e"
             ],
             [
              0.4444444444444444,
              "#bd3786"
             ],
             [
              0.5555555555555556,
              "#d8576b"
             ],
             [
              0.6666666666666666,
              "#ed7953"
             ],
             [
              0.7777777777777778,
              "#fb9f3a"
             ],
             [
              0.8888888888888888,
              "#fdca26"
             ],
             [
              1,
              "#f0f921"
             ]
            ],
            "type": "heatmapgl"
           }
          ],
          "histogram": [
           {
            "marker": {
             "pattern": {
              "fillmode": "overlay",
              "size": 10,
              "solidity": 0.2
             }
            },
            "type": "histogram"
           }
          ],
          "histogram2d": [
           {
            "colorbar": {
             "outlinewidth": 0,
             "ticks": ""
            },
            "colorscale": [
             [
              0,
              "#0d0887"
             ],
             [
              0.1111111111111111,
              "#46039f"
             ],
             [
              0.2222222222222222,
              "#7201a8"
             ],
             [
              0.3333333333333333,
              "#9c179e"
             ],
             [
              0.4444444444444444,
              "#bd3786"
             ],
             [
              0.5555555555555556,
              "#d8576b"
             ],
             [
              0.6666666666666666,
              "#ed7953"
             ],
             [
              0.7777777777777778,
              "#fb9f3a"
             ],
             [
              0.8888888888888888,
              "#fdca26"
             ],
             [
              1,
              "#f0f921"
             ]
            ],
            "type": "histogram2d"
           }
          ],
          "histogram2dcontour": [
           {
            "colorbar": {
             "outlinewidth": 0,
             "ticks": ""
            },
            "colorscale": [
             [
              0,
              "#0d0887"
             ],
             [
              0.1111111111111111,
              "#46039f"
             ],
             [
              0.2222222222222222,
              "#7201a8"
             ],
             [
              0.3333333333333333,
              "#9c179e"
             ],
             [
              0.4444444444444444,
              "#bd3786"
             ],
             [
              0.5555555555555556,
              "#d8576b"
             ],
             [
              0.6666666666666666,
              "#ed7953"
             ],
             [
              0.7777777777777778,
              "#fb9f3a"
             ],
             [
              0.8888888888888888,
              "#fdca26"
             ],
             [
              1,
              "#f0f921"
             ]
            ],
            "type": "histogram2dcontour"
           }
          ],
          "mesh3d": [
           {
            "colorbar": {
             "outlinewidth": 0,
             "ticks": ""
            },
            "type": "mesh3d"
           }
          ],
          "parcoords": [
           {
            "line": {
             "colorbar": {
              "outlinewidth": 0,
              "ticks": ""
             }
            },
            "type": "parcoords"
           }
          ],
          "pie": [
           {
            "automargin": true,
            "type": "pie"
           }
          ],
          "scatter": [
           {
            "fillpattern": {
             "fillmode": "overlay",
             "size": 10,
             "solidity": 0.2
            },
            "type": "scatter"
           }
          ],
          "scatter3d": [
           {
            "line": {
             "colorbar": {
              "outlinewidth": 0,
              "ticks": ""
             }
            },
            "marker": {
             "colorbar": {
              "outlinewidth": 0,
              "ticks": ""
             }
            },
            "type": "scatter3d"
           }
          ],
          "scattercarpet": [
           {
            "marker": {
             "colorbar": {
              "outlinewidth": 0,
              "ticks": ""
             }
            },
            "type": "scattercarpet"
           }
          ],
          "scattergeo": [
           {
            "marker": {
             "colorbar": {
              "outlinewidth": 0,
              "ticks": ""
             }
            },
            "type": "scattergeo"
           }
          ],
          "scattergl": [
           {
            "marker": {
             "colorbar": {
              "outlinewidth": 0,
              "ticks": ""
             }
            },
            "type": "scattergl"
           }
          ],
          "scattermapbox": [
           {
            "marker": {
             "colorbar": {
              "outlinewidth": 0,
              "ticks": ""
             }
            },
            "type": "scattermapbox"
           }
          ],
          "scatterpolar": [
           {
            "marker": {
             "colorbar": {
              "outlinewidth": 0,
              "ticks": ""
             }
            },
            "type": "scatterpolar"
           }
          ],
          "scatterpolargl": [
           {
            "marker": {
             "colorbar": {
              "outlinewidth": 0,
              "ticks": ""
             }
            },
            "type": "scatterpolargl"
           }
          ],
          "scatterternary": [
           {
            "marker": {
             "colorbar": {
              "outlinewidth": 0,
              "ticks": ""
             }
            },
            "type": "scatterternary"
           }
          ],
          "surface": [
           {
            "colorbar": {
             "outlinewidth": 0,
             "ticks": ""
            },
            "colorscale": [
             [
              0,
              "#0d0887"
             ],
             [
              0.1111111111111111,
              "#46039f"
             ],
             [
              0.2222222222222222,
              "#7201a8"
             ],
             [
              0.3333333333333333,
              "#9c179e"
             ],
             [
              0.4444444444444444,
              "#bd3786"
             ],
             [
              0.5555555555555556,
              "#d8576b"
             ],
             [
              0.6666666666666666,
              "#ed7953"
             ],
             [
              0.7777777777777778,
              "#fb9f3a"
             ],
             [
              0.8888888888888888,
              "#fdca26"
             ],
             [
              1,
              "#f0f921"
             ]
            ],
            "type": "surface"
           }
          ],
          "table": [
           {
            "cells": {
             "fill": {
              "color": "#EBF0F8"
             },
             "line": {
              "color": "white"
             }
            },
            "header": {
             "fill": {
              "color": "#C8D4E3"
             },
             "line": {
              "color": "white"
             }
            },
            "type": "table"
           }
          ]
         },
         "layout": {
          "annotationdefaults": {
           "arrowcolor": "#2a3f5f",
           "arrowhead": 0,
           "arrowwidth": 1
          },
          "autotypenumbers": "strict",
          "coloraxis": {
           "colorbar": {
            "outlinewidth": 0,
            "ticks": ""
           }
          },
          "colorscale": {
           "diverging": [
            [
             0,
             "#8e0152"
            ],
            [
             0.1,
             "#c51b7d"
            ],
            [
             0.2,
             "#de77ae"
            ],
            [
             0.3,
             "#f1b6da"
            ],
            [
             0.4,
             "#fde0ef"
            ],
            [
             0.5,
             "#f7f7f7"
            ],
            [
             0.6,
             "#e6f5d0"
            ],
            [
             0.7,
             "#b8e186"
            ],
            [
             0.8,
             "#7fbc41"
            ],
            [
             0.9,
             "#4d9221"
            ],
            [
             1,
             "#276419"
            ]
           ],
           "sequential": [
            [
             0,
             "#0d0887"
            ],
            [
             0.1111111111111111,
             "#46039f"
            ],
            [
             0.2222222222222222,
             "#7201a8"
            ],
            [
             0.3333333333333333,
             "#9c179e"
            ],
            [
             0.4444444444444444,
             "#bd3786"
            ],
            [
             0.5555555555555556,
             "#d8576b"
            ],
            [
             0.6666666666666666,
             "#ed7953"
            ],
            [
             0.7777777777777778,
             "#fb9f3a"
            ],
            [
             0.8888888888888888,
             "#fdca26"
            ],
            [
             1,
             "#f0f921"
            ]
           ],
           "sequentialminus": [
            [
             0,
             "#0d0887"
            ],
            [
             0.1111111111111111,
             "#46039f"
            ],
            [
             0.2222222222222222,
             "#7201a8"
            ],
            [
             0.3333333333333333,
             "#9c179e"
            ],
            [
             0.4444444444444444,
             "#bd3786"
            ],
            [
             0.5555555555555556,
             "#d8576b"
            ],
            [
             0.6666666666666666,
             "#ed7953"
            ],
            [
             0.7777777777777778,
             "#fb9f3a"
            ],
            [
             0.8888888888888888,
             "#fdca26"
            ],
            [
             1,
             "#f0f921"
            ]
           ]
          },
          "colorway": [
           "#636efa",
           "#EF553B",
           "#00cc96",
           "#ab63fa",
           "#FFA15A",
           "#19d3f3",
           "#FF6692",
           "#B6E880",
           "#FF97FF",
           "#FECB52"
          ],
          "font": {
           "color": "#2a3f5f"
          },
          "geo": {
           "bgcolor": "white",
           "lakecolor": "white",
           "landcolor": "#E5ECF6",
           "showlakes": true,
           "showland": true,
           "subunitcolor": "white"
          },
          "hoverlabel": {
           "align": "left"
          },
          "hovermode": "closest",
          "mapbox": {
           "style": "light"
          },
          "paper_bgcolor": "white",
          "plot_bgcolor": "#E5ECF6",
          "polar": {
           "angularaxis": {
            "gridcolor": "white",
            "linecolor": "white",
            "ticks": ""
           },
           "bgcolor": "#E5ECF6",
           "radialaxis": {
            "gridcolor": "white",
            "linecolor": "white",
            "ticks": ""
           }
          },
          "scene": {
           "xaxis": {
            "backgroundcolor": "#E5ECF6",
            "gridcolor": "white",
            "gridwidth": 2,
            "linecolor": "white",
            "showbackground": true,
            "ticks": "",
            "zerolinecolor": "white"
           },
           "yaxis": {
            "backgroundcolor": "#E5ECF6",
            "gridcolor": "white",
            "gridwidth": 2,
            "linecolor": "white",
            "showbackground": true,
            "ticks": "",
            "zerolinecolor": "white"
           },
           "zaxis": {
            "backgroundcolor": "#E5ECF6",
            "gridcolor": "white",
            "gridwidth": 2,
            "linecolor": "white",
            "showbackground": true,
            "ticks": "",
            "zerolinecolor": "white"
           }
          },
          "shapedefaults": {
           "line": {
            "color": "#2a3f5f"
           }
          },
          "ternary": {
           "aaxis": {
            "gridcolor": "white",
            "linecolor": "white",
            "ticks": ""
           },
           "baxis": {
            "gridcolor": "white",
            "linecolor": "white",
            "ticks": ""
           },
           "bgcolor": "#E5ECF6",
           "caxis": {
            "gridcolor": "white",
            "linecolor": "white",
            "ticks": ""
           }
          },
          "title": {
           "x": 0.05
          },
          "xaxis": {
           "automargin": true,
           "gridcolor": "white",
           "linecolor": "white",
           "ticks": "",
           "title": {
            "standoff": 15
           },
           "zerolinecolor": "white",
           "zerolinewidth": 2
          },
          "yaxis": {
           "automargin": true,
           "gridcolor": "white",
           "linecolor": "white",
           "ticks": "",
           "title": {
            "standoff": 15
           },
           "zerolinecolor": "white",
           "zerolinewidth": 2
          }
         }
        },
        "title": {
         "text": "Total Property Values by Country"
        }
       }
      }
     },
     "metadata": {},
     "output_type": "display_data"
    }
   ],
   "source": [
    "data['Rank'] = data['Total Property Values'].rank() # rank the data\n",
    "fig = px.choropleth(data, #This is the name of your dataset\n",
    "                    locations='Code', # Which column are the country codes stored in?\n",
    "                    color=pd.cut(data['Total Property Values'], \n",
    "                               bins=[0, 0.001*1000000000,0.01*1000000000,0.1*1000000000,0.5*1000000000,3*1000000000,300*1000000000]).astype(str).fillna('No Data'),\n",
    "                    #These are our sample bins, feel free to mess around with them\n",
    "                    hover_name = data.index, # Which column are the country names stored in?\n",
    "                    hover_data={\"Total Property Values\":\":.1f\", \"Rank\":\":\"},\n",
    "                    # Change the above line so we can see the ratio of property value to 2 decimal places\n",
    "                    color_discrete_sequence=px.colors.sequential.BuPu,\n",
    "                    #Feel free to mess around with colors if you're interested\n",
    "                    title = 'Total Property Values by Country', # Write an appropriate title\n",
    "                    height = 900\n",
    "                   )\n",
    "fig.update_layout(\n",
    "    geo=dict(\n",
    "        showframe=False,\n",
    "        showcoastlines=False,\n",
    "        projection_type='orthographic'\n",
    "    ),\n",
    "    margin=dict(l=50, r=50, t=50, b=50),\n",
    ")\n",
    "fig.show()"
   ]
  },
  {
   "cell_type": "markdown",
   "id": "cf4f3dae-7537-4737-81ab-5716a094c079",
   "metadata": {
    "deletable": false,
    "editable": false
   },
   "source": [
    "<!-- END QUESTION -->\n",
    "\n",
    "---\n",
    "## Part 3: Using Widgets"
   ]
  },
  {
   "cell_type": "markdown",
   "id": "a321768c-6e08-4745-a703-eb86f82ad444",
   "metadata": {},
   "source": [
    "Congratulations on making the first map! In this part, we will generate a map that can easily toggle between different columns to visualize different data. In order to do this, we must first introduce [widgets](https://ipywidgets.readthedocs.io). Widgets are interactive browser controls that allow you to choose between different values. An example is included below."
   ]
  },
  {
   "cell_type": "code",
   "execution_count": 23,
   "id": "1e9eb9df-a467-4e6c-b293-4b864f23061b",
   "metadata": {
    "editable": true,
    "slideshow": {
     "slide_type": ""
    },
    "tags": [
     "otter_ignore"
    ]
   },
   "outputs": [
    {
     "data": {
      "application/vnd.jupyter.widget-view+json": {
       "model_id": "bcaedf5594fb44548dc6c543cb60d13a",
       "version_major": 2,
       "version_minor": 0
      },
      "text/plain": [
       "Dropdown(description='Number:', index=1, options=('1', '2', '3'), value='2')"
      ]
     },
     "execution_count": 23,
     "metadata": {},
     "output_type": "execute_result"
    }
   ],
   "source": [
    "from ipywidgets import Dropdown\n",
    "Dropdown(\n",
    "    options=['1', '2', '3'],\n",
    "    value='2',\n",
    "    description='Number:',\n",
    "    disabled=False,\n",
    ")"
   ]
  },
  {
   "cell_type": "markdown",
   "id": "83230c14-8cc2-4b9d-ac37-c821d6aa03dc",
   "metadata": {},
   "source": [
    "The `interact` function in the widgets module takes in a function, a list of values for it's parameters and determines the appropriate widget to let you visualize the function. 2 examples are included below."
   ]
  },
  {
   "cell_type": "code",
   "execution_count": 24,
   "id": "5cebe3d0-ce6c-44e8-9799-b1be1f0a323c",
   "metadata": {
    "editable": true,
    "slideshow": {
     "slide_type": ""
    },
    "tags": [
     "otter_ignore"
    ]
   },
   "outputs": [
    {
     "data": {
      "application/vnd.jupyter.widget-view+json": {
       "model_id": "09f50988b19a439aadccabef883fee6e",
       "version_major": 2,
       "version_minor": 0
      },
      "text/plain": [
       "interactive(children=(Dropdown(description='name', options=('James', 'Bond', 'James Bond'), value='James'), Ou…"
      ]
     },
     "metadata": {},
     "output_type": "display_data"
    }
   ],
   "source": [
    "def say_my_name(name):\n",
    "    \"\"\"\n",
    "    Print the current widget value in a short sentence\n",
    "    \"\"\"\n",
    "    print(f'My name is {name}')\n",
    "     \n",
    "interact(say_my_name, name=[\"James\", \"Bond\", \"James Bond\"]);"
   ]
  },
  {
   "cell_type": "code",
   "execution_count": 25,
   "id": "fa2747fa-e1e8-4153-a616-41dd19a30e89",
   "metadata": {
    "editable": true,
    "slideshow": {
     "slide_type": ""
    },
    "tags": [
     "otter_ignore"
    ]
   },
   "outputs": [
    {
     "data": {
      "application/vnd.jupyter.widget-view+json": {
       "model_id": "df1fb1786119417ab0f32f6dc63c1870",
       "version_major": 2,
       "version_minor": 0
      },
      "text/plain": [
       "interactive(children=(Dropdown(description='x', options=(1, 2, 3), value=1), Output()), _dom_classes=('widget-…"
      ]
     },
     "metadata": {},
     "output_type": "display_data"
    }
   ],
   "source": [
    "def f(x):\n",
    "    return x + 1\n",
    "lst = [1,2,3]\n",
    "interact(f, x=lst);"
   ]
  },
  {
   "cell_type": "markdown",
   "id": "8cf8dd2f-6ad7-4adf-8b3e-a84ff478d8e0",
   "metadata": {},
   "source": [
    "We will be using the `interact` function to generate a widget that lets us choose between and visualize the different column values easily. In order to this, we must first write a function that lets us generate a 3D plot for any column name. Thankfully, this isn't too hard. If you remember, other than changing the projection, making the plot for question 7 wasn't too bad once your code for question 6 was working.\n",
    "\n",
    "The main thing we must consider for different columns is how to automatically determine the different color bins. After all, we won't be able to make judgement calls for every single bin. One way to automate this process would be to look at the data quintiles - assign the bottom 20% of the data to one bin, the next 20% to another bin, and so on. "
   ]
  },
  {
   "cell_type": "markdown",
   "id": "dca018bb-fabd-4251-bfff-73b7bef66a44",
   "metadata": {
    "deletable": false,
    "editable": false
   },
   "source": [
    "**Question 3.1:** Computationally determine the quintiles of `data['Total Property Values']` and return the information as a list. The list must start at the minimum value of `data['Total Property Values']` and end at the maximum value.\n",
    "\n",
    "Hint: The solution does not need to be longer than one line. This [method](https://pandas.pydata.org/docs/reference/api/pandas.DataFrame.quantile.html) may be helpful. "
   ]
  },
  {
   "cell_type": "code",
   "execution_count": 26,
   "id": "0410a48c-e74d-4429-8f4b-55e48f921bae",
   "metadata": {
    "tags": []
   },
   "outputs": [
    {
     "data": {
      "text/plain": [
       "0.0    3.750600e+04\n",
       "0.2    4.678943e+06\n",
       "0.4    2.153267e+07\n",
       "0.6    1.225616e+08\n",
       "0.8    5.523684e+08\n",
       "1.0    2.872459e+11\n",
       "Name: Total Property Values, dtype: float64"
      ]
     },
     "execution_count": 26,
     "metadata": {},
     "output_type": "execute_result"
    }
   ],
   "source": [
    "quintiles = data['Total Property Values'].quantile(q=[0,0.2,0.4,0.6,0.8,1])\n",
    "quintiles"
   ]
  },
  {
   "cell_type": "code",
   "execution_count": 27,
   "id": "4b6222d4",
   "metadata": {
    "deletable": false,
    "editable": false
   },
   "outputs": [
    {
     "data": {
      "text/html": [
       "<p><strong><pre style='display: inline;'>q3_1</pre></strong> passed! 🌈</p>"
      ],
      "text/plain": [
       "q3_1 results: All test cases passed!"
      ]
     },
     "execution_count": 27,
     "metadata": {},
     "output_type": "execute_result"
    }
   ],
   "source": [
    "grader.check(\"q3_1\")"
   ]
  },
  {
   "cell_type": "markdown",
   "id": "df76fc6e-64a0-40f2-b549-43dbb4c355e4",
   "metadata": {
    "deletable": false,
    "editable": false
   },
   "source": [
    "<!-- BEGIN QUESTION -->\n",
    "\n",
    "**Question 3.2:** Write a function that takes in a column name and generates a 3D plot visualizing that column data. Name the function `plot_generator`. Feel free to assign the column name as the plot title."
   ]
  },
  {
   "cell_type": "code",
   "execution_count": 28,
   "id": "14a81bdb-2a23-4fdb-88fa-e3dc1cca8fdf",
   "metadata": {
    "tags": []
   },
   "outputs": [],
   "source": [
    "def plot_generator(col):\n",
    "    data_new = data.copy()\n",
    "    data_new['Rank'] = data_new[col].rank() # generate ranking\n",
    "    fig = px.choropleth(data_new,\n",
    "                        locations = data_new['Code'],\n",
    "                        color=pd.cut(data_new[col], \n",
    "                                    bins=data_new[col].quantile(q=[0.0,0.2,0.4,0.6,0.8,1.0]),duplicates='drop').astype(str).fillna('No Data'),\n",
    "                        hover_name = data_new.index,\n",
    "                        hover_data={col:\":.2f\", \"Rank\":\":\"},\n",
    "                        color_discrete_sequence=px.colors.sequential.BuPu,\n",
    "                        title = f'{col} by country',\n",
    "                        height = 900\n",
    "                       )\n",
    "    fig.update_layout(\n",
    "         title_text=f'{col} by country',\n",
    "        geo=dict(\n",
    "            showframe=False,\n",
    "            showcoastlines=False,\n",
    "            projection_type= 'orthographic'\n",
    "        ),\n",
    "        margin=dict(l=50, r=50, t=50, b=50),\n",
    "    )\n",
    "    fig.show()"
   ]
  },
  {
   "cell_type": "markdown",
   "id": "7c463b3f-aeaa-4658-b4cc-f05a85c13828",
   "metadata": {
    "deletable": false,
    "editable": false
   },
   "source": [
    "<!-- END QUESTION -->\n",
    "\n",
    "Let's make sure the function works:"
   ]
  },
  {
   "cell_type": "code",
   "execution_count": 29,
   "id": "cfe3adf1-5527-42ed-8086-fa2971aaaf22",
   "metadata": {},
   "outputs": [
    {
     "data": {
      "application/vnd.plotly.v1+json": {
       "config": {
        "plotlyServerURL": "https://plot.ly"
       },
       "data": [
        {
         "colorscale": [
          [
           0,
           "rgb(247,252,253)"
          ],
          [
           1,
           "rgb(247,252,253)"
          ]
         ],
         "customdata": [
          [
           613523,
           7
          ],
          [
           717276,
           10
          ],
          [
           1033388,
           16
          ],
          [
           147244,
           2
          ],
          [
           1226562,
           18
          ],
          [
           778544,
           12
          ],
          [
           302629,
           4
          ],
          [
           758305,
           11
          ],
          [
           1113534,
           17
          ],
          [
           2189583,
           27
          ],
          [
           2158496,
           26
          ],
          [
           2906772,
           30
          ],
          [
           788407,
           13
          ],
          [
           4327004,
           37
          ],
          [
           569992,
           6
          ],
          [
           243222,
           3
          ],
          [
           4375482,
           38
          ],
          [
           683138,
           9
          ],
          [
           4034326,
           36
          ],
          [
           2129521,
           25
          ],
          [
           401218,
           5
          ],
          [
           1371224,
           19
          ],
          [
           1573848,
           21
          ],
          [
           3756692,
           33
          ],
          [
           2053722,
           23
          ],
          [
           826585,
           14
          ],
          [
           3826395,
           34
          ],
          [
           1898511,
           22
          ],
          [
           3164918,
           32
          ],
          [
           1402703,
           20
          ],
          [
           2087349,
           24
          ],
          [
           910394,
           15
          ],
          [
           678340,
           8
          ],
          [
           2536204,
           29
          ],
          [
           4583258,
           39
          ],
          [
           3887921,
           35
          ],
          [
           2993694,
           31
          ],
          [
           2232975,
           28
          ]
         ],
         "geo": "geo",
         "hovertemplate": "<b>%{hovertext}</b><br><br>color=(37506.0, 4678943.2]<br>Code=%{location}<br>Total Property Values=%{customdata[0]:.2f}<br>Rank=%{customdata[1]:}<extra></extra>",
         "hovertext": [
          "Cuba",
          "Guatemala",
          "Bolivia",
          "Faroe Islands",
          "El Salvador",
          "Honduras",
          "Macao",
          "Costa Rica",
          "Paraguay",
          "Burkina Faso",
          "Papua New Guinea",
          "Democratic Rep, Of Congo",
          "Nicaragua",
          "Myanmar",
          "Togo",
          "Andorra",
          "Uruguay",
          "Mongolia",
          "Iceland",
          "Namibia",
          "Saint Lucia",
          "Isle Of Man",
          "Monaco",
          "Brunei",
          "Guyana",
          "Central African Republic",
          "Liechtenstein",
          "Liberia",
          "Fiji",
          "San Marino",
          "Lesotho",
          "Vanuatu",
          "Cook Islands",
          "Guinea-Bissau",
          "Bhutan",
          "Gambia",
          "Turks And Caicos Islands",
          "Saint Vincent & The Grenadines"
         ],
         "locations": [
          "CUB",
          "GTM",
          "BOL",
          "FRO",
          "SLV",
          "HND",
          "MAC",
          "CRI",
          "PRY",
          "BFA",
          "PNG",
          "COD",
          "NIC",
          "MMR",
          "TGO",
          "AND",
          "URY",
          "MNG",
          "ISL",
          "NAM",
          "LCA",
          "IMN",
          "MCO",
          "BRN",
          "GUY",
          "CAF",
          "LIE",
          "LBR",
          "FJI",
          "SMR",
          "LSO",
          "VUT",
          "COK",
          "GNB",
          "BTN",
          "GMB",
          "TCA",
          "VCT"
         ],
         "name": "(37506.0, 4678943.2]",
         "showlegend": true,
         "showscale": false,
         "type": "choropleth",
         "z": [
          1,
          1,
          1,
          1,
          1,
          1,
          1,
          1,
          1,
          1,
          1,
          1,
          1,
          1,
          1,
          1,
          1,
          1,
          1,
          1,
          1,
          1,
          1,
          1,
          1,
          1,
          1,
          1,
          1,
          1,
          1,
          1,
          1,
          1,
          1,
          1,
          1,
          1
         ]
        },
        {
         "colorscale": [
          [
           0,
           "rgb(224,236,244)"
          ],
          [
           1,
           "rgb(224,236,244)"
          ]
         ],
         "customdata": [
          [
           7910712,
           49
          ],
          [
           5359401,
           42
          ],
          [
           5726711,
           44
          ],
          [
           8593277,
           50
          ],
          [
           13085666,
           63
          ],
          [
           5524217,
           43
          ],
          [
           4822471,
           40
          ],
          [
           13741927,
           66
          ],
          [
           4848632,
           41
          ],
          [
           6762555,
           46
          ],
          [
           11300435,
           56
          ],
          [
           17194543,
           71
          ],
          [
           7174898,
           47
          ],
          [
           10318570,
           55
          ],
          [
           11403159,
           57
          ],
          [
           12404647,
           60
          ],
          [
           13610854,
           65
          ],
          [
           19746787,
           75
          ],
          [
           9043319,
           51
          ],
          [
           12957190,
           62
          ],
          [
           14206156,
           68
          ],
          [
           13340972,
           64
          ],
          [
           9176369,
           52
          ],
          [
           14476265,
           69
          ],
          [
           14101518,
           67
          ],
          [
           7470339,
           48
          ],
          [
           20313746,
           77
          ],
          [
           18259680,
           72
          ],
          [
           9314867,
           53
          ],
          [
           12705948,
           61
          ],
          [
           12127150,
           59
          ],
          [
           6590232,
           45
          ],
          [
           19832311,
           76
          ],
          [
           12116270,
           58
          ],
          [
           18769999,
           74
          ],
          [
           10082724,
           54
          ],
          [
           18664657,
           73
          ],
          [
           15692140,
           70
          ]
         ],
         "geo": "geo",
         "hovertemplate": "<b>%{hovertext}</b><br><br>color=(4678943.2, 21532674.0]<br>Code=%{location}<br>Total Property Values=%{customdata[0]:.2f}<br>Rank=%{customdata[1]:}<extra></extra>",
         "hovertext": [
          "Vietnam",
          "Ecuador",
          "Peru",
          "Ivory Coast",
          "Panama",
          "Trinidad & Tobago",
          "Benin",
          "North Korea",
          "Jamaica",
          "Albania",
          "Estonia",
          "Cameroon",
          "Madagascar",
          "Mali",
          "Gabon",
          "Botswana",
          "Georgia",
          "Zambia",
          "Southern Sudan",
          "Congo, Republic Of",
          "Macedonia",
          "Guinea",
          "Mauritania",
          "Moldova",
          "Chad",
          "Montenegro",
          "Niger",
          "Malawi",
          "Barbados",
          "Somalia",
          "Maldives",
          "Burundi",
          "Bermuda",
          "Guernsey",
          "Jersey",
          "American Samoa",
          "Grenada",
          "Samoa"
         ],
         "locations": [
          "VNM",
          "ECU",
          "PER",
          "CIV",
          "PAN",
          "TTO",
          "BEN",
          "PRK",
          "JAM",
          "ALB",
          "EST",
          "CMR",
          "MDG",
          "MLI",
          "GAB",
          "BWA",
          "GEO",
          "ZMB",
          "SSD",
          "COG",
          "MKD",
          "GIN",
          "MRT",
          "MDA",
          "TCD",
          "MNE",
          "NER",
          "MWI",
          "BRB",
          "SOM",
          "MDV",
          "BDI",
          "BMU",
          "GGY",
          "JEY",
          "ASM",
          "GRD",
          "WSM"
         ],
         "name": "(4678943.2, 21532674.0]",
         "showlegend": true,
         "showscale": false,
         "type": "choropleth",
         "z": [
          1,
          1,
          1,
          1,
          1,
          1,
          1,
          1,
          1,
          1,
          1,
          1,
          1,
          1,
          1,
          1,
          1,
          1,
          1,
          1,
          1,
          1,
          1,
          1,
          1,
          1,
          1,
          1,
          1,
          1,
          1,
          1,
          1,
          1,
          1,
          1,
          1,
          1
         ]
        },
        {
         "colorscale": [
          [
           0,
           "rgb(191,211,230)"
          ],
          [
           1,
           "rgb(191,211,230)"
          ]
         ],
         "customdata": [
          [
           136625164,
           122
          ],
          [
           192493396,
           127
          ],
          [
           137597331,
           123
          ],
          [
           274338500,
           138
          ],
          [
           130243044,
           121
          ],
          [
           154368306,
           125
          ],
          [
           129296296,
           120
          ],
          [
           218386105,
           130
          ],
          [
           518819921,
           152
          ],
          [
           218712527,
           131
          ],
          [
           401901466,
           149
          ],
          [
           326927142,
           145
          ],
          [
           238247363,
           135
          ],
          [
           314783309,
           142
          ],
          [
           260075153,
           137
          ],
          [
           326764517,
           144
          ],
          [
           163924498,
           126
          ],
          [
           143361443,
           124
          ],
          [
           205468830,
           128
          ],
          [
           323839242,
           143
          ],
          [
           450011530,
           150
          ],
          [
           124595200,
           117
          ],
          [
           237117227,
           134
          ],
          [
           399089160,
           148
          ],
          [
           521248903,
           153
          ],
          [
           487528904,
           151
          ],
          [
           224459515,
           133
          ],
          [
           306814520,
           141
          ],
          [
           222973199,
           132
          ],
          [
           540849099,
           154
          ],
          [
           349310867,
           146
          ],
          [
           207650157,
           129
          ],
          [
           252911034,
           136
          ],
          [
           304883058,
           140
          ],
          [
           127170093,
           119
          ],
          [
           125462366,
           118
          ],
          [
           293254533,
           139
          ],
          [
           383562679,
           147
          ]
         ],
         "geo": "geo",
         "hovertemplate": "<b>%{hovertext}</b><br><br>color=(122561640.0, 552368410.2]<br>Code=%{location}<br>Total Property Values=%{customdata[0]:.2f}<br>Rank=%{customdata[1]:}<extra></extra>",
         "hovertext": [
          "Japan",
          "South Korea",
          "Brazil",
          "Spain",
          "Thailand",
          "Poland",
          "Philippines",
          "Malaysia",
          "Switzerland",
          "Romania",
          "Austria",
          "Denmark",
          "Portugal",
          "Bangladesh",
          "New Zealand",
          "Greece",
          "Dominican Republic",
          "Bulgaria",
          "Sri Lanka",
          "Ukraine",
          "Algeria",
          "Turkmenistan",
          "Tanzania",
          "Kenya",
          "Morocco",
          "Slovakia",
          "Tunisia",
          "Uzbekistan",
          "Nepal",
          "Libya",
          "Cyprus",
          "Armenia",
          "Malta",
          "Bahamas",
          "Gibraltar",
          "Antigua & Barbuda",
          "Seychelles",
          "British Virgin Islands"
         ],
         "locations": [
          "JPN",
          "KOR",
          "BRA",
          "ESP",
          "THA",
          "POL",
          "PHL",
          "MYS",
          "CHE",
          "ROU",
          "AUT",
          "DNK",
          "PRT",
          "BGD",
          "NZL",
          "GRC",
          "DOM",
          "BGR",
          "LKA",
          "UKR",
          "DZA",
          "TKM",
          "TZA",
          "KEN",
          "MAR",
          "SVK",
          "TUN",
          "UZB",
          "NPL",
          "LBY",
          "CYP",
          "ARM",
          "MLT",
          "BHS",
          "GIB",
          "ATG",
          "SYC",
          "VGB"
         ],
         "name": "(122561640.0, 552368410.2]",
         "showlegend": true,
         "showscale": false,
         "type": "choropleth",
         "z": [
          1,
          1,
          1,
          1,
          1,
          1,
          1,
          1,
          1,
          1,
          1,
          1,
          1,
          1,
          1,
          1,
          1,
          1,
          1,
          1,
          1,
          1,
          1,
          1,
          1,
          1,
          1,
          1,
          1,
          1,
          1,
          1,
          1,
          1,
          1,
          1,
          1,
          1
         ]
        },
        {
         "colorscale": [
          [
           0,
           "rgb(158,188,218)"
          ],
          [
           1,
           "rgb(158,188,218)"
          ]
         ],
         "customdata": [
          [
           37506,
           1
          ]
         ],
         "geo": "geo",
         "hovertemplate": "<b>%{hovertext}</b><br><br>color=nan<br>Code=%{location}<br>Total Property Values=%{customdata[0]:.2f}<br>Rank=%{customdata[1]:}<extra></extra>",
         "hovertext": [
          "Cambodia"
         ],
         "locations": [
          "KHM"
         ],
         "name": "nan",
         "showlegend": true,
         "showscale": false,
         "type": "choropleth",
         "z": [
          1
         ]
        },
        {
         "colorscale": [
          [
           0,
           "rgb(140,150,198)"
          ],
          [
           1,
           "rgb(140,150,198)"
          ]
         ],
         "customdata": [
          [
           23466863,
           80
          ],
          [
           35970570,
           89
          ],
          [
           85158491,
           107
          ],
          [
           45244832,
           95
          ],
          [
           51256316,
           99
          ],
          [
           66885500,
           104
          ],
          [
           46710702,
           97
          ],
          [
           64696102,
           101
          ],
          [
           65093106,
           102
          ],
          [
           27196278,
           86
          ],
          [
           121500170,
           115
          ],
          [
           31532535,
           88
          ],
          [
           89288837,
           109
          ],
          [
           27803885,
           87
          ],
          [
           26386351,
           84
          ],
          [
           89142007,
           108
          ],
          [
           36493973,
           90
          ],
          [
           43025924,
           94
          ],
          [
           50991657,
           98
          ],
          [
           64661099,
           100
          ],
          [
           37455516,
           91
          ],
          [
           26798262,
           85
          ],
          [
           109563946,
           114
          ],
          [
           74145316,
           105
          ],
          [
           39705766,
           93
          ],
          [
           65526530,
           103
          ],
          [
           38475874,
           92
          ],
          [
           23135392,
           79
          ],
          [
           46262530,
           96
          ],
          [
           78444944,
           106
          ],
          [
           26142868,
           83
          ],
          [
           26020787,
           82
          ],
          [
           21837406,
           78
          ],
          [
           102207266,
           113
          ],
          [
           25280495,
           81
          ],
          [
           122053250,
           116
          ],
          [
           93537128,
           110
          ],
          [
           96003744,
           111
          ],
          [
           100855582,
           112
          ]
         ],
         "geo": "geo",
         "hovertemplate": "<b>%{hovertext}</b><br><br>color=(21532674.0, 122561640.0]<br>Code=%{location}<br>Total Property Values=%{customdata[0]:.2f}<br>Rank=%{customdata[1]:}<extra></extra>",
         "hovertext": [
          "Chile",
          "Colombia",
          "Indonesia",
          "Venezuela",
          "Argentina",
          "Mexico",
          "Taiwan",
          "Hong Kong",
          "Finland",
          "Angola",
          "Norway",
          "Puerto Rico",
          "Czech Republic",
          "Luxembourg",
          "Slovenia",
          "Hungary",
          "Lithuania",
          "Croatia",
          "Ghana",
          "Belarus",
          "Uganda",
          "Bosnia And Herzegovina",
          "Ethiopia",
          "Serbia",
          "Senegal",
          "Latvia",
          "Zimbabwe",
          "Rwanda",
          "Mauritius",
          "Mozambique",
          "Eswatini",
          "Sierra Leone",
          "Djibouti",
          "Kyrgistan",
          "Belize",
          "Tajikistan",
          "Eritrea",
          "Comoros Islands",
          "Dominica"
         ],
         "locations": [
          "CHL",
          "COL",
          "IDN",
          "VEN",
          "ARG",
          "MEX",
          "TWN",
          "HKG",
          "FIN",
          "AGO",
          "NOR",
          "PRI",
          "CZE",
          "LUX",
          "SVN",
          "HUN",
          "LTU",
          "HRV",
          "GHA",
          "BLR",
          "UGA",
          "BIH",
          "ETH",
          "SRB",
          "SEN",
          "LVA",
          "ZWE",
          "RWA",
          "MUS",
          "MOZ",
          "SWZ",
          "SLE",
          "DJI",
          "KGZ",
          "BLZ",
          "TJK",
          "ERI",
          "COM",
          "DMA"
         ],
         "name": "(21532674.0, 122561640.0]",
         "showlegend": true,
         "showscale": false,
         "type": "choropleth",
         "z": [
          1,
          1,
          1,
          1,
          1,
          1,
          1,
          1,
          1,
          1,
          1,
          1,
          1,
          1,
          1,
          1,
          1,
          1,
          1,
          1,
          1,
          1,
          1,
          1,
          1,
          1,
          1,
          1,
          1,
          1,
          1,
          1,
          1,
          1,
          1,
          1,
          1,
          1,
          1
         ]
        },
        {
         "colorscale": [
          [
           0,
           "rgb(140,107,177)"
          ],
          [
           1,
           "rgb(140,107,177)"
          ]
         ],
         "customdata": [
          [
           3020718453,
           181
          ],
          [
           2735116465,
           179
          ],
          [
           1801164073,
           174
          ],
          [
           1130245242,
           169
          ],
          [
           1959122490,
           175
          ],
          [
           1197513851,
           170
          ],
          [
           765740942,
           163
          ],
          [
           720250167,
           160
          ],
          [
           628300486,
           159
          ],
          [
           593019034,
           158
          ],
          [
           568370283,
           157
          ],
          [
           560047951,
           155
          ],
          [
           739180760,
           161
          ],
          [
           3344037747,
           182
          ],
          [
           881663879,
           164
          ],
          [
           5150218144,
           186
          ],
          [
           14673449357,
           191
          ],
          [
           1018303303,
           167
          ],
          [
           29825884638,
           192
          ],
          [
           2593462500,
           178
          ],
          [
           2134427100,
           176
          ],
          [
           9782216629,
           189
          ],
          [
           3442276051,
           184
          ],
          [
           741250431,
           162
          ],
          [
           2168604777,
           177
          ],
          [
           7028738307,
           188
          ],
          [
           3795781625,
           185
          ],
          [
           941521903,
           166
          ],
          [
           10631637135,
           190
          ],
          [
           1426457684,
           172
          ],
          [
           1043509028,
           168
          ],
          [
           887521793,
           165
          ],
          [
           3398556621,
           183
          ],
          [
           2976197188,
           180
          ],
          [
           1410029024,
           171
          ],
          [
           565389111,
           156
          ],
          [
           5197686169,
           187
          ],
          [
           287245899176,
           193
          ],
          [
           1519188387,
           173
          ]
         ],
         "geo": "geo",
         "hovertemplate": "<b>%{hovertext}</b><br><br>color=(552368410.2, 287245899176.0]<br>Code=%{location}<br>Total Property Values=%{customdata[0]:.2f}<br>Rank=%{customdata[1]:}<extra></extra>",
         "hovertext": [
          "USA",
          "China",
          "Germany",
          "Italy",
          "France",
          "Australia",
          "Netherlands",
          "Turkey",
          "Sweden",
          "Belgium",
          "Nigeria",
          "Singapore",
          "South Africa",
          "Russia",
          "Ireland",
          "Canada",
          "United Kingdom",
          "Kazakhstan",
          "India",
          "Iraq",
          "Qatar",
          "Saudi Arabia",
          "Egypt",
          "Azerbaijan",
          "Oman",
          "Iran",
          "Kuwait",
          "Sudan",
          "Pakistan",
          "Bahrain",
          "Yemen",
          "Palestine",
          "Lebanon",
          "Syria",
          "Afghanistan",
          "Cayman Islands",
          "Jordan",
          "United Arab Emirates",
          "Saint Kitts And Nevis"
         ],
         "locations": [
          "USA",
          "CHN",
          "DEU",
          "ITA",
          "FRA",
          "AUS",
          "NLD",
          "TUR",
          "SWE",
          "BEL",
          "NGA",
          "SGP",
          "ZAF",
          "RUS",
          "IRL",
          "CAN",
          "GBR",
          "KAZ",
          "IND",
          "IRQ",
          "QAT",
          "SAU",
          "EGY",
          "AZE",
          "OMN",
          "IRN",
          "KWT",
          "SDN",
          "PAK",
          "BHR",
          "YEM",
          "PSE",
          "LBN",
          "SYR",
          "AFG",
          "CYM",
          "JOR",
          "ARE",
          "KNA"
         ],
         "name": "(552368410.2, 287245899176.0]",
         "showlegend": true,
         "showscale": false,
         "type": "choropleth",
         "z": [
          1,
          1,
          1,
          1,
          1,
          1,
          1,
          1,
          1,
          1,
          1,
          1,
          1,
          1,
          1,
          1,
          1,
          1,
          1,
          1,
          1,
          1,
          1,
          1,
          1,
          1,
          1,
          1,
          1,
          1,
          1,
          1,
          1,
          1,
          1,
          1,
          1,
          1,
          1
         ]
        }
       ],
       "layout": {
        "geo": {
         "center": {},
         "domain": {
          "x": [
           0,
           1
          ],
          "y": [
           0,
           1
          ]
         },
         "projection": {
          "type": "orthographic"
         },
         "showcoastlines": false,
         "showframe": false
        },
        "height": 900,
        "legend": {
         "title": {
          "text": "color"
         },
         "tracegroupgap": 0
        },
        "margin": {
         "b": 50,
         "l": 50,
         "r": 50,
         "t": 50
        },
        "template": {
         "data": {
          "bar": [
           {
            "error_x": {
             "color": "#2a3f5f"
            },
            "error_y": {
             "color": "#2a3f5f"
            },
            "marker": {
             "line": {
              "color": "#E5ECF6",
              "width": 0.5
             },
             "pattern": {
              "fillmode": "overlay",
              "size": 10,
              "solidity": 0.2
             }
            },
            "type": "bar"
           }
          ],
          "barpolar": [
           {
            "marker": {
             "line": {
              "color": "#E5ECF6",
              "width": 0.5
             },
             "pattern": {
              "fillmode": "overlay",
              "size": 10,
              "solidity": 0.2
             }
            },
            "type": "barpolar"
           }
          ],
          "carpet": [
           {
            "aaxis": {
             "endlinecolor": "#2a3f5f",
             "gridcolor": "white",
             "linecolor": "white",
             "minorgridcolor": "white",
             "startlinecolor": "#2a3f5f"
            },
            "baxis": {
             "endlinecolor": "#2a3f5f",
             "gridcolor": "white",
             "linecolor": "white",
             "minorgridcolor": "white",
             "startlinecolor": "#2a3f5f"
            },
            "type": "carpet"
           }
          ],
          "choropleth": [
           {
            "colorbar": {
             "outlinewidth": 0,
             "ticks": ""
            },
            "type": "choropleth"
           }
          ],
          "contour": [
           {
            "colorbar": {
             "outlinewidth": 0,
             "ticks": ""
            },
            "colorscale": [
             [
              0,
              "#0d0887"
             ],
             [
              0.1111111111111111,
              "#46039f"
             ],
             [
              0.2222222222222222,
              "#7201a8"
             ],
             [
              0.3333333333333333,
              "#9c179e"
             ],
             [
              0.4444444444444444,
              "#bd3786"
             ],
             [
              0.5555555555555556,
              "#d8576b"
             ],
             [
              0.6666666666666666,
              "#ed7953"
             ],
             [
              0.7777777777777778,
              "#fb9f3a"
             ],
             [
              0.8888888888888888,
              "#fdca26"
             ],
             [
              1,
              "#f0f921"
             ]
            ],
            "type": "contour"
           }
          ],
          "contourcarpet": [
           {
            "colorbar": {
             "outlinewidth": 0,
             "ticks": ""
            },
            "type": "contourcarpet"
           }
          ],
          "heatmap": [
           {
            "colorbar": {
             "outlinewidth": 0,
             "ticks": ""
            },
            "colorscale": [
             [
              0,
              "#0d0887"
             ],
             [
              0.1111111111111111,
              "#46039f"
             ],
             [
              0.2222222222222222,
              "#7201a8"
             ],
             [
              0.3333333333333333,
              "#9c179e"
             ],
             [
              0.4444444444444444,
              "#bd3786"
             ],
             [
              0.5555555555555556,
              "#d8576b"
             ],
             [
              0.6666666666666666,
              "#ed7953"
             ],
             [
              0.7777777777777778,
              "#fb9f3a"
             ],
             [
              0.8888888888888888,
              "#fdca26"
             ],
             [
              1,
              "#f0f921"
             ]
            ],
            "type": "heatmap"
           }
          ],
          "heatmapgl": [
           {
            "colorbar": {
             "outlinewidth": 0,
             "ticks": ""
            },
            "colorscale": [
             [
              0,
              "#0d0887"
             ],
             [
              0.1111111111111111,
              "#46039f"
             ],
             [
              0.2222222222222222,
              "#7201a8"
             ],
             [
              0.3333333333333333,
              "#9c179e"
             ],
             [
              0.4444444444444444,
              "#bd3786"
             ],
             [
              0.5555555555555556,
              "#d8576b"
             ],
             [
              0.6666666666666666,
              "#ed7953"
             ],
             [
              0.7777777777777778,
              "#fb9f3a"
             ],
             [
              0.8888888888888888,
              "#fdca26"
             ],
             [
              1,
              "#f0f921"
             ]
            ],
            "type": "heatmapgl"
           }
          ],
          "histogram": [
           {
            "marker": {
             "pattern": {
              "fillmode": "overlay",
              "size": 10,
              "solidity": 0.2
             }
            },
            "type": "histogram"
           }
          ],
          "histogram2d": [
           {
            "colorbar": {
             "outlinewidth": 0,
             "ticks": ""
            },
            "colorscale": [
             [
              0,
              "#0d0887"
             ],
             [
              0.1111111111111111,
              "#46039f"
             ],
             [
              0.2222222222222222,
              "#7201a8"
             ],
             [
              0.3333333333333333,
              "#9c179e"
             ],
             [
              0.4444444444444444,
              "#bd3786"
             ],
             [
              0.5555555555555556,
              "#d8576b"
             ],
             [
              0.6666666666666666,
              "#ed7953"
             ],
             [
              0.7777777777777778,
              "#fb9f3a"
             ],
             [
              0.8888888888888888,
              "#fdca26"
             ],
             [
              1,
              "#f0f921"
             ]
            ],
            "type": "histogram2d"
           }
          ],
          "histogram2dcontour": [
           {
            "colorbar": {
             "outlinewidth": 0,
             "ticks": ""
            },
            "colorscale": [
             [
              0,
              "#0d0887"
             ],
             [
              0.1111111111111111,
              "#46039f"
             ],
             [
              0.2222222222222222,
              "#7201a8"
             ],
             [
              0.3333333333333333,
              "#9c179e"
             ],
             [
              0.4444444444444444,
              "#bd3786"
             ],
             [
              0.5555555555555556,
              "#d8576b"
             ],
             [
              0.6666666666666666,
              "#ed7953"
             ],
             [
              0.7777777777777778,
              "#fb9f3a"
             ],
             [
              0.8888888888888888,
              "#fdca26"
             ],
             [
              1,
              "#f0f921"
             ]
            ],
            "type": "histogram2dcontour"
           }
          ],
          "mesh3d": [
           {
            "colorbar": {
             "outlinewidth": 0,
             "ticks": ""
            },
            "type": "mesh3d"
           }
          ],
          "parcoords": [
           {
            "line": {
             "colorbar": {
              "outlinewidth": 0,
              "ticks": ""
             }
            },
            "type": "parcoords"
           }
          ],
          "pie": [
           {
            "automargin": true,
            "type": "pie"
           }
          ],
          "scatter": [
           {
            "fillpattern": {
             "fillmode": "overlay",
             "size": 10,
             "solidity": 0.2
            },
            "type": "scatter"
           }
          ],
          "scatter3d": [
           {
            "line": {
             "colorbar": {
              "outlinewidth": 0,
              "ticks": ""
             }
            },
            "marker": {
             "colorbar": {
              "outlinewidth": 0,
              "ticks": ""
             }
            },
            "type": "scatter3d"
           }
          ],
          "scattercarpet": [
           {
            "marker": {
             "colorbar": {
              "outlinewidth": 0,
              "ticks": ""
             }
            },
            "type": "scattercarpet"
           }
          ],
          "scattergeo": [
           {
            "marker": {
             "colorbar": {
              "outlinewidth": 0,
              "ticks": ""
             }
            },
            "type": "scattergeo"
           }
          ],
          "scattergl": [
           {
            "marker": {
             "colorbar": {
              "outlinewidth": 0,
              "ticks": ""
             }
            },
            "type": "scattergl"
           }
          ],
          "scattermapbox": [
           {
            "marker": {
             "colorbar": {
              "outlinewidth": 0,
              "ticks": ""
             }
            },
            "type": "scattermapbox"
           }
          ],
          "scatterpolar": [
           {
            "marker": {
             "colorbar": {
              "outlinewidth": 0,
              "ticks": ""
             }
            },
            "type": "scatterpolar"
           }
          ],
          "scatterpolargl": [
           {
            "marker": {
             "colorbar": {
              "outlinewidth": 0,
              "ticks": ""
             }
            },
            "type": "scatterpolargl"
           }
          ],
          "scatterternary": [
           {
            "marker": {
             "colorbar": {
              "outlinewidth": 0,
              "ticks": ""
             }
            },
            "type": "scatterternary"
           }
          ],
          "surface": [
           {
            "colorbar": {
             "outlinewidth": 0,
             "ticks": ""
            },
            "colorscale": [
             [
              0,
              "#0d0887"
             ],
             [
              0.1111111111111111,
              "#46039f"
             ],
             [
              0.2222222222222222,
              "#7201a8"
             ],
             [
              0.3333333333333333,
              "#9c179e"
             ],
             [
              0.4444444444444444,
              "#bd3786"
             ],
             [
              0.5555555555555556,
              "#d8576b"
             ],
             [
              0.6666666666666666,
              "#ed7953"
             ],
             [
              0.7777777777777778,
              "#fb9f3a"
             ],
             [
              0.8888888888888888,
              "#fdca26"
             ],
             [
              1,
              "#f0f921"
             ]
            ],
            "type": "surface"
           }
          ],
          "table": [
           {
            "cells": {
             "fill": {
              "color": "#EBF0F8"
             },
             "line": {
              "color": "white"
             }
            },
            "header": {
             "fill": {
              "color": "#C8D4E3"
             },
             "line": {
              "color": "white"
             }
            },
            "type": "table"
           }
          ]
         },
         "layout": {
          "annotationdefaults": {
           "arrowcolor": "#2a3f5f",
           "arrowhead": 0,
           "arrowwidth": 1
          },
          "autotypenumbers": "strict",
          "coloraxis": {
           "colorbar": {
            "outlinewidth": 0,
            "ticks": ""
           }
          },
          "colorscale": {
           "diverging": [
            [
             0,
             "#8e0152"
            ],
            [
             0.1,
             "#c51b7d"
            ],
            [
             0.2,
             "#de77ae"
            ],
            [
             0.3,
             "#f1b6da"
            ],
            [
             0.4,
             "#fde0ef"
            ],
            [
             0.5,
             "#f7f7f7"
            ],
            [
             0.6,
             "#e6f5d0"
            ],
            [
             0.7,
             "#b8e186"
            ],
            [
             0.8,
             "#7fbc41"
            ],
            [
             0.9,
             "#4d9221"
            ],
            [
             1,
             "#276419"
            ]
           ],
           "sequential": [
            [
             0,
             "#0d0887"
            ],
            [
             0.1111111111111111,
             "#46039f"
            ],
            [
             0.2222222222222222,
             "#7201a8"
            ],
            [
             0.3333333333333333,
             "#9c179e"
            ],
            [
             0.4444444444444444,
             "#bd3786"
            ],
            [
             0.5555555555555556,
             "#d8576b"
            ],
            [
             0.6666666666666666,
             "#ed7953"
            ],
            [
             0.7777777777777778,
             "#fb9f3a"
            ],
            [
             0.8888888888888888,
             "#fdca26"
            ],
            [
             1,
             "#f0f921"
            ]
           ],
           "sequentialminus": [
            [
             0,
             "#0d0887"
            ],
            [
             0.1111111111111111,
             "#46039f"
            ],
            [
             0.2222222222222222,
             "#7201a8"
            ],
            [
             0.3333333333333333,
             "#9c179e"
            ],
            [
             0.4444444444444444,
             "#bd3786"
            ],
            [
             0.5555555555555556,
             "#d8576b"
            ],
            [
             0.6666666666666666,
             "#ed7953"
            ],
            [
             0.7777777777777778,
             "#fb9f3a"
            ],
            [
             0.8888888888888888,
             "#fdca26"
            ],
            [
             1,
             "#f0f921"
            ]
           ]
          },
          "colorway": [
           "#636efa",
           "#EF553B",
           "#00cc96",
           "#ab63fa",
           "#FFA15A",
           "#19d3f3",
           "#FF6692",
           "#B6E880",
           "#FF97FF",
           "#FECB52"
          ],
          "font": {
           "color": "#2a3f5f"
          },
          "geo": {
           "bgcolor": "white",
           "lakecolor": "white",
           "landcolor": "#E5ECF6",
           "showlakes": true,
           "showland": true,
           "subunitcolor": "white"
          },
          "hoverlabel": {
           "align": "left"
          },
          "hovermode": "closest",
          "mapbox": {
           "style": "light"
          },
          "paper_bgcolor": "white",
          "plot_bgcolor": "#E5ECF6",
          "polar": {
           "angularaxis": {
            "gridcolor": "white",
            "linecolor": "white",
            "ticks": ""
           },
           "bgcolor": "#E5ECF6",
           "radialaxis": {
            "gridcolor": "white",
            "linecolor": "white",
            "ticks": ""
           }
          },
          "scene": {
           "xaxis": {
            "backgroundcolor": "#E5ECF6",
            "gridcolor": "white",
            "gridwidth": 2,
            "linecolor": "white",
            "showbackground": true,
            "ticks": "",
            "zerolinecolor": "white"
           },
           "yaxis": {
            "backgroundcolor": "#E5ECF6",
            "gridcolor": "white",
            "gridwidth": 2,
            "linecolor": "white",
            "showbackground": true,
            "ticks": "",
            "zerolinecolor": "white"
           },
           "zaxis": {
            "backgroundcolor": "#E5ECF6",
            "gridcolor": "white",
            "gridwidth": 2,
            "linecolor": "white",
            "showbackground": true,
            "ticks": "",
            "zerolinecolor": "white"
           }
          },
          "shapedefaults": {
           "line": {
            "color": "#2a3f5f"
           }
          },
          "ternary": {
           "aaxis": {
            "gridcolor": "white",
            "linecolor": "white",
            "ticks": ""
           },
           "baxis": {
            "gridcolor": "white",
            "linecolor": "white",
            "ticks": ""
           },
           "bgcolor": "#E5ECF6",
           "caxis": {
            "gridcolor": "white",
            "linecolor": "white",
            "ticks": ""
           }
          },
          "title": {
           "x": 0.05
          },
          "xaxis": {
           "automargin": true,
           "gridcolor": "white",
           "linecolor": "white",
           "ticks": "",
           "title": {
            "standoff": 15
           },
           "zerolinecolor": "white",
           "zerolinewidth": 2
          },
          "yaxis": {
           "automargin": true,
           "gridcolor": "white",
           "linecolor": "white",
           "ticks": "",
           "title": {
            "standoff": 15
           },
           "zerolinecolor": "white",
           "zerolinewidth": 2
          }
         }
        },
        "title": {
         "text": "Total Property Values by country"
        }
       }
      }
     },
     "metadata": {},
     "output_type": "display_data"
    }
   ],
   "source": [
    "plot_generator(\"Total Property Values\")"
   ]
  },
  {
   "cell_type": "markdown",
   "id": "6eb02cd7-8461-4224-ab01-f8527374fba2",
   "metadata": {},
   "source": [
    "Now, view the beautiful visualizations with `interact`!"
   ]
  },
  {
   "cell_type": "code",
   "execution_count": 30,
   "id": "0a7c0b9d-cd2c-413d-b18c-0e51c7c06d46",
   "metadata": {
    "editable": true,
    "slideshow": {
     "slide_type": ""
    },
    "tags": [
     "otter_ignore"
    ]
   },
   "outputs": [
    {
     "data": {
      "application/vnd.plotly.v1+json": {
       "config": {
        "plotlyServerURL": "https://plot.ly"
       },
       "data": [
        {
         "colorscale": [
          [
           0,
           "rgb(247,252,253)"
          ],
          [
           1,
           "rgb(247,252,253)"
          ]
         ],
         "customdata": [
          [
           4.9998,
           16.5
          ],
          [
           4.9998,
           16.5
          ],
          [
           4.9998,
           16.5
          ],
          [
           4.9998,
           16.5
          ],
          [
           4.9998,
           16.5
          ],
          [
           4.9998,
           16.5
          ],
          [
           4.9998,
           16.5
          ],
          [
           4.9998,
           16.5
          ],
          [
           4.9998,
           16.5
          ],
          [
           4.9998,
           16.5
          ],
          [
           4.9998,
           16.5
          ],
          [
           4.9998,
           16.5
          ],
          [
           4.9998,
           16.5
          ],
          [
           4.9998,
           16.5
          ],
          [
           4.9998,
           16.5
          ],
          [
           4.9998,
           16.5
          ],
          [
           4.9998,
           16.5
          ],
          [
           4.9998,
           16.5
          ],
          [
           4.9998,
           16.5
          ],
          [
           4.9998,
           16.5
          ],
          [
           4.9998,
           16.5
          ],
          [
           4.9998,
           16.5
          ],
          [
           4.9998,
           16.5
          ],
          [
           4.9998,
           16.5
          ],
          [
           4.9998,
           16.5
          ],
          [
           4.9998,
           16.5
          ],
          [
           4.9998,
           16.5
          ],
          [
           4.9998,
           16.5
          ],
          [
           4.9998,
           16.5
          ],
          [
           4.9998,
           16.5
          ],
          [
           4.9998,
           16.5
          ],
          [
           4.9998,
           16.5
          ]
         ],
         "geo": "geo",
         "hovertemplate": "<b>%{hovertext}</b><br><br>color=nan<br>Code=%{location}<br>Unique Owners=%{customdata[0]:.2f}<br>Rank=%{customdata[1]:}<extra></extra>",
         "hovertext": [
          "Cuba",
          "Guatemala",
          "Faroe Islands",
          "El Salvador",
          "Honduras",
          "Macao",
          "Cambodia",
          "Paraguay",
          "Papua New Guinea",
          "Democratic Rep, Of Congo",
          "Nicaragua",
          "Togo",
          "Andorra",
          "Mongolia",
          "Namibia",
          "Saint Lucia",
          "Isle Of Man",
          "Monaco",
          "Guyana",
          "Liechtenstein",
          "Liberia",
          "Fiji",
          "San Marino",
          "Vanuatu",
          "Cook Islands",
          "Gambia",
          "Bermuda",
          "Turks And Caicos Islands",
          "Saint Vincent & The Grenadines",
          "American Samoa",
          "Samoa",
          "Gibraltar"
         ],
         "locations": [
          "CUB",
          "GTM",
          "FRO",
          "SLV",
          "HND",
          "MAC",
          "KHM",
          "PRY",
          "PNG",
          "COD",
          "NIC",
          "TGO",
          "AND",
          "MNG",
          "NAM",
          "LCA",
          "IMN",
          "MCO",
          "GUY",
          "LIE",
          "LBR",
          "FJI",
          "SMR",
          "VUT",
          "COK",
          "GMB",
          "BMU",
          "TCA",
          "VCT",
          "ASM",
          "WSM",
          "GIB"
         ],
         "name": "nan",
         "showlegend": true,
         "showscale": false,
         "type": "choropleth",
         "z": [
          1,
          1,
          1,
          1,
          1,
          1,
          1,
          1,
          1,
          1,
          1,
          1,
          1,
          1,
          1,
          1,
          1,
          1,
          1,
          1,
          1,
          1,
          1,
          1,
          1,
          1,
          1,
          1,
          1,
          1,
          1,
          1
         ]
        },
        {
         "colorscale": [
          [
           0,
           "rgb(224,236,244)"
          ],
          [
           1,
           "rgb(224,236,244)"
          ]
         ],
         "customdata": [
          [
           5,
           34.5
          ],
          [
           5,
           34.5
          ],
          [
           6,
           38
          ],
          [
           6,
           38
          ],
          [
           5,
           34.5
          ],
          [
           5,
           34.5
          ],
          [
           6,
           38
          ]
         ],
         "geo": "geo",
         "hovertemplate": "<b>%{hovertext}</b><br><br>color=(5.0, 6.4]<br>Code=%{location}<br>Unique Owners=%{customdata[0]:.2f}<br>Rank=%{customdata[1]:}<extra></extra>",
         "hovertext": [
          "Bolivia",
          "Costa Rica",
          "Burkina Faso",
          "Lesotho",
          "Guinea-Bissau",
          "Barbados",
          "Cayman Islands"
         ],
         "locations": [
          "BOL",
          "CRI",
          "BFA",
          "LSO",
          "GNB",
          "BRB",
          "CYM"
         ],
         "name": "(5.0, 6.4]",
         "showlegend": true,
         "showscale": false,
         "type": "choropleth",
         "z": [
          1,
          1,
          1,
          1,
          1,
          1,
          1
         ]
        },
        {
         "colorscale": [
          [
           0,
           "rgb(191,211,230)"
          ],
          [
           1,
           "rgb(191,211,230)"
          ]
         ],
         "customdata": [
          [
           22,
           71
          ],
          [
           9,
           46
          ],
          [
           13,
           56
          ],
          [
           27,
           76
          ],
          [
           18,
           67
          ],
          [
           21,
           69.5
          ],
          [
           11,
           51.5
          ],
          [
           9,
           46
          ],
          [
           8,
           43
          ],
          [
           14,
           59.5
          ],
          [
           10,
           48.5
          ],
          [
           15,
           61
          ],
          [
           24,
           72.5
          ],
          [
           16,
           62.5
          ],
          [
           13,
           56
          ],
          [
           17,
           65
          ],
          [
           7,
           40.5
          ],
          [
           13,
           56
          ],
          [
           10,
           48.5
          ],
          [
           26,
           74
          ],
          [
           20,
           68
          ],
          [
           8,
           43
          ],
          [
           17,
           65
          ],
          [
           9,
           46
          ],
          [
           24,
           72.5
          ],
          [
           11,
           51.5
          ],
          [
           11,
           51.5
          ],
          [
           27,
           76
          ],
          [
           11,
           51.5
          ],
          [
           17,
           65
          ],
          [
           27,
           76
          ],
          [
           16,
           62.5
          ],
          [
           8,
           43
          ],
          [
           7,
           40.5
          ],
          [
           13,
           56
          ],
          [
           21,
           69.5
          ],
          [
           13,
           56
          ],
          [
           14,
           59.5
          ]
         ],
         "geo": "geo",
         "hovertemplate": "<b>%{hovertext}</b><br><br>color=(6.4, 27.8]<br>Code=%{location}<br>Unique Owners=%{customdata[0]:.2f}<br>Rank=%{customdata[1]:}<extra></extra>",
         "hovertext": [
          "Vietnam",
          "Ecuador",
          "Peru",
          "Chile",
          "Myanmar",
          "Ivory Coast",
          "Uruguay",
          "Panama",
          "Iceland",
          "Trinidad & Tobago",
          "Benin",
          "Puerto Rico",
          "North Korea",
          "Jamaica",
          "Brunei",
          "Albania",
          "Central African Republic",
          "Mali",
          "Gabon",
          "Botswana",
          "Georgia",
          "Southern Sudan",
          "Congo, Republic Of",
          "Guinea",
          "Mauritania",
          "Chad",
          "Montenegro",
          "Senegal",
          "Bhutan",
          "Maldives",
          "Rwanda",
          "Burundi",
          "Guernsey",
          "Jersey",
          "Sierra Leone",
          "Belize",
          "Grenada",
          "Antigua & Barbuda"
         ],
         "locations": [
          "VNM",
          "ECU",
          "PER",
          "CHL",
          "MMR",
          "CIV",
          "URY",
          "PAN",
          "ISL",
          "TTO",
          "BEN",
          "PRI",
          "PRK",
          "JAM",
          "BRN",
          "ALB",
          "CAF",
          "MLI",
          "GAB",
          "BWA",
          "GEO",
          "SSD",
          "COG",
          "GIN",
          "MRT",
          "TCD",
          "MNE",
          "SEN",
          "BTN",
          "MDV",
          "RWA",
          "BDI",
          "GGY",
          "JEY",
          "SLE",
          "BLZ",
          "GRD",
          "ATG"
         ],
         "name": "(6.4, 27.8]",
         "showlegend": true,
         "showscale": false,
         "type": "choropleth",
         "z": [
          1,
          1,
          1,
          1,
          1,
          1,
          1,
          1,
          1,
          1,
          1,
          1,
          1,
          1,
          1,
          1,
          1,
          1,
          1,
          1,
          1,
          1,
          1,
          1,
          1,
          1,
          1,
          1,
          1,
          1,
          1,
          1,
          1,
          1,
          1,
          1,
          1,
          1
         ]
        },
        {
         "colorscale": [
          [
           0,
           "rgb(158,188,218)"
          ],
          [
           1,
           "rgb(158,188,218)"
          ]
         ],
         "customdata": [
          [
           186,
           127
          ],
          [
           323,
           136
          ],
          [
           253,
           132
          ],
          [
           527,
           150
          ],
          [
           119,
           118
          ],
          [
           262,
           133
          ],
          [
           300,
           134
          ],
          [
           158,
           123
          ],
          [
           347,
           137
          ],
          [
           179,
           125
          ],
          [
           389,
           140
          ],
          [
           317,
           135
          ],
          [
           371,
           139
          ],
          [
           530,
           151
          ],
          [
           351,
           138
          ],
          [
           459,
           146
          ],
          [
           137,
           122
          ],
          [
           470,
           147
          ],
          [
           220,
           129
          ],
          [
           237,
           130
          ],
          [
           603,
           153
          ],
          [
           517,
           149
          ],
          [
           125,
           120
          ],
          [
           247,
           131
          ],
          [
           408,
           143
          ],
          [
           621,
           154
          ],
          [
           215,
           128
          ],
          [
           407,
           142
          ],
          [
           133,
           121
          ],
          [
           431,
           144
          ],
          [
           472,
           148
          ],
          [
           402,
           141
          ],
          [
           121,
           119
          ],
          [
           575,
           152
          ],
          [
           180,
           126
          ],
          [
           111,
           117
          ],
          [
           166,
           124
          ],
          [
           441,
           145
          ]
         ],
         "geo": "geo",
         "hovertemplate": "<b>%{hovertext}</b><br><br>color=(110.2, 646.8]<br>Code=%{location}<br>Unique Owners=%{customdata[0]:.2f}<br>Rank=%{customdata[1]:}<extra></extra>",
         "hovertext": [
          "Japan",
          "South Korea",
          "Brazil",
          "Spain",
          "Finland",
          "Norway",
          "Poland",
          "Czech Republic",
          "Philippines",
          "Hungary",
          "Malaysia",
          "Romania",
          "Austria",
          "Denmark",
          "Portugal",
          "Bangladesh",
          "Belarus",
          "New Zealand",
          "Ethiopia",
          "Serbia",
          "Singapore",
          "Greece",
          "Dominican Republic",
          "Bulgaria",
          "Sri Lanka",
          "Ukraine",
          "Turkmenistan",
          "Tanzania",
          "Slovakia",
          "Tunisia",
          "Uzbekistan",
          "Libya",
          "Cyprus",
          "Azerbaijan",
          "Armenia",
          "Malta",
          "Comoros Islands",
          "Saint Kitts And Nevis"
         ],
         "locations": [
          "JPN",
          "KOR",
          "BRA",
          "ESP",
          "FIN",
          "NOR",
          "POL",
          "CZE",
          "PHL",
          "HUN",
          "MYS",
          "ROU",
          "AUT",
          "DNK",
          "PRT",
          "BGD",
          "BLR",
          "NZL",
          "ETH",
          "SRB",
          "SGP",
          "GRC",
          "DOM",
          "BGR",
          "LKA",
          "UKR",
          "TKM",
          "TZA",
          "SVK",
          "TUN",
          "UZB",
          "LBY",
          "CYP",
          "AZE",
          "ARM",
          "MLT",
          "COM",
          "KNA"
         ],
         "name": "(110.2, 646.8]",
         "showlegend": true,
         "showscale": false,
         "type": "choropleth",
         "z": [
          1,
          1,
          1,
          1,
          1,
          1,
          1,
          1,
          1,
          1,
          1,
          1,
          1,
          1,
          1,
          1,
          1,
          1,
          1,
          1,
          1,
          1,
          1,
          1,
          1,
          1,
          1,
          1,
          1,
          1,
          1,
          1,
          1,
          1,
          1,
          1,
          1,
          1
         ]
        },
        {
         "colorscale": [
          [
           0,
           "rgb(140,150,198)"
          ],
          [
           1,
           "rgb(140,150,198)"
          ]
         ],
         "customdata": [
          [
           78,
           102
          ],
          [
           97,
           111
          ],
          [
           77,
           101
          ],
          [
           90,
           107.5
          ],
          [
           90,
           107.5
          ],
          [
           31,
           80
          ],
          [
           72,
           100
          ],
          [
           35,
           82
          ],
          [
           89,
           106
          ],
          [
           33,
           81
          ],
          [
           47,
           91
          ],
          [
           45,
           88
          ],
          [
           46,
           90
          ],
          [
           38,
           83
          ],
          [
           104,
           113
          ],
          [
           94,
           109
          ],
          [
           65,
           96
          ],
          [
           107,
           115
          ],
          [
           63,
           94
          ],
          [
           45,
           88
          ],
          [
           68,
           99
          ],
          [
           39,
           85
          ],
          [
           28,
           78
          ],
          [
           29,
           79
          ],
          [
           96,
           110
          ],
          [
           83,
           104
          ],
          [
           39,
           85
          ],
          [
           102,
           112
          ],
          [
           67,
           98
          ],
          [
           53,
           92
          ],
          [
           83,
           104
          ],
          [
           39,
           85
          ],
          [
           106,
           114
          ],
          [
           110,
           116
          ],
          [
           64,
           95
          ],
          [
           83,
           104
          ],
          [
           58,
           93
          ],
          [
           66,
           97
          ],
          [
           45,
           88
          ]
         ],
         "geo": "geo",
         "hovertemplate": "<b>%{hovertext}</b><br><br>color=(27.8, 110.2]<br>Code=%{location}<br>Unique Owners=%{customdata[0]:.2f}<br>Rank=%{customdata[1]:}<extra></extra>",
         "hovertext": [
          "Colombia",
          "Indonesia",
          "Venezuela",
          "Argentina",
          "Mexico",
          "Taiwan",
          "Hong Kong",
          "Angola",
          "Thailand",
          "Estonia",
          "Cameroon",
          "Luxembourg",
          "Slovenia",
          "Madagascar",
          "Lithuania",
          "Croatia",
          "Zambia",
          "Ghana",
          "Uganda",
          "Macedonia",
          "Bosnia And Herzegovina",
          "Moldova",
          "Niger",
          "Malawi",
          "Latvia",
          "Zimbabwe",
          "Somalia",
          "Mauritius",
          "Mozambique",
          "Eswatini",
          "Nepal",
          "Djibouti",
          "Kyrgistan",
          "Tajikistan",
          "Bahamas",
          "Eritrea",
          "Dominica",
          "Seychelles",
          "British Virgin Islands"
         ],
         "locations": [
          "COL",
          "IDN",
          "VEN",
          "ARG",
          "MEX",
          "TWN",
          "HKG",
          "AGO",
          "THA",
          "EST",
          "CMR",
          "LUX",
          "SVN",
          "MDG",
          "LTU",
          "HRV",
          "ZMB",
          "GHA",
          "UGA",
          "MKD",
          "BIH",
          "MDA",
          "NER",
          "MWI",
          "LVA",
          "ZWE",
          "SOM",
          "MUS",
          "MOZ",
          "SWZ",
          "NPL",
          "DJI",
          "KGZ",
          "TJK",
          "BHS",
          "ERI",
          "DMA",
          "SYC",
          "VGB"
         ],
         "name": "(27.8, 110.2]",
         "showlegend": true,
         "showscale": false,
         "type": "choropleth",
         "z": [
          1,
          1,
          1,
          1,
          1,
          1,
          1,
          1,
          1,
          1,
          1,
          1,
          1,
          1,
          1,
          1,
          1,
          1,
          1,
          1,
          1,
          1,
          1,
          1,
          1,
          1,
          1,
          1,
          1,
          1,
          1,
          1,
          1,
          1,
          1,
          1,
          1,
          1,
          1
         ]
        },
        {
         "colorscale": [
          [
           0,
           "rgb(140,107,177)"
          ],
          [
           1,
           "rgb(140,107,177)"
          ]
         ],
         "customdata": [
          [
           5085,
           182
          ],
          [
           5179,
           183
          ],
          [
           2109,
           175
          ],
          [
           2407,
           176
          ],
          [
           3256,
           178
          ],
          [
           682,
           156
          ],
          [
           1806,
           172
          ],
          [
           1051,
           163
          ],
          [
           974,
           162
          ],
          [
           852,
           160
          ],
          [
           745,
           157
          ],
          [
           1215,
           166
          ],
          [
           1444,
           169
          ],
          [
           5381,
           184
          ],
          [
           1871,
           174
          ],
          [
           790,
           159
          ],
          [
           5694,
           186
          ],
          [
           762,
           158
          ],
          [
           664,
           155
          ],
          [
           23136,
           191
          ],
          [
           1550,
           170
          ],
          [
           34876,
           192
          ],
          [
           2721,
           177
          ],
          [
           1750,
           171
          ],
          [
           9875,
           189
          ],
          [
           6202,
           187
          ],
          [
           1275,
           168
          ],
          [
           8669,
           188
          ],
          [
           3444,
           179
          ],
          [
           1866,
           173
          ],
          [
           19662,
           190
          ],
          [
           1059,
           164
          ],
          [
           965,
           161
          ],
          [
           1252,
           167
          ],
          [
           4495,
           181
          ],
          [
           4484,
           180
          ],
          [
           1134,
           165
          ],
          [
           5555,
           185
          ],
          [
           63438,
           193
          ]
         ],
         "geo": "geo",
         "hovertemplate": "<b>%{hovertext}</b><br><br>color=(646.8, 63438.0]<br>Code=%{location}<br>Unique Owners=%{customdata[0]:.2f}<br>Rank=%{customdata[1]:}<extra></extra>",
         "hovertext": [
          "USA",
          "China",
          "Germany",
          "Italy",
          "France",
          "Switzerland",
          "Australia",
          "Netherlands",
          "Turkey",
          "Sweden",
          "Belgium",
          "Nigeria",
          "South Africa",
          "Russia",
          "Ireland",
          "Algeria",
          "Canada",
          "Kenya",
          "Morocco",
          "United Kingdom",
          "Kazakhstan",
          "India",
          "Iraq",
          "Qatar",
          "Saudi Arabia",
          "Egypt",
          "Oman",
          "Iran",
          "Kuwait",
          "Sudan",
          "Pakistan",
          "Bahrain",
          "Yemen",
          "Palestine",
          "Lebanon",
          "Syria",
          "Afghanistan",
          "Jordan",
          "United Arab Emirates"
         ],
         "locations": [
          "USA",
          "CHN",
          "DEU",
          "ITA",
          "FRA",
          "CHE",
          "AUS",
          "NLD",
          "TUR",
          "SWE",
          "BEL",
          "NGA",
          "ZAF",
          "RUS",
          "IRL",
          "DZA",
          "CAN",
          "KEN",
          "MAR",
          "GBR",
          "KAZ",
          "IND",
          "IRQ",
          "QAT",
          "SAU",
          "EGY",
          "OMN",
          "IRN",
          "KWT",
          "SDN",
          "PAK",
          "BHR",
          "YEM",
          "PSE",
          "LBN",
          "SYR",
          "AFG",
          "JOR",
          "ARE"
         ],
         "name": "(646.8, 63438.0]",
         "showlegend": true,
         "showscale": false,
         "type": "choropleth",
         "z": [
          1,
          1,
          1,
          1,
          1,
          1,
          1,
          1,
          1,
          1,
          1,
          1,
          1,
          1,
          1,
          1,
          1,
          1,
          1,
          1,
          1,
          1,
          1,
          1,
          1,
          1,
          1,
          1,
          1,
          1,
          1,
          1,
          1,
          1,
          1,
          1,
          1,
          1,
          1
         ]
        }
       ],
       "layout": {
        "geo": {
         "center": {},
         "domain": {
          "x": [
           0,
           1
          ],
          "y": [
           0,
           1
          ]
         },
         "projection": {
          "type": "orthographic"
         },
         "showcoastlines": false,
         "showframe": false
        },
        "height": 900,
        "legend": {
         "title": {
          "text": "color"
         },
         "tracegroupgap": 0
        },
        "margin": {
         "b": 50,
         "l": 50,
         "r": 50,
         "t": 50
        },
        "template": {
         "data": {
          "bar": [
           {
            "error_x": {
             "color": "#2a3f5f"
            },
            "error_y": {
             "color": "#2a3f5f"
            },
            "marker": {
             "line": {
              "color": "#E5ECF6",
              "width": 0.5
             },
             "pattern": {
              "fillmode": "overlay",
              "size": 10,
              "solidity": 0.2
             }
            },
            "type": "bar"
           }
          ],
          "barpolar": [
           {
            "marker": {
             "line": {
              "color": "#E5ECF6",
              "width": 0.5
             },
             "pattern": {
              "fillmode": "overlay",
              "size": 10,
              "solidity": 0.2
             }
            },
            "type": "barpolar"
           }
          ],
          "carpet": [
           {
            "aaxis": {
             "endlinecolor": "#2a3f5f",
             "gridcolor": "white",
             "linecolor": "white",
             "minorgridcolor": "white",
             "startlinecolor": "#2a3f5f"
            },
            "baxis": {
             "endlinecolor": "#2a3f5f",
             "gridcolor": "white",
             "linecolor": "white",
             "minorgridcolor": "white",
             "startlinecolor": "#2a3f5f"
            },
            "type": "carpet"
           }
          ],
          "choropleth": [
           {
            "colorbar": {
             "outlinewidth": 0,
             "ticks": ""
            },
            "type": "choropleth"
           }
          ],
          "contour": [
           {
            "colorbar": {
             "outlinewidth": 0,
             "ticks": ""
            },
            "colorscale": [
             [
              0,
              "#0d0887"
             ],
             [
              0.1111111111111111,
              "#46039f"
             ],
             [
              0.2222222222222222,
              "#7201a8"
             ],
             [
              0.3333333333333333,
              "#9c179e"
             ],
             [
              0.4444444444444444,
              "#bd3786"
             ],
             [
              0.5555555555555556,
              "#d8576b"
             ],
             [
              0.6666666666666666,
              "#ed7953"
             ],
             [
              0.7777777777777778,
              "#fb9f3a"
             ],
             [
              0.8888888888888888,
              "#fdca26"
             ],
             [
              1,
              "#f0f921"
             ]
            ],
            "type": "contour"
           }
          ],
          "contourcarpet": [
           {
            "colorbar": {
             "outlinewidth": 0,
             "ticks": ""
            },
            "type": "contourcarpet"
           }
          ],
          "heatmap": [
           {
            "colorbar": {
             "outlinewidth": 0,
             "ticks": ""
            },
            "colorscale": [
             [
              0,
              "#0d0887"
             ],
             [
              0.1111111111111111,
              "#46039f"
             ],
             [
              0.2222222222222222,
              "#7201a8"
             ],
             [
              0.3333333333333333,
              "#9c179e"
             ],
             [
              0.4444444444444444,
              "#bd3786"
             ],
             [
              0.5555555555555556,
              "#d8576b"
             ],
             [
              0.6666666666666666,
              "#ed7953"
             ],
             [
              0.7777777777777778,
              "#fb9f3a"
             ],
             [
              0.8888888888888888,
              "#fdca26"
             ],
             [
              1,
              "#f0f921"
             ]
            ],
            "type": "heatmap"
           }
          ],
          "heatmapgl": [
           {
            "colorbar": {
             "outlinewidth": 0,
             "ticks": ""
            },
            "colorscale": [
             [
              0,
              "#0d0887"
             ],
             [
              0.1111111111111111,
              "#46039f"
             ],
             [
              0.2222222222222222,
              "#7201a8"
             ],
             [
              0.3333333333333333,
              "#9c179e"
             ],
             [
              0.4444444444444444,
              "#bd3786"
             ],
             [
              0.5555555555555556,
              "#d8576b"
             ],
             [
              0.6666666666666666,
              "#ed7953"
             ],
             [
              0.7777777777777778,
              "#fb9f3a"
             ],
             [
              0.8888888888888888,
              "#fdca26"
             ],
             [
              1,
              "#f0f921"
             ]
            ],
            "type": "heatmapgl"
           }
          ],
          "histogram": [
           {
            "marker": {
             "pattern": {
              "fillmode": "overlay",
              "size": 10,
              "solidity": 0.2
             }
            },
            "type": "histogram"
           }
          ],
          "histogram2d": [
           {
            "colorbar": {
             "outlinewidth": 0,
             "ticks": ""
            },
            "colorscale": [
             [
              0,
              "#0d0887"
             ],
             [
              0.1111111111111111,
              "#46039f"
             ],
             [
              0.2222222222222222,
              "#7201a8"
             ],
             [
              0.3333333333333333,
              "#9c179e"
             ],
             [
              0.4444444444444444,
              "#bd3786"
             ],
             [
              0.5555555555555556,
              "#d8576b"
             ],
             [
              0.6666666666666666,
              "#ed7953"
             ],
             [
              0.7777777777777778,
              "#fb9f3a"
             ],
             [
              0.8888888888888888,
              "#fdca26"
             ],
             [
              1,
              "#f0f921"
             ]
            ],
            "type": "histogram2d"
           }
          ],
          "histogram2dcontour": [
           {
            "colorbar": {
             "outlinewidth": 0,
             "ticks": ""
            },
            "colorscale": [
             [
              0,
              "#0d0887"
             ],
             [
              0.1111111111111111,
              "#46039f"
             ],
             [
              0.2222222222222222,
              "#7201a8"
             ],
             [
              0.3333333333333333,
              "#9c179e"
             ],
             [
              0.4444444444444444,
              "#bd3786"
             ],
             [
              0.5555555555555556,
              "#d8576b"
             ],
             [
              0.6666666666666666,
              "#ed7953"
             ],
             [
              0.7777777777777778,
              "#fb9f3a"
             ],
             [
              0.8888888888888888,
              "#fdca26"
             ],
             [
              1,
              "#f0f921"
             ]
            ],
            "type": "histogram2dcontour"
           }
          ],
          "mesh3d": [
           {
            "colorbar": {
             "outlinewidth": 0,
             "ticks": ""
            },
            "type": "mesh3d"
           }
          ],
          "parcoords": [
           {
            "line": {
             "colorbar": {
              "outlinewidth": 0,
              "ticks": ""
             }
            },
            "type": "parcoords"
           }
          ],
          "pie": [
           {
            "automargin": true,
            "type": "pie"
           }
          ],
          "scatter": [
           {
            "fillpattern": {
             "fillmode": "overlay",
             "size": 10,
             "solidity": 0.2
            },
            "type": "scatter"
           }
          ],
          "scatter3d": [
           {
            "line": {
             "colorbar": {
              "outlinewidth": 0,
              "ticks": ""
             }
            },
            "marker": {
             "colorbar": {
              "outlinewidth": 0,
              "ticks": ""
             }
            },
            "type": "scatter3d"
           }
          ],
          "scattercarpet": [
           {
            "marker": {
             "colorbar": {
              "outlinewidth": 0,
              "ticks": ""
             }
            },
            "type": "scattercarpet"
           }
          ],
          "scattergeo": [
           {
            "marker": {
             "colorbar": {
              "outlinewidth": 0,
              "ticks": ""
             }
            },
            "type": "scattergeo"
           }
          ],
          "scattergl": [
           {
            "marker": {
             "colorbar": {
              "outlinewidth": 0,
              "ticks": ""
             }
            },
            "type": "scattergl"
           }
          ],
          "scattermapbox": [
           {
            "marker": {
             "colorbar": {
              "outlinewidth": 0,
              "ticks": ""
             }
            },
            "type": "scattermapbox"
           }
          ],
          "scatterpolar": [
           {
            "marker": {
             "colorbar": {
              "outlinewidth": 0,
              "ticks": ""
             }
            },
            "type": "scatterpolar"
           }
          ],
          "scatterpolargl": [
           {
            "marker": {
             "colorbar": {
              "outlinewidth": 0,
              "ticks": ""
             }
            },
            "type": "scatterpolargl"
           }
          ],
          "scatterternary": [
           {
            "marker": {
             "colorbar": {
              "outlinewidth": 0,
              "ticks": ""
             }
            },
            "type": "scatterternary"
           }
          ],
          "surface": [
           {
            "colorbar": {
             "outlinewidth": 0,
             "ticks": ""
            },
            "colorscale": [
             [
              0,
              "#0d0887"
             ],
             [
              0.1111111111111111,
              "#46039f"
             ],
             [
              0.2222222222222222,
              "#7201a8"
             ],
             [
              0.3333333333333333,
              "#9c179e"
             ],
             [
              0.4444444444444444,
              "#bd3786"
             ],
             [
              0.5555555555555556,
              "#d8576b"
             ],
             [
              0.6666666666666666,
              "#ed7953"
             ],
             [
              0.7777777777777778,
              "#fb9f3a"
             ],
             [
              0.8888888888888888,
              "#fdca26"
             ],
             [
              1,
              "#f0f921"
             ]
            ],
            "type": "surface"
           }
          ],
          "table": [
           {
            "cells": {
             "fill": {
              "color": "#EBF0F8"
             },
             "line": {
              "color": "white"
             }
            },
            "header": {
             "fill": {
              "color": "#C8D4E3"
             },
             "line": {
              "color": "white"
             }
            },
            "type": "table"
           }
          ]
         },
         "layout": {
          "annotationdefaults": {
           "arrowcolor": "#2a3f5f",
           "arrowhead": 0,
           "arrowwidth": 1
          },
          "autotypenumbers": "strict",
          "coloraxis": {
           "colorbar": {
            "outlinewidth": 0,
            "ticks": ""
           }
          },
          "colorscale": {
           "diverging": [
            [
             0,
             "#8e0152"
            ],
            [
             0.1,
             "#c51b7d"
            ],
            [
             0.2,
             "#de77ae"
            ],
            [
             0.3,
             "#f1b6da"
            ],
            [
             0.4,
             "#fde0ef"
            ],
            [
             0.5,
             "#f7f7f7"
            ],
            [
             0.6,
             "#e6f5d0"
            ],
            [
             0.7,
             "#b8e186"
            ],
            [
             0.8,
             "#7fbc41"
            ],
            [
             0.9,
             "#4d9221"
            ],
            [
             1,
             "#276419"
            ]
           ],
           "sequential": [
            [
             0,
             "#0d0887"
            ],
            [
             0.1111111111111111,
             "#46039f"
            ],
            [
             0.2222222222222222,
             "#7201a8"
            ],
            [
             0.3333333333333333,
             "#9c179e"
            ],
            [
             0.4444444444444444,
             "#bd3786"
            ],
            [
             0.5555555555555556,
             "#d8576b"
            ],
            [
             0.6666666666666666,
             "#ed7953"
            ],
            [
             0.7777777777777778,
             "#fb9f3a"
            ],
            [
             0.8888888888888888,
             "#fdca26"
            ],
            [
             1,
             "#f0f921"
            ]
           ],
           "sequentialminus": [
            [
             0,
             "#0d0887"
            ],
            [
             0.1111111111111111,
             "#46039f"
            ],
            [
             0.2222222222222222,
             "#7201a8"
            ],
            [
             0.3333333333333333,
             "#9c179e"
            ],
            [
             0.4444444444444444,
             "#bd3786"
            ],
            [
             0.5555555555555556,
             "#d8576b"
            ],
            [
             0.6666666666666666,
             "#ed7953"
            ],
            [
             0.7777777777777778,
             "#fb9f3a"
            ],
            [
             0.8888888888888888,
             "#fdca26"
            ],
            [
             1,
             "#f0f921"
            ]
           ]
          },
          "colorway": [
           "#636efa",
           "#EF553B",
           "#00cc96",
           "#ab63fa",
           "#FFA15A",
           "#19d3f3",
           "#FF6692",
           "#B6E880",
           "#FF97FF",
           "#FECB52"
          ],
          "font": {
           "color": "#2a3f5f"
          },
          "geo": {
           "bgcolor": "white",
           "lakecolor": "white",
           "landcolor": "#E5ECF6",
           "showlakes": true,
           "showland": true,
           "subunitcolor": "white"
          },
          "hoverlabel": {
           "align": "left"
          },
          "hovermode": "closest",
          "mapbox": {
           "style": "light"
          },
          "paper_bgcolor": "white",
          "plot_bgcolor": "#E5ECF6",
          "polar": {
           "angularaxis": {
            "gridcolor": "white",
            "linecolor": "white",
            "ticks": ""
           },
           "bgcolor": "#E5ECF6",
           "radialaxis": {
            "gridcolor": "white",
            "linecolor": "white",
            "ticks": ""
           }
          },
          "scene": {
           "xaxis": {
            "backgroundcolor": "#E5ECF6",
            "gridcolor": "white",
            "gridwidth": 2,
            "linecolor": "white",
            "showbackground": true,
            "ticks": "",
            "zerolinecolor": "white"
           },
           "yaxis": {
            "backgroundcolor": "#E5ECF6",
            "gridcolor": "white",
            "gridwidth": 2,
            "linecolor": "white",
            "showbackground": true,
            "ticks": "",
            "zerolinecolor": "white"
           },
           "zaxis": {
            "backgroundcolor": "#E5ECF6",
            "gridcolor": "white",
            "gridwidth": 2,
            "linecolor": "white",
            "showbackground": true,
            "ticks": "",
            "zerolinecolor": "white"
           }
          },
          "shapedefaults": {
           "line": {
            "color": "#2a3f5f"
           }
          },
          "ternary": {
           "aaxis": {
            "gridcolor": "white",
            "linecolor": "white",
            "ticks": ""
           },
           "baxis": {
            "gridcolor": "white",
            "linecolor": "white",
            "ticks": ""
           },
           "bgcolor": "#E5ECF6",
           "caxis": {
            "gridcolor": "white",
            "linecolor": "white",
            "ticks": ""
           }
          },
          "title": {
           "x": 0.05
          },
          "xaxis": {
           "automargin": true,
           "gridcolor": "white",
           "linecolor": "white",
           "ticks": "",
           "title": {
            "standoff": 15
           },
           "zerolinecolor": "white",
           "zerolinewidth": 2
          },
          "yaxis": {
           "automargin": true,
           "gridcolor": "white",
           "linecolor": "white",
           "ticks": "",
           "title": {
            "standoff": 15
           },
           "zerolinecolor": "white",
           "zerolinewidth": 2
          }
         }
        },
        "title": {
         "text": "Unique Owners by country"
        }
       }
      }
     },
     "metadata": {},
     "output_type": "display_data"
    },
    {
     "data": {
      "application/vnd.jupyter.widget-view+json": {
       "model_id": "1c64d720fd574df7ba81decccba21f11",
       "version_major": 2,
       "version_minor": 0
      },
      "text/plain": [
       "interactive(children=(Dropdown(description='col', options=('Unique Owners', 'Unique Properties', 'Total Proper…"
      ]
     },
     "metadata": {},
     "output_type": "display_data"
    }
   ],
   "source": [
    "interact(plot_generator, col=data);"
   ]
  },
  {
   "cell_type": "markdown",
   "id": "35a1f524-c6e9-428d-bf6d-6170a08b3d88",
   "metadata": {
    "editable": true,
    "slideshow": {
     "slide_type": ""
    },
    "tags": []
   },
   "source": [
    "Let's throw in another toggle as a bonus!"
   ]
  },
  {
   "cell_type": "code",
   "execution_count": 31,
   "id": "7ade6b76-e42b-4585-a096-52db8e7fba28",
   "metadata": {
    "editable": true,
    "slideshow": {
     "slide_type": ""
    },
    "tags": [
     "otter_ignore"
    ]
   },
   "outputs": [
    {
     "data": {
      "application/vnd.plotly.v1+json": {
       "config": {
        "plotlyServerURL": "https://plot.ly"
       },
       "data": [
        {
         "colorscale": [
          [
           0,
           "rgb(247,252,253)"
          ],
          [
           1,
           "rgb(247,252,253)"
          ]
         ],
         "customdata": [
          [
           613523,
           7
          ],
          [
           717276,
           10
          ],
          [
           1033388,
           16
          ],
          [
           147244,
           2
          ],
          [
           1226562,
           18
          ],
          [
           778544,
           12
          ],
          [
           302629,
           4
          ],
          [
           758305,
           11
          ],
          [
           1113534,
           17
          ],
          [
           2189583,
           27
          ],
          [
           2158496,
           26
          ],
          [
           2906772,
           30
          ],
          [
           788407,
           13
          ],
          [
           4327004,
           37
          ],
          [
           569992,
           6
          ],
          [
           243222,
           3
          ],
          [
           4375482,
           38
          ],
          [
           683138,
           9
          ],
          [
           4034326,
           36
          ],
          [
           2129521,
           25
          ],
          [
           401218,
           5
          ],
          [
           1371224,
           19
          ],
          [
           1573848,
           21
          ],
          [
           3756692,
           33
          ],
          [
           2053722,
           23
          ],
          [
           826585,
           14
          ],
          [
           3826395,
           34
          ],
          [
           1898511,
           22
          ],
          [
           3164918,
           32
          ],
          [
           1402703,
           20
          ],
          [
           2087349,
           24
          ],
          [
           910394,
           15
          ],
          [
           678340,
           8
          ],
          [
           2536204,
           29
          ],
          [
           4583258,
           39
          ],
          [
           3887921,
           35
          ],
          [
           2993694,
           31
          ],
          [
           2232975,
           28
          ]
         ],
         "geo": "geo",
         "hovertemplate": "<b>%{hovertext}</b><br><br>color=(37506.0, 4678943.2]<br>Code=%{location}<br>Total Property Values=%{customdata[0]:.2f}<br>Rank=%{customdata[1]:}<extra></extra>",
         "hovertext": [
          "Cuba",
          "Guatemala",
          "Bolivia",
          "Faroe Islands",
          "El Salvador",
          "Honduras",
          "Macao",
          "Costa Rica",
          "Paraguay",
          "Burkina Faso",
          "Papua New Guinea",
          "Democratic Rep, Of Congo",
          "Nicaragua",
          "Myanmar",
          "Togo",
          "Andorra",
          "Uruguay",
          "Mongolia",
          "Iceland",
          "Namibia",
          "Saint Lucia",
          "Isle Of Man",
          "Monaco",
          "Brunei",
          "Guyana",
          "Central African Republic",
          "Liechtenstein",
          "Liberia",
          "Fiji",
          "San Marino",
          "Lesotho",
          "Vanuatu",
          "Cook Islands",
          "Guinea-Bissau",
          "Bhutan",
          "Gambia",
          "Turks And Caicos Islands",
          "Saint Vincent & The Grenadines"
         ],
         "locations": [
          "CUB",
          "GTM",
          "BOL",
          "FRO",
          "SLV",
          "HND",
          "MAC",
          "CRI",
          "PRY",
          "BFA",
          "PNG",
          "COD",
          "NIC",
          "MMR",
          "TGO",
          "AND",
          "URY",
          "MNG",
          "ISL",
          "NAM",
          "LCA",
          "IMN",
          "MCO",
          "BRN",
          "GUY",
          "CAF",
          "LIE",
          "LBR",
          "FJI",
          "SMR",
          "LSO",
          "VUT",
          "COK",
          "GNB",
          "BTN",
          "GMB",
          "TCA",
          "VCT"
         ],
         "name": "(37506.0, 4678943.2]",
         "showlegend": true,
         "showscale": false,
         "type": "choropleth",
         "z": [
          1,
          1,
          1,
          1,
          1,
          1,
          1,
          1,
          1,
          1,
          1,
          1,
          1,
          1,
          1,
          1,
          1,
          1,
          1,
          1,
          1,
          1,
          1,
          1,
          1,
          1,
          1,
          1,
          1,
          1,
          1,
          1,
          1,
          1,
          1,
          1,
          1,
          1
         ]
        },
        {
         "colorscale": [
          [
           0,
           "rgb(224,236,244)"
          ],
          [
           1,
           "rgb(224,236,244)"
          ]
         ],
         "customdata": [
          [
           7910712,
           49
          ],
          [
           5359401,
           42
          ],
          [
           5726711,
           44
          ],
          [
           8593277,
           50
          ],
          [
           13085666,
           63
          ],
          [
           5524217,
           43
          ],
          [
           4822471,
           40
          ],
          [
           13741927,
           66
          ],
          [
           4848632,
           41
          ],
          [
           6762555,
           46
          ],
          [
           11300435,
           56
          ],
          [
           17194543,
           71
          ],
          [
           7174898,
           47
          ],
          [
           10318570,
           55
          ],
          [
           11403159,
           57
          ],
          [
           12404647,
           60
          ],
          [
           13610854,
           65
          ],
          [
           19746787,
           75
          ],
          [
           9043319,
           51
          ],
          [
           12957190,
           62
          ],
          [
           14206156,
           68
          ],
          [
           13340972,
           64
          ],
          [
           9176369,
           52
          ],
          [
           14476265,
           69
          ],
          [
           14101518,
           67
          ],
          [
           7470339,
           48
          ],
          [
           20313746,
           77
          ],
          [
           18259680,
           72
          ],
          [
           9314867,
           53
          ],
          [
           12705948,
           61
          ],
          [
           12127150,
           59
          ],
          [
           6590232,
           45
          ],
          [
           19832311,
           76
          ],
          [
           12116270,
           58
          ],
          [
           18769999,
           74
          ],
          [
           10082724,
           54
          ],
          [
           18664657,
           73
          ],
          [
           15692140,
           70
          ]
         ],
         "geo": "geo",
         "hovertemplate": "<b>%{hovertext}</b><br><br>color=(4678943.2, 21532674.0]<br>Code=%{location}<br>Total Property Values=%{customdata[0]:.2f}<br>Rank=%{customdata[1]:}<extra></extra>",
         "hovertext": [
          "Vietnam",
          "Ecuador",
          "Peru",
          "Ivory Coast",
          "Panama",
          "Trinidad & Tobago",
          "Benin",
          "North Korea",
          "Jamaica",
          "Albania",
          "Estonia",
          "Cameroon",
          "Madagascar",
          "Mali",
          "Gabon",
          "Botswana",
          "Georgia",
          "Zambia",
          "Southern Sudan",
          "Congo, Republic Of",
          "Macedonia",
          "Guinea",
          "Mauritania",
          "Moldova",
          "Chad",
          "Montenegro",
          "Niger",
          "Malawi",
          "Barbados",
          "Somalia",
          "Maldives",
          "Burundi",
          "Bermuda",
          "Guernsey",
          "Jersey",
          "American Samoa",
          "Grenada",
          "Samoa"
         ],
         "locations": [
          "VNM",
          "ECU",
          "PER",
          "CIV",
          "PAN",
          "TTO",
          "BEN",
          "PRK",
          "JAM",
          "ALB",
          "EST",
          "CMR",
          "MDG",
          "MLI",
          "GAB",
          "BWA",
          "GEO",
          "ZMB",
          "SSD",
          "COG",
          "MKD",
          "GIN",
          "MRT",
          "MDA",
          "TCD",
          "MNE",
          "NER",
          "MWI",
          "BRB",
          "SOM",
          "MDV",
          "BDI",
          "BMU",
          "GGY",
          "JEY",
          "ASM",
          "GRD",
          "WSM"
         ],
         "name": "(4678943.2, 21532674.0]",
         "showlegend": true,
         "showscale": false,
         "type": "choropleth",
         "z": [
          1,
          1,
          1,
          1,
          1,
          1,
          1,
          1,
          1,
          1,
          1,
          1,
          1,
          1,
          1,
          1,
          1,
          1,
          1,
          1,
          1,
          1,
          1,
          1,
          1,
          1,
          1,
          1,
          1,
          1,
          1,
          1,
          1,
          1,
          1,
          1,
          1,
          1
         ]
        },
        {
         "colorscale": [
          [
           0,
           "rgb(191,211,230)"
          ],
          [
           1,
           "rgb(191,211,230)"
          ]
         ],
         "customdata": [
          [
           136625164,
           122
          ],
          [
           192493396,
           127
          ],
          [
           137597331,
           123
          ],
          [
           274338500,
           138
          ],
          [
           130243044,
           121
          ],
          [
           154368306,
           125
          ],
          [
           129296296,
           120
          ],
          [
           218386105,
           130
          ],
          [
           518819921,
           152
          ],
          [
           218712527,
           131
          ],
          [
           401901466,
           149
          ],
          [
           326927142,
           145
          ],
          [
           238247363,
           135
          ],
          [
           314783309,
           142
          ],
          [
           260075153,
           137
          ],
          [
           326764517,
           144
          ],
          [
           163924498,
           126
          ],
          [
           143361443,
           124
          ],
          [
           205468830,
           128
          ],
          [
           323839242,
           143
          ],
          [
           450011530,
           150
          ],
          [
           124595200,
           117
          ],
          [
           237117227,
           134
          ],
          [
           399089160,
           148
          ],
          [
           521248903,
           153
          ],
          [
           487528904,
           151
          ],
          [
           224459515,
           133
          ],
          [
           306814520,
           141
          ],
          [
           222973199,
           132
          ],
          [
           540849099,
           154
          ],
          [
           349310867,
           146
          ],
          [
           207650157,
           129
          ],
          [
           252911034,
           136
          ],
          [
           304883058,
           140
          ],
          [
           127170093,
           119
          ],
          [
           125462366,
           118
          ],
          [
           293254533,
           139
          ],
          [
           383562679,
           147
          ]
         ],
         "geo": "geo",
         "hovertemplate": "<b>%{hovertext}</b><br><br>color=(122561640.0, 552368410.2]<br>Code=%{location}<br>Total Property Values=%{customdata[0]:.2f}<br>Rank=%{customdata[1]:}<extra></extra>",
         "hovertext": [
          "Japan",
          "South Korea",
          "Brazil",
          "Spain",
          "Thailand",
          "Poland",
          "Philippines",
          "Malaysia",
          "Switzerland",
          "Romania",
          "Austria",
          "Denmark",
          "Portugal",
          "Bangladesh",
          "New Zealand",
          "Greece",
          "Dominican Republic",
          "Bulgaria",
          "Sri Lanka",
          "Ukraine",
          "Algeria",
          "Turkmenistan",
          "Tanzania",
          "Kenya",
          "Morocco",
          "Slovakia",
          "Tunisia",
          "Uzbekistan",
          "Nepal",
          "Libya",
          "Cyprus",
          "Armenia",
          "Malta",
          "Bahamas",
          "Gibraltar",
          "Antigua & Barbuda",
          "Seychelles",
          "British Virgin Islands"
         ],
         "locations": [
          "JPN",
          "KOR",
          "BRA",
          "ESP",
          "THA",
          "POL",
          "PHL",
          "MYS",
          "CHE",
          "ROU",
          "AUT",
          "DNK",
          "PRT",
          "BGD",
          "NZL",
          "GRC",
          "DOM",
          "BGR",
          "LKA",
          "UKR",
          "DZA",
          "TKM",
          "TZA",
          "KEN",
          "MAR",
          "SVK",
          "TUN",
          "UZB",
          "NPL",
          "LBY",
          "CYP",
          "ARM",
          "MLT",
          "BHS",
          "GIB",
          "ATG",
          "SYC",
          "VGB"
         ],
         "name": "(122561640.0, 552368410.2]",
         "showlegend": true,
         "showscale": false,
         "type": "choropleth",
         "z": [
          1,
          1,
          1,
          1,
          1,
          1,
          1,
          1,
          1,
          1,
          1,
          1,
          1,
          1,
          1,
          1,
          1,
          1,
          1,
          1,
          1,
          1,
          1,
          1,
          1,
          1,
          1,
          1,
          1,
          1,
          1,
          1,
          1,
          1,
          1,
          1,
          1,
          1
         ]
        },
        {
         "colorscale": [
          [
           0,
           "rgb(158,188,218)"
          ],
          [
           1,
           "rgb(158,188,218)"
          ]
         ],
         "customdata": [
          [
           37506,
           1
          ]
         ],
         "geo": "geo",
         "hovertemplate": "<b>%{hovertext}</b><br><br>color=nan<br>Code=%{location}<br>Total Property Values=%{customdata[0]:.2f}<br>Rank=%{customdata[1]:}<extra></extra>",
         "hovertext": [
          "Cambodia"
         ],
         "locations": [
          "KHM"
         ],
         "name": "nan",
         "showlegend": true,
         "showscale": false,
         "type": "choropleth",
         "z": [
          1
         ]
        },
        {
         "colorscale": [
          [
           0,
           "rgb(140,150,198)"
          ],
          [
           1,
           "rgb(140,150,198)"
          ]
         ],
         "customdata": [
          [
           23466863,
           80
          ],
          [
           35970570,
           89
          ],
          [
           85158491,
           107
          ],
          [
           45244832,
           95
          ],
          [
           51256316,
           99
          ],
          [
           66885500,
           104
          ],
          [
           46710702,
           97
          ],
          [
           64696102,
           101
          ],
          [
           65093106,
           102
          ],
          [
           27196278,
           86
          ],
          [
           121500170,
           115
          ],
          [
           31532535,
           88
          ],
          [
           89288837,
           109
          ],
          [
           27803885,
           87
          ],
          [
           26386351,
           84
          ],
          [
           89142007,
           108
          ],
          [
           36493973,
           90
          ],
          [
           43025924,
           94
          ],
          [
           50991657,
           98
          ],
          [
           64661099,
           100
          ],
          [
           37455516,
           91
          ],
          [
           26798262,
           85
          ],
          [
           109563946,
           114
          ],
          [
           74145316,
           105
          ],
          [
           39705766,
           93
          ],
          [
           65526530,
           103
          ],
          [
           38475874,
           92
          ],
          [
           23135392,
           79
          ],
          [
           46262530,
           96
          ],
          [
           78444944,
           106
          ],
          [
           26142868,
           83
          ],
          [
           26020787,
           82
          ],
          [
           21837406,
           78
          ],
          [
           102207266,
           113
          ],
          [
           25280495,
           81
          ],
          [
           122053250,
           116
          ],
          [
           93537128,
           110
          ],
          [
           96003744,
           111
          ],
          [
           100855582,
           112
          ]
         ],
         "geo": "geo",
         "hovertemplate": "<b>%{hovertext}</b><br><br>color=(21532674.0, 122561640.0]<br>Code=%{location}<br>Total Property Values=%{customdata[0]:.2f}<br>Rank=%{customdata[1]:}<extra></extra>",
         "hovertext": [
          "Chile",
          "Colombia",
          "Indonesia",
          "Venezuela",
          "Argentina",
          "Mexico",
          "Taiwan",
          "Hong Kong",
          "Finland",
          "Angola",
          "Norway",
          "Puerto Rico",
          "Czech Republic",
          "Luxembourg",
          "Slovenia",
          "Hungary",
          "Lithuania",
          "Croatia",
          "Ghana",
          "Belarus",
          "Uganda",
          "Bosnia And Herzegovina",
          "Ethiopia",
          "Serbia",
          "Senegal",
          "Latvia",
          "Zimbabwe",
          "Rwanda",
          "Mauritius",
          "Mozambique",
          "Eswatini",
          "Sierra Leone",
          "Djibouti",
          "Kyrgistan",
          "Belize",
          "Tajikistan",
          "Eritrea",
          "Comoros Islands",
          "Dominica"
         ],
         "locations": [
          "CHL",
          "COL",
          "IDN",
          "VEN",
          "ARG",
          "MEX",
          "TWN",
          "HKG",
          "FIN",
          "AGO",
          "NOR",
          "PRI",
          "CZE",
          "LUX",
          "SVN",
          "HUN",
          "LTU",
          "HRV",
          "GHA",
          "BLR",
          "UGA",
          "BIH",
          "ETH",
          "SRB",
          "SEN",
          "LVA",
          "ZWE",
          "RWA",
          "MUS",
          "MOZ",
          "SWZ",
          "SLE",
          "DJI",
          "KGZ",
          "BLZ",
          "TJK",
          "ERI",
          "COM",
          "DMA"
         ],
         "name": "(21532674.0, 122561640.0]",
         "showlegend": true,
         "showscale": false,
         "type": "choropleth",
         "z": [
          1,
          1,
          1,
          1,
          1,
          1,
          1,
          1,
          1,
          1,
          1,
          1,
          1,
          1,
          1,
          1,
          1,
          1,
          1,
          1,
          1,
          1,
          1,
          1,
          1,
          1,
          1,
          1,
          1,
          1,
          1,
          1,
          1,
          1,
          1,
          1,
          1,
          1,
          1
         ]
        },
        {
         "colorscale": [
          [
           0,
           "rgb(140,107,177)"
          ],
          [
           1,
           "rgb(140,107,177)"
          ]
         ],
         "customdata": [
          [
           3020718453,
           181
          ],
          [
           2735116465,
           179
          ],
          [
           1801164073,
           174
          ],
          [
           1130245242,
           169
          ],
          [
           1959122490,
           175
          ],
          [
           1197513851,
           170
          ],
          [
           765740942,
           163
          ],
          [
           720250167,
           160
          ],
          [
           628300486,
           159
          ],
          [
           593019034,
           158
          ],
          [
           568370283,
           157
          ],
          [
           560047951,
           155
          ],
          [
           739180760,
           161
          ],
          [
           3344037747,
           182
          ],
          [
           881663879,
           164
          ],
          [
           5150218144,
           186
          ],
          [
           14673449357,
           191
          ],
          [
           1018303303,
           167
          ],
          [
           29825884638,
           192
          ],
          [
           2593462500,
           178
          ],
          [
           2134427100,
           176
          ],
          [
           9782216629,
           189
          ],
          [
           3442276051,
           184
          ],
          [
           741250431,
           162
          ],
          [
           2168604777,
           177
          ],
          [
           7028738307,
           188
          ],
          [
           3795781625,
           185
          ],
          [
           941521903,
           166
          ],
          [
           10631637135,
           190
          ],
          [
           1426457684,
           172
          ],
          [
           1043509028,
           168
          ],
          [
           887521793,
           165
          ],
          [
           3398556621,
           183
          ],
          [
           2976197188,
           180
          ],
          [
           1410029024,
           171
          ],
          [
           565389111,
           156
          ],
          [
           5197686169,
           187
          ],
          [
           287245899176,
           193
          ],
          [
           1519188387,
           173
          ]
         ],
         "geo": "geo",
         "hovertemplate": "<b>%{hovertext}</b><br><br>color=(552368410.2, 287245899176.0]<br>Code=%{location}<br>Total Property Values=%{customdata[0]:.2f}<br>Rank=%{customdata[1]:}<extra></extra>",
         "hovertext": [
          "USA",
          "China",
          "Germany",
          "Italy",
          "France",
          "Australia",
          "Netherlands",
          "Turkey",
          "Sweden",
          "Belgium",
          "Nigeria",
          "Singapore",
          "South Africa",
          "Russia",
          "Ireland",
          "Canada",
          "United Kingdom",
          "Kazakhstan",
          "India",
          "Iraq",
          "Qatar",
          "Saudi Arabia",
          "Egypt",
          "Azerbaijan",
          "Oman",
          "Iran",
          "Kuwait",
          "Sudan",
          "Pakistan",
          "Bahrain",
          "Yemen",
          "Palestine",
          "Lebanon",
          "Syria",
          "Afghanistan",
          "Cayman Islands",
          "Jordan",
          "United Arab Emirates",
          "Saint Kitts And Nevis"
         ],
         "locations": [
          "USA",
          "CHN",
          "DEU",
          "ITA",
          "FRA",
          "AUS",
          "NLD",
          "TUR",
          "SWE",
          "BEL",
          "NGA",
          "SGP",
          "ZAF",
          "RUS",
          "IRL",
          "CAN",
          "GBR",
          "KAZ",
          "IND",
          "IRQ",
          "QAT",
          "SAU",
          "EGY",
          "AZE",
          "OMN",
          "IRN",
          "KWT",
          "SDN",
          "PAK",
          "BHR",
          "YEM",
          "PSE",
          "LBN",
          "SYR",
          "AFG",
          "CYM",
          "JOR",
          "ARE",
          "KNA"
         ],
         "name": "(552368410.2, 287245899176.0]",
         "showlegend": true,
         "showscale": false,
         "type": "choropleth",
         "z": [
          1,
          1,
          1,
          1,
          1,
          1,
          1,
          1,
          1,
          1,
          1,
          1,
          1,
          1,
          1,
          1,
          1,
          1,
          1,
          1,
          1,
          1,
          1,
          1,
          1,
          1,
          1,
          1,
          1,
          1,
          1,
          1,
          1,
          1,
          1,
          1,
          1,
          1,
          1
         ]
        }
       ],
       "layout": {
        "geo": {
         "center": {},
         "domain": {
          "x": [
           0,
           1
          ],
          "y": [
           0,
           1
          ]
         },
         "projection": {
          "type": "orthographic"
         },
         "showcoastlines": false,
         "showframe": false
        },
        "height": 900,
        "legend": {
         "title": {
          "text": "color"
         },
         "tracegroupgap": 0
        },
        "margin": {
         "b": 50,
         "l": 50,
         "r": 50,
         "t": 50
        },
        "template": {
         "data": {
          "bar": [
           {
            "error_x": {
             "color": "#2a3f5f"
            },
            "error_y": {
             "color": "#2a3f5f"
            },
            "marker": {
             "line": {
              "color": "#E5ECF6",
              "width": 0.5
             },
             "pattern": {
              "fillmode": "overlay",
              "size": 10,
              "solidity": 0.2
             }
            },
            "type": "bar"
           }
          ],
          "barpolar": [
           {
            "marker": {
             "line": {
              "color": "#E5ECF6",
              "width": 0.5
             },
             "pattern": {
              "fillmode": "overlay",
              "size": 10,
              "solidity": 0.2
             }
            },
            "type": "barpolar"
           }
          ],
          "carpet": [
           {
            "aaxis": {
             "endlinecolor": "#2a3f5f",
             "gridcolor": "white",
             "linecolor": "white",
             "minorgridcolor": "white",
             "startlinecolor": "#2a3f5f"
            },
            "baxis": {
             "endlinecolor": "#2a3f5f",
             "gridcolor": "white",
             "linecolor": "white",
             "minorgridcolor": "white",
             "startlinecolor": "#2a3f5f"
            },
            "type": "carpet"
           }
          ],
          "choropleth": [
           {
            "colorbar": {
             "outlinewidth": 0,
             "ticks": ""
            },
            "type": "choropleth"
           }
          ],
          "contour": [
           {
            "colorbar": {
             "outlinewidth": 0,
             "ticks": ""
            },
            "colorscale": [
             [
              0,
              "#0d0887"
             ],
             [
              0.1111111111111111,
              "#46039f"
             ],
             [
              0.2222222222222222,
              "#7201a8"
             ],
             [
              0.3333333333333333,
              "#9c179e"
             ],
             [
              0.4444444444444444,
              "#bd3786"
             ],
             [
              0.5555555555555556,
              "#d8576b"
             ],
             [
              0.6666666666666666,
              "#ed7953"
             ],
             [
              0.7777777777777778,
              "#fb9f3a"
             ],
             [
              0.8888888888888888,
              "#fdca26"
             ],
             [
              1,
              "#f0f921"
             ]
            ],
            "type": "contour"
           }
          ],
          "contourcarpet": [
           {
            "colorbar": {
             "outlinewidth": 0,
             "ticks": ""
            },
            "type": "contourcarpet"
           }
          ],
          "heatmap": [
           {
            "colorbar": {
             "outlinewidth": 0,
             "ticks": ""
            },
            "colorscale": [
             [
              0,
              "#0d0887"
             ],
             [
              0.1111111111111111,
              "#46039f"
             ],
             [
              0.2222222222222222,
              "#7201a8"
             ],
             [
              0.3333333333333333,
              "#9c179e"
             ],
             [
              0.4444444444444444,
              "#bd3786"
             ],
             [
              0.5555555555555556,
              "#d8576b"
             ],
             [
              0.6666666666666666,
              "#ed7953"
             ],
             [
              0.7777777777777778,
              "#fb9f3a"
             ],
             [
              0.8888888888888888,
              "#fdca26"
             ],
             [
              1,
              "#f0f921"
             ]
            ],
            "type": "heatmap"
           }
          ],
          "heatmapgl": [
           {
            "colorbar": {
             "outlinewidth": 0,
             "ticks": ""
            },
            "colorscale": [
             [
              0,
              "#0d0887"
             ],
             [
              0.1111111111111111,
              "#46039f"
             ],
             [
              0.2222222222222222,
              "#7201a8"
             ],
             [
              0.3333333333333333,
              "#9c179e"
             ],
             [
              0.4444444444444444,
              "#bd3786"
             ],
             [
              0.5555555555555556,
              "#d8576b"
             ],
             [
              0.6666666666666666,
              "#ed7953"
             ],
             [
              0.7777777777777778,
              "#fb9f3a"
             ],
             [
              0.8888888888888888,
              "#fdca26"
             ],
             [
              1,
              "#f0f921"
             ]
            ],
            "type": "heatmapgl"
           }
          ],
          "histogram": [
           {
            "marker": {
             "pattern": {
              "fillmode": "overlay",
              "size": 10,
              "solidity": 0.2
             }
            },
            "type": "histogram"
           }
          ],
          "histogram2d": [
           {
            "colorbar": {
             "outlinewidth": 0,
             "ticks": ""
            },
            "colorscale": [
             [
              0,
              "#0d0887"
             ],
             [
              0.1111111111111111,
              "#46039f"
             ],
             [
              0.2222222222222222,
              "#7201a8"
             ],
             [
              0.3333333333333333,
              "#9c179e"
             ],
             [
              0.4444444444444444,
              "#bd3786"
             ],
             [
              0.5555555555555556,
              "#d8576b"
             ],
             [
              0.6666666666666666,
              "#ed7953"
             ],
             [
              0.7777777777777778,
              "#fb9f3a"
             ],
             [
              0.8888888888888888,
              "#fdca26"
             ],
             [
              1,
              "#f0f921"
             ]
            ],
            "type": "histogram2d"
           }
          ],
          "histogram2dcontour": [
           {
            "colorbar": {
             "outlinewidth": 0,
             "ticks": ""
            },
            "colorscale": [
             [
              0,
              "#0d0887"
             ],
             [
              0.1111111111111111,
              "#46039f"
             ],
             [
              0.2222222222222222,
              "#7201a8"
             ],
             [
              0.3333333333333333,
              "#9c179e"
             ],
             [
              0.4444444444444444,
              "#bd3786"
             ],
             [
              0.5555555555555556,
              "#d8576b"
             ],
             [
              0.6666666666666666,
              "#ed7953"
             ],
             [
              0.7777777777777778,
              "#fb9f3a"
             ],
             [
              0.8888888888888888,
              "#fdca26"
             ],
             [
              1,
              "#f0f921"
             ]
            ],
            "type": "histogram2dcontour"
           }
          ],
          "mesh3d": [
           {
            "colorbar": {
             "outlinewidth": 0,
             "ticks": ""
            },
            "type": "mesh3d"
           }
          ],
          "parcoords": [
           {
            "line": {
             "colorbar": {
              "outlinewidth": 0,
              "ticks": ""
             }
            },
            "type": "parcoords"
           }
          ],
          "pie": [
           {
            "automargin": true,
            "type": "pie"
           }
          ],
          "scatter": [
           {
            "fillpattern": {
             "fillmode": "overlay",
             "size": 10,
             "solidity": 0.2
            },
            "type": "scatter"
           }
          ],
          "scatter3d": [
           {
            "line": {
             "colorbar": {
              "outlinewidth": 0,
              "ticks": ""
             }
            },
            "marker": {
             "colorbar": {
              "outlinewidth": 0,
              "ticks": ""
             }
            },
            "type": "scatter3d"
           }
          ],
          "scattercarpet": [
           {
            "marker": {
             "colorbar": {
              "outlinewidth": 0,
              "ticks": ""
             }
            },
            "type": "scattercarpet"
           }
          ],
          "scattergeo": [
           {
            "marker": {
             "colorbar": {
              "outlinewidth": 0,
              "ticks": ""
             }
            },
            "type": "scattergeo"
           }
          ],
          "scattergl": [
           {
            "marker": {
             "colorbar": {
              "outlinewidth": 0,
              "ticks": ""
             }
            },
            "type": "scattergl"
           }
          ],
          "scattermapbox": [
           {
            "marker": {
             "colorbar": {
              "outlinewidth": 0,
              "ticks": ""
             }
            },
            "type": "scattermapbox"
           }
          ],
          "scatterpolar": [
           {
            "marker": {
             "colorbar": {
              "outlinewidth": 0,
              "ticks": ""
             }
            },
            "type": "scatterpolar"
           }
          ],
          "scatterpolargl": [
           {
            "marker": {
             "colorbar": {
              "outlinewidth": 0,
              "ticks": ""
             }
            },
            "type": "scatterpolargl"
           }
          ],
          "scatterternary": [
           {
            "marker": {
             "colorbar": {
              "outlinewidth": 0,
              "ticks": ""
             }
            },
            "type": "scatterternary"
           }
          ],
          "surface": [
           {
            "colorbar": {
             "outlinewidth": 0,
             "ticks": ""
            },
            "colorscale": [
             [
              0,
              "#0d0887"
             ],
             [
              0.1111111111111111,
              "#46039f"
             ],
             [
              0.2222222222222222,
              "#7201a8"
             ],
             [
              0.3333333333333333,
              "#9c179e"
             ],
             [
              0.4444444444444444,
              "#bd3786"
             ],
             [
              0.5555555555555556,
              "#d8576b"
             ],
             [
              0.6666666666666666,
              "#ed7953"
             ],
             [
              0.7777777777777778,
              "#fb9f3a"
             ],
             [
              0.8888888888888888,
              "#fdca26"
             ],
             [
              1,
              "#f0f921"
             ]
            ],
            "type": "surface"
           }
          ],
          "table": [
           {
            "cells": {
             "fill": {
              "color": "#EBF0F8"
             },
             "line": {
              "color": "white"
             }
            },
            "header": {
             "fill": {
              "color": "#C8D4E3"
             },
             "line": {
              "color": "white"
             }
            },
            "type": "table"
           }
          ]
         },
         "layout": {
          "annotationdefaults": {
           "arrowcolor": "#2a3f5f",
           "arrowhead": 0,
           "arrowwidth": 1
          },
          "autotypenumbers": "strict",
          "coloraxis": {
           "colorbar": {
            "outlinewidth": 0,
            "ticks": ""
           }
          },
          "colorscale": {
           "diverging": [
            [
             0,
             "#8e0152"
            ],
            [
             0.1,
             "#c51b7d"
            ],
            [
             0.2,
             "#de77ae"
            ],
            [
             0.3,
             "#f1b6da"
            ],
            [
             0.4,
             "#fde0ef"
            ],
            [
             0.5,
             "#f7f7f7"
            ],
            [
             0.6,
             "#e6f5d0"
            ],
            [
             0.7,
             "#b8e186"
            ],
            [
             0.8,
             "#7fbc41"
            ],
            [
             0.9,
             "#4d9221"
            ],
            [
             1,
             "#276419"
            ]
           ],
           "sequential": [
            [
             0,
             "#0d0887"
            ],
            [
             0.1111111111111111,
             "#46039f"
            ],
            [
             0.2222222222222222,
             "#7201a8"
            ],
            [
             0.3333333333333333,
             "#9c179e"
            ],
            [
             0.4444444444444444,
             "#bd3786"
            ],
            [
             0.5555555555555556,
             "#d8576b"
            ],
            [
             0.6666666666666666,
             "#ed7953"
            ],
            [
             0.7777777777777778,
             "#fb9f3a"
            ],
            [
             0.8888888888888888,
             "#fdca26"
            ],
            [
             1,
             "#f0f921"
            ]
           ],
           "sequentialminus": [
            [
             0,
             "#0d0887"
            ],
            [
             0.1111111111111111,
             "#46039f"
            ],
            [
             0.2222222222222222,
             "#7201a8"
            ],
            [
             0.3333333333333333,
             "#9c179e"
            ],
            [
             0.4444444444444444,
             "#bd3786"
            ],
            [
             0.5555555555555556,
             "#d8576b"
            ],
            [
             0.6666666666666666,
             "#ed7953"
            ],
            [
             0.7777777777777778,
             "#fb9f3a"
            ],
            [
             0.8888888888888888,
             "#fdca26"
            ],
            [
             1,
             "#f0f921"
            ]
           ]
          },
          "colorway": [
           "#636efa",
           "#EF553B",
           "#00cc96",
           "#ab63fa",
           "#FFA15A",
           "#19d3f3",
           "#FF6692",
           "#B6E880",
           "#FF97FF",
           "#FECB52"
          ],
          "font": {
           "color": "#2a3f5f"
          },
          "geo": {
           "bgcolor": "white",
           "lakecolor": "white",
           "landcolor": "#E5ECF6",
           "showlakes": true,
           "showland": true,
           "subunitcolor": "white"
          },
          "hoverlabel": {
           "align": "left"
          },
          "hovermode": "closest",
          "mapbox": {
           "style": "light"
          },
          "paper_bgcolor": "white",
          "plot_bgcolor": "#E5ECF6",
          "polar": {
           "angularaxis": {
            "gridcolor": "white",
            "linecolor": "white",
            "ticks": ""
           },
           "bgcolor": "#E5ECF6",
           "radialaxis": {
            "gridcolor": "white",
            "linecolor": "white",
            "ticks": ""
           }
          },
          "scene": {
           "xaxis": {
            "backgroundcolor": "#E5ECF6",
            "gridcolor": "white",
            "gridwidth": 2,
            "linecolor": "white",
            "showbackground": true,
            "ticks": "",
            "zerolinecolor": "white"
           },
           "yaxis": {
            "backgroundcolor": "#E5ECF6",
            "gridcolor": "white",
            "gridwidth": 2,
            "linecolor": "white",
            "showbackground": true,
            "ticks": "",
            "zerolinecolor": "white"
           },
           "zaxis": {
            "backgroundcolor": "#E5ECF6",
            "gridcolor": "white",
            "gridwidth": 2,
            "linecolor": "white",
            "showbackground": true,
            "ticks": "",
            "zerolinecolor": "white"
           }
          },
          "shapedefaults": {
           "line": {
            "color": "#2a3f5f"
           }
          },
          "ternary": {
           "aaxis": {
            "gridcolor": "white",
            "linecolor": "white",
            "ticks": ""
           },
           "baxis": {
            "gridcolor": "white",
            "linecolor": "white",
            "ticks": ""
           },
           "bgcolor": "#E5ECF6",
           "caxis": {
            "gridcolor": "white",
            "linecolor": "white",
            "ticks": ""
           }
          },
          "title": {
           "x": 0.05
          },
          "xaxis": {
           "automargin": true,
           "gridcolor": "white",
           "linecolor": "white",
           "ticks": "",
           "title": {
            "standoff": 15
           },
           "zerolinecolor": "white",
           "zerolinewidth": 2
          },
          "yaxis": {
           "automargin": true,
           "gridcolor": "white",
           "linecolor": "white",
           "ticks": "",
           "title": {
            "standoff": 15
           },
           "zerolinecolor": "white",
           "zerolinewidth": 2
          }
         }
        },
        "title": {
         "text": "Total Property Values by country"
        }
       }
      }
     },
     "metadata": {},
     "output_type": "display_data"
    },
    {
     "data": {
      "application/vnd.jupyter.widget-view+json": {
       "model_id": "4babd9d44c4d4444875da465c775a573",
       "version_major": 2,
       "version_minor": 0
      },
      "text/plain": [
       "interactive(children=(ToggleButtons(description='col', options=('Total Property Values', 'Total Property Value…"
      ]
     },
     "metadata": {},
     "output_type": "display_data"
    }
   ],
   "source": [
    "display(widgets.interactive(plot_generator, col=widgets.ToggleButtons(options=[\n",
    "    \"Total Property Values\", \"Total Property Value / GDP\", \"Mean Property value\", \"Median Property Value\"])));\n"
   ]
  },
  {
   "cell_type": "markdown",
   "id": "b9d7cc2b",
   "metadata": {
    "deletable": false,
    "editable": false
   },
   "source": [
    "<!-- BEGIN QUESTION -->\n",
    "\n",
    "**Question 3.3:** Using the widget that you generate above. Name one country that has both a high total property value invested in Dubai and a high total property value / GDP. What does that potentially imply about income inequality in that country? This is an open-ended question. "
   ]
  },
  {
   "cell_type": "markdown",
   "id": "3a22166e",
   "metadata": {},
   "source": [
    "Although the graphs are visually appealing – scrolling back and forward between multiple graphs is tedious, and I, therefore, start by looking at the countries in the top decile both in `'Total Property Values'` and `'Total Property Value / GDP'` with a regular table"
   ]
  },
  {
   "cell_type": "code",
   "execution_count": 32,
   "id": "3146df61",
   "metadata": {},
   "outputs": [
    {
     "data": {
      "text/html": [
       "<div>\n",
       "<style scoped>\n",
       "    .dataframe tbody tr th:only-of-type {\n",
       "        vertical-align: middle;\n",
       "    }\n",
       "\n",
       "    .dataframe tbody tr th {\n",
       "        vertical-align: top;\n",
       "    }\n",
       "\n",
       "    .dataframe thead th {\n",
       "        text-align: right;\n",
       "    }\n",
       "</style>\n",
       "<table border=\"1\" class=\"dataframe\">\n",
       "  <thead>\n",
       "    <tr style=\"text-align: right;\">\n",
       "      <th></th>\n",
       "      <th>Total Property Values</th>\n",
       "      <th>GDP (current USD, 2018 or latest available - for coverage)</th>\n",
       "      <th>Total Property Value / GDP</th>\n",
       "    </tr>\n",
       "    <tr>\n",
       "      <th>Country</th>\n",
       "      <th></th>\n",
       "      <th></th>\n",
       "      <th></th>\n",
       "    </tr>\n",
       "  </thead>\n",
       "  <tbody>\n",
       "    <tr>\n",
       "      <th>Kuwait</th>\n",
       "      <td>3.795782e+09</td>\n",
       "      <td>1.380000e+11</td>\n",
       "      <td>2.75</td>\n",
       "    </tr>\n",
       "    <tr>\n",
       "      <th>Pakistan</th>\n",
       "      <td>1.063164e+10</td>\n",
       "      <td>3.150000e+11</td>\n",
       "      <td>3.38</td>\n",
       "    </tr>\n",
       "    <tr>\n",
       "      <th>Lebanon</th>\n",
       "      <td>3.398557e+09</td>\n",
       "      <td>5.530000e+10</td>\n",
       "      <td>6.15</td>\n",
       "    </tr>\n",
       "    <tr>\n",
       "      <th>Syria</th>\n",
       "      <td>2.976197e+09</td>\n",
       "      <td>4.040000e+10</td>\n",
       "      <td>7.37</td>\n",
       "    </tr>\n",
       "    <tr>\n",
       "      <th>Jordan</th>\n",
       "      <td>5.197686e+09</td>\n",
       "      <td>4.290000e+10</td>\n",
       "      <td>12.11</td>\n",
       "    </tr>\n",
       "    <tr>\n",
       "      <th>United Arab Emirates</th>\n",
       "      <td>2.872459e+11</td>\n",
       "      <td>4.220000e+11</td>\n",
       "      <td>68.04</td>\n",
       "    </tr>\n",
       "  </tbody>\n",
       "</table>\n",
       "</div>"
      ],
      "text/plain": [
       "                      Total Property Values  \\\n",
       "Country                                       \n",
       "Kuwait                         3.795782e+09   \n",
       "Pakistan                       1.063164e+10   \n",
       "Lebanon                        3.398557e+09   \n",
       "Syria                          2.976197e+09   \n",
       "Jordan                         5.197686e+09   \n",
       "United Arab Emirates           2.872459e+11   \n",
       "\n",
       "                      GDP (current USD, 2018 or latest available - for coverage)  \\\n",
       "Country                                                                            \n",
       "Kuwait                                                     1.380000e+11            \n",
       "Pakistan                                                   3.150000e+11            \n",
       "Lebanon                                                    5.530000e+10            \n",
       "Syria                                                      4.040000e+10            \n",
       "Jordan                                                     4.290000e+10            \n",
       "United Arab Emirates                                       4.220000e+11            \n",
       "\n",
       "                      Total Property Value / GDP  \n",
       "Country                                           \n",
       "Kuwait                                      2.75  \n",
       "Pakistan                                    3.38  \n",
       "Lebanon                                     6.15  \n",
       "Syria                                       7.37  \n",
       "Jordan                                     12.11  \n",
       "United Arab Emirates                       68.04  "
      ]
     },
     "metadata": {},
     "output_type": "display_data"
    }
   ],
   "source": [
    "upper_decile = data['Total Property Values'].quantile(0.9)\n",
    "TPV_upper_decile = data[data['Total Property Values'] > upper_decile].reset_index()\n",
    "TPV_upper_decile = TPV_upper_decile[['Country', 'Total Property Values', 'GDP (current USD, 2018 or latest available - for coverage)', 'Total Property Value / GDP']]\n",
    "\n",
    "upper_decile = data['Total Property Value / GDP'].quantile(0.9)\n",
    "TPVGDP_upper_decile = data[data['Total Property Value / GDP'] > upper_decile].reset_index()\n",
    "TPVGDP_upper_decile = TPVGDP_upper_decile['Country']\n",
    "\n",
    "merge = TPV_upper_decile.merge(TPVGDP_upper_decile, how='inner',on='Country').set_index('Country')\n",
    "display(merge)"
   ]
  },
  {
   "cell_type": "markdown",
   "id": "842e092f",
   "metadata": {},
   "source": [
    "As the table above shows, six countries appear in the upper decile of both `'Total Property Values'` and `'Total Property Value / GDP'`. Unsurprisingly, one of them is the UAE itself, while the rest are Middle Eastern countries. A likely reason for the countries to be there is a relatively high inequality in respective countries. To be on this list, they must have some really wealthy people who can afford expensive property in Dubai while maintaining a relatively low GDP."
   ]
  },
  {
   "cell_type": "markdown",
   "id": "1a53537e-1c04-49b6-b530-146fc34c8508",
   "metadata": {
    "deletable": false,
    "editable": false
   },
   "source": [
    "<!-- END QUESTION -->\n",
    "\n",
    "**Congratulations!!** You are done with the lab. Hopefully you enjoyed producing these geospatial visualizations!"
   ]
  },
  {
   "cell_type": "markdown",
   "id": "16bbf2d2",
   "metadata": {},
   "source": [
    "---\n",
    "## Feedback"
   ]
  },
  {
   "cell_type": "markdown",
   "id": "99a0cce9",
   "metadata": {
    "deletable": false,
    "editable": false
   },
   "source": [
    "**Question 4:** Please fill out this short [feedback form](https://forms.gle/zfy4e7NH8gvcYmB37) to let us know your thoughts about this lab! We really appreciate your opinions and feedback! At the end of the Google form, you should see a codeword. Assign the codeword to the variable `codeword` below. "
   ]
  },
  {
   "cell_type": "code",
   "execution_count": 33,
   "id": "573d0224",
   "metadata": {
    "tags": []
   },
   "outputs": [],
   "source": [
    "codeword = 'Dubai'"
   ]
  },
  {
   "cell_type": "code",
   "execution_count": 34,
   "id": "4b700864",
   "metadata": {
    "deletable": false,
    "editable": false
   },
   "outputs": [
    {
     "data": {
      "text/html": [
       "<p><strong><pre style='display: inline;'>q4</pre></strong> passed! 🎉</p>"
      ],
      "text/plain": [
       "q4 results: All test cases passed!"
      ]
     },
     "execution_count": 34,
     "metadata": {},
     "output_type": "execute_result"
    }
   ],
   "source": [
    "grader.check(\"q4\")"
   ]
  },
  {
   "cell_type": "markdown",
   "id": "b939cc0d",
   "metadata": {
    "deletable": false,
    "editable": false
   },
   "source": [
    "## Submission\n",
    "\n",
    "Make sure you have run all cells in your notebook in order before running the cell below, so that all images/graphs appear in the output. The cell below will generate a zip file for you to submit. **Please save before exporting!**"
   ]
  },
  {
   "cell_type": "code",
   "execution_count": 35,
   "id": "898d84cd",
   "metadata": {
    "deletable": false,
    "editable": false
   },
   "outputs": [
    {
     "name": "stderr",
     "output_type": "stream",
     "text": [
      "/Users/johanoelgaard/anaconda3/lib/python3.11/site-packages/nbconvert/utils/pandoc.py:51: RuntimeWarning:\n",
      "\n",
      "You are using an unsupported version of pandoc (3.1.11.1).\n",
      "Your version must be at least (1.12.1) but less than (3.0.0).\n",
      "Refer to https://pandoc.org/installing.html.\n",
      "Continuing with doubts...\n",
      "\n",
      "/Users/johanoelgaard/anaconda3/lib/python3.11/site-packages/nbconvert/filters/datatypefilter.py:41: UserWarning:\n",
      "\n",
      "Your element with mimetype(s) dict_keys(['application/vnd.plotly.v1+json']) is not able to be represented.\n",
      "\n",
      "/Users/johanoelgaard/anaconda3/lib/python3.11/site-packages/nbconvert/filters/datatypefilter.py:41: UserWarning:\n",
      "\n",
      "Your element with mimetype(s) dict_keys(['application/vnd.plotly.v1+json']) is not able to be represented.\n",
      "\n"
     ]
    },
    {
     "name": "stdout",
     "output_type": "stream",
     "text": [
      "Running your submission against local test cases...\n",
      "\n",
      "\n",
      "Your submission received the following results when run against available test cases:\n",
      "\n",
      "    q1_1 results: All test cases passed!\n",
      "\n",
      "    q1_2 results: All test cases passed!\n",
      "\n",
      "    q1_3 results: All test cases passed!\n",
      "\n",
      "    q1_4 results: All test cases passed!\n",
      "\n",
      "    q2_1 results: All test cases passed!\n",
      "\n",
      "    q3_1 results: All test cases passed!\n",
      "\n",
      "    q4 results: All test cases passed!\n"
     ]
    },
    {
     "data": {
      "text/html": [
       "\n",
       "                    <p>\n",
       "                        Your submission has been exported. Click\n",
       "                        <a href=\"lab06_2024_02_24T10_29_28_399984.zip\" download=\"lab06_2024_02_24T10_29_28_399984.zip\" target=\"_blank\">here</a> to download\n",
       "                        the zip file.\n",
       "                    </p>\n",
       "                "
      ],
      "text/plain": [
       "<IPython.core.display.HTML object>"
      ]
     },
     "metadata": {},
     "output_type": "display_data"
    }
   ],
   "source": [
    "# Save your notebook first, then run this cell to export your submission.\n",
    "grader.export(run_tests=True)"
   ]
  },
  {
   "cell_type": "markdown",
   "id": "44c438dc",
   "metadata": {},
   "source": [
    " "
   ]
  }
 ],
 "metadata": {
  "kernelspec": {
   "display_name": "Python 3 (ipykernel)",
   "language": "python",
   "name": "python3"
  },
  "language_info": {
   "codemirror_mode": {
    "name": "ipython",
    "version": 3
   },
   "file_extension": ".py",
   "mimetype": "text/x-python",
   "name": "python",
   "nbconvert_exporter": "python",
   "pygments_lexer": "ipython3",
   "version": "3.11.7"
  },
  "otter": {
   "OK_FORMAT": true,
   "export_pdf_failure_message": "PDF did not generate, please submit screenshots for questions 2.2, 2.3, 3.2 and 3.3.",
   "require_no_pdf_confirmation": true,
   "tests": {
    "q1_1": {
     "name": "q1_1",
     "points": null,
     "suites": [
      {
       "cases": [
        {
         "code": ">>> assert data.shape == (197, 26)\n",
         "hidden": false,
         "locked": false
        },
        {
         "code": ">>> assert data.index.name == 'Country'\n",
         "hidden": false,
         "locked": false
        }
       ],
       "scored": true,
       "setup": "",
       "teardown": "",
       "type": "doctest"
      }
     ]
    },
    "q1_2": {
     "name": "q1_2",
     "points": 3,
     "suites": [
      {
       "cases": [
        {
         "code": ">>> assert data.shape == (197, 26)\n",
         "failure_message": "You should not modify the shape of this dataframe.",
         "hidden": false,
         "locked": false,
         "points": 0
        },
        {
         "code": ">>> assert np.all(data[['Total Property Values', 'Mean Property value', 'Median Property Value']].dtypes == 'float64')\n",
         "failure_message": "There are some problems with the USD to float conversions.",
         "hidden": false,
         "locked": false,
         "points": 1
        },
        {
         "code": ">>> assert np.all(data[['Total Property Value / GDP', 'Female share', 'Share of total values owned by top 10% owners', 'Share of total values owned by top 10% persons', 'Share of total values owned by top 10% firms', 'Share of total values owned by top 1% owners', 'Share of total values owned by top 1% persons', 'Share of total values owned by top 1% firms']].dtypes == 'float64')\n",
         "failure_message": "There are some problems with the % to float conversions.",
         "hidden": false,
         "locked": false,
         "points": 1
        },
        {
         "code": ">>> assert np.all(data.dtypes == 'float64')\n",
         "hidden": false,
         "locked": false,
         "points": 1
        }
       ],
       "scored": true,
       "setup": "",
       "teardown": "",
       "type": "doctest"
      }
     ]
    },
    "q1_3": {
     "name": "q1_3",
     "points": null,
     "suites": [
      {
       "cases": [
        {
         "code": ">>> assert data.shape == (197, 27)\n",
         "hidden": false,
         "locked": false
        },
        {
         "code": ">>> assert data.loc['Afghanistan', 'Code'] == 'AFG'\n",
         "hidden": false,
         "locked": false
        },
        {
         "code": ">>> assert data.loc['Andorra', 'Code'] == 'AND'\n",
         "hidden": false,
         "locked": false
        },
        {
         "code": ">>> assert data.loc['Antigua & Barbuda', 'Code'] == 'None'\n",
         "hidden": false,
         "locked": false
        }
       ],
       "scored": true,
       "setup": "",
       "teardown": "",
       "type": "doctest"
      }
     ]
    },
    "q1_4": {
     "name": "q1_4",
     "points": null,
     "suites": [
      {
       "cases": [
        {
         "code": ">>> assert data.loc['Antigua & Barbuda', 'Code'] == 'ATG' and data.loc['Brunei', 'Code'] == 'BRN' and (data.loc['Congo, Republic Of', 'Code'] == 'COG') and (data.loc['Czech Republic', 'Code'] == 'CZE') and (data.loc['Iran', 'Code'] == 'IRN') and (data.loc['Ivory Coast', 'Code'] == 'CIV') and (data.loc['Kyrgistan', 'Code'] == 'KGZ') and (data.loc['Macedonia', 'Code'] == 'MKD') and (data.loc['Moldova', 'Code'] == 'MDA') and (data.loc['North Korea', 'Code'] == 'PRK') and (data.loc['Palestine', 'Code'] == 'PSE') and (data.loc['Russia', 'Code'] == 'RUS') and (data.loc['Saint Vincent & The Grenadines', 'Code'] == 'VCT') and (data.loc['South Korea', 'Code'] == 'KOR') and (data.loc['Southern Sudan', 'Code'] == 'SSD') and (data.loc['Syria', 'Code'] == 'SYR') and (data.loc['Taiwan', 'Code'] == 'TWN') and (data.loc['Tanzania', 'Code'] == 'TZA') and (data.loc['Trinidad & Tobago', 'Code'] == 'TTO') and (data.loc['USA', 'Code'] == 'USA') and (data.loc['Venezuela', 'Code'] == 'VEN') and (data.loc['Vietnam', 'Code'] == 'VNM') and (data.loc['Bolivia', 'Code'] == 'BOL') and (data.loc['Democratic Rep, Of Congo', 'Code'] == 'COD') and (data.loc['Turkey', 'Code'] == 'TUR') and (data.loc['Comoros Islands', 'Code'] == 'COM') and (data.loc['British Virgin Islands', 'Code'] == 'VGB')\n",
         "hidden": false,
         "locked": false
        }
       ],
       "scored": true,
       "setup": "",
       "teardown": "",
       "type": "doctest"
      }
     ]
    },
    "q2_1": {
     "name": "q2_1",
     "points": null,
     "suites": [
      {
       "cases": [
        {
         "code": ">>> assert np.all(data['Total Property Value / GDP'].diff()[1:] >= 0)\n",
         "hidden": false,
         "locked": false
        }
       ],
       "scored": true,
       "setup": "",
       "teardown": "",
       "type": "doctest"
      }
     ]
    },
    "q3_1": {
     "name": "q3_1",
     "points": null,
     "suites": [
      {
       "cases": [
        {
         "code": ">>> assert len(quintiles) == 6\n",
         "hidden": false,
         "locked": false
        },
        {
         "code": ">>> assert np.all(np.diff(quintiles) > 0)\n",
         "hidden": false,
         "locked": false
        }
       ],
       "scored": true,
       "setup": "",
       "teardown": "",
       "type": "doctest"
      }
     ]
    },
    "q4": {
     "name": "q4",
     "points": null,
     "suites": [
      {
       "cases": [
        {
         "code": ">>> assert sum([ord(c) for c in codeword]) ^ 966984 == 966829\n",
         "hidden": false,
         "locked": false
        }
       ],
       "scored": true,
       "setup": "",
       "teardown": "",
       "type": "doctest"
      }
     ]
    }
   }
  }
 },
 "nbformat": 4,
 "nbformat_minor": 5
}
