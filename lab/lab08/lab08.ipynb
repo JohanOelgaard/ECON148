{
 "cells": [
  {
   "cell_type": "code",
   "execution_count": 1,
   "metadata": {
    "deletable": false,
    "editable": false
   },
   "outputs": [],
   "source": [
    "# Initialize Otter\n",
    "import otter\n",
    "grader = otter.Notebook(\"lab08.ipynb\")"
   ]
  },
  {
   "cell_type": "code",
   "execution_count": 2,
   "metadata": {},
   "outputs": [],
   "source": [
    "import pandas as pd\n",
    "import numpy as np\n",
    "import matplotlib.pyplot as plt\n",
    "import seaborn as sb\n",
    "from lifelines.plotting import plot_lifetimes # Lifeline package for the Survival Analysis\n",
    "\n",
    "%matplotlib inline\n",
    "plt.rcParams['figure.figsize'] = [12, 6]\n",
    "pd.set_option('display.max_columns', None)"
   ]
  },
  {
   "cell_type": "markdown",
   "metadata": {},
   "source": [
    "# Lab 8: Survival Analysis"
   ]
  },
  {
   "cell_type": "markdown",
   "metadata": {},
   "source": [
    "In this lab, we will look at the concept of survival analysis. Survival analysis looks at the time until an event occurs (failure) or we lose them from the sample (censored observation). As economists, we are interested in how long they stay in the sample (survival). We are also interested in the risk of failure (hazard rates).\n",
    "\n",
    "Some applications of survival analysis include:\n",
    " * Firm survival and exit from a market.\n",
    " * Time to retirement.\n",
    " * How long a machine will last.\n",
    " * Likelihood a patient will survive after receiving a diagnosis or treatment.\n",
    " * How long before a customer will [change companies or _churn_](https://en.wikipedia.org/wiki/Churn_rate)."
   ]
  },
  {
   "cell_type": "markdown",
   "metadata": {},
   "source": [
    "## Math/Stat Intuition"
   ]
  },
  {
   "cell_type": "markdown",
   "metadata": {},
   "source": [
    "Let's take a non-negative continuous random variable $T$ to represent time.\n",
    "\n",
    "As a continuous random variable, $T$ has both a probability density function (pdf) and a cumulative density function (cdf). $T$ will have pdf $f(t)$ and cdf $F(T)$.\n",
    "\n",
    "Using the properties of pdfs, we can express the cdf as:\n",
    "\n",
    "$$F(t)=P(T<t)$$\n",
    "\n",
    "In this, $F(t)$ gives us the probability that the event has occured by duration $t$. This also means that $F(t)$ gives us the proportion of population with the time to event value less than $t$.\n",
    "\n",
    "We can also express the cdf as an integral of the pdf:\n",
    "\n",
    "$$\\int_{0}^{t}f(x)dx$$\n",
    "\n",
    "\n",
    "\n",
    "**Survival Function**\n",
    "\n",
    "Using the cdf, we can calculate the survival function, or the probability that the event has not occurred by the time $t$. This means that, S(t) gives us the proportion of population with the time to event value more than t. The survival function looks like:\n",
    "\n",
    "$$S(t)=1-F(t)=P(T\\geq t)$$\n",
    "\n",
    "We can also express this as an integral:\n",
    "\n",
    "$$\\int_{t}^{\\infty}f(x)dx$$\n",
    "\n",
    "**An example S(t)**\n",
    "\n",
    "\n",
    "<center>\n",
    "<img src=\"img/survival_analysis.png\" alt=\"Survival Analysis\" width=\"600\" height=\"300\">\n",
    "Credit: Anurag Pandey (Edited)\n",
    "</center>\n",
    "\n",
    "**How to Estimate S(t)**\n",
    "\n",
    "Because we don't know the true cdf or pdf for the event we are analyzing, we will use a statistical tool called the Kaplan-Meier estimate to help us."
   ]
  },
  {
   "cell_type": "markdown",
   "metadata": {},
   "source": [
    "## Kaplan-Meier Estimate"
   ]
  },
  {
   "cell_type": "markdown",
   "metadata": {},
   "source": [
    "As mentioned above, we will likely not have the cdf or pdf available for a real world application of survival analysis. Rather, we will have to estimate the survival function from the available data. For this, we will utilize a **Kaplan-Meier Estimate**. \n",
    "\n",
    "$$\\hat{S}=\\prod_{i:t_{i}\\leq t}\\frac{n_{i}-d_{i}}{n_{i}}$$\n",
    "\n",
    "In the estimate, denoted by $\\hat{S}$, $n_{i}$ is the population at risk at the time just prior to $t_{i}$. $d_{i}$ is the number of events that have occured at time $t_{i}$.\n",
    "\n",
    "For this notebook, we will be using Python to help us do the calculations. Don't worry if the formula is a little difficult to understand. The basic idea to know is that we are creating a survival curve (like the example given above) using observed data."
   ]
  },
  {
   "cell_type": "code",
   "execution_count": 3,
   "metadata": {},
   "outputs": [],
   "source": [
    "# import Kaplan-Meier estimator\n",
    "from lifelines import KaplanMeierFitter"
   ]
  },
  {
   "cell_type": "markdown",
   "metadata": {},
   "source": [
    "Let's look at an example using some toy data. As mentioned above, we'll be using the `lifelines` Python package to help us compute these survival curves."
   ]
  },
  {
   "cell_type": "code",
   "execution_count": 4,
   "metadata": {},
   "outputs": [],
   "source": [
    "# Example Data \n",
    "\n",
    "# how long did they survive (if they survive till the end, put max here)\n",
    "sample_durations = [5, 6, 6, 2.5, 4, 4]    \n",
    "\n",
    "# did an event occur (aka did they leave?) within the observation period\n",
    "sample_event_observed = [1, 0, 0, 1, 1, 1]"
   ]
  },
  {
   "cell_type": "markdown",
   "metadata": {},
   "source": [
    "In this example data: one entity survived till $T=2.5$, two entities survived till $T=4$, one entity survived till $T=5$, and the other two survived the entire observation period. Let's see what survival curve will the Kaplan-Meier estimator generate. "
   ]
  },
  {
   "cell_type": "code",
   "execution_count": 5,
   "metadata": {},
   "outputs": [
    {
     "data": {
      "image/png": "[encoded data removed]",
      "text/plain": [
       "<Figure size 1200x600 with 1 Axes>"
      ]
     },
     "metadata": {},
     "output_type": "display_data"
    }
   ],
   "source": [
    "# create an kmf object\n",
    "kmf = KaplanMeierFitter() \n",
    "\n",
    "# Fit the data into the model\n",
    "kmf.fit(sample_durations, sample_event_observed, label='Kaplan Meier Estimate')\n",
    "\n",
    "# Create an estimate\n",
    "kmf.plot(ci_show=False)\n",
    "plt.title('Sample Analysis Curve')\n",
    "plt.ylabel('Likelihood of Survival');"
   ]
  },
  {
   "cell_type": "markdown",
   "metadata": {},
   "source": [
    "See how the survival curve approximates the data we have observed? Now that we have seen this in action, let's take a look at a real world example using some more complex data."
   ]
  },
  {
   "cell_type": "markdown",
   "metadata": {},
   "source": [
    "## Telco Customer Churn"
   ]
  },
  {
   "cell_type": "markdown",
   "metadata": {},
   "source": [
    "This dataset looks at customer churn for a telco company.\n",
    "\n",
    "The data set includes information about:\n",
    " * Customers who left within the last month – the column is called `Churn`\n",
    " * Services that each customer has signed up for – phone, multiple lines, internet, online security, online backup, device protection, tech support, and streaming TV and movies\n",
    " *  Customer account information – how long they’ve been a customer, contract, payment method, paperless billing, monthly charges, and total charges\n",
    " *  Demographic info about customers – gender, age range, and if they have partners and dependents\n",
    "\n",
    "\n",
    "Let's read in the data and take a look at the first couple of rows. The data comes from Kaggle and can be accessed [here](https://www.kaggle.com/datasets/blastchar/telco-customer-churn)."
   ]
  },
  {
   "cell_type": "code",
   "execution_count": 6,
   "metadata": {},
   "outputs": [
    {
     "data": {
      "text/html": [
       "<div>\n",
       "<style scoped>\n",
       "    .dataframe tbody tr th:only-of-type {\n",
       "        vertical-align: middle;\n",
       "    }\n",
       "\n",
       "    .dataframe tbody tr th {\n",
       "        vertical-align: top;\n",
       "    }\n",
       "\n",
       "    .dataframe thead th {\n",
       "        text-align: right;\n",
       "    }\n",
       "</style>\n",
       "<table border=\"1\" class=\"dataframe\">\n",
       "  <thead>\n",
       "    <tr style=\"text-align: right;\">\n",
       "      <th></th>\n",
       "      <th>customerID</th>\n",
       "      <th>gender</th>\n",
       "      <th>SeniorCitizen</th>\n",
       "      <th>Partner</th>\n",
       "      <th>Dependents</th>\n",
       "      <th>tenure</th>\n",
       "      <th>PhoneService</th>\n",
       "      <th>MultipleLines</th>\n",
       "      <th>InternetService</th>\n",
       "      <th>OnlineSecurity</th>\n",
       "      <th>OnlineBackup</th>\n",
       "      <th>DeviceProtection</th>\n",
       "      <th>TechSupport</th>\n",
       "      <th>StreamingTV</th>\n",
       "      <th>StreamingMovies</th>\n",
       "      <th>Contract</th>\n",
       "      <th>PaperlessBilling</th>\n",
       "      <th>PaymentMethod</th>\n",
       "      <th>MonthlyCharges</th>\n",
       "      <th>TotalCharges</th>\n",
       "      <th>Churn</th>\n",
       "    </tr>\n",
       "  </thead>\n",
       "  <tbody>\n",
       "    <tr>\n",
       "      <th>0</th>\n",
       "      <td>7590-VHVEG</td>\n",
       "      <td>Female</td>\n",
       "      <td>0</td>\n",
       "      <td>Yes</td>\n",
       "      <td>No</td>\n",
       "      <td>1</td>\n",
       "      <td>No</td>\n",
       "      <td>No phone service</td>\n",
       "      <td>DSL</td>\n",
       "      <td>No</td>\n",
       "      <td>Yes</td>\n",
       "      <td>No</td>\n",
       "      <td>No</td>\n",
       "      <td>No</td>\n",
       "      <td>No</td>\n",
       "      <td>Month-to-month</td>\n",
       "      <td>Yes</td>\n",
       "      <td>Electronic check</td>\n",
       "      <td>29.85</td>\n",
       "      <td>29.85</td>\n",
       "      <td>No</td>\n",
       "    </tr>\n",
       "    <tr>\n",
       "      <th>1</th>\n",
       "      <td>5575-GNVDE</td>\n",
       "      <td>Male</td>\n",
       "      <td>0</td>\n",
       "      <td>No</td>\n",
       "      <td>No</td>\n",
       "      <td>34</td>\n",
       "      <td>Yes</td>\n",
       "      <td>No</td>\n",
       "      <td>DSL</td>\n",
       "      <td>Yes</td>\n",
       "      <td>No</td>\n",
       "      <td>Yes</td>\n",
       "      <td>No</td>\n",
       "      <td>No</td>\n",
       "      <td>No</td>\n",
       "      <td>One year</td>\n",
       "      <td>No</td>\n",
       "      <td>Mailed check</td>\n",
       "      <td>56.95</td>\n",
       "      <td>1889.5</td>\n",
       "      <td>No</td>\n",
       "    </tr>\n",
       "    <tr>\n",
       "      <th>2</th>\n",
       "      <td>3668-QPYBK</td>\n",
       "      <td>Male</td>\n",
       "      <td>0</td>\n",
       "      <td>No</td>\n",
       "      <td>No</td>\n",
       "      <td>2</td>\n",
       "      <td>Yes</td>\n",
       "      <td>No</td>\n",
       "      <td>DSL</td>\n",
       "      <td>Yes</td>\n",
       "      <td>Yes</td>\n",
       "      <td>No</td>\n",
       "      <td>No</td>\n",
       "      <td>No</td>\n",
       "      <td>No</td>\n",
       "      <td>Month-to-month</td>\n",
       "      <td>Yes</td>\n",
       "      <td>Mailed check</td>\n",
       "      <td>53.85</td>\n",
       "      <td>108.15</td>\n",
       "      <td>Yes</td>\n",
       "    </tr>\n",
       "    <tr>\n",
       "      <th>3</th>\n",
       "      <td>7795-CFOCW</td>\n",
       "      <td>Male</td>\n",
       "      <td>0</td>\n",
       "      <td>No</td>\n",
       "      <td>No</td>\n",
       "      <td>45</td>\n",
       "      <td>No</td>\n",
       "      <td>No phone service</td>\n",
       "      <td>DSL</td>\n",
       "      <td>Yes</td>\n",
       "      <td>No</td>\n",
       "      <td>Yes</td>\n",
       "      <td>Yes</td>\n",
       "      <td>No</td>\n",
       "      <td>No</td>\n",
       "      <td>One year</td>\n",
       "      <td>No</td>\n",
       "      <td>Bank transfer (automatic)</td>\n",
       "      <td>42.30</td>\n",
       "      <td>1840.75</td>\n",
       "      <td>No</td>\n",
       "    </tr>\n",
       "    <tr>\n",
       "      <th>4</th>\n",
       "      <td>9237-HQITU</td>\n",
       "      <td>Female</td>\n",
       "      <td>0</td>\n",
       "      <td>No</td>\n",
       "      <td>No</td>\n",
       "      <td>2</td>\n",
       "      <td>Yes</td>\n",
       "      <td>No</td>\n",
       "      <td>Fiber optic</td>\n",
       "      <td>No</td>\n",
       "      <td>No</td>\n",
       "      <td>No</td>\n",
       "      <td>No</td>\n",
       "      <td>No</td>\n",
       "      <td>No</td>\n",
       "      <td>Month-to-month</td>\n",
       "      <td>Yes</td>\n",
       "      <td>Electronic check</td>\n",
       "      <td>70.70</td>\n",
       "      <td>151.65</td>\n",
       "      <td>Yes</td>\n",
       "    </tr>\n",
       "  </tbody>\n",
       "</table>\n",
       "</div>"
      ],
      "text/plain": [
       "   customerID  gender  SeniorCitizen Partner Dependents  tenure PhoneService  \\\n",
       "0  7590-VHVEG  Female              0     Yes         No       1           No   \n",
       "1  5575-GNVDE    Male              0      No         No      34          Yes   \n",
       "2  3668-QPYBK    Male              0      No         No       2          Yes   \n",
       "3  7795-CFOCW    Male              0      No         No      45           No   \n",
       "4  9237-HQITU  Female              0      No         No       2          Yes   \n",
       "\n",
       "      MultipleLines InternetService OnlineSecurity OnlineBackup  \\\n",
       "0  No phone service             DSL             No          Yes   \n",
       "1                No             DSL            Yes           No   \n",
       "2                No             DSL            Yes          Yes   \n",
       "3  No phone service             DSL            Yes           No   \n",
       "4                No     Fiber optic             No           No   \n",
       "\n",
       "  DeviceProtection TechSupport StreamingTV StreamingMovies        Contract  \\\n",
       "0               No          No          No              No  Month-to-month   \n",
       "1              Yes          No          No              No        One year   \n",
       "2               No          No          No              No  Month-to-month   \n",
       "3              Yes         Yes          No              No        One year   \n",
       "4               No          No          No              No  Month-to-month   \n",
       "\n",
       "  PaperlessBilling              PaymentMethod  MonthlyCharges TotalCharges  \\\n",
       "0              Yes           Electronic check           29.85        29.85   \n",
       "1               No               Mailed check           56.95       1889.5   \n",
       "2              Yes               Mailed check           53.85       108.15   \n",
       "3               No  Bank transfer (automatic)           42.30      1840.75   \n",
       "4              Yes           Electronic check           70.70       151.65   \n",
       "\n",
       "  Churn  \n",
       "0    No  \n",
       "1    No  \n",
       "2   Yes  \n",
       "3    No  \n",
       "4   Yes  "
      ]
     },
     "execution_count": 6,
     "metadata": {},
     "output_type": "execute_result"
    }
   ],
   "source": [
    "telco = pd.read_csv(\"data/WA_Fn-UseC_-Telco-Customer-Churn.csv\")\n",
    "telco.head()"
   ]
  },
  {
   "cell_type": "code",
   "execution_count": 7,
   "metadata": {},
   "outputs": [
    {
     "data": {
      "text/plain": [
       "customerID           object\n",
       "gender               object\n",
       "SeniorCitizen         int64\n",
       "Partner              object\n",
       "Dependents           object\n",
       "tenure                int64\n",
       "PhoneService         object\n",
       "MultipleLines        object\n",
       "InternetService      object\n",
       "OnlineSecurity       object\n",
       "OnlineBackup         object\n",
       "DeviceProtection     object\n",
       "TechSupport          object\n",
       "StreamingTV          object\n",
       "StreamingMovies      object\n",
       "Contract             object\n",
       "PaperlessBilling     object\n",
       "PaymentMethod        object\n",
       "MonthlyCharges      float64\n",
       "TotalCharges         object\n",
       "Churn                object\n",
       "dtype: object"
      ]
     },
     "execution_count": 7,
     "metadata": {},
     "output_type": "execute_result"
    }
   ],
   "source": [
    "telco.dtypes"
   ]
  },
  {
   "cell_type": "markdown",
   "metadata": {},
   "source": [
    "Because the Kaplan-Meier process requires numeric values for the features we use, we'll have to do some cleaning and transformations. We'll also have to fill in some NaN values. \n",
    "\n",
    "There are a couple of issues we notice about this dataset. \n",
    "* **\"Yes\" and \"No\" are very hard to process**  \n",
    "We should replace them with 0 (for \"No\") and 1 (for \"Yes\"). Replace **only** the `Churn` column (since this is the column we will use).\n",
    "\n",
    "\n",
    "* **Column `TotalCharges` has object type, but it should contain numerical values**  \n",
    "We should convert the column to numerical values while handling the errors along the way. Then fill the missing values with the median of the column. "
   ]
  },
  {
   "cell_type": "markdown",
   "metadata": {
    "deletable": false,
    "editable": false
   },
   "source": [
    "**Question 1.1:** Handle the issues with `telco` dataset mentioned above.  "
   ]
  },
  {
   "cell_type": "code",
   "execution_count": 8,
   "metadata": {
    "tags": []
   },
   "outputs": [
    {
     "data": {
      "text/html": [
       "<div>\n",
       "<style scoped>\n",
       "    .dataframe tbody tr th:only-of-type {\n",
       "        vertical-align: middle;\n",
       "    }\n",
       "\n",
       "    .dataframe tbody tr th {\n",
       "        vertical-align: top;\n",
       "    }\n",
       "\n",
       "    .dataframe thead th {\n",
       "        text-align: right;\n",
       "    }\n",
       "</style>\n",
       "<table border=\"1\" class=\"dataframe\">\n",
       "  <thead>\n",
       "    <tr style=\"text-align: right;\">\n",
       "      <th></th>\n",
       "      <th>customerID</th>\n",
       "      <th>gender</th>\n",
       "      <th>SeniorCitizen</th>\n",
       "      <th>Partner</th>\n",
       "      <th>Dependents</th>\n",
       "      <th>tenure</th>\n",
       "      <th>PhoneService</th>\n",
       "      <th>MultipleLines</th>\n",
       "      <th>InternetService</th>\n",
       "      <th>OnlineSecurity</th>\n",
       "      <th>OnlineBackup</th>\n",
       "      <th>DeviceProtection</th>\n",
       "      <th>TechSupport</th>\n",
       "      <th>StreamingTV</th>\n",
       "      <th>StreamingMovies</th>\n",
       "      <th>Contract</th>\n",
       "      <th>PaperlessBilling</th>\n",
       "      <th>PaymentMethod</th>\n",
       "      <th>MonthlyCharges</th>\n",
       "      <th>TotalCharges</th>\n",
       "      <th>Churn</th>\n",
       "    </tr>\n",
       "  </thead>\n",
       "  <tbody>\n",
       "    <tr>\n",
       "      <th>0</th>\n",
       "      <td>7590-VHVEG</td>\n",
       "      <td>Female</td>\n",
       "      <td>0</td>\n",
       "      <td>Yes</td>\n",
       "      <td>No</td>\n",
       "      <td>1</td>\n",
       "      <td>No</td>\n",
       "      <td>No phone service</td>\n",
       "      <td>DSL</td>\n",
       "      <td>No</td>\n",
       "      <td>Yes</td>\n",
       "      <td>No</td>\n",
       "      <td>No</td>\n",
       "      <td>No</td>\n",
       "      <td>No</td>\n",
       "      <td>Month-to-month</td>\n",
       "      <td>Yes</td>\n",
       "      <td>Electronic check</td>\n",
       "      <td>29.85</td>\n",
       "      <td>29.85</td>\n",
       "      <td>0</td>\n",
       "    </tr>\n",
       "    <tr>\n",
       "      <th>1</th>\n",
       "      <td>5575-GNVDE</td>\n",
       "      <td>Male</td>\n",
       "      <td>0</td>\n",
       "      <td>No</td>\n",
       "      <td>No</td>\n",
       "      <td>34</td>\n",
       "      <td>Yes</td>\n",
       "      <td>No</td>\n",
       "      <td>DSL</td>\n",
       "      <td>Yes</td>\n",
       "      <td>No</td>\n",
       "      <td>Yes</td>\n",
       "      <td>No</td>\n",
       "      <td>No</td>\n",
       "      <td>No</td>\n",
       "      <td>One year</td>\n",
       "      <td>No</td>\n",
       "      <td>Mailed check</td>\n",
       "      <td>56.95</td>\n",
       "      <td>1889.50</td>\n",
       "      <td>0</td>\n",
       "    </tr>\n",
       "    <tr>\n",
       "      <th>2</th>\n",
       "      <td>3668-QPYBK</td>\n",
       "      <td>Male</td>\n",
       "      <td>0</td>\n",
       "      <td>No</td>\n",
       "      <td>No</td>\n",
       "      <td>2</td>\n",
       "      <td>Yes</td>\n",
       "      <td>No</td>\n",
       "      <td>DSL</td>\n",
       "      <td>Yes</td>\n",
       "      <td>Yes</td>\n",
       "      <td>No</td>\n",
       "      <td>No</td>\n",
       "      <td>No</td>\n",
       "      <td>No</td>\n",
       "      <td>Month-to-month</td>\n",
       "      <td>Yes</td>\n",
       "      <td>Mailed check</td>\n",
       "      <td>53.85</td>\n",
       "      <td>108.15</td>\n",
       "      <td>1</td>\n",
       "    </tr>\n",
       "    <tr>\n",
       "      <th>3</th>\n",
       "      <td>7795-CFOCW</td>\n",
       "      <td>Male</td>\n",
       "      <td>0</td>\n",
       "      <td>No</td>\n",
       "      <td>No</td>\n",
       "      <td>45</td>\n",
       "      <td>No</td>\n",
       "      <td>No phone service</td>\n",
       "      <td>DSL</td>\n",
       "      <td>Yes</td>\n",
       "      <td>No</td>\n",
       "      <td>Yes</td>\n",
       "      <td>Yes</td>\n",
       "      <td>No</td>\n",
       "      <td>No</td>\n",
       "      <td>One year</td>\n",
       "      <td>No</td>\n",
       "      <td>Bank transfer (automatic)</td>\n",
       "      <td>42.30</td>\n",
       "      <td>1840.75</td>\n",
       "      <td>0</td>\n",
       "    </tr>\n",
       "    <tr>\n",
       "      <th>4</th>\n",
       "      <td>9237-HQITU</td>\n",
       "      <td>Female</td>\n",
       "      <td>0</td>\n",
       "      <td>No</td>\n",
       "      <td>No</td>\n",
       "      <td>2</td>\n",
       "      <td>Yes</td>\n",
       "      <td>No</td>\n",
       "      <td>Fiber optic</td>\n",
       "      <td>No</td>\n",
       "      <td>No</td>\n",
       "      <td>No</td>\n",
       "      <td>No</td>\n",
       "      <td>No</td>\n",
       "      <td>No</td>\n",
       "      <td>Month-to-month</td>\n",
       "      <td>Yes</td>\n",
       "      <td>Electronic check</td>\n",
       "      <td>70.70</td>\n",
       "      <td>151.65</td>\n",
       "      <td>1</td>\n",
       "    </tr>\n",
       "  </tbody>\n",
       "</table>\n",
       "</div>"
      ],
      "text/plain": [
       "   customerID  gender  SeniorCitizen Partner Dependents  tenure PhoneService  \\\n",
       "0  7590-VHVEG  Female              0     Yes         No       1           No   \n",
       "1  5575-GNVDE    Male              0      No         No      34          Yes   \n",
       "2  3668-QPYBK    Male              0      No         No       2          Yes   \n",
       "3  7795-CFOCW    Male              0      No         No      45           No   \n",
       "4  9237-HQITU  Female              0      No         No       2          Yes   \n",
       "\n",
       "      MultipleLines InternetService OnlineSecurity OnlineBackup  \\\n",
       "0  No phone service             DSL             No          Yes   \n",
       "1                No             DSL            Yes           No   \n",
       "2                No             DSL            Yes          Yes   \n",
       "3  No phone service             DSL            Yes           No   \n",
       "4                No     Fiber optic             No           No   \n",
       "\n",
       "  DeviceProtection TechSupport StreamingTV StreamingMovies        Contract  \\\n",
       "0               No          No          No              No  Month-to-month   \n",
       "1              Yes          No          No              No        One year   \n",
       "2               No          No          No              No  Month-to-month   \n",
       "3              Yes         Yes          No              No        One year   \n",
       "4               No          No          No              No  Month-to-month   \n",
       "\n",
       "  PaperlessBilling              PaymentMethod  MonthlyCharges  TotalCharges  \\\n",
       "0              Yes           Electronic check           29.85         29.85   \n",
       "1               No               Mailed check           56.95       1889.50   \n",
       "2              Yes               Mailed check           53.85        108.15   \n",
       "3               No  Bank transfer (automatic)           42.30       1840.75   \n",
       "4              Yes           Electronic check           70.70        151.65   \n",
       "\n",
       "   Churn  \n",
       "0      0  \n",
       "1      0  \n",
       "2      1  \n",
       "3      0  \n",
       "4      1  "
      ]
     },
     "execution_count": 8,
     "metadata": {},
     "output_type": "execute_result"
    }
   ],
   "source": [
    "telco['TotalCharges'] = pd.to_numeric(telco['TotalCharges'], errors='coerce')\n",
    "telco['TotalCharges'] = telco['TotalCharges'].fillna(telco['TotalCharges'].median())\n",
    "telco['Churn'] = (telco['Churn'] == 'Yes').astype(int)\n",
    "telco.head()"
   ]
  },
  {
   "cell_type": "code",
   "execution_count": 9,
   "metadata": {
    "deletable": false,
    "editable": false
   },
   "outputs": [
    {
     "data": {
      "text/html": [
       "<p><strong><pre style='display: inline;'>q1_1</pre></strong> passed! ✨</p>"
      ],
      "text/plain": [
       "q1_1 results: All test cases passed!"
      ]
     },
     "execution_count": 9,
     "metadata": {},
     "output_type": "execute_result"
    }
   ],
   "source": [
    "grader.check(\"q1_1\")"
   ]
  },
  {
   "cell_type": "markdown",
   "metadata": {},
   "source": [
    "Now that we have cleaned the data, let's create a Kaplan-Meier curve. We will do this for you as an example. "
   ]
  },
  {
   "cell_type": "code",
   "execution_count": 10,
   "metadata": {},
   "outputs": [
    {
     "data": {
      "image/png": "[encoded data removed]",
      "text/plain": [
       "<Figure size 1200x600 with 1 Axes>"
      ]
     },
     "metadata": {},
     "output_type": "display_data"
    }
   ],
   "source": [
    "telco_durations = telco['tenure'] \n",
    "telco_event_observed = telco['Churn'] \n",
    "\n",
    "km = KaplanMeierFitter() \n",
    "\n",
    "km.fit(telco_durations, telco_event_observed, label='Kaplan Meier Estimate')\n",
    "\n",
    "km.plot()\n",
    "plt.axhline(km.survival_function_at_times(30).item(),color=\"red\",linestyle='dashed')\n",
    "plt.axvline(30, color=\"red\",linestyle='dashed')\n",
    "plt.title('Survival Curve using Telco data')\n",
    "plt.ylabel('Likelihood of Survival');"
   ]
  },
  {
   "cell_type": "markdown",
   "metadata": {},
   "source": [
    "**What does this curve mean?**\n",
    "\n",
    "For example, if we look at $t=30$, there is a 76% chance that a customer did not churn, or leave, until that point."
   ]
  },
  {
   "cell_type": "markdown",
   "metadata": {},
   "source": [
    "## Credit Risk"
   ]
  },
  {
   "cell_type": "markdown",
   "metadata": {},
   "source": [
    "Let's look at another application of survival analysis: credit risk. Credit Risk refers to the likelihood that a borrower will not be able to repay a loan contracted by a lender. Thus throughout the years, financial institutions have developed various ways to quantify that risk so as to limit their exposure.\n",
    "\n",
    "Here, instead of simply modeling whether a borrower will repay, by using Survival Analysis, it becomes possible to determine when this will happen. Indeed, it is easy to consider that fully repaying a loan is an explicit event, and therefore not having paid back the loan yet can be defined as the censored situation.\n",
    "\n",
    "By using this configuration, banks, credit unions, or fintech startups in the lending space can predict the speed of repayment of a loan. This will help these institutions mitigate losses due to bad debt, customize interest rates, improve cash flow and credit collections, and determine which customers are likely to bring in the most revenue throughout a variety of products."
   ]
  },
  {
   "cell_type": "markdown",
   "metadata": {},
   "source": [
    "Let's start by reading in the data. The data is sourced from German credit data and comes from the [UCI Machine Learning Repository](https://archive.ics.uci.edu/ml/datasets/statlog+(german+credit+data)) and has been reformatted into CSV format [here](https://github.com/square/pysurvival/blob/master/pysurvival/datasets/credit_risk.csv)."
   ]
  },
  {
   "cell_type": "code",
   "execution_count": 11,
   "metadata": {},
   "outputs": [
    {
     "data": {
      "text/html": [
       "<div>\n",
       "<style scoped>\n",
       "    .dataframe tbody tr th:only-of-type {\n",
       "        vertical-align: middle;\n",
       "    }\n",
       "\n",
       "    .dataframe tbody tr th {\n",
       "        vertical-align: top;\n",
       "    }\n",
       "\n",
       "    .dataframe thead th {\n",
       "        text-align: right;\n",
       "    }\n",
       "</style>\n",
       "<table border=\"1\" class=\"dataframe\">\n",
       "  <thead>\n",
       "    <tr style=\"text-align: right;\">\n",
       "      <th></th>\n",
       "      <th>checking_account_status</th>\n",
       "      <th>duration</th>\n",
       "      <th>credit_history</th>\n",
       "      <th>purpose</th>\n",
       "      <th>amount</th>\n",
       "      <th>savings_account_status</th>\n",
       "      <th>employment_years</th>\n",
       "      <th>installment_rate</th>\n",
       "      <th>personal_status</th>\n",
       "      <th>other_debtors</th>\n",
       "      <th>present_residence</th>\n",
       "      <th>property</th>\n",
       "      <th>age</th>\n",
       "      <th>other_installment_plans</th>\n",
       "      <th>housing</th>\n",
       "      <th>number_of_credits</th>\n",
       "      <th>job</th>\n",
       "      <th>people_liable</th>\n",
       "      <th>telephone</th>\n",
       "      <th>foreign_worker</th>\n",
       "      <th>full_repaid</th>\n",
       "    </tr>\n",
       "  </thead>\n",
       "  <tbody>\n",
       "    <tr>\n",
       "      <th>0</th>\n",
       "      <td>below_0</td>\n",
       "      <td>6</td>\n",
       "      <td>critical_account</td>\n",
       "      <td>radio_TV</td>\n",
       "      <td>1169</td>\n",
       "      <td>unknown</td>\n",
       "      <td>above_7</td>\n",
       "      <td>4</td>\n",
       "      <td>M_single</td>\n",
       "      <td>NaN</td>\n",
       "      <td>4</td>\n",
       "      <td>real_estate</td>\n",
       "      <td>67</td>\n",
       "      <td>NaN</td>\n",
       "      <td>own</td>\n",
       "      <td>2</td>\n",
       "      <td>official</td>\n",
       "      <td>1</td>\n",
       "      <td>1</td>\n",
       "      <td>1</td>\n",
       "      <td>1</td>\n",
       "    </tr>\n",
       "    <tr>\n",
       "      <th>1</th>\n",
       "      <td>0_to_200</td>\n",
       "      <td>48</td>\n",
       "      <td>existing_credit_paid</td>\n",
       "      <td>radio_TV</td>\n",
       "      <td>5951</td>\n",
       "      <td>below_100</td>\n",
       "      <td>between_1_4</td>\n",
       "      <td>2</td>\n",
       "      <td>F_not_single</td>\n",
       "      <td>NaN</td>\n",
       "      <td>2</td>\n",
       "      <td>real_estate</td>\n",
       "      <td>22</td>\n",
       "      <td>NaN</td>\n",
       "      <td>own</td>\n",
       "      <td>1</td>\n",
       "      <td>official</td>\n",
       "      <td>1</td>\n",
       "      <td>0</td>\n",
       "      <td>1</td>\n",
       "      <td>0</td>\n",
       "    </tr>\n",
       "    <tr>\n",
       "      <th>2</th>\n",
       "      <td>no_account</td>\n",
       "      <td>12</td>\n",
       "      <td>critical_account</td>\n",
       "      <td>education</td>\n",
       "      <td>2096</td>\n",
       "      <td>below_100</td>\n",
       "      <td>between_4_7</td>\n",
       "      <td>2</td>\n",
       "      <td>M_single</td>\n",
       "      <td>NaN</td>\n",
       "      <td>3</td>\n",
       "      <td>real_estate</td>\n",
       "      <td>49</td>\n",
       "      <td>NaN</td>\n",
       "      <td>own</td>\n",
       "      <td>1</td>\n",
       "      <td>unskilled</td>\n",
       "      <td>2</td>\n",
       "      <td>0</td>\n",
       "      <td>1</td>\n",
       "      <td>1</td>\n",
       "    </tr>\n",
       "    <tr>\n",
       "      <th>3</th>\n",
       "      <td>below_0</td>\n",
       "      <td>42</td>\n",
       "      <td>existing_credit_paid</td>\n",
       "      <td>furniture_equipment</td>\n",
       "      <td>7882</td>\n",
       "      <td>below_100</td>\n",
       "      <td>between_4_7</td>\n",
       "      <td>2</td>\n",
       "      <td>M_single</td>\n",
       "      <td>guarantor</td>\n",
       "      <td>4</td>\n",
       "      <td>life_insurance</td>\n",
       "      <td>45</td>\n",
       "      <td>NaN</td>\n",
       "      <td>free</td>\n",
       "      <td>1</td>\n",
       "      <td>official</td>\n",
       "      <td>2</td>\n",
       "      <td>0</td>\n",
       "      <td>1</td>\n",
       "      <td>1</td>\n",
       "    </tr>\n",
       "    <tr>\n",
       "      <th>4</th>\n",
       "      <td>below_0</td>\n",
       "      <td>24</td>\n",
       "      <td>delay_in_paying</td>\n",
       "      <td>car_new</td>\n",
       "      <td>4870</td>\n",
       "      <td>below_100</td>\n",
       "      <td>between_1_4</td>\n",
       "      <td>3</td>\n",
       "      <td>M_single</td>\n",
       "      <td>NaN</td>\n",
       "      <td>4</td>\n",
       "      <td>no_property</td>\n",
       "      <td>53</td>\n",
       "      <td>NaN</td>\n",
       "      <td>free</td>\n",
       "      <td>2</td>\n",
       "      <td>official</td>\n",
       "      <td>2</td>\n",
       "      <td>0</td>\n",
       "      <td>1</td>\n",
       "      <td>0</td>\n",
       "    </tr>\n",
       "  </tbody>\n",
       "</table>\n",
       "</div>"
      ],
      "text/plain": [
       "  checking_account_status  duration        credit_history  \\\n",
       "0                 below_0         6      critical_account   \n",
       "1                0_to_200        48  existing_credit_paid   \n",
       "2              no_account        12      critical_account   \n",
       "3                 below_0        42  existing_credit_paid   \n",
       "4                 below_0        24       delay_in_paying   \n",
       "\n",
       "               purpose  amount savings_account_status employment_years  \\\n",
       "0             radio_TV    1169                unknown          above_7   \n",
       "1             radio_TV    5951              below_100      between_1_4   \n",
       "2            education    2096              below_100      between_4_7   \n",
       "3  furniture_equipment    7882              below_100      between_4_7   \n",
       "4              car_new    4870              below_100      between_1_4   \n",
       "\n",
       "   installment_rate personal_status other_debtors  present_residence  \\\n",
       "0                 4        M_single           NaN                  4   \n",
       "1                 2    F_not_single           NaN                  2   \n",
       "2                 2        M_single           NaN                  3   \n",
       "3                 2        M_single     guarantor                  4   \n",
       "4                 3        M_single           NaN                  4   \n",
       "\n",
       "           property  age other_installment_plans housing  number_of_credits  \\\n",
       "0      real_estate    67                     NaN     own                  2   \n",
       "1      real_estate    22                     NaN     own                  1   \n",
       "2      real_estate    49                     NaN     own                  1   \n",
       "3  life_insurance     45                     NaN    free                  1   \n",
       "4       no_property   53                     NaN    free                  2   \n",
       "\n",
       "         job  people_liable  telephone  foreign_worker  full_repaid  \n",
       "0   official              1          1               1            1  \n",
       "1   official              1          0               1            0  \n",
       "2  unskilled              2          0               1            1  \n",
       "3   official              2          0               1            1  \n",
       "4   official              2          0               1            0  "
      ]
     },
     "execution_count": 11,
     "metadata": {},
     "output_type": "execute_result"
    }
   ],
   "source": [
    "credit = pd.read_csv(\"data/credit_risk.csv\")\n",
    "credit.head()"
   ]
  },
  {
   "cell_type": "markdown",
   "metadata": {},
   "source": [
    "The dataset contains information useful to assess the borrowers creditworthiness as well as socio-demographic elements:"
   ]
  },
  {
   "cell_type": "markdown",
   "metadata": {},
   "source": [
    "| Feature category | Feature name | Description |\n",
    "| ----------- | ----------- | ----------- |\n",
    "| **Time** | `duration` | Duration in month |\n",
    "| **Event** | `full_repaid` | Specifies if the loan was fully repaid (1 if fully repaid) |\n",
    "| Bank information | `credit_history` | Credit history of the borrower |\n",
    "| Socio-Demographic | `age` | Age of the borrower (in years) |\n",
    "| Socio-Demographic | `telephone` | Indicates if the borrower owns a phone (1 if yes)|\n",
    "| Residence | `present_residence` | Years living at current residence |\n",
    "|  |  | ... (other variables omitted) |"
   ]
  },
  {
   "cell_type": "markdown",
   "metadata": {},
   "source": [
    "See [here](https://square.github.io/pysurvival/tutorials/credit_risk.html) for the full documentation. "
   ]
  },
  {
   "cell_type": "markdown",
   "metadata": {},
   "source": [
    "Now that we have read in the data, let's create a baseline survival curve similar to the ones we have seen earlier."
   ]
  },
  {
   "cell_type": "code",
   "execution_count": 12,
   "metadata": {},
   "outputs": [
    {
     "data": {
      "image/png": "[encoded data removed]",
      "text/plain": [
       "<Figure size 1200x600 with 1 Axes>"
      ]
     },
     "metadata": {},
     "output_type": "display_data"
    }
   ],
   "source": [
    "credit_durations = credit['duration'] \n",
    "credit_event_observed = credit['full_repaid'] \n",
    "\n",
    "km = KaplanMeierFitter() \n",
    "\n",
    "km.fit(credit_durations, credit_event_observed, label='Kaplan Meier Estimate')\n",
    "\n",
    "km.plot()\n",
    "plt.title('Survival Curve using credit risk data')\n",
    "plt.ylabel('Likelihood of Survival');"
   ]
  },
  {
   "cell_type": "markdown",
   "metadata": {},
   "source": [
    "*Recall that the curve describe the duration of the debt (or \"survival\" of the debt). And ideally, a customer with good credit would repay all the debt as early as possible.*"
   ]
  },
  {
   "cell_type": "markdown",
   "metadata": {},
   "source": [
    "### Credit History"
   ]
  },
  {
   "cell_type": "markdown",
   "metadata": {},
   "source": [
    "Now that we have a baseline look at the estimate, let's look at how we can use other features in the dataset to enhance our understanding.\n",
    "\n",
    "First, let's take a look at how credit history impacts credit risk. We can start by looking at the different possible values that this column has using the `value_counts()` method."
   ]
  },
  {
   "cell_type": "code",
   "execution_count": 13,
   "metadata": {},
   "outputs": [
    {
     "data": {
      "text/plain": [
       "credit_history\n",
       "existing_credit_paid    530\n",
       "critical_account        293\n",
       "delay_in_paying          88\n",
       "all_credit_paid          49\n",
       "no_credit_taken          40\n",
       "Name: count, dtype: int64"
      ]
     },
     "execution_count": 13,
     "metadata": {},
     "output_type": "execute_result"
    }
   ],
   "source": [
    "credit[\"credit_history\"].value_counts()"
   ]
  },
  {
   "cell_type": "markdown",
   "metadata": {},
   "source": [
    "We can see that there are 5 different possible values for `credit_history`. Let's take the top 3 and compare their survival curves."
   ]
  },
  {
   "cell_type": "markdown",
   "metadata": {
    "deletable": false,
    "editable": false
   },
   "source": [
    "**Question 1.2:** Use `KaplanMeierFitter()` to generate survival curves for the top 3 categories in `credit_history` and then plot the curves on the same graph. \n"
   ]
  },
  {
   "cell_type": "code",
   "execution_count": 14,
   "metadata": {
    "tags": []
   },
   "outputs": [
    {
     "data": {
      "image/png": "[encoded data removed]",
      "text/plain": [
       "<Figure size 1200x600 with 1 Axes>"
      ]
     },
     "metadata": {},
     "output_type": "display_data"
    }
   ],
   "source": [
    "# Group 1: existing_credit_paid\n",
    "kmf_ch1 = KaplanMeierFitter() \n",
    "T1 = credit[credit['credit_history'] == 'existing_credit_paid']['duration']\n",
    "E1 = credit[credit['credit_history'] == 'existing_credit_paid']['full_repaid']\n",
    "kmf_ch1.fit(T1, E1, label='Existing Credit Paid Off')   \n",
    "ax = kmf_ch1.plot(ci_show=False)\n",
    "\n",
    "# Group 2: critical_account\n",
    "kmf_ch2 = KaplanMeierFitter() \n",
    "T2 = credit[credit['credit_history'] == 'critical_account']['duration']\n",
    "E2 = credit[credit['credit_history'] == 'critical_account']['full_repaid']\n",
    "kmf_ch2.fit(T2, E2, label='Critical Account/Other Credits Existing')   \n",
    "ax = kmf_ch2.plot(ci_show=False)\n",
    "\n",
    "# Group 3: delay_in_paying \n",
    "kmf_ch3 = KaplanMeierFitter() \n",
    "T3 = credit[credit['credit_history'] == 'delay_in_paying']['duration']\n",
    "E3 = credit[credit['credit_history'] == 'delay_in_paying']['full_repaid']\n",
    "kmf_ch3.fit(T3, E3, label='Past Delay in Paying Off Credit')   \n",
    "ax = kmf_ch3.plot(ci_show=False)\n",
    "\n",
    "plt.title(\"Debt Duration and Credit History Survival Curve\")\n",
    "plt.ylabel('Likelihood of Survival');"
   ]
  },
  {
   "cell_type": "code",
   "execution_count": 15,
   "metadata": {
    "deletable": false,
    "editable": false
   },
   "outputs": [
    {
     "data": {
      "text/html": [
       "<p><strong><pre style='display: inline;'>q1_2</pre></strong> passed! 🙌</p>"
      ],
      "text/plain": [
       "q1_2 results: All test cases passed!"
      ]
     },
     "execution_count": 15,
     "metadata": {},
     "output_type": "execute_result"
    }
   ],
   "source": [
    "grader.check(\"q1_2\")"
   ]
  },
  {
   "cell_type": "markdown",
   "metadata": {
    "deletable": false,
    "editable": false
   },
   "source": [
    "<!-- BEGIN QUESTION -->\n",
    "\n",
    "**Question 1.3:** Does the result of the graph above align with your intuition? Why or why not?"
   ]
  },
  {
   "cell_type": "markdown",
   "metadata": {},
   "source": [
    "In the graph, I find that borrowers with past delays in paying off credit have a lower survival rate than others, indicating that they are more likely not to pay off their loans as quickly. This intuitively makes sense: If you previously had issues paying off your debt, you might still have some financial struggles and thus would be slower to pay off your loan. This could reasonably be used to classify a loaner as one of higher risk.\n",
    "\n",
    "The critical account borrowers have the lowest survival rate, i.e., they are the quickest to pay off their loan. I have a hard time figuring out exactly what is meant by _Critical Account/Other Credits Existing_ as this is not clear from the limited description provided in the UCI [documentation](https://archive.ics.uci.edu/dataset/144/statlog+german+credit+data) or the GitHub [documentation](https://square.github.io/pysurvival/tutorials/credit_risk.html) other than they either have other credits existing at other banks or have the been classified as a _critical account_ – whatever that means. I do not have any specific intuition for why people with credits existing in other banks would be quicker to pay off their loan other than that they might have a better credit score and thus easily can get a loan elsewhere. However, the name _critical account_ would indicate that they are not in a good financial situation and thus would be slower to pay off their loan."
   ]
  },
  {
   "cell_type": "markdown",
   "metadata": {
    "deletable": false,
    "editable": false
   },
   "source": [
    "<!-- END QUESTION -->\n",
    "\n",
    "You should see that those with prior delays in paying off their credit are more likely to pay their debt slower and therefore are deemed a credit risk sooner. Does this result align with your intuition?"
   ]
  },
  {
   "cell_type": "markdown",
   "metadata": {},
   "source": [
    "### Telephone Ownership\n",
    "\n",
    "Now that we have seen an example of how to use the `lifelines` package, let's look at how telephone ownership impacts credit risk. \n",
    "\n",
    "Let's start by using the `value_counts` on the `telephone` column of the `credit` dataframe."
   ]
  },
  {
   "cell_type": "code",
   "execution_count": 16,
   "metadata": {},
   "outputs": [
    {
     "data": {
      "text/plain": [
       "telephone\n",
       "0    596\n",
       "1    404\n",
       "Name: count, dtype: int64"
      ]
     },
     "execution_count": 16,
     "metadata": {},
     "output_type": "execute_result"
    }
   ],
   "source": [
    "credit[\"telephone\"].value_counts()"
   ]
  },
  {
   "cell_type": "markdown",
   "metadata": {
    "deletable": false,
    "editable": false
   },
   "source": [
    "**Question 1.3:** Use `KaplanMeierFitter()` to generate survival curves for the both categories in `telephone` and then plot the curves on the same graph. \n",
    "\n",
    "*Note:* You must fit `kmf_has_phones` and `kmf_no_phones` in order to pass the autograder."
   ]
  },
  {
   "cell_type": "code",
   "execution_count": 17,
   "metadata": {
    "tags": []
   },
   "outputs": [
    {
     "data": {
      "image/png": "[encoded data removed]",
      "text/plain": [
       "<Figure size 1200x600 with 1 Axes>"
      ]
     },
     "metadata": {},
     "output_type": "display_data"
    }
   ],
   "source": [
    "kmf_has_phones = KaplanMeierFitter()\n",
    "T4 = credit[credit['telephone'] == 1]['duration']\n",
    "E4 = credit[credit['telephone'] == 1]['full_repaid']\n",
    "kmf_has_phones.fit(T4, E4, label='Has Telephone')\n",
    "ax = kmf_has_phones.plot(ci_show=False)\n",
    "\n",
    "kmf_no_phones = KaplanMeierFitter() \n",
    "T5 = credit[credit['telephone'] == 0]['duration']\n",
    "E5 = credit[credit['telephone'] == 0]['full_repaid']\n",
    "kmf_no_phones.fit(T5, E5, label='No Telephone')\n",
    "ax = kmf_no_phones.plot(ci_show=False)\n",
    "\n",
    "plt.title(\"Debt Duration and Telephone Ownership\");"
   ]
  },
  {
   "cell_type": "code",
   "execution_count": 18,
   "metadata": {
    "deletable": false,
    "editable": false
   },
   "outputs": [
    {
     "data": {
      "text/html": [
       "<p><strong><pre style='display: inline;'>q1_3</pre></strong> passed! 🌈</p>"
      ],
      "text/plain": [
       "q1_3 results: All test cases passed!"
      ]
     },
     "execution_count": 18,
     "metadata": {},
     "output_type": "execute_result"
    }
   ],
   "source": [
    "grader.check(\"q1_3\")"
   ]
  },
  {
   "cell_type": "markdown",
   "metadata": {
    "deletable": false,
    "editable": false
   },
   "source": [
    "**Question 1.4:** According to the survival curves, those who have a phone are _________ to fully repay their loans. \n",
    "\n",
    "Fill in the blank with either _faster_ or _slower_.\n",
    "\n",
    "1. faster\n",
    "2. slower\n",
    "\n",
    "Assign the number corresponding to your answer to `q1_4` below."
   ]
  },
  {
   "cell_type": "code",
   "execution_count": 19,
   "metadata": {
    "tags": []
   },
   "outputs": [],
   "source": [
    "q1_4 = 2"
   ]
  },
  {
   "cell_type": "code",
   "execution_count": 20,
   "metadata": {
    "deletable": false,
    "editable": false
   },
   "outputs": [
    {
     "data": {
      "text/html": [
       "<p><strong><pre style='display: inline;'>q1_4</pre></strong> passed! 🍀</p>"
      ],
      "text/plain": [
       "q1_4 results: All test cases passed!"
      ]
     },
     "execution_count": 20,
     "metadata": {},
     "output_type": "execute_result"
    }
   ],
   "source": [
    "grader.check(\"q1_4\")"
   ]
  },
  {
   "cell_type": "markdown",
   "metadata": {
    "deletable": false,
    "editable": false
   },
   "source": [
    "<!-- BEGIN QUESTION -->\n",
    "\n",
    "**Question 1.5:** Does this align with your intuition? What are some possible reasons for this to be the case?"
   ]
  },
  {
   "cell_type": "markdown",
   "metadata": {},
   "source": [
    "I find that people with telephones are slower to pay off their loans, which does not make much sense. There must be something else going on here. One possible explanation could be that people with telephones have a larger loan than those without one. We are here only considering the number of months a given loaner takes to pay off their loan—not the size of the loan itself. It seems intuitive that a larger loan implies a longer time to pay it off.\n",
    "Plotting a histogram split on whether or not the loaner has a telephone shows that many people without a telephone tend to have a smaller loan than those with a telephone. The smaller loan would make it easier to pay back, and additionally, it is plausible that this could very well be the reason why people with telephones take longer to pay back their debt. "
   ]
  },
  {
   "cell_type": "code",
   "execution_count": 21,
   "metadata": {},
   "outputs": [
    {
     "data": {
      "image/png": "[encoded data removed]",
      "text/plain": [
       "<Figure size 1200x600 with 1 Axes>"
      ]
     },
     "metadata": {},
     "output_type": "display_data"
    }
   ],
   "source": [
    "sb.histplot(data=credit, x=\"amount\", hue=\"telephone\", bins=20)\n",
    "plt.title('Distribution of amount by telephone ownership')\n",
    "plt.show()"
   ]
  },
  {
   "cell_type": "markdown",
   "metadata": {},
   "source": [
    "Looking further into this correlation with a scatterplot of the loan size and the duration of the loan shows that there is a positive correlation between the two and that people without a phone, though slightly faster at paying back small loans, are, in fact, slower when paying back larger loans."
   ]
  },
  {
   "cell_type": "code",
   "execution_count": 22,
   "metadata": {},
   "outputs": [
    {
     "name": "stderr",
     "output_type": "stream",
     "text": [
      "/Users/johanoelgaard/anaconda3/lib/python3.11/site-packages/seaborn/axisgrid.py:118: UserWarning: The figure layout has changed to tight\n",
      "  self._figure.tight_layout(*args, **kwargs)\n"
     ]
    },
    {
     "data": {
      "image/png": "[encoded data removed]",
      "text/plain": [
       "<Figure size 1000x500 with 1 Axes>"
      ]
     },
     "metadata": {},
     "output_type": "display_data"
    }
   ],
   "source": [
    "sb.lmplot(data=credit, x='amount', y='duration', hue='telephone', facet_kws={'legend_out':False}, aspect=2)\n",
    "plt.title('Scatterplot with linear fit of duration and amount split on with telephone ownership')\n",
    "plt.show()"
   ]
  },
  {
   "cell_type": "markdown",
   "metadata": {},
   "source": [
    "Thus, though it might not seem intuitive at first glance – it does make sense that people with telephones are slower to pay off their loans as they are more likely to have smaller loans that they will pay off quickly."
   ]
  },
  {
   "cell_type": "markdown",
   "metadata": {
    "deletable": false,
    "editable": false
   },
   "source": [
    "<!-- END QUESTION -->\n",
    "\n",
    "You can use the following cell as a scratch cell to play around with the `credit` data. Some strategies to come up with possible explanations involve using the `groupby()` method to see if there are any other differences between phone owners and non-phone owners. You can also use matplotlib's `plt.scatter()` method to visualize the data to identify differences. Another way is to look at a few of the data points for both phone owners and non-phone owners. "
   ]
  },
  {
   "cell_type": "markdown",
   "metadata": {
    "tags": []
   },
   "source": [
    "---\n",
    "## Survival Regression\n",
    "\n",
    "Now let's regress other covariates on duration. In this example, we'll be using Cox's proportional hazard model for regression. Cox’s proportional hazard model states that the log-hazard of an individual is a linear function of their covariates and a population-level baseline hazard that changes over time. Mathematically:\n",
    "\n",
    "$$\\underbrace{h(t | x)}_{\\text{hazard}} = \\overbrace{b_0(t)}^{\\text{baseline hazard}} \\underbrace{\\exp \\overbrace{\\left(\\sum_{i=1}^n b_i (x_i - \\overline{x_i})\\right)}^{\\text{log-partial hazard}}}_ {\\text{partial hazard}}$$\n",
    "\n",
    "Don't worry if you don't fully understand how to math works. It is important to note that the Cox model _does not use an intercept term_ as the baseline hazard represents the intercept. Let's walkthrough an example of survival regression in action."
   ]
  },
  {
   "cell_type": "code",
   "execution_count": 23,
   "metadata": {
    "tags": []
   },
   "outputs": [],
   "source": [
    "from lifelines.datasets import load_rossi\n",
    "from lifelines import CoxPHFitter\n",
    "\n",
    "cph = CoxPHFitter()\n",
    "cph.fit(credit, duration_col='duration', event_col='full_repaid', formula =\"age + present_residence\");"
   ]
  },
  {
   "cell_type": "markdown",
   "metadata": {},
   "source": [
    "Here we have fit a model that looks like\n",
    "\n",
    "$$duration = \\beta_1 * age + \\beta_2 * present\\_residence$$\n",
    "\n",
    "We achieve this by adding our right side of the equation to the `formula` parameter in the format of `\"variable_1 + variable_2\"` as shown above.\n",
    "\n",
    "Remember that there is no intercept term. We can look at the regression output using the `summary()` method. This regression output should look similar to other ones we have seen in this course and other econometric classes."
   ]
  },
  {
   "cell_type": "code",
   "execution_count": 24,
   "metadata": {},
   "outputs": [
    {
     "data": {
      "text/html": [
       "<div>\n",
       "<style scoped>\n",
       "    .dataframe tbody tr th:only-of-type {\n",
       "        vertical-align: middle;\n",
       "    }\n",
       "\n",
       "    .dataframe tbody tr th {\n",
       "        vertical-align: top;\n",
       "    }\n",
       "\n",
       "    .dataframe thead th {\n",
       "        text-align: right;\n",
       "    }\n",
       "</style>\n",
       "<table border=\"1\" class=\"dataframe\">\n",
       "  <thead>\n",
       "    <tr style=\"text-align: right;\">\n",
       "      <th></th>\n",
       "      <th>coef</th>\n",
       "      <th>exp(coef)</th>\n",
       "      <th>se(coef)</th>\n",
       "      <th>coef lower 95%</th>\n",
       "      <th>coef upper 95%</th>\n",
       "      <th>exp(coef) lower 95%</th>\n",
       "      <th>exp(coef) upper 95%</th>\n",
       "      <th>cmp to</th>\n",
       "      <th>z</th>\n",
       "      <th>p</th>\n",
       "      <th>-log2(p)</th>\n",
       "    </tr>\n",
       "    <tr>\n",
       "      <th>covariate</th>\n",
       "      <th></th>\n",
       "      <th></th>\n",
       "      <th></th>\n",
       "      <th></th>\n",
       "      <th></th>\n",
       "      <th></th>\n",
       "      <th></th>\n",
       "      <th></th>\n",
       "      <th></th>\n",
       "      <th></th>\n",
       "      <th></th>\n",
       "    </tr>\n",
       "  </thead>\n",
       "  <tbody>\n",
       "    <tr>\n",
       "      <th>age</th>\n",
       "      <td>0.009584</td>\n",
       "      <td>1.009630</td>\n",
       "      <td>0.003445</td>\n",
       "      <td>0.002831</td>\n",
       "      <td>0.016337</td>\n",
       "      <td>1.002835</td>\n",
       "      <td>1.016471</td>\n",
       "      <td>0.0</td>\n",
       "      <td>2.781762</td>\n",
       "      <td>0.005406</td>\n",
       "      <td>7.531096</td>\n",
       "    </tr>\n",
       "    <tr>\n",
       "      <th>present_residence</th>\n",
       "      <td>-0.051758</td>\n",
       "      <td>0.949559</td>\n",
       "      <td>0.035235</td>\n",
       "      <td>-0.120817</td>\n",
       "      <td>0.017301</td>\n",
       "      <td>0.886196</td>\n",
       "      <td>1.017451</td>\n",
       "      <td>0.0</td>\n",
       "      <td>-1.468953</td>\n",
       "      <td>0.141846</td>\n",
       "      <td>2.817608</td>\n",
       "    </tr>\n",
       "  </tbody>\n",
       "</table>\n",
       "</div>"
      ],
      "text/plain": [
       "                       coef  exp(coef)  se(coef)  coef lower 95%  \\\n",
       "covariate                                                          \n",
       "age                0.009584   1.009630  0.003445        0.002831   \n",
       "present_residence -0.051758   0.949559  0.035235       -0.120817   \n",
       "\n",
       "                   coef upper 95%  exp(coef) lower 95%  exp(coef) upper 95%  \\\n",
       "covariate                                                                     \n",
       "age                      0.016337             1.002835             1.016471   \n",
       "present_residence        0.017301             0.886196             1.017451   \n",
       "\n",
       "                   cmp to         z         p  -log2(p)  \n",
       "covariate                                                \n",
       "age                   0.0  2.781762  0.005406  7.531096  \n",
       "present_residence     0.0 -1.468953  0.141846  2.817608  "
      ]
     },
     "execution_count": 24,
     "metadata": {},
     "output_type": "execute_result"
    }
   ],
   "source": [
    "cph.summary"
   ]
  },
  {
   "cell_type": "markdown",
   "metadata": {},
   "source": [
    "Using the coefficients from the table, we can see that our model from above has coefficients:\n",
    "\n",
    "$$duration = \\underbrace{0.009584}_{(0.003445)}* age+  \\underbrace{-0.051758}_{(0.035235)}* present\\_residence$$\n",
    "\n",
    "What does this mean in the context of debt duration and credit risk? For every additional year in age, the debt duration increases by 0.009584 month. For every additional year in the present residence, the debt duration is lowered by 0.051758 month. \n",
    "\n",
    "Intuitively, this makes sense, as people who are older and may have retired may be unable to make their payments as fast. Similarly, for those who have lived in their present residence for a longer time may indicate that they are better able to make their payments and not default."
   ]
  },
  {
   "cell_type": "markdown",
   "metadata": {},
   "source": [
    "---"
   ]
  },
  {
   "cell_type": "markdown",
   "metadata": {},
   "source": [
    "Now's explore how telephone ownership status impacts credit default risk. "
   ]
  },
  {
   "cell_type": "markdown",
   "metadata": {
    "deletable": false,
    "editable": false
   },
   "source": [
    "**Question 2.1:** Use the `age` and `telephone` variables in a regression model. Remember to put a `+` in between each variable in the forumla. Reference the example above if you need a quick reminder on the syntax."
   ]
  },
  {
   "cell_type": "code",
   "execution_count": 25,
   "metadata": {
    "tags": []
   },
   "outputs": [
    {
     "data": {
      "text/html": [
       "<div>\n",
       "<style scoped>\n",
       "    .dataframe tbody tr th:only-of-type {\n",
       "        vertical-align: middle;\n",
       "    }\n",
       "\n",
       "    .dataframe tbody tr th {\n",
       "        vertical-align: top;\n",
       "    }\n",
       "\n",
       "    .dataframe thead th {\n",
       "        text-align: right;\n",
       "    }\n",
       "</style>\n",
       "<table border=\"1\" class=\"dataframe\">\n",
       "  <thead>\n",
       "    <tr style=\"text-align: right;\">\n",
       "      <th></th>\n",
       "      <th>coef</th>\n",
       "      <th>exp(coef)</th>\n",
       "      <th>se(coef)</th>\n",
       "      <th>coef lower 95%</th>\n",
       "      <th>coef upper 95%</th>\n",
       "      <th>exp(coef) lower 95%</th>\n",
       "      <th>exp(coef) upper 95%</th>\n",
       "      <th>cmp to</th>\n",
       "      <th>z</th>\n",
       "      <th>p</th>\n",
       "      <th>-log2(p)</th>\n",
       "    </tr>\n",
       "    <tr>\n",
       "      <th>covariate</th>\n",
       "      <th></th>\n",
       "      <th></th>\n",
       "      <th></th>\n",
       "      <th></th>\n",
       "      <th></th>\n",
       "      <th></th>\n",
       "      <th></th>\n",
       "      <th></th>\n",
       "      <th></th>\n",
       "      <th></th>\n",
       "      <th></th>\n",
       "    </tr>\n",
       "  </thead>\n",
       "  <tbody>\n",
       "    <tr>\n",
       "      <th>age</th>\n",
       "      <td>0.009708</td>\n",
       "      <td>1.009755</td>\n",
       "      <td>0.003325</td>\n",
       "      <td>0.003190</td>\n",
       "      <td>0.016225</td>\n",
       "      <td>1.003195</td>\n",
       "      <td>1.016357</td>\n",
       "      <td>0.0</td>\n",
       "      <td>2.919412</td>\n",
       "      <td>0.003507</td>\n",
       "      <td>8.155578</td>\n",
       "    </tr>\n",
       "    <tr>\n",
       "      <th>telephone</th>\n",
       "      <td>-0.245381</td>\n",
       "      <td>0.782407</td>\n",
       "      <td>0.077616</td>\n",
       "      <td>-0.397505</td>\n",
       "      <td>-0.093256</td>\n",
       "      <td>0.671995</td>\n",
       "      <td>0.910960</td>\n",
       "      <td>0.0</td>\n",
       "      <td>-3.161475</td>\n",
       "      <td>0.001570</td>\n",
       "      <td>9.315277</td>\n",
       "    </tr>\n",
       "  </tbody>\n",
       "</table>\n",
       "</div>"
      ],
      "text/plain": [
       "               coef  exp(coef)  se(coef)  coef lower 95%  coef upper 95%  \\\n",
       "covariate                                                                  \n",
       "age        0.009708   1.009755  0.003325        0.003190        0.016225   \n",
       "telephone -0.245381   0.782407  0.077616       -0.397505       -0.093256   \n",
       "\n",
       "           exp(coef) lower 95%  exp(coef) upper 95%  cmp to         z  \\\n",
       "covariate                                                               \n",
       "age                   1.003195             1.016357     0.0  2.919412   \n",
       "telephone             0.671995             0.910960     0.0 -3.161475   \n",
       "\n",
       "                  p  -log2(p)  \n",
       "covariate                      \n",
       "age        0.003507  8.155578  \n",
       "telephone  0.001570  9.315277  "
      ]
     },
     "execution_count": 25,
     "metadata": {},
     "output_type": "execute_result"
    }
   ],
   "source": [
    "cph = CoxPHFitter()\n",
    "cph.fit(credit, duration_col='duration', event_col='full_repaid', formula =\"age + telephone\")\n",
    "cph.summary"
   ]
  },
  {
   "cell_type": "code",
   "execution_count": 26,
   "metadata": {
    "deletable": false,
    "editable": false
   },
   "outputs": [
    {
     "data": {
      "text/html": [
       "<p><strong><pre style='display: inline;'>q2_1</pre></strong> passed! 🚀</p>"
      ],
      "text/plain": [
       "q2_1 results: All test cases passed!"
      ]
     },
     "execution_count": 26,
     "metadata": {},
     "output_type": "execute_result"
    }
   ],
   "source": [
    "grader.check(\"q2_1\")"
   ]
  },
  {
   "cell_type": "markdown",
   "metadata": {
    "deletable": false,
    "editable": false
   },
   "source": [
    "<!-- BEGIN QUESTION -->\n",
    "\n",
    "**Question 2.2:** In the cell below, explain the regression summary. How do `age` and `telephone` affect loan duration? Are the findings significant? How do you interpret these findings in relation to your answer from 1.5?"
   ]
  },
  {
   "cell_type": "markdown",
   "metadata": {},
   "source": [
    "I find \n",
    "$$duration = \\underbrace{0.009708}_{(0.003325)} \\cdot age  -\\underbrace{0.245381}_{(0.077616)} \\cdot telephone$$\n",
    "Thus, the coefficient for age is 0.009708, and the coefficient for telephone is -0.245381. The p-values for both coefficients are less than 0.05, indicating that both coefficients are significant. The coefficient for age is again positive, indicating that as age increases, the duration of the loan increases – this could make sense from the intuition that older people have a harder time paying off their loans, or it could be a relation similar to what I mentioned in Q1.5 older people might have larger loans. The coefficient for telephone is negative, indicating that those with a telephone are quicker to pay off their loan. This is interesting as it contradicts the survival curves from question 1.3. However, it does align with the intuition I mentioned in Q1.5. People with telephones have larger loans and, thus, take longer to pay them off, but especially for larger loans, they are quicker to pay them off than those without a telephone."
   ]
  },
  {
   "cell_type": "markdown",
   "metadata": {
    "deletable": false,
    "editable": false
   },
   "source": [
    "<!-- END QUESTION -->\n",
    "\n",
    " "
   ]
  },
  {
   "cell_type": "markdown",
   "metadata": {},
   "source": [
    "**Congratulations!** You have successfully finished lab 8."
   ]
  },
  {
   "cell_type": "markdown",
   "metadata": {},
   "source": [
    "---\n",
    "## Feedback"
   ]
  },
  {
   "cell_type": "markdown",
   "metadata": {
    "deletable": false,
    "editable": false
   },
   "source": [
    "**Question 3:** Please fill out this short [feedback form](https://forms.gle/rSyFCqkvcPxKn5ZV9) to let us know your thoughts about this lab! We really appreciate your opinions and feedback! At the end of the Google form, you should see a codeword. Assign the codeword to the variable `codeword` below. "
   ]
  },
  {
   "cell_type": "code",
   "execution_count": 27,
   "metadata": {
    "tags": []
   },
   "outputs": [],
   "source": [
    "codeword = 'Dune'"
   ]
  },
  {
   "cell_type": "code",
   "execution_count": 28,
   "metadata": {
    "deletable": false,
    "editable": false
   },
   "outputs": [
    {
     "data": {
      "text/html": [
       "<p><strong><pre style='display: inline;'>q3</pre></strong> passed! 🙌</p>"
      ],
      "text/plain": [
       "q3 results: All test cases passed!"
      ]
     },
     "execution_count": 28,
     "metadata": {},
     "output_type": "execute_result"
    }
   ],
   "source": [
    "grader.check(\"q3\")"
   ]
  },
  {
   "cell_type": "markdown",
   "metadata": {},
   "source": [
    " "
   ]
  },
  {
   "cell_type": "markdown",
   "metadata": {
    "deletable": false,
    "editable": false
   },
   "source": [
    "## Submission\n",
    "\n",
    "Make sure you have run all cells in your notebook in order before running the cell below, so that all images/graphs appear in the output. The cell below will generate a zip file for you to submit. **Please save before exporting!**"
   ]
  },
  {
   "cell_type": "code",
   "execution_count": 29,
   "metadata": {
    "deletable": false,
    "editable": false
   },
   "outputs": [
    {
     "name": "stderr",
     "output_type": "stream",
     "text": [
      "/Users/johanoelgaard/anaconda3/lib/python3.11/site-packages/nbconvert/utils/pandoc.py:51: RuntimeWarning: You are using an unsupported version of pandoc (3.1.11.1).\n",
      "Your version must be at least (1.12.1) but less than (3.0.0).\n",
      "Refer to https://pandoc.org/installing.html.\n",
      "Continuing with doubts...\n",
      "  check_pandoc_version()\n"
     ]
    },
    {
     "name": "stdout",
     "output_type": "stream",
     "text": [
      "Running your submission against local test cases...\n",
      "\n",
      "\n",
      "Your submission received the following results when run against available test cases:\n",
      "\n",
      "    q1_1 results: All test cases passed!\n",
      "\n",
      "    q1_2 results: All test cases passed!\n",
      "\n",
      "    q1_3 results: All test cases passed!\n",
      "\n",
      "    q1_4 results: All test cases passed!\n",
      "\n",
      "    q2_1 results: All test cases passed!\n",
      "\n",
      "    q3 results: All test cases passed!\n"
     ]
    },
    {
     "data": {
      "text/html": [
       "\n",
       "                    <p>\n",
       "                        Your submission has been exported. Click\n",
       "                        <a href=\"lab08_2024_03_09T17_59_15_458156.zip\" download=\"lab08_2024_03_09T17_59_15_458156.zip\" target=\"_blank\">here</a> to download\n",
       "                        the zip file.\n",
       "                    </p>\n",
       "                "
      ],
      "text/plain": [
       "<IPython.core.display.HTML object>"
      ]
     },
     "metadata": {},
     "output_type": "display_data"
    }
   ],
   "source": [
    "# Save your notebook first, then run this cell to export your submission.\n",
    "grader.export(run_tests=True)"
   ]
  },
  {
   "cell_type": "markdown",
   "metadata": {},
   "source": [
    " "
   ]
  }
 ],
 "metadata": {
  "kernelspec": {
   "display_name": "Python 3 (ipykernel)",
   "language": "python",
   "name": "python3"
  },
  "language_info": {
   "codemirror_mode": {
    "name": "ipython",
    "version": 3
   },
   "file_extension": ".py",
   "mimetype": "text/x-python",
   "name": "python",
   "nbconvert_exporter": "python",
   "pygments_lexer": "ipython3",
   "version": "3.11.7"
  },
  "otter": {
   "OK_FORMAT": true,
   "export_pdf_failure_message": "PDF did not generate, please submit screenshots for questions 2.2, 2.3, 3.2 and 3.3.",
   "require_no_pdf_confirmation": true,
   "tests": {
    "q1_1": {
     "name": "q1_1",
     "points": null,
     "suites": [
      {
       "cases": [
        {
         "code": ">>> assert telco.shape == (7043, 21)\n",
         "hidden": false,
         "locked": false
        },
        {
         "code": ">>> assert telco['Churn'].dtype in ['int', 'int32', 'int64'] and telco['Churn'].nunique() == 2\n",
         "hidden": false,
         "locked": false
        },
        {
         "code": ">>> assert telco['TotalCharges'].dtype in ['float', 'float32', 'float64']\n",
         "hidden": false,
         "locked": false
        },
        {
         "code": ">>> assert telco['TotalCharges'].isna().sum() == 0\n",
         "hidden": false,
         "locked": false
        },
        {
         "code": ">>> assert np.isclose(np.mean(telco['TotalCharges']), 2281.9169281556156)\n",
         "hidden": false,
         "locked": false
        }
       ],
       "scored": true,
       "setup": "",
       "teardown": "",
       "type": "doctest"
      }
     ]
    },
    "q1_2": {
     "name": "q1_2",
     "points": null,
     "suites": [
      {
       "cases": [
        {
         "code": ">>> assert kmf_ch1.survival_function_.shape == (30, 1)\n",
         "hidden": false,
         "locked": false
        },
        {
         "code": ">>> assert kmf_ch2.survival_function_.shape == (27, 1)\n",
         "hidden": false,
         "locked": false
        },
        {
         "code": ">>> assert kmf_ch3.survival_function_.shape == (19, 1)\n",
         "hidden": false,
         "locked": false
        }
       ],
       "scored": true,
       "setup": "",
       "teardown": "",
       "type": "doctest"
      }
     ]
    },
    "q1_3": {
     "name": "q1_3",
     "points": null,
     "suites": [
      {
       "cases": [
        {
         "code": ">>> assert kmf_has_phones.survival_function_.shape == (28, 1)\n",
         "hidden": false,
         "locked": false
        },
        {
         "code": ">>> assert kmf_no_phones.survival_function_.shape == (31, 1)\n",
         "hidden": false,
         "locked": false
        }
       ],
       "scored": true,
       "setup": "",
       "teardown": "",
       "type": "doctest"
      }
     ]
    },
    "q1_4": {
     "name": "q1_4",
     "points": null,
     "suites": [
      {
       "cases": [
        {
         "code": ">>> assert q1_4 == 2\n",
         "hidden": false,
         "locked": false
        }
       ],
       "scored": true,
       "setup": "",
       "teardown": "",
       "type": "doctest"
      }
     ]
    },
    "q2_1": {
     "name": "q2_1",
     "points": null,
     "suites": [
      {
       "cases": [
        {
         "code": ">>> assert len(cph.params_) == 2\n",
         "hidden": false,
         "locked": false
        },
        {
         "code": ">>> assert np.isclose(cph.params_['age'], 0.009707513784471935)\n",
         "hidden": false,
         "locked": false
        },
        {
         "code": ">>> assert np.isclose(cph.params_['telephone'], -0.24538065756103947)\n",
         "hidden": false,
         "locked": false
        }
       ],
       "scored": true,
       "setup": "",
       "teardown": "",
       "type": "doctest"
      }
     ]
    },
    "q3": {
     "name": "q3",
     "points": null,
     "suites": [
      {
       "cases": [
        {
         "code": ">>> assert sum([ord(c) for c in codeword]) ^ 966984 == 966852\n",
         "hidden": false,
         "locked": false
        }
       ],
       "scored": true,
       "setup": "",
       "teardown": "",
       "type": "doctest"
      }
     ]
    }
   }
  }
 },
 "nbformat": 4,
 "nbformat_minor": 4
}
