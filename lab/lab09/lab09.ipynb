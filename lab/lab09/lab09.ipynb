{
 "cells": [
  {
   "cell_type": "code",
   "execution_count": 1,
   "id": "88c18235",
   "metadata": {
    "deletable": false,
    "editable": false
   },
   "outputs": [],
   "source": [
    "# Initialize Otter\n",
    "import otter\n",
    "grader = otter.Notebook(\"lab09.ipynb\")"
   ]
  },
  {
   "cell_type": "code",
   "execution_count": 2,
   "id": "a968a3f3",
   "metadata": {},
   "outputs": [],
   "source": [
    "import pandas as pd\n",
    "import numpy as np\n",
    "import seaborn as sns\n",
    "import matplotlib.pyplot as plt\n",
    "from scipy import stats\n",
    "%matplotlib inline\n",
    "import warnings\n",
    "warnings.filterwarnings(\"ignore\")"
   ]
  },
  {
   "cell_type": "markdown",
   "id": "3ced227f",
   "metadata": {},
   "source": [
    "# Lab 9: Time Series\n",
    "### Using Zillow to Predict CPI\n",
    "In this notebook, we're going to try to use data from Zillow (specifically, their ZORI index) to see if we can use it to predict the US consumer price index."
   ]
  },
  {
   "cell_type": "markdown",
   "id": "aebadc1a",
   "metadata": {},
   "source": [
    "---\n",
    "## Part 1: Introduction and Data Processing"
   ]
  },
  {
   "cell_type": "markdown",
   "id": "6f7c08f7",
   "metadata": {},
   "source": [
    "### Dataset 1: ZORI"
   ]
  },
  {
   "cell_type": "markdown",
   "id": "c173644a",
   "metadata": {},
   "source": [
    "We've downloaded the ZORI index for you from [Zillow Research Data](https://www.zillow.com/research/data/). Run the following cell to display information about the ZORI index. What can you tell from the data?"
   ]
  },
  {
   "cell_type": "code",
   "execution_count": 3,
   "id": "ae8c3f41",
   "metadata": {},
   "outputs": [
    {
     "data": {
      "text/html": [
       "<div>\n",
       "<style scoped>\n",
       "    .dataframe tbody tr th:only-of-type {\n",
       "        vertical-align: middle;\n",
       "    }\n",
       "\n",
       "    .dataframe tbody tr th {\n",
       "        vertical-align: top;\n",
       "    }\n",
       "\n",
       "    .dataframe thead th {\n",
       "        text-align: right;\n",
       "    }\n",
       "</style>\n",
       "<table border=\"1\" class=\"dataframe\">\n",
       "  <thead>\n",
       "    <tr style=\"text-align: right;\">\n",
       "      <th></th>\n",
       "      <th>RegionID</th>\n",
       "      <th>SizeRank</th>\n",
       "      <th>RegionName</th>\n",
       "      <th>RegionType</th>\n",
       "      <th>StateName</th>\n",
       "      <th>2015-03-31</th>\n",
       "      <th>2015-04-30</th>\n",
       "      <th>2015-05-31</th>\n",
       "      <th>2015-06-30</th>\n",
       "      <th>2015-07-31</th>\n",
       "      <th>...</th>\n",
       "      <th>2021-12-31</th>\n",
       "      <th>2022-01-31</th>\n",
       "      <th>2022-02-28</th>\n",
       "      <th>2022-03-31</th>\n",
       "      <th>2022-04-30</th>\n",
       "      <th>2022-05-31</th>\n",
       "      <th>2022-06-30</th>\n",
       "      <th>2022-07-31</th>\n",
       "      <th>2022-08-31</th>\n",
       "      <th>2022-09-30</th>\n",
       "    </tr>\n",
       "  </thead>\n",
       "  <tbody>\n",
       "    <tr>\n",
       "      <th>0</th>\n",
       "      <td>102001</td>\n",
       "      <td>0</td>\n",
       "      <td>United States</td>\n",
       "      <td>country</td>\n",
       "      <td>NaN</td>\n",
       "      <td>1370.301806</td>\n",
       "      <td>1381.971304</td>\n",
       "      <td>1392.389090</td>\n",
       "      <td>1403.203509</td>\n",
       "      <td>1408.901384</td>\n",
       "      <td>...</td>\n",
       "      <td>1928.945108</td>\n",
       "      <td>1937.304351</td>\n",
       "      <td>1955.272060</td>\n",
       "      <td>1971.256988</td>\n",
       "      <td>1997.731260</td>\n",
       "      <td>2019.752839</td>\n",
       "      <td>2044.662959</td>\n",
       "      <td>2065.275748</td>\n",
       "      <td>2078.546078</td>\n",
       "      <td>2084.084210</td>\n",
       "    </tr>\n",
       "    <tr>\n",
       "      <th>1</th>\n",
       "      <td>394913</td>\n",
       "      <td>1</td>\n",
       "      <td>New York, NY</td>\n",
       "      <td>msa</td>\n",
       "      <td>NY</td>\n",
       "      <td>2506.196326</td>\n",
       "      <td>2533.311441</td>\n",
       "      <td>2552.989317</td>\n",
       "      <td>2570.501028</td>\n",
       "      <td>2573.663435</td>\n",
       "      <td>...</td>\n",
       "      <td>2957.725252</td>\n",
       "      <td>2984.899451</td>\n",
       "      <td>3032.151836</td>\n",
       "      <td>3082.959790</td>\n",
       "      <td>3142.381057</td>\n",
       "      <td>3201.035347</td>\n",
       "      <td>3258.611614</td>\n",
       "      <td>3308.938574</td>\n",
       "      <td>3327.647323</td>\n",
       "      <td>3321.271717</td>\n",
       "    </tr>\n",
       "    <tr>\n",
       "      <th>2</th>\n",
       "      <td>753899</td>\n",
       "      <td>2</td>\n",
       "      <td>Los Angeles, CA</td>\n",
       "      <td>msa</td>\n",
       "      <td>CA</td>\n",
       "      <td>1977.874325</td>\n",
       "      <td>1990.644815</td>\n",
       "      <td>2004.443160</td>\n",
       "      <td>2016.922137</td>\n",
       "      <td>2031.255505</td>\n",
       "      <td>...</td>\n",
       "      <td>2808.206899</td>\n",
       "      <td>2825.516662</td>\n",
       "      <td>2850.339483</td>\n",
       "      <td>2881.506596</td>\n",
       "      <td>2919.113666</td>\n",
       "      <td>2953.089197</td>\n",
       "      <td>2978.850604</td>\n",
       "      <td>2999.777869</td>\n",
       "      <td>3013.211794</td>\n",
       "      <td>3019.026316</td>\n",
       "    </tr>\n",
       "    <tr>\n",
       "      <th>3</th>\n",
       "      <td>394463</td>\n",
       "      <td>3</td>\n",
       "      <td>Chicago, IL</td>\n",
       "      <td>msa</td>\n",
       "      <td>IL</td>\n",
       "      <td>1478.149264</td>\n",
       "      <td>1490.961012</td>\n",
       "      <td>1502.702134</td>\n",
       "      <td>1528.952557</td>\n",
       "      <td>1535.997197</td>\n",
       "      <td>...</td>\n",
       "      <td>1795.629571</td>\n",
       "      <td>1808.471849</td>\n",
       "      <td>1823.778075</td>\n",
       "      <td>1843.010280</td>\n",
       "      <td>1865.307537</td>\n",
       "      <td>1890.513951</td>\n",
       "      <td>1911.437953</td>\n",
       "      <td>1930.811578</td>\n",
       "      <td>1939.370439</td>\n",
       "      <td>1941.933786</td>\n",
       "    </tr>\n",
       "    <tr>\n",
       "      <th>4</th>\n",
       "      <td>394514</td>\n",
       "      <td>4</td>\n",
       "      <td>Dallas, TX</td>\n",
       "      <td>msa</td>\n",
       "      <td>TX</td>\n",
       "      <td>1180.713035</td>\n",
       "      <td>1191.112125</td>\n",
       "      <td>1202.397600</td>\n",
       "      <td>1209.409429</td>\n",
       "      <td>1216.117716</td>\n",
       "      <td>...</td>\n",
       "      <td>1724.699775</td>\n",
       "      <td>1736.260930</td>\n",
       "      <td>1747.886285</td>\n",
       "      <td>1758.449166</td>\n",
       "      <td>1780.575633</td>\n",
       "      <td>1807.486899</td>\n",
       "      <td>1842.009269</td>\n",
       "      <td>1866.378789</td>\n",
       "      <td>1876.715983</td>\n",
       "      <td>1875.844643</td>\n",
       "    </tr>\n",
       "    <tr>\n",
       "      <th>...</th>\n",
       "      <td>...</td>\n",
       "      <td>...</td>\n",
       "      <td>...</td>\n",
       "      <td>...</td>\n",
       "      <td>...</td>\n",
       "      <td>...</td>\n",
       "      <td>...</td>\n",
       "      <td>...</td>\n",
       "      <td>...</td>\n",
       "      <td>...</td>\n",
       "      <td>...</td>\n",
       "      <td>...</td>\n",
       "      <td>...</td>\n",
       "      <td>...</td>\n",
       "      <td>...</td>\n",
       "      <td>...</td>\n",
       "      <td>...</td>\n",
       "      <td>...</td>\n",
       "      <td>...</td>\n",
       "      <td>...</td>\n",
       "      <td>...</td>\n",
       "    </tr>\n",
       "    <tr>\n",
       "      <th>574</th>\n",
       "      <td>394322</td>\n",
       "      <td>861</td>\n",
       "      <td>Altus, OK</td>\n",
       "      <td>msa</td>\n",
       "      <td>OK</td>\n",
       "      <td>404.816596</td>\n",
       "      <td>NaN</td>\n",
       "      <td>417.170690</td>\n",
       "      <td>NaN</td>\n",
       "      <td>NaN</td>\n",
       "      <td>...</td>\n",
       "      <td>NaN</td>\n",
       "      <td>NaN</td>\n",
       "      <td>NaN</td>\n",
       "      <td>735.821384</td>\n",
       "      <td>732.921061</td>\n",
       "      <td>771.810020</td>\n",
       "      <td>755.232683</td>\n",
       "      <td>810.606473</td>\n",
       "      <td>750.000000</td>\n",
       "      <td>821.649685</td>\n",
       "    </tr>\n",
       "    <tr>\n",
       "      <th>575</th>\n",
       "      <td>394687</td>\n",
       "      <td>869</td>\n",
       "      <td>Hood River, OR</td>\n",
       "      <td>msa</td>\n",
       "      <td>OR</td>\n",
       "      <td>NaN</td>\n",
       "      <td>NaN</td>\n",
       "      <td>NaN</td>\n",
       "      <td>708.148593</td>\n",
       "      <td>NaN</td>\n",
       "      <td>...</td>\n",
       "      <td>NaN</td>\n",
       "      <td>2039.794902</td>\n",
       "      <td>NaN</td>\n",
       "      <td>2061.477514</td>\n",
       "      <td>2053.911628</td>\n",
       "      <td>2293.863629</td>\n",
       "      <td>2446.688466</td>\n",
       "      <td>2573.551207</td>\n",
       "      <td>2575.000000</td>\n",
       "      <td>2617.167354</td>\n",
       "    </tr>\n",
       "    <tr>\n",
       "      <th>576</th>\n",
       "      <td>394718</td>\n",
       "      <td>892</td>\n",
       "      <td>Jamestown, ND</td>\n",
       "      <td>msa</td>\n",
       "      <td>ND</td>\n",
       "      <td>NaN</td>\n",
       "      <td>NaN</td>\n",
       "      <td>NaN</td>\n",
       "      <td>NaN</td>\n",
       "      <td>NaN</td>\n",
       "      <td>...</td>\n",
       "      <td>643.033893</td>\n",
       "      <td>632.188630</td>\n",
       "      <td>NaN</td>\n",
       "      <td>668.388884</td>\n",
       "      <td>715.417127</td>\n",
       "      <td>687.157390</td>\n",
       "      <td>702.818101</td>\n",
       "      <td>729.449277</td>\n",
       "      <td>771.000000</td>\n",
       "      <td>795.646586</td>\n",
       "    </tr>\n",
       "    <tr>\n",
       "      <th>577</th>\n",
       "      <td>394330</td>\n",
       "      <td>906</td>\n",
       "      <td>Andrews, TX</td>\n",
       "      <td>msa</td>\n",
       "      <td>TX</td>\n",
       "      <td>NaN</td>\n",
       "      <td>NaN</td>\n",
       "      <td>480.844237</td>\n",
       "      <td>470.002683</td>\n",
       "      <td>NaN</td>\n",
       "      <td>...</td>\n",
       "      <td>NaN</td>\n",
       "      <td>901.423609</td>\n",
       "      <td>NaN</td>\n",
       "      <td>NaN</td>\n",
       "      <td>NaN</td>\n",
       "      <td>NaN</td>\n",
       "      <td>NaN</td>\n",
       "      <td>NaN</td>\n",
       "      <td>962.000000</td>\n",
       "      <td>1019.826674</td>\n",
       "    </tr>\n",
       "    <tr>\n",
       "      <th>578</th>\n",
       "      <td>394996</td>\n",
       "      <td>907</td>\n",
       "      <td>Portales, NM</td>\n",
       "      <td>msa</td>\n",
       "      <td>NM</td>\n",
       "      <td>517.203126</td>\n",
       "      <td>516.728308</td>\n",
       "      <td>526.970302</td>\n",
       "      <td>529.436634</td>\n",
       "      <td>531.612792</td>\n",
       "      <td>...</td>\n",
       "      <td>NaN</td>\n",
       "      <td>812.564382</td>\n",
       "      <td>816.337611</td>\n",
       "      <td>774.215873</td>\n",
       "      <td>781.403240</td>\n",
       "      <td>778.818450</td>\n",
       "      <td>800.955182</td>\n",
       "      <td>832.421311</td>\n",
       "      <td>850.000000</td>\n",
       "      <td>840.276292</td>\n",
       "    </tr>\n",
       "  </tbody>\n",
       "</table>\n",
       "<p>579 rows × 96 columns</p>\n",
       "</div>"
      ],
      "text/plain": [
       "     RegionID  SizeRank       RegionName RegionType StateName   2015-03-31  \\\n",
       "0      102001         0    United States    country       NaN  1370.301806   \n",
       "1      394913         1     New York, NY        msa        NY  2506.196326   \n",
       "2      753899         2  Los Angeles, CA        msa        CA  1977.874325   \n",
       "3      394463         3      Chicago, IL        msa        IL  1478.149264   \n",
       "4      394514         4       Dallas, TX        msa        TX  1180.713035   \n",
       "..        ...       ...              ...        ...       ...          ...   \n",
       "574    394322       861        Altus, OK        msa        OK   404.816596   \n",
       "575    394687       869   Hood River, OR        msa        OR          NaN   \n",
       "576    394718       892    Jamestown, ND        msa        ND          NaN   \n",
       "577    394330       906      Andrews, TX        msa        TX          NaN   \n",
       "578    394996       907     Portales, NM        msa        NM   517.203126   \n",
       "\n",
       "      2015-04-30   2015-05-31   2015-06-30   2015-07-31  ...   2021-12-31  \\\n",
       "0    1381.971304  1392.389090  1403.203509  1408.901384  ...  1928.945108   \n",
       "1    2533.311441  2552.989317  2570.501028  2573.663435  ...  2957.725252   \n",
       "2    1990.644815  2004.443160  2016.922137  2031.255505  ...  2808.206899   \n",
       "3    1490.961012  1502.702134  1528.952557  1535.997197  ...  1795.629571   \n",
       "4    1191.112125  1202.397600  1209.409429  1216.117716  ...  1724.699775   \n",
       "..           ...          ...          ...          ...  ...          ...   \n",
       "574          NaN   417.170690          NaN          NaN  ...          NaN   \n",
       "575          NaN          NaN   708.148593          NaN  ...          NaN   \n",
       "576          NaN          NaN          NaN          NaN  ...   643.033893   \n",
       "577          NaN   480.844237   470.002683          NaN  ...          NaN   \n",
       "578   516.728308   526.970302   529.436634   531.612792  ...          NaN   \n",
       "\n",
       "      2022-01-31   2022-02-28   2022-03-31   2022-04-30   2022-05-31  \\\n",
       "0    1937.304351  1955.272060  1971.256988  1997.731260  2019.752839   \n",
       "1    2984.899451  3032.151836  3082.959790  3142.381057  3201.035347   \n",
       "2    2825.516662  2850.339483  2881.506596  2919.113666  2953.089197   \n",
       "3    1808.471849  1823.778075  1843.010280  1865.307537  1890.513951   \n",
       "4    1736.260930  1747.886285  1758.449166  1780.575633  1807.486899   \n",
       "..           ...          ...          ...          ...          ...   \n",
       "574          NaN          NaN   735.821384   732.921061   771.810020   \n",
       "575  2039.794902          NaN  2061.477514  2053.911628  2293.863629   \n",
       "576   632.188630          NaN   668.388884   715.417127   687.157390   \n",
       "577   901.423609          NaN          NaN          NaN          NaN   \n",
       "578   812.564382   816.337611   774.215873   781.403240   778.818450   \n",
       "\n",
       "      2022-06-30   2022-07-31   2022-08-31   2022-09-30  \n",
       "0    2044.662959  2065.275748  2078.546078  2084.084210  \n",
       "1    3258.611614  3308.938574  3327.647323  3321.271717  \n",
       "2    2978.850604  2999.777869  3013.211794  3019.026316  \n",
       "3    1911.437953  1930.811578  1939.370439  1941.933786  \n",
       "4    1842.009269  1866.378789  1876.715983  1875.844643  \n",
       "..           ...          ...          ...          ...  \n",
       "574   755.232683   810.606473   750.000000   821.649685  \n",
       "575  2446.688466  2573.551207  2575.000000  2617.167354  \n",
       "576   702.818101   729.449277   771.000000   795.646586  \n",
       "577          NaN          NaN   962.000000  1019.826674  \n",
       "578   800.955182   832.421311   850.000000   840.276292  \n",
       "\n",
       "[579 rows x 96 columns]"
      ]
     },
     "execution_count": 3,
     "metadata": {},
     "output_type": "execute_result"
    }
   ],
   "source": [
    "zori = pd.read_csv(\"data/zori1.csv\")\n",
    "zori"
   ]
  },
  {
   "cell_type": "markdown",
   "id": "1fcba7a5",
   "metadata": {
    "deletable": false,
    "editable": false
   },
   "source": [
    "<!-- BEGIN QUESTION -->\n",
    "\n",
    "**Question 1.1:** What information is stored in the ZORI data? What does each row represent?"
   ]
  },
  {
   "cell_type": "markdown",
   "id": "f9f84831",
   "metadata": {},
   "source": [
    "Each row in the Zillow Observed Rent Index (ZORI) dataset represents a region in the US (or the US as a whole). Every row contains data of a smoothed measure of the typical observed market rate rent across the given region (or the US) for every month from March 2015 to September 2022."
   ]
  },
  {
   "cell_type": "markdown",
   "id": "3b9f6621",
   "metadata": {
    "deletable": false,
    "editable": false
   },
   "source": [
    "<!-- END QUESTION -->\n",
    "\n",
    "Below, we select rows within the ZORI dataframe that have the timeseries corresponding to the ZORI index for the entire country."
   ]
  },
  {
   "cell_type": "code",
   "execution_count": 4,
   "id": "002d33cc",
   "metadata": {},
   "outputs": [
    {
     "data": {
      "text/html": [
       "<div>\n",
       "<style scoped>\n",
       "    .dataframe tbody tr th:only-of-type {\n",
       "        vertical-align: middle;\n",
       "    }\n",
       "\n",
       "    .dataframe tbody tr th {\n",
       "        vertical-align: top;\n",
       "    }\n",
       "\n",
       "    .dataframe thead th {\n",
       "        text-align: right;\n",
       "    }\n",
       "</style>\n",
       "<table border=\"1\" class=\"dataframe\">\n",
       "  <thead>\n",
       "    <tr style=\"text-align: right;\">\n",
       "      <th></th>\n",
       "      <th>RegionID</th>\n",
       "      <th>SizeRank</th>\n",
       "      <th>RegionName</th>\n",
       "      <th>RegionType</th>\n",
       "      <th>StateName</th>\n",
       "      <th>2015-03-31</th>\n",
       "      <th>2015-04-30</th>\n",
       "      <th>2015-05-31</th>\n",
       "      <th>2015-06-30</th>\n",
       "      <th>2015-07-31</th>\n",
       "      <th>...</th>\n",
       "      <th>2021-11-30</th>\n",
       "      <th>2021-12-31</th>\n",
       "      <th>2022-01-31</th>\n",
       "      <th>2022-02-28</th>\n",
       "      <th>2022-03-31</th>\n",
       "      <th>2022-04-30</th>\n",
       "      <th>2022-05-31</th>\n",
       "      <th>2022-06-30</th>\n",
       "      <th>2022-07-31</th>\n",
       "      <th>2022-08-31</th>\n",
       "    </tr>\n",
       "  </thead>\n",
       "  <tbody>\n",
       "    <tr>\n",
       "      <th>0</th>\n",
       "      <td>102001</td>\n",
       "      <td>0</td>\n",
       "      <td>United States</td>\n",
       "      <td>country</td>\n",
       "      <td>NaN</td>\n",
       "      <td>1370.301806</td>\n",
       "      <td>1381.971304</td>\n",
       "      <td>1392.38909</td>\n",
       "      <td>1403.203509</td>\n",
       "      <td>1408.901384</td>\n",
       "      <td>...</td>\n",
       "      <td>1915.496408</td>\n",
       "      <td>1928.945108</td>\n",
       "      <td>1937.304351</td>\n",
       "      <td>1955.27206</td>\n",
       "      <td>1971.256988</td>\n",
       "      <td>1997.73126</td>\n",
       "      <td>2019.752839</td>\n",
       "      <td>2044.662959</td>\n",
       "      <td>2065.275748</td>\n",
       "      <td>2078.546078</td>\n",
       "    </tr>\n",
       "  </tbody>\n",
       "</table>\n",
       "<p>1 rows × 95 columns</p>\n",
       "</div>"
      ],
      "text/plain": [
       "   RegionID  SizeRank     RegionName RegionType StateName   2015-03-31  \\\n",
       "0    102001         0  United States    country       NaN  1370.301806   \n",
       "\n",
       "    2015-04-30  2015-05-31   2015-06-30   2015-07-31  ...   2021-11-30  \\\n",
       "0  1381.971304  1392.38909  1403.203509  1408.901384  ...  1915.496408   \n",
       "\n",
       "    2021-12-31   2022-01-31  2022-02-28   2022-03-31  2022-04-30   2022-05-31  \\\n",
       "0  1928.945108  1937.304351  1955.27206  1971.256988  1997.73126  2019.752839   \n",
       "\n",
       "    2022-06-30   2022-07-31   2022-08-31  \n",
       "0  2044.662959  2065.275748  2078.546078  \n",
       "\n",
       "[1 rows x 95 columns]"
      ]
     },
     "execution_count": 4,
     "metadata": {},
     "output_type": "execute_result"
    }
   ],
   "source": [
    "zUS = zori.iloc[[0], :-1]\n",
    "zUS"
   ]
  },
  {
   "cell_type": "markdown",
   "id": "c6e0cf42",
   "metadata": {},
   "source": [
    "We notice that the dates in the timeseries actually start from the 6th entry in the index. If we wanted to create a DataFrame, we would need to find a way to extract this information, in addition to the data stored in the ZORI column."
   ]
  },
  {
   "cell_type": "markdown",
   "id": "c5c060ba",
   "metadata": {
    "deletable": false,
    "editable": false
   },
   "source": [
    "**Question 1.2:** Transpose the dataframe `zUS`, select the relevant columns and convert them into rows (similar to the picture below). Rename the column names to `DATE` and `ZORI`. Ensure the `DATE` column has an appropriate data type. The resulting dataframe `zillow` should look like the following:\n",
    "\n",
    "| DATE | ZORI |\n",
    "| ----------- | ----------- |\n",
    "| 2015-03-31 | 1370.301806 |\n",
    "| 2015-04-30 | 1381.971304 |\n",
    "|  | ... (rows omitted) |"
   ]
  },
  {
   "cell_type": "code",
   "execution_count": 5,
   "id": "9824a038",
   "metadata": {
    "tags": []
   },
   "outputs": [
    {
     "data": {
      "text/html": [
       "<div>\n",
       "<style scoped>\n",
       "    .dataframe tbody tr th:only-of-type {\n",
       "        vertical-align: middle;\n",
       "    }\n",
       "\n",
       "    .dataframe tbody tr th {\n",
       "        vertical-align: top;\n",
       "    }\n",
       "\n",
       "    .dataframe thead th {\n",
       "        text-align: right;\n",
       "    }\n",
       "</style>\n",
       "<table border=\"1\" class=\"dataframe\">\n",
       "  <thead>\n",
       "    <tr style=\"text-align: right;\">\n",
       "      <th></th>\n",
       "      <th>DATE</th>\n",
       "      <th>ZORI</th>\n",
       "    </tr>\n",
       "  </thead>\n",
       "  <tbody>\n",
       "    <tr>\n",
       "      <th>0</th>\n",
       "      <td>2015-03-31</td>\n",
       "      <td>1370.301806</td>\n",
       "    </tr>\n",
       "    <tr>\n",
       "      <th>1</th>\n",
       "      <td>2015-04-30</td>\n",
       "      <td>1381.971304</td>\n",
       "    </tr>\n",
       "    <tr>\n",
       "      <th>2</th>\n",
       "      <td>2015-05-31</td>\n",
       "      <td>1392.389090</td>\n",
       "    </tr>\n",
       "    <tr>\n",
       "      <th>3</th>\n",
       "      <td>2015-06-30</td>\n",
       "      <td>1403.203509</td>\n",
       "    </tr>\n",
       "    <tr>\n",
       "      <th>4</th>\n",
       "      <td>2015-07-31</td>\n",
       "      <td>1408.901384</td>\n",
       "    </tr>\n",
       "    <tr>\n",
       "      <th>...</th>\n",
       "      <td>...</td>\n",
       "      <td>...</td>\n",
       "    </tr>\n",
       "    <tr>\n",
       "      <th>85</th>\n",
       "      <td>2022-04-30</td>\n",
       "      <td>1997.731260</td>\n",
       "    </tr>\n",
       "    <tr>\n",
       "      <th>86</th>\n",
       "      <td>2022-05-31</td>\n",
       "      <td>2019.752839</td>\n",
       "    </tr>\n",
       "    <tr>\n",
       "      <th>87</th>\n",
       "      <td>2022-06-30</td>\n",
       "      <td>2044.662959</td>\n",
       "    </tr>\n",
       "    <tr>\n",
       "      <th>88</th>\n",
       "      <td>2022-07-31</td>\n",
       "      <td>2065.275748</td>\n",
       "    </tr>\n",
       "    <tr>\n",
       "      <th>89</th>\n",
       "      <td>2022-08-31</td>\n",
       "      <td>2078.546078</td>\n",
       "    </tr>\n",
       "  </tbody>\n",
       "</table>\n",
       "<p>90 rows × 2 columns</p>\n",
       "</div>"
      ],
      "text/plain": [
       "         DATE         ZORI\n",
       "0  2015-03-31  1370.301806\n",
       "1  2015-04-30  1381.971304\n",
       "2  2015-05-31  1392.389090\n",
       "3  2015-06-30  1403.203509\n",
       "4  2015-07-31  1408.901384\n",
       "..        ...          ...\n",
       "85 2022-04-30  1997.731260\n",
       "86 2022-05-31  2019.752839\n",
       "87 2022-06-30  2044.662959\n",
       "88 2022-07-31  2065.275748\n",
       "89 2022-08-31  2078.546078\n",
       "\n",
       "[90 rows x 2 columns]"
      ]
     },
     "execution_count": 5,
     "metadata": {},
     "output_type": "execute_result"
    }
   ],
   "source": [
    "zillow = zUS.iloc[:, 5:].T.reset_index()\n",
    "zillow.columns = ['DATE','ZORI']\n",
    "zillow['DATE'] = pd.to_datetime(zillow['DATE'])\n",
    "zillow"
   ]
  },
  {
   "cell_type": "code",
   "execution_count": 6,
   "id": "6f06cba9",
   "metadata": {
    "deletable": false,
    "editable": false
   },
   "outputs": [
    {
     "data": {
      "text/html": [
       "<p><strong><pre style='display: inline;'>q1_2</pre></strong> passed! 🌟</p>"
      ],
      "text/plain": [
       "q1_2 results: All test cases passed!"
      ]
     },
     "execution_count": 6,
     "metadata": {},
     "output_type": "execute_result"
    }
   ],
   "source": [
    "grader.check(\"q1_2\")"
   ]
  },
  {
   "cell_type": "markdown",
   "id": "ced035b1",
   "metadata": {},
   "source": [
    "We might wonder what this looks like. Let's graph this time series."
   ]
  },
  {
   "cell_type": "code",
   "execution_count": 7,
   "id": "0788bce4",
   "metadata": {},
   "outputs": [
    {
     "data": {
      "image/png": "[encoded data removed]",
      "text/plain": [
       "<Figure size 640x480 with 1 Axes>"
      ]
     },
     "metadata": {},
     "output_type": "display_data"
    }
   ],
   "source": [
    "sns.lineplot(data=zillow, x=\"DATE\", y=\"ZORI\")\n",
    "plt.title(\"ZORI Index\");"
   ]
  },
  {
   "cell_type": "markdown",
   "id": "b3eb70f3",
   "metadata": {},
   "source": [
    "Do you notice anything interesting about this graph? "
   ]
  },
  {
   "cell_type": "markdown",
   "id": "c46d9992",
   "metadata": {},
   "source": [
    "A drastic increase around 2021."
   ]
  },
  {
   "cell_type": "markdown",
   "id": "391fae41",
   "metadata": {},
   "source": [
    "We'll focus on the part where the slope becomes noticably steeper. Around what time did this happen? What are some possible explanations?"
   ]
  },
  {
   "cell_type": "markdown",
   "id": "fbefbc91",
   "metadata": {},
   "source": [
    "### Dataset 2: US CPI"
   ]
  },
  {
   "cell_type": "markdown",
   "id": "70e4b9b8",
   "metadata": {},
   "source": [
    "We'll now turn our attention to the US CPI."
   ]
  },
  {
   "cell_type": "markdown",
   "id": "6193d997",
   "metadata": {},
   "source": [
    "We've downloaded historical **US CPI data for rent of primary residence** from the [FRED website](https://fred.stlouisfed.org/series/CUUR0000SEHA). Since our ZORI data starts on 03/31/2015, we've adjusted the sliders on the FRED website to only extract starting from 03/31/2015. We've also renamed the columns to be more readable."
   ]
  },
  {
   "cell_type": "code",
   "execution_count": 8,
   "id": "b656ed8c",
   "metadata": {},
   "outputs": [
    {
     "data": {
      "text/html": [
       "<div>\n",
       "<style scoped>\n",
       "    .dataframe tbody tr th:only-of-type {\n",
       "        vertical-align: middle;\n",
       "    }\n",
       "\n",
       "    .dataframe tbody tr th {\n",
       "        vertical-align: top;\n",
       "    }\n",
       "\n",
       "    .dataframe thead th {\n",
       "        text-align: right;\n",
       "    }\n",
       "</style>\n",
       "<table border=\"1\" class=\"dataframe\">\n",
       "  <thead>\n",
       "    <tr style=\"text-align: right;\">\n",
       "      <th></th>\n",
       "      <th>DATE</th>\n",
       "      <th>CPI</th>\n",
       "    </tr>\n",
       "  </thead>\n",
       "  <tbody>\n",
       "    <tr>\n",
       "      <th>1</th>\n",
       "      <td>2015-04-01</td>\n",
       "      <td>283.598</td>\n",
       "    </tr>\n",
       "    <tr>\n",
       "      <th>2</th>\n",
       "      <td>2015-05-01</td>\n",
       "      <td>284.245</td>\n",
       "    </tr>\n",
       "    <tr>\n",
       "      <th>3</th>\n",
       "      <td>2015-06-01</td>\n",
       "      <td>285.031</td>\n",
       "    </tr>\n",
       "    <tr>\n",
       "      <th>4</th>\n",
       "      <td>2015-07-01</td>\n",
       "      <td>286.090</td>\n",
       "    </tr>\n",
       "    <tr>\n",
       "      <th>5</th>\n",
       "      <td>2015-08-01</td>\n",
       "      <td>287.068</td>\n",
       "    </tr>\n",
       "    <tr>\n",
       "      <th>...</th>\n",
       "      <td>...</td>\n",
       "      <td>...</td>\n",
       "    </tr>\n",
       "    <tr>\n",
       "      <th>86</th>\n",
       "      <td>2022-05-01</td>\n",
       "      <td>365.116</td>\n",
       "    </tr>\n",
       "    <tr>\n",
       "      <th>87</th>\n",
       "      <td>2022-06-01</td>\n",
       "      <td>367.927</td>\n",
       "    </tr>\n",
       "    <tr>\n",
       "      <th>88</th>\n",
       "      <td>2022-07-01</td>\n",
       "      <td>370.448</td>\n",
       "    </tr>\n",
       "    <tr>\n",
       "      <th>89</th>\n",
       "      <td>2022-08-01</td>\n",
       "      <td>373.283</td>\n",
       "    </tr>\n",
       "    <tr>\n",
       "      <th>90</th>\n",
       "      <td>2022-09-01</td>\n",
       "      <td>376.569</td>\n",
       "    </tr>\n",
       "  </tbody>\n",
       "</table>\n",
       "<p>90 rows × 2 columns</p>\n",
       "</div>"
      ],
      "text/plain": [
       "         DATE      CPI\n",
       "1  2015-04-01  283.598\n",
       "2  2015-05-01  284.245\n",
       "3  2015-06-01  285.031\n",
       "4  2015-07-01  286.090\n",
       "5  2015-08-01  287.068\n",
       "..        ...      ...\n",
       "86 2022-05-01  365.116\n",
       "87 2022-06-01  367.927\n",
       "88 2022-07-01  370.448\n",
       "89 2022-08-01  373.283\n",
       "90 2022-09-01  376.569\n",
       "\n",
       "[90 rows x 2 columns]"
      ]
     },
     "execution_count": 8,
     "metadata": {},
     "output_type": "execute_result"
    }
   ],
   "source": [
    "usCPI = pd.read_csv(\"data/usCPI.csv\")\n",
    "usCPI = usCPI.rename(columns={\"CUUR0000SEHA\": \"CPI\"})\n",
    "usCPI = usCPI.iloc[1:, :]\n",
    "usCPI['DATE'] = pd.to_datetime(usCPI['DATE'], format='%Y-%m-%d')\n",
    "usCPI"
   ]
  },
  {
   "cell_type": "markdown",
   "id": "9ab94af0",
   "metadata": {},
   "source": [
    "We can try plotting this to see what it looks like."
   ]
  },
  {
   "cell_type": "code",
   "execution_count": 9,
   "id": "c84b71d5",
   "metadata": {},
   "outputs": [
    {
     "data": {
      "image/png": "[encoded data removed]",
      "text/plain": [
       "<Figure size 640x480 with 1 Axes>"
      ]
     },
     "metadata": {},
     "output_type": "display_data"
    }
   ],
   "source": [
    "sns.lineplot(data=usCPI, x=\"DATE\", y=\"CPI\")\n",
    "plt.title(\"US CPI (Rent of Primary Residence)\");"
   ]
  },
  {
   "cell_type": "markdown",
   "id": "ab57625f",
   "metadata": {},
   "source": [
    "### Data Preprocessing"
   ]
  },
  {
   "cell_type": "code",
   "execution_count": 10,
   "id": "b3b60fc1",
   "metadata": {},
   "outputs": [],
   "source": [
    "# set `DATE` as the index\n",
    "zillow = zillow.set_index('DATE')\n",
    "usCPI = usCPI.set_index('DATE')"
   ]
  },
  {
   "cell_type": "markdown",
   "id": "92d2e9d8",
   "metadata": {
    "deletable": false,
    "editable": false
   },
   "source": [
    "**Question 1.3:** Let's split the `usCPI` dataframe into a training set and testing set. Put all data before Jan. 1st, 2022 into the training set, and all data on or after Jan. 1st, 2022 into the testing set. \n",
    "\n",
    "Note: This is not how normally we do the train-test split. In a normal setup, we would assign a random portion of the data to training set and the rest to testing set. But in this analysis, we care about how well can we predict the future values using current values, so we'll create a train-test split based on a date. \n",
    "\n",
    "Hint: You can use `pd.to_datetime(\"2022-01-01\", format='%Y-%m-%d')` to generate a timestamp for comparison. "
   ]
  },
  {
   "cell_type": "code",
   "execution_count": 11,
   "id": "2bc25d15",
   "metadata": {
    "scrolled": true,
    "tags": []
   },
   "outputs": [
    {
     "data": {
      "image/png": "[encoded data removed]",
      "text/plain": [
       "<Figure size 640x480 with 1 Axes>"
      ]
     },
     "metadata": {},
     "output_type": "display_data"
    }
   ],
   "source": [
    "train = usCPI.loc['2015-04-01':'2021-12-01']\n",
    "test = usCPI.loc['2022-01-01':]\n",
    "plt.plot(train['CPI'], color = \"black\", label='Train')\n",
    "plt.plot(test['CPI'], color = \"red\", label='Test')\n",
    "plt.ylabel('')\n",
    "plt.xlabel('Date')\n",
    "plt.title(\"Train/Test split for US CPI Data\")\n",
    "plt.legend();"
   ]
  },
  {
   "cell_type": "code",
   "execution_count": 12,
   "id": "1d4cbe14",
   "metadata": {
    "deletable": false,
    "editable": false
   },
   "outputs": [
    {
     "data": {
      "text/html": [
       "<p><strong><pre style='display: inline;'>q1_3</pre></strong> passed! 🚀</p>"
      ],
      "text/plain": [
       "q1_3 results: All test cases passed!"
      ]
     },
     "execution_count": 12,
     "metadata": {},
     "output_type": "execute_result"
    }
   ],
   "source": [
    "grader.check(\"q1_3\")"
   ]
  },
  {
   "cell_type": "code",
   "execution_count": 13,
   "id": "16c8d9a1",
   "metadata": {
    "scrolled": true
   },
   "outputs": [],
   "source": [
    "# generate train test CPI series\n",
    "y_train = train['CPI']\n",
    "y_test = test['CPI']"
   ]
  },
  {
   "cell_type": "markdown",
   "id": "625500aa",
   "metadata": {},
   "source": [
    "---\n",
    "## Part 2: Time Series Modeling"
   ]
  },
  {
   "cell_type": "code",
   "execution_count": 14,
   "id": "2cec18de",
   "metadata": {},
   "outputs": [],
   "source": [
    "from sklearn.metrics import mean_squared_error\n",
    "\n",
    "from statsmodels.tsa.arima.model import ARIMA\n",
    "from statsmodels.tsa.statespace.sarimax import SARIMAX\n",
    "\n",
    "\n",
    "import warnings\n",
    "warnings.filterwarnings(\"ignore\")"
   ]
  },
  {
   "cell_type": "markdown",
   "id": "12296a54",
   "metadata": {},
   "source": [
    "### Review\n",
    "Let $X_t$ be a sequence of random variables that describes a time series model. \n",
    "\n",
    "* **Random walk**:   \n",
    "A random walk is a time series model where the current observation is equal to the previous observation with a random step up or down. The model is widely used for non-stationary data, particularly financial and economic data.\n",
    "\n",
    "$$X_t = X_{t-1} + \\varepsilon_t$$ \n",
    "\n",
    "* **Random walk with drift**:   \n",
    "If the random walk has a non-zero dift and acts like a trend, we will add an additional drift term ($\\alpha$) to the process. \n",
    "\n",
    "$$X_t = X_{t-1} + \\alpha + \\varepsilon_t$$ \n",
    "\n",
    "* **Autoregressive (AR)**: AR(p) refers to the autoregressive model of order p.  \n",
    "The autoregressive model uses observations from previous time steps as input to a regression equations to predict the value at the next step. The AR model takes in one argument, p, which determines how many previous time steps will be inputted.\n",
    "\n",
    "$$X_t = c + \\phi_1 X_{t-1} + \\phi_2 X_{t-2} + \\cdots + \\phi_p X_{t-p} + \\varepsilon_t$$ \n",
    "\n",
    "* **Moving-average (MA)**: MA(q) refers to the moving average model of order q. \n",
    "The moving average model is a time series model that accounts for very short-run autocorrelation. \n",
    "\n",
    "$$X_t = \\mu + \\varepsilon_t + \\theta_1 \\varepsilon_{t-1} + \\theta_2 \\varepsilon_{t-2} + \\cdots + \\theta_q \\varepsilon_{t-q}$$ "
   ]
  },
  {
   "cell_type": "markdown",
   "id": "13270d42",
   "metadata": {},
   "source": [
    "### Autoregressive Moving Average (ARMA)\n",
    "The notation ARMA(p, q) refers to the model with p autoregressive terms and q moving-average terms. This model contains the AR(p) and MA(q) models. \n",
    "\n",
    "$$X_t = c + \\underbrace{\\phi_1 X_{t-1} + \\phi_2 X_{t-2} + \\cdots + \\phi_p X_{t-p}}_{AR(p)} + \\underbrace{\\theta_1 \\varepsilon_{t-1} + \\theta_2 \\varepsilon_{t-2} + \\cdots + \\theta_q \\varepsilon_{t-q}}_{MA(q)} + \\varepsilon_t $$ \n",
    "\n",
    "Here's a summary table for the relationship between ARIMA model and the models discussed. \n",
    "\n",
    "| Model | ARMA(p, q) |\n",
    "| ----------- | ----------- |\n",
    "| White noise | ARMA(0,0) |\n",
    "| Autoregression (AR(p)) | ARMA(p,0) |\n",
    "| Moving average (MA(q)) | ARMA(0,q) |"
   ]
  },
  {
   "cell_type": "markdown",
   "id": "77094ec6",
   "metadata": {},
   "source": [
    "Now let's try fit our data using ARMA(1, 1), which is saying we want to fit our CPI data to the following process:\n",
    "\n",
    "$$CPI_t = c + \\underbrace{\\phi_1 CPI_{t-1}}_{AR(1)} + \\underbrace{\\theta_1 \\varepsilon_{t-1}}_{MA(1)} + \\varepsilon_t $$ "
   ]
  },
  {
   "cell_type": "code",
   "execution_count": 15,
   "id": "97ec1839",
   "metadata": {},
   "outputs": [],
   "source": [
    "ARMAmodel = ARIMA(y_train, order = (1, 0, 1)) # ARMA(1, 1). See ARIMA (next section) for why there's a zero\n",
    "ARMAmodel = ARMAmodel.fit() "
   ]
  },
  {
   "cell_type": "code",
   "execution_count": 16,
   "id": "acd0387d",
   "metadata": {},
   "outputs": [
    {
     "data": {
      "text/html": [
       "<div>\n",
       "<style scoped>\n",
       "    .dataframe tbody tr th:only-of-type {\n",
       "        vertical-align: middle;\n",
       "    }\n",
       "\n",
       "    .dataframe tbody tr th {\n",
       "        vertical-align: top;\n",
       "    }\n",
       "\n",
       "    .dataframe thead th {\n",
       "        text-align: right;\n",
       "    }\n",
       "</style>\n",
       "<table border=\"1\" class=\"dataframe\">\n",
       "  <thead>\n",
       "    <tr style=\"text-align: right;\">\n",
       "      <th></th>\n",
       "      <th>lower CPI</th>\n",
       "      <th>upper CPI</th>\n",
       "      <th>Predictions</th>\n",
       "    </tr>\n",
       "    <tr>\n",
       "      <th>DATE</th>\n",
       "      <th></th>\n",
       "      <th></th>\n",
       "      <th></th>\n",
       "    </tr>\n",
       "  </thead>\n",
       "  <tbody>\n",
       "    <tr>\n",
       "      <th>2022-01-01</th>\n",
       "      <td>355.406492</td>\n",
       "      <td>357.700091</td>\n",
       "      <td>356.553291</td>\n",
       "    </tr>\n",
       "    <tr>\n",
       "      <th>2022-02-01</th>\n",
       "      <td>354.173176</td>\n",
       "      <td>358.902513</td>\n",
       "      <td>356.537845</td>\n",
       "    </tr>\n",
       "    <tr>\n",
       "      <th>2022-03-01</th>\n",
       "      <td>353.381618</td>\n",
       "      <td>359.663191</td>\n",
       "      <td>356.522405</td>\n",
       "    </tr>\n",
       "    <tr>\n",
       "      <th>2022-04-01</th>\n",
       "      <td>352.747476</td>\n",
       "      <td>360.266467</td>\n",
       "      <td>356.506971</td>\n",
       "    </tr>\n",
       "    <tr>\n",
       "      <th>2022-05-01</th>\n",
       "      <td>352.202086</td>\n",
       "      <td>360.781003</td>\n",
       "      <td>356.491544</td>\n",
       "    </tr>\n",
       "    <tr>\n",
       "      <th>2022-06-01</th>\n",
       "      <td>351.715715</td>\n",
       "      <td>361.236532</td>\n",
       "      <td>356.476124</td>\n",
       "    </tr>\n",
       "    <tr>\n",
       "      <th>2022-07-01</th>\n",
       "      <td>351.272269</td>\n",
       "      <td>361.649150</td>\n",
       "      <td>356.460710</td>\n",
       "    </tr>\n",
       "    <tr>\n",
       "      <th>2022-08-01</th>\n",
       "      <td>350.861869</td>\n",
       "      <td>362.028736</td>\n",
       "      <td>356.445303</td>\n",
       "    </tr>\n",
       "    <tr>\n",
       "      <th>2022-09-01</th>\n",
       "      <td>350.477932</td>\n",
       "      <td>362.381872</td>\n",
       "      <td>356.429902</td>\n",
       "    </tr>\n",
       "  </tbody>\n",
       "</table>\n",
       "</div>"
      ],
      "text/plain": [
       "             lower CPI   upper CPI  Predictions\n",
       "DATE                                           \n",
       "2022-01-01  355.406492  357.700091   356.553291\n",
       "2022-02-01  354.173176  358.902513   356.537845\n",
       "2022-03-01  353.381618  359.663191   356.522405\n",
       "2022-04-01  352.747476  360.266467   356.506971\n",
       "2022-05-01  352.202086  360.781003   356.491544\n",
       "2022-06-01  351.715715  361.236532   356.476124\n",
       "2022-07-01  351.272269  361.649150   356.460710\n",
       "2022-08-01  350.861869  362.028736   356.445303\n",
       "2022-09-01  350.477932  362.381872   356.429902"
      ]
     },
     "execution_count": 16,
     "metadata": {},
     "output_type": "execute_result"
    }
   ],
   "source": [
    "y_pred = ARMAmodel.get_forecast(len(test.index))\n",
    "y_pred_df = y_pred.conf_int(alpha = 0.05) # 95% CI\n",
    "y_pred_df[\"Predictions\"] = ARMAmodel.predict(start = y_pred_df.index[0], end = y_pred_df.index[-1])\n",
    "y_pred_df.index = test.index\n",
    "y_pred_df"
   ]
  },
  {
   "cell_type": "code",
   "execution_count": 17,
   "id": "e2764a71",
   "metadata": {},
   "outputs": [
    {
     "data": {
      "image/png": "[encoded data removed]",
      "text/plain": [
       "<Figure size 640x480 with 1 Axes>"
      ]
     },
     "metadata": {},
     "output_type": "display_data"
    }
   ],
   "source": [
    "# Get predictions series\n",
    "y_pred_out = y_pred_df[\"Predictions\"]\n",
    "\n",
    "# Plot\n",
    "plt.plot(train, color = 'black')\n",
    "plt.plot(test, color = 'red', label = 'Actual')\n",
    "plt.plot(y_pred_out, color='green', label = 'Predictions')\n",
    "plt.ylabel('')\n",
    "plt.xlabel('Date')\n",
    "plt.xticks(rotation=45)\n",
    "plt.title(\"Predictions of US CPI Data\")\n",
    "plt.legend();"
   ]
  },
  {
   "cell_type": "markdown",
   "id": "7089240a",
   "metadata": {
    "deletable": false,
    "editable": false
   },
   "source": [
    "**Question 2.1:** Why does the predictions look almost constant?\n",
    "\n",
    "1. Because ARMA is a bad model for this time series\n",
    "2. Because we did not give ARMA a reasonable set of orders (i.e. p and q)\n",
    "3. Because the data is too volatile to predict\n",
    "\n",
    "Assign the number corresponding to your answer to `q2_1` below."
   ]
  },
  {
   "cell_type": "code",
   "execution_count": 18,
   "id": "ec6a3d77",
   "metadata": {
    "tags": []
   },
   "outputs": [],
   "source": [
    "q2_1 = 2"
   ]
  },
  {
   "cell_type": "code",
   "execution_count": 19,
   "id": "626b136c",
   "metadata": {
    "deletable": false,
    "editable": false
   },
   "outputs": [
    {
     "data": {
      "text/html": [
       "<p><strong><pre style='display: inline;'>q2_1</pre></strong> passed! ✨</p>"
      ],
      "text/plain": [
       "q2_1 results: All test cases passed!"
      ]
     },
     "execution_count": 19,
     "metadata": {},
     "output_type": "execute_result"
    }
   ],
   "source": [
    "grader.check(\"q2_1\")"
   ]
  },
  {
   "cell_type": "markdown",
   "id": "a1e9e797",
   "metadata": {},
   "source": [
    "We can also compute the loss of this model. "
   ]
  },
  {
   "cell_type": "code",
   "execution_count": 20,
   "id": "c3f5f1da",
   "metadata": {},
   "outputs": [
    {
     "name": "stdout",
     "output_type": "stream",
     "text": [
      "RMSE:  11.370077728421151\n"
     ]
    }
   ],
   "source": [
    "arma_rmse = np.sqrt(mean_squared_error(test[\"CPI\"].values, y_pred_df[\"Predictions\"]))\n",
    "print(\"RMSE: \",arma_rmse)"
   ]
  },
  {
   "cell_type": "markdown",
   "id": "49f3ec7d",
   "metadata": {},
   "source": [
    "### Autoregressive Integrated Moving Average (ARIMA)\n",
    "\n",
    "The notation ARIMA(p, d, q) refers to the model with p autoregressive terms with d degree of differencing and q moving-average terms. \n",
    "\n",
    "$$X_t' = c + \\underbrace{\\phi_1 X_{t-1}' + \\phi_2 X_{t-2}' + \\cdots + \\phi_p X_{t-p}'}_{AR(p)} + \\underbrace{\\theta_1 \\varepsilon_{t-1} + \\theta_2 \\varepsilon_{t-2} + \\cdots + \\theta_q \\varepsilon_{t-q}}_{MA(q)} + \\varepsilon_t $$ \n",
    "\n",
    "where $y_t'$ is the differenced series (it may have been differenced more than once).\n",
    "\n",
    "**Difference between ARMA and ARIMA**: The only difference is the “integrated” part. Integrated refers to the number of times needed to difference a series in order to achieve stationarity, which is required for ARMA models to be valid. So ARMA is a special case of ARIMA with $d = 0$. ARIMA models are widely used for real life time series analysis since most times series data are non stationary and need differencing.\n",
    "\n",
    "Here's a summary table for the relationship between the ARIMA model and the models discussed. \n",
    "\n",
    "| Model | ARIMA(p, d, q) |\n",
    "| ----------- | ----------- |\n",
    "| White noise | ARIMA(0,0,0) |\n",
    "| Random walk | ARIMA(0,1,0) with no constant |\n",
    "| Random walk with drift | ARIMA(0,1,0) with a constant |\n",
    "| Autoregression (AR(p)) | ARIMA(p,0,0) |\n",
    "| Moving average (MA(q)) | ARIMA(0,0,q) |\n",
    "| Autoregressive Moving Average (ARMA(p,q)) | ARIMA(p,0,q) |"
   ]
  },
  {
   "cell_type": "markdown",
   "id": "cfe908a1",
   "metadata": {},
   "source": [
    "Now let's try fit our data using $\\text{ARIMA}(1, 1, 1)$. "
   ]
  },
  {
   "cell_type": "code",
   "execution_count": 21,
   "id": "3afd9e25",
   "metadata": {},
   "outputs": [
    {
     "data": {
      "image/png": "[encoded data removed]",
      "text/plain": [
       "<Figure size 640x480 with 1 Axes>"
      ]
     },
     "metadata": {},
     "output_type": "display_data"
    }
   ],
   "source": [
    "ARIMAmodel_naive = ARIMA(y_train, order = (1, 1, 1))\n",
    "ARIMAmodel_naive = ARIMAmodel_naive.fit()\n",
    "\n",
    "y_pred = ARIMAmodel_naive.get_forecast(len(test.index))\n",
    "y_pred_df = y_pred.conf_int(alpha = 0.05) \n",
    "y_pred_df[\"Predictions\"] = ARIMAmodel_naive.predict(start = y_pred_df.index[0], end = y_pred_df.index[-1])\n",
    "y_pred_df.index = test.index\n",
    "y_pred_out = y_pred_df[\"Predictions\"] \n",
    "plt.plot(train, color = \"black\")\n",
    "plt.plot(test, color = \"red\", label = 'Actual')\n",
    "plt.plot(y_pred_out, color='blue', label = 'ARIMA(1, 1, 1) Predictions')\n",
    "plt.legend();"
   ]
  },
  {
   "cell_type": "code",
   "execution_count": 22,
   "id": "9887865b",
   "metadata": {},
   "outputs": [
    {
     "name": "stdout",
     "output_type": "stream",
     "text": [
      "RMSE:  4.02567379511991\n"
     ]
    }
   ],
   "source": [
    "arima_naive_rmse = np.sqrt(mean_squared_error(test[\"CPI\"].values, y_pred_df[\"Predictions\"]))\n",
    "print(\"RMSE: \",arima_naive_rmse)"
   ]
  },
  {
   "cell_type": "markdown",
   "id": "e7e6fc8f",
   "metadata": {},
   "source": [
    "After adding $d=1$ differencing, the predictions look much better than before!"
   ]
  },
  {
   "cell_type": "markdown",
   "id": "be4b1387",
   "metadata": {},
   "source": [
    "However, the ARIMA model for time series analysis and forecasting can be tricky to configure.\n",
    "\n",
    "There are 3 parameters (p, d and q) that require estimation by iterative trial and error from reviewing diagnostic plots and using 40-year-old heuristic rules. Usually we will find optimal parameters with ACF, PACF plots, and BIC/AIC information criteria or simply do a grid search, but we will not go into depth about these topics here. If you are interested, you can learn more about this in Stat 153. "
   ]
  },
  {
   "cell_type": "markdown",
   "id": "638e3f2c",
   "metadata": {
    "deletable": false,
    "editable": false
   },
   "source": [
    "<!-- BEGIN QUESTION -->\n",
    "\n",
    "**Question 2.2:** Let's find some better parameters using trial and error. Try some combinations of p, d and q and see what is the result of the predictions. We will manually grade this question, and in order to recieve full credit, you must achieve an RMSE of less than 3.5 and a plot of your predictions vs the actual values must be shown.\n",
    "\n",
    "Hint: Think about what does p, d, q mean in the ARIMA model. "
   ]
  },
  {
   "cell_type": "markdown",
   "id": "fa58850b",
   "metadata": {},
   "source": [
    "When not worrying about overfitting, I can set up a simple grid search in a range of 0 through 6 (i.e. dependent on up to the last six months and stationary in up to the sixth difference) for each parameter to minimize the RMSE and found the optimal parameters to be `(p, d, q) = (0, 6, 6)` resulting in $RMSE = 0.375056$."
   ]
  },
  {
   "cell_type": "code",
   "execution_count": 23,
   "id": "88c306ba",
   "metadata": {},
   "outputs": [],
   "source": [
    "# define function for the model to iterate over\n",
    "def ARIMA_test(train, test, order=(1, 1, 1),log=False):\n",
    "    if log:\n",
    "        train = np.log(train)\n",
    "    ARIMAmodel = ARIMA(train, order = order)\n",
    "    ARIMAmodel = ARIMAmodel.fit()\n",
    "    y_pred_arima = ARIMAmodel.get_forecast(len(test.index)) # generate predictions\n",
    "    y_pred_arima_df = y_pred_arima.conf_int(alpha = 0.05)\n",
    "    y_pred_arima_df[\"Predictions\"] = ARIMAmodel.predict(start = y_pred_df.index[0], end = y_pred_df.index[-1])\n",
    "    y_pred_arima_df.index = test.index\n",
    "    if log:\n",
    "        y_pred_arima_df[\"Predictions\"] = np.exp(y_pred_arima_df[\"Predictions\"])\n",
    "    y_pred_arima_out = y_pred_arima_df[\"Predictions\"] \n",
    "\n",
    "    arima_rmse = np.sqrt(mean_squared_error(test[\"CPI\"].values, y_pred_arima_out))\n",
    "    return arima_rmse, y_pred_arima_out"
   ]
  },
  {
   "cell_type": "code",
   "execution_count": 24,
   "id": "3fc7ada2",
   "metadata": {
    "tags": []
   },
   "outputs": [
    {
     "data": {
      "text/html": [
       "<div>\n",
       "<style scoped>\n",
       "    .dataframe tbody tr th:only-of-type {\n",
       "        vertical-align: middle;\n",
       "    }\n",
       "\n",
       "    .dataframe tbody tr th {\n",
       "        vertical-align: top;\n",
       "    }\n",
       "\n",
       "    .dataframe thead th {\n",
       "        text-align: right;\n",
       "    }\n",
       "</style>\n",
       "<table border=\"1\" class=\"dataframe\">\n",
       "  <thead>\n",
       "    <tr style=\"text-align: right;\">\n",
       "      <th></th>\n",
       "      <th>p</th>\n",
       "      <th>d</th>\n",
       "      <th>q</th>\n",
       "      <th>RMSE</th>\n",
       "    </tr>\n",
       "  </thead>\n",
       "  <tbody>\n",
       "    <tr>\n",
       "      <th>48</th>\n",
       "      <td>0</td>\n",
       "      <td>6</td>\n",
       "      <td>6</td>\n",
       "      <td>0.375056</td>\n",
       "    </tr>\n",
       "    <tr>\n",
       "      <th>97</th>\n",
       "      <td>1</td>\n",
       "      <td>6</td>\n",
       "      <td>6</td>\n",
       "      <td>0.431818</td>\n",
       "    </tr>\n",
       "    <tr>\n",
       "      <th>145</th>\n",
       "      <td>2</td>\n",
       "      <td>6</td>\n",
       "      <td>5</td>\n",
       "      <td>0.435312</td>\n",
       "    </tr>\n",
       "    <tr>\n",
       "      <th>290</th>\n",
       "      <td>5</td>\n",
       "      <td>6</td>\n",
       "      <td>5</td>\n",
       "      <td>0.462546</td>\n",
       "    </tr>\n",
       "    <tr>\n",
       "      <th>339</th>\n",
       "      <td>6</td>\n",
       "      <td>6</td>\n",
       "      <td>5</td>\n",
       "      <td>0.529545</td>\n",
       "    </tr>\n",
       "  </tbody>\n",
       "</table>\n",
       "</div>"
      ],
      "text/plain": [
       "     p  d  q      RMSE\n",
       "48   0  6  6  0.375056\n",
       "97   1  6  6  0.431818\n",
       "145  2  6  5  0.435312\n",
       "290  5  6  5  0.462546\n",
       "339  6  6  5  0.529545"
      ]
     },
     "execution_count": 24,
     "metadata": {},
     "output_type": "execute_result"
    }
   ],
   "source": [
    "# create a grid for brute forcing\n",
    "grid = [(p, d, q) for p in range(7) for d in range(7) for q in range(7)]\n",
    "\n",
    "# brute force to find the best ARIMA model\n",
    "results = []\n",
    "for p, d, q in grid:\n",
    "    try:\n",
    "        rmse = ARIMA_test(train, test, order=(p, d, q))[0]\n",
    "        results.append((p, d, q, rmse))\n",
    "    except:\n",
    "        continue\n",
    "\n",
    "results_df = pd.DataFrame(results, columns = ['p', 'd', 'q', 'RMSE']).sort_values('RMSE')\n",
    "results_df.head(5)"
   ]
  },
  {
   "cell_type": "markdown",
   "id": "03501d12",
   "metadata": {},
   "source": [
    "If the solution should be slightly more pragmatic and worry about overfitting, I can start looking at the meaning of the parameter for the integrated part. The `d` parameter is the number of times the data is differenced. As we are working with CPI and we assume the FED in the long run are successful with their target inflation of around $\\sim 2\\%$ YoY (though they usually look at PCE), the log-first difference would be stationary with a constant level around $1.02^{1/ 12}-1 \\approx 0.00165$ MoM. To remove this constant part, I set `d=2`. \n",
    "\n",
    "For the moving average part (shock persistency) and the autoregressive part (momentum), I will again seek to minimize the RMSE with up to six months of persistency. I found the optimal parameters to be `(p, d, q) = (6, 2, 6)`, resulting in $RMSE = 2.104195$."
   ]
  },
  {
   "cell_type": "code",
   "execution_count": 25,
   "id": "9ba62cdd",
   "metadata": {},
   "outputs": [],
   "source": [
    "# plot acf and pacf"
   ]
  },
  {
   "cell_type": "code",
   "execution_count": 26,
   "id": "5ce4962e",
   "metadata": {},
   "outputs": [
    {
     "data": {
      "text/html": [
       "<div>\n",
       "<style scoped>\n",
       "    .dataframe tbody tr th:only-of-type {\n",
       "        vertical-align: middle;\n",
       "    }\n",
       "\n",
       "    .dataframe tbody tr th {\n",
       "        vertical-align: top;\n",
       "    }\n",
       "\n",
       "    .dataframe thead th {\n",
       "        text-align: right;\n",
       "    }\n",
       "</style>\n",
       "<table border=\"1\" class=\"dataframe\">\n",
       "  <thead>\n",
       "    <tr style=\"text-align: right;\">\n",
       "      <th></th>\n",
       "      <th>p</th>\n",
       "      <th>d</th>\n",
       "      <th>q</th>\n",
       "      <th>RMSE</th>\n",
       "    </tr>\n",
       "  </thead>\n",
       "  <tbody>\n",
       "    <tr>\n",
       "      <th>48</th>\n",
       "      <td>6</td>\n",
       "      <td>2</td>\n",
       "      <td>6</td>\n",
       "      <td>2.104195</td>\n",
       "    </tr>\n",
       "    <tr>\n",
       "      <th>5</th>\n",
       "      <td>0</td>\n",
       "      <td>2</td>\n",
       "      <td>5</td>\n",
       "      <td>3.252532</td>\n",
       "    </tr>\n",
       "    <tr>\n",
       "      <th>12</th>\n",
       "      <td>1</td>\n",
       "      <td>2</td>\n",
       "      <td>5</td>\n",
       "      <td>3.358089</td>\n",
       "    </tr>\n",
       "    <tr>\n",
       "      <th>19</th>\n",
       "      <td>2</td>\n",
       "      <td>2</td>\n",
       "      <td>5</td>\n",
       "      <td>3.359002</td>\n",
       "    </tr>\n",
       "    <tr>\n",
       "      <th>35</th>\n",
       "      <td>5</td>\n",
       "      <td>2</td>\n",
       "      <td>0</td>\n",
       "      <td>3.360853</td>\n",
       "    </tr>\n",
       "  </tbody>\n",
       "</table>\n",
       "</div>"
      ],
      "text/plain": [
       "    p  d  q      RMSE\n",
       "48  6  2  6  2.104195\n",
       "5   0  2  5  3.252532\n",
       "12  1  2  5  3.358089\n",
       "19  2  2  5  3.359002\n",
       "35  5  2  0  3.360853"
      ]
     },
     "execution_count": 26,
     "metadata": {},
     "output_type": "execute_result"
    }
   ],
   "source": [
    "# create a grid for brute forcing\n",
    "grid = [(p, 2, q) for p in range(7) for q in range(7)]\n",
    "\n",
    "# brute force to find the best ARIMA model\n",
    "results = []\n",
    "for p, d, q in grid:\n",
    "    try:\n",
    "        rmse = ARIMA_test(train, test, order=(p, d, q), log=True)[0]\n",
    "        results.append((p, d, q, rmse))\n",
    "    except:\n",
    "        continue\n",
    "\n",
    "results_df_ln = pd.DataFrame(results, columns = ['p', 'd', 'q', 'RMSE']).sort_values('RMSE')\n",
    "results_df_ln.head(5)"
   ]
  },
  {
   "cell_type": "code",
   "execution_count": 27,
   "id": "b380962e",
   "metadata": {},
   "outputs": [
    {
     "data": {
      "image/png": "[encoded data removed]",
      "text/plain": [
       "<Figure size 640x480 with 1 Axes>"
      ]
     },
     "metadata": {},
     "output_type": "display_data"
    }
   ],
   "source": [
    "# rerun model with best parameters and plot\n",
    "opt = results_df.iloc[0, :3]\n",
    "opt_ln = results_df_ln.iloc[0, :3]\n",
    "ARIMA_opt = ARIMA_test(train, test, order=opt)\n",
    "ARIMA_ln = ARIMA_test(train, test, order = opt_ln, log=True)\n",
    "\n",
    "plt.plot(train, color = \"black\") # plot\n",
    "plt.plot(test, color = \"red\", label = 'Actual')\n",
    "plt.plot(ARIMA_opt[1], color='blue', label = f'ARIMA Predictions, (p={opt[0]:.0f}, d={opt[1]:.0f}, q={opt[2]:.0f}), RMSE: {ARIMA_opt[0]:.2f}')\n",
    "plt.plot(ARIMA_ln[1], color='orange', label = f'ARIMA Predictions (p={opt_ln[0]:.0f}, d={opt_ln[1]:.0f}, q={opt_ln[2]:.0f}) (logged), RMSE: {ARIMA_ln[0]:.2f}')\n",
    "plt.legend(loc='lower left');"
   ]
  },
  {
   "cell_type": "markdown",
   "id": "f2fcf8e2",
   "metadata": {},
   "source": [
    "The first model found solely by minimizing the RMSE closely resembles the actual data – however, it is likely overfitting. While not as close to the actual data, the second model is likely more robust and generalizes better. One could also consider an ARIMA(1,2,1) on the logged series would be best to avoid overfitting – this would yield $RMSE=3.45$."
   ]
  },
  {
   "cell_type": "markdown",
   "id": "d4dc8022",
   "metadata": {
    "deletable": false,
    "editable": false
   },
   "source": [
    "<!-- END QUESTION -->\n",
    "\n",
    "However, in the real world when we don't know the future values, such tuning can lead to overfitting. So we need to be aware of the [bias-variance tradeoff](https://towardsdatascience.com/understanding-the-bias-variance-tradeoff-165e6942b229) when tuning our time series model. "
   ]
  },
  {
   "cell_type": "markdown",
   "id": "6dea1312-0335-4bd4-9d0d-36139177c07c",
   "metadata": {},
   "source": [
    "## The below subparts (excluding the survey at the very end) are OPTIONAL"
   ]
  },
  {
   "cell_type": "markdown",
   "id": "6d6617af-862a-4955-91e3-b8aa554ec655",
   "metadata": {},
   "source": [
    "<div class=\"alert alert-info\">\n",
    "\n",
    "**Note:** You have now finished all the coding that is required for this lab - congratulations! The below parts (minus the survey at the very end) are purely optional, if you wish to extend your knowledge further. If you do not wish to finish these parts, feel free to scroll down, fill out the survey and then submit the lab!\n",
    "\n",
    "</div>"
   ]
  },
  {
   "cell_type": "markdown",
   "id": "38620b91",
   "metadata": {},
   "source": [
    "### Seasonal Autoregressive Integrated Moving Average (SARIMA)\n",
    "So far, we have restricted our attention to non-seasonal data and non-seasonal ARIMA models. However, ARIMA models are also capable of modelling a wide range of seasonal data.\n",
    "\n",
    "A seasonal ARIMA model is formed by including additional seasonal terms in the ARIMA models we have seen so far. It is written as follows:\n",
    "\n",
    "$$\\text{ARIMA} (p, d, q) (P, D, Q)_m$$\n",
    "\n",
    "where $m$ is the number of observations per year. For example, $m=12$ is for monthly data and $m=4$ is for quarterly data. "
   ]
  },
  {
   "cell_type": "markdown",
   "id": "47b773c1",
   "metadata": {
    "deletable": false,
    "editable": false
   },
   "source": [
    "**Question 2.3:** What should $m$ be for our dataset?"
   ]
  },
  {
   "cell_type": "code",
   "execution_count": 28,
   "id": "6aba0d51",
   "metadata": {
    "tags": []
   },
   "outputs": [],
   "source": [
    "m = 12"
   ]
  },
  {
   "cell_type": "code",
   "execution_count": 29,
   "id": "15d4a54b",
   "metadata": {
    "deletable": false,
    "editable": false
   },
   "outputs": [
    {
     "data": {
      "text/html": [
       "<p><strong><pre style='display: inline;'>q2_3</pre></strong> passed! 🌟</p>"
      ],
      "text/plain": [
       "q2_3 results: All test cases passed!"
      ]
     },
     "execution_count": 29,
     "metadata": {},
     "output_type": "execute_result"
    }
   ],
   "source": [
    "grader.check(\"q2_3\")"
   ]
  },
  {
   "cell_type": "markdown",
   "id": "5c8c1daf",
   "metadata": {},
   "source": [
    "Let's try fit our data using $\\text{ARIMA} (5, 4, 2) (2, 2, 2)_{m}$. "
   ]
  },
  {
   "cell_type": "code",
   "execution_count": 30,
   "id": "7ba4bc35",
   "metadata": {},
   "outputs": [],
   "source": [
    "SARIMAXmodel = SARIMAX(y_train, order = (5, 4, 2), seasonal_order=(2,2,2,m))\n",
    "SARIMAXmodel = SARIMAXmodel.fit(disp=0)"
   ]
  },
  {
   "cell_type": "code",
   "execution_count": 31,
   "id": "7d763bb8",
   "metadata": {},
   "outputs": [
    {
     "data": {
      "text/plain": [
       "<matplotlib.legend.Legend at 0x15d8d8a10>"
      ]
     },
     "execution_count": 31,
     "metadata": {},
     "output_type": "execute_result"
    },
    {
     "data": {
      "image/png": "[encoded data removed]",
      "text/plain": [
       "<Figure size 640x480 with 1 Axes>"
      ]
     },
     "metadata": {},
     "output_type": "display_data"
    }
   ],
   "source": [
    "y_pred = SARIMAXmodel.get_forecast(len(test.index))\n",
    "y_pred_df = y_pred.conf_int(alpha = 0.05) \n",
    "y_pred_df[\"Predictions\"] = SARIMAXmodel.predict(start = y_pred_df.index[0], end = y_pred_df.index[-1])\n",
    "y_pred_df.index = test.index\n",
    "y_pred_out = y_pred_df[\"Predictions\"] \n",
    "plt.plot(train, color = \"black\")\n",
    "plt.plot(test, color = \"red\", label = 'Actual')\n",
    "plt.plot(y_pred_out, color='Blue', label = 'SARIMA Predictions')\n",
    "plt.legend()"
   ]
  },
  {
   "cell_type": "code",
   "execution_count": 32,
   "id": "4e57540b",
   "metadata": {},
   "outputs": [
    {
     "name": "stdout",
     "output_type": "stream",
     "text": [
      "RMSE:  1.2224877370450529\n"
     ]
    }
   ],
   "source": [
    "sarima_rmse = np.sqrt(mean_squared_error(test[\"CPI\"].values, y_pred_df[\"Predictions\"]))\n",
    "print(\"RMSE: \",sarima_rmse)"
   ]
  },
  {
   "cell_type": "markdown",
   "id": "163b3752",
   "metadata": {
    "deletable": false,
    "editable": false
   },
   "source": [
    "**Question 2.4:** It seems that the SARIMA model doesn't help too much with our predictions. Why?\n",
    "\n",
    "1. Because SARIMA is not an improvement to ARIMA for this time series\n",
    "2. Because we did not give SARIMA a reasonable set of orders\n",
    "3. Because the data is too volatile to predict\n",
    "\n",
    "Assign the number corresponding to your answer to `q2_4` below."
   ]
  },
  {
   "cell_type": "code",
   "execution_count": 33,
   "id": "f43a5b7c",
   "metadata": {
    "tags": []
   },
   "outputs": [],
   "source": [
    "q2_4 = 1"
   ]
  },
  {
   "cell_type": "code",
   "execution_count": 34,
   "id": "fc317d7f",
   "metadata": {
    "deletable": false,
    "editable": false
   },
   "outputs": [
    {
     "data": {
      "text/html": [
       "<p><strong><pre style='display: inline;'>q2_4</pre></strong> passed! 🎉</p><p><strong><pre style='display: inline;'>q2_4 - 1</pre> message:</strong> Correct. Our CPI series is already a seasonally adjusted series!</p>"
      ],
      "text/plain": [
       "q2_4 results: All test cases passed!\n",
       "q2_4 - 1 message: Correct. Our CPI series is already a seasonally adjusted series!"
      ]
     },
     "execution_count": 34,
     "metadata": {},
     "output_type": "execute_result"
    }
   ],
   "source": [
    "grader.check(\"q2_4\")"
   ]
  },
  {
   "cell_type": "markdown",
   "id": "84c6405f",
   "metadata": {},
   "source": [
    "---\n",
    "## Part 3: Time Series with Multiple Series"
   ]
  },
  {
   "cell_type": "markdown",
   "id": "59c130ff",
   "metadata": {},
   "source": [
    "We want to combine both time series so that we can analyze them together. However, we notice that the `DATE` column has different values. ZORI is measured on the 31st of each month, while CPI is measured on the 1st day of each month. For our purposes, we can combine the two by using the `DATE` index from the US CPI and using the 1st day of the month."
   ]
  },
  {
   "cell_type": "code",
   "execution_count": 35,
   "id": "1cc83f42",
   "metadata": {},
   "outputs": [
    {
     "data": {
      "text/html": [
       "<div>\n",
       "<style scoped>\n",
       "    .dataframe tbody tr th:only-of-type {\n",
       "        vertical-align: middle;\n",
       "    }\n",
       "\n",
       "    .dataframe tbody tr th {\n",
       "        vertical-align: top;\n",
       "    }\n",
       "\n",
       "    .dataframe thead th {\n",
       "        text-align: right;\n",
       "    }\n",
       "</style>\n",
       "<table border=\"1\" class=\"dataframe\">\n",
       "  <thead>\n",
       "    <tr style=\"text-align: right;\">\n",
       "      <th></th>\n",
       "      <th>ZORI</th>\n",
       "      <th>CPI</th>\n",
       "    </tr>\n",
       "    <tr>\n",
       "      <th>DATE</th>\n",
       "      <th></th>\n",
       "      <th></th>\n",
       "    </tr>\n",
       "  </thead>\n",
       "  <tbody>\n",
       "    <tr>\n",
       "      <th>2015-04-01</th>\n",
       "      <td>1370.301806</td>\n",
       "      <td>283.598</td>\n",
       "    </tr>\n",
       "    <tr>\n",
       "      <th>2015-05-01</th>\n",
       "      <td>1381.971304</td>\n",
       "      <td>284.245</td>\n",
       "    </tr>\n",
       "    <tr>\n",
       "      <th>2015-06-01</th>\n",
       "      <td>1392.389090</td>\n",
       "      <td>285.031</td>\n",
       "    </tr>\n",
       "    <tr>\n",
       "      <th>2015-07-01</th>\n",
       "      <td>1403.203509</td>\n",
       "      <td>286.090</td>\n",
       "    </tr>\n",
       "    <tr>\n",
       "      <th>2015-08-01</th>\n",
       "      <td>1408.901384</td>\n",
       "      <td>287.068</td>\n",
       "    </tr>\n",
       "    <tr>\n",
       "      <th>...</th>\n",
       "      <td>...</td>\n",
       "      <td>...</td>\n",
       "    </tr>\n",
       "    <tr>\n",
       "      <th>2022-05-01</th>\n",
       "      <td>1997.731260</td>\n",
       "      <td>365.116</td>\n",
       "    </tr>\n",
       "    <tr>\n",
       "      <th>2022-06-01</th>\n",
       "      <td>2019.752839</td>\n",
       "      <td>367.927</td>\n",
       "    </tr>\n",
       "    <tr>\n",
       "      <th>2022-07-01</th>\n",
       "      <td>2044.662959</td>\n",
       "      <td>370.448</td>\n",
       "    </tr>\n",
       "    <tr>\n",
       "      <th>2022-08-01</th>\n",
       "      <td>2065.275748</td>\n",
       "      <td>373.283</td>\n",
       "    </tr>\n",
       "    <tr>\n",
       "      <th>2022-09-01</th>\n",
       "      <td>2078.546078</td>\n",
       "      <td>376.569</td>\n",
       "    </tr>\n",
       "  </tbody>\n",
       "</table>\n",
       "<p>90 rows × 2 columns</p>\n",
       "</div>"
      ],
      "text/plain": [
       "                   ZORI      CPI\n",
       "DATE                            \n",
       "2015-04-01  1370.301806  283.598\n",
       "2015-05-01  1381.971304  284.245\n",
       "2015-06-01  1392.389090  285.031\n",
       "2015-07-01  1403.203509  286.090\n",
       "2015-08-01  1408.901384  287.068\n",
       "...                 ...      ...\n",
       "2022-05-01  1997.731260  365.116\n",
       "2022-06-01  2019.752839  367.927\n",
       "2022-07-01  2044.662959  370.448\n",
       "2022-08-01  2065.275748  373.283\n",
       "2022-09-01  2078.546078  376.569\n",
       "\n",
       "[90 rows x 2 columns]"
      ]
     },
     "execution_count": 35,
     "metadata": {},
     "output_type": "execute_result"
    }
   ],
   "source": [
    "combined = pd.concat([zillow.reset_index(drop=True), usCPI.reset_index(drop=True)], axis=1)\n",
    "combined.index = usCPI.index\n",
    "combined"
   ]
  },
  {
   "cell_type": "markdown",
   "id": "2d405a49",
   "metadata": {},
   "source": [
    "### Visual Comparison"
   ]
  },
  {
   "cell_type": "markdown",
   "id": "2ebf71bb",
   "metadata": {},
   "source": [
    "We can try plotting this graph to see if we can find anything interesting."
   ]
  },
  {
   "cell_type": "code",
   "execution_count": 36,
   "id": "6bf30323",
   "metadata": {},
   "outputs": [
    {
     "data": {
      "image/png": "[encoded data removed]",
      "text/plain": [
       "<Figure size 640x480 with 2 Axes>"
      ]
     },
     "metadata": {},
     "output_type": "display_data"
    }
   ],
   "source": [
    "sns.lineplot(data=combined, x=\"DATE\", y=\"CPI\", color='tab:blue', label='CPI')\n",
    "ax2 = plt.twinx()\n",
    "sns.lineplot(data=combined, x=\"DATE\", y=\"ZORI\", color='tab:orange', ax=ax2, label='ZORI')\n",
    "plt.legend(loc='upper left')\n",
    "ax2.legend(loc='lower right')\n",
    "plt.title(\"US CPI vs ZORI\");"
   ]
  },
  {
   "cell_type": "markdown",
   "id": "809d9e48",
   "metadata": {},
   "source": [
    "#### Logging Our Data"
   ]
  },
  {
   "cell_type": "markdown",
   "id": "c6c9712b",
   "metadata": {},
   "source": [
    "We can try logging our data to make them easier to compare."
   ]
  },
  {
   "cell_type": "markdown",
   "id": "2079d7ef",
   "metadata": {
    "deletable": false,
    "editable": false
   },
   "source": [
    "**Question 3.1:** Take the natural log for `CPI` and `ZORI` and store the results in new columns `log CPI` and `log ZORI`. Then make a plot similar to the one above. \n",
    "\n",
    "Hint: You may want to convert both column `ZORI` and `CPI` to `float64` before taking the natural log. "
   ]
  },
  {
   "cell_type": "code",
   "execution_count": 37,
   "id": "fb155c9e",
   "metadata": {
    "tags": []
   },
   "outputs": [
    {
     "data": {
      "image/png": "[encoded data removed]",
      "text/plain": [
       "<Figure size 640x480 with 2 Axes>"
      ]
     },
     "metadata": {},
     "output_type": "display_data"
    }
   ],
   "source": [
    "\n",
    "combined[\"log CPI\"] = np.log(combined[\"CPI\"])\n",
    "combined[\"log ZORI\"] = np.log(combined[\"ZORI\"])\n",
    "\n",
    "sns.lineplot(data=combined, x='DATE', y='log CPI', color='tab:blue', label='log CPI')\n",
    "plt.ylim([5.6, 6.1])\n",
    "plt.legend(loc='upper left')\n",
    "\n",
    "ax2 = plt.twinx()\n",
    "sns.lineplot(data=combined, x='DATE', y='log ZORI', color='tab:orange', ax=ax2, label='log ZORI')\n",
    "ax2.set_ylim([7.2, 7.7])\n",
    "ax2.legend(loc='lower right')\n",
    "plt.title(\"US CPI vs ZORI (Logged)\");"
   ]
  },
  {
   "cell_type": "code",
   "execution_count": 38,
   "id": "c417f878",
   "metadata": {
    "deletable": false,
    "editable": false
   },
   "outputs": [
    {
     "data": {
      "text/html": [
       "<p><strong><pre style='display: inline;'>q3_1</pre></strong> passed! 🌟</p>"
      ],
      "text/plain": [
       "q3_1 results: All test cases passed!"
      ]
     },
     "execution_count": 38,
     "metadata": {},
     "output_type": "execute_result"
    }
   ],
   "source": [
    "grader.check(\"q3_1\")"
   ]
  },
  {
   "cell_type": "markdown",
   "id": "fb913a8a",
   "metadata": {
    "deletable": false,
    "editable": false
   },
   "source": [
    "<!-- BEGIN QUESTION -->\n",
    "\n",
    "**Question 3.2:** Which time series is more volatile? What can be one possible explanation?"
   ]
  },
  {
   "cell_type": "markdown",
   "id": "7cdef0c9",
   "metadata": {},
   "source": [
    "The Zillow Observed Rent Index is the most volatile of the time series. This is explained by the fact that the ZORI only considers rent and is thus more sensitive than a broader index like the CPI. This is especially true for interest rates, which affect the housing market more than the general economy."
   ]
  },
  {
   "cell_type": "markdown",
   "id": "da85d1ff",
   "metadata": {
    "deletable": false,
    "editable": false
   },
   "source": [
    "<!-- END QUESTION -->\n",
    "\n"
   ]
  },
  {
   "cell_type": "code",
   "execution_count": 39,
   "id": "5aec4bf6",
   "metadata": {},
   "outputs": [
    {
     "name": "stdout",
     "output_type": "stream",
     "text": [
      "Correlation:  0.9546514472682945\n",
      "P-value:  4.405480838191599e-48\n"
     ]
    }
   ],
   "source": [
    "# correlation\n",
    "rho, pvalue = stats.pearsonr(combined[\"log CPI\"], combined[\"log ZORI\"])\n",
    "print(\"Correlation: \", rho)\n",
    "print(\"P-value: \", pvalue)"
   ]
  },
  {
   "cell_type": "markdown",
   "id": "19285041",
   "metadata": {},
   "source": [
    "### Vector Autoregressive (VAR) Models"
   ]
  },
  {
   "cell_type": "markdown",
   "id": "d09e06bd",
   "metadata": {},
   "source": [
    "One limitation of the models that we have considered so far is that they impose a unidirectional relationship — the forecast variable is influenced by the predictor variables, but not vice versa. However, there are many cases where the reverse should also be allowed for — where all variables affect each other. For example, in our case CPI and ZORI can be predictor for each other since they are highly correlated series.  \n",
    "\n",
    "A VAR model is a generalization of the univariate autoregressive model for forecasting a vector of time series. We will not go into the math behind VAR model in this class. "
   ]
  },
  {
   "cell_type": "code",
   "execution_count": 40,
   "id": "f4f5cdf9",
   "metadata": {},
   "outputs": [],
   "source": [
    "# Import Statsmodels packages\n",
    "from statsmodels.tsa.api import VAR\n",
    "from statsmodels.tsa.stattools import adfuller\n",
    "from statsmodels.tools.eval_measures import rmse, aic"
   ]
  },
  {
   "cell_type": "code",
   "execution_count": 41,
   "id": "8bd0a022",
   "metadata": {},
   "outputs": [
    {
     "data": {
      "text/html": [
       "<div>\n",
       "<style scoped>\n",
       "    .dataframe tbody tr th:only-of-type {\n",
       "        vertical-align: middle;\n",
       "    }\n",
       "\n",
       "    .dataframe tbody tr th {\n",
       "        vertical-align: top;\n",
       "    }\n",
       "\n",
       "    .dataframe thead th {\n",
       "        text-align: right;\n",
       "    }\n",
       "</style>\n",
       "<table border=\"1\" class=\"dataframe\">\n",
       "  <thead>\n",
       "    <tr style=\"text-align: right;\">\n",
       "      <th></th>\n",
       "      <th>CPI</th>\n",
       "      <th>ZORI</th>\n",
       "    </tr>\n",
       "    <tr>\n",
       "      <th>DATE</th>\n",
       "      <th></th>\n",
       "      <th></th>\n",
       "    </tr>\n",
       "  </thead>\n",
       "  <tbody>\n",
       "    <tr>\n",
       "      <th>2015-04-01</th>\n",
       "      <td>283.598</td>\n",
       "      <td>1370.301806</td>\n",
       "    </tr>\n",
       "    <tr>\n",
       "      <th>2015-05-01</th>\n",
       "      <td>284.245</td>\n",
       "      <td>1381.971304</td>\n",
       "    </tr>\n",
       "    <tr>\n",
       "      <th>2015-06-01</th>\n",
       "      <td>285.031</td>\n",
       "      <td>1392.389090</td>\n",
       "    </tr>\n",
       "    <tr>\n",
       "      <th>2015-07-01</th>\n",
       "      <td>286.090</td>\n",
       "      <td>1403.203509</td>\n",
       "    </tr>\n",
       "    <tr>\n",
       "      <th>2015-08-01</th>\n",
       "      <td>287.068</td>\n",
       "      <td>1408.901384</td>\n",
       "    </tr>\n",
       "    <tr>\n",
       "      <th>...</th>\n",
       "      <td>...</td>\n",
       "      <td>...</td>\n",
       "    </tr>\n",
       "    <tr>\n",
       "      <th>2022-05-01</th>\n",
       "      <td>365.116</td>\n",
       "      <td>1997.731260</td>\n",
       "    </tr>\n",
       "    <tr>\n",
       "      <th>2022-06-01</th>\n",
       "      <td>367.927</td>\n",
       "      <td>2019.752839</td>\n",
       "    </tr>\n",
       "    <tr>\n",
       "      <th>2022-07-01</th>\n",
       "      <td>370.448</td>\n",
       "      <td>2044.662959</td>\n",
       "    </tr>\n",
       "    <tr>\n",
       "      <th>2022-08-01</th>\n",
       "      <td>373.283</td>\n",
       "      <td>2065.275748</td>\n",
       "    </tr>\n",
       "    <tr>\n",
       "      <th>2022-09-01</th>\n",
       "      <td>376.569</td>\n",
       "      <td>2078.546078</td>\n",
       "    </tr>\n",
       "  </tbody>\n",
       "</table>\n",
       "<p>90 rows × 2 columns</p>\n",
       "</div>"
      ],
      "text/plain": [
       "                CPI         ZORI\n",
       "DATE                            \n",
       "2015-04-01  283.598  1370.301806\n",
       "2015-05-01  284.245  1381.971304\n",
       "2015-06-01  285.031  1392.389090\n",
       "2015-07-01  286.090  1403.203509\n",
       "2015-08-01  287.068  1408.901384\n",
       "...             ...          ...\n",
       "2022-05-01  365.116  1997.731260\n",
       "2022-06-01  367.927  2019.752839\n",
       "2022-07-01  370.448  2044.662959\n",
       "2022-08-01  373.283  2065.275748\n",
       "2022-09-01  376.569  2078.546078\n",
       "\n",
       "[90 rows x 2 columns]"
      ]
     },
     "execution_count": 41,
     "metadata": {},
     "output_type": "execute_result"
    }
   ],
   "source": [
    "var_df = combined[[\"CPI\", \"ZORI\"]]\n",
    "var_df"
   ]
  },
  {
   "cell_type": "markdown",
   "id": "c00e3ec0",
   "metadata": {},
   "source": [
    "#### Splitting into Training and Testing Groups"
   ]
  },
  {
   "cell_type": "code",
   "execution_count": 42,
   "id": "1251a864",
   "metadata": {
    "scrolled": true
   },
   "outputs": [
    {
     "name": "stdout",
     "output_type": "stream",
     "text": [
      "(86, 2)\n",
      "(4, 2)\n"
     ]
    }
   ],
   "source": [
    "nobs = 4\n",
    "df_train, df_test = var_df[0:-nobs], var_df[-nobs:]\n",
    "\n",
    "# Check size\n",
    "print(df_train.shape) \n",
    "print(df_test.shape)"
   ]
  },
  {
   "cell_type": "code",
   "execution_count": 43,
   "id": "1a55d4c5",
   "metadata": {},
   "outputs": [
    {
     "data": {
      "text/plain": [
       "CPI     float64\n",
       "ZORI    float64\n",
       "dtype: object"
      ]
     },
     "execution_count": 43,
     "metadata": {},
     "output_type": "execute_result"
    }
   ],
   "source": [
    "df_train.dtypes"
   ]
  },
  {
   "cell_type": "markdown",
   "id": "84bd2bf8",
   "metadata": {},
   "source": [
    "---\n",
    "### Step 1: Checking Correlations"
   ]
  },
  {
   "cell_type": "markdown",
   "id": "5d019ab4",
   "metadata": {},
   "source": [
    "#### Granger Causality\n",
    "We first use Granger's Causality Tests to see the p-value of the correlations between different variables."
   ]
  },
  {
   "cell_type": "code",
   "execution_count": 44,
   "id": "2eab3a32",
   "metadata": {},
   "outputs": [],
   "source": [
    "from statsmodels.tsa.stattools import grangercausalitytests\n",
    "maxlag=12\n",
    "test = 'ssr_chi2test'\n",
    "def grangers_causation_matrix(data, variables, test='ssr_chi2test', verbose=False):    \n",
    "    \"\"\"Check Granger Causality of all possible combinations of the Time series.\n",
    "    The rows are the response variable, columns are predictors. The values in the table \n",
    "    are the P-Values. P-Values lesser than the significance level (0.05), implies \n",
    "    the Null Hypothesis that the coefficients of the corresponding past values is \n",
    "    zero, that is, the X does not cause Y can be rejected.\n",
    "\n",
    "    data      : pandas dataframe containing the time series variables\n",
    "    variables : list containing names of the time series variables.\n",
    "    \"\"\"\n",
    "    df = pd.DataFrame(np.zeros((len(variables), len(variables))), columns=variables, index=variables)\n",
    "    for c in df.columns:\n",
    "        for r in df.index:\n",
    "            test_result = grangercausalitytests(data[[r, c]], maxlag=maxlag, verbose=False)\n",
    "            p_values = [round(test_result[i+1][0][test][1],4) for i in range(maxlag)]\n",
    "            if verbose: print(f'Y = {r}, X = {c}, P Values = {p_values}')\n",
    "            min_p_value = np.min(p_values)\n",
    "            df.loc[r, c] = min_p_value\n",
    "    df.columns = [var + '_x' for var in variables]\n",
    "    df.index = [var + '_y' for var in variables]\n",
    "    return df"
   ]
  },
  {
   "cell_type": "code",
   "execution_count": 45,
   "id": "455baeff",
   "metadata": {},
   "outputs": [
    {
     "data": {
      "text/html": [
       "<div>\n",
       "<style scoped>\n",
       "    .dataframe tbody tr th:only-of-type {\n",
       "        vertical-align: middle;\n",
       "    }\n",
       "\n",
       "    .dataframe tbody tr th {\n",
       "        vertical-align: top;\n",
       "    }\n",
       "\n",
       "    .dataframe thead th {\n",
       "        text-align: right;\n",
       "    }\n",
       "</style>\n",
       "<table border=\"1\" class=\"dataframe\">\n",
       "  <thead>\n",
       "    <tr style=\"text-align: right;\">\n",
       "      <th></th>\n",
       "      <th>CPI_x</th>\n",
       "      <th>ZORI_x</th>\n",
       "    </tr>\n",
       "  </thead>\n",
       "  <tbody>\n",
       "    <tr>\n",
       "      <th>CPI_y</th>\n",
       "      <td>1.0000</td>\n",
       "      <td>0.0</td>\n",
       "    </tr>\n",
       "    <tr>\n",
       "      <th>ZORI_y</th>\n",
       "      <td>0.0119</td>\n",
       "      <td>1.0</td>\n",
       "    </tr>\n",
       "  </tbody>\n",
       "</table>\n",
       "</div>"
      ],
      "text/plain": [
       "         CPI_x  ZORI_x\n",
       "CPI_y   1.0000     0.0\n",
       "ZORI_y  0.0119     1.0"
      ]
     },
     "execution_count": 45,
     "metadata": {},
     "output_type": "execute_result"
    }
   ],
   "source": [
    "grangers_causation_matrix(var_df, variables = var_df.columns) "
   ]
  },
  {
   "cell_type": "markdown",
   "id": "d77f71f5",
   "metadata": {
    "deletable": false,
    "editable": false
   },
   "source": [
    "<!-- BEGIN QUESTION -->\n",
    "\n",
    "**Question 3.3:** How can we interpret the findings above?\n",
    "\n",
    "Hint: Read the docstring for the function `grangers_causation_matrix`. "
   ]
  },
  {
   "cell_type": "markdown",
   "id": "d64f55b8",
   "metadata": {},
   "source": [
    "Granger causality does not necessarily imply causality; rather, it is a statistical concept that explains whether one time series is useful in forecasting another. From the matrix above, we can see that both ZORI_x CPI_y and CPI_x and ZORI_y have values below the significance level, and thus, granger causes each other. The effect, however, is stronger from ZORI to CPI than the other way around."
   ]
  },
  {
   "cell_type": "markdown",
   "id": "36d2c30b",
   "metadata": {
    "deletable": false,
    "editable": false
   },
   "source": [
    "<!-- END QUESTION -->\n",
    "\n",
    "#### Cointegration Test\n",
    "We can also use a cointegration test to see if the two time series are correlated before making any predictions."
   ]
  },
  {
   "cell_type": "code",
   "execution_count": 46,
   "id": "be0a65fa",
   "metadata": {},
   "outputs": [],
   "source": [
    "from statsmodels.tsa.vector_ar.vecm import coint_johansen\n",
    "\n",
    "def cointegration_test(df, alpha=0.05): \n",
    "    \"\"\"Perform Johanson's Cointegration Test and Report Summary\"\"\"\n",
    "    out = coint_johansen(df,-1,5)\n",
    "    d = {'0.90':0, '0.95':1, '0.99':2}\n",
    "    traces = out.lr1\n",
    "    cvts = out.cvt[:, d[str(1-alpha)]]\n",
    "    def adjust(val, length= 6): return str(val).ljust(length)\n",
    "\n",
    "    # Summary\n",
    "    print('Name   ::  Test Stat > C(95%)    =>   Signif  \\n', '--'*20)\n",
    "    for col, trace, cvt in zip(df.columns, traces, cvts):\n",
    "        print(adjust(col), ':: ', adjust(round(trace,2), 9), \">\", adjust(cvt, 8), ' =>  ' , trace > cvt)"
   ]
  },
  {
   "cell_type": "code",
   "execution_count": 47,
   "id": "22e73d95",
   "metadata": {},
   "outputs": [
    {
     "name": "stdout",
     "output_type": "stream",
     "text": [
      "Name   ::  Test Stat > C(95%)    =>   Signif  \n",
      " ----------------------------------------\n",
      "CPI    ::  20.2      > 12.3212   =>   True\n",
      "ZORI   ::  5.2       > 4.1296    =>   True\n"
     ]
    }
   ],
   "source": [
    "cointegration_test(var_df)"
   ]
  },
  {
   "cell_type": "markdown",
   "id": "f4a379aa",
   "metadata": {},
   "source": [
    "### Step 2: Transforming the Time Series to be Stationary\n",
    "In order to perform our VAR test, we want our time series to be stationary. A stationary time series is one whose characteristics like mean and variance does not change over time. This is similar to what we have done with ARIMA model. "
   ]
  },
  {
   "cell_type": "markdown",
   "id": "0bb64604",
   "metadata": {},
   "source": [
    "Augmented Dickey Fuller test (ADFuller or ADF Test) is a common statistical test used to test whether a given Time series is stationary or not. It is one of the most commonly used statistical test when it comes to analyzing the stationary of a series."
   ]
  },
  {
   "cell_type": "code",
   "execution_count": 48,
   "id": "a15184e4",
   "metadata": {},
   "outputs": [],
   "source": [
    "def adfuller_test(series, signif=0.05, name='', verbose=False):\n",
    "    \"\"\"Perform ADFuller to test for Stationarity of given series and print report\"\"\"\n",
    "    r = adfuller(series, autolag='AIC')\n",
    "    output = {'test_statistic':round(r[0], 4), 'pvalue':round(r[1], 4), 'n_lags':round(r[2], 4), 'n_obs':r[3]}\n",
    "    p_value = output['pvalue'] \n",
    "    def adjust(val, length= 6): return str(val).ljust(length)\n",
    "\n",
    "    # Print Summary\n",
    "    print(f'    Augmented Dickey-Fuller Test on \"{name}\"', \"\\n   \", '-'*47)\n",
    "    print(f' Null Hypothesis: Data has unit root. Non-Stationary.')\n",
    "    print(f' Significance Level    = {signif}')\n",
    "    print(f' Test Statistic        = {output[\"test_statistic\"]}')\n",
    "    print(f' No. Lags Chosen       = {output[\"n_lags\"]}')\n",
    "\n",
    "    for key,val in r[4].items():\n",
    "        print(f' Critical value {adjust(key)} = {round(val, 3)}')\n",
    "\n",
    "    if p_value <= signif:\n",
    "        print(f\" => P-Value = {p_value}. Rejecting Null Hypothesis.\")\n",
    "        print(f\" => Series is Stationary.\")\n",
    "    else:\n",
    "        print(f\" => P-Value = {p_value}. Weak evidence to reject the Null Hypothesis.\")\n",
    "        print(f\" => Series is Non-Stationary.\")  "
   ]
  },
  {
   "cell_type": "markdown",
   "id": "5e0e2cc2",
   "metadata": {},
   "source": [
    "We will keep differencing the data series until we pass the ADFuller test for stationarity. "
   ]
  },
  {
   "cell_type": "markdown",
   "id": "da3744c1",
   "metadata": {},
   "source": [
    "#### First Iteration (with no differencing)"
   ]
  },
  {
   "cell_type": "code",
   "execution_count": 49,
   "id": "e05d5de9",
   "metadata": {},
   "outputs": [
    {
     "name": "stdout",
     "output_type": "stream",
     "text": [
      "    Augmented Dickey-Fuller Test on \"CPI\" \n",
      "    -----------------------------------------------\n",
      " Null Hypothesis: Data has unit root. Non-Stationary.\n",
      " Significance Level    = 0.05\n",
      " Test Statistic        = 1.0281\n",
      " No. Lags Chosen       = 2\n",
      " Critical value 1%     = -3.512\n",
      " Critical value 5%     = -2.897\n",
      " Critical value 10%    = -2.586\n",
      " => P-Value = 0.9946. Weak evidence to reject the Null Hypothesis.\n",
      " => Series is Non-Stationary.\n",
      "\n",
      "\n",
      "    Augmented Dickey-Fuller Test on \"ZORI\" \n",
      "    -----------------------------------------------\n",
      " Null Hypothesis: Data has unit root. Non-Stationary.\n",
      " Significance Level    = 0.05\n",
      " Test Statistic        = 1.355\n",
      " No. Lags Chosen       = 7\n",
      " Critical value 1%     = -3.517\n",
      " Critical value 5%     = -2.899\n",
      " Critical value 10%    = -2.587\n",
      " => P-Value = 0.9969. Weak evidence to reject the Null Hypothesis.\n",
      " => Series is Non-Stationary.\n",
      "\n",
      "\n"
     ]
    }
   ],
   "source": [
    "for name, column in df_train.items():\n",
    "    adfuller_test(column, name=column.name)\n",
    "    print('\\n')"
   ]
  },
  {
   "cell_type": "markdown",
   "id": "2149d35f",
   "metadata": {},
   "source": [
    "#### Second Iteration"
   ]
  },
  {
   "cell_type": "code",
   "execution_count": 50,
   "id": "10594878",
   "metadata": {},
   "outputs": [],
   "source": [
    "df_differenced = df_train.diff().dropna()"
   ]
  },
  {
   "cell_type": "code",
   "execution_count": 51,
   "id": "6e75f176",
   "metadata": {},
   "outputs": [
    {
     "name": "stdout",
     "output_type": "stream",
     "text": [
      "    Augmented Dickey-Fuller Test on \"CPI\" \n",
      "    -----------------------------------------------\n",
      " Null Hypothesis: Data has unit root. Non-Stationary.\n",
      " Significance Level    = 0.05\n",
      " Test Statistic        = -1.3492\n",
      " No. Lags Chosen       = 1\n",
      " Critical value 1%     = -3.512\n",
      " Critical value 5%     = -2.897\n",
      " Critical value 10%    = -2.586\n",
      " => P-Value = 0.6064. Weak evidence to reject the Null Hypothesis.\n",
      " => Series is Non-Stationary.\n",
      "\n",
      "\n",
      "    Augmented Dickey-Fuller Test on \"ZORI\" \n",
      "    -----------------------------------------------\n",
      " Null Hypothesis: Data has unit root. Non-Stationary.\n",
      " Significance Level    = 0.05\n",
      " Test Statistic        = -0.5727\n",
      " No. Lags Chosen       = 6\n",
      " Critical value 1%     = -3.517\n",
      " Critical value 5%     = -2.899\n",
      " Critical value 10%    = -2.587\n",
      " => P-Value = 0.877. Weak evidence to reject the Null Hypothesis.\n",
      " => Series is Non-Stationary.\n",
      "\n",
      "\n"
     ]
    }
   ],
   "source": [
    "# ADF Test on each column of 1st Differences Dataframe\n",
    "for name, column in df_differenced.items():\n",
    "    adfuller_test(column, name=column.name)\n",
    "    print('\\n')"
   ]
  },
  {
   "cell_type": "markdown",
   "id": "0470da90",
   "metadata": {},
   "source": [
    "#### Third Iteration"
   ]
  },
  {
   "cell_type": "code",
   "execution_count": 52,
   "id": "7f304074",
   "metadata": {},
   "outputs": [],
   "source": [
    "df_differenced = df_differenced.diff().dropna()"
   ]
  },
  {
   "cell_type": "code",
   "execution_count": 53,
   "id": "1e17e7f7",
   "metadata": {},
   "outputs": [
    {
     "name": "stdout",
     "output_type": "stream",
     "text": [
      "    Augmented Dickey-Fuller Test on \"CPI\" \n",
      "    -----------------------------------------------\n",
      " Null Hypothesis: Data has unit root. Non-Stationary.\n",
      " Significance Level    = 0.05\n",
      " Test Statistic        = -12.856\n",
      " No. Lags Chosen       = 0\n",
      " Critical value 1%     = -3.512\n",
      " Critical value 5%     = -2.897\n",
      " Critical value 10%    = -2.586\n",
      " => P-Value = 0.0. Rejecting Null Hypothesis.\n",
      " => Series is Stationary.\n",
      "\n",
      "\n",
      "    Augmented Dickey-Fuller Test on \"ZORI\" \n",
      "    -----------------------------------------------\n",
      " Null Hypothesis: Data has unit root. Non-Stationary.\n",
      " Significance Level    = 0.05\n",
      " Test Statistic        = -7.0602\n",
      " No. Lags Chosen       = 5\n",
      " Critical value 1%     = -3.517\n",
      " Critical value 5%     = -2.899\n",
      " Critical value 10%    = -2.587\n",
      " => P-Value = 0.0. Rejecting Null Hypothesis.\n",
      " => Series is Stationary.\n",
      "\n",
      "\n"
     ]
    }
   ],
   "source": [
    "# ADF Test on each column of 2nd Differences Dataframe\n",
    "for name, column in df_differenced.items():\n",
    "    adfuller_test(column, name=column.name)\n",
    "    print('\\n')"
   ]
  },
  {
   "cell_type": "markdown",
   "id": "262c8ea1",
   "metadata": {},
   "source": [
    "Now it seems that both series are stationary. "
   ]
  },
  {
   "cell_type": "markdown",
   "id": "b00fb304",
   "metadata": {},
   "source": [
    "### Step 3: Fitting the Model"
   ]
  },
  {
   "cell_type": "code",
   "execution_count": 54,
   "id": "6a64ca95",
   "metadata": {},
   "outputs": [
    {
     "name": "stdout",
     "output_type": "stream",
     "text": [
      "Lag Order = 1\n",
      "AIC :  -0.21026376340086728\n",
      "BIC :  -0.03540781584930597\n",
      "FPE :  0.8104215346830951\n",
      "HQIC:  -0.14001643485826226 \n",
      "\n",
      "Lag Order = 3\n",
      "AIC :  -0.36170542164107533\n",
      "BIC :  0.05214998780848212\n",
      "FPE :  0.6970898329062676\n",
      "HQIC:  -0.19566120825064925 \n",
      "\n",
      "Lag Order = 5\n",
      "AIC :  -0.31964473612037547\n",
      "BIC :  0.34020150127550397\n",
      "FPE :  0.7290573861095475\n",
      "HQIC:  -0.0552901453698309 \n",
      "\n",
      "Lag Order = 9\n",
      "AIC :  -0.3820421056598047\n",
      "BIC :  0.7921518718652589\n",
      "FPE :  0.6980327511351829\n",
      "HQIC:  0.08680065599159414 \n",
      "\n"
     ]
    }
   ],
   "source": [
    "model = VAR(df_differenced)\n",
    "for i in [1,3,5,9]:\n",
    "    result = model.fit(i)\n",
    "    print('Lag Order =', i)\n",
    "    print('AIC : ', result.aic)\n",
    "    print('BIC : ', result.bic)\n",
    "    print('FPE : ', result.fpe)\n",
    "    print('HQIC: ', result.hqic, '\\n')"
   ]
  },
  {
   "cell_type": "code",
   "execution_count": 55,
   "id": "62a93028",
   "metadata": {},
   "outputs": [
    {
     "data": {
      "text/plain": [
       "  Summary of Regression Results   \n",
       "==================================\n",
       "Model:                         VAR\n",
       "Method:                        OLS\n",
       "Date:           Tue, 02, Apr, 2024\n",
       "Time:                     17:19:33\n",
       "--------------------------------------------------------------------\n",
       "No. of Equations:         2.00000    BIC:                  0.0521500\n",
       "Nobs:                     81.0000    HQIC:                 -0.195661\n",
       "Log likelihood:          -201.219    FPE:                   0.697090\n",
       "AIC:                    -0.361705    Det(Omega_mle):        0.590600\n",
       "--------------------------------------------------------------------\n",
       "Results for equation CPI\n",
       "==========================================================================\n",
       "             coefficient       std. error           t-stat            prob\n",
       "--------------------------------------------------------------------------\n",
       "const           0.018346         0.026775            0.685           0.493\n",
       "L1.CPI         -0.447558         0.118263           -3.784           0.000\n",
       "L1.ZORI        -0.003679         0.008218           -0.448           0.654\n",
       "L2.CPI         -0.137827         0.128452           -1.073           0.283\n",
       "L2.ZORI         0.012676         0.008984            1.411           0.158\n",
       "L3.CPI          0.084114         0.119639            0.703           0.482\n",
       "L3.ZORI         0.007810         0.008729            0.895           0.371\n",
       "==========================================================================\n",
       "\n",
       "Results for equation ZORI\n",
       "==========================================================================\n",
       "             coefficient       std. error           t-stat            prob\n",
       "--------------------------------------------------------------------------\n",
       "const           0.266147         0.361993            0.735           0.462\n",
       "L1.CPI         -1.155771         1.598903           -0.723           0.470\n",
       "L1.ZORI         0.335336         0.111113            3.018           0.003\n",
       "L2.CPI         -2.828960         1.736660           -1.629           0.103\n",
       "L2.ZORI         0.335568         0.121469            2.763           0.006\n",
       "L3.CPI         -2.877204         1.617503           -1.779           0.075\n",
       "L3.ZORI        -0.410212         0.118012           -3.476           0.001\n",
       "==========================================================================\n",
       "\n",
       "Correlation matrix of residuals\n",
       "             CPI      ZORI\n",
       "CPI     1.000000 -0.094137\n",
       "ZORI   -0.094137  1.000000\n",
       "\n"
      ]
     },
     "execution_count": 55,
     "metadata": {},
     "output_type": "execute_result"
    }
   ],
   "source": [
    "model_fitted = model.fit(3)\n",
    "model_fitted.summary()"
   ]
  },
  {
   "cell_type": "code",
   "execution_count": 56,
   "id": "3d2eb992",
   "metadata": {
    "scrolled": true
   },
   "outputs": [
    {
     "name": "stdout",
     "output_type": "stream",
     "text": [
      "CPI    : 2.03\n",
      "ZORI   : 1.9\n"
     ]
    }
   ],
   "source": [
    "from statsmodels.stats.stattools import durbin_watson\n",
    "\n",
    "def adjust(val, length= 6): return str(val).ljust(length)\n",
    "out = durbin_watson(model_fitted.resid)\n",
    "\n",
    "for col, val in zip(df_differenced.columns, out):\n",
    "    print(adjust(col), ':', round(val, 2))"
   ]
  },
  {
   "cell_type": "markdown",
   "id": "3104f592",
   "metadata": {},
   "source": [
    "### Step 4: Making Predictions"
   ]
  },
  {
   "cell_type": "code",
   "execution_count": 57,
   "id": "2e3dfefc",
   "metadata": {},
   "outputs": [
    {
     "name": "stdout",
     "output_type": "stream",
     "text": [
      "3\n"
     ]
    },
    {
     "data": {
      "text/plain": [
       "array([[-0.434     ,  9.60846668],\n",
       "       [ 0.412     , -1.98278112],\n",
       "       [ 0.297     , 10.48934293]])"
      ]
     },
     "execution_count": 57,
     "metadata": {},
     "output_type": "execute_result"
    }
   ],
   "source": [
    "# Get the lag order\n",
    "lag_order = model_fitted.k_ar\n",
    "print(lag_order)  #> 4\n",
    "\n",
    "# Input data for forecasting\n",
    "forecast_input = df_differenced.values[-lag_order:]\n",
    "forecast_input"
   ]
  },
  {
   "cell_type": "code",
   "execution_count": 58,
   "id": "9b98fedb",
   "metadata": {
    "scrolled": true
   },
   "outputs": [
    {
     "data": {
      "text/html": [
       "<div>\n",
       "<style scoped>\n",
       "    .dataframe tbody tr th:only-of-type {\n",
       "        vertical-align: middle;\n",
       "    }\n",
       "\n",
       "    .dataframe tbody tr th {\n",
       "        vertical-align: top;\n",
       "    }\n",
       "\n",
       "    .dataframe thead th {\n",
       "        text-align: right;\n",
       "    }\n",
       "</style>\n",
       "<table border=\"1\" class=\"dataframe\">\n",
       "  <thead>\n",
       "    <tr style=\"text-align: right;\">\n",
       "      <th></th>\n",
       "      <th>CPI_2d</th>\n",
       "      <th>ZORI_2d</th>\n",
       "    </tr>\n",
       "    <tr>\n",
       "      <th>DATE</th>\n",
       "      <th></th>\n",
       "      <th></th>\n",
       "    </tr>\n",
       "  </thead>\n",
       "  <tbody>\n",
       "    <tr>\n",
       "      <th>2022-06-01</th>\n",
       "      <td>-0.196554</td>\n",
       "      <td>-1.083348</td>\n",
       "    </tr>\n",
       "    <tr>\n",
       "      <th>2022-07-01</th>\n",
       "      <td>0.221501</td>\n",
       "      <td>2.437672</td>\n",
       "    </tr>\n",
       "    <tr>\n",
       "      <th>2022-08-01</th>\n",
       "      <td>0.030502</td>\n",
       "      <td>-4.137291</td>\n",
       "    </tr>\n",
       "    <tr>\n",
       "      <th>2022-09-01</th>\n",
       "      <td>-0.004706</td>\n",
       "      <td>0.044825</td>\n",
       "    </tr>\n",
       "  </tbody>\n",
       "</table>\n",
       "</div>"
      ],
      "text/plain": [
       "              CPI_2d   ZORI_2d\n",
       "DATE                          \n",
       "2022-06-01 -0.196554 -1.083348\n",
       "2022-07-01  0.221501  2.437672\n",
       "2022-08-01  0.030502 -4.137291\n",
       "2022-09-01 -0.004706  0.044825"
      ]
     },
     "execution_count": 58,
     "metadata": {},
     "output_type": "execute_result"
    }
   ],
   "source": [
    "# Forecast\n",
    "fc = model_fitted.forecast(y=forecast_input, steps=nobs)\n",
    "df_forecast = pd.DataFrame(fc, index=var_df.index[-nobs:], columns=var_df.columns + '_2d')\n",
    "df_forecast"
   ]
  },
  {
   "cell_type": "markdown",
   "id": "0cf450b1",
   "metadata": {},
   "source": [
    "These are the differenced results. We want to de-difference it to get it back in terms of the original."
   ]
  },
  {
   "cell_type": "code",
   "execution_count": 59,
   "id": "87f268dd",
   "metadata": {},
   "outputs": [],
   "source": [
    "def invert_transformation(df_train, df_forecast, second_diff=False):\n",
    "    \"\"\"Revert back the differencing to get the forecast to original scale.\"\"\"\n",
    "    df_fc = df_forecast.copy()\n",
    "    columns = df_train.columns\n",
    "    for col in columns:        \n",
    "        # Roll back 2nd Diff\n",
    "        if second_diff:\n",
    "            df_fc[str(col)+'_1d'] = (df_train[col].iloc[-1]-df_train[col].iloc[-2]) + df_fc[str(col)+'_2d'].cumsum()\n",
    "        # Roll back 1st Diff\n",
    "        df_fc[str(col)+'_forecast'] = df_train[col].iloc[-1] + df_fc[str(col)+'_1d'].cumsum()\n",
    "    return df_fc"
   ]
  },
  {
   "cell_type": "code",
   "execution_count": 60,
   "id": "fcbb4f71",
   "metadata": {
    "scrolled": true
   },
   "outputs": [
    {
     "data": {
      "text/html": [
       "<div>\n",
       "<style scoped>\n",
       "    .dataframe tbody tr th:only-of-type {\n",
       "        vertical-align: middle;\n",
       "    }\n",
       "\n",
       "    .dataframe tbody tr th {\n",
       "        vertical-align: top;\n",
       "    }\n",
       "\n",
       "    .dataframe thead th {\n",
       "        text-align: right;\n",
       "    }\n",
       "</style>\n",
       "<table border=\"1\" class=\"dataframe\">\n",
       "  <thead>\n",
       "    <tr style=\"text-align: right;\">\n",
       "      <th></th>\n",
       "      <th>CPI_2d</th>\n",
       "      <th>ZORI_2d</th>\n",
       "      <th>CPI_1d</th>\n",
       "      <th>CPI_forecast</th>\n",
       "      <th>ZORI_1d</th>\n",
       "      <th>ZORI_forecast</th>\n",
       "    </tr>\n",
       "    <tr>\n",
       "      <th>DATE</th>\n",
       "      <th></th>\n",
       "      <th></th>\n",
       "      <th></th>\n",
       "      <th></th>\n",
       "      <th></th>\n",
       "      <th></th>\n",
       "    </tr>\n",
       "  </thead>\n",
       "  <tbody>\n",
       "    <tr>\n",
       "      <th>2022-06-01</th>\n",
       "      <td>-0.196554</td>\n",
       "      <td>-1.083348</td>\n",
       "      <td>1.968446</td>\n",
       "      <td>367.084446</td>\n",
       "      <td>25.390923</td>\n",
       "      <td>2023.122183</td>\n",
       "    </tr>\n",
       "    <tr>\n",
       "      <th>2022-07-01</th>\n",
       "      <td>0.221501</td>\n",
       "      <td>2.437672</td>\n",
       "      <td>2.189947</td>\n",
       "      <td>369.274393</td>\n",
       "      <td>27.828596</td>\n",
       "      <td>2050.950778</td>\n",
       "    </tr>\n",
       "    <tr>\n",
       "      <th>2022-08-01</th>\n",
       "      <td>0.030502</td>\n",
       "      <td>-4.137291</td>\n",
       "      <td>2.220449</td>\n",
       "      <td>371.494842</td>\n",
       "      <td>23.691304</td>\n",
       "      <td>2074.642083</td>\n",
       "    </tr>\n",
       "    <tr>\n",
       "      <th>2022-09-01</th>\n",
       "      <td>-0.004706</td>\n",
       "      <td>0.044825</td>\n",
       "      <td>2.215743</td>\n",
       "      <td>373.710585</td>\n",
       "      <td>23.736129</td>\n",
       "      <td>2098.378212</td>\n",
       "    </tr>\n",
       "  </tbody>\n",
       "</table>\n",
       "</div>"
      ],
      "text/plain": [
       "              CPI_2d   ZORI_2d    CPI_1d  CPI_forecast    ZORI_1d  \\\n",
       "DATE                                                                \n",
       "2022-06-01 -0.196554 -1.083348  1.968446    367.084446  25.390923   \n",
       "2022-07-01  0.221501  2.437672  2.189947    369.274393  27.828596   \n",
       "2022-08-01  0.030502 -4.137291  2.220449    371.494842  23.691304   \n",
       "2022-09-01 -0.004706  0.044825  2.215743    373.710585  23.736129   \n",
       "\n",
       "            ZORI_forecast  \n",
       "DATE                       \n",
       "2022-06-01    2023.122183  \n",
       "2022-07-01    2050.950778  \n",
       "2022-08-01    2074.642083  \n",
       "2022-09-01    2098.378212  "
      ]
     },
     "execution_count": 60,
     "metadata": {},
     "output_type": "execute_result"
    }
   ],
   "source": [
    "df_results = invert_transformation(df_train, df_forecast, second_diff=True)        \n",
    "df_results"
   ]
  },
  {
   "cell_type": "markdown",
   "id": "ab989966",
   "metadata": {},
   "source": [
    "We plot our predictions against actual values."
   ]
  },
  {
   "cell_type": "code",
   "execution_count": 61,
   "id": "7bbbeef2",
   "metadata": {},
   "outputs": [
    {
     "data": {
      "image/png": "[encoded data removed]",
      "text/plain": [
       "<Figure size 1800x900 with 2 Axes>"
      ]
     },
     "metadata": {},
     "output_type": "display_data"
    }
   ],
   "source": [
    "fig, axes = plt.subplots(nrows=int(len(var_df.columns)/2), ncols=2, dpi=150, figsize=(12,6))\n",
    "for i, (col,ax) in enumerate(zip(var_df.columns, axes.flatten())):\n",
    "    df_results[col+'_forecast'].plot(legend=True, ax=ax).autoscale(axis='x',tight=True)\n",
    "    df_test[col][-nobs:].plot(legend=True, ax=ax);\n",
    "    ax.set_title(col + \": Forecast vs Actual\")\n",
    "    ax.xaxis.set_ticks_position('none')\n",
    "    ax.yaxis.set_ticks_position('none')\n",
    "    ax.spines[\"top\"].set_alpha(0)\n",
    "    ax.tick_params(labelsize=6)\n",
    "\n",
    "plt.tight_layout();"
   ]
  },
  {
   "cell_type": "markdown",
   "id": "359b06ee",
   "metadata": {},
   "source": [
    "### Step 5: Finding RMSE"
   ]
  },
  {
   "cell_type": "code",
   "execution_count": 62,
   "id": "338eedbd",
   "metadata": {},
   "outputs": [
    {
     "name": "stdout",
     "output_type": "stream",
     "text": [
      "Forecast Accuracy of: ZORI\n",
      "mape   :  0.0047\n",
      "me     :  9.7139\n",
      "mae    :  9.7139\n",
      "mpe    :  0.0047\n",
      "rmse   :  11.5318\n",
      "corr   :  0.995\n",
      "minmax :  0.0047\n"
     ]
    }
   ],
   "source": [
    "from statsmodels.tsa.stattools import acf\n",
    "def forecast_accuracy(forecast, actual):\n",
    "    mape = np.mean(np.abs(forecast - actual)/np.abs(actual))  # MAPE\n",
    "    me = np.mean(forecast - actual)             # ME\n",
    "    mae = np.mean(np.abs(forecast - actual))    # MAE\n",
    "    mpe = np.mean((forecast - actual)/actual)   # MPE\n",
    "    rmse = np.mean((forecast - actual)**2)**.5  # RMSE\n",
    "    corr = np.corrcoef(forecast, actual)[0,1]   # corr\n",
    "    mins = np.amin(np.hstack([forecast[:,None], \n",
    "                              actual[:,None]]), axis=1)\n",
    "    maxs = np.amax(np.hstack([forecast[:,None], \n",
    "                              actual[:,None]]), axis=1)\n",
    "    minmax = 1 - np.mean(mins/maxs)             # minmax\n",
    "    return({'mape':mape, 'me':me, 'mae': mae, \n",
    "            'mpe': mpe, 'rmse':rmse, 'corr':corr, 'minmax':minmax})\n",
    "\n",
    "print('Forecast Accuracy of: ZORI')\n",
    "accuracy_prod = forecast_accuracy(df_results['ZORI_forecast'].values, df_test['ZORI'].values)\n",
    "for k, v in accuracy_prod.items():\n",
    "    print(adjust(k), ': ', round(v,4))"
   ]
  },
  {
   "cell_type": "markdown",
   "id": "0738e591",
   "metadata": {},
   "source": [
    "**Congrats on making it to the end of the lab!**"
   ]
  },
  {
   "cell_type": "markdown",
   "id": "a9c11640",
   "metadata": {},
   "source": [
    "---\n",
    "## Feedback"
   ]
  },
  {
   "cell_type": "markdown",
   "id": "0570bb7e",
   "metadata": {
    "deletable": false,
    "editable": false
   },
   "source": [
    "**Question 4:** Please fill out this short [feedback form](https://forms.gle/xG5mo6UqvmpF1af78) to let us know your thoughts about this lab! We really appreciate your opinions and feedback! At the end of the Google form, you should see a codeword. Assign the codeword to the variable `codeword` below. "
   ]
  },
  {
   "cell_type": "code",
   "execution_count": 63,
   "id": "90144d87",
   "metadata": {
    "tags": []
   },
   "outputs": [],
   "source": [
    "codeword = 'train'"
   ]
  },
  {
   "cell_type": "code",
   "execution_count": 64,
   "id": "97610d0c",
   "metadata": {
    "deletable": false,
    "editable": false
   },
   "outputs": [
    {
     "data": {
      "text/html": [
       "<p><strong><pre style='display: inline;'>q4</pre></strong> passed! 🌈</p>"
      ],
      "text/plain": [
       "q4 results: All test cases passed!"
      ]
     },
     "execution_count": 64,
     "metadata": {},
     "output_type": "execute_result"
    }
   ],
   "source": [
    "grader.check(\"q4\")"
   ]
  },
  {
   "cell_type": "markdown",
   "id": "c3138d7a",
   "metadata": {
    "deletable": false,
    "editable": false
   },
   "source": [
    "## Submission\n",
    "\n",
    "Make sure you have run all cells in your notebook in order before running the cell below, so that all images/graphs appear in the output. The cell below will generate a zip file for you to submit. **Please save before exporting!**"
   ]
  },
  {
   "cell_type": "code",
   "execution_count": 65,
   "id": "ce5f461d",
   "metadata": {
    "deletable": false,
    "editable": false
   },
   "outputs": [
    {
     "name": "stdout",
     "output_type": "stream",
     "text": [
      "Running your submission against local test cases...\n",
      "\n",
      "\n",
      "Your submission received the following results when run against available test cases:\n",
      "\n",
      "    q1_2 results: All test cases passed!\n",
      "\n",
      "    q1_3 results: All test cases passed!\n",
      "\n",
      "    q2_1 results: All test cases passed!\n",
      "\n",
      "    q2_3 results: All test cases passed!\n",
      "\n",
      "    q2_4 results: All test cases passed!\n",
      "    q2_4 - 1 message: Correct. Our CPI series is already a seasonally adjusted series!\n",
      "\n",
      "    q3_1 results: All test cases passed!\n",
      "\n",
      "    q4 results: All test cases passed!\n"
     ]
    },
    {
     "data": {
      "text/html": [
       "\n",
       "                    <p>\n",
       "                        Your submission has been exported. Click\n",
       "                        <a href=\"lab09_2024_04_02T17_20_00_902227.zip\" download=\"lab09_2024_04_02T17_20_00_902227.zip\" target=\"_blank\">here</a> to download\n",
       "                        the zip file.\n",
       "                    </p>\n",
       "                "
      ],
      "text/plain": [
       "<IPython.core.display.HTML object>"
      ]
     },
     "metadata": {},
     "output_type": "display_data"
    }
   ],
   "source": [
    "# Save your notebook first, then run this cell to export your submission.\n",
    "grader.export(run_tests=True)"
   ]
  },
  {
   "cell_type": "markdown",
   "id": "5107a96b",
   "metadata": {},
   "source": [
    " "
   ]
  }
 ],
 "metadata": {
  "kernelspec": {
   "display_name": "Python 3 (ipykernel)",
   "language": "python",
   "name": "python3"
  },
  "language_info": {
   "codemirror_mode": {
    "name": "ipython",
    "version": 3
   },
   "file_extension": ".py",
   "mimetype": "text/x-python",
   "name": "python",
   "nbconvert_exporter": "python",
   "pygments_lexer": "ipython3",
   "version": "3.11.8"
  },
  "otter": {
   "OK_FORMAT": true,
   "export_pdf_failure_message": "PDF did not generate, please submit screenshots for question 1.1.",
   "require_no_pdf_confirmation": true,
   "tests": {
    "q1_2": {
     "name": "q1_2",
     "points": null,
     "suites": [
      {
       "cases": [
        {
         "code": ">>> assert zillow.shape == (90, 2)\n",
         "hidden": false,
         "locked": false
        },
        {
         "code": ">>> assert np.all(zillow.columns == ['DATE', 'ZORI'])\n",
         "hidden": false,
         "locked": false
        },
        {
         "code": ">>> assert zillow['DATE'].iloc[0] == pd.to_datetime('2015-03-31', format='%Y-%m-%d')\n",
         "hidden": false,
         "locked": false
        },
        {
         "code": ">>> assert np.isclose(zillow['ZORI'].iloc[0], 1370.3018057532663)\n",
         "hidden": false,
         "locked": false
        }
       ],
       "scored": true,
       "setup": "",
       "teardown": "",
       "type": "doctest"
      }
     ]
    },
    "q1_3": {
     "name": "q1_3",
     "points": null,
     "suites": [
      {
       "cases": [
        {
         "code": ">>> assert train.shape == (81, 1)\n",
         "hidden": false,
         "locked": false
        },
        {
         "code": ">>> assert test.shape == (9, 1)\n",
         "hidden": false,
         "locked": false
        },
        {
         "code": ">>> assert np.isclose(train['CPI'].mean(), 320.21020987654316)\n",
         "hidden": false,
         "locked": false
        },
        {
         "code": ">>> assert np.isclose(test['CPI'].mean(), 366.08233333333334)\n",
         "hidden": false,
         "locked": false
        }
       ],
       "scored": true,
       "setup": "",
       "teardown": "",
       "type": "doctest"
      }
     ]
    },
    "q2_1": {
     "name": "q2_1",
     "points": null,
     "suites": [
      {
       "cases": [
        {
         "code": ">>> assert q2_1 == 1 or q2_1 == 2\n",
         "hidden": false,
         "locked": false
        }
       ],
       "scored": true,
       "setup": "",
       "teardown": "",
       "type": "doctest"
      }
     ]
    },
    "q2_3": {
     "name": "q2_3",
     "points": 0,
     "suites": [
      {
       "cases": [
        {
         "code": ">>> assert m * 966984 == 11603808\n",
         "hidden": false,
         "locked": false
        }
       ],
       "scored": true,
       "setup": "",
       "teardown": "",
       "type": "doctest"
      }
     ]
    },
    "q2_4": {
     "name": "q2_4",
     "points": 0,
     "suites": [
      {
       "cases": [
        {
         "code": ">>> assert q2_4 == 1\n",
         "hidden": false,
         "locked": false,
         "success_message": "Correct. Our CPI series is already a seasonally adjusted series!"
        }
       ],
       "scored": true,
       "setup": "",
       "teardown": "",
       "type": "doctest"
      }
     ]
    },
    "q3_1": {
     "name": "q3_1",
     "points": 0,
     "suites": [
      {
       "cases": [
        {
         "code": ">>> assert combined.shape == (90, 4)\n",
         "hidden": false,
         "locked": false
        },
        {
         "code": ">>> assert np.allclose(combined['log CPI'].iloc[1:4:8], 5.649837)\n",
         "hidden": false,
         "locked": false
        },
        {
         "code": ">>> assert np.allclose(combined['log ZORI'].iloc[1:4:8], 7.231266)\n",
         "hidden": false,
         "locked": false
        }
       ],
       "scored": true,
       "setup": "",
       "teardown": "",
       "type": "doctest"
      }
     ]
    },
    "q4": {
     "name": "q4",
     "points": null,
     "suites": [
      {
       "cases": [
        {
         "code": ">>> assert sum([ord(c) for c in codeword]) ^ 966984 == 967510\n",
         "hidden": false,
         "locked": false
        }
       ],
       "scored": true,
       "setup": "",
       "teardown": "",
       "type": "doctest"
      }
     ]
    }
   }
  }
 },
 "nbformat": 4,
 "nbformat_minor": 5
}
